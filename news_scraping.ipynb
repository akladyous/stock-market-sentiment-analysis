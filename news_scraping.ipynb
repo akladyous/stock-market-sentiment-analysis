{
 "cells": [
  {
   "cell_type": "code",
   "execution_count": 1,
   "id": "million-nudist",
   "metadata": {
    "execution": {
     "iopub.execute_input": "2021-05-27T14:58:52.239595Z",
     "iopub.status.busy": "2021-05-27T14:58:52.239071Z",
     "iopub.status.idle": "2021-05-27T14:58:54.114083Z",
     "shell.execute_reply": "2021-05-27T14:58:54.113337Z",
     "shell.execute_reply.started": "2021-05-27T14:58:52.239495Z"
    },
    "tags": []
   },
   "outputs": [
    {
     "name": "stdin",
     "output_type": "stream",
     "text": [
      "server location local\n"
     ]
    },
    {
     "name": "stdout",
     "output_type": "stream",
     "text": [
      "running from Local\n"
     ]
    }
   ],
   "source": [
    "import __init__"
   ]
  },
  {
   "cell_type": "code",
   "execution_count": 2,
   "id": "scheduled-sewing",
   "metadata": {
    "execution": {
     "iopub.execute_input": "2021-05-27T14:58:56.549812Z",
     "iopub.status.busy": "2021-05-27T14:58:56.549117Z",
     "iopub.status.idle": "2021-05-27T14:58:56.893904Z",
     "shell.execute_reply": "2021-05-27T14:58:56.893509Z",
     "shell.execute_reply.started": "2021-05-27T14:58:56.549742Z"
    },
    "tags": []
   },
   "outputs": [],
   "source": [
    "import json\n",
    "from joblib import dump, load\n",
    "import pandas as pd\n",
    "import main\n",
    "from stocknewsapi import StockNewsAPI\n",
    "from scrapy import Scrapy"
   ]
  },
  {
   "cell_type": "code",
   "execution_count": 2,
   "id": "honest-efficiency",
   "metadata": {
    "execution": {
     "iopub.execute_input": "2021-05-26T15:19:30.228476Z",
     "iopub.status.busy": "2021-05-26T15:19:30.227964Z",
     "iopub.status.idle": "2021-05-26T15:19:30.235179Z",
     "shell.execute_reply": "2021-05-26T15:19:30.234069Z",
     "shell.execute_reply.started": "2021-05-26T15:19:30.228425Z"
    },
    "tags": []
   },
   "outputs": [],
   "source": [
    "token = load(\"./stocknewsapi/stocknewsapi_key.pkl\")"
   ]
  },
  {
   "cell_type": "code",
   "execution_count": 3,
   "id": "amended-roads",
   "metadata": {
    "execution": {
     "iopub.execute_input": "2021-05-26T06:00:20.564054Z",
     "iopub.status.busy": "2021-05-26T06:00:20.563572Z",
     "iopub.status.idle": "2021-05-26T06:00:20.569685Z",
     "shell.execute_reply": "2021-05-26T06:00:20.568615Z",
     "shell.execute_reply.started": "2021-05-26T06:00:20.564008Z"
    },
    "tags": []
   },
   "outputs": [],
   "source": [
    "start_date = \"2019-01-01\"\n",
    "end_date = \"2019-12-31\"\n",
    "tickers = \"AAPL\"\n",
    "file_name = './data/stock_news_api_' + start_date + '_' + end_date + '.pkl'"
   ]
  },
  {
   "cell_type": "code",
   "execution_count": 4,
   "id": "fifth-indie",
   "metadata": {
    "execution": {
     "iopub.execute_input": "2021-05-26T06:00:21.029296Z",
     "iopub.status.busy": "2021-05-26T06:00:21.028759Z",
     "iopub.status.idle": "2021-05-26T06:00:21.037495Z",
     "shell.execute_reply": "2021-05-26T06:00:21.036351Z",
     "shell.execute_reply.started": "2021-05-26T06:00:21.029245Z"
    },
    "tags": []
   },
   "outputs": [],
   "source": [
    "stocknewsapi = StockNewsAPI(token, start_date, end_date)"
   ]
  },
  {
   "cell_type": "code",
   "execution_count": 5,
   "id": "speaking-atlanta",
   "metadata": {
    "execution": {
     "iopub.execute_input": "2021-05-26T06:00:21.687731Z",
     "iopub.status.busy": "2021-05-26T06:00:21.687380Z",
     "iopub.status.idle": "2021-05-26T06:01:11.363701Z",
     "shell.execute_reply": "2021-05-26T06:01:11.362218Z",
     "shell.execute_reply.started": "2021-05-26T06:00:21.687698Z"
    }
   },
   "outputs": [
    {
     "name": "stdout",
     "output_type": "stream",
     "text": [
      "[ 100% ] https://stocknewsapi.com/api/v1?tickers=AAPL&type=article&token=timo8bdrdfcpfwweljogcb66iodw7egybu0y6qsw&fallback=true&country=USA&items=50&sortby=rank&pages=1&date=12232019-12272019"
     ]
    }
   ],
   "source": [
    "stocknewsapi_news = stocknewsapi.get_news(tickers, items=50, pages=1)"
   ]
  },
  {
   "cell_type": "code",
   "execution_count": 6,
   "id": "curious-bowling",
   "metadata": {
    "execution": {
     "iopub.execute_input": "2021-05-26T06:01:13.353211Z",
     "iopub.status.busy": "2021-05-26T06:01:13.352851Z",
     "iopub.status.idle": "2021-05-26T06:01:13.620050Z",
     "shell.execute_reply": "2021-05-26T06:01:13.619744Z",
     "shell.execute_reply.started": "2021-05-26T06:01:13.353177Z"
    }
   },
   "outputs": [
    {
     "data": {
      "text/plain": [
       "['./data/stock_news_api_2019-01-01_2019-12-31.pkl']"
      ]
     },
     "execution_count": 6,
     "metadata": {},
     "output_type": "execute_result"
    }
   ],
   "source": [
    "dump(stocknewsapi_news, file_name, compress=3)"
   ]
  },
  {
   "cell_type": "code",
   "execution_count": 12,
   "id": "confirmed-athens",
   "metadata": {
    "execution": {
     "iopub.execute_input": "2021-05-26T05:54:50.583015Z",
     "iopub.status.busy": "2021-05-26T05:54:50.582659Z",
     "iopub.status.idle": "2021-05-26T05:54:50.590159Z",
     "shell.execute_reply": "2021-05-26T05:54:50.588549Z",
     "shell.execute_reply.started": "2021-05-26T05:54:50.582982Z"
    },
    "tags": []
   },
   "outputs": [],
   "source": [
    "start_date = \"2020-01-01\"\n",
    "end_date = \"2020-12-31\"\n",
    "tickers = \"AAPL\"\n",
    "file_name = './data/stock_news_api_' + start_date + '_' + end_date + '.pkl'"
   ]
  },
  {
   "cell_type": "code",
   "execution_count": 13,
   "id": "criminal-shaft",
   "metadata": {
    "execution": {
     "iopub.execute_input": "2021-05-26T05:54:50.906297Z",
     "iopub.status.busy": "2021-05-26T05:54:50.905694Z",
     "iopub.status.idle": "2021-05-26T05:54:50.912719Z",
     "shell.execute_reply": "2021-05-26T05:54:50.911628Z",
     "shell.execute_reply.started": "2021-05-26T05:54:50.906233Z"
    }
   },
   "outputs": [],
   "source": [
    "stocknewsapi = StockNewsAPI(token, start_date, end_date)"
   ]
  },
  {
   "cell_type": "code",
   "execution_count": 14,
   "id": "general-accordance",
   "metadata": {
    "execution": {
     "iopub.execute_input": "2021-05-26T05:54:51.875227Z",
     "iopub.status.busy": "2021-05-26T05:54:51.874863Z",
     "iopub.status.idle": "2021-05-26T05:55:42.306833Z",
     "shell.execute_reply": "2021-05-26T05:55:42.305285Z",
     "shell.execute_reply.started": "2021-05-26T05:54:51.875195Z"
    }
   },
   "outputs": [
    {
     "name": "stdout",
     "output_type": "stream",
     "text": [
      "[ 100% ] https://stocknewsapi.com/api/v1?tickers=AAPL&type=article&token=timo8bdrdfcpfwweljogcb66iodw7egybu0y6qsw&fallback=true&country=USA&items=50&sortby=rank&pages=1&date=12222020-12262020"
     ]
    }
   ],
   "source": [
    "stocknewsapi_news = stocknewsapi.get_news(tickers, items=50, pages=1)"
   ]
  },
  {
   "cell_type": "code",
   "execution_count": 15,
   "id": "hungarian-tribute",
   "metadata": {
    "execution": {
     "iopub.execute_input": "2021-05-26T05:55:48.002660Z",
     "iopub.status.busy": "2021-05-26T05:55:48.002314Z",
     "iopub.status.idle": "2021-05-26T05:55:48.307246Z",
     "shell.execute_reply": "2021-05-26T05:55:48.306931Z",
     "shell.execute_reply.started": "2021-05-26T05:55:48.002626Z"
    }
   },
   "outputs": [
    {
     "data": {
      "text/plain": [
       "['./data/stock_news_api_2020-01-01_2020-12-31.pkl']"
      ]
     },
     "execution_count": 15,
     "metadata": {},
     "output_type": "execute_result"
    }
   ],
   "source": [
    "dump(stocknewsapi_news, file_name, compress=3)"
   ]
  },
  {
   "cell_type": "code",
   "execution_count": 3,
   "id": "mounted-sampling",
   "metadata": {
    "execution": {
     "iopub.execute_input": "2021-05-26T05:52:38.161084Z",
     "iopub.status.busy": "2021-05-26T05:52:38.160059Z",
     "iopub.status.idle": "2021-05-26T05:52:38.167903Z",
     "shell.execute_reply": "2021-05-26T05:52:38.166499Z",
     "shell.execute_reply.started": "2021-05-26T05:52:38.160966Z"
    },
    "tags": []
   },
   "outputs": [],
   "source": [
    "start_date = \"2021-01-01\"\n",
    "end_date = \"2021-04-30\"\n",
    "tickers = \"AAPL\"\n",
    "file_name = './data/stock_news_api_' + start_date + '_' + end_date + '.pkl'"
   ]
  },
  {
   "cell_type": "code",
   "execution_count": 4,
   "id": "ignored-karen",
   "metadata": {
    "execution": {
     "iopub.execute_input": "2021-05-26T05:52:40.888781Z",
     "iopub.status.busy": "2021-05-26T05:52:40.888388Z",
     "iopub.status.idle": "2021-05-26T05:52:40.896084Z",
     "shell.execute_reply": "2021-05-26T05:52:40.894059Z",
     "shell.execute_reply.started": "2021-05-26T05:52:40.888746Z"
    },
    "tags": []
   },
   "outputs": [],
   "source": [
    "stocknewsapi = StockNewsAPI(token, start_date, end_date)"
   ]
  },
  {
   "cell_type": "code",
   "execution_count": 5,
   "id": "black-bench",
   "metadata": {
    "execution": {
     "iopub.execute_input": "2021-05-26T05:52:43.005542Z",
     "iopub.status.busy": "2021-05-26T05:52:43.005183Z",
     "iopub.status.idle": "2021-05-26T05:52:59.410540Z",
     "shell.execute_reply": "2021-05-26T05:52:59.409002Z",
     "shell.execute_reply.started": "2021-05-26T05:52:43.005508Z"
    },
    "tags": []
   },
   "outputs": [
    {
     "name": "stdout",
     "output_type": "stream",
     "text": [
      "[ 100% ] https://stocknewsapi.com/api/v1?tickers=AAPL&type=article&token=timo8bdrdfcpfwweljogcb66iodw7egybu0y6qsw&fallback=true&country=USA&items=50&sortby=rank&pages=1&date=04232021-04272021"
     ]
    }
   ],
   "source": [
    "stocknewsapi_news = stocknewsapi.get_news(tickers, items=50, pages=1)"
   ]
  },
  {
   "cell_type": "code",
   "execution_count": 8,
   "id": "charming-transparency",
   "metadata": {
    "execution": {
     "iopub.execute_input": "2021-05-26T05:53:16.763417Z",
     "iopub.status.busy": "2021-05-26T05:53:16.762728Z",
     "iopub.status.idle": "2021-05-26T05:53:16.891676Z",
     "shell.execute_reply": "2021-05-26T05:53:16.891332Z",
     "shell.execute_reply.started": "2021-05-26T05:53:16.763350Z"
    }
   },
   "outputs": [
    {
     "data": {
      "text/plain": [
       "['./data/stock_news_api_2021-01-01_2021-04-30.pkl']"
      ]
     },
     "execution_count": 8,
     "metadata": {},
     "output_type": "execute_result"
    }
   ],
   "source": [
    "dump(stocknewsapi_news, file_name, compress=3)"
   ]
  },
  {
   "cell_type": "code",
   "execution_count": 3,
   "id": "above-palestine",
   "metadata": {
    "execution": {
     "iopub.execute_input": "2021-05-26T15:19:39.689652Z",
     "iopub.status.busy": "2021-05-26T15:19:39.689269Z",
     "iopub.status.idle": "2021-05-26T15:19:40.048924Z",
     "shell.execute_reply": "2021-05-26T15:19:40.048534Z",
     "shell.execute_reply.started": "2021-05-26T15:19:39.689618Z"
    },
    "tags": []
   },
   "outputs": [],
   "source": [
    "apple_news = list()\n",
    "apple_news_2019 = load('./data/stock_news_api_2019-01-01_2019-12-31.pkl')\n",
    "apple_news_2020 = load('./data/stock_news_api_2020-01-01_2020-12-31.pkl')\n",
    "apple_news_2021 = load('./data/stock_news_api_2021-01-01_2021-04-30.pkl')"
   ]
  },
  {
   "cell_type": "code",
   "execution_count": 4,
   "id": "retired-extreme",
   "metadata": {
    "execution": {
     "iopub.execute_input": "2021-05-26T15:19:42.042096Z",
     "iopub.status.busy": "2021-05-26T15:19:42.041711Z",
     "iopub.status.idle": "2021-05-26T15:19:42.046603Z",
     "shell.execute_reply": "2021-05-26T15:19:42.045671Z",
     "shell.execute_reply.started": "2021-05-26T15:19:42.042059Z"
    },
    "tags": []
   },
   "outputs": [],
   "source": [
    "apple_news.extend(apple_news_2019)\n",
    "apple_news.extend(apple_news_2020)\n",
    "apple_news.extend(apple_news_2021)"
   ]
  },
  {
   "cell_type": "code",
   "execution_count": 11,
   "id": "powered-sarah",
   "metadata": {
    "execution": {
     "iopub.execute_input": "2021-05-27T17:29:56.995881Z",
     "iopub.status.busy": "2021-05-27T17:29:56.995532Z",
     "iopub.status.idle": "2021-05-27T17:29:57.009762Z",
     "shell.execute_reply": "2021-05-27T17:29:57.000327Z",
     "shell.execute_reply.started": "2021-05-27T17:29:56.995848Z"
    }
   },
   "outputs": [],
   "source": [
    "apple_news_df = pd.DataFrame(apple_news)"
   ]
  },
  {
   "cell_type": "code",
   "execution_count": 13,
   "id": "double-profit",
   "metadata": {
    "execution": {
     "iopub.execute_input": "2021-05-26T17:05:58.090585Z",
     "iopub.status.busy": "2021-05-26T17:05:58.090060Z",
     "iopub.status.idle": "2021-05-26T17:05:58.224887Z",
     "shell.execute_reply": "2021-05-26T17:05:58.224501Z",
     "shell.execute_reply.started": "2021-05-26T17:05:58.090544Z"
    },
    "tags": []
   },
   "outputs": [],
   "source": [
    "apple_news_df.to_csv('./data/apple_news.csv')"
   ]
  },
  {
   "cell_type": "code",
   "execution_count": 128,
   "id": "latin-prayer",
   "metadata": {
    "execution": {
     "iopub.execute_input": "2021-05-27T18:38:00.350217Z",
     "iopub.status.busy": "2021-05-27T18:38:00.349683Z",
     "iopub.status.idle": "2021-05-27T18:38:00.438222Z",
     "shell.execute_reply": "2021-05-27T18:38:00.437794Z",
     "shell.execute_reply.started": "2021-05-27T18:38:00.350152Z"
    },
    "tags": []
   },
   "outputs": [],
   "source": [
    "apple_news_df = pd.read_csv('./data/apple_news.csv')"
   ]
  },
  {
   "cell_type": "code",
   "execution_count": 5,
   "id": "dimensional-breakdown",
   "metadata": {
    "execution": {
     "iopub.execute_input": "2021-05-27T15:03:59.700463Z",
     "iopub.status.busy": "2021-05-27T15:03:59.699703Z",
     "iopub.status.idle": "2021-05-27T17:24:35.429495Z",
     "shell.execute_reply": "2021-05-27T17:24:35.429104Z",
     "shell.execute_reply.started": "2021-05-27T15:03:59.700381Z"
    },
    "tags": []
   },
   "outputs": [
    {
     "name": "stdout",
     "output_type": "stream",
     "text": [
      "10450/10450 100% https://www.fool.com/investing/2021/04/25/apple-takes-aim-at-spotifys-podcast-ambitions/k/ck-before-earningsface-off-947591.html?SNAPIe-macs/inesses-idUSKBN2CD1MD-947746.html?SNAPI-giant-940648.html?SNAPItch%2Fpf%20(MarketWatch.com%20-%20Personal%20Finance%20News)\r"
     ]
    }
   ],
   "source": [
    "articles, missing_articles = Scrapy.scrap(apple_news_df.news_url)"
   ]
  },
  {
   "cell_type": "code",
   "execution_count": 6,
   "id": "comfortable-certificate",
   "metadata": {
    "execution": {
     "iopub.execute_input": "2021-05-27T17:25:13.017178Z",
     "iopub.status.busy": "2021-05-27T17:25:13.016464Z",
     "iopub.status.idle": "2021-05-27T17:25:14.511533Z",
     "shell.execute_reply": "2021-05-27T17:25:14.511240Z",
     "shell.execute_reply.started": "2021-05-27T17:25:13.017108Z"
    },
    "tags": []
   },
   "outputs": [
    {
     "data": {
      "text/plain": [
       "['./data/articles.pkl']"
      ]
     },
     "execution_count": 6,
     "metadata": {},
     "output_type": "execute_result"
    }
   ],
   "source": [
    "dump(articles, './data/articles.pkl', compress=5)"
   ]
  },
  {
   "cell_type": "code",
   "execution_count": 129,
   "id": "senior-gross",
   "metadata": {
    "execution": {
     "iopub.execute_input": "2021-05-27T18:39:08.481156Z",
     "iopub.status.busy": "2021-05-27T18:39:08.480538Z",
     "iopub.status.idle": "2021-05-27T18:39:08.493204Z",
     "shell.execute_reply": "2021-05-27T18:39:08.492136Z",
     "shell.execute_reply.started": "2021-05-27T18:39:08.481074Z"
    }
   },
   "outputs": [],
   "source": [
    "# combine the dataframe with the scraped articles to a new dataframe\n",
    "apple_news_df['articles'] = articles"
   ]
  },
  {
   "cell_type": "code",
   "execution_count": 135,
   "id": "interim-vacation",
   "metadata": {
    "execution": {
     "iopub.execute_input": "2021-05-27T18:43:08.570829Z",
     "iopub.status.busy": "2021-05-27T18:43:08.570228Z",
     "iopub.status.idle": "2021-05-27T18:43:09.282320Z",
     "shell.execute_reply": "2021-05-27T18:43:09.281996Z",
     "shell.execute_reply.started": "2021-05-27T18:43:08.570764Z"
    }
   },
   "outputs": [],
   "source": [
    "apple_news_df.to_csv('./data/apple_news_scraped.csv')"
   ]
  }
 ],
 "metadata": {
  "kernelspec": {
   "display_name": "Python 3",
   "language": "python",
   "name": "python3"
  },
  "language_info": {
   "codemirror_mode": {
    "name": "ipython",
    "version": 3
   },
   "file_extension": ".py",
   "mimetype": "text/x-python",
   "name": "python",
   "nbconvert_exporter": "python",
   "pygments_lexer": "ipython3",
   "version": "3.8.8"
  }
 },
 "nbformat": 4,
 "nbformat_minor": 5
}
