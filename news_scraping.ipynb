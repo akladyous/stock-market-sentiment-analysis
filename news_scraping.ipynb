{
 "cells": [
  {
   "cell_type": "code",
   "execution_count": 1,
   "id": "immune-vegetable",
   "metadata": {
    "tags": []
   },
   "outputs": [],
   "source": [
    "import __init__"
   ]
  },
  {
   "cell_type": "code",
   "execution_count": 2,
   "id": "applied-contents",
   "metadata": {
    "execution": {
     "iopub.execute_input": "2021-05-27T14:58:56.549812Z",
     "iopub.status.busy": "2021-05-27T14:58:56.549117Z",
     "iopub.status.idle": "2021-05-27T14:58:56.893904Z",
     "shell.execute_reply": "2021-05-27T14:58:56.893509Z",
     "shell.execute_reply.started": "2021-05-27T14:58:56.549742Z"
    },
    "tags": []
   },
   "outputs": [],
   "source": [
    "import json\n",
    "from joblib import dump, load\n",
    "import pandas as pd\n",
    "import main\n",
    "from stocknewsapi import StockNewsAPI\n",
    "from scrapy import Scrapy"
   ]
  },
  {
   "cell_type": "code",
   "execution_count": 2,
   "id": "introductory-association",
   "metadata": {
    "execution": {
     "iopub.execute_input": "2021-05-26T15:19:30.228476Z",
     "iopub.status.busy": "2021-05-26T15:19:30.227964Z",
     "iopub.status.idle": "2021-05-26T15:19:30.235179Z",
     "shell.execute_reply": "2021-05-26T15:19:30.234069Z",
     "shell.execute_reply.started": "2021-05-26T15:19:30.228425Z"
    },
    "tags": []
   },
   "outputs": [],
   "source": [
    "token = load(\"./stocknewsapi/stocknewsapi_key.pkl\")"
   ]
  },
  {
   "cell_type": "code",
   "execution_count": 3,
   "id": "classified-bearing",
   "metadata": {
    "execution": {
     "iopub.execute_input": "2021-05-26T06:00:20.564054Z",
     "iopub.status.busy": "2021-05-26T06:00:20.563572Z",
     "iopub.status.idle": "2021-05-26T06:00:20.569685Z",
     "shell.execute_reply": "2021-05-26T06:00:20.568615Z",
     "shell.execute_reply.started": "2021-05-26T06:00:20.564008Z"
    },
    "tags": []
   },
   "outputs": [],
   "source": [
    "start_date = \"2019-01-01\"\n",
    "end_date = \"2019-12-31\"\n",
    "tickers = \"AAPL\"\n",
    "file_name = './data/stock_news_api_' + start_date + '_' + end_date + '.pkl'"
   ]
  },
  {
   "cell_type": "code",
   "execution_count": 4,
   "id": "announced-governor",
   "metadata": {
    "execution": {
     "iopub.execute_input": "2021-05-26T06:00:21.029296Z",
     "iopub.status.busy": "2021-05-26T06:00:21.028759Z",
     "iopub.status.idle": "2021-05-26T06:00:21.037495Z",
     "shell.execute_reply": "2021-05-26T06:00:21.036351Z",
     "shell.execute_reply.started": "2021-05-26T06:00:21.029245Z"
    },
    "tags": []
   },
   "outputs": [],
   "source": [
    "stocknewsapi = StockNewsAPI(token, start_date, end_date)"
   ]
  },
  {
   "cell_type": "code",
   "execution_count": 5,
   "id": "mature-offset",
   "metadata": {
    "execution": {
     "iopub.execute_input": "2021-05-26T06:00:21.687731Z",
     "iopub.status.busy": "2021-05-26T06:00:21.687380Z",
     "iopub.status.idle": "2021-05-26T06:01:11.363701Z",
     "shell.execute_reply": "2021-05-26T06:01:11.362218Z",
     "shell.execute_reply.started": "2021-05-26T06:00:21.687698Z"
    }
   },
   "outputs": [
    {
     "name": "stdout",
     "output_type": "stream",
     "text": [
      "[ 100% ] https://stocknewsapi.com/api/v1?tickers=AAPL&type=article&token=timo8bdrdfcpfwweljogcb66iodw7egybu0y6qsw&fallback=true&country=USA&items=50&sortby=rank&pages=1&date=12232019-12272019"
     ]
    }
   ],
   "source": [
    "stocknewsapi_news = stocknewsapi.get_news(tickers, items=50, pages=1)"
   ]
  },
  {
   "cell_type": "code",
   "execution_count": 6,
   "id": "pressed-billy",
   "metadata": {
    "execution": {
     "iopub.execute_input": "2021-05-26T06:01:13.353211Z",
     "iopub.status.busy": "2021-05-26T06:01:13.352851Z",
     "iopub.status.idle": "2021-05-26T06:01:13.620050Z",
     "shell.execute_reply": "2021-05-26T06:01:13.619744Z",
     "shell.execute_reply.started": "2021-05-26T06:01:13.353177Z"
    }
   },
   "outputs": [
    {
     "data": {
      "text/plain": [
       "['./data/stock_news_api_2019-01-01_2019-12-31.pkl']"
      ]
     },
     "execution_count": 6,
     "metadata": {},
     "output_type": "execute_result"
    }
   ],
   "source": [
    "dump(stocknewsapi_news, file_name, compress=3)"
   ]
  },
  {
   "cell_type": "code",
   "execution_count": 12,
   "id": "quiet-eligibility",
   "metadata": {
    "execution": {
     "iopub.execute_input": "2021-05-26T05:54:50.583015Z",
     "iopub.status.busy": "2021-05-26T05:54:50.582659Z",
     "iopub.status.idle": "2021-05-26T05:54:50.590159Z",
     "shell.execute_reply": "2021-05-26T05:54:50.588549Z",
     "shell.execute_reply.started": "2021-05-26T05:54:50.582982Z"
    },
    "tags": []
   },
   "outputs": [],
   "source": [
    "start_date = \"2020-01-01\"\n",
    "end_date = \"2020-12-31\"\n",
    "tickers = \"AAPL\"\n",
    "file_name = './data/stock_news_api_' + start_date + '_' + end_date + '.pkl'"
   ]
  },
  {
   "cell_type": "code",
   "execution_count": 13,
   "id": "dangerous-holder",
   "metadata": {
    "execution": {
     "iopub.execute_input": "2021-05-26T05:54:50.906297Z",
     "iopub.status.busy": "2021-05-26T05:54:50.905694Z",
     "iopub.status.idle": "2021-05-26T05:54:50.912719Z",
     "shell.execute_reply": "2021-05-26T05:54:50.911628Z",
     "shell.execute_reply.started": "2021-05-26T05:54:50.906233Z"
    }
   },
   "outputs": [],
   "source": [
    "stocknewsapi = StockNewsAPI(token, start_date, end_date)"
   ]
  },
  {
   "cell_type": "code",
   "execution_count": 14,
   "id": "imposed-insert",
   "metadata": {
    "execution": {
     "iopub.execute_input": "2021-05-26T05:54:51.875227Z",
     "iopub.status.busy": "2021-05-26T05:54:51.874863Z",
     "iopub.status.idle": "2021-05-26T05:55:42.306833Z",
     "shell.execute_reply": "2021-05-26T05:55:42.305285Z",
     "shell.execute_reply.started": "2021-05-26T05:54:51.875195Z"
    }
   },
   "outputs": [
    {
     "name": "stdout",
     "output_type": "stream",
     "text": [
      "[ 100% ] https://stocknewsapi.com/api/v1?tickers=AAPL&type=article&token=timo8bdrdfcpfwweljogcb66iodw7egybu0y6qsw&fallback=true&country=USA&items=50&sortby=rank&pages=1&date=12222020-12262020"
     ]
    }
   ],
   "source": [
    "stocknewsapi_news = stocknewsapi.get_news(tickers, items=50, pages=1)"
   ]
  },
  {
   "cell_type": "code",
   "execution_count": 15,
   "id": "nonprofit-vacation",
   "metadata": {
    "execution": {
     "iopub.execute_input": "2021-05-26T05:55:48.002660Z",
     "iopub.status.busy": "2021-05-26T05:55:48.002314Z",
     "iopub.status.idle": "2021-05-26T05:55:48.307246Z",
     "shell.execute_reply": "2021-05-26T05:55:48.306931Z",
     "shell.execute_reply.started": "2021-05-26T05:55:48.002626Z"
    }
   },
   "outputs": [
    {
     "data": {
      "text/plain": [
       "['./data/stock_news_api_2020-01-01_2020-12-31.pkl']"
      ]
     },
     "execution_count": 15,
     "metadata": {},
     "output_type": "execute_result"
    }
   ],
   "source": [
    "dump(stocknewsapi_news, file_name, compress=3)"
   ]
  },
  {
   "cell_type": "code",
   "execution_count": 3,
   "id": "consecutive-motor",
   "metadata": {
    "execution": {
     "iopub.execute_input": "2021-05-26T05:52:38.161084Z",
     "iopub.status.busy": "2021-05-26T05:52:38.160059Z",
     "iopub.status.idle": "2021-05-26T05:52:38.167903Z",
     "shell.execute_reply": "2021-05-26T05:52:38.166499Z",
     "shell.execute_reply.started": "2021-05-26T05:52:38.160966Z"
    },
    "tags": []
   },
   "outputs": [],
   "source": [
    "start_date = \"2021-01-01\"\n",
    "end_date = \"2021-04-30\"\n",
    "tickers = \"AAPL\"\n",
    "file_name = './data/stock_news_api_' + start_date + '_' + end_date + '.pkl'"
   ]
  },
  {
   "cell_type": "code",
   "execution_count": 4,
   "id": "piano-premiere",
   "metadata": {
    "execution": {
     "iopub.execute_input": "2021-05-26T05:52:40.888781Z",
     "iopub.status.busy": "2021-05-26T05:52:40.888388Z",
     "iopub.status.idle": "2021-05-26T05:52:40.896084Z",
     "shell.execute_reply": "2021-05-26T05:52:40.894059Z",
     "shell.execute_reply.started": "2021-05-26T05:52:40.888746Z"
    },
    "tags": []
   },
   "outputs": [],
   "source": [
    "stocknewsapi = StockNewsAPI(token, start_date, end_date)"
   ]
  },
  {
   "cell_type": "code",
   "execution_count": 5,
   "id": "related-anime",
   "metadata": {
    "execution": {
     "iopub.execute_input": "2021-05-26T05:52:43.005542Z",
     "iopub.status.busy": "2021-05-26T05:52:43.005183Z",
     "iopub.status.idle": "2021-05-26T05:52:59.410540Z",
     "shell.execute_reply": "2021-05-26T05:52:59.409002Z",
     "shell.execute_reply.started": "2021-05-26T05:52:43.005508Z"
    },
    "tags": []
   },
   "outputs": [
    {
     "name": "stdout",
     "output_type": "stream",
     "text": [
      "[ 100% ] https://stocknewsapi.com/api/v1?tickers=AAPL&type=article&token=timo8bdrdfcpfwweljogcb66iodw7egybu0y6qsw&fallback=true&country=USA&items=50&sortby=rank&pages=1&date=04232021-04272021"
     ]
    }
   ],
   "source": [
    "stocknewsapi_news = stocknewsapi.get_news(tickers, items=50, pages=1)"
   ]
  },
  {
   "cell_type": "code",
   "execution_count": 8,
   "id": "quick-cathedral",
   "metadata": {
    "execution": {
     "iopub.execute_input": "2021-05-26T05:53:16.763417Z",
     "iopub.status.busy": "2021-05-26T05:53:16.762728Z",
     "iopub.status.idle": "2021-05-26T05:53:16.891676Z",
     "shell.execute_reply": "2021-05-26T05:53:16.891332Z",
     "shell.execute_reply.started": "2021-05-26T05:53:16.763350Z"
    }
   },
   "outputs": [
    {
     "data": {
      "text/plain": [
       "['./data/stock_news_api_2021-01-01_2021-04-30.pkl']"
      ]
     },
     "execution_count": 8,
     "metadata": {},
     "output_type": "execute_result"
    }
   ],
   "source": [
    "dump(stocknewsapi_news, file_name, compress=3)"
   ]
  },
  {
   "cell_type": "code",
   "execution_count": 3,
   "id": "accompanied-accessory",
   "metadata": {
    "execution": {
     "iopub.execute_input": "2021-05-26T15:19:39.689652Z",
     "iopub.status.busy": "2021-05-26T15:19:39.689269Z",
     "iopub.status.idle": "2021-05-26T15:19:40.048924Z",
     "shell.execute_reply": "2021-05-26T15:19:40.048534Z",
     "shell.execute_reply.started": "2021-05-26T15:19:39.689618Z"
    },
    "tags": []
   },
   "outputs": [],
   "source": [
    "apple_news = list()\n",
    "apple_news_2019 = load('./data/stock_news_api_2019-01-01_2019-12-31.pkl')\n",
    "apple_news_2020 = load('./data/stock_news_api_2020-01-01_2020-12-31.pkl')\n",
    "apple_news_2021 = load('./data/stock_news_api_2021-01-01_2021-04-30.pkl')"
   ]
  },
  {
   "cell_type": "code",
   "execution_count": 4,
   "id": "hourly-oklahoma",
   "metadata": {
    "execution": {
     "iopub.execute_input": "2021-05-26T15:19:42.042096Z",
     "iopub.status.busy": "2021-05-26T15:19:42.041711Z",
     "iopub.status.idle": "2021-05-26T15:19:42.046603Z",
     "shell.execute_reply": "2021-05-26T15:19:42.045671Z",
     "shell.execute_reply.started": "2021-05-26T15:19:42.042059Z"
    },
    "tags": []
   },
   "outputs": [],
   "source": [
    "apple_news.extend(apple_news_2019)\n",
    "apple_news.extend(apple_news_2020)\n",
    "apple_news.extend(apple_news_2021)"
   ]
  },
  {
   "cell_type": "code",
   "execution_count": 11,
   "id": "contained-pilot",
   "metadata": {
    "execution": {
     "iopub.execute_input": "2021-05-27T17:29:56.995881Z",
     "iopub.status.busy": "2021-05-27T17:29:56.995532Z",
     "iopub.status.idle": "2021-05-27T17:29:57.009762Z",
     "shell.execute_reply": "2021-05-27T17:29:57.000327Z",
     "shell.execute_reply.started": "2021-05-27T17:29:56.995848Z"
    }
   },
   "outputs": [],
   "source": [
    "apple_news_df = pd.DataFrame(apple_news)"
   ]
  },
  {
   "cell_type": "code",
   "execution_count": 13,
   "id": "proud-admission",
   "metadata": {
    "execution": {
     "iopub.execute_input": "2021-05-26T17:05:58.090585Z",
     "iopub.status.busy": "2021-05-26T17:05:58.090060Z",
     "iopub.status.idle": "2021-05-26T17:05:58.224887Z",
     "shell.execute_reply": "2021-05-26T17:05:58.224501Z",
     "shell.execute_reply.started": "2021-05-26T17:05:58.090544Z"
    },
    "tags": []
   },
   "outputs": [],
   "source": [
    "apple_news_df.to_csv('./data/apple_news.csv')"
   ]
  },
  {
   "cell_type": "code",
   "execution_count": 128,
   "id": "irish-swing",
   "metadata": {
    "execution": {
     "iopub.execute_input": "2021-05-27T18:38:00.350217Z",
     "iopub.status.busy": "2021-05-27T18:38:00.349683Z",
     "iopub.status.idle": "2021-05-27T18:38:00.438222Z",
     "shell.execute_reply": "2021-05-27T18:38:00.437794Z",
     "shell.execute_reply.started": "2021-05-27T18:38:00.350152Z"
    },
    "tags": []
   },
   "outputs": [],
   "source": [
    "apple_news_df = pd.read_csv('./data/apple_news.csv')"
   ]
  },
  {
   "cell_type": "code",
   "execution_count": 5,
   "id": "unavailable-priest",
   "metadata": {
    "execution": {
     "iopub.execute_input": "2021-05-27T15:03:59.700463Z",
     "iopub.status.busy": "2021-05-27T15:03:59.699703Z",
     "iopub.status.idle": "2021-05-27T17:24:35.429495Z",
     "shell.execute_reply": "2021-05-27T17:24:35.429104Z",
     "shell.execute_reply.started": "2021-05-27T15:03:59.700381Z"
    },
    "tags": []
   },
   "outputs": [
    {
     "name": "stdout",
     "output_type": "stream",
     "text": [
      "10450/10450 100% https://www.fool.com/investing/2021/04/25/apple-takes-aim-at-spotifys-podcast-ambitions/k/ck-before-earningsface-off-947591.html?SNAPIe-macs/inesses-idUSKBN2CD1MD-947746.html?SNAPI-giant-940648.html?SNAPItch%2Fpf%20(MarketWatch.com%20-%20Personal%20Finance%20News)\r"
     ]
    }
   ],
   "source": [
    "articles, missing_articles = Scrapy.scrap(apple_news_df.news_url)"
   ]
  },
  {
   "cell_type": "code",
   "execution_count": 6,
   "id": "subjective-shoot",
   "metadata": {
    "execution": {
     "iopub.execute_input": "2021-05-27T17:25:13.017178Z",
     "iopub.status.busy": "2021-05-27T17:25:13.016464Z",
     "iopub.status.idle": "2021-05-27T17:25:14.511533Z",
     "shell.execute_reply": "2021-05-27T17:25:14.511240Z",
     "shell.execute_reply.started": "2021-05-27T17:25:13.017108Z"
    },
    "tags": []
   },
   "outputs": [
    {
     "data": {
      "text/plain": [
       "['./data/articles.pkl']"
      ]
     },
     "execution_count": 6,
     "metadata": {},
     "output_type": "execute_result"
    }
   ],
   "source": [
    "dump(articles, './data/articles.pkl', compress=5)"
   ]
  },
  {
   "cell_type": "code",
   "execution_count": 129,
   "id": "overhead-african",
   "metadata": {
    "execution": {
     "iopub.execute_input": "2021-05-27T18:39:08.481156Z",
     "iopub.status.busy": "2021-05-27T18:39:08.480538Z",
     "iopub.status.idle": "2021-05-27T18:39:08.493204Z",
     "shell.execute_reply": "2021-05-27T18:39:08.492136Z",
     "shell.execute_reply.started": "2021-05-27T18:39:08.481074Z"
    }
   },
   "outputs": [],
   "source": [
    "# combine the dataframe with the scraped articles to a new dataframe\n",
    "apple_news_df['articles'] = articles"
   ]
  },
  {
   "cell_type": "code",
   "execution_count": 135,
   "id": "assigned-inside",
   "metadata": {
    "execution": {
     "iopub.execute_input": "2021-05-27T18:43:08.570829Z",
     "iopub.status.busy": "2021-05-27T18:43:08.570228Z",
     "iopub.status.idle": "2021-05-27T18:43:09.282320Z",
     "shell.execute_reply": "2021-05-27T18:43:09.281996Z",
     "shell.execute_reply.started": "2021-05-27T18:43:08.570764Z"
    }
   },
   "outputs": [],
   "source": [
    "apple_news_df.to_csv('./data/apple_news_scraped.csv.gz', compression='gzip')"
   ]
  },
  {
   "cell_type": "code",
   "execution_count": 4,
   "id": "045caba7-97c1-4e0a-ae7b-4751f8250a86",
   "metadata": {},
   "outputs": [],
   "source": [
    "apple_news_df = pd.read_csv('./data/apple_news_scraped.csv.gz')"
   ]
  },
  {
   "cell_type": "code",
   "execution_count": 6,
   "id": "db85d8c5-05cf-4c4e-ac30-d699f92b8641",
   "metadata": {},
   "outputs": [
    {
     "data": {
      "text/html": [
       "<div>\n",
       "<style scoped>\n",
       "    .dataframe tbody tr th:only-of-type {\n",
       "        vertical-align: middle;\n",
       "    }\n",
       "\n",
       "    .dataframe tbody tr th {\n",
       "        vertical-align: top;\n",
       "    }\n",
       "\n",
       "    .dataframe thead th {\n",
       "        text-align: right;\n",
       "    }\n",
       "</style>\n",
       "<table border=\"1\" class=\"dataframe\">\n",
       "  <thead>\n",
       "    <tr style=\"text-align: right;\">\n",
       "      <th></th>\n",
       "      <th>news_url</th>\n",
       "      <th>image_url</th>\n",
       "      <th>title</th>\n",
       "      <th>text</th>\n",
       "      <th>source_name</th>\n",
       "      <th>date</th>\n",
       "      <th>topics</th>\n",
       "      <th>sentiment</th>\n",
       "      <th>type</th>\n",
       "      <th>tickers</th>\n",
       "      <th>articles</th>\n",
       "    </tr>\n",
       "  </thead>\n",
       "  <tbody>\n",
       "    <tr>\n",
       "      <th>0</th>\n",
       "      <td>https://www.cnbc.com/2021/05/25/home-prices-in...</td>\n",
       "      <td>https://cdn.snapi.dev/images/v1/b/m/104669168-...</td>\n",
       "      <td>Home prices in March saw highest growth in ove...</td>\n",
       "      <td>Home prices in March were up 13%, one of the l...</td>\n",
       "      <td>CNBC</td>\n",
       "      <td>Tue, 25 May 2021 09:01:19 -0400</td>\n",
       "      <td>[]</td>\n",
       "      <td>Neutral</td>\n",
       "      <td>Article</td>\n",
       "      <td>NaN</td>\n",
       "      <td>Home prices in March were 13.2% higher in Mar...</td>\n",
       "    </tr>\n",
       "    <tr>\n",
       "      <th>1</th>\n",
       "      <td>https://www.reuters.com/article/us-usa-economy...</td>\n",
       "      <td>https://cdn.snapi.dev/images/v1/a/s/m02d202105...</td>\n",
       "      <td>U.S. home prices rose more than expected in Ma...</td>\n",
       "      <td>U.S. single-family home prices in 20 key urban...</td>\n",
       "      <td>Reuters</td>\n",
       "      <td>Tue, 25 May 2021 09:09:00 -0400</td>\n",
       "      <td>[]</td>\n",
       "      <td>Neutral</td>\n",
       "      <td>Article</td>\n",
       "      <td>NaN</td>\n",
       "      <td>U.S. single-family home prices in 20 key urban...</td>\n",
       "    </tr>\n",
       "    <tr>\n",
       "      <th>2</th>\n",
       "      <td>https://www.reuters.com/article/us-usa-economy...</td>\n",
       "      <td>https://cdn.snapi.dev/images/v1/8/c/m02d202105...</td>\n",
       "      <td>U.S. new home sales drop in April; March sales...</td>\n",
       "      <td>Sales of new U.S. single-family homes dropped ...</td>\n",
       "      <td>Reuters</td>\n",
       "      <td>Tue, 25 May 2021 10:33:00 -0400</td>\n",
       "      <td>[]</td>\n",
       "      <td>Negative</td>\n",
       "      <td>Article</td>\n",
       "      <td>NaN</td>\n",
       "      <td>A carpenter works on building new townhomes th...</td>\n",
       "    </tr>\n",
       "    <tr>\n",
       "      <th>3</th>\n",
       "      <td>https://www.reuters.com/article/us-usa-congres...</td>\n",
       "      <td>https://cdn.snapi.dev/images/v1/q/k/m02d202105...</td>\n",
       "      <td>Wall Street bank CEOs to tout COVID relief pus...</td>\n",
       "      <td>Wall Street bank chiefs will tout the role the...</td>\n",
       "      <td>Reuters</td>\n",
       "      <td>Tue, 25 May 2021 07:10:00 -0400</td>\n",
       "      <td>['CEO']</td>\n",
       "      <td>Positive</td>\n",
       "      <td>Article</td>\n",
       "      <td>NaN</td>\n",
       "      <td>Wall Street bank chiefs will tout the role the...</td>\n",
       "    </tr>\n",
       "    <tr>\n",
       "      <th>4</th>\n",
       "      <td>https://www.cnn.com/2021/05/25/investing/washi...</td>\n",
       "      <td>https://cdn.snapi.dev/images/v1/2/1/2105241740...</td>\n",
       "      <td>In 2008, he was CEO of the biggest bank to eve...</td>\n",
       "      <td>The banking world nearly caved in 13 years ago...</td>\n",
       "      <td>CNN Business</td>\n",
       "      <td>Tue, 25 May 2021 12:30:41 -0400</td>\n",
       "      <td>['CEO']</td>\n",
       "      <td>Negative</td>\n",
       "      <td>Article</td>\n",
       "      <td>NaN</td>\n",
       "      <td>By Paul R. La Monica, CNN Business  Updated 12...</td>\n",
       "    </tr>\n",
       "  </tbody>\n",
       "</table>\n",
       "</div>"
      ],
      "text/plain": [
       "                                            news_url  \\\n",
       "0  https://www.cnbc.com/2021/05/25/home-prices-in...   \n",
       "1  https://www.reuters.com/article/us-usa-economy...   \n",
       "2  https://www.reuters.com/article/us-usa-economy...   \n",
       "3  https://www.reuters.com/article/us-usa-congres...   \n",
       "4  https://www.cnn.com/2021/05/25/investing/washi...   \n",
       "\n",
       "                                           image_url  \\\n",
       "0  https://cdn.snapi.dev/images/v1/b/m/104669168-...   \n",
       "1  https://cdn.snapi.dev/images/v1/a/s/m02d202105...   \n",
       "2  https://cdn.snapi.dev/images/v1/8/c/m02d202105...   \n",
       "3  https://cdn.snapi.dev/images/v1/q/k/m02d202105...   \n",
       "4  https://cdn.snapi.dev/images/v1/2/1/2105241740...   \n",
       "\n",
       "                                               title  \\\n",
       "0  Home prices in March saw highest growth in ove...   \n",
       "1  U.S. home prices rose more than expected in Ma...   \n",
       "2  U.S. new home sales drop in April; March sales...   \n",
       "3  Wall Street bank CEOs to tout COVID relief pus...   \n",
       "4  In 2008, he was CEO of the biggest bank to eve...   \n",
       "\n",
       "                                                text   source_name  \\\n",
       "0  Home prices in March were up 13%, one of the l...          CNBC   \n",
       "1  U.S. single-family home prices in 20 key urban...       Reuters   \n",
       "2  Sales of new U.S. single-family homes dropped ...       Reuters   \n",
       "3  Wall Street bank chiefs will tout the role the...       Reuters   \n",
       "4  The banking world nearly caved in 13 years ago...  CNN Business   \n",
       "\n",
       "                              date   topics sentiment     type tickers  \\\n",
       "0  Tue, 25 May 2021 09:01:19 -0400       []   Neutral  Article     NaN   \n",
       "1  Tue, 25 May 2021 09:09:00 -0400       []   Neutral  Article     NaN   \n",
       "2  Tue, 25 May 2021 10:33:00 -0400       []  Negative  Article     NaN   \n",
       "3  Tue, 25 May 2021 07:10:00 -0400  ['CEO']  Positive  Article     NaN   \n",
       "4  Tue, 25 May 2021 12:30:41 -0400  ['CEO']  Negative  Article     NaN   \n",
       "\n",
       "                                            articles  \n",
       "0   Home prices in March were 13.2% higher in Mar...  \n",
       "1  U.S. single-family home prices in 20 key urban...  \n",
       "2  A carpenter works on building new townhomes th...  \n",
       "3  Wall Street bank chiefs will tout the role the...  \n",
       "4  By Paul R. La Monica, CNN Business  Updated 12...  "
      ]
     },
     "execution_count": 6,
     "metadata": {},
     "output_type": "execute_result"
    }
   ],
   "source": [
    "apple_news_df.head()"
   ]
  },
  {
   "cell_type": "code",
   "execution_count": 5,
   "id": "d4d71945-adcb-42ed-a28b-5de0cc1a221c",
   "metadata": {},
   "outputs": [
    {
     "name": "stdout",
     "output_type": "stream",
     "text": [
      "<class 'pandas.core.frame.DataFrame'>\n",
      "RangeIndex: 10450 entries, 0 to 10449\n",
      "Data columns (total 11 columns):\n",
      " #   Column       Non-Null Count  Dtype \n",
      "---  ------       --------------  ----- \n",
      " 0   news_url     10450 non-null  object\n",
      " 1   image_url    10450 non-null  object\n",
      " 2   title        10450 non-null  object\n",
      " 3   text         10450 non-null  object\n",
      " 4   source_name  10450 non-null  object\n",
      " 5   date         10450 non-null  object\n",
      " 6   topics       10450 non-null  object\n",
      " 7   sentiment    10450 non-null  object\n",
      " 8   type         10450 non-null  object\n",
      " 9   tickers      8455 non-null   object\n",
      " 10  articles     9524 non-null   object\n",
      "dtypes: object(11)\n",
      "memory usage: 898.2+ KB\n"
     ]
    }
   ],
   "source": [
    "apple_news_df.info()"
   ]
  }
 ],
 "metadata": {
  "kernelspec": {
   "display_name": "Python 3",
   "language": "python",
   "name": "python3"
  },
  "language_info": {
   "codemirror_mode": {
    "name": "ipython",
    "version": 3
   },
   "file_extension": ".py",
   "mimetype": "text/x-python",
   "name": "python",
   "nbconvert_exporter": "python",
   "pygments_lexer": "ipython3",
   "version": "3.9.4"
  }
 },
 "nbformat": 4,
 "nbformat_minor": 5
}
