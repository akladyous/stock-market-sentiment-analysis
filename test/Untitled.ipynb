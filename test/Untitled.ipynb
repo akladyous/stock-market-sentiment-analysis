{
 "cells": [
  {
   "cell_type": "code",
   "execution_count": 10,
   "id": "statistical-regression",
   "metadata": {
    "execution": {
     "iopub.execute_input": "2021-05-27T05:49:41.208209Z",
     "iopub.status.busy": "2021-05-27T05:49:41.207814Z",
     "iopub.status.idle": "2021-05-27T05:49:41.211982Z",
     "shell.execute_reply": "2021-05-27T05:49:41.211050Z",
     "shell.execute_reply.started": "2021-05-27T05:49:41.208169Z"
    },
    "tags": []
   },
   "outputs": [],
   "source": [
    "import datetime as dt"
   ]
  },
  {
   "cell_type": "code",
   "execution_count": 19,
   "id": "fixed-radius",
   "metadata": {
    "execution": {
     "iopub.execute_input": "2021-05-27T05:55:50.635290Z",
     "iopub.status.busy": "2021-05-27T05:55:50.634801Z",
     "iopub.status.idle": "2021-05-27T05:55:50.641175Z",
     "shell.execute_reply": "2021-05-27T05:55:50.640408Z",
     "shell.execute_reply.started": "2021-05-27T05:55:50.635239Z"
    },
    "tags": []
   },
   "outputs": [
    {
     "data": {
      "text/plain": [
       "datetime.datetime(2021, 5, 27, 1, 55, 50, 636950)"
      ]
     },
     "execution_count": 19,
     "metadata": {},
     "output_type": "execute_result"
    }
   ],
   "source": [
    "o = dt.datetime.now()\n",
    "o"
   ]
  },
  {
   "cell_type": "code",
   "execution_count": 39,
   "id": "solid-distinction",
   "metadata": {
    "execution": {
     "iopub.execute_input": "2021-05-27T06:00:00.236807Z",
     "iopub.status.busy": "2021-05-27T06:00:00.236457Z",
     "iopub.status.idle": "2021-05-27T06:00:00.244038Z",
     "shell.execute_reply": "2021-05-27T06:00:00.243135Z",
     "shell.execute_reply.started": "2021-05-27T06:00:00.236772Z"
    },
    "tags": []
   },
   "outputs": [
    {
     "name": "stdout",
     "output_type": "stream",
     "text": [
      "2021-05-27 02:00:00.238300\n"
     ]
    },
    {
     "data": {
      "text/plain": [
       "datetime.datetime(2021, 5, 27, 2, 5, 0, 238300)"
      ]
     },
     "execution_count": 39,
     "metadata": {},
     "output_type": "execute_result"
    }
   ],
   "source": [
    "o = dt.datetime.now()\n",
    "print(o)\n",
    "o + dt.timedelta(minutes=5)"
   ]
  },
  {
   "cell_type": "code",
   "execution_count": 61,
   "id": "least-jesus",
   "metadata": {
    "execution": {
     "iopub.execute_input": "2021-05-27T06:07:05.711822Z",
     "iopub.status.busy": "2021-05-27T06:07:05.711375Z",
     "iopub.status.idle": "2021-05-27T06:07:05.718360Z",
     "shell.execute_reply": "2021-05-27T06:07:05.717459Z",
     "shell.execute_reply.started": "2021-05-27T06:07:05.711750Z"
    },
    "tags": []
   },
   "outputs": [
    {
     "data": {
      "text/plain": [
       "599.999982"
      ]
     },
     "execution_count": 61,
     "metadata": {},
     "output_type": "execute_result"
    }
   ],
   "source": [
    "((dt.datetime.now() + dt.timedelta(minutes=10))-dt.datetime.now()).total_seconds()"
   ]
  },
  {
   "cell_type": "code",
   "execution_count": 56,
   "id": "interstate-warren",
   "metadata": {
    "execution": {
     "iopub.execute_input": "2021-05-27T06:06:52.000605Z",
     "iopub.status.busy": "2021-05-27T06:06:52.000275Z",
     "iopub.status.idle": "2021-05-27T06:06:52.006449Z",
     "shell.execute_reply": "2021-05-27T06:06:52.005078Z",
     "shell.execute_reply.started": "2021-05-27T06:06:52.000571Z"
    },
    "tags": []
   },
   "outputs": [
    {
     "data": {
      "text/plain": [
       "<function timedelta.total_seconds>"
      ]
     },
     "execution_count": 56,
     "metadata": {},
     "output_type": "execute_result"
    }
   ],
   "source": []
  },
  {
   "cell_type": "code",
   "execution_count": 1,
   "id": "altered-weekly",
   "metadata": {
    "execution": {
     "iopub.execute_input": "2021-05-27T14:56:22.096531Z",
     "iopub.status.busy": "2021-05-27T14:56:22.096022Z",
     "iopub.status.idle": "2021-05-27T14:56:22.181875Z",
     "shell.execute_reply": "2021-05-27T14:56:22.181448Z",
     "shell.execute_reply.started": "2021-05-27T14:56:22.096357Z"
    }
   },
   "outputs": [],
   "source": [
    "import numpy as np"
   ]
  },
  {
   "cell_type": "code",
   "execution_count": 2,
   "id": "descending-infection",
   "metadata": {
    "execution": {
     "iopub.execute_input": "2021-05-27T14:57:01.532640Z",
     "iopub.status.busy": "2021-05-27T14:57:01.531922Z",
     "iopub.status.idle": "2021-05-27T14:57:01.539167Z",
     "shell.execute_reply": "2021-05-27T14:57:01.537894Z",
     "shell.execute_reply.started": "2021-05-27T14:57:01.532568Z"
    }
   },
   "outputs": [],
   "source": [
    "l = np.empty_like(100)"
   ]
  },
  {
   "cell_type": "code",
   "execution_count": 3,
   "id": "blind-museum",
   "metadata": {
    "execution": {
     "iopub.execute_input": "2021-05-27T14:57:03.509926Z",
     "iopub.status.busy": "2021-05-27T14:57:03.509568Z",
     "iopub.status.idle": "2021-05-27T14:57:03.526186Z",
     "shell.execute_reply": "2021-05-27T14:57:03.525250Z",
     "shell.execute_reply.started": "2021-05-27T14:57:03.509891Z"
    }
   },
   "outputs": [
    {
     "data": {
      "text/plain": [
       "array(0)"
      ]
     },
     "execution_count": 3,
     "metadata": {},
     "output_type": "execute_result"
    }
   ],
   "source": [
    "l"
   ]
  },
  {
   "cell_type": "code",
   "execution_count": null,
   "id": "constitutional-satisfaction",
   "metadata": {},
   "outputs": [],
   "source": []
  }
 ],
 "metadata": {
  "kernelspec": {
   "display_name": "Python 3",
   "language": "python",
   "name": "python3"
  },
  "language_info": {
   "codemirror_mode": {
    "name": "ipython",
    "version": 3
   },
   "file_extension": ".py",
   "mimetype": "text/x-python",
   "name": "python",
   "nbconvert_exporter": "python",
   "pygments_lexer": "ipython3",
   "version": "3.8.8"
  }
 },
 "nbformat": 4,
 "nbformat_minor": 5
}
