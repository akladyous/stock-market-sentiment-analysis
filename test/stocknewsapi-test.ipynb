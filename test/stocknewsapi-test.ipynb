{
 "cells": [
  {
   "cell_type": "code",
   "execution_count": null,
   "id": "objective-commission",
   "metadata": {},
   "outputs": [],
   "source": [
    "import __init__\n",
    "import requests\n",
    "import json\n",
    "import pickle\n",
    "import pandas as pd"
   ]
  },
  {
   "cell_type": "code",
   "execution_count": null,
   "id": "molecular-manual",
   "metadata": {},
   "outputs": [],
   "source": [
    "import main\n",
    "from stocknewsapi import StockNewsAPI\n",
    "import scrapy"
   ]
  },
  {
   "cell_type": "code",
   "execution_count": null,
   "id": "regulation-needle",
   "metadata": {},
   "outputs": [],
   "source": []
  },
  {
   "cell_type": "code",
   "execution_count": null,
   "id": "express-defeat",
   "metadata": {},
   "outputs": [],
   "source": [
    "import json\n",
    "\n",
    "start_date = \"2021-04-01\"\n",
    "end_date = \"2021-05-01\"\n",
    "tickers = \"AAPL\"\n",
    "with open(\"./stocknewsapi/stocknewsapi_key.pkl\", \"rb\") as f:\n",
    "    token = pickle.load(f)\n",
    "    f.close\n",
    "    \n",
    "params = {\"tickers\": tickers,\n",
    "          \"type\": \"article\",\n",
    "          \"token\": token,\n",
    "          \"date\": \"01012020-01052020\",\n",
    "          \"fallback\": \"true\",\n",
    "          \"country\": \"USA\",\n",
    "          \"items\": 50,\n",
    "          \"sortby\": \"rank\"\n",
    "          # \"page\": 1,\n",
    "          # \"industry\":\"Exchange+Traded\",\n",
    "          #\"exchange\": \"NASDAQ\"\n",
    "         }\n",
    "url = \"https://stocknewsapi.com/api/v1?\""
   ]
  },
  {
   "cell_type": "code",
   "execution_count": null,
   "id": "further-layout",
   "metadata": {},
   "outputs": [],
   "source": [
    "html_page = Scrapy.get_url(url, params)"
   ]
  },
  {
   "cell_type": "code",
   "execution_count": null,
   "id": "least-summary",
   "metadata": {},
   "outputs": [],
   "source": [
    "html_page.status_code"
   ]
  },
  {
   "cell_type": "code",
   "execution_count": null,
   "id": "prerequisite-collective",
   "metadata": {},
   "outputs": [],
   "source": [
    "a = json.loads(html_page.text)"
   ]
  },
  {
   "cell_type": "code",
   "execution_count": null,
   "id": "economic-excellence",
   "metadata": {},
   "outputs": [],
   "source": [
    "if ('data' in a) and len(a['data'])!=0:\n",
    "    print('ok')\n",
    "else:\n",
    "    print('ko')"
   ]
  },
  {
   "cell_type": "code",
   "execution_count": null,
   "id": "cutting-action",
   "metadata": {},
   "outputs": [],
   "source": []
  },
  {
   "cell_type": "code",
   "execution_count": null,
   "id": "smooth-archives",
   "metadata": {},
   "outputs": [],
   "source": []
  },
  {
   "cell_type": "code",
   "execution_count": null,
   "id": "related-society",
   "metadata": {},
   "outputs": [],
   "source": []
  },
  {
   "cell_type": "code",
   "execution_count": null,
   "id": "ruled-briefing",
   "metadata": {},
   "outputs": [],
   "source": []
  },
  {
   "cell_type": "code",
   "execution_count": null,
   "id": "fleet-packaging",
   "metadata": {},
   "outputs": [],
   "source": []
  }
 ],
 "metadata": {
  "kernelspec": {
   "display_name": "Python 3",
   "language": "python",
   "name": "python3"
  },
  "language_info": {
   "codemirror_mode": {
    "name": "ipython",
    "version": 3
   },
   "file_extension": ".py",
   "mimetype": "text/x-python",
   "name": "python",
   "nbconvert_exporter": "python",
   "pygments_lexer": "ipython3",
   "version": "3.8.8"
  }
 },
 "nbformat": 4,
 "nbformat_minor": 5
}
