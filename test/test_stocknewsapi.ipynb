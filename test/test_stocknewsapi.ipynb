{
 "cells": [
  {
   "cell_type": "code",
   "execution_count": 4,
   "id": "alien-silicon",
   "metadata": {
    "execution": {
     "iopub.execute_input": "2021-05-30T07:24:43.570957Z",
     "iopub.status.busy": "2021-05-30T07:24:43.570579Z",
     "iopub.status.idle": "2021-05-30T07:24:43.574755Z",
     "shell.execute_reply": "2021-05-30T07:24:43.573694Z",
     "shell.execute_reply.started": "2021-05-30T07:24:43.570920Z"
    },
    "tags": []
   },
   "outputs": [],
   "source": [
    "import __init__"
   ]
  },
  {
   "cell_type": "code",
   "execution_count": 5,
   "id": "final-gibraltar",
   "metadata": {
    "execution": {
     "iopub.execute_input": "2021-05-30T07:24:46.151799Z",
     "iopub.status.busy": "2021-05-30T07:24:46.151430Z",
     "iopub.status.idle": "2021-05-30T07:24:46.157859Z",
     "shell.execute_reply": "2021-05-30T07:24:46.156910Z",
     "shell.execute_reply.started": "2021-05-30T07:24:46.151767Z"
    },
    "tags": []
   },
   "outputs": [],
   "source": [
    "import json\n",
    "from joblib import dump, load\n",
    "import pandas as pd\n",
    "import main\n",
    "from stocknews_api import StockNewsAPI\n",
    "from scrapy import Scrapy"
   ]
  },
  {
   "cell_type": "code",
   "execution_count": 6,
   "id": "supposed-illustration",
   "metadata": {
    "execution": {
     "iopub.execute_input": "2021-05-30T07:24:47.405688Z",
     "iopub.status.busy": "2021-05-30T07:24:47.405187Z",
     "iopub.status.idle": "2021-05-30T07:24:47.411575Z",
     "shell.execute_reply": "2021-05-30T07:24:47.410335Z",
     "shell.execute_reply.started": "2021-05-30T07:24:47.405636Z"
    },
    "tags": []
   },
   "outputs": [],
   "source": [
    "token = load(\"./stocknewsapi/stocknewsapi_key.pkl\")"
   ]
  },
  {
   "cell_type": "code",
   "execution_count": 14,
   "id": "sunrise-wrong",
   "metadata": {
    "execution": {
     "iopub.execute_input": "2021-05-30T07:26:54.740696Z",
     "iopub.status.busy": "2021-05-30T07:26:54.740293Z",
     "iopub.status.idle": "2021-05-30T07:26:54.744890Z",
     "shell.execute_reply": "2021-05-30T07:26:54.744004Z",
     "shell.execute_reply.started": "2021-05-30T07:26:54.740662Z"
    },
    "tags": []
   },
   "outputs": [],
   "source": [
    "start_date = \"2021-05-29\"\n",
    "end_date = \"2021-05-29\"\n",
    "tickers = \"AAPL\""
   ]
  },
  {
   "cell_type": "code",
   "execution_count": 8,
   "id": "amended-omega",
   "metadata": {
    "execution": {
     "iopub.execute_input": "2021-05-30T07:24:58.727427Z",
     "iopub.status.busy": "2021-05-30T07:24:58.726784Z",
     "iopub.status.idle": "2021-05-30T07:24:58.735327Z",
     "shell.execute_reply": "2021-05-30T07:24:58.734044Z",
     "shell.execute_reply.started": "2021-05-30T07:24:58.727363Z"
    },
    "tags": []
   },
   "outputs": [],
   "source": [
    "stocknewsapi = StockNewsAPI(token, start_date, end_date)"
   ]
  },
  {
   "cell_type": "code",
   "execution_count": 9,
   "id": "jewish-shuttle",
   "metadata": {
    "execution": {
     "iopub.execute_input": "2021-05-30T07:25:00.741396Z",
     "iopub.status.busy": "2021-05-30T07:25:00.740968Z",
     "iopub.status.idle": "2021-05-30T07:25:01.421164Z",
     "shell.execute_reply": "2021-05-30T07:25:01.419507Z",
     "shell.execute_reply.started": "2021-05-30T07:25:00.741362Z"
    },
    "tags": []
   },
   "outputs": [
    {
     "name": "stdout",
     "output_type": "stream",
     "text": [
      "[ 100% ] https://stocknewsapi.com/api/v1?tickers=AAPL&type=article&token=timo8bdrdfcpfwweljogcb66iodw7egybu0y6qsw&fallback=true&country=USA&items=50&sortby=rank&pages=1&date=05292021-05292021"
     ]
    }
   ],
   "source": [
    "stocknewsapi_news = stocknewsapi.get_news(tickers, items=50, pages=1)"
   ]
  },
  {
   "cell_type": "code",
   "execution_count": 15,
   "id": "established-hydrogen",
   "metadata": {
    "execution": {
     "iopub.execute_input": "2021-05-30T07:28:21.977095Z",
     "iopub.status.busy": "2021-05-30T07:28:21.976456Z",
     "iopub.status.idle": "2021-05-30T07:28:21.986061Z",
     "shell.execute_reply": "2021-05-30T07:28:21.984803Z",
     "shell.execute_reply.started": "2021-05-30T07:28:21.977030Z"
    },
    "tags": []
   },
   "outputs": [],
   "source": [
    "stocknews_df = pd.DataFrame(stocknewsapi_news)"
   ]
  },
  {
   "cell_type": "code",
   "execution_count": 16,
   "id": "faced-saying",
   "metadata": {
    "execution": {
     "iopub.execute_input": "2021-05-30T07:28:22.301015Z",
     "iopub.status.busy": "2021-05-30T07:28:22.300332Z",
     "iopub.status.idle": "2021-05-30T07:28:22.323156Z",
     "shell.execute_reply": "2021-05-30T07:28:22.321880Z",
     "shell.execute_reply.started": "2021-05-30T07:28:22.300940Z"
    },
    "tags": []
   },
   "outputs": [
    {
     "data": {
      "text/html": [
       "<div>\n",
       "<style scoped>\n",
       "    .dataframe tbody tr th:only-of-type {\n",
       "        vertical-align: middle;\n",
       "    }\n",
       "\n",
       "    .dataframe tbody tr th {\n",
       "        vertical-align: top;\n",
       "    }\n",
       "\n",
       "    .dataframe thead th {\n",
       "        text-align: right;\n",
       "    }\n",
       "</style>\n",
       "<table border=\"1\" class=\"dataframe\">\n",
       "  <thead>\n",
       "    <tr style=\"text-align: right;\">\n",
       "      <th></th>\n",
       "      <th>news_url</th>\n",
       "      <th>image_url</th>\n",
       "      <th>title</th>\n",
       "      <th>text</th>\n",
       "      <th>source_name</th>\n",
       "      <th>date</th>\n",
       "      <th>topics</th>\n",
       "      <th>sentiment</th>\n",
       "      <th>type</th>\n",
       "      <th>tickers</th>\n",
       "    </tr>\n",
       "  </thead>\n",
       "  <tbody>\n",
       "    <tr>\n",
       "      <th>0</th>\n",
       "      <td>https://www.cnbc.com/2021/05/29/apple-carplay-...</td>\n",
       "      <td>https://cdn.snapi.dev/images/v1/h/o/106890059-...</td>\n",
       "      <td>Apple's massive success with CarPlay paves the...</td>\n",
       "      <td>Automotive manufacturers and their suppliers w...</td>\n",
       "      <td>CNBC</td>\n",
       "      <td>Sat, 29 May 2021 12:02:19 -0400</td>\n",
       "      <td>[]</td>\n",
       "      <td>Positive</td>\n",
       "      <td>Article</td>\n",
       "      <td>[AAPL]</td>\n",
       "    </tr>\n",
       "    <tr>\n",
       "      <th>1</th>\n",
       "      <td>https://seekingalpha.com/article/4432082-infla...</td>\n",
       "      <td>https://cdn.snapi.dev/images/v1/y/2/m02d202103...</td>\n",
       "      <td>Inflation Crashes The Party</td>\n",
       "      <td>Inflation Crashes The Party</td>\n",
       "      <td>Seeking Alpha</td>\n",
       "      <td>Sun, 30 May 2021 01:00:00 -0400</td>\n",
       "      <td>[paylimitwall]</td>\n",
       "      <td>Negative</td>\n",
       "      <td>Article</td>\n",
       "      <td>NaN</td>\n",
       "    </tr>\n",
       "  </tbody>\n",
       "</table>\n",
       "</div>"
      ],
      "text/plain": [
       "                                            news_url  \\\n",
       "0  https://www.cnbc.com/2021/05/29/apple-carplay-...   \n",
       "1  https://seekingalpha.com/article/4432082-infla...   \n",
       "\n",
       "                                           image_url  \\\n",
       "0  https://cdn.snapi.dev/images/v1/h/o/106890059-...   \n",
       "1  https://cdn.snapi.dev/images/v1/y/2/m02d202103...   \n",
       "\n",
       "                                               title  \\\n",
       "0  Apple's massive success with CarPlay paves the...   \n",
       "1                        Inflation Crashes The Party   \n",
       "\n",
       "                                                text    source_name  \\\n",
       "0  Automotive manufacturers and their suppliers w...           CNBC   \n",
       "1                        Inflation Crashes The Party  Seeking Alpha   \n",
       "\n",
       "                              date          topics sentiment     type tickers  \n",
       "0  Sat, 29 May 2021 12:02:19 -0400              []  Positive  Article  [AAPL]  \n",
       "1  Sun, 30 May 2021 01:00:00 -0400  [paylimitwall]  Negative  Article     NaN  "
      ]
     },
     "execution_count": 16,
     "metadata": {},
     "output_type": "execute_result"
    }
   ],
   "source": [
    "stocknews_df.head(2)"
   ]
  },
  {
   "cell_type": "code",
   "execution_count": 18,
   "id": "romance-variance",
   "metadata": {
    "execution": {
     "iopub.execute_input": "2021-05-30T07:29:41.868539Z",
     "iopub.status.busy": "2021-05-30T07:29:41.868174Z",
     "iopub.status.idle": "2021-05-30T07:29:41.873583Z",
     "shell.execute_reply": "2021-05-30T07:29:41.872517Z",
     "shell.execute_reply.started": "2021-05-30T07:29:41.868507Z"
    },
    "tags": []
   },
   "outputs": [],
   "source": [
    "cols_to_drop = stocknews_df.columns.difference(['news_url', 'source_name','date'])"
   ]
  },
  {
   "cell_type": "code",
   "execution_count": 19,
   "id": "incomplete-wisconsin",
   "metadata": {
    "execution": {
     "iopub.execute_input": "2021-05-30T07:30:00.416733Z",
     "iopub.status.busy": "2021-05-30T07:30:00.416375Z",
     "iopub.status.idle": "2021-05-30T07:30:00.424749Z",
     "shell.execute_reply": "2021-05-30T07:30:00.423539Z",
     "shell.execute_reply.started": "2021-05-30T07:30:00.416701Z"
    }
   },
   "outputs": [],
   "source": [
    "stocknews_df.drop(cols_to_drop, axis=1, inplace=True)"
   ]
  },
  {
   "cell_type": "code",
   "execution_count": 21,
   "id": "spectacular-value",
   "metadata": {
    "execution": {
     "iopub.execute_input": "2021-05-30T07:30:31.143911Z",
     "iopub.status.busy": "2021-05-30T07:30:31.143289Z",
     "iopub.status.idle": "2021-05-30T07:30:31.150987Z",
     "shell.execute_reply": "2021-05-30T07:30:31.149584Z",
     "shell.execute_reply.started": "2021-05-30T07:30:31.143846Z"
    },
    "tags": []
   },
   "outputs": [],
   "source": [
    "stocknews_df.columns=['url', 'source', 'date']"
   ]
  },
  {
   "cell_type": "code",
   "execution_count": 23,
   "id": "suffering-policy",
   "metadata": {
    "execution": {
     "iopub.execute_input": "2021-05-30T15:42:15.911510Z",
     "iopub.status.busy": "2021-05-30T15:42:15.910864Z",
     "iopub.status.idle": "2021-05-30T15:42:15.924942Z",
     "shell.execute_reply": "2021-05-30T15:42:15.924203Z",
     "shell.execute_reply.started": "2021-05-30T15:42:15.911446Z"
    },
    "tags": []
   },
   "outputs": [
    {
     "data": {
      "text/html": [
       "<div>\n",
       "<style scoped>\n",
       "    .dataframe tbody tr th:only-of-type {\n",
       "        vertical-align: middle;\n",
       "    }\n",
       "\n",
       "    .dataframe tbody tr th {\n",
       "        vertical-align: top;\n",
       "    }\n",
       "\n",
       "    .dataframe thead th {\n",
       "        text-align: right;\n",
       "    }\n",
       "</style>\n",
       "<table border=\"1\" class=\"dataframe\">\n",
       "  <thead>\n",
       "    <tr style=\"text-align: right;\">\n",
       "      <th></th>\n",
       "      <th>url</th>\n",
       "      <th>source</th>\n",
       "      <th>date</th>\n",
       "    </tr>\n",
       "  </thead>\n",
       "  <tbody>\n",
       "    <tr>\n",
       "      <th>0</th>\n",
       "      <td>https://www.cnbc.com/2021/05/29/apple-carplay-...</td>\n",
       "      <td>CNBC</td>\n",
       "      <td>Sat, 29 May 2021 12:02:19 -0400</td>\n",
       "    </tr>\n",
       "    <tr>\n",
       "      <th>1</th>\n",
       "      <td>https://seekingalpha.com/article/4432082-infla...</td>\n",
       "      <td>Seeking Alpha</td>\n",
       "      <td>Sun, 30 May 2021 01:00:00 -0400</td>\n",
       "    </tr>\n",
       "    <tr>\n",
       "      <th>2</th>\n",
       "      <td>https://seekingalpha.com/article/4432083-what-...</td>\n",
       "      <td>Seeking Alpha</td>\n",
       "      <td>Sun, 30 May 2021 01:30:00 -0400</td>\n",
       "    </tr>\n",
       "    <tr>\n",
       "      <th>3</th>\n",
       "      <td>https://seekingalpha.com/article/4432085-feds-...</td>\n",
       "      <td>Seeking Alpha</td>\n",
       "      <td>Sun, 30 May 2021 02:00:00 -0400</td>\n",
       "    </tr>\n",
       "    <tr>\n",
       "      <th>4</th>\n",
       "      <td>https://seekingalpha.com/article/4432087-why-b...</td>\n",
       "      <td>Seeking Alpha</td>\n",
       "      <td>Sun, 30 May 2021 03:00:00 -0400</td>\n",
       "    </tr>\n",
       "  </tbody>\n",
       "</table>\n",
       "</div>"
      ],
      "text/plain": [
       "                                                 url         source  \\\n",
       "0  https://www.cnbc.com/2021/05/29/apple-carplay-...           CNBC   \n",
       "1  https://seekingalpha.com/article/4432082-infla...  Seeking Alpha   \n",
       "2  https://seekingalpha.com/article/4432083-what-...  Seeking Alpha   \n",
       "3  https://seekingalpha.com/article/4432085-feds-...  Seeking Alpha   \n",
       "4  https://seekingalpha.com/article/4432087-why-b...  Seeking Alpha   \n",
       "\n",
       "                              date  \n",
       "0  Sat, 29 May 2021 12:02:19 -0400  \n",
       "1  Sun, 30 May 2021 01:00:00 -0400  \n",
       "2  Sun, 30 May 2021 01:30:00 -0400  \n",
       "3  Sun, 30 May 2021 02:00:00 -0400  \n",
       "4  Sun, 30 May 2021 03:00:00 -0400  "
      ]
     },
     "execution_count": 23,
     "metadata": {},
     "output_type": "execute_result"
    }
   ],
   "source": [
    "stocknews_df.head()"
   ]
  },
  {
   "cell_type": "code",
   "execution_count": null,
   "id": "romantic-inspection",
   "metadata": {},
   "outputs": [],
   "source": []
  }
 ],
 "metadata": {
  "kernelspec": {
   "display_name": "Python 3",
   "language": "python",
   "name": "python3"
  },
  "language_info": {
   "codemirror_mode": {
    "name": "ipython",
    "version": 3
   },
   "file_extension": ".py",
   "mimetype": "text/x-python",
   "name": "python",
   "nbconvert_exporter": "python",
   "pygments_lexer": "ipython3",
   "version": "3.8.8"
  }
 },
 "nbformat": 4,
 "nbformat_minor": 5
}
