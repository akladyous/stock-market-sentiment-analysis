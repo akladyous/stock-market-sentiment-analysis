{
 "cells": [
  {
   "cell_type": "code",
   "execution_count": null,
   "id": "pretty-principal",
   "metadata": {
    "tags": []
   },
   "outputs": [],
   "source": [
    "import pandas as pd\n",
    "import numpy as np\n",
    "import matplotlib.pyplot as plt\n",
    "%matplotlib inline\n",
    "import seaborn as sns\n",
    "import re\n",
    "\n",
    "import nltk\n",
    "from nltk.tokenize import RegexpTokenizer\n",
    "from nltk.probability import FreqDist\n",
    "from nltk import ConditionalProbDist\n",
    "\n",
    "from nltk.stem import PorterStemmer\n",
    "from nltk.stem import WordNetLemmatizer\n",
    "from nltk.corpus import stopwords\n",
    "\n",
    "from sklearn.preprocessing import OneHotEncoder\n",
    "from sklearn.feature_extraction.text import CountVectorizer\n",
    "from sklearn.feature_extraction.text import TfidfVectorizer\n",
    "from sklearn.model_selection import train_test_split\n",
    "\n",
    "import keras\n",
    "import tensorflow as tf\n",
    "from tensorflow.keras import models, layers, Sequential, regularizers\n",
    "from tensorflow.keras.callbacks import EarlyStopping\n",
    "\n",
    "# from gensim.models import Word2Vec\n",
    "\n",
    "%run twitter.py\n",
    "# %run ./gensim/gensim.py"
   ]
  },
  {
   "cell_type": "markdown",
   "id": "nervous-talent",
   "metadata": {},
   "source": [
    "## DATA COLLECTION"
   ]
  },
  {
   "cell_type": "code",
   "execution_count": 2,
   "id": "recreational-holocaust",
   "metadata": {
    "execution": {
     "iopub.execute_input": "2021-05-07T19:22:47.590748Z",
     "iopub.status.busy": "2021-05-07T19:22:47.590379Z",
     "iopub.status.idle": "2021-05-07T19:22:47.635747Z",
     "shell.execute_reply": "2021-05-07T19:22:47.635237Z",
     "shell.execute_reply.started": "2021-05-07T19:22:47.590715Z"
    },
    "tags": []
   },
   "outputs": [],
   "source": [
    "df = pd.read_csv('./data/judge-1377884607_tweet_product_company.csv')"
   ]
  },
  {
   "cell_type": "code",
   "execution_count": 3,
   "id": "compliant-march",
   "metadata": {
    "execution": {
     "iopub.execute_input": "2021-05-07T19:22:48.149642Z",
     "iopub.status.busy": "2021-05-07T19:22:48.149297Z",
     "iopub.status.idle": "2021-05-07T19:22:48.173732Z",
     "shell.execute_reply": "2021-05-07T19:22:48.172598Z",
     "shell.execute_reply.started": "2021-05-07T19:22:48.149609Z"
    },
    "tags": []
   },
   "outputs": [
    {
     "name": "stdout",
     "output_type": "stream",
     "text": [
      "<class 'pandas.core.frame.DataFrame'>\n",
      "RangeIndex: 9093 entries, 0 to 9092\n",
      "Data columns (total 3 columns):\n",
      " #   Column                                              Non-Null Count  Dtype \n",
      "---  ------                                              --------------  ----- \n",
      " 0   tweet_text                                          9092 non-null   object\n",
      " 1   emotion_in_tweet_is_directed_at                     3291 non-null   object\n",
      " 2   is_there_an_emotion_directed_at_a_brand_or_product  9093 non-null   object\n",
      "dtypes: object(3)\n",
      "memory usage: 213.2+ KB\n"
     ]
    }
   ],
   "source": [
    "df.info()"
   ]
  },
  {
   "cell_type": "code",
   "execution_count": 4,
   "id": "expanded-graphic",
   "metadata": {
    "execution": {
     "iopub.execute_input": "2021-05-07T19:22:48.548875Z",
     "iopub.status.busy": "2021-05-07T19:22:48.548536Z",
     "iopub.status.idle": "2021-05-07T19:22:48.568802Z",
     "shell.execute_reply": "2021-05-07T19:22:48.567873Z",
     "shell.execute_reply.started": "2021-05-07T19:22:48.548842Z"
    },
    "tags": []
   },
   "outputs": [
    {
     "data": {
      "text/html": [
       "<div>\n",
       "<style scoped>\n",
       "    .dataframe tbody tr th:only-of-type {\n",
       "        vertical-align: middle;\n",
       "    }\n",
       "\n",
       "    .dataframe tbody tr th {\n",
       "        vertical-align: top;\n",
       "    }\n",
       "\n",
       "    .dataframe thead th {\n",
       "        text-align: right;\n",
       "    }\n",
       "</style>\n",
       "<table border=\"1\" class=\"dataframe\">\n",
       "  <thead>\n",
       "    <tr style=\"text-align: right;\">\n",
       "      <th></th>\n",
       "      <th>tweet_text</th>\n",
       "      <th>emotion_in_tweet_is_directed_at</th>\n",
       "      <th>is_there_an_emotion_directed_at_a_brand_or_product</th>\n",
       "    </tr>\n",
       "  </thead>\n",
       "  <tbody>\n",
       "    <tr>\n",
       "      <th>0</th>\n",
       "      <td>.@wesley83 I have a 3G iPhone. After 3 hrs twe...</td>\n",
       "      <td>iPhone</td>\n",
       "      <td>Negative emotion</td>\n",
       "    </tr>\n",
       "    <tr>\n",
       "      <th>1</th>\n",
       "      <td>@jessedee Know about @fludapp ? Awesome iPad/i...</td>\n",
       "      <td>iPad or iPhone App</td>\n",
       "      <td>Positive emotion</td>\n",
       "    </tr>\n",
       "    <tr>\n",
       "      <th>2</th>\n",
       "      <td>@swonderlin Can not wait for #iPad 2 also. The...</td>\n",
       "      <td>iPad</td>\n",
       "      <td>Positive emotion</td>\n",
       "    </tr>\n",
       "    <tr>\n",
       "      <th>3</th>\n",
       "      <td>@sxsw I hope this year's festival isn't as cra...</td>\n",
       "      <td>iPad or iPhone App</td>\n",
       "      <td>Negative emotion</td>\n",
       "    </tr>\n",
       "    <tr>\n",
       "      <th>4</th>\n",
       "      <td>@sxtxstate great stuff on Fri #SXSW: Marissa M...</td>\n",
       "      <td>Google</td>\n",
       "      <td>Positive emotion</td>\n",
       "    </tr>\n",
       "  </tbody>\n",
       "</table>\n",
       "</div>"
      ],
      "text/plain": [
       "                                          tweet_text  \\\n",
       "0  .@wesley83 I have a 3G iPhone. After 3 hrs twe...   \n",
       "1  @jessedee Know about @fludapp ? Awesome iPad/i...   \n",
       "2  @swonderlin Can not wait for #iPad 2 also. The...   \n",
       "3  @sxsw I hope this year's festival isn't as cra...   \n",
       "4  @sxtxstate great stuff on Fri #SXSW: Marissa M...   \n",
       "\n",
       "  emotion_in_tweet_is_directed_at  \\\n",
       "0                          iPhone   \n",
       "1              iPad or iPhone App   \n",
       "2                            iPad   \n",
       "3              iPad or iPhone App   \n",
       "4                          Google   \n",
       "\n",
       "  is_there_an_emotion_directed_at_a_brand_or_product  \n",
       "0                                   Negative emotion  \n",
       "1                                   Positive emotion  \n",
       "2                                   Positive emotion  \n",
       "3                                   Negative emotion  \n",
       "4                                   Positive emotion  "
      ]
     },
     "execution_count": 4,
     "metadata": {},
     "output_type": "execute_result"
    }
   ],
   "source": [
    "df.head()"
   ]
  },
  {
   "cell_type": "markdown",
   "id": "insured-bearing",
   "metadata": {},
   "source": [
    "## DATA SCRUBBING"
   ]
  },
  {
   "cell_type": "code",
   "execution_count": 5,
   "id": "tutorial-preserve",
   "metadata": {
    "execution": {
     "iopub.execute_input": "2021-05-07T19:22:49.190999Z",
     "iopub.status.busy": "2021-05-07T19:22:49.190611Z",
     "iopub.status.idle": "2021-05-07T19:22:49.198546Z",
     "shell.execute_reply": "2021-05-07T19:22:49.197473Z",
     "shell.execute_reply.started": "2021-05-07T19:22:49.190966Z"
    },
    "tags": []
   },
   "outputs": [],
   "source": [
    "df.drop(labels=['emotion_in_tweet_is_directed_at'], inplace=True, axis=1)"
   ]
  },
  {
   "cell_type": "code",
   "execution_count": 6,
   "id": "compressed-cement",
   "metadata": {
    "execution": {
     "iopub.execute_input": "2021-05-07T19:22:49.426661Z",
     "iopub.status.busy": "2021-05-07T19:22:49.426279Z",
     "iopub.status.idle": "2021-05-07T19:22:49.431745Z",
     "shell.execute_reply": "2021-05-07T19:22:49.430449Z",
     "shell.execute_reply.started": "2021-05-07T19:22:49.426625Z"
    },
    "tags": []
   },
   "outputs": [],
   "source": [
    "df.columns=['tweet_raw', 'sentiment']"
   ]
  },
  {
   "cell_type": "code",
   "execution_count": 7,
   "id": "timely-boxing",
   "metadata": {
    "execution": {
     "iopub.execute_input": "2021-05-07T19:22:49.712070Z",
     "iopub.status.busy": "2021-05-07T19:22:49.711497Z",
     "iopub.status.idle": "2021-05-07T19:22:49.736920Z",
     "shell.execute_reply": "2021-05-07T19:22:49.735854Z",
     "shell.execute_reply.started": "2021-05-07T19:22:49.712031Z"
    },
    "tags": []
   },
   "outputs": [],
   "source": [
    "df.sentiment = df.sentiment.apply(lambda x: 'neutral' if x =='No emotion toward brand or product' else x.lower())\n",
    "df.sentiment = df.sentiment.apply(lambda x: 'positive' if x =='positive emotion' else x.lower())\n",
    "df.sentiment = df.sentiment.apply(lambda x: 'negative' if x =='negative emotion' else x.lower())"
   ]
  },
  {
   "cell_type": "code",
   "execution_count": 8,
   "id": "social-voltage",
   "metadata": {
    "execution": {
     "iopub.execute_input": "2021-05-07T19:22:49.931450Z",
     "iopub.status.busy": "2021-05-07T19:22:49.931044Z",
     "iopub.status.idle": "2021-05-07T19:22:49.943142Z",
     "shell.execute_reply": "2021-05-07T19:22:49.942086Z",
     "shell.execute_reply.started": "2021-05-07T19:22:49.931408Z"
    },
    "tags": []
   },
   "outputs": [],
   "source": [
    "df.dropna(inplace=True)"
   ]
  },
  {
   "cell_type": "code",
   "execution_count": 9,
   "id": "particular-funds",
   "metadata": {
    "execution": {
     "iopub.execute_input": "2021-05-07T19:22:50.163508Z",
     "iopub.status.busy": "2021-05-07T19:22:50.163153Z",
     "iopub.status.idle": "2021-05-07T19:22:50.175124Z",
     "shell.execute_reply": "2021-05-07T19:22:50.174205Z",
     "shell.execute_reply.started": "2021-05-07T19:22:50.163476Z"
    },
    "tags": []
   },
   "outputs": [
    {
     "data": {
      "text/html": [
       "<div>\n",
       "<style scoped>\n",
       "    .dataframe tbody tr th:only-of-type {\n",
       "        vertical-align: middle;\n",
       "    }\n",
       "\n",
       "    .dataframe tbody tr th {\n",
       "        vertical-align: top;\n",
       "    }\n",
       "\n",
       "    .dataframe thead th {\n",
       "        text-align: right;\n",
       "    }\n",
       "</style>\n",
       "<table border=\"1\" class=\"dataframe\">\n",
       "  <thead>\n",
       "    <tr style=\"text-align: right;\">\n",
       "      <th></th>\n",
       "      <th>tweet_raw</th>\n",
       "      <th>sentiment</th>\n",
       "    </tr>\n",
       "  </thead>\n",
       "  <tbody>\n",
       "    <tr>\n",
       "      <th>0</th>\n",
       "      <td>.@wesley83 I have a 3G iPhone. After 3 hrs twe...</td>\n",
       "      <td>negative</td>\n",
       "    </tr>\n",
       "    <tr>\n",
       "      <th>1</th>\n",
       "      <td>@jessedee Know about @fludapp ? Awesome iPad/i...</td>\n",
       "      <td>positive</td>\n",
       "    </tr>\n",
       "    <tr>\n",
       "      <th>2</th>\n",
       "      <td>@swonderlin Can not wait for #iPad 2 also. The...</td>\n",
       "      <td>positive</td>\n",
       "    </tr>\n",
       "    <tr>\n",
       "      <th>3</th>\n",
       "      <td>@sxsw I hope this year's festival isn't as cra...</td>\n",
       "      <td>negative</td>\n",
       "    </tr>\n",
       "    <tr>\n",
       "      <th>4</th>\n",
       "      <td>@sxtxstate great stuff on Fri #SXSW: Marissa M...</td>\n",
       "      <td>positive</td>\n",
       "    </tr>\n",
       "  </tbody>\n",
       "</table>\n",
       "</div>"
      ],
      "text/plain": [
       "                                           tweet_raw sentiment\n",
       "0  .@wesley83 I have a 3G iPhone. After 3 hrs twe...  negative\n",
       "1  @jessedee Know about @fludapp ? Awesome iPad/i...  positive\n",
       "2  @swonderlin Can not wait for #iPad 2 also. The...  positive\n",
       "3  @sxsw I hope this year's festival isn't as cra...  negative\n",
       "4  @sxtxstate great stuff on Fri #SXSW: Marissa M...  positive"
      ]
     },
     "execution_count": 9,
     "metadata": {},
     "output_type": "execute_result"
    }
   ],
   "source": [
    "df.head()"
   ]
  },
  {
   "cell_type": "code",
   "execution_count": 10,
   "id": "common-victoria",
   "metadata": {
    "execution": {
     "iopub.execute_input": "2021-05-07T19:22:50.442972Z",
     "iopub.status.busy": "2021-05-07T19:22:50.442557Z",
     "iopub.status.idle": "2021-05-07T19:22:50.461265Z",
     "shell.execute_reply": "2021-05-07T19:22:50.459990Z",
     "shell.execute_reply.started": "2021-05-07T19:22:50.442935Z"
    },
    "tags": []
   },
   "outputs": [
    {
     "name": "stdout",
     "output_type": "stream",
     "text": [
      "<class 'pandas.core.frame.DataFrame'>\n",
      "Int64Index: 9092 entries, 0 to 9092\n",
      "Data columns (total 2 columns):\n",
      " #   Column     Non-Null Count  Dtype \n",
      "---  ------     --------------  ----- \n",
      " 0   tweet_raw  9092 non-null   object\n",
      " 1   sentiment  9092 non-null   object\n",
      "dtypes: object(2)\n",
      "memory usage: 213.1+ KB\n"
     ]
    }
   ],
   "source": [
    "df.info()"
   ]
  },
  {
   "cell_type": "markdown",
   "id": "deadly-circle",
   "metadata": {},
   "source": [
    "## PREPROCESSING"
   ]
  },
  {
   "cell_type": "code",
   "execution_count": 11,
   "id": "floating-therapy",
   "metadata": {
    "execution": {
     "iopub.execute_input": "2021-05-07T19:22:51.010437Z",
     "iopub.status.busy": "2021-05-07T19:22:51.010038Z",
     "iopub.status.idle": "2021-05-07T19:22:52.514173Z",
     "shell.execute_reply": "2021-05-07T19:22:52.513793Z",
     "shell.execute_reply.started": "2021-05-07T19:22:51.010400Z"
    },
    "tags": []
   },
   "outputs": [
    {
     "name": "stderr",
     "output_type": "stream",
     "text": [
      "[nltk_data] Downloading package words to /Users/boula/nltk_data...\n",
      "[nltk_data]   Package words is already up-to-date!\n",
      "[nltk_data] Downloading package stopwords to /Users/boula/nltk_data...\n",
      "[nltk_data]   Unzipping corpora/stopwords.zip.\n",
      "[nltk_data] Downloading package punkt to /Users/boula/nltk_data...\n",
      "[nltk_data]   Unzipping tokenizers/punkt.zip.\n",
      "[nltk_data] Downloading package wordnet to /Users/boula/nltk_data...\n",
      "[nltk_data]   Package wordnet is already up-to-date!\n"
     ]
    },
    {
     "data": {
      "text/plain": [
       "True"
      ]
     },
     "execution_count": 11,
     "metadata": {},
     "output_type": "execute_result"
    }
   ],
   "source": [
    "nltk.download('words')\n",
    "nltk.download('stopwords')\n",
    "nltk.download('punkt')\n",
    "nltk.download('wordnet')"
   ]
  },
  {
   "cell_type": "code",
   "execution_count": 12,
   "id": "sophisticated-drove",
   "metadata": {
    "execution": {
     "iopub.execute_input": "2021-05-07T19:22:52.515207Z",
     "iopub.status.busy": "2021-05-07T19:22:52.515067Z",
     "iopub.status.idle": "2021-05-07T19:22:52.750950Z",
     "shell.execute_reply": "2021-05-07T19:22:52.750220Z",
     "shell.execute_reply.started": "2021-05-07T19:22:52.515192Z"
    },
    "tags": []
   },
   "outputs": [],
   "source": [
    "urls = url_extractor(df.tweet_raw)"
   ]
  },
  {
   "cell_type": "code",
   "execution_count": 13,
   "id": "digital-float",
   "metadata": {
    "execution": {
     "iopub.execute_input": "2021-05-07T19:22:52.752098Z",
     "iopub.status.busy": "2021-05-07T19:22:52.751996Z",
     "iopub.status.idle": "2021-05-07T19:22:52.774991Z",
     "shell.execute_reply": "2021-05-07T19:22:52.773990Z",
     "shell.execute_reply.started": "2021-05-07T19:22:52.752085Z"
    },
    "tags": []
   },
   "outputs": [],
   "source": [
    "hashtag_list = hashtags(df.tweet_raw)"
   ]
  },
  {
   "cell_type": "code",
   "execution_count": 14,
   "id": "adjusted-median",
   "metadata": {
    "execution": {
     "iopub.execute_input": "2021-05-07T19:22:52.776926Z",
     "iopub.status.busy": "2021-05-07T19:22:52.776747Z",
     "iopub.status.idle": "2021-05-07T19:22:53.112215Z",
     "shell.execute_reply": "2021-05-07T19:22:53.111843Z",
     "shell.execute_reply.started": "2021-05-07T19:22:52.776907Z"
    },
    "tags": []
   },
   "outputs": [],
   "source": [
    "df['tweet'] = CleanUp(df.tweet_raw)"
   ]
  },
  {
   "cell_type": "code",
   "execution_count": 15,
   "id": "curious-advocate",
   "metadata": {
    "execution": {
     "iopub.execute_input": "2021-05-07T19:22:53.113205Z",
     "iopub.status.busy": "2021-05-07T19:22:53.113084Z",
     "iopub.status.idle": "2021-05-07T19:22:53.153489Z",
     "shell.execute_reply": "2021-05-07T19:22:53.153118Z",
     "shell.execute_reply.started": "2021-05-07T19:22:53.113191Z"
    },
    "tags": []
   },
   "outputs": [],
   "source": [
    "tokenizer = RegexpTokenizer('[a-zA-Z0-9]+')\n",
    "df.tweet  =  df.tweet.apply(lambda x: tokenizer.tokenize(x))"
   ]
  },
  {
   "cell_type": "code",
   "execution_count": 16,
   "id": "dominican-flashing",
   "metadata": {
    "execution": {
     "iopub.execute_input": "2021-05-07T19:22:53.210551Z",
     "iopub.status.busy": "2021-05-07T19:22:53.210356Z",
     "iopub.status.idle": "2021-05-07T19:22:53.234999Z",
     "shell.execute_reply": "2021-05-07T19:22:53.234603Z",
     "shell.execute_reply.started": "2021-05-07T19:22:53.210530Z"
    },
    "tags": []
   },
   "outputs": [],
   "source": [
    "stop_words_en = set(stopwords.words('english'))\n",
    "df.tweet      = df.tweet.apply(lambda tweet: [word for word in tweet if word not in stop_words_en])"
   ]
  },
  {
   "cell_type": "code",
   "execution_count": 17,
   "id": "religious-boston",
   "metadata": {
    "execution": {
     "iopub.execute_input": "2021-05-07T19:22:53.498214Z",
     "iopub.status.busy": "2021-05-07T19:22:53.497616Z",
     "iopub.status.idle": "2021-05-07T19:22:54.915715Z",
     "shell.execute_reply": "2021-05-07T19:22:54.915042Z",
     "shell.execute_reply.started": "2021-05-07T19:22:53.498161Z"
    },
    "tags": []
   },
   "outputs": [],
   "source": [
    "lemmatizer = WordNetLemmatizer()\n",
    "df.tweet   = df.tweet.apply(lambda tweet: [lemmatizer.lemmatize(word) for word in tweet])"
   ]
  },
  {
   "cell_type": "code",
   "execution_count": 18,
   "id": "strategic-bennett",
   "metadata": {
    "execution": {
     "iopub.execute_input": "2021-05-07T19:22:54.918108Z",
     "iopub.status.busy": "2021-05-07T19:22:54.917884Z",
     "iopub.status.idle": "2021-05-07T19:22:54.935911Z",
     "shell.execute_reply": "2021-05-07T19:22:54.933558Z",
     "shell.execute_reply.started": "2021-05-07T19:22:54.918091Z"
    },
    "tags": []
   },
   "outputs": [],
   "source": [
    "df.tweet = df.tweet.apply(lambda tweet: ' '.join(tweet))\n",
    "# df.tweet_lemmatized = df.tweet_lemmatized.apply(lambda tweet: ' '.join(tweet))"
   ]
  },
  {
   "cell_type": "markdown",
   "id": "polish-george",
   "metadata": {},
   "source": [
    "## FEATURES ENGINEERING"
   ]
  },
  {
   "cell_type": "code",
   "execution_count": 19,
   "id": "atmospheric-aviation",
   "metadata": {
    "execution": {
     "iopub.execute_input": "2021-05-07T19:22:55.805926Z",
     "iopub.status.busy": "2021-05-07T19:22:55.805403Z",
     "iopub.status.idle": "2021-05-07T19:22:55.810660Z",
     "shell.execute_reply": "2021-05-07T19:22:55.809623Z",
     "shell.execute_reply.started": "2021-05-07T19:22:55.805889Z"
    },
    "tags": []
   },
   "outputs": [],
   "source": [
    "twitt = Twitter(df.tweet)"
   ]
  },
  {
   "cell_type": "code",
   "execution_count": null,
   "id": "compliant-lawrence",
   "metadata": {
    "tags": []
   },
   "outputs": [],
   "source": [
    "df['lexical_diversity']= twitt.Lexical_Diversity"
   ]
  },
  {
   "cell_type": "code",
   "execution_count": null,
   "id": "egyptian-korea",
   "metadata": {
    "tags": []
   },
   "outputs": [],
   "source": [
    "df['word_count'] = twitt.WordsCount"
   ]
  },
  {
   "cell_type": "code",
   "execution_count": null,
   "id": "attended-buying",
   "metadata": {},
   "outputs": [],
   "source": []
  },
  {
   "cell_type": "markdown",
   "id": "assured-cleaners",
   "metadata": {},
   "source": [
    "## Modeling"
   ]
  },
  {
   "cell_type": "code",
   "execution_count": 20,
   "id": "progressive-scroll",
   "metadata": {
    "execution": {
     "iopub.execute_input": "2021-05-07T19:23:03.803308Z",
     "iopub.status.busy": "2021-05-07T19:23:03.802940Z",
     "iopub.status.idle": "2021-05-07T19:23:03.823121Z",
     "shell.execute_reply": "2021-05-07T19:23:03.822088Z",
     "shell.execute_reply.started": "2021-05-07T19:23:03.803274Z"
    },
    "tags": []
   },
   "outputs": [
    {
     "name": "stdout",
     "output_type": "stream",
     "text": [
      "Y_ohe Categories:   [\"i can't tell\" 'negative' 'neutral' 'positive']\n",
      "Y_ohe Shape         (9092, 4)\n"
     ]
    }
   ],
   "source": [
    "ohe = OneHotEncoder(sparse=False)\n",
    "Y_ohe = ohe.fit_transform(df.sentiment.values.reshape(-1,1))\n",
    "print(f\"{'Y_ohe Categories:':20}{ohe.categories_[0]}\")\n",
    "print(f\"{'Y_ohe Shape':20}{Y_ohe.shape}\")"
   ]
  },
  {
   "cell_type": "markdown",
   "id": "induced-musician",
   "metadata": {},
   "source": [
    "## Word Embedding - Gensim Word2Vec"
   ]
  },
  {
   "cell_type": "code",
   "execution_count": null,
   "id": "fossil-thesis",
   "metadata": {
    "tags": []
   },
   "outputs": [],
   "source": [
    "import gensim"
   ]
  },
  {
   "cell_type": "code",
   "execution_count": 21,
   "id": "liked-portland",
   "metadata": {
    "execution": {
     "iopub.execute_input": "2021-05-07T19:23:05.391255Z",
     "iopub.status.busy": "2021-05-07T19:23:05.390862Z",
     "iopub.status.idle": "2021-05-07T19:23:05.651474Z",
     "shell.execute_reply": "2021-05-07T19:23:05.651118Z",
     "shell.execute_reply.started": "2021-05-07T19:23:05.391222Z"
    },
    "tags": []
   },
   "outputs": [],
   "source": [
    "from gensim.models import Word2Vec"
   ]
  },
  {
   "cell_type": "markdown",
   "id": "rural-eclipse",
   "metadata": {},
   "source": [
    "instantiate Word2Vec model to obtain an word embedding layer which involve creating 7,570 x 100 sized matrix, whereby we look up a 300 length vector representation for each of the 7,570 words.\n",
    "\n",
    "furthermore we're going to train Word2Vec model with the method SKIP-GRAM which use words to predict a target context."
   ]
  },
  {
   "cell_type": "code",
   "execution_count": 22,
   "id": "modified-adobe",
   "metadata": {
    "execution": {
     "iopub.execute_input": "2021-05-07T19:23:08.737825Z",
     "iopub.status.busy": "2021-05-07T19:23:08.737437Z",
     "iopub.status.idle": "2021-05-07T19:23:10.406803Z",
     "shell.execute_reply": "2021-05-07T19:23:10.406452Z",
     "shell.execute_reply.started": "2021-05-07T19:23:08.737792Z"
    },
    "tags": []
   },
   "outputs": [],
   "source": [
    "w2v_model = Word2Vec(\n",
    "    df.tweet.apply(lambda x: x.split()),\n",
    "    size=100,\n",
    "    window=5,\n",
    "    min_count=1,\n",
    "    sg=1,\n",
    "    hs=0,\n",
    "    negative=5,\n",
    "    workers=4\n",
    ")"
   ]
  },
  {
   "cell_type": "code",
   "execution_count": 23,
   "id": "hidden-october",
   "metadata": {
    "execution": {
     "iopub.execute_input": "2021-05-07T19:23:18.030880Z",
     "iopub.status.busy": "2021-05-07T19:23:18.030465Z",
     "iopub.status.idle": "2021-05-07T19:23:18.187313Z",
     "shell.execute_reply": "2021-05-07T19:23:18.186717Z",
     "shell.execute_reply.started": "2021-05-07T19:23:18.030846Z"
    },
    "tags": []
   },
   "outputs": [
    {
     "data": {
      "text/plain": [
       "(67411, 84160)"
      ]
     },
     "execution_count": 23,
     "metadata": {},
     "output_type": "execute_result"
    }
   ],
   "source": [
    "w2v_model.train(\n",
    "    df.tweet.apply(lambda x: x.split()),\n",
    "    total_examples=w2v_model.corpus_count,\n",
    "    epochs=1\n",
    ")"
   ]
  },
  {
   "cell_type": "code",
   "execution_count": 32,
   "id": "daily-luxembourg",
   "metadata": {
    "execution": {
     "iopub.execute_input": "2021-05-07T19:26:27.287863Z",
     "iopub.status.busy": "2021-05-07T19:26:27.287468Z",
     "iopub.status.idle": "2021-05-07T19:26:27.293198Z",
     "shell.execute_reply": "2021-05-07T19:26:27.292012Z",
     "shell.execute_reply.started": "2021-05-07T19:26:27.287828Z"
    }
   },
   "outputs": [],
   "source": [
    "from sklearn.preprocessing import LabelEncoder"
   ]
  },
  {
   "cell_type": "code",
   "execution_count": null,
   "id": "nuclear-dinner",
   "metadata": {},
   "outputs": [],
   "source": [
    "ohe_w2v = LabelEncoder()\n",
    "X_w2v = ohe_w2v.fit_transform()"
   ]
  },
  {
   "cell_type": "code",
   "execution_count": 36,
   "id": "educational-lodge",
   "metadata": {
    "execution": {
     "iopub.execute_input": "2021-05-07T20:00:39.608100Z",
     "iopub.status.busy": "2021-05-07T20:00:39.607619Z",
     "iopub.status.idle": "2021-05-07T20:00:39.614392Z",
     "shell.execute_reply": "2021-05-07T20:00:39.612902Z",
     "shell.execute_reply.started": "2021-05-07T20:00:39.608066Z"
    },
    "tags": []
   },
   "outputs": [],
   "source": [
    "X_gensim  = w2v_model.wv.vectors\n",
    "# ohe_w2v   = OneHotEncoder(sparse=False)\n",
    "# X_w2v     = ohe_w2v.fit_transform(X_gensim)"
   ]
  },
  {
   "cell_type": "code",
   "execution_count": null,
   "id": "going-cylinder",
   "metadata": {
    "tags": []
   },
   "outputs": [],
   "source": [
    "print(f\"dataframe shape {df.shape[0]}\\nWord2Vec  shape {X_gensim.shape[0]}\")"
   ]
  },
  {
   "cell_type": "code",
   "execution_count": null,
   "id": "juvenile-politics",
   "metadata": {
    "tags": []
   },
   "outputs": [],
   "source": [
    "Test_Size = int(X_w2v.shape[0]*.15)\n",
    "\n",
    "X_train_w2v, X_test_w2v, y_train_w2v, y_test_w2v = train_test_split(X_w2v,\n",
    "                                                                    Y_ohe,\n",
    "                                                                    test_size=Test_Size,\n",
    "                                                                    random_state=67)\n",
    "\n",
    "X_train_w2v, X_val_w2v, y_train_w2v, y_val_w2v = train_test_split(X_train_w2v,\n",
    "                                                                  y_train_w2v,\n",
    "                                                                  test_size=Test_Size,\n",
    "                                                                  random_state=67)\n",
    "\n",
    "print(f\"Train\\n\\t{'X :':5}{X_train_w2v.shape}\\n\\t{'Y :':5}{y_train_w2v.shape}\")\n",
    "print(f\"Test\\n\\t{'X :':5}{X_test_w2v.shape}\\n\\t{'Y :':5}{y_test_w2v.shape}\")\n",
    "print(f\"Validation\\n\\t{'X :':5}{X_val_w2v.shape}\\n\\t{'Y :':5}{y_val_w2v.shape}\")"
   ]
  },
  {
   "cell_type": "code",
   "execution_count": null,
   "id": "imported-weight",
   "metadata": {},
   "outputs": [],
   "source": []
  },
  {
   "cell_type": "code",
   "execution_count": null,
   "id": "bacterial-strike",
   "metadata": {},
   "outputs": [],
   "source": []
  },
  {
   "cell_type": "markdown",
   "id": "electronic-anthony",
   "metadata": {},
   "source": [
    "## MODELING"
   ]
  },
  {
   "cell_type": "code",
   "execution_count": null,
   "id": "impressed-virus",
   "metadata": {
    "tags": []
   },
   "outputs": [],
   "source": [
    "# Test_Size = int(df.shape[0]*.15)\n",
    "\n",
    "# cVectorizer = CountVectorizer() # ngram_range=(1,2)\n",
    "\n",
    "# X_train, X_test, y_train, y_test = train_test_split(df.tweet, Y_ohe, test_size=Test_Size, random_state=67)\n",
    "\n",
    "# X_train   = cVectorizer.fit_transform(X_train)\n",
    "# X_train   = X_train.toarray()\n",
    "\n",
    "# X_test    = cVectorizer.transform(X_test)\n",
    "# X_test    = X_test.toarray()\n",
    "\n",
    "# X_train, X_val, y_train, y_val = train_test_split(X_train, y_train, test_size=Test_Size, random_state=67)\n",
    "\n",
    "# print(f\"Train\\n\\t{'X :':5}{X_train.shape}\\n\\t{'Y :':5}{y_train.shape}\")\n",
    "# print(f\"Test\\n\\t{'X :':5}{X_test.shape}\\n\\t{'Y :':5}{y_test.shape}\")\n",
    "# print(f\"Validation\\n\\t{'X :':5}{X_val.shape}\\n\\t{'Y :':5}{y_val.shape}\")"
   ]
  },
  {
   "cell_type": "code",
   "execution_count": null,
   "id": "undefined-snake",
   "metadata": {
    "tags": []
   },
   "outputs": [],
   "source": [
    "Test_Size = int(df.shape[0]*.15)\n",
    "\n",
    "tfidfVectorizer = TfidfVectorizer() #ngram_range=(1,2)\n",
    "\n",
    "X_train, X_test, y_train, y_test = train_test_split(df.tweet, Y_ohe, test_size=Test_Size, random_state=67)\n",
    "\n",
    "X_train   = tfidfVectorizer.fit_transform(X_train)\n",
    "X_train   = X_train.toarray()\n",
    "\n",
    "X_test    = tfidfVectorizer.transform(X_test)\n",
    "X_test    = X_test.toarray()\n",
    "\n",
    "X_train, X_val, y_train, y_val = train_test_split(X_train, y_train, test_size=Test_Size, random_state=67)\n",
    "\n",
    "print(f\"Train\\n\\t{'X :':5}{X_train.shape}\\n\\t{'Y :':5}{y_train.shape}\")\n",
    "print(f\"Test\\n\\t{'X :':5}{X_test.shape}\\n\\t{'Y :':5}{y_test.shape}\")\n",
    "print(f\"Validation\\n\\t{'X :':5}{X_val.shape}\\n\\t{'Y :':5}{y_val.shape}\")"
   ]
  },
  {
   "cell_type": "code",
   "execution_count": null,
   "id": "comparative-pocket",
   "metadata": {
    "tags": []
   },
   "outputs": [],
   "source": [
    "X_train[0].shape"
   ]
  },
  {
   "cell_type": "code",
   "execution_count": null,
   "id": "earned-lover",
   "metadata": {},
   "outputs": [],
   "source": []
  },
  {
   "cell_type": "code",
   "execution_count": null,
   "id": "alternative-specialist",
   "metadata": {},
   "outputs": [],
   "source": []
  },
  {
   "cell_type": "code",
   "execution_count": null,
   "id": "recognized-travel",
   "metadata": {},
   "outputs": [],
   "source": []
  },
  {
   "cell_type": "code",
   "execution_count": null,
   "id": "military-tracy",
   "metadata": {},
   "outputs": [],
   "source": []
  },
  {
   "cell_type": "code",
   "execution_count": null,
   "id": "residential-spain",
   "metadata": {},
   "outputs": [],
   "source": [
    "model = Sequential()"
   ]
  },
  {
   "cell_type": "code",
   "execution_count": null,
   "id": "regulated-mercury",
   "metadata": {},
   "outputs": [],
   "source": [
    "model.add(\n",
    "    layers.Conv2D(32,\n",
    "    )\n",
    ")"
   ]
  },
  {
   "cell_type": "code",
   "execution_count": null,
   "id": "romance-exercise",
   "metadata": {},
   "outputs": [],
   "source": []
  },
  {
   "cell_type": "code",
   "execution_count": null,
   "id": "gross-certificate",
   "metadata": {},
   "outputs": [],
   "source": []
  },
  {
   "cell_type": "code",
   "execution_count": null,
   "id": "coordinate-purchase",
   "metadata": {},
   "outputs": [],
   "source": []
  },
  {
   "cell_type": "code",
   "execution_count": null,
   "id": "adult-stability",
   "metadata": {},
   "outputs": [],
   "source": []
  },
  {
   "cell_type": "code",
   "execution_count": null,
   "id": "tested-evidence",
   "metadata": {},
   "outputs": [],
   "source": []
  },
  {
   "cell_type": "code",
   "execution_count": null,
   "id": "willing-blackberry",
   "metadata": {},
   "outputs": [],
   "source": []
  },
  {
   "cell_type": "code",
   "execution_count": null,
   "id": "several-timothy",
   "metadata": {
    "tags": []
   },
   "outputs": [],
   "source": [
    "# tf.keras.losses.BinaryCrossentropy"
   ]
  },
  {
   "cell_type": "code",
   "execution_count": null,
   "id": "eleven-diamond",
   "metadata": {
    "tags": []
   },
   "outputs": [],
   "source": [
    "# [np.argmax(p) for p in model.predict(X_train)]"
   ]
  },
  {
   "cell_type": "code",
   "execution_count": null,
   "id": "unexpected-village",
   "metadata": {
    "tags": []
   },
   "outputs": [],
   "source": [
    "# np.argmax([p for p in model.predict(X_train)[0]])"
   ]
  },
  {
   "cell_type": "code",
   "execution_count": null,
   "id": "soviet-uzbekistan",
   "metadata": {
    "tags": []
   },
   "outputs": [],
   "source": [
    "# prediction(model, ohe, X_train[[600]])"
   ]
  },
  {
   "cell_type": "code",
   "execution_count": null,
   "id": "handed-circulation",
   "metadata": {},
   "outputs": [],
   "source": []
  },
  {
   "cell_type": "code",
   "execution_count": null,
   "id": "intended-peeing",
   "metadata": {
    "tags": []
   },
   "outputs": [],
   "source": [
    "model = Sequential()\n",
    "model.add(layers.Dense(units=64, activation='relu', input_dim=X_train.shape[1]))\n",
    "\n",
    "model.add(layers.Dense(units=32, activation='relu'))\n",
    "model.add(layers.Dense(units=16, activation='relu'))\n",
    "model.add(layers.Dense(units=8, activation='relu'))\n",
    "\n",
    "model.add(layers.Dense(units=4, activation='softmax'))\n",
    "model.compile(\n",
    "    optimizer='adam', \n",
    "    loss='categorical_crossentropy', \n",
    "    metrics=['accuracy', 'AUC']\n",
    "    )\n",
    "model.summary()"
   ]
  },
  {
   "cell_type": "code",
   "execution_count": null,
   "id": "neural-triangle",
   "metadata": {
    "tags": []
   },
   "outputs": [],
   "source": [
    "history = model.fit(X_train,\n",
    "                    y_train,\n",
    "                    validation_data=(X_val, y_val),\n",
    "#                     validation_batch_size=10,\n",
    "#                     validation_steps=10,\n",
    "                    epochs=20,\n",
    "                    batch_size=X_train.shape[0],\n",
    "#                     callbacks=[EarlyStopping(patience=5, restore_best_weights=True, verbose=1)]\n",
    "                    )"
   ]
  },
  {
   "cell_type": "code",
   "execution_count": null,
   "id": "organized-scanner",
   "metadata": {
    "tags": []
   },
   "outputs": [],
   "source": [
    "prediction(model, ohe, X_train[[0]])"
   ]
  },
  {
   "cell_type": "code",
   "execution_count": null,
   "id": "received-afghanistan",
   "metadata": {
    "tags": []
   },
   "outputs": [],
   "source": [
    "plot_history(history)"
   ]
  },
  {
   "cell_type": "code",
   "execution_count": null,
   "id": "raised-blogger",
   "metadata": {},
   "outputs": [],
   "source": []
  },
  {
   "cell_type": "code",
   "execution_count": null,
   "id": "monetary-australian",
   "metadata": {},
   "outputs": [],
   "source": [
    "tf.keras.optimizers."
   ]
  },
  {
   "cell_type": "code",
   "execution_count": null,
   "id": "alpha-celebrity",
   "metadata": {
    "tags": []
   },
   "outputs": [],
   "source": [
    "model = Sequential()\n",
    "model.add(layers.Dense(units=64, activation='relu', input_dim=X_train.shape[1]))\n",
    "\n",
    "model.add(layers.Dense(units=32, activation='relu'))\n",
    "model.add(layers.Dense(units=16, activation='relu'))\n",
    "model.add(layers.Dense(units=8, activation='relu', kernel_regularizer=regularizers.l2()))\n",
    "\n",
    "model.add(layers.Dense(units=4, activation='softmax'))\n",
    "model.compile(\n",
    "    optimizer='adam', \n",
    "    loss='categorical_crossentropy', \n",
    "    metrics='AUC'\n",
    "    )\n",
    "model.summary()"
   ]
  },
  {
   "cell_type": "code",
   "execution_count": null,
   "id": "alleged-briefing",
   "metadata": {
    "tags": []
   },
   "outputs": [],
   "source": [
    "history = model.fit(X_train,\n",
    "                    y_train,\n",
    "                    validation_data=(X_val, y_val),\n",
    "#                     validation_batch_size=20,\n",
    "#                     validation_steps=10,\n",
    "                    epochs=200,\n",
    "                    batch_size=X_train.shape[0],\n",
    "                    callbacks=[EarlyStopping(patience=5, restore_best_weights=True, verbose=1)]\n",
    "                    )"
   ]
  },
  {
   "cell_type": "code",
   "execution_count": null,
   "id": "organizational-source",
   "metadata": {
    "tags": []
   },
   "outputs": [],
   "source": [
    "prediction(model, ohe, X_train[[0]])"
   ]
  },
  {
   "cell_type": "code",
   "execution_count": null,
   "id": "prime-circle",
   "metadata": {
    "tags": []
   },
   "outputs": [],
   "source": [
    "plot_history(history)"
   ]
  },
  {
   "cell_type": "code",
   "execution_count": null,
   "id": "stone-runner",
   "metadata": {},
   "outputs": [],
   "source": []
  },
  {
   "cell_type": "code",
   "execution_count": null,
   "id": "constitutional-princeton",
   "metadata": {},
   "outputs": [],
   "source": []
  },
  {
   "cell_type": "code",
   "execution_count": null,
   "id": "another-giant",
   "metadata": {
    "tags": []
   },
   "outputs": [],
   "source": [
    "model = Sequential()\n",
    "model.add(layers.Dense(units=64, activation='relu', input_dim=X_train.shape[1]))\n",
    "\n",
    "model.add(layers.Dense(units=32, activation='relu', kernel_regularizer=regularizers.l2()))\n",
    "model.add(layers.Dense(units=16, activation='relu', kernel_regularizer=regularizers.l2()))\n",
    "model.add(layers.Dense(units=8, activation='relu', kernel_regularizer=regularizers.l2()))\n",
    "\n",
    "model.add(layers.Dense(units=4, activation='softmax'))\n",
    "model.compile(\n",
    "    optimizer='RMSProp', \n",
    "    loss='categorical_crossentropy', \n",
    "    metrics='accuracy'\n",
    "    )\n",
    "model.summary()"
   ]
  },
  {
   "cell_type": "code",
   "execution_count": null,
   "id": "annual-practitioner",
   "metadata": {
    "tags": []
   },
   "outputs": [],
   "source": [
    "history = model.fit(\n",
    "    X_train, \n",
    "    y_train, \n",
    "    validation_data=(X_val, y_val), \n",
    "    epochs=400,\n",
    "    batch_size=X_train.shape[0],\n",
    "    callbacks=[EarlyStopping(patience=5, restore_best_weights=True, verbose=1)]\n",
    "    )"
   ]
  },
  {
   "cell_type": "code",
   "execution_count": null,
   "id": "under-container",
   "metadata": {
    "tags": []
   },
   "outputs": [],
   "source": [
    "prediction(model, ohe, X_train[[0]])"
   ]
  },
  {
   "cell_type": "code",
   "execution_count": null,
   "id": "gothic-maine",
   "metadata": {
    "tags": []
   },
   "outputs": [],
   "source": [
    "plot_history(history)"
   ]
  },
  {
   "cell_type": "markdown",
   "id": "reserved-valley",
   "metadata": {},
   "source": [
    "## Stochastic Gradient Descent"
   ]
  },
  {
   "cell_type": "code",
   "execution_count": null,
   "id": "textile-validity",
   "metadata": {},
   "outputs": [],
   "source": [
    "model = Sequential()\n",
    "model.add(layers.Dense(units=4, activation='relu', input_dim=X_train.shape[1]))\n",
    "\n",
    "model.add(layers.Dense(units=8, activation='relu'))\n",
    "model.add(layers.Dense(units=16, activation='relu'))\n",
    "model.add(layers.Dense(units=8, activation='relu'))\n",
    "\n",
    "model.add(layers.Dense(units=4, activation='softmax'))\n",
    "model.compile(\n",
    "    optimizer='RMSProp', \n",
    "    loss='categorical_crossentropy', \n",
    "    metrics=['AUC']\n",
    "    )\n",
    "model.summary()"
   ]
  },
  {
   "cell_type": "code",
   "execution_count": null,
   "id": "experienced-preservation",
   "metadata": {},
   "outputs": [],
   "source": [
    "history = model.fit(X_train,\n",
    "                   y_train,\n",
    "                   validation_data=(X_val, y_val),\n",
    "                   epochs=25,\n",
    "                   batch_size=1 \n",
    "                   )"
   ]
  },
  {
   "cell_type": "code",
   "execution_count": null,
   "id": "valued-filing",
   "metadata": {
    "tags": []
   },
   "outputs": [],
   "source": [
    "prediction(model, ohe, X_train[[0]])"
   ]
  },
  {
   "cell_type": "code",
   "execution_count": null,
   "id": "alpine-capitol",
   "metadata": {},
   "outputs": [],
   "source": [
    "plot_history(history)"
   ]
  },
  {
   "cell_type": "code",
   "execution_count": null,
   "id": "instrumental-scout",
   "metadata": {},
   "outputs": [],
   "source": []
  },
  {
   "cell_type": "code",
   "execution_count": null,
   "id": "threaded-transport",
   "metadata": {},
   "outputs": [],
   "source": []
  },
  {
   "cell_type": "code",
   "execution_count": null,
   "id": "southeast-galaxy",
   "metadata": {},
   "outputs": [],
   "source": [
    "model = Sequential()\n",
    "model.add(layers.Dense(units=4, activation='relu', input_dim=X_train.shape[1]))\n",
    "\n",
    "model.add(layers.Dense(units=8, activation='relu'))\n",
    "model.add(layers.Dense(units=16, activation='relu'))\n",
    "model.add(layers.Dense(units=32, activation='relu'))\n",
    "\n",
    "model.add(layers.Dense(units=4, activation='softmax'))\n",
    "model.compile(\n",
    "    optimizer='adam', \n",
    "    loss='categorical_crossentropy', \n",
    "    metrics=['AUC']\n",
    "    )\n",
    "model.summary()"
   ]
  },
  {
   "cell_type": "code",
   "execution_count": null,
   "id": "general-colleague",
   "metadata": {
    "tags": []
   },
   "outputs": [],
   "source": [
    "history = model.fit(X_train,\n",
    "                   y_train,\n",
    "                   validation_data=(X_val, y_val),\n",
    "                   epochs=15,\n",
    "                   batch_size=2 \n",
    "                   )"
   ]
  },
  {
   "cell_type": "code",
   "execution_count": null,
   "id": "continent-happening",
   "metadata": {},
   "outputs": [],
   "source": [
    "plot_history(history)"
   ]
  },
  {
   "cell_type": "code",
   "execution_count": null,
   "id": "instrumental-sydney",
   "metadata": {
    "tags": []
   },
   "outputs": [],
   "source": [
    "model = Sequential()\n",
    "model.add(layers.Dense(units=4, activation='relu', input_dim=X_train.shape[1]))\n",
    "\n",
    "model.add(layers.Dense(units=4, activation='relu', kernel_regularizer=regularizers.l2()))\n",
    "model.add(layers.Dense(units=8, activation='relu', kernel_regularizer=regularizers.l2()))\n",
    "model.add(layers.Dense(units=16, activation='relu', kernel_regularizer=regularizers.l2()))\n",
    "\n",
    "model.add(layers.Dense(units=4, activation='softmax'))\n",
    "model.compile(\n",
    "    optimizer='adam', \n",
    "    loss='categorical_crossentropy', \n",
    "    metrics=['accuracy']\n",
    "    )\n",
    "model.summary()"
   ]
  },
  {
   "cell_type": "code",
   "execution_count": null,
   "id": "extreme-executive",
   "metadata": {
    "tags": []
   },
   "outputs": [],
   "source": [
    "history = model.fit(X_train,\n",
    "                   y_train,\n",
    "                   validation_data=(X_val, y_val),\n",
    "                   epochs=15,\n",
    "                   batch_size=15 \n",
    "                   )"
   ]
  },
  {
   "cell_type": "code",
   "execution_count": null,
   "id": "lucky-purple",
   "metadata": {},
   "outputs": [],
   "source": [
    "prediction(model, ohe, X_train[[0]])"
   ]
  },
  {
   "cell_type": "code",
   "execution_count": null,
   "id": "higher-liability",
   "metadata": {
    "tags": []
   },
   "outputs": [],
   "source": [
    "plot_history(history)"
   ]
  },
  {
   "cell_type": "code",
   "execution_count": null,
   "id": "visible-thursday",
   "metadata": {
    "tags": []
   },
   "outputs": [],
   "source": [
    "model.predict(X_test[[0]])"
   ]
  },
  {
   "cell_type": "code",
   "execution_count": null,
   "id": "external-lithuania",
   "metadata": {
    "tags": []
   },
   "outputs": [],
   "source": [
    "predictions_df = pd.DataFrame(\n",
    "    zip(ohe.categories_[0], model.predict(X_test[[0]])[0]),\n",
    "    columns=['Target', 'Softmax']\n",
    "    )\n",
    "predictions_df"
   ]
  },
  {
   "cell_type": "code",
   "execution_count": null,
   "id": "digital-stable",
   "metadata": {},
   "outputs": [],
   "source": []
  }
 ],
 "metadata": {
  "kernelspec": {
   "display_name": "Python 3",
   "language": "python",
   "name": "python3"
  },
  "language_info": {
   "codemirror_mode": {
    "name": "ipython",
    "version": 3
   },
   "file_extension": ".py",
   "mimetype": "text/x-python",
   "name": "python",
   "nbconvert_exporter": "python",
   "pygments_lexer": "ipython3",
   "version": "3.8.8"
  }
 },
 "nbformat": 4,
 "nbformat_minor": 5
}
