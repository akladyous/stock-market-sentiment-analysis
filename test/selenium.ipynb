{
 "cells": [
  {
   "cell_type": "code",
   "execution_count": 186,
   "id": "bottom-rouge",
   "metadata": {
    "execution": {
     "iopub.execute_input": "2021-05-26T21:45:09.256903Z",
     "iopub.status.busy": "2021-05-26T21:45:09.256272Z",
     "iopub.status.idle": "2021-05-26T21:45:09.263724Z",
     "shell.execute_reply": "2021-05-26T21:45:09.262322Z",
     "shell.execute_reply.started": "2021-05-26T21:45:09.256835Z"
    },
    "tags": []
   },
   "outputs": [],
   "source": [
    "from selenium import webdriver"
   ]
  },
  {
   "cell_type": "code",
   "execution_count": 71,
   "id": "baking-specification",
   "metadata": {
    "execution": {
     "iopub.execute_input": "2021-05-26T20:18:52.352725Z",
     "iopub.status.busy": "2021-05-26T20:18:52.352330Z",
     "iopub.status.idle": "2021-05-26T20:18:52.357199Z",
     "shell.execute_reply": "2021-05-26T20:18:52.355663Z",
     "shell.execute_reply.started": "2021-05-26T20:18:52.352690Z"
    },
    "tags": []
   },
   "outputs": [],
   "source": [
    "from bs4 import BeautifulSoup as BS"
   ]
  },
  {
   "cell_type": "code",
   "execution_count": 187,
   "id": "revised-removal",
   "metadata": {
    "execution": {
     "iopub.execute_input": "2021-05-26T21:45:10.743273Z",
     "iopub.status.busy": "2021-05-26T21:45:10.742899Z",
     "iopub.status.idle": "2021-05-26T21:45:14.526418Z",
     "shell.execute_reply": "2021-05-26T21:45:14.525886Z",
     "shell.execute_reply.started": "2021-05-26T21:45:10.743234Z"
    },
    "tags": []
   },
   "outputs": [],
   "source": [
    "driver = webdriver.Chrome(executable_path=\"/usr/local/bin/chromedriver\")"
   ]
  },
  {
   "cell_type": "code",
   "execution_count": 73,
   "id": "worst-winter",
   "metadata": {
    "execution": {
     "iopub.execute_input": "2021-05-26T20:18:57.663645Z",
     "iopub.status.busy": "2021-05-26T20:18:57.663378Z",
     "iopub.status.idle": "2021-05-26T20:18:57.666039Z",
     "shell.execute_reply": "2021-05-26T20:18:57.665605Z",
     "shell.execute_reply.started": "2021-05-26T20:18:57.663625Z"
    },
    "tags": []
   },
   "outputs": [],
   "source": [
    "url = 'https://www.cnbc.com/2021/05/25/home-prices-in-march-saw-highest-growth-in-over-15-years-sp-case-shiller.html'"
   ]
  },
  {
   "cell_type": "code",
   "execution_count": 189,
   "id": "committed-rotation",
   "metadata": {
    "execution": {
     "iopub.execute_input": "2021-05-26T21:45:25.664057Z",
     "iopub.status.busy": "2021-05-26T21:45:25.663407Z",
     "iopub.status.idle": "2021-05-26T21:45:25.670291Z",
     "shell.execute_reply": "2021-05-26T21:45:25.668780Z",
     "shell.execute_reply.started": "2021-05-26T21:45:25.663989Z"
    },
    "tags": []
   },
   "outputs": [],
   "source": [
    "url='https://www.reuters.com/article/us-usa-economy-homes/u-s-home-prices-rose-more-than-expected-in-march-sp-case-shiller-idUSKCN2D61KC'"
   ]
  },
  {
   "cell_type": "code",
   "execution_count": 190,
   "id": "renewable-pregnancy",
   "metadata": {
    "execution": {
     "iopub.execute_input": "2021-05-26T21:45:27.123224Z",
     "iopub.status.busy": "2021-05-26T21:45:27.122709Z",
     "iopub.status.idle": "2021-05-26T21:45:39.060968Z",
     "shell.execute_reply": "2021-05-26T21:45:39.060557Z",
     "shell.execute_reply.started": "2021-05-26T21:45:27.123156Z"
    },
    "tags": []
   },
   "outputs": [],
   "source": [
    "driver.get(url)"
   ]
  },
  {
   "cell_type": "code",
   "execution_count": 75,
   "id": "graphic-privacy",
   "metadata": {
    "execution": {
     "iopub.execute_input": "2021-05-26T20:19:01.402034Z",
     "iopub.status.busy": "2021-05-26T20:19:01.401864Z",
     "iopub.status.idle": "2021-05-26T20:19:01.719650Z",
     "shell.execute_reply": "2021-05-26T20:19:01.719235Z",
     "shell.execute_reply.started": "2021-05-26T20:19:01.402019Z"
    },
    "tags": []
   },
   "outputs": [],
   "source": [
    "source = driver.page_source"
   ]
  },
  {
   "cell_type": "code",
   "execution_count": 193,
   "id": "incorporated-state",
   "metadata": {
    "execution": {
     "iopub.execute_input": "2021-05-26T21:46:38.377476Z",
     "iopub.status.busy": "2021-05-26T21:46:38.377140Z",
     "iopub.status.idle": "2021-05-26T21:46:38.534454Z",
     "shell.execute_reply": "2021-05-26T21:46:38.534067Z",
     "shell.execute_reply.started": "2021-05-26T21:46:38.377443Z"
    }
   },
   "outputs": [],
   "source": [
    "article= []\n",
    "for x in driver.find_element_by_xpath(\"/html/body\").find_elements_by_css_selector(\"p\"):\n",
    "    article.append(x.text)"
   ]
  },
  {
   "cell_type": "code",
   "execution_count": 200,
   "id": "absolute-olive",
   "metadata": {
    "execution": {
     "iopub.execute_input": "2021-05-26T21:48:24.291411Z",
     "iopub.status.busy": "2021-05-26T21:48:24.291049Z",
     "iopub.status.idle": "2021-05-26T21:48:24.295401Z",
     "shell.execute_reply": "2021-05-26T21:48:24.294418Z",
     "shell.execute_reply.started": "2021-05-26T21:48:24.291377Z"
    },
    "tags": []
   },
   "outputs": [],
   "source": [
    "a = \"\".join(article)"
   ]
  },
  {
   "cell_type": "code",
   "execution_count": 202,
   "id": "sudden-integral",
   "metadata": {
    "execution": {
     "iopub.execute_input": "2021-05-26T21:57:48.815835Z",
     "iopub.status.busy": "2021-05-26T21:57:48.815345Z",
     "iopub.status.idle": "2021-05-26T21:57:48.821367Z",
     "shell.execute_reply": "2021-05-26T21:57:48.820415Z",
     "shell.execute_reply.started": "2021-05-26T21:57:48.815783Z"
    },
    "tags": []
   },
   "outputs": [
    {
     "data": {
      "text/plain": [
       "\"U.S. single-family home prices in 20 key urban markets rose in March from a year earlier by the most in more than seven years, a closely watched survey said on Tuesday.The S&P/Case Shiller composite index of 20 metropolitan areas gained 13.3% through the 12 months ended in March on a seasonally adjusted basis, the largest annual price increase since December 2013. A Reuters poll of economists had forecast a 12.3% increase.On month-to-month basis, the 20-city composite index rose 1.6% from February. Economists polled by Reuters had been expecting a 1.2% increase.U.S. existing home sales fell for a third straight month in April as an acute shortage of properties drove prices to a record high, data from the National Association of Realtors showed on Friday. read moreLater on Tuesday, the Commerce Department will report new home sales for April, which are expected to moderate again.Our Standards: The Thomson Reuters Trust Principles.Subscribe for our daily curated newsletter to receive the latest exclusive Reuters coverage delivered to your inbox.A tiny hedge fund dealt a major blow to Exxon Mobil Corp on Wednesday, unseating at least two board members in a bid to force the company's leadership to reckon with the risk of failing to adjust its business strategy to match global efforts to combat climate change.Reuters, the news and media division of Thomson Reuters, is the world’s largest multimedia news provider, reaching billions of people worldwide every day. Reuters provides business, financial, national and international news to professionals via desktop terminals, the world's media organizations, industry events and directly to consumers.Build the strongest argument relying on authoritative content, attorney-editor expertise, and industry defining technology.The most comprehensive solution to manage all your complex and ever-expanding tax and compliance needs.The industry leader for online information for tax, accounting and finance professionals.Information, analytics and exclusive news on financial markets - delivered in an intuitive desktop and mobile interface.Access to real-time, reference, and non-real time data in the cloud to power your enterprise.Screen for heightened risk individual and entities globally to help uncover hidden risks in business relationships and human networks.All quotes delayed a minimum of 15 minutes. See here for a complete list of exchanges and delays.© 2021 Reuters. All rights reserved\""
      ]
     },
     "execution_count": 202,
     "metadata": {},
     "output_type": "execute_result"
    }
   ],
   "source": [
    "a"
   ]
  },
  {
   "cell_type": "code",
   "execution_count": 164,
   "id": "looking-sustainability",
   "metadata": {
    "execution": {
     "iopub.execute_input": "2021-05-26T21:21:20.324222Z",
     "iopub.status.busy": "2021-05-26T21:21:20.323737Z",
     "iopub.status.idle": "2021-05-26T21:21:20.348876Z",
     "shell.execute_reply": "2021-05-26T21:21:20.348197Z",
     "shell.execute_reply.started": "2021-05-26T21:21:20.324172Z"
    },
    "tags": []
   },
   "outputs": [],
   "source": [
    "e = driver.find_elements_by_tag_name(\"p\")"
   ]
  },
  {
   "cell_type": "code",
   "execution_count": null,
   "id": "secret-baseline",
   "metadata": {
    "tags": []
   },
   "outputs": [],
   "source": []
  },
  {
   "cell_type": "code",
   "execution_count": null,
   "id": "failing-democracy",
   "metadata": {},
   "outputs": [],
   "source": []
  },
  {
   "cell_type": "code",
   "execution_count": 191,
   "id": "seven-going",
   "metadata": {
    "execution": {
     "iopub.execute_input": "2021-05-26T21:45:40.197838Z",
     "iopub.status.busy": "2021-05-26T21:45:40.197560Z",
     "iopub.status.idle": "2021-05-26T21:45:40.988273Z",
     "shell.execute_reply": "2021-05-26T21:45:40.986374Z",
     "shell.execute_reply.started": "2021-05-26T21:45:40.197816Z"
    },
    "tags": []
   },
   "outputs": [
    {
     "ename": "AttributeError",
     "evalue": "'list' object has no attribute 'find_elements_by_css_selector'",
     "output_type": "error",
     "traceback": [
      "\u001b[0;31m---------------------------------------------------------------------------\u001b[0m",
      "\u001b[0;31mAttributeError\u001b[0m                            Traceback (most recent call last)",
      "\u001b[0;32m<ipython-input-191-d22abd17614b>\u001b[0m in \u001b[0;36m<module>\u001b[0;34m\u001b[0m\n\u001b[0;32m----> 1\u001b[0;31m \u001b[0mdriver\u001b[0m\u001b[0;34m.\u001b[0m\u001b[0mfind_elements_by_xpath\u001b[0m\u001b[0;34m(\u001b[0m\u001b[0;34m'//body[text()]'\u001b[0m\u001b[0;34m)\u001b[0m\u001b[0;34m.\u001b[0m\u001b[0mfind_elements_by_css_selector\u001b[0m\u001b[0;34m(\u001b[0m\u001b[0;34m\"p\"\u001b[0m\u001b[0;34m)\u001b[0m\u001b[0;34m\u001b[0m\u001b[0;34m\u001b[0m\u001b[0m\n\u001b[0m",
      "\u001b[0;31mAttributeError\u001b[0m: 'list' object has no attribute 'find_elements_by_css_selector'"
     ]
    }
   ],
   "source": [
    "driver.find_elements_by_xpath('//body[text()]').find_elements_by_css_selector(\"p\")"
   ]
  },
  {
   "cell_type": "code",
   "execution_count": null,
   "id": "first-bumper",
   "metadata": {},
   "outputs": [],
   "source": [
    "//*[@id=\"MainContentContainer\"]/div/div/div/div[3]/div[2]/div/div[2]/span"
   ]
  },
  {
   "cell_type": "code",
   "execution_count": 182,
   "id": "analyzed-sender",
   "metadata": {
    "execution": {
     "iopub.execute_input": "2021-05-26T21:36:17.541733Z",
     "iopub.status.busy": "2021-05-26T21:36:17.541385Z",
     "iopub.status.idle": "2021-05-26T21:36:17.604887Z",
     "shell.execute_reply": "2021-05-26T21:36:17.604482Z",
     "shell.execute_reply.started": "2021-05-26T21:36:17.541699Z"
    },
    "tags": []
   },
   "outputs": [
    {
     "data": {
      "text/plain": [
       "''"
      ]
     },
     "execution_count": 182,
     "metadata": {},
     "output_type": "execute_result"
    }
   ],
   "source": [
    "driver.find_elements_by_xpath(\"/html/body/div[@class!='span']\")[0].text"
   ]
  },
  {
   "cell_type": "code",
   "execution_count": null,
   "id": "closed-accessory",
   "metadata": {},
   "outputs": [],
   "source": []
  },
  {
   "cell_type": "code",
   "execution_count": null,
   "id": "defensive-cover",
   "metadata": {},
   "outputs": [],
   "source": []
  },
  {
   "cell_type": "code",
   "execution_count": null,
   "id": "abroad-humidity",
   "metadata": {},
   "outputs": [],
   "source": [
    "driver.find_elements_by_xpath(\"/html/body/div\")[1].text"
   ]
  },
  {
   "cell_type": "code",
   "execution_count": null,
   "id": "compact-idaho",
   "metadata": {
    "tags": []
   },
   "outputs": [],
   "source": []
  },
  {
   "cell_type": "code",
   "execution_count": 120,
   "id": "sapphire-story",
   "metadata": {
    "execution": {
     "iopub.execute_input": "2021-05-26T20:46:19.237072Z",
     "iopub.status.busy": "2021-05-26T20:46:19.236579Z",
     "iopub.status.idle": "2021-05-26T20:46:19.688600Z",
     "shell.execute_reply": "2021-05-26T20:46:19.688283Z",
     "shell.execute_reply.started": "2021-05-26T20:46:19.237020Z"
    },
    "tags": []
   },
   "outputs": [
    {
     "name": "stdout",
     "output_type": "stream",
     "text": [
      "[<selenium.webdriver.remote.webelement.WebElement (session=\"d8aea44d1ff4eed2fee5d66b364e3adb\", element=\"ff293d1c-7ffa-4019-9055-ceb8a8d74aad\")>]\n",
      "[<selenium.webdriver.remote.webelement.WebElement (session=\"d8aea44d1ff4eed2fee5d66b364e3adb\", element=\"ff293d1c-7ffa-4019-9055-ceb8a8d74aad\")>]\n",
      "[<selenium.webdriver.remote.webelement.WebElement (session=\"d8aea44d1ff4eed2fee5d66b364e3adb\", element=\"ff293d1c-7ffa-4019-9055-ceb8a8d74aad\")>]\n",
      "[<selenium.webdriver.remote.webelement.WebElement (session=\"d8aea44d1ff4eed2fee5d66b364e3adb\", element=\"ff293d1c-7ffa-4019-9055-ceb8a8d74aad\")>]\n",
      "[<selenium.webdriver.remote.webelement.WebElement (session=\"d8aea44d1ff4eed2fee5d66b364e3adb\", element=\"ff293d1c-7ffa-4019-9055-ceb8a8d74aad\")>]\n",
      "[<selenium.webdriver.remote.webelement.WebElement (session=\"d8aea44d1ff4eed2fee5d66b364e3adb\", element=\"ff293d1c-7ffa-4019-9055-ceb8a8d74aad\")>]\n",
      "[<selenium.webdriver.remote.webelement.WebElement (session=\"d8aea44d1ff4eed2fee5d66b364e3adb\", element=\"ff293d1c-7ffa-4019-9055-ceb8a8d74aad\")>]\n",
      "[<selenium.webdriver.remote.webelement.WebElement (session=\"d8aea44d1ff4eed2fee5d66b364e3adb\", element=\"ff293d1c-7ffa-4019-9055-ceb8a8d74aad\")>]\n",
      "[<selenium.webdriver.remote.webelement.WebElement (session=\"d8aea44d1ff4eed2fee5d66b364e3adb\", element=\"ff293d1c-7ffa-4019-9055-ceb8a8d74aad\")>]\n",
      "[<selenium.webdriver.remote.webelement.WebElement (session=\"d8aea44d1ff4eed2fee5d66b364e3adb\", element=\"ff293d1c-7ffa-4019-9055-ceb8a8d74aad\")>]\n",
      "[<selenium.webdriver.remote.webelement.WebElement (session=\"d8aea44d1ff4eed2fee5d66b364e3adb\", element=\"ff293d1c-7ffa-4019-9055-ceb8a8d74aad\")>]\n",
      "[<selenium.webdriver.remote.webelement.WebElement (session=\"d8aea44d1ff4eed2fee5d66b364e3adb\", element=\"ff293d1c-7ffa-4019-9055-ceb8a8d74aad\")>]\n",
      "[<selenium.webdriver.remote.webelement.WebElement (session=\"d8aea44d1ff4eed2fee5d66b364e3adb\", element=\"ff293d1c-7ffa-4019-9055-ceb8a8d74aad\")>]\n",
      "[<selenium.webdriver.remote.webelement.WebElement (session=\"d8aea44d1ff4eed2fee5d66b364e3adb\", element=\"ff293d1c-7ffa-4019-9055-ceb8a8d74aad\")>]\n",
      "[<selenium.webdriver.remote.webelement.WebElement (session=\"d8aea44d1ff4eed2fee5d66b364e3adb\", element=\"ff293d1c-7ffa-4019-9055-ceb8a8d74aad\")>]\n",
      "[<selenium.webdriver.remote.webelement.WebElement (session=\"d8aea44d1ff4eed2fee5d66b364e3adb\", element=\"ff293d1c-7ffa-4019-9055-ceb8a8d74aad\")>]\n",
      "[<selenium.webdriver.remote.webelement.WebElement (session=\"d8aea44d1ff4eed2fee5d66b364e3adb\", element=\"ff293d1c-7ffa-4019-9055-ceb8a8d74aad\")>]\n",
      "[<selenium.webdriver.remote.webelement.WebElement (session=\"d8aea44d1ff4eed2fee5d66b364e3adb\", element=\"ff293d1c-7ffa-4019-9055-ceb8a8d74aad\")>]\n",
      "[<selenium.webdriver.remote.webelement.WebElement (session=\"d8aea44d1ff4eed2fee5d66b364e3adb\", element=\"ff293d1c-7ffa-4019-9055-ceb8a8d74aad\")>]\n",
      "[<selenium.webdriver.remote.webelement.WebElement (session=\"d8aea44d1ff4eed2fee5d66b364e3adb\", element=\"ff293d1c-7ffa-4019-9055-ceb8a8d74aad\")>]\n",
      "[<selenium.webdriver.remote.webelement.WebElement (session=\"d8aea44d1ff4eed2fee5d66b364e3adb\", element=\"ff293d1c-7ffa-4019-9055-ceb8a8d74aad\")>]\n",
      "[<selenium.webdriver.remote.webelement.WebElement (session=\"d8aea44d1ff4eed2fee5d66b364e3adb\", element=\"ff293d1c-7ffa-4019-9055-ceb8a8d74aad\")>]\n",
      "[<selenium.webdriver.remote.webelement.WebElement (session=\"d8aea44d1ff4eed2fee5d66b364e3adb\", element=\"ff293d1c-7ffa-4019-9055-ceb8a8d74aad\")>]\n",
      "[<selenium.webdriver.remote.webelement.WebElement (session=\"d8aea44d1ff4eed2fee5d66b364e3adb\", element=\"ff293d1c-7ffa-4019-9055-ceb8a8d74aad\")>]\n",
      "[<selenium.webdriver.remote.webelement.WebElement (session=\"d8aea44d1ff4eed2fee5d66b364e3adb\", element=\"ff293d1c-7ffa-4019-9055-ceb8a8d74aad\")>]\n",
      "[<selenium.webdriver.remote.webelement.WebElement (session=\"d8aea44d1ff4eed2fee5d66b364e3adb\", element=\"ff293d1c-7ffa-4019-9055-ceb8a8d74aad\")>]\n",
      "[<selenium.webdriver.remote.webelement.WebElement (session=\"d8aea44d1ff4eed2fee5d66b364e3adb\", element=\"ff293d1c-7ffa-4019-9055-ceb8a8d74aad\")>]\n",
      "[<selenium.webdriver.remote.webelement.WebElement (session=\"d8aea44d1ff4eed2fee5d66b364e3adb\", element=\"ff293d1c-7ffa-4019-9055-ceb8a8d74aad\")>]\n",
      "[<selenium.webdriver.remote.webelement.WebElement (session=\"d8aea44d1ff4eed2fee5d66b364e3adb\", element=\"ff293d1c-7ffa-4019-9055-ceb8a8d74aad\")>]\n",
      "[<selenium.webdriver.remote.webelement.WebElement (session=\"d8aea44d1ff4eed2fee5d66b364e3adb\", element=\"ff293d1c-7ffa-4019-9055-ceb8a8d74aad\")>]\n",
      "[<selenium.webdriver.remote.webelement.WebElement (session=\"d8aea44d1ff4eed2fee5d66b364e3adb\", element=\"ff293d1c-7ffa-4019-9055-ceb8a8d74aad\")>]\n",
      "[<selenium.webdriver.remote.webelement.WebElement (session=\"d8aea44d1ff4eed2fee5d66b364e3adb\", element=\"ff293d1c-7ffa-4019-9055-ceb8a8d74aad\")>]\n",
      "[<selenium.webdriver.remote.webelement.WebElement (session=\"d8aea44d1ff4eed2fee5d66b364e3adb\", element=\"ff293d1c-7ffa-4019-9055-ceb8a8d74aad\")>]\n",
      "[<selenium.webdriver.remote.webelement.WebElement (session=\"d8aea44d1ff4eed2fee5d66b364e3adb\", element=\"ff293d1c-7ffa-4019-9055-ceb8a8d74aad\")>]\n",
      "[<selenium.webdriver.remote.webelement.WebElement (session=\"d8aea44d1ff4eed2fee5d66b364e3adb\", element=\"ff293d1c-7ffa-4019-9055-ceb8a8d74aad\")>]\n",
      "[<selenium.webdriver.remote.webelement.WebElement (session=\"d8aea44d1ff4eed2fee5d66b364e3adb\", element=\"ff293d1c-7ffa-4019-9055-ceb8a8d74aad\")>]\n",
      "[<selenium.webdriver.remote.webelement.WebElement (session=\"d8aea44d1ff4eed2fee5d66b364e3adb\", element=\"ff293d1c-7ffa-4019-9055-ceb8a8d74aad\")>]\n",
      "[<selenium.webdriver.remote.webelement.WebElement (session=\"d8aea44d1ff4eed2fee5d66b364e3adb\", element=\"ff293d1c-7ffa-4019-9055-ceb8a8d74aad\")>]\n",
      "[<selenium.webdriver.remote.webelement.WebElement (session=\"d8aea44d1ff4eed2fee5d66b364e3adb\", element=\"ff293d1c-7ffa-4019-9055-ceb8a8d74aad\")>]\n",
      "[<selenium.webdriver.remote.webelement.WebElement (session=\"d8aea44d1ff4eed2fee5d66b364e3adb\", element=\"ff293d1c-7ffa-4019-9055-ceb8a8d74aad\")>]\n",
      "[<selenium.webdriver.remote.webelement.WebElement (session=\"d8aea44d1ff4eed2fee5d66b364e3adb\", element=\"ff293d1c-7ffa-4019-9055-ceb8a8d74aad\")>]\n",
      "[<selenium.webdriver.remote.webelement.WebElement (session=\"d8aea44d1ff4eed2fee5d66b364e3adb\", element=\"ff293d1c-7ffa-4019-9055-ceb8a8d74aad\")>]\n",
      "[<selenium.webdriver.remote.webelement.WebElement (session=\"d8aea44d1ff4eed2fee5d66b364e3adb\", element=\"ff293d1c-7ffa-4019-9055-ceb8a8d74aad\")>]\n",
      "[<selenium.webdriver.remote.webelement.WebElement (session=\"d8aea44d1ff4eed2fee5d66b364e3adb\", element=\"ff293d1c-7ffa-4019-9055-ceb8a8d74aad\")>]\n",
      "[<selenium.webdriver.remote.webelement.WebElement (session=\"d8aea44d1ff4eed2fee5d66b364e3adb\", element=\"ff293d1c-7ffa-4019-9055-ceb8a8d74aad\")>]\n",
      "[<selenium.webdriver.remote.webelement.WebElement (session=\"d8aea44d1ff4eed2fee5d66b364e3adb\", element=\"ff293d1c-7ffa-4019-9055-ceb8a8d74aad\")>]\n",
      "[<selenium.webdriver.remote.webelement.WebElement (session=\"d8aea44d1ff4eed2fee5d66b364e3adb\", element=\"ff293d1c-7ffa-4019-9055-ceb8a8d74aad\")>]\n",
      "[<selenium.webdriver.remote.webelement.WebElement (session=\"d8aea44d1ff4eed2fee5d66b364e3adb\", element=\"ff293d1c-7ffa-4019-9055-ceb8a8d74aad\")>]\n",
      "[<selenium.webdriver.remote.webelement.WebElement (session=\"d8aea44d1ff4eed2fee5d66b364e3adb\", element=\"ff293d1c-7ffa-4019-9055-ceb8a8d74aad\")>]\n",
      "[<selenium.webdriver.remote.webelement.WebElement (session=\"d8aea44d1ff4eed2fee5d66b364e3adb\", element=\"ff293d1c-7ffa-4019-9055-ceb8a8d74aad\")>]\n",
      "[<selenium.webdriver.remote.webelement.WebElement (session=\"d8aea44d1ff4eed2fee5d66b364e3adb\", element=\"ff293d1c-7ffa-4019-9055-ceb8a8d74aad\")>]\n",
      "[<selenium.webdriver.remote.webelement.WebElement (session=\"d8aea44d1ff4eed2fee5d66b364e3adb\", element=\"ff293d1c-7ffa-4019-9055-ceb8a8d74aad\")>]\n",
      "[<selenium.webdriver.remote.webelement.WebElement (session=\"d8aea44d1ff4eed2fee5d66b364e3adb\", element=\"ff293d1c-7ffa-4019-9055-ceb8a8d74aad\")>]\n",
      "[<selenium.webdriver.remote.webelement.WebElement (session=\"d8aea44d1ff4eed2fee5d66b364e3adb\", element=\"ff293d1c-7ffa-4019-9055-ceb8a8d74aad\")>]\n",
      "[<selenium.webdriver.remote.webelement.WebElement (session=\"d8aea44d1ff4eed2fee5d66b364e3adb\", element=\"ff293d1c-7ffa-4019-9055-ceb8a8d74aad\")>]\n",
      "[<selenium.webdriver.remote.webelement.WebElement (session=\"d8aea44d1ff4eed2fee5d66b364e3adb\", element=\"ff293d1c-7ffa-4019-9055-ceb8a8d74aad\")>]\n",
      "[<selenium.webdriver.remote.webelement.WebElement (session=\"d8aea44d1ff4eed2fee5d66b364e3adb\", element=\"ff293d1c-7ffa-4019-9055-ceb8a8d74aad\")>]\n"
     ]
    }
   ],
   "source": [
    "for x in driver.find_elements_by_css_selector(\"p\"):\n",
    "    print(x.find_elements_by_xpath(\"/html/body\"))"
   ]
  },
  {
   "cell_type": "code",
   "execution_count": 85,
   "id": "supported-afghanistan",
   "metadata": {
    "execution": {
     "iopub.execute_input": "2021-05-26T20:26:12.281963Z",
     "iopub.status.busy": "2021-05-26T20:26:12.281475Z",
     "iopub.status.idle": "2021-05-26T20:26:12.327429Z",
     "shell.execute_reply": "2021-05-26T20:26:12.326977Z",
     "shell.execute_reply.started": "2021-05-26T20:26:12.281912Z"
    },
    "tags": []
   },
   "outputs": [
    {
     "data": {
      "text/plain": [
       "''"
      ]
     },
     "execution_count": 85,
     "metadata": {},
     "output_type": "execute_result"
    }
   ],
   "source": [
    "driver.find_element_by_xpath(\"/html/body\")."
   ]
  },
  {
   "cell_type": "code",
   "execution_count": 80,
   "id": "measured-creature",
   "metadata": {
    "execution": {
     "iopub.execute_input": "2021-05-26T20:21:20.010045Z",
     "iopub.status.busy": "2021-05-26T20:21:20.009556Z",
     "iopub.status.idle": "2021-05-26T20:21:20.357435Z",
     "shell.execute_reply": "2021-05-26T20:21:20.357073Z",
     "shell.execute_reply.started": "2021-05-26T20:21:20.010003Z"
    },
    "tags": []
   },
   "outputs": [
    {
     "data": {
      "text/plain": [
       "\"Home prices in March saw highest growth in over 15 years, S&P Case-Shiller says\\nSHARE\\nShare Article via Facebook\\nShare Article via Twitter\\nShare Article via LinkedIn\\nShare Article via Email\\nREAL ESTATE\\nHome prices in March saw highest growth in over 15 years, S&P Case-Shiller says\\nPUBLISHED TUE, MAY 25 20219:01 AM EDTUPDATED TUE, MAY 25 20219:37 AM EDT\\nDiana Olick\\n@IN/DIANAOLICK\\n@DIANAOLICKCNBC\\n@DIANAOLICK\\nSHARE\\nShare Article via Facebook\\nShare Article via Twitter\\nShare Article via LinkedIn\\nShare Article via Email\\nKEY POINTS\\nHome prices in March were 13.2% higher in March, compared with March 2020, according to the S&P CoreLogic Case-Shiller National Home Price Index.\\nThe 10-city composite rose 12.8% year over year, up from 11.7% in the previous month. The 20-city composite increased 13.3%, up from 12.0% in February.\\nShare Article via Twitter\\nShare Article via LinkedIn\\nShare Article via Email\\nA real estate broker, right, gives a tour for potential home buyers during an open house in Manhattan Beach, California.\\nPatrick T. Fallon | Bloomberg | Getty Images\\nHome prices in March were 13.2% higher in March, compared with March 2020, according to the S&P CoreLogic Case-Shiller National Home Price Index.\\nThat’s up from the 12% annual gain in February, and it marks the 10th straight month of accelerating home prices.\\nThe March gain is the largest since December 2005 and is one of the largest in the index’s 30-year history. Prices are being pushed higher by incredibly strong competition in the market. High demand is butting up against near record-low supply, resulting in bidding wars for the vast majority of listings.\\nThe 10-city composite rose 12.8% year over year, up from 11.7% in the previous month. The 20-city composite increased 13.3%, up from 12% in February.\\nCities with the strongest price gains continue to be Phoenix, San Diego and Seattle. Phoenix sits at the top with 20% year-over-year price increase, followed by San Diego with a 19.1% increase and Seattle prices rising 18.3%. All 20 cities reported higher price increases in the year ending March 2021 versus the year ending February 2021.\\n“These data are consistent with the hypothesis that Covid has encouraged potential buyers to move from urban apartments to suburban homes,” said Craig Lazzara, managing director and global head of index investment strategy at S&P DJI.\\n“This demand may represent buyers who accelerated purchases that would have happened anyway over the next several years. Alternatively, there may have been a secular change in preferences, leading to a permanent shift in the demand curve for housing,” he added.\\nMortgage rates began rising during this period, with the average rate on the 30-year fixed just below 3% in February and then ending March at around 3.4%, according to Mortgage News Daily. Higher mortgage rates cut into purchasing power and usually put a chill on home prices, but clearly unusual competition in the market is overwhelming the usual mechanics of the market.\\nOnly 1.16 million homes were on the market in April, a 20% drop year over year, according to the National Association of Realtors. The continued shortage of homes, especially at the lower end of the market, forecasts that home prices will not cool off any time soon.\\nSales are beginning to weaken, and prices usually follow, but again, the usual trends are not dependable in this very unusual housing market.\\nTRENDING NOW\\nBiden orders closer review of Covid origins as U.S. intel weighs Wuhan lab leak theory\\nNew round of $1,400 stimulus checks brings total sent to about $391 billion\\nAmazon to buy MGM Studios for $8.45 billion\\nRepublicans call for Fauci’s termination over shifting position on Wuhan lab funding\\nEarn less than $75,000? You may pay nothing in federal income taxes for 2021\\nby Taboola\\nSponsored Links\\nFROM THE WEB\\nMany Lake Worth, Florida Drivers Don’t Even Know This Amazing Tip\\nUS Auto Insurance Now Quotes\\nSeniors Under 86 Years Of Age May Get Up To $100K In Life Insurance for $11/Mth\\nEIM For American Life Ins\\nLearn More\\nMORE FROM CNBC\\nKelly Evans: The housing market is insane\\nGet ready, rents are rising fast again, even in San Francisco\\nUber CEO is ‘not happy’ with how long it’s taking to pick riders up or prices being charged\\nApril existing home sales drop, marking three straight months of declines\\nHouses in the U.S. cost 13.2% more in March 2021 than at the same time last year. Here's why houses are so e…\\nGoogle gets the green light to build multi-billion dollar megacampus in San Jose\\nFROM THE WEB\\nMany Lake Worth, Florida Drivers Don’t Even Know This Amazing Tip\\nUS Auto Insurance Now Quotes\\nFlorida: Say Bye To Your Power Bill If You Own A Home In Lake Worth\\nEnergyBillCruncher\\nCash Rewards You Can Count on and Count Up.\\nWells Fargo\\nCLICK HERE\\n  by Taboola \\nMORE FROM CNBC\\nKelly Evans: The housing market is insane\\nKelly Evans 4 HOURS AGO\\nGoogle gets the green light to build multi-billion dollar megacampus in San Jose\\nJennifer Elias 14 HOURS AGO\\nApril existing home sales drop, marking three straight months of declines\\nDiana Olick\\nGet ready, rents are rising fast again, even in San Francisco\\nDiana Olick\\nHouses in the U.S. cost 13.2% more in March 2021 than at the same time last year. Here’s why houses are so expensive in the U.S. right now\\nShawn Baldwin\\n  by Taboola \\nFROM THE WEB\\nSee Why People with Diabetes Are Using This New App\\nSponsored \\n:\\nDexcom\\nLake Worth, Florida Drivers Are Stunned By This\\nSponsored \\n:\\nUS Auto Insurance Now Quotes\\nLocal leaders support all vaccine options saying “benefits outweigh rare risks”\\nSponsored\\n:\\nAd Council\\nFlorida Launches New Policy For Cars Used Less Than 50 Miles/Day\\nSponsored\\n:\\nProvideInsurance\\nThe buzz around Bitcoin: why 2021 may be the year to invest\\nSponsored\\n:\\neToro\\n  by Taboola \\nFROM THE WEB\\nWellington: Why Are People Snapping Up This $89 AC Unit?\\nSponsored \\n:\\nLifestyletipstoday\\nFlorida Senior Drivers Should Claim This Large Reward (Check If You Qualify)\\nSponsored \\n:\\nProvideInsurance\\nWoman who received J&J vaccine says she “made the right decision”\\nSponsored\\n:\\nAd Council\\nTop Investor: Dump These Stocks Now, Thank Me Later\\nSponsored\\n:\\nThe Legacy Report\\n Florida Government Is Giving Homeowners Solar Panels\\nSponsored\\n:\\nSolar Quotes\\nMORE FROM CNBC\\nWage rises and labor shortage are a ‘democratization’ of U.S. workforce, fund manager says\\nElliot Smith 7 HOURS AGO\\nFighting inflation with a reverse mortgage. What retirees need to know\\nKate Dore 5 HOURS AGO\\nIt’s not your imagination. Rising airfares and hotel rates are making vacations more expensive\\nLeslie Josephs\\nApple CEO Tim Cook faces sharp questioning from judge in Epic Games trial\\nKif Leswing\\nCorn futures drop 6% on larger supply in latest speculative unraveling in the commodities markets\\nThomas Franck\\nSubscribe to CNBC PRO\\nLicensing & Reprints\\nCNBC Councils\\nSupply Chain Values\\nCNBC on Peacock\\nAdvertise With Us\\nJoin the CNBC Panel\\nDigital Products\\nNews Releases\\nClosed Captioning\\nCorrections\\nAbout CNBC\\nInternships\\nSite Map\\nPodcasts\\nAd Choices\\nCareers\\nHelp\\nContact\\nNews Tips\\nGot a confidential news tip? We want to hear from you.\\nGET IN TOUCH\\nCNBC Newsletters\\nSign up for free newsletters and get more CNBC delivered to your inbox\\nSIGN UP NOW\\nGet this delivered to your inbox, and more info about our products and services. \\nPrivacy Policy\\n|\\nDo Not Sell My Personal Information\\n|\\nCA Notice\\n|\\nTerms of Service\\n© 2021 CNBC LLC. All Rights Reserved. A Division of NBCUniversal\\nData is a real-time snapshot *Data is delayed at least 15 minutes. Global Business and Financial News, Stock Quotes, and Market Data and Analysis.\\nMarket Data Terms of Use and Disclaimers\\nData also provided by\\n\\n\\n\\n\\n\\n\\n\\n\\n\\n\\n\\n\\n\\nGuggenheim's Scott Minerd, who called bitcoin's recent crash, warns about what comes next\\nSUBSCRIBE NOW\""
      ]
     },
     "execution_count": 80,
     "metadata": {},
     "output_type": "execute_result"
    }
   ],
   "source": [
    "driver.find_element_by_xpath(\"/html/body\").text"
   ]
  },
  {
   "cell_type": "code",
   "execution_count": 167,
   "id": "differential-income",
   "metadata": {
    "execution": {
     "iopub.execute_input": "2021-05-26T21:22:16.068707Z",
     "iopub.status.busy": "2021-05-26T21:22:16.068266Z",
     "iopub.status.idle": "2021-05-26T21:22:16.108146Z",
     "shell.execute_reply": "2021-05-26T21:22:16.107649Z",
     "shell.execute_reply.started": "2021-05-26T21:22:16.068667Z"
    },
    "tags": []
   },
   "outputs": [],
   "source": [
    "soup = BS(source, 'html.parser')"
   ]
  },
  {
   "cell_type": "code",
   "execution_count": 171,
   "id": "unlike-month",
   "metadata": {
    "execution": {
     "iopub.execute_input": "2021-05-26T21:26:54.417745Z",
     "iopub.status.busy": "2021-05-26T21:26:54.417264Z",
     "iopub.status.idle": "2021-05-26T21:26:54.427298Z",
     "shell.execute_reply": "2021-05-26T21:26:54.426440Z",
     "shell.execute_reply.started": "2021-05-26T21:26:54.417694Z"
    },
    "tags": []
   },
   "outputs": [
    {
     "data": {
      "text/plain": [
       "[<p id=\"MainContent\" tabindex=\"-1\"></p>,\n",
       " <p>Home prices in March were 13.2% higher in March, compared with March 2020, according to the S&amp;P CoreLogic Case-Shiller National Home Price Index.</p>,\n",
       " <p>That’s up from the 12% annual gain in February, and it marks the 10th straight month of accelerating home prices.</p>,\n",
       " <p>The March gain is the largest since December 2005 and is one of the largest in the index’s 30-year history. Prices are being pushed higher by incredibly strong competition in the market. High demand is butting up against near record-low supply, resulting in bidding wars for the vast majority of listings.</p>,\n",
       " <p>The 10-city composite rose 12.8% year over year, up from 11.7% in the previous month. The 20-city composite increased 13.3%, up from 12% in February.</p>,\n",
       " <p>Cities with the strongest price gains continue to be Phoenix, San Diego and Seattle. Phoenix sits at the top with 20% year-over-year price increase, followed by San Diego with a 19.1% increase and Seattle prices rising 18.3%. All 20 cities reported higher price increases in the year ending March 2021 versus the year ending February 2021.</p>,\n",
       " <p>“These data are consistent with the hypothesis that Covid has encouraged potential buyers to move from urban apartments to suburban homes,” said Craig Lazzara, managing director and global head of index investment strategy at S&amp;P DJI.</p>,\n",
       " <p>“This demand may represent buyers who accelerated purchases that would have happened anyway over the next several years. Alternatively, there may have been a secular change in preferences, leading to a permanent shift in the demand curve for housing,” he added.</p>,\n",
       " <p>Mortgage rates began rising during this period, with the average rate on the 30-year fixed just below 3% in February and then ending March at around 3.4%, according to Mortgage News Daily. Higher mortgage rates cut into purchasing power and usually put a chill on home prices, but clearly unusual competition in the market is overwhelming the usual mechanics of the market.</p>,\n",
       " <p>Only  1.16 million homes were on the market in April, a 20% drop year over year, according to the National Association of Realtors. The continued shortage of homes, especially at the lower end of the market, forecasts that home prices will not cool off any time soon.</p>,\n",
       " <p>Sales are beginning to weaken, and prices usually follow, but again, the usual trends are not dependable in this very unusual housing market.</p>,\n",
       " <p class=\"CNBCFooter-sectionInfo\">Got a confidential news tip? We want to hear from you.</p>,\n",
       " <p class=\"CNBCFooter-sectionInfo\">Sign up for free newsletters and get more CNBC delivered to your inbox</p>,\n",
       " <p class=\"CNBCFooter-copyright\">Get this delivered to your inbox, and more info about our products and services. </p>,\n",
       " <p class=\"CNBCFooter-copyright\">© <!-- -->2021<!-- --> CNBC LLC. All Rights Reserved.<!-- --> <a href=\"https://www.nbcuniversal.com\" target=\"_blank\">A Division of NBCUniversal</a></p>,\n",
       " <p class=\"CNBCFooter-copyright\">Data is a real-time snapshot *Data is delayed at least 15 minutes. Global Business and Financial News, Stock Quotes, and Market Data and Analysis.</p>,\n",
       " <p class=\"CNBCFooter-copyright\">Data also provided by<!-- --> <a href=\"//www.cnbc.com/market-data-terms-of-service/\"><img alt=\"Reuters\" class=\"CNBCFooter-reutersLogo\" src=\"data:image/svg+xml;base64,PHN2ZyBpZD0iTGF5ZXJfMSIgZGF0YS1uYW1lPSJMYXllciAxIiB4bWxucz0iaHR0cDovL3d3dy53My5vcmcvMjAwMC9zdmciIHZpZXdCb3g9IjAgMCA2NjIuNTIgMjIxLjkzIj48ZGVmcz48c3R5bGU+LmNscy0xe2ZpbGw6bm9uZTt9LmNscy0ye2ZpbGw6I2ZmZjt9PC9zdHlsZT48L2RlZnM+PHRpdGxlPlJlZmluaXRpdl9oX3RtX3c8L3RpdGxlPjxyZWN0IGNsYXNzPSJjbHMtMSIgd2lkdGg9IjY2Mi41MiIgaGVpZ2h0PSIyMjEuOTMiLz48cGF0aCBjbGFzcz0iY2xzLTIiIGQ9Ik02MDcuNDIsMTY2LjgySDU4OS42OWwtNjItNjJoNzAuODh2MTIuNDFINTU3LjgyWk01OTguNTYsNTUuMUg0ODYuODRWMTY2LjgyaDEyLjQxVjY3LjUxaDk5LjMxWk00NDEuMzUsODQuMjV2OC4wN2gtMVY4NC4yNUg0MzcuN3YtLjg0SDQ0NHYuODRabTExLjU0LDguMDdWODQuMThoMGwtMi41LDguMTRoLS43NmwtMi41LTguMTRoMHY4LjE0aC0uODlWODMuNDFoMS41M2wyLjI3LDcuMmgwbDIuMjQtNy4yaDEuNTV2OC45MVpNODUuMzYsMTM4LjUxaDExTDg0LjE1LDExMy43NWwuNDEtLjEyYzYuNC0xLjgyLDEwLTYuOTMsMTAtMTRDOTQuNDIsODkuMzEsODgsODMuNDEsNzcsODMuNDFINTUuMXY1NS4xaDkuOTVWMTE1Ljc4aDkuNzlaTTY1LjA1LDEwNy44NFY5MS4zNWgxMC4xYzYuMTYsMCw5LjQxLDIuODUsOS40MSw4LjI1LDAsNS44NS0zLjI2LDguMjQtMTEuMjYsOC4yNFptNzEuOSw2LjA5di04LjI1SDExNy44NnYtMTRoMjYuMjhWODMuNDFIMTA3LjkxdjU1LjFIMTQ1di04LjI1SDExNy44NlYxMTMuOTNabTUwLjE4LTguMjVIMTY4LjV2LTE0aDI0Ljg5VjgzLjQxSDE1OC41NXY1NS4xaDkuOTVWMTEzLjkzaDE4LjYzWm0xOC4xOS0yMi4yN3Y1NS4xaDEwVjgzLjQxWm04Ni4yMSwwdjU1LjFoMTBWODMuNDFabTYxLjI5LDBIMzEzLjY0djguMjVoMTQuNjF2NDYuODVoOS45NVY5MS42NmgxNC42MlptMTIuMDgsMHY1NS4xaDEwVjgzLjQxWm0tOTkuNSwwdjM5LjA1aC0uMTVsLTIyLjUzLTM5SDIzMi4xNXY1NS4xaDkuMzNWOTcuNzZoLjE1bDEyLjMsMjEuNDVoMEwyNjUsMTM4LjUxaDkuNzJWODMuNDFabTE1Ni41OCwwLTEyLjkxLDQ0LjY2SDQwOWwtMTIuOS00NC42NmgtOS43NmwxNyw1NS4xaDExLjM3bDE3LTU1LjFaIi8+PC9zdmc+\"/></a></p>]"
      ]
     },
     "execution_count": 171,
     "metadata": {},
     "output_type": "execute_result"
    }
   ],
   "source": [
    "soup.find_all(\"p\")"
   ]
  },
  {
   "cell_type": "code",
   "execution_count": null,
   "id": "thorough-planet",
   "metadata": {},
   "outputs": [],
   "source": []
  },
  {
   "cell_type": "code",
   "execution_count": 32,
   "id": "fourth-battlefield",
   "metadata": {
    "execution": {
     "iopub.execute_input": "2021-05-26T19:48:10.743167Z",
     "iopub.status.busy": "2021-05-26T19:48:10.742694Z",
     "iopub.status.idle": "2021-05-26T19:48:10.769851Z",
     "shell.execute_reply": "2021-05-26T19:48:10.768715Z",
     "shell.execute_reply.started": "2021-05-26T19:48:10.743117Z"
    },
    "tags": []
   },
   "outputs": [
    {
     "data": {
      "text/plain": [
       "''"
      ]
     },
     "execution_count": 32,
     "metadata": {},
     "output_type": "execute_result"
    }
   ],
   "source": [
    "element.text"
   ]
  },
  {
   "cell_type": "code",
   "execution_count": null,
   "id": "impaired-connectivity",
   "metadata": {},
   "outputs": [],
   "source": []
  },
  {
   "cell_type": "code",
   "execution_count": 4,
   "id": "associate-livestock",
   "metadata": {
    "execution": {
     "iopub.execute_input": "2021-05-26T16:14:31.438067Z",
     "iopub.status.busy": "2021-05-26T16:14:31.437703Z",
     "iopub.status.idle": "2021-05-26T16:14:31.481736Z",
     "shell.execute_reply": "2021-05-26T16:14:31.481319Z",
     "shell.execute_reply.started": "2021-05-26T16:14:31.438034Z"
    }
   },
   "outputs": [],
   "source": [
    "import requests"
   ]
  },
  {
   "cell_type": "code",
   "execution_count": null,
   "id": "hindu-smith",
   "metadata": {},
   "outputs": [],
   "source": [
    "176.9.75.42:8080"
   ]
  },
  {
   "cell_type": "code",
   "execution_count": 28,
   "id": "known-irish",
   "metadata": {
    "execution": {
     "iopub.execute_input": "2021-05-26T16:30:30.773766Z",
     "iopub.status.busy": "2021-05-26T16:30:30.773283Z",
     "iopub.status.idle": "2021-05-26T16:30:30.778125Z",
     "shell.execute_reply": "2021-05-26T16:30:30.777181Z",
     "shell.execute_reply.started": "2021-05-26T16:30:30.773717Z"
    },
    "tags": []
   },
   "outputs": [],
   "source": [
    "proxy = {\"http\": \"34.203.248.159:80\",\n",
    "        \"https\": \"34.203.248.159:80\",}"
   ]
  },
  {
   "cell_type": "code",
   "execution_count": 40,
   "id": "final-bacteria",
   "metadata": {
    "execution": {
     "iopub.execute_input": "2021-05-26T16:32:48.394030Z",
     "iopub.status.busy": "2021-05-26T16:32:48.393664Z",
     "iopub.status.idle": "2021-05-26T16:32:48.398412Z",
     "shell.execute_reply": "2021-05-26T16:32:48.397043Z",
     "shell.execute_reply.started": "2021-05-26T16:32:48.393997Z"
    },
    "tags": []
   },
   "outputs": [],
   "source": [
    "session = requests.session()"
   ]
  },
  {
   "cell_type": "code",
   "execution_count": 41,
   "id": "neither-campus",
   "metadata": {
    "execution": {
     "iopub.execute_input": "2021-05-26T16:32:48.567201Z",
     "iopub.status.busy": "2021-05-26T16:32:48.566853Z",
     "iopub.status.idle": "2021-05-26T16:32:48.574249Z",
     "shell.execute_reply": "2021-05-26T16:32:48.573068Z",
     "shell.execute_reply.started": "2021-05-26T16:32:48.567167Z"
    },
    "tags": []
   },
   "outputs": [],
   "source": [
    "session.proxies.update(proxy)"
   ]
  },
  {
   "cell_type": "code",
   "execution_count": 42,
   "id": "included-wheel",
   "metadata": {
    "execution": {
     "iopub.execute_input": "2021-05-26T16:32:48.924868Z",
     "iopub.status.busy": "2021-05-26T16:32:48.924499Z",
     "iopub.status.idle": "2021-05-26T16:32:48.929258Z",
     "shell.execute_reply": "2021-05-26T16:32:48.927979Z",
     "shell.execute_reply.started": "2021-05-26T16:32:48.924832Z"
    },
    "tags": []
   },
   "outputs": [],
   "source": [
    "session.headers['User-Agent'] = \"Mozilla/5.0 (Macintosh; Intel Mac OS X 10_15_7) AppleWebKit/537.36 (KHTML, like Gecko) Chrome/90.0.4430.212 Safari/537.36\""
   ]
  },
  {
   "cell_type": "code",
   "execution_count": 43,
   "id": "weekly-diameter",
   "metadata": {
    "execution": {
     "iopub.execute_input": "2021-05-26T16:32:49.495131Z",
     "iopub.status.busy": "2021-05-26T16:32:49.494448Z",
     "iopub.status.idle": "2021-05-26T16:32:52.732574Z",
     "shell.execute_reply": "2021-05-26T16:32:52.731058Z",
     "shell.execute_reply.started": "2021-05-26T16:32:49.495064Z"
    },
    "tags": []
   },
   "outputs": [
    {
     "ename": "ProxyError",
     "evalue": "HTTPSConnectionPool(host='www.cnbc.com', port=443): Max retries exceeded with url: /2021/05/25/home-prices-in-march-saw-highest-growth-in-over-15-years-sp-case-shiller.html (Caused by ProxyError('Cannot connect to proxy.', OSError('Tunnel connection failed: 503 Service Temporarily Unavailable')))",
     "output_type": "error",
     "traceback": [
      "\u001b[0;31m---------------------------------------------------------------------------\u001b[0m",
      "\u001b[0;31mOSError\u001b[0m                                   Traceback (most recent call last)",
      "\u001b[0;32m~/opt/anaconda3/envs/python/lib/python3.8/site-packages/urllib3/connectionpool.py\u001b[0m in \u001b[0;36murlopen\u001b[0;34m(self, method, url, body, headers, retries, redirect, assert_same_host, timeout, pool_timeout, release_conn, chunked, body_pos, **response_kw)\u001b[0m\n\u001b[1;32m    695\u001b[0m             \u001b[0;32mif\u001b[0m \u001b[0mis_new_proxy_conn\u001b[0m \u001b[0;32mand\u001b[0m \u001b[0mhttp_tunnel_required\u001b[0m\u001b[0;34m:\u001b[0m\u001b[0;34m\u001b[0m\u001b[0;34m\u001b[0m\u001b[0m\n\u001b[0;32m--> 696\u001b[0;31m                 \u001b[0mself\u001b[0m\u001b[0;34m.\u001b[0m\u001b[0m_prepare_proxy\u001b[0m\u001b[0;34m(\u001b[0m\u001b[0mconn\u001b[0m\u001b[0;34m)\u001b[0m\u001b[0;34m\u001b[0m\u001b[0;34m\u001b[0m\u001b[0m\n\u001b[0m\u001b[1;32m    697\u001b[0m \u001b[0;34m\u001b[0m\u001b[0m\n",
      "\u001b[0;32m~/opt/anaconda3/envs/python/lib/python3.8/site-packages/urllib3/connectionpool.py\u001b[0m in \u001b[0;36m_prepare_proxy\u001b[0;34m(self, conn)\u001b[0m\n\u001b[1;32m    963\u001b[0m \u001b[0;34m\u001b[0m\u001b[0m\n\u001b[0;32m--> 964\u001b[0;31m         \u001b[0mconn\u001b[0m\u001b[0;34m.\u001b[0m\u001b[0mconnect\u001b[0m\u001b[0;34m(\u001b[0m\u001b[0;34m)\u001b[0m\u001b[0;34m\u001b[0m\u001b[0;34m\u001b[0m\u001b[0m\n\u001b[0m\u001b[1;32m    965\u001b[0m \u001b[0;34m\u001b[0m\u001b[0m\n",
      "\u001b[0;32m~/opt/anaconda3/envs/python/lib/python3.8/site-packages/urllib3/connection.py\u001b[0m in \u001b[0;36mconnect\u001b[0;34m(self)\u001b[0m\n\u001b[1;32m    365\u001b[0m             \u001b[0;31m# self._tunnel_host below.\u001b[0m\u001b[0;34m\u001b[0m\u001b[0;34m\u001b[0m\u001b[0;34m\u001b[0m\u001b[0m\n\u001b[0;32m--> 366\u001b[0;31m             \u001b[0mself\u001b[0m\u001b[0;34m.\u001b[0m\u001b[0m_tunnel\u001b[0m\u001b[0;34m(\u001b[0m\u001b[0;34m)\u001b[0m\u001b[0;34m\u001b[0m\u001b[0;34m\u001b[0m\u001b[0m\n\u001b[0m\u001b[1;32m    367\u001b[0m             \u001b[0;31m# Mark this connection as not reusable\u001b[0m\u001b[0;34m\u001b[0m\u001b[0;34m\u001b[0m\u001b[0;34m\u001b[0m\u001b[0m\n",
      "\u001b[0;32m~/opt/anaconda3/envs/python/lib/python3.8/http/client.py\u001b[0m in \u001b[0;36m_tunnel\u001b[0;34m(self)\u001b[0m\n\u001b[1;32m    903\u001b[0m             \u001b[0mself\u001b[0m\u001b[0;34m.\u001b[0m\u001b[0mclose\u001b[0m\u001b[0;34m(\u001b[0m\u001b[0;34m)\u001b[0m\u001b[0;34m\u001b[0m\u001b[0;34m\u001b[0m\u001b[0m\n\u001b[0;32m--> 904\u001b[0;31m             raise OSError(\"Tunnel connection failed: %d %s\" % (code,\n\u001b[0m\u001b[1;32m    905\u001b[0m                                                                message.strip()))\n",
      "\u001b[0;31mOSError\u001b[0m: Tunnel connection failed: 503 Service Temporarily Unavailable",
      "\nDuring handling of the above exception, another exception occurred:\n",
      "\u001b[0;31mMaxRetryError\u001b[0m                             Traceback (most recent call last)",
      "\u001b[0;32m~/opt/anaconda3/envs/python/lib/python3.8/site-packages/requests/adapters.py\u001b[0m in \u001b[0;36msend\u001b[0;34m(self, request, stream, timeout, verify, cert, proxies)\u001b[0m\n\u001b[1;32m    438\u001b[0m             \u001b[0;32mif\u001b[0m \u001b[0;32mnot\u001b[0m \u001b[0mchunked\u001b[0m\u001b[0;34m:\u001b[0m\u001b[0;34m\u001b[0m\u001b[0;34m\u001b[0m\u001b[0m\n\u001b[0;32m--> 439\u001b[0;31m                 resp = conn.urlopen(\n\u001b[0m\u001b[1;32m    440\u001b[0m                     \u001b[0mmethod\u001b[0m\u001b[0;34m=\u001b[0m\u001b[0mrequest\u001b[0m\u001b[0;34m.\u001b[0m\u001b[0mmethod\u001b[0m\u001b[0;34m,\u001b[0m\u001b[0;34m\u001b[0m\u001b[0;34m\u001b[0m\u001b[0m\n",
      "\u001b[0;32m~/opt/anaconda3/envs/python/lib/python3.8/site-packages/urllib3/connectionpool.py\u001b[0m in \u001b[0;36murlopen\u001b[0;34m(self, method, url, body, headers, retries, redirect, assert_same_host, timeout, pool_timeout, release_conn, chunked, body_pos, **response_kw)\u001b[0m\n\u001b[1;32m    754\u001b[0m \u001b[0;34m\u001b[0m\u001b[0m\n\u001b[0;32m--> 755\u001b[0;31m             retries = retries.increment(\n\u001b[0m\u001b[1;32m    756\u001b[0m                 \u001b[0mmethod\u001b[0m\u001b[0;34m,\u001b[0m \u001b[0murl\u001b[0m\u001b[0;34m,\u001b[0m \u001b[0merror\u001b[0m\u001b[0;34m=\u001b[0m\u001b[0me\u001b[0m\u001b[0;34m,\u001b[0m \u001b[0m_pool\u001b[0m\u001b[0;34m=\u001b[0m\u001b[0mself\u001b[0m\u001b[0;34m,\u001b[0m \u001b[0m_stacktrace\u001b[0m\u001b[0;34m=\u001b[0m\u001b[0msys\u001b[0m\u001b[0;34m.\u001b[0m\u001b[0mexc_info\u001b[0m\u001b[0;34m(\u001b[0m\u001b[0;34m)\u001b[0m\u001b[0;34m[\u001b[0m\u001b[0;36m2\u001b[0m\u001b[0;34m]\u001b[0m\u001b[0;34m\u001b[0m\u001b[0;34m\u001b[0m\u001b[0m\n",
      "\u001b[0;32m~/opt/anaconda3/envs/python/lib/python3.8/site-packages/urllib3/util/retry.py\u001b[0m in \u001b[0;36mincrement\u001b[0;34m(self, method, url, response, error, _pool, _stacktrace)\u001b[0m\n\u001b[1;32m    572\u001b[0m         \u001b[0;32mif\u001b[0m \u001b[0mnew_retry\u001b[0m\u001b[0;34m.\u001b[0m\u001b[0mis_exhausted\u001b[0m\u001b[0;34m(\u001b[0m\u001b[0;34m)\u001b[0m\u001b[0;34m:\u001b[0m\u001b[0;34m\u001b[0m\u001b[0;34m\u001b[0m\u001b[0m\n\u001b[0;32m--> 573\u001b[0;31m             \u001b[0;32mraise\u001b[0m \u001b[0mMaxRetryError\u001b[0m\u001b[0;34m(\u001b[0m\u001b[0m_pool\u001b[0m\u001b[0;34m,\u001b[0m \u001b[0murl\u001b[0m\u001b[0;34m,\u001b[0m \u001b[0merror\u001b[0m \u001b[0;32mor\u001b[0m \u001b[0mResponseError\u001b[0m\u001b[0;34m(\u001b[0m\u001b[0mcause\u001b[0m\u001b[0;34m)\u001b[0m\u001b[0;34m)\u001b[0m\u001b[0;34m\u001b[0m\u001b[0;34m\u001b[0m\u001b[0m\n\u001b[0m\u001b[1;32m    574\u001b[0m \u001b[0;34m\u001b[0m\u001b[0m\n",
      "\u001b[0;31mMaxRetryError\u001b[0m: HTTPSConnectionPool(host='www.cnbc.com', port=443): Max retries exceeded with url: /2021/05/25/home-prices-in-march-saw-highest-growth-in-over-15-years-sp-case-shiller.html (Caused by ProxyError('Cannot connect to proxy.', OSError('Tunnel connection failed: 503 Service Temporarily Unavailable')))",
      "\nDuring handling of the above exception, another exception occurred:\n",
      "\u001b[0;31mProxyError\u001b[0m                                Traceback (most recent call last)",
      "\u001b[0;32m<ipython-input-43-6e97db77bda9>\u001b[0m in \u001b[0;36m<module>\u001b[0;34m\u001b[0m\n\u001b[0;32m----> 1\u001b[0;31m \u001b[0mr\u001b[0m \u001b[0;34m=\u001b[0m \u001b[0msession\u001b[0m\u001b[0;34m.\u001b[0m\u001b[0mget\u001b[0m\u001b[0;34m(\u001b[0m\u001b[0murl\u001b[0m\u001b[0;34m,\u001b[0m \u001b[0mproxies\u001b[0m\u001b[0;34m=\u001b[0m\u001b[0mproxy\u001b[0m\u001b[0;34m)\u001b[0m\u001b[0;34m\u001b[0m\u001b[0;34m\u001b[0m\u001b[0m\n\u001b[0m",
      "\u001b[0;32m~/opt/anaconda3/envs/python/lib/python3.8/site-packages/requests/sessions.py\u001b[0m in \u001b[0;36mget\u001b[0;34m(self, url, **kwargs)\u001b[0m\n\u001b[1;32m    553\u001b[0m \u001b[0;34m\u001b[0m\u001b[0m\n\u001b[1;32m    554\u001b[0m         \u001b[0mkwargs\u001b[0m\u001b[0;34m.\u001b[0m\u001b[0msetdefault\u001b[0m\u001b[0;34m(\u001b[0m\u001b[0;34m'allow_redirects'\u001b[0m\u001b[0;34m,\u001b[0m \u001b[0;32mTrue\u001b[0m\u001b[0;34m)\u001b[0m\u001b[0;34m\u001b[0m\u001b[0;34m\u001b[0m\u001b[0m\n\u001b[0;32m--> 555\u001b[0;31m         \u001b[0;32mreturn\u001b[0m \u001b[0mself\u001b[0m\u001b[0;34m.\u001b[0m\u001b[0mrequest\u001b[0m\u001b[0;34m(\u001b[0m\u001b[0;34m'GET'\u001b[0m\u001b[0;34m,\u001b[0m \u001b[0murl\u001b[0m\u001b[0;34m,\u001b[0m \u001b[0;34m**\u001b[0m\u001b[0mkwargs\u001b[0m\u001b[0;34m)\u001b[0m\u001b[0;34m\u001b[0m\u001b[0;34m\u001b[0m\u001b[0m\n\u001b[0m\u001b[1;32m    556\u001b[0m \u001b[0;34m\u001b[0m\u001b[0m\n\u001b[1;32m    557\u001b[0m     \u001b[0;32mdef\u001b[0m \u001b[0moptions\u001b[0m\u001b[0;34m(\u001b[0m\u001b[0mself\u001b[0m\u001b[0;34m,\u001b[0m \u001b[0murl\u001b[0m\u001b[0;34m,\u001b[0m \u001b[0;34m**\u001b[0m\u001b[0mkwargs\u001b[0m\u001b[0;34m)\u001b[0m\u001b[0;34m:\u001b[0m\u001b[0;34m\u001b[0m\u001b[0;34m\u001b[0m\u001b[0m\n",
      "\u001b[0;32m~/opt/anaconda3/envs/python/lib/python3.8/site-packages/requests/sessions.py\u001b[0m in \u001b[0;36mrequest\u001b[0;34m(self, method, url, params, data, headers, cookies, files, auth, timeout, allow_redirects, proxies, hooks, stream, verify, cert, json)\u001b[0m\n\u001b[1;32m    540\u001b[0m         }\n\u001b[1;32m    541\u001b[0m         \u001b[0msend_kwargs\u001b[0m\u001b[0;34m.\u001b[0m\u001b[0mupdate\u001b[0m\u001b[0;34m(\u001b[0m\u001b[0msettings\u001b[0m\u001b[0;34m)\u001b[0m\u001b[0;34m\u001b[0m\u001b[0;34m\u001b[0m\u001b[0m\n\u001b[0;32m--> 542\u001b[0;31m         \u001b[0mresp\u001b[0m \u001b[0;34m=\u001b[0m \u001b[0mself\u001b[0m\u001b[0;34m.\u001b[0m\u001b[0msend\u001b[0m\u001b[0;34m(\u001b[0m\u001b[0mprep\u001b[0m\u001b[0;34m,\u001b[0m \u001b[0;34m**\u001b[0m\u001b[0msend_kwargs\u001b[0m\u001b[0;34m)\u001b[0m\u001b[0;34m\u001b[0m\u001b[0;34m\u001b[0m\u001b[0m\n\u001b[0m\u001b[1;32m    543\u001b[0m \u001b[0;34m\u001b[0m\u001b[0m\n\u001b[1;32m    544\u001b[0m         \u001b[0;32mreturn\u001b[0m \u001b[0mresp\u001b[0m\u001b[0;34m\u001b[0m\u001b[0;34m\u001b[0m\u001b[0m\n",
      "\u001b[0;32m~/opt/anaconda3/envs/python/lib/python3.8/site-packages/requests/sessions.py\u001b[0m in \u001b[0;36msend\u001b[0;34m(self, request, **kwargs)\u001b[0m\n\u001b[1;32m    653\u001b[0m \u001b[0;34m\u001b[0m\u001b[0m\n\u001b[1;32m    654\u001b[0m         \u001b[0;31m# Send the request\u001b[0m\u001b[0;34m\u001b[0m\u001b[0;34m\u001b[0m\u001b[0;34m\u001b[0m\u001b[0m\n\u001b[0;32m--> 655\u001b[0;31m         \u001b[0mr\u001b[0m \u001b[0;34m=\u001b[0m \u001b[0madapter\u001b[0m\u001b[0;34m.\u001b[0m\u001b[0msend\u001b[0m\u001b[0;34m(\u001b[0m\u001b[0mrequest\u001b[0m\u001b[0;34m,\u001b[0m \u001b[0;34m**\u001b[0m\u001b[0mkwargs\u001b[0m\u001b[0;34m)\u001b[0m\u001b[0;34m\u001b[0m\u001b[0;34m\u001b[0m\u001b[0m\n\u001b[0m\u001b[1;32m    656\u001b[0m \u001b[0;34m\u001b[0m\u001b[0m\n\u001b[1;32m    657\u001b[0m         \u001b[0;31m# Total elapsed time of the request (approximately)\u001b[0m\u001b[0;34m\u001b[0m\u001b[0;34m\u001b[0m\u001b[0;34m\u001b[0m\u001b[0m\n",
      "\u001b[0;32m~/opt/anaconda3/envs/python/lib/python3.8/site-packages/requests/adapters.py\u001b[0m in \u001b[0;36msend\u001b[0;34m(self, request, stream, timeout, verify, cert, proxies)\u001b[0m\n\u001b[1;32m    508\u001b[0m \u001b[0;34m\u001b[0m\u001b[0m\n\u001b[1;32m    509\u001b[0m             \u001b[0;32mif\u001b[0m \u001b[0misinstance\u001b[0m\u001b[0;34m(\u001b[0m\u001b[0me\u001b[0m\u001b[0;34m.\u001b[0m\u001b[0mreason\u001b[0m\u001b[0;34m,\u001b[0m \u001b[0m_ProxyError\u001b[0m\u001b[0;34m)\u001b[0m\u001b[0;34m:\u001b[0m\u001b[0;34m\u001b[0m\u001b[0;34m\u001b[0m\u001b[0m\n\u001b[0;32m--> 510\u001b[0;31m                 \u001b[0;32mraise\u001b[0m \u001b[0mProxyError\u001b[0m\u001b[0;34m(\u001b[0m\u001b[0me\u001b[0m\u001b[0;34m,\u001b[0m \u001b[0mrequest\u001b[0m\u001b[0;34m=\u001b[0m\u001b[0mrequest\u001b[0m\u001b[0;34m)\u001b[0m\u001b[0;34m\u001b[0m\u001b[0;34m\u001b[0m\u001b[0m\n\u001b[0m\u001b[1;32m    511\u001b[0m \u001b[0;34m\u001b[0m\u001b[0m\n\u001b[1;32m    512\u001b[0m             \u001b[0;32mif\u001b[0m \u001b[0misinstance\u001b[0m\u001b[0;34m(\u001b[0m\u001b[0me\u001b[0m\u001b[0;34m.\u001b[0m\u001b[0mreason\u001b[0m\u001b[0;34m,\u001b[0m \u001b[0m_SSLError\u001b[0m\u001b[0;34m)\u001b[0m\u001b[0;34m:\u001b[0m\u001b[0;34m\u001b[0m\u001b[0;34m\u001b[0m\u001b[0m\n",
      "\u001b[0;31mProxyError\u001b[0m: HTTPSConnectionPool(host='www.cnbc.com', port=443): Max retries exceeded with url: /2021/05/25/home-prices-in-march-saw-highest-growth-in-over-15-years-sp-case-shiller.html (Caused by ProxyError('Cannot connect to proxy.', OSError('Tunnel connection failed: 503 Service Temporarily Unavailable')))"
     ]
    }
   ],
   "source": [
    "r = session.get(url, proxies=proxy)"
   ]
  },
  {
   "cell_type": "code",
   "execution_count": 38,
   "id": "informational-tactics",
   "metadata": {
    "execution": {
     "iopub.execute_input": "2021-05-26T16:31:42.443784Z",
     "iopub.status.busy": "2021-05-26T16:31:42.443428Z",
     "iopub.status.idle": "2021-05-26T16:31:42.449562Z",
     "shell.execute_reply": "2021-05-26T16:31:42.448585Z",
     "shell.execute_reply.started": "2021-05-26T16:31:42.443750Z"
    },
    "tags": []
   },
   "outputs": [
    {
     "data": {
      "text/plain": [
       "'Backend not available\\x00'"
      ]
     },
     "execution_count": 38,
     "metadata": {},
     "output_type": "execute_result"
    }
   ],
   "source": [
    "r.text"
   ]
  },
  {
   "cell_type": "code",
   "execution_count": null,
   "id": "varying-figure",
   "metadata": {},
   "outputs": [],
   "source": []
  },
  {
   "cell_type": "code",
   "execution_count": null,
   "id": "inside-amendment",
   "metadata": {},
   "outputs": [],
   "source": []
  },
  {
   "cell_type": "code",
   "execution_count": 25,
   "id": "blind-miniature",
   "metadata": {
    "execution": {
     "iopub.execute_input": "2021-05-26T16:24:35.116501Z",
     "iopub.status.busy": "2021-05-26T16:24:35.116129Z",
     "iopub.status.idle": "2021-05-26T16:24:35.362231Z",
     "shell.execute_reply": "2021-05-26T16:24:35.361887Z",
     "shell.execute_reply.started": "2021-05-26T16:24:35.116466Z"
    },
    "tags": []
   },
   "outputs": [
    {
     "name": "stdout",
     "output_type": "stream",
     "text": [
      "[<td>150.109.32.166</td>, <td>80</td>, <td>HK</td>, <td class=\"hm\">Hong Kong</td>, <td>anonymous</td>, <td class=\"hm\">no</td>, <td class=\"hx\">no</td>, <td class=\"hm\">11 seconds ago</td>, <td>161.202.226.194</td>, <td>80</td>, <td>JP</td>, <td class=\"hm\">Japan</td>, <td>elite proxy</td>, <td class=\"hm\">no</td>, <td class=\"hx\">yes</td>, <td class=\"hm\">11 seconds ago</td>, <td>83.239.86.149</td>, <td>80</td>, <td>RU</td>, <td class=\"hm\">Russian Federation</td>, <td>elite proxy</td>, <td class=\"hm\">no</td>, <td class=\"hx\">yes</td>, <td class=\"hm\">11 seconds ago</td>, <td>37.57.253.91</td>, <td>37186</td>, <td>UA</td>, <td class=\"hm\">Ukraine</td>, <td>elite proxy</td>, <td class=\"hm\">no</td>, <td class=\"hx\">no</td>, <td class=\"hm\">11 seconds ago</td>, <td>169.57.1.84</td>, <td>8123</td>, <td>MX</td>, <td class=\"hm\">Mexico</td>, <td>elite proxy</td>, <td class=\"hm\">no</td>, <td class=\"hx\">yes</td>, <td class=\"hm\">11 seconds ago</td>, <td>47.88.7.18</td>, <td>8088</td>, <td>US</td>, <td class=\"hm\">United States</td>, <td>anonymous</td>, <td class=\"hm\">no</td>, <td class=\"hx\">no</td>, <td class=\"hm\">11 seconds ago</td>, <td>119.81.189.194</td>, <td>80</td>, <td>HK</td>, <td class=\"hm\">Hong Kong</td>, <td>elite proxy</td>, <td class=\"hm\">no</td>, <td class=\"hx\">yes</td>, <td class=\"hm\">11 seconds ago</td>, <td>46.4.96.137</td>, <td>3128</td>, <td>DE</td>, <td class=\"hm\">Germany</td>, <td>anonymous</td>, <td class=\"hm\">no</td>, <td class=\"hx\">no</td>, <td class=\"hm\">11 seconds ago</td>, <td>88.198.50.103</td>, <td>8080</td>, <td>DE</td>, <td class=\"hm\">Germany</td>, <td>anonymous</td>, <td class=\"hm\">no</td>, <td class=\"hx\">no</td>, <td class=\"hm\">11 seconds ago</td>, <td>139.162.78.109</td>, <td>8080</td>, <td>JP</td>, <td class=\"hm\">Japan</td>, <td>anonymous</td>, <td class=\"hm\">no</td>, <td class=\"hx\">no</td>, <td class=\"hm\">11 seconds ago</td>, <td>41.75.4.208</td>, <td>53281</td>, <td>BW</td>, <td class=\"hm\">Botswana</td>, <td>elite proxy</td>, <td class=\"hm\">no</td>, <td class=\"hx\">yes</td>, <td class=\"hm\">11 seconds ago</td>, <td>88.198.24.108</td>, <td>8080</td>, <td>DE</td>, <td class=\"hm\">Germany</td>, <td>anonymous</td>, <td class=\"hm\">no</td>, <td class=\"hx\">no</td>, <td class=\"hm\">11 seconds ago</td>, <td>176.9.75.42</td>, <td>8080</td>, <td>DE</td>, <td class=\"hm\">Germany</td>, <td>anonymous</td>, <td class=\"hm\">no</td>, <td class=\"hx\">no</td>, <td class=\"hm\">11 seconds ago</td>, <td>176.9.119.170</td>, <td>8080</td>, <td>DE</td>, <td class=\"hm\">Germany</td>, <td>anonymous</td>, <td class=\"hm\">no</td>, <td class=\"hx\">no</td>, <td class=\"hm\">11 seconds ago</td>, <td>193.41.88.58</td>, <td>53281</td>, <td>UA</td>, <td class=\"hm\">Ukraine</td>, <td>elite proxy</td>, <td class=\"hm\">no</td>, <td class=\"hx\">no</td>, <td class=\"hm\">1 minute ago</td>, <td>24.172.82.94</td>, <td>53281</td>, <td>US</td>, <td class=\"hm\">United States</td>, <td>elite proxy</td>, <td class=\"hm\">no</td>, <td class=\"hx\">yes</td>, <td class=\"hm\">1 minute ago</td>, <td>218.253.39.60</td>, <td>80</td>, <td>HK</td>, <td class=\"hm\">Hong Kong</td>, <td>anonymous</td>, <td class=\"hm\">no</td>, <td class=\"hx\">no</td>, <td class=\"hm\">1 minute ago</td>, <td>109.86.219.179</td>, <td>53438</td>, <td>UA</td>, <td class=\"hm\">Ukraine</td>, <td>elite proxy</td>, <td class=\"hm\">no</td>, <td class=\"hx\">yes</td>, <td class=\"hm\">1 minute ago</td>, <td>5.252.161.48</td>, <td>8080</td>, <td>GB</td>, <td class=\"hm\">United Kingdom</td>, <td>anonymous</td>, <td class=\"hm\">no</td>, <td class=\"hx\">no</td>, <td class=\"hm\">1 minute ago</td>, <td>183.88.226.50</td>, <td>8080</td>, <td>TH</td>, <td class=\"hm\">Thailand</td>, <td>elite proxy</td>, <td class=\"hm\">no</td>, <td class=\"hx\">yes</td>, <td class=\"hm\">1 minute ago</td>, <td>165.22.81.30</td>, <td>37344</td>, <td>DE</td>, <td class=\"hm\">Germany</td>, <td>elite proxy</td>, <td class=\"hm\">no</td>, <td class=\"hx\">yes</td>, <td class=\"hm\">1 minute ago</td>, <td>51.81.21.221</td>, <td>3128</td>, <td>US</td>, <td class=\"hm\">United States</td>, <td>elite proxy</td>, <td class=\"hm\">no</td>, <td class=\"hx\">yes</td>, <td class=\"hm\">1 minute ago</td>, <td>110.74.208.154</td>, <td>21776</td>, <td>KH</td>, <td class=\"hm\">Cambodia</td>, <td>elite proxy</td>, <td class=\"hm\">no</td>, <td class=\"hx\">yes</td>, <td class=\"hm\">1 minute ago</td>, <td>92.207.253.226</td>, <td>38157</td>, <td>GB</td>, <td class=\"hm\">United Kingdom</td>, <td>elite proxy</td>, <td class=\"hm\">no</td>, <td class=\"hx\">yes</td>, <td class=\"hm\">1 minute ago</td>, <td>87.237.234.187</td>, <td>3128</td>, <td>UZ</td>, <td class=\"hm\">Uzbekistan</td>, <td>elite proxy</td>, <td class=\"hm\">no</td>, <td class=\"hx\">yes</td>, <td class=\"hm\">1 minute ago</td>, <td>45.130.229.230</td>, <td>443</td>, <td>DE</td>, <td class=\"hm\">Germany</td>, <td>elite proxy</td>, <td class=\"hm\">no</td>, <td class=\"hx\">yes</td>, <td class=\"hm\">1 minute ago</td>, <td>79.143.87.138</td>, <td>9090</td>, <td>GB</td>, <td class=\"hm\">United Kingdom</td>, <td>anonymous</td>, <td class=\"hm\">no</td>, <td class=\"hx\">yes</td>, <td class=\"hm\">1 minute ago</td>, <td>154.73.137.157</td>, <td>52820</td>, <td>ZA</td>, <td class=\"hm\">South Africa</td>, <td>elite proxy</td>, <td class=\"hm\">no</td>, <td class=\"hx\">yes</td>, <td class=\"hm\">1 minute ago</td>, <td>91.207.147.243</td>, <td>38472</td>, <td>UA</td>, <td class=\"hm\">Ukraine</td>, <td>elite proxy</td>, <td class=\"hm\">no</td>, <td class=\"hx\">no</td>, <td class=\"hm\">1 minute ago</td>, <td>81.95.230.211</td>, <td>3128</td>, <td>UZ</td>, <td class=\"hm\">Uzbekistan</td>, <td>elite proxy</td>, <td class=\"hm\">no</td>, <td class=\"hx\">yes</td>, <td class=\"hm\">1 minute ago</td>, <td>49.248.32.110</td>, <td>48434</td>, <td>IN</td>, <td class=\"hm\">India</td>, <td>elite proxy</td>, <td class=\"hm\">no</td>, <td class=\"hx\">yes</td>, <td class=\"hm\">1 minute ago</td>, <td>160.19.232.85</td>, <td>3128</td>, <td>ZA</td>, <td class=\"hm\">South Africa</td>, <td>anonymous</td>, <td class=\"hm\">no</td>, <td class=\"hx\">yes</td>, <td class=\"hm\">1 minute ago</td>, <td>41.190.147.158</td>, <td>54018</td>, <td>MU</td>, <td class=\"hm\">Mauritius</td>, <td>elite proxy</td>, <td class=\"hm\">no</td>, <td class=\"hx\">yes</td>, <td class=\"hm\">1 minute ago</td>, <td>94.74.132.129</td>, <td>808</td>, <td>IR</td>, <td class=\"hm\">Iran</td>, <td>anonymous</td>, <td class=\"hm\">no</td>, <td class=\"hx\">yes</td>, <td class=\"hm\">1 minute ago</td>, <td>219.92.3.149</td>, <td>8080</td>, <td>MY</td>, <td class=\"hm\">Malaysia</td>, <td>elite proxy</td>, <td class=\"hm\">no</td>, <td class=\"hx\">yes</td>, <td class=\"hm\">1 minute ago</td>, <td>138.197.209.229</td>, <td>3128</td>, <td>US</td>, <td class=\"hm\">United States</td>, <td>anonymous</td>, <td class=\"hm\">no</td>, <td class=\"hx\">yes</td>, <td class=\"hm\">1 minute ago</td>, <td>180.180.156.15</td>, <td>43100</td>, <td>TH</td>, <td class=\"hm\">Thailand</td>, <td>elite proxy</td>, <td class=\"hm\">no</td>, <td class=\"hx\">yes</td>, <td class=\"hm\">1 minute ago</td>, <td>36.67.158.49</td>, <td>65301</td>, <td>ID</td>, <td class=\"hm\">Indonesia</td>, <td>elite proxy</td>, <td class=\"hm\">no</td>, <td class=\"hx\">yes</td>, <td class=\"hm\">1 minute ago</td>, <td>91.202.240.208</td>, <td>51678</td>, <td>UA</td>, <td class=\"hm\">Ukraine</td>, <td>elite proxy</td>, <td class=\"hm\">no</td>, <td class=\"hx\">yes</td>, <td class=\"hm\">1 minute ago</td>, <td>182.52.30.149</td>, <td>8080</td>, <td>TH</td>, <td class=\"hm\">Thailand</td>, <td>anonymous</td>, <td class=\"hm\">no</td>, <td class=\"hx\">no</td>, <td class=\"hm\">1 minute ago</td>, <td>51.222.21.81</td>, <td>32768</td>, <td>CA</td>, <td class=\"hm\">Canada</td>, <td>elite proxy</td>, <td class=\"hm\">no</td>, <td class=\"hx\">yes</td>, <td class=\"hm\">1 minute ago</td>, <td>154.16.63.16</td>, <td>3128</td>, <td>GB</td>, <td class=\"hm\">United Kingdom</td>, <td>anonymous</td>, <td class=\"hm\">no</td>, <td class=\"hx\">no</td>, <td class=\"hm\">1 minute ago</td>, <td>187.190.64.42</td>, <td>31442</td>, <td>MX</td>, <td class=\"hm\">Mexico</td>, <td>elite proxy</td>, <td class=\"hm\">no</td>, <td class=\"hx\">yes</td>, <td class=\"hm\">1 minute ago</td>, <td>175.212.226.57</td>, <td>80</td>, <td>KR</td>, <td class=\"hm\">Korea</td>, <td>elite proxy</td>, <td class=\"hm\">no</td>, <td class=\"hx\">no</td>, <td class=\"hm\">1 minute ago</td>, <td>203.202.245.58</td>, <td>80</td>, <td>BD</td>, <td class=\"hm\">Bangladesh</td>, <td>anonymous</td>, <td class=\"hm\">no</td>, <td class=\"hx\">no</td>, <td class=\"hm\">1 minute ago</td>, <td>218.233.153.161</td>, <td>80</td>, <td>KR</td>, <td class=\"hm\">Korea</td>, <td>anonymous</td>, <td class=\"hm\">no</td>, <td class=\"hx\">no</td>, <td class=\"hm\">1 minute ago</td>, <td>103.78.254.78</td>, <td>80</td>, <td>BD</td>, <td class=\"hm\">Bangladesh</td>, <td>anonymous</td>, <td class=\"hm\">no</td>, <td class=\"hx\">no</td>, <td class=\"hm\">1 minute ago</td>, <td>217.182.169.170</td>, <td>80</td>, <td>FR</td>, <td class=\"hm\">France</td>, <td>elite proxy</td>, <td class=\"hm\">no</td>, <td class=\"hx\">no</td>, <td class=\"hm\">1 minute ago</td>, <td>42.201.228.226</td>, <td>80</td>, <td>PK</td>, <td class=\"hm\">Pakistan</td>, <td>elite proxy</td>, <td class=\"hm\">no</td>, <td class=\"hx\">yes</td>, <td class=\"hm\">1 minute ago</td>, <td>194.8.85.146</td>, <td>3128</td>, <td>RU</td>, <td class=\"hm\">Russian Federation</td>, <td>elite proxy</td>, <td class=\"hm\">no</td>, <td class=\"hx\">yes</td>, <td class=\"hm\">1 minute ago</td>, <td>95.0.90.242</td>, <td>8080</td>, <td>TR</td>, <td class=\"hm\">Turkey</td>, <td>anonymous</td>, <td class=\"hm\">no</td>, <td class=\"hx\">yes</td>, <td class=\"hm\">1 minute ago</td>, <td>199.192.23.162</td>, <td>3128</td>, <td>US</td>, <td class=\"hm\">United States</td>, <td>elite proxy</td>, <td class=\"hm\">no</td>, <td class=\"hx\">yes</td>, <td class=\"hm\">1 minute ago</td>, <td>51.222.197.177</td>, <td>32769</td>, <td>CA</td>, <td class=\"hm\">Canada</td>, <td>elite proxy</td>, <td class=\"hm\">no</td>, <td class=\"hx\">yes</td>, <td class=\"hm\">1 minute ago</td>, <td>5.9.173.162</td>, <td>3128</td>, <td>DE</td>, <td class=\"hm\">Germany</td>, <td>anonymous</td>, <td class=\"hm\">no</td>, <td class=\"hx\">yes</td>, <td class=\"hm\">1 minute ago</td>, <td>5.9.173.163</td>, <td>3128</td>, <td>DE</td>, <td class=\"hm\">Germany</td>, <td>anonymous</td>, <td class=\"hm\">no</td>, <td class=\"hx\">yes</td>, <td class=\"hm\">1 minute ago</td>, <td>157.230.103.91</td>, <td>46738</td>, <td>DE</td>, <td class=\"hm\">Germany</td>, <td>elite proxy</td>, <td class=\"hm\">no</td>, <td class=\"hx\">yes</td>, <td class=\"hm\">1 minute ago</td>, <td>185.37.213.76</td>, <td>30695</td>, <td>ES</td>, <td class=\"hm\">Spain</td>, <td>elite proxy</td>, <td class=\"hm\">no</td>, <td class=\"hx\">yes</td>, <td class=\"hm\">1 minute ago</td>, <td>5.9.173.161</td>, <td>3128</td>, <td>DE</td>, <td class=\"hm\">Germany</td>, <td>anonymous</td>, <td class=\"hm\">no</td>, <td class=\"hx\">yes</td>, <td class=\"hm\">1 minute ago</td>, <td>191.96.71.118</td>, <td>3128</td>, <td>BR</td>, <td class=\"hm\">Brazil</td>, <td>anonymous</td>, <td class=\"hm\">no</td>, <td class=\"hx\">no</td>, <td class=\"hm\">1 minute ago</td>, <td>102.129.249.120</td>, <td>8080</td>, <td>ZA</td>, <td class=\"hm\">South Africa</td>, <td>anonymous</td>, <td class=\"hm\">no</td>, <td class=\"hx\">no</td>, <td class=\"hm\">1 minute ago</td>, <td>162.155.10.150</td>, <td>55443</td>, <td>US</td>, <td class=\"hm\">United States</td>, <td>elite proxy</td>, <td class=\"hm\">no</td>, <td class=\"hx\">yes</td>, <td class=\"hm\">1 minute ago</td>, <td>41.59.90.92</td>, <td>80</td>, <td>TZ</td>, <td class=\"hm\">Tanzania</td>, <td>anonymous</td>, <td class=\"hm\">no</td>, <td class=\"hx\">no</td>, <td class=\"hm\">1 minute ago</td>, <td>51.222.197.145</td>, <td>32769</td>, <td>CA</td>, <td class=\"hm\">Canada</td>, <td>elite proxy</td>, <td class=\"hm\">no</td>, <td class=\"hx\">yes</td>, <td class=\"hm\">1 minute ago</td>, <td>05.252.161.48</td>, <td>8080</td>, <td></td>, <td class=\"hm\">Unknown</td>, <td>anonymous</td>, <td class=\"hm\">no</td>, <td class=\"hx\">no</td>, <td class=\"hm\">1 minute ago</td>, <td>45.76.249.227</td>, <td>8888</td>, <td>US</td>, <td class=\"hm\">United States</td>, <td>anonymous</td>, <td class=\"hm\">no</td>, <td class=\"hx\">no</td>, <td class=\"hm\">1 minute ago</td>, <td>45.181.121.145</td>, <td>999</td>, <td>CL</td>, <td class=\"hm\">Chile</td>, <td>elite proxy</td>, <td class=\"hm\">no</td>, <td class=\"hx\">yes</td>, <td class=\"hm\">1 minute ago</td>, <td>142.44.136.219</td>, <td>32769</td>, <td>CA</td>, <td class=\"hm\">Canada</td>, <td>elite proxy</td>, <td class=\"hm\">no</td>, <td class=\"hx\">yes</td>, <td class=\"hm\">1 minute ago</td>, <td>3.125.229.175</td>, <td>80</td>, <td>DE</td>, <td class=\"hm\">Germany</td>, <td>elite proxy</td>, <td class=\"hm\">no</td>, <td class=\"hx\">no</td>, <td class=\"hm\">1 minute ago</td>, <td>14.97.2.107</td>, <td>80</td>, <td>IN</td>, <td class=\"hm\">India</td>, <td>anonymous</td>, <td class=\"hm\">no</td>, <td class=\"hx\">no</td>, <td class=\"hm\">1 minute ago</td>, <td>78.47.16.54</td>, <td>80</td>, <td>DE</td>, <td class=\"hm\">Germany</td>, <td>anonymous</td>, <td class=\"hm\">no</td>, <td class=\"hx\">no</td>, <td class=\"hm\">1 minute ago</td>, <td>183.87.153.98</td>, <td>49602</td>, <td>IN</td>, <td class=\"hm\">India</td>, <td>elite proxy</td>, <td class=\"hm\">no</td>, <td class=\"hx\">no</td>, <td class=\"hm\">1 minute ago</td>, <td>125.26.7.124</td>, <td>61642</td>, <td>TH</td>, <td class=\"hm\">Thailand</td>, <td>elite proxy</td>, <td class=\"hm\">no</td>, <td class=\"hx\">no</td>, <td class=\"hm\">1 minute ago</td>, <td>190.152.17.62</td>, <td>55443</td>, <td>EC</td>, <td class=\"hm\">Ecuador</td>, <td>elite proxy</td>, <td class=\"hm\">no</td>, <td class=\"hx\">no</td>, <td class=\"hm\">1 minute ago</td>, <td>124.41.243.72</td>, <td>44716</td>, <td>NP</td>, <td class=\"hm\">Nepal</td>, <td>elite proxy</td>, <td class=\"hm\">no</td>, <td class=\"hx\">no</td>, <td class=\"hm\">1 minute ago</td>, <td>43.241.141.21</td>, <td>35101</td>, <td>IN</td>, <td class=\"hm\">India</td>, <td>elite proxy</td>, <td class=\"hm\">no</td>, <td class=\"hx\">no</td>, <td class=\"hm\">1 minute ago</td>, <td>190.145.200.126</td>, <td>53281</td>, <td>CO</td>, <td class=\"hm\">Colombia</td>, <td>elite proxy</td>, <td class=\"hm\">no</td>, <td class=\"hx\">yes</td>, <td class=\"hm\">1 minute ago</td>, <td>1.179.148.9</td>, <td>55636</td>, <td>TH</td>, <td class=\"hm\">Thailand</td>, <td>elite proxy</td>, <td class=\"hm\">no</td>, <td class=\"hx\">no</td>, <td class=\"hm\">1 minute ago</td>, <td>193.34.55.64</td>, <td>32767</td>, <td>PL</td>, <td class=\"hm\">Poland</td>, <td>elite proxy</td>, <td class=\"hm\">no</td>, <td class=\"hx\">no</td>, <td class=\"hm\">1 minute ago</td>, <td>124.219.176.139</td>, <td>39589</td>, <td>JP</td>, <td class=\"hm\">Japan</td>, <td>elite proxy</td>, <td class=\"hm\">no</td>, <td class=\"hx\">no</td>, <td class=\"hm\">1 minute ago</td>, <td>103.105.197.22</td>, <td>80</td>, <td>ID</td>, <td class=\"hm\">Indonesia</td>, <td>elite proxy</td>, <td class=\"hm\">no</td>, <td class=\"hx\">no</td>, <td class=\"hm\">1 minute ago</td>, <td>77.38.21.239</td>, <td>8080</td>, <td>SI</td>, <td class=\"hm\">Slovenia</td>, <td>elite proxy</td>, <td class=\"hm\">no</td>, <td class=\"hx\">yes</td>, <td class=\"hm\">1 minute ago</td>, <td>121.139.218.165</td>, <td>31409</td>, <td>KR</td>, <td class=\"hm\">Korea</td>, <td>elite proxy</td>, <td class=\"hm\">no</td>, <td class=\"hx\">no</td>, <td class=\"hm\">1 minute ago</td>, <td>176.113.157.149</td>, <td>42850</td>, <td>UA</td>, <td class=\"hm\">Ukraine</td>, <td>elite proxy</td>, <td class=\"hm\">no</td>, <td class=\"hx\">yes</td>, <td class=\"hm\">1 minute ago</td>, <td>58.162.229.173</td>, <td>37738</td>, <td>AU</td>, <td class=\"hm\">Australia</td>, <td>elite proxy</td>, <td class=\"hm\">no</td>, <td class=\"hx\">no</td>, <td class=\"hm\">1 minute ago</td>, <td>103.231.218.126</td>, <td>53281</td>, <td>IN</td>, <td class=\"hm\">India</td>, <td>elite proxy</td>, <td class=\"hm\">no</td>, <td class=\"hx\">no</td>, <td class=\"hm\">1 minute ago</td>, <td>194.32.146.146</td>, <td>8118</td>, <td>NO</td>, <td class=\"hm\">Norway</td>, <td>elite proxy</td>, <td class=\"hm\">no</td>, <td class=\"hx\">yes</td>, <td class=\"hm\">1 minute ago</td>, <td>154.72.199.202</td>, <td>41201</td>, <td>UG</td>, <td class=\"hm\">Uganda</td>, <td>elite proxy</td>, <td class=\"hm\">no</td>, <td class=\"hx\">yes</td>, <td class=\"hm\">1 minute ago</td>, <td>192.162.193.243</td>, <td>36910</td>, <td>RU</td>, <td class=\"hm\">Russian Federation</td>, <td>elite proxy</td>, <td class=\"hm\">no</td>, <td class=\"hx\">no</td>, <td class=\"hm\">1 minute ago</td>, <td>62.152.75.110</td>, <td>50287</td>, <td>RU</td>, <td class=\"hm\">Russian Federation</td>, <td>elite proxy</td>, <td class=\"hm\">no</td>, <td class=\"hx\">yes</td>, <td class=\"hm\">1 minute ago</td>, <td>178.124.208.8</td>, <td>3128</td>, <td>BY</td>, <td class=\"hm\">Belarus</td>, <td>elite proxy</td>, <td class=\"hm\">no</td>, <td class=\"hx\">no</td>, <td class=\"hm\">1 minute ago</td>, <td>223.255.133.34</td>, <td>8080</td>, <td>HK</td>, <td class=\"hm\">Hong Kong</td>, <td>elite proxy</td>, <td class=\"hm\">no</td>, <td class=\"hx\">no</td>, <td class=\"hm\">1 minute ago</td>, <td>23.251.138.105</td>, <td>8080</td>, <td>BE</td>, <td class=\"hm\">Belgium</td>, <td>anonymous</td>, <td class=\"hm\">no</td>, <td class=\"hx\">no</td>, <td class=\"hm\">1 minute ago</td>, <td>95.79.36.55</td>, <td>44861</td>, <td>RU</td>, <td class=\"hm\">Russian Federation</td>, <td>elite proxy</td>, <td class=\"hm\">no</td>, <td class=\"hx\">no</td>, <td class=\"hm\">1 minute ago</td>, <td>170.254.224.7</td>, <td>55443</td>, <td>BR</td>, <td class=\"hm\">Brazil</td>, <td>elite proxy</td>, <td class=\"hm\">no</td>, <td class=\"hx\">yes</td>, <td class=\"hm\">1 minute ago</td>, <td>185.175.119.206</td>, <td>36442</td>, <td>RU</td>, <td class=\"hm\">Russian Federation</td>, <td>elite proxy</td>, <td class=\"hm\">no</td>, <td class=\"hx\">yes</td>, <td class=\"hm\">1 minute ago</td>, <td>190.152.182.150</td>, <td>55443</td>, <td>EC</td>, <td class=\"hm\">Ecuador</td>, <td>elite proxy</td>, <td class=\"hm\">no</td>, <td class=\"hx\">yes</td>, <td class=\"hm\">1 minute ago</td>, <td>139.59.1.14</td>, <td>8080</td>, <td>IN</td>, <td class=\"hm\">India</td>, <td>anonymous</td>, <td class=\"hm\">no</td>, <td class=\"hx\">no</td>, <td class=\"hm\">1 minute ago</td>, <td>128.199.202.122</td>, <td>3128</td>, <td>SG</td>, <td class=\"hm\">Singapore</td>, <td>anonymous</td>, <td class=\"hm\">no</td>, <td class=\"hx\">no</td>, <td class=\"hm\">1 minute ago</td>, <td>198.199.86.11</td>, <td>3128</td>, <td>US</td>, <td class=\"hm\">United States</td>, <td>anonymous</td>, <td class=\"hm\">no</td>, <td class=\"hx\">no</td>, <td class=\"hm\">1 minute ago</td>, <td>51.222.197.151</td>, <td>32769</td>, <td>CA</td>, <td class=\"hm\">Canada</td>, <td>elite proxy</td>, <td class=\"hm\">no</td>, <td class=\"hx\">yes</td>, <td class=\"hm\">1 minute ago</td>, <td>103.14.199.22</td>, <td>83</td>, <td>IN</td>, <td class=\"hm\">India</td>, <td>transparent</td>, <td class=\"hm\">no</td>, <td class=\"hx\">no</td>, <td class=\"hm\">3 minutes ago</td>, <td>89.232.202.108</td>, <td>3128</td>, <td>RU</td>, <td class=\"hm\">Russian Federation</td>, <td>transparent</td>, <td class=\"hm\">no</td>, <td class=\"hx\">no</td>, <td class=\"hm\">3 minutes ago</td>, <td>45.127.246.198</td>, <td>8080</td>, <td>BD</td>, <td class=\"hm\">Bangladesh</td>, <td>transparent</td>, <td class=\"hm\">no</td>, <td class=\"hx\">no</td>, <td class=\"hm\">3 minutes ago</td>, <td>94.26.228.79</td>, <td>3128</td>, <td>RU</td>, <td class=\"hm\">Russian Federation</td>, <td>transparent</td>, <td class=\"hm\">no</td>, <td class=\"hx\">no</td>, <td class=\"hm\">3 minutes ago</td>, <td>103.155.80.251</td>, <td>808</td>, <td>VN</td>, <td class=\"hm\">Vietnam</td>, <td>transparent</td>, <td class=\"hm\">no</td>, <td class=\"hx\">no</td>, <td class=\"hm\">3 minutes ago</td>, <td>192.99.214.10</td>, <td>80</td>, <td>CA</td>, <td class=\"hm\">Canada</td>, <td>transparent</td>, <td class=\"hm\">no</td>, <td class=\"hx\">no</td>, <td class=\"hm\">3 minutes ago</td>, <td>190.107.20.84</td>, <td>999</td>, <td>CO</td>, <td class=\"hm\">Colombia</td>, <td>transparent</td>, <td class=\"hm\">no</td>, <td class=\"hx\">no</td>, <td class=\"hm\">3 minutes ago</td>, <td>106.104.148.208</td>, <td>80</td>, <td>TW</td>, <td class=\"hm\">Taiwan</td>, <td>transparent</td>, <td class=\"hm\">no</td>, <td class=\"hx\">no</td>, <td class=\"hm\">3 minutes ago</td>, <td>85.192.36.162</td>, <td>3128</td>, <td>RU</td>, <td class=\"hm\">Russian Federation</td>, <td>transparent</td>, <td class=\"hm\">no</td>, <td class=\"hx\">no</td>, <td class=\"hm\">3 minutes ago</td>, <td>61.29.96.146</td>, <td>8000</td>, <td>AU</td>, <td class=\"hm\">Australia</td>, <td>anonymous</td>, <td class=\"hm\">no</td>, <td class=\"hx\">no</td>, <td class=\"hm\">10 minutes ago</td>, <td>103.120.144.144</td>, <td>80</td>, <td>BD</td>, <td class=\"hm\">Bangladesh</td>, <td>anonymous</td>, <td class=\"hm\">no</td>, <td class=\"hx\">no</td>, <td class=\"hm\">10 minutes ago</td>, <td>161.35.4.201</td>, <td>80</td>, <td>US</td>, <td class=\"hm\">United States</td>, <td>elite proxy</td>, <td class=\"hm\">no</td>, <td class=\"hx\">no</td>, <td class=\"hm\">10 minutes ago</td>, <td>222.252.156.61</td>, <td>62694</td>, <td>VN</td>, <td class=\"hm\">Vietnam</td>, <td>elite proxy</td>, <td class=\"hm\">no</td>, <td class=\"hx\">no</td>, <td class=\"hm\">10 minutes ago</td>, <td>134.209.29.120</td>, <td>8080</td>, <td>GB</td>, <td class=\"hm\">United Kingdom</td>, <td>anonymous</td>, <td class=\"hm\">no</td>, <td class=\"hx\">no</td>, <td class=\"hm\">10 minutes ago</td>, <td>50.233.228.147</td>, <td>8080</td>, <td>US</td>, <td class=\"hm\">United States</td>, <td>anonymous</td>, <td class=\"hm\">no</td>, <td class=\"hx\">no</td>, <td class=\"hm\">10 minutes ago</td>, <td>109.245.239.125</td>, <td>35659</td>, <td>RS</td>, <td class=\"hm\">Serbia</td>, <td>elite proxy</td>, <td class=\"hm\">no</td>, <td class=\"hx\">no</td>, <td class=\"hm\">10 minutes ago</td>, <td>178.62.56.172</td>, <td>80</td>, <td>GB</td>, <td class=\"hm\">United Kingdom</td>, <td>anonymous</td>, <td class=\"hm\">no</td>, <td class=\"hx\">yes</td>, <td class=\"hm\">10 minutes ago</td>, <td>202.62.67.209</td>, <td>53281</td>, <td>IN</td>, <td class=\"hm\">India</td>, <td>elite proxy</td>, <td class=\"hm\">no</td>, <td class=\"hx\">no</td>, <td class=\"hm\">10 minutes ago</td>, <td>185.37.211.222</td>, <td>50330</td>, <td>PT</td>, <td class=\"hm\">Portugal</td>, <td>elite proxy</td>, <td class=\"hm\">no</td>, <td class=\"hx\">no</td>, <td class=\"hm\">10 minutes ago</td>, <td>122.2.183.222</td>, <td>8080</td>, <td>PH</td>, <td class=\"hm\">Philippines</td>, <td>anonymous</td>, <td class=\"hm\">no</td>, <td class=\"hx\">no</td>, <td class=\"hm\">10 minutes ago</td>, <td>117.103.5.186</td>, <td>44825</td>, <td>ID</td>, <td class=\"hm\">Indonesia</td>, <td>elite proxy</td>, <td class=\"hm\">no</td>, <td class=\"hx\">yes</td>, <td class=\"hm\">10 minutes ago</td>, <td>103.47.66.154</td>, <td>8080</td>, <td>IN</td>, <td class=\"hm\">India</td>, <td>elite proxy</td>, <td class=\"hm\">no</td>, <td class=\"hx\">no</td>, <td class=\"hm\">10 minutes ago</td>, <td>103.107.92.1</td>, <td>52827</td>, <td>IN</td>, <td class=\"hm\">India</td>, <td>elite proxy</td>, <td class=\"hm\">no</td>, <td class=\"hx\">no</td>, <td class=\"hm\">10 minutes ago</td>, <td>119.82.252.76</td>, <td>51680</td>, <td>KH</td>, <td class=\"hm\">Cambodia</td>, <td>elite proxy</td>, <td class=\"hm\">no</td>, <td class=\"hx\">no</td>, <td class=\"hm\">10 minutes ago</td>, <td>1.20.102.102</td>, <td>38816</td>, <td>TH</td>, <td class=\"hm\">Thailand</td>, <td>elite proxy</td>, <td class=\"hm\">no</td>, <td class=\"hx\">no</td>, <td class=\"hm\">10 minutes ago</td>, <td>218.161.36.89</td>, <td>53438</td>, <td>TW</td>, <td class=\"hm\">Taiwan</td>, <td>elite proxy</td>, <td class=\"hm\">no</td>, <td class=\"hx\">no</td>, <td class=\"hm\">10 minutes ago</td>, <td>183.91.0.120</td>, <td>3128</td>, <td>VN</td>, <td class=\"hm\">Vietnam</td>, <td>elite proxy</td>, <td class=\"hm\">no</td>, <td class=\"hx\">no</td>, <td class=\"hm\">10 minutes ago</td>, <td>187.243.255.174</td>, <td>8080</td>, <td>MX</td>, <td class=\"hm\">Mexico</td>, <td>elite proxy</td>, <td class=\"hm\">no</td>, <td class=\"hx\">no</td>, <td class=\"hm\">10 minutes ago</td>, <td>190.151.94.2</td>, <td>46615</td>, <td>CL</td>, <td class=\"hm\">Chile</td>, <td>elite proxy</td>, <td class=\"hm\">no</td>, <td class=\"hx\">no</td>, <td class=\"hm\">10 minutes ago</td>, <td>195.138.87.163</td>, <td>32231</td>, <td>UA</td>, <td class=\"hm\">Ukraine</td>, <td>elite proxy</td>, <td class=\"hm\">no</td>, <td class=\"hx\">no</td>, <td class=\"hm\">10 minutes ago</td>, <td>116.90.229.186</td>, <td>35561</td>, <td>NP</td>, <td class=\"hm\">Nepal</td>, <td>elite proxy</td>, <td class=\"hm\">no</td>, <td class=\"hx\">no</td>, <td class=\"hm\">10 minutes ago</td>, <td>51.222.197.219</td>, <td>32769</td>, <td>CA</td>, <td class=\"hm\">Canada</td>, <td>elite proxy</td>, <td class=\"hm\">no</td>, <td class=\"hx\">no</td>, <td class=\"hm\">10 minutes ago</td>, <td>36.95.23.89</td>, <td>8080</td>, <td>ID</td>, <td class=\"hm\">Indonesia</td>, <td>elite proxy</td>, <td class=\"hm\">no</td>, <td class=\"hx\">yes</td>, <td class=\"hm\">10 minutes ago</td>, <td>182.23.79.162</td>, <td>39902</td>, <td>ID</td>, <td class=\"hm\">Indonesia</td>, <td>elite proxy</td>, <td class=\"hm\">no</td>, <td class=\"hx\">no</td>, <td class=\"hm\">10 minutes ago</td>, <td>24.172.34.114</td>, <td>49920</td>, <td>US</td>, <td class=\"hm\">United States</td>, <td>elite proxy</td>, <td class=\"hm\">no</td>, <td class=\"hx\">no</td>, <td class=\"hm\">10 minutes ago</td>, <td>81.161.61.88</td>, <td>35953</td>, <td>SK</td>, <td class=\"hm\">Slovakia</td>, <td>elite proxy</td>, <td class=\"hm\">no</td>, <td class=\"hx\">no</td>, <td class=\"hm\">10 minutes ago</td>, <td>94.253.15.25</td>, <td>37885</td>, <td>RU</td>, <td class=\"hm\">Russian Federation</td>, <td>elite proxy</td>, <td class=\"hm\">no</td>, <td class=\"hx\">no</td>, <td class=\"hm\">10 minutes ago</td>, <td>85.90.215.111</td>, <td>3128</td>, <td>UA</td>, <td class=\"hm\">Ukraine</td>, <td>elite proxy</td>, <td class=\"hm\">no</td>, <td class=\"hx\">no</td>, <td class=\"hm\">10 minutes ago</td>, <td>190.171.180.162</td>, <td>50846</td>, <td>CL</td>, <td class=\"hm\">Chile</td>, <td>elite proxy</td>, <td class=\"hm\">no</td>, <td class=\"hx\">yes</td>, <td class=\"hm\">10 minutes ago</td>, <td>200.29.109.112</td>, <td>44749</td>, <td>CO</td>, <td class=\"hm\">Colombia</td>, <td>elite proxy</td>, <td class=\"hm\">no</td>, <td class=\"hx\">no</td>, <td class=\"hm\">10 minutes ago</td>, <td>212.77.138.161</td>, <td>41258</td>, <td>RU</td>, <td class=\"hm\">Russian Federation</td>, <td>elite proxy</td>, <td class=\"hm\">no</td>, <td class=\"hx\">yes</td>, <td class=\"hm\">10 minutes ago</td>, <td>176.197.95.2</td>, <td>3128</td>, <td>RU</td>, <td class=\"hm\">Russian Federation</td>, <td>elite proxy</td>, <td class=\"hm\">no</td>, <td class=\"hx\">no</td>, <td class=\"hm\">10 minutes ago</td>, <td>51.222.220.255</td>, <td>32769</td>, <td>CA</td>, <td class=\"hm\">Canada</td>, <td>elite proxy</td>, <td class=\"hm\">no</td>, <td class=\"hx\">no</td>, <td class=\"hm\">10 minutes ago</td>, <td>51.79.157.202</td>, <td>443</td>, <td>SG</td>, <td class=\"hm\">Singapore</td>, <td>elite proxy</td>, <td class=\"hm\">no</td>, <td class=\"hx\">yes</td>, <td class=\"hm\">10 minutes ago</td>, <td>107.150.37.84</td>, <td>3128</td>, <td>US</td>, <td class=\"hm\">United States</td>, <td>elite proxy</td>, <td class=\"hm\">no</td>, <td class=\"hx\">no</td>, <td class=\"hm\">10 minutes ago</td>, <td>188.170.163.193</td>, <td>8080</td>, <td>RU</td>, <td class=\"hm\">Russian Federation</td>, <td>transparent</td>, <td class=\"hm\">no</td>, <td class=\"hx\">no</td>, <td class=\"hm\">10 minutes ago</td>, <td>103.109.57.1</td>, <td>8080</td>, <td>BD</td>, <td class=\"hm\">Bangladesh</td>, <td>elite proxy</td>, <td class=\"hm\">no</td>, <td class=\"hx\">no</td>, <td class=\"hm\">10 minutes ago</td>, <td>194.5.237.204</td>, <td>1012</td>, <td>TR</td>, <td class=\"hm\">Turkey</td>, <td>elite proxy</td>, <td class=\"hm\">no</td>, <td class=\"hx\">no</td>, <td class=\"hm\">10 minutes ago</td>, <td>51.222.197.180</td>, <td>32769</td>, <td>CA</td>, <td class=\"hm\">Canada</td>, <td>elite proxy</td>, <td class=\"hm\">no</td>, <td class=\"hx\">no</td>, <td class=\"hm\">10 minutes ago</td>, <td>77.70.35.87</td>, <td>37475</td>, <td>BG</td>, <td class=\"hm\">Bulgaria</td>, <td>elite proxy</td>, <td class=\"hm\">no</td>, <td class=\"hx\">no</td>, <td class=\"hm\">10 minutes ago</td>, <td>118.173.233.149</td>, <td>45160</td>, <td>TH</td>, <td class=\"hm\">Thailand</td>, <td>elite proxy</td>, <td class=\"hm\">no</td>, <td class=\"hx\">yes</td>, <td class=\"hm\">10 minutes ago</td>, <td>79.143.87.136</td>, <td>9090</td>, <td>GB</td>, <td class=\"hm\">United Kingdom</td>, <td>anonymous</td>, <td class=\"hm\">no</td>, <td class=\"hx\">no</td>, <td class=\"hm\">10 minutes ago</td>, <td>51.222.197.229</td>, <td>32769</td>, <td>CA</td>, <td class=\"hm\">Canada</td>, <td>elite proxy</td>, <td class=\"hm\">no</td>, <td class=\"hx\">no</td>, <td class=\"hm\">10 minutes ago</td>, <td>109.195.23.223</td>, <td>34031</td>, <td>RU</td>, <td class=\"hm\">Russian Federation</td>, <td>elite proxy</td>, <td class=\"hm\">no</td>, <td class=\"hx\">no</td>, <td class=\"hm\">10 minutes ago</td>, <td>158.51.109.34</td>, <td>26019</td>, <td>US</td>, <td class=\"hm\">United States</td>, <td>elite proxy</td>, <td class=\"hm\">no</td>, <td class=\"hx\">no</td>, <td class=\"hm\">10 minutes ago</td>, <td>51.222.197.225</td>, <td>32769</td>, <td>CA</td>, <td class=\"hm\">Canada</td>, <td>elite proxy</td>, <td class=\"hm\">no</td>, <td class=\"hx\">no</td>, <td class=\"hm\">10 minutes ago</td>, <td>80.73.9.238</td>, <td>808</td>, <td>UA</td>, <td class=\"hm\">Ukraine</td>, <td>elite proxy</td>, <td class=\"hm\">no</td>, <td class=\"hx\">yes</td>, <td class=\"hm\">10 minutes ago</td>, <td>79.143.87.140</td>, <td>9090</td>, <td>GB</td>, <td class=\"hm\">United Kingdom</td>, <td>anonymous</td>, <td class=\"hm\">no</td>, <td class=\"hx\">no</td>, <td class=\"hm\">10 minutes ago</td>, <td>138.68.60.8</td>, <td>8080</td>, <td>US</td>, <td class=\"hm\">United States</td>, <td>anonymous</td>, <td class=\"hm\">no</td>, <td class=\"hx\">no</td>, <td class=\"hm\">10 minutes ago</td>, <td>209.97.150.167</td>, <td>8080</td>, <td>US</td>, <td class=\"hm\">United States</td>, <td>anonymous</td>, <td class=\"hm\">no</td>, <td class=\"hx\">no</td>, <td class=\"hm\">10 minutes ago</td>, <td>159.203.61.169</td>, <td>8080</td>, <td>CA</td>, <td class=\"hm\">Canada</td>, <td>anonymous</td>, <td class=\"hm\">no</td>, <td class=\"hx\">no</td>, <td class=\"hm\">10 minutes ago</td>, <td>154.16.202.22</td>, <td>8080</td>, <td>DE</td>, <td class=\"hm\">Germany</td>, <td>anonymous</td>, <td class=\"hm\">no</td>, <td class=\"hx\">no</td>, <td class=\"hm\">10 minutes ago</td>, <td>161.35.70.249</td>, <td>3128</td>, <td>DE</td>, <td class=\"hm\">Germany</td>, <td>anonymous</td>, <td class=\"hm\">no</td>, <td class=\"hx\">no</td>, <td class=\"hm\">10 minutes ago</td>, <td>191.96.42.80</td>, <td>8080</td>, <td>US</td>, <td class=\"hm\">United States</td>, <td>anonymous</td>, <td class=\"hm\">no</td>, <td class=\"hx\">no</td>, <td class=\"hm\">10 minutes ago</td>, <td>167.71.5.83</td>, <td>8080</td>, <td>NL</td>, <td class=\"hm\">Netherlands</td>, <td>anonymous</td>, <td class=\"hm\">no</td>, <td class=\"hx\">no</td>, <td class=\"hm\">10 minutes ago</td>, <td>103.110.47.51</td>, <td>8080</td>, <td>PH</td>, <td class=\"hm\">Philippines</td>, <td>anonymous</td>, <td class=\"hm\">no</td>, <td class=\"hx\">yes</td>, <td class=\"hm\">10 minutes ago</td>, <td>128.199.214.87</td>, <td>3128</td>, <td>SG</td>, <td class=\"hm\">Singapore</td>, <td>anonymous</td>, <td class=\"hm\">no</td>, <td class=\"hx\">no</td>, <td class=\"hm\">10 minutes ago</td>, <td>51.222.197.189</td>, <td>32769</td>, <td>CA</td>, <td class=\"hm\">Canada</td>, <td>elite proxy</td>, <td class=\"hm\">no</td>, <td class=\"hx\">no</td>, <td class=\"hm\">10 minutes ago</td>, <td>51.222.197.208</td>, <td>32769</td>, <td>CA</td>, <td class=\"hm\">Canada</td>, <td>elite proxy</td>, <td class=\"hm\">no</td>, <td class=\"hx\">no</td>, <td class=\"hm\">10 minutes ago</td>, <td>103.109.57.193</td>, <td>8080</td>, <td>BD</td>, <td class=\"hm\">Bangladesh</td>, <td>elite proxy</td>, <td class=\"hm\">no</td>, <td class=\"hx\">no</td>, <td class=\"hm\">10 minutes ago</td>, <td>51.222.21.80</td>, <td>32768</td>, <td>CA</td>, <td class=\"hm\">Canada</td>, <td>elite proxy</td>, <td class=\"hm\">no</td>, <td class=\"hx\">no</td>, <td class=\"hm\">10 minutes ago</td>, <td>94.180.106.94</td>, <td>32767</td>, <td>RU</td>, <td class=\"hm\">Russian Federation</td>, <td>elite proxy</td>, <td class=\"hm\">no</td>, <td class=\"hx\">no</td>, <td class=\"hm\">10 minutes ago</td>, <td>203.150.128.229</td>, <td>8080</td>, <td>TH</td>, <td class=\"hm\">Thailand</td>, <td>transparent</td>, <td class=\"hm\">no</td>, <td class=\"hx\">no</td>, <td class=\"hm\">10 minutes ago</td>, <td>103.105.212.106</td>, <td>53281</td>, <td>PH</td>, <td class=\"hm\">Philippines</td>, <td>elite proxy</td>, <td class=\"hm\">no</td>, <td class=\"hx\">no</td>, <td class=\"hm\">11 minutes ago</td>, <td>181.209.106.196</td>, <td>3128</td>, <td>AR</td>, <td class=\"hm\">Argentina</td>, <td>anonymous</td>, <td class=\"hm\">no</td>, <td class=\"hx\">yes</td>, <td class=\"hm\">11 minutes ago</td>, <td>51.222.220.234</td>, <td>32769</td>, <td>CA</td>, <td class=\"hm\">Canada</td>, <td>elite proxy</td>, <td class=\"hm\">no</td>, <td class=\"hx\">no</td>, <td class=\"hm\">11 minutes ago</td>, <td>184.82.230.97</td>, <td>8080</td>, <td>TH</td>, <td class=\"hm\">Thailand</td>, <td>transparent</td>, <td class=\"hm\">no</td>, <td class=\"hx\">no</td>, <td class=\"hm\">12 minutes ago</td>, <td>181.224.160.253</td>, <td>999</td>, <td>CO</td>, <td class=\"hm\">Colombia</td>, <td>transparent</td>, <td class=\"hm\">no</td>, <td class=\"hx\">no</td>, <td class=\"hm\">12 minutes ago</td>, <td>90.189.110.170</td>, <td>3128</td>, <td>RU</td>, <td class=\"hm\">Russian Federation</td>, <td>elite proxy</td>, <td class=\"hm\">no</td>, <td class=\"hx\">no</td>, <td class=\"hm\">20 minutes ago</td>, <td>178.66.182.76</td>, <td>3128</td>, <td>RU</td>, <td class=\"hm\">Russian Federation</td>, <td>elite proxy</td>, <td class=\"hm\">no</td>, <td class=\"hx\">no</td>, <td class=\"hm\">20 minutes ago</td>, <td>170.81.35.26</td>, <td>36681</td>, <td>CR</td>, <td class=\"hm\">Costa Rica</td>, <td>elite proxy</td>, <td class=\"hm\">no</td>, <td class=\"hx\">yes</td>, <td class=\"hm\">20 minutes ago</td>, <td>160.19.102.98</td>, <td>8080</td>, <td>LY</td>, <td class=\"hm\">Libya</td>, <td>elite proxy</td>, <td class=\"hm\">no</td>, <td class=\"hx\">yes</td>, <td class=\"hm\">20 minutes ago</td>, <td>115.75.1.184</td>, <td>8118</td>, <td>VN</td>, <td class=\"hm\">Vietnam</td>, <td>anonymous</td>, <td class=\"hm\">no</td>, <td class=\"hx\">yes</td>, <td class=\"hm\">20 minutes ago</td>, <td>69.65.65.178</td>, <td>58389</td>, <td>US</td>, <td class=\"hm\">United States</td>, <td>elite proxy</td>, <td class=\"hm\">no</td>, <td class=\"hx\">no</td>, <td class=\"hm\">20 minutes ago</td>, <td>212.126.107.2</td>, <td>31475</td>, <td>IQ</td>, <td class=\"hm\">Iraq</td>, <td>elite proxy</td>, <td class=\"hm\">no</td>, <td class=\"hx\">no</td>, <td class=\"hm\">20 minutes ago</td>, <td>186.125.59.8</td>, <td>46316</td>, <td>AR</td>, <td class=\"hm\">Argentina</td>, <td>elite proxy</td>, <td class=\"hm\">no</td>, <td class=\"hx\">no</td>, <td class=\"hm\">20 minutes ago</td>, <td>81.163.57.147</td>, <td>41258</td>, <td>RU</td>, <td class=\"hm\">Russian Federation</td>, <td>elite proxy</td>, <td class=\"hm\">no</td>, <td class=\"hx\">no</td>, <td class=\"hm\">20 minutes ago</td>, <td>45.112.57.230</td>, <td>61222</td>, <td>IN</td>, <td class=\"hm\">India</td>, <td>elite proxy</td>, <td class=\"hm\">no</td>, <td class=\"hx\">no</td>, <td class=\"hm\">20 minutes ago</td>, <td>178.47.139.151</td>, <td>35102</td>, <td>RU</td>, <td class=\"hm\">Russian Federation</td>, <td>elite proxy</td>, <td class=\"hm\">no</td>, <td class=\"hx\">yes</td>, <td class=\"hm\">20 minutes ago</td>, <td>45.133.216.121</td>, <td>8080</td>, <td>LV</td>, <td class=\"hm\">Latvia</td>, <td>anonymous</td>, <td class=\"hm\">no</td>, <td class=\"hx\">no</td>, <td class=\"hm\">20 minutes ago</td>, <td>217.150.77.31</td>, <td>53281</td>, <td>RU</td>, <td class=\"hm\">Russian Federation</td>, <td>elite proxy</td>, <td class=\"hm\">no</td>, <td class=\"hx\">no</td>, <td class=\"hm\">20 minutes ago</td>, <td>163.172.221.209</td>, <td>443</td>, <td>NL</td>, <td class=\"hm\">Netherlands</td>, <td>elite proxy</td>, <td class=\"hm\">no</td>, <td class=\"hx\">yes</td>, <td class=\"hm\">20 minutes ago</td>, <td>65.2.107.27</td>, <td>8080</td>, <td>IN</td>, <td class=\"hm\">India</td>, <td>anonymous</td>, <td class=\"hm\">no</td>, <td class=\"hx\">no</td>, <td class=\"hm\">21 minutes ago</td>, <td>167.172.171.115</td>, <td>40061</td>, <td>DE</td>, <td class=\"hm\">Germany</td>, <td>elite proxy</td>, <td class=\"hm\">no</td>, <td class=\"hx\">yes</td>, <td class=\"hm\">21 minutes ago</td>, <td>91.192.2.168</td>, <td>53281</td>, <td>PL</td>, <td class=\"hm\">Poland</td>, <td>elite proxy</td>, <td class=\"hm\">no</td>, <td class=\"hx\">no</td>, <td class=\"hm\">21 minutes ago</td>, <td>82.102.8.60</td>, <td>3128</td>, <td>GB</td>, <td class=\"hm\">United Kingdom</td>, <td>elite proxy</td>, <td class=\"hm\">no</td>, <td class=\"hx\">yes</td>, <td class=\"hm\">21 minutes ago</td>, <td>190.7.141.66</td>, <td>47576</td>, <td>CO</td>, <td class=\"hm\">Colombia</td>, <td>elite proxy</td>, <td class=\"hm\">no</td>, <td class=\"hx\">no</td>, <td class=\"hm\">21 minutes ago</td>, <td>124.41.211.211</td>, <td>43979</td>, <td>NP</td>, <td class=\"hm\">Nepal</td>, <td>elite proxy</td>, <td class=\"hm\">no</td>, <td class=\"hx\">no</td>, <td class=\"hm\">21 minutes ago</td>, <td>81.252.192.166</td>, <td>80</td>, <td>FR</td>, <td class=\"hm\">France</td>, <td>anonymous</td>, <td class=\"hm\">no</td>, <td class=\"hx\">no</td>, <td class=\"hm\">21 minutes ago</td>, <td>13.231.68.213</td>, <td>8081</td>, <td>JP</td>, <td class=\"hm\">Japan</td>, <td>anonymous</td>, <td class=\"hm\">no</td>, <td class=\"hx\">no</td>, <td class=\"hm\">21 minutes ago</td>, <td>124.158.88.56</td>, <td>54555</td>, <td>MN</td>, <td class=\"hm\">Mongolia</td>, <td>elite proxy</td>, <td class=\"hm\">no</td>, <td class=\"hx\">no</td>, <td class=\"hm\">21 minutes ago</td>, <td>175.139.179.65</td>, <td>42580</td>, <td>MY</td>, <td class=\"hm\">Malaysia</td>, <td>elite proxy</td>, <td class=\"hm\">no</td>, <td class=\"hx\">no</td>, <td class=\"hm\">21 minutes ago</td>, <td>31.43.180.68</td>, <td>8080</td>, <td>UA</td>, <td class=\"hm\">Ukraine</td>, <td>elite proxy</td>, <td class=\"hm\">no</td>, <td class=\"hx\">no</td>, <td class=\"hm\">21 minutes ago</td>, <td>103.11.106.70</td>, <td>8181</td>, <td>ID</td>, <td class=\"hm\">Indonesia</td>, <td>anonymous</td>, <td class=\"hm\">no</td>, <td class=\"hx\">yes</td>, <td class=\"hm\">21 minutes ago</td>, <td>103.209.65.12</td>, <td>6666</td>, <td>IN</td>, <td class=\"hm\">India</td>, <td>elite proxy</td>, <td class=\"hm\">no</td>, <td class=\"hx\">no</td>, <td class=\"hm\">21 minutes ago</td>, <td>52.149.152.236</td>, <td>80</td>, <td>US</td>, <td class=\"hm\">United States</td>, <td>anonymous</td>, <td class=\"hm\">no</td>, <td class=\"hx\">no</td>, <td class=\"hm\">21 minutes ago</td>, <td>113.161.207.99</td>, <td>60626</td>, <td>VN</td>, <td class=\"hm\">Vietnam</td>, <td>elite proxy</td>, <td class=\"hm\">no</td>, <td class=\"hx\">no</td>, <td class=\"hm\">21 minutes ago</td>, <td>50.192.195.69</td>, <td>52018</td>, <td>US</td>, <td class=\"hm\">United States</td>, <td>elite proxy</td>, <td class=\"hm\">no</td>, <td class=\"hx\">no</td>, <td class=\"hm\">21 minutes ago</td>, <td>195.252.125.206</td>, <td>8080</td>, <td>RS</td>, <td class=\"hm\">Serbia</td>, <td>elite proxy</td>, <td class=\"hm\">no</td>, <td class=\"hx\">no</td>, <td class=\"hm\">21 minutes ago</td>, <td>201.59.201.92</td>, <td>39553</td>, <td>BR</td>, <td class=\"hm\">Brazil</td>, <td>elite proxy</td>, <td class=\"hm\">no</td>, <td class=\"hx\">no</td>, <td class=\"hm\">21 minutes ago</td>, <td>190.167.215.170</td>, <td>52479</td>, <td>DO</td>, <td class=\"hm\">Dominican Republic</td>, <td>elite proxy</td>, <td class=\"hm\">no</td>, <td class=\"hx\">no</td>, <td class=\"hm\">21 minutes ago</td>, <td>150.129.148.88</td>, <td>35101</td>, <td>IN</td>, <td class=\"hm\">India</td>, <td>elite proxy</td>, <td class=\"hm\">no</td>, <td class=\"hx\">no</td>, <td class=\"hm\">21 minutes ago</td>, <td>93.91.112.247</td>, <td>41258</td>, <td>RU</td>, <td class=\"hm\">Russian Federation</td>, <td>elite proxy</td>, <td class=\"hm\">no</td>, <td class=\"hx\">no</td>, <td class=\"hm\">21 minutes ago</td>, <td>200.32.51.179</td>, <td>8080</td>, <td>AR</td>, <td class=\"hm\">Argentina</td>, <td>elite proxy</td>, <td class=\"hm\">no</td>, <td class=\"hx\">no</td>, <td class=\"hm\">21 minutes ago</td>, <td>103.250.157.43</td>, <td>6666</td>, <td>IN</td>, <td class=\"hm\">India</td>, <td>elite proxy</td>, <td class=\"hm\">no</td>, <td class=\"hx\">no</td>, <td class=\"hm\">21 minutes ago</td>, <td>51.222.220.237</td>, <td>32769</td>, <td>CA</td>, <td class=\"hm\">Canada</td>, <td>elite proxy</td>, <td class=\"hm\">no</td>, <td class=\"hx\">yes</td>, <td class=\"hm\">21 minutes ago</td>, <td>176.119.134.222</td>, <td>23500</td>, <td>ES</td>, <td class=\"hm\">Spain</td>, <td>elite proxy</td>, <td class=\"hm\">no</td>, <td class=\"hx\">yes</td>, <td class=\"hm\">21 minutes ago</td>, <td>117.102.81.5</td>, <td>53281</td>, <td>ID</td>, <td class=\"hm\">Indonesia</td>, <td>elite proxy</td>, <td class=\"hm\">no</td>, <td class=\"hx\">no</td>, <td class=\"hm\">21 minutes ago</td>, <td>177.94.212.123</td>, <td>443</td>, <td>BR</td>, <td class=\"hm\">Brazil</td>, <td>elite proxy</td>, <td class=\"hm\">no</td>, <td class=\"hx\">yes</td>, <td class=\"hm\">21 minutes ago</td>, <td>175.212.226.26</td>, <td>80</td>, <td>KR</td>, <td class=\"hm\">Korea</td>, <td>elite proxy</td>, <td class=\"hm\">no</td>, <td class=\"hx\">no</td>, <td class=\"hm\">21 minutes ago</td>, <td>69.167.174.17</td>, <td>80</td>, <td>US</td>, <td class=\"hm\">United States</td>, <td>elite proxy</td>, <td class=\"hm\">no</td>, <td class=\"hx\">no</td>, <td class=\"hm\">21 minutes ago</td>, <td>79.143.87.117</td>, <td>9090</td>, <td>GB</td>, <td class=\"hm\">United Kingdom</td>, <td>anonymous</td>, <td class=\"hm\">no</td>, <td class=\"hx\">no</td>, <td class=\"hm\">21 minutes ago</td>, <td>51.222.197.183</td>, <td>32769</td>, <td>CA</td>, <td class=\"hm\">Canada</td>, <td>elite proxy</td>, <td class=\"hm\">no</td>, <td class=\"hx\">yes</td>, <td class=\"hm\">21 minutes ago</td>, <td>51.81.82.175</td>, <td>80</td>, <td>US</td>, <td class=\"hm\">United States</td>, <td>anonymous</td>, <td class=\"hm\">no</td>, <td class=\"hx\">no</td>, <td class=\"hm\">22 minutes ago</td>, <td>175.143.37.162</td>, <td>80</td>, <td>MY</td>, <td class=\"hm\">Malaysia</td>, <td>anonymous</td>, <td class=\"hm\">no</td>, <td class=\"hx\">no</td>, <td class=\"hm\">22 minutes ago</td>, <td>103.141.108.244</td>, <td>3127</td>, <td>ID</td>, <td class=\"hm\">Indonesia</td>, <td>anonymous</td>, <td class=\"hm\">no</td>, <td class=\"hx\">no</td>, <td class=\"hm\">22 minutes ago</td>, <td>49.248.152.240</td>, <td>80</td>, <td>IN</td>, <td class=\"hm\">India</td>, <td>anonymous</td>, <td class=\"hm\">no</td>, <td class=\"hx\">no</td>, <td class=\"hm\">22 minutes ago</td>, <td>49.51.232.203</td>, <td>80</td>, <td>US</td>, <td class=\"hm\">United States</td>, <td>anonymous</td>, <td class=\"hm\">no</td>, <td class=\"hx\">no</td>, <td class=\"hm\">22 minutes ago</td>, <td>23.97.173.57</td>, <td>80</td>, <td>NL</td>, <td class=\"hm\">Netherlands</td>, <td>anonymous</td>, <td class=\"hm\">no</td>, <td class=\"hx\">no</td>, <td class=\"hm\">22 minutes ago</td>, <td>49.248.152.247</td>, <td>80</td>, <td>IN</td>, <td class=\"hm\">India</td>, <td>anonymous</td>, <td class=\"hm\">no</td>, <td class=\"hx\">no</td>, <td class=\"hm\">22 minutes ago</td>, <td>197.149.123.140</td>, <td>80</td>, <td>NG</td>, <td class=\"hm\">Nigeria</td>, <td>anonymous</td>, <td class=\"hm\">no</td>, <td class=\"hx\">no</td>, <td class=\"hm\">22 minutes ago</td>, <td>005.252.161.48</td>, <td>8080</td>, <td></td>, <td class=\"hm\">Unknown</td>, <td>anonymous</td>, <td class=\"hm\">no</td>, <td class=\"hx\">no</td>, <td class=\"hm\">22 minutes ago</td>, <td>35.172.135.29</td>, <td>80</td>, <td>US</td>, <td class=\"hm\">United States</td>, <td>anonymous</td>, <td class=\"hm\">no</td>, <td class=\"hx\">no</td>, <td class=\"hm\">22 minutes ago</td>, <td>218.111.228.178</td>, <td>80</td>, <td>MY</td>, <td class=\"hm\">Malaysia</td>, <td>anonymous</td>, <td class=\"hm\">no</td>, <td class=\"hx\">no</td>, <td class=\"hm\">22 minutes ago</td>, <td>54.151.203.4</td>, <td>80</td>, <td>SG</td>, <td class=\"hm\">Singapore</td>, <td>anonymous</td>, <td class=\"hm\">no</td>, <td class=\"hx\">no</td>, <td class=\"hm\">22 minutes ago</td>, <td>185.128.38.243</td>, <td>8080</td>, <td>IQ</td>, <td class=\"hm\">Iraq</td>, <td>anonymous</td>, <td class=\"hm\">no</td>, <td class=\"hx\">no</td>, <td class=\"hm\">22 minutes ago</td>, <td>05.9.173.162</td>, <td>3128</td>, <td></td>, <td class=\"hm\">Unknown</td>, <td>anonymous</td>, <td class=\"hm\">no</td>, <td class=\"hx\">yes</td>, <td class=\"hm\">22 minutes ago</td>, <td>8.140.138.104</td>, <td>80</td>, <td>SG</td>, <td class=\"hm\">Singapore</td>, <td>anonymous</td>, <td class=\"hm\">no</td>, <td class=\"hx\">no</td>, <td class=\"hm\">22 minutes ago</td>, <td>14.207.125.125</td>, <td>8080</td>, <td>TH</td>, <td class=\"hm\">Thailand</td>, <td>transparent</td>, <td class=\"hm\">no</td>, <td class=\"hx\">no</td>, <td class=\"hm\">22 minutes ago</td>, <td>103.134.111.90</td>, <td>8060</td>, <td>IN</td>, <td class=\"hm\">India</td>, <td>transparent</td>, <td class=\"hm\">no</td>, <td class=\"hx\">no</td>, <td class=\"hm\">24 minutes ago</td>, <td>61.37.223.152</td>, <td>8080</td>, <td>KR</td>, <td class=\"hm\">Korea</td>, <td>elite proxy</td>, <td class=\"hm\">no</td>, <td class=\"hx\">no</td>, <td class=\"hm\">30 minutes ago</td>, <td>46.201.219.210</td>, <td>3128</td>, <td>UA</td>, <td class=\"hm\">Ukraine</td>, <td>elite proxy</td>, <td class=\"hm\">no</td>, <td class=\"hx\">no</td>, <td class=\"hm\">30 minutes ago</td>, <td>197.255.52.214</td>, <td>8081</td>, <td>NG</td>, <td class=\"hm\">Nigeria</td>, <td>elite proxy</td>, <td class=\"hm\">no</td>, <td class=\"hx\">no</td>, <td class=\"hm\">30 minutes ago</td>, <td>178.32.223.164</td>, <td>8118</td>, <td>FR</td>, <td class=\"hm\">France</td>, <td>elite proxy</td>, <td class=\"hm\">no</td>, <td class=\"hx\">no</td>, <td class=\"hm\">30 minutes ago</td>, <td>220.135.165.38</td>, <td>8080</td>, <td>TW</td>, <td class=\"hm\">Taiwan</td>, <td>elite proxy</td>, <td class=\"hm\">no</td>, <td class=\"hx\">no</td>, <td class=\"hm\">30 minutes ago</td>, <td>70.169.141.35</td>, <td>3128</td>, <td>US</td>, <td class=\"hm\">United States</td>, <td>anonymous</td>, <td class=\"hm\">no</td>, <td class=\"hx\">no</td>, <td class=\"hm\">30 minutes ago</td>, <td>165.227.163.91</td>, <td>3128</td>, <td>DE</td>, <td class=\"hm\">Germany</td>, <td>anonymous</td>, <td class=\"hm\">no</td>, <td class=\"hx\">no</td>, <td class=\"hm\">30 minutes ago</td>, <td>182.253.170.163</td>, <td>8080</td>, <td>ID</td>, <td class=\"hm\">Indonesia</td>, <td>elite proxy</td>, <td class=\"hm\">no</td>, <td class=\"hx\">yes</td>, <td class=\"hm\">30 minutes ago</td>, <td>93.157.172.153</td>, <td>8080</td>, <td>RU</td>, <td class=\"hm\">Russian Federation</td>, <td>transparent</td>, <td class=\"hm\">no</td>, <td class=\"hx\">no</td>, <td class=\"hm\">30 minutes ago</td>, <td>14.38.255.11</td>, <td>80</td>, <td>KR</td>, <td class=\"hm\">Korea</td>, <td>elite proxy</td>, <td class=\"hm\">no</td>, <td class=\"hx\">no</td>, <td class=\"hm\">30 minutes ago</td>, <td>190.53.46.14</td>, <td>38525</td>, <td>SV</td>, <td class=\"hm\">El Salvador</td>, <td>elite proxy</td>, <td class=\"hm\">no</td>, <td class=\"hx\">no</td>, <td class=\"hm\">30 minutes ago</td>, <td>104.40.153.131</td>, <td>80</td>, <td>NL</td>, <td class=\"hm\">Netherlands</td>, <td>anonymous</td>, <td class=\"hm\">no</td>, <td class=\"hx\">no</td>, <td class=\"hm\">30 minutes ago</td>, <td>31.220.183.217</td>, <td>53281</td>, <td>RU</td>, <td class=\"hm\">Russian Federation</td>, <td>elite proxy</td>, <td class=\"hm\">no</td>, <td class=\"hx\">no</td>, <td class=\"hm\">30 minutes ago</td>, <td>200.85.169.18</td>, <td>47548</td>, <td>NI</td>, <td class=\"hm\">Nicaragua</td>, <td>elite proxy</td>, <td class=\"hm\">no</td>, <td class=\"hx\">no</td>, <td class=\"hm\">30 minutes ago</td>, <td>114.7.193.213</td>, <td>8080</td>, <td>ID</td>, <td class=\"hm\">Indonesia</td>, <td>anonymous</td>, <td class=\"hm\">no</td>, <td class=\"hx\">yes</td>, <td class=\"hm\">30 minutes ago</td>, <td>115.243.184.76</td>, <td>23500</td>, <td>IN</td>, <td class=\"hm\">India</td>, <td>elite proxy</td>, <td class=\"hm\">no</td>, <td class=\"hx\">no</td>, <td class=\"hm\">30 minutes ago</td>, <td>103.240.77.98</td>, <td>30093</td>, <td>IN</td>, <td class=\"hm\">India</td>, <td>elite proxy</td>, <td class=\"hm\">no</td>, <td class=\"hx\">no</td>, <td class=\"hm\">30 minutes ago</td>, <td>187.111.176.62</td>, <td>8080</td>, <td>BR</td>, <td class=\"hm\">Brazil</td>, <td>elite proxy</td>, <td class=\"hm\">no</td>, <td class=\"hx\">no</td>, <td class=\"hm\">30 minutes ago</td>, <td>176.98.75.229</td>, <td>54256</td>, <td>UA</td>, <td class=\"hm\">Ukraine</td>, <td>elite proxy</td>, <td class=\"hm\">no</td>, <td class=\"hx\">no</td>, <td class=\"hm\">30 minutes ago</td>, <td>119.82.249.4</td>, <td>60959</td>, <td>KH</td>, <td class=\"hm\">Cambodia</td>, <td>elite proxy</td>, <td class=\"hm\">no</td>, <td class=\"hx\">no</td>, <td class=\"hm\">30 minutes ago</td>, <td>181.129.138.114</td>, <td>30838</td>, <td>CO</td>, <td class=\"hm\">Colombia</td>, <td>elite proxy</td>, <td class=\"hm\">no</td>, <td class=\"hx\">yes</td>, <td class=\"hm\">30 minutes ago</td>, <td>179.49.57.150</td>, <td>6666</td>, <td>EC</td>, <td class=\"hm\">Ecuador</td>, <td>elite proxy</td>, <td class=\"hm\">no</td>, <td class=\"hx\">no</td>, <td class=\"hm\">30 minutes ago</td>, <td>95.158.63.46</td>, <td>32923</td>, <td>UA</td>, <td class=\"hm\">Ukraine</td>, <td>elite proxy</td>, <td class=\"hm\">no</td>, <td class=\"hx\">no</td>, <td class=\"hm\">30 minutes ago</td>, <td>118.97.100.83</td>, <td>35220</td>, <td>ID</td>, <td class=\"hm\">Indonesia</td>, <td>elite proxy</td>, <td class=\"hm\">no</td>, <td class=\"hx\">yes</td>, <td class=\"hm\">30 minutes ago</td>, <td>42.188.200.213</td>, <td>8080</td>, <td>MY</td>, <td class=\"hm\">Malaysia</td>, <td>elite proxy</td>, <td class=\"hm\">no</td>, <td class=\"hx\">yes</td>, <td class=\"hm\">30 minutes ago</td>, <td>160.238.227.153</td>, <td>30222</td>, <td>BR</td>, <td class=\"hm\">Brazil</td>, <td>elite proxy</td>, <td class=\"hm\">no</td>, <td class=\"hx\">no</td>, <td class=\"hm\">30 minutes ago</td>, <td>182.52.51.10</td>, <td>61124</td>, <td>TH</td>, <td class=\"hm\">Thailand</td>, <td>elite proxy</td>, <td class=\"hm\">no</td>, <td class=\"hx\">no</td>, <td class=\"hm\">30 minutes ago</td>, <td>165.227.173.87</td>, <td>38797</td>, <td>DE</td>, <td class=\"hm\">Germany</td>, <td>elite proxy</td>, <td class=\"hm\">no</td>, <td class=\"hx\">no</td>, <td class=\"hm\">30 minutes ago</td>, <td>192.162.192.148</td>, <td>55443</td>, <td>RU</td>, <td class=\"hm\">Russian Federation</td>, <td>elite proxy</td>, <td class=\"hm\">no</td>, <td class=\"hx\">no</td>, <td class=\"hm\">30 minutes ago</td>, <td>178.205.169.210</td>, <td>3128</td>, <td>RU</td>, <td class=\"hm\">Russian Federation</td>, <td>elite proxy</td>, <td class=\"hm\">no</td>, <td class=\"hx\">no</td>, <td class=\"hm\">30 minutes ago</td>, <td>189.52.154.213</td>, <td>3128</td>, <td>BR</td>, <td class=\"hm\">Brazil</td>, <td>elite proxy</td>, <td class=\"hm\">no</td>, <td class=\"hx\">no</td>, <td class=\"hm\">30 minutes ago</td>, <td>103.28.121.58</td>, <td>80</td>, <td>BD</td>, <td class=\"hm\">Bangladesh</td>, <td>anonymous</td>, <td class=\"hm\">no</td>, <td class=\"hx\">no</td>, <td class=\"hm\">30 minutes ago</td>, <td>118.99.100.2</td>, <td>8080</td>, <td>ID</td>, <td class=\"hm\">Indonesia</td>, <td>elite proxy</td>, <td class=\"hm\">no</td>, <td class=\"hx\">no</td>, <td class=\"hm\">30 minutes ago</td>, <td>109.123.115.10</td>, <td>8889</td>, <td>GB</td>, <td class=\"hm\">United Kingdom</td>, <td>transparent</td>, <td class=\"hm\">no</td>, <td class=\"hx\">no</td>, <td class=\"hm\">30 minutes ago</td>, <td>118.179.173.253</td>, <td>40836</td>, <td>BD</td>, <td class=\"hm\">Bangladesh</td>, <td>elite proxy</td>, <td class=\"hm\">no</td>, <td class=\"hx\">no</td>, <td class=\"hm\">30 minutes ago</td>, <td>51.222.197.249</td>, <td>32769</td>, <td>CA</td>, <td class=\"hm\">Canada</td>, <td>elite proxy</td>, <td class=\"hm\">no</td>, <td class=\"hx\">no</td>, <td class=\"hm\">30 minutes ago</td>, <td>51.222.220.251</td>, <td>32769</td>, <td>CA</td>, <td class=\"hm\">Canada</td>, <td>elite proxy</td>, <td class=\"hm\">no</td>, <td class=\"hx\">no</td>, <td class=\"hm\">30 minutes ago</td>, <td>51.222.220.233</td>, <td>32769</td>, <td>CA</td>, <td class=\"hm\">Canada</td>, <td>elite proxy</td>, <td class=\"hm\">no</td>, <td class=\"hx\">no</td>, <td class=\"hm\">30 minutes ago</td>, <td>51.222.197.158</td>, <td>32769</td>, <td>CA</td>, <td class=\"hm\">Canada</td>, <td>elite proxy</td>, <td class=\"hm\">no</td>, <td class=\"hx\">yes</td>, <td class=\"hm\">30 minutes ago</td>, <td>216.21.18.194</td>, <td>80</td>, <td>US</td>, <td class=\"hm\">United States</td>, <td>anonymous</td>, <td class=\"hm\">no</td>, <td class=\"hx\">yes</td>, <td class=\"hm\">30 minutes ago</td>, <td>180.178.127.204</td>, <td>3128</td>, <td>KH</td>, <td class=\"hm\">Cambodia</td>, <td>anonymous</td>, <td class=\"hm\">no</td>, <td class=\"hx\">yes</td>, <td class=\"hm\">30 minutes ago</td>, <td>178.176.104.182</td>, <td>53281</td>, <td>RU</td>, <td class=\"hm\">Russian Federation</td>, <td>elite proxy</td>, <td class=\"hm\">no</td>, <td class=\"hx\">no</td>, <td class=\"hm\">30 minutes ago</td>, <td>103.139.81.170</td>, <td>80</td>, <td>IN</td>, <td class=\"hm\">India</td>, <td>elite proxy</td>, <td class=\"hm\">no</td>, <td class=\"hx\">yes</td>, <td class=\"hm\">30 minutes ago</td>, <td>51.222.220.224</td>, <td>32769</td>, <td>CA</td>, <td class=\"hm\">Canada</td>, <td>elite proxy</td>, <td class=\"hm\">no</td>, <td class=\"hx\">no</td>, <td class=\"hm\">30 minutes ago</td>, <td>103.119.244.10</td>, <td>55207</td>, <td>IN</td>, <td class=\"hm\">India</td>, <td>elite proxy</td>, <td class=\"hm\">no</td>, <td class=\"hx\">yes</td>, <td class=\"hm\">30 minutes ago</td>, <td>177.66.112.221</td>, <td>57945</td>, <td>BR</td>, <td class=\"hm\">Brazil</td>, <td>anonymous</td>, <td class=\"hm\">no</td>, <td class=\"hx\">yes</td>, <td class=\"hm\">31 minutes ago</td>, <td>186.225.63.134</td>, <td>38459</td>, <td>BR</td>, <td class=\"hm\">Brazil</td>, <td>elite proxy</td>, <td class=\"hm\">no</td>, <td class=\"hx\">yes</td>, <td class=\"hm\">31 minutes ago</td>, <td>203.162.21.216</td>, <td>8000</td>, <td>VN</td>, <td class=\"hm\">Vietnam</td>, <td>anonymous</td>, <td class=\"hm\">no</td>, <td class=\"hx\">yes</td>, <td class=\"hm\">31 minutes ago</td>, <td>54.193.134.2</td>, <td>20096</td>, <td>US</td>, <td class=\"hm\">United States</td>, <td>anonymous</td>, <td class=\"hm\">no</td>, <td class=\"hx\">yes</td>, <td class=\"hm\">31 minutes ago</td>, <td>117.58.245.66</td>, <td>40137</td>, <td>BD</td>, <td class=\"hm\">Bangladesh</td>, <td>elite proxy</td>, <td class=\"hm\">no</td>, <td class=\"hx\">yes</td>, <td class=\"hm\">31 minutes ago</td>, <td>220.150.77.91</td>, <td>6000</td>, <td>JP</td>, <td class=\"hm\">Japan</td>, <td>elite proxy</td>, <td class=\"hm\">no</td>, <td class=\"hx\">yes</td>, <td class=\"hm\">31 minutes ago</td>, <td>167.172.123.221</td>, <td>9300</td>, <td>US</td>, <td class=\"hm\">United States</td>, <td>elite proxy</td>, <td class=\"hm\">no</td>, <td class=\"hx\">yes</td>, <td class=\"hm\">31 minutes ago</td>, <td>197.231.198.172</td>, <td>42461</td>, <td>ZA</td>, <td class=\"hm\">South Africa</td>, <td>elite proxy</td>, <td class=\"hm\">no</td>, <td class=\"hx\">yes</td>, <td class=\"hm\">31 minutes ago</td>, <td>82.99.217.18</td>, <td>8080</td>, <td>IR</td>, <td class=\"hm\">Iran</td>, <td>elite proxy</td>, <td class=\"hm\">no</td>, <td class=\"hx\">yes</td>, <td class=\"hm\">31 minutes ago</td>, <td>118.174.196.112</td>, <td>36314</td>, <td>TH</td>, <td class=\"hm\">Thailand</td>, <td>anonymous</td>, <td class=\"hm\">no</td>, <td class=\"hx\">yes</td>, <td class=\"hm\">31 minutes ago</td>, <td>51.222.197.199</td>, <td>32769</td>, <td>CA</td>, <td class=\"hm\">Canada</td>, <td>anonymous</td>, <td class=\"hm\">no</td>, <td class=\"hx\">yes</td>, <td class=\"hm\">31 minutes ago</td>, <td>36.67.57.45</td>, <td>30066</td>, <td>ID</td>, <td class=\"hm\">Indonesia</td>, <td>elite proxy</td>, <td class=\"hm\">no</td>, <td class=\"hx\">yes</td>, <td class=\"hm\">31 minutes ago</td>, <td>217.182.13.58</td>, <td>43567</td>, <td>FR</td>, <td class=\"hm\">France</td>, <td>transparent</td>, <td class=\"hm\">no</td>, <td class=\"hx\">no</td>, <td class=\"hm\">33 minutes ago</td>, <td>181.78.11.195</td>, <td>999</td>, <td>CO</td>, <td class=\"hm\">Colombia</td>, <td>transparent</td>, <td class=\"hm\">no</td>, <td class=\"hx\">no</td>, <td class=\"hm\">37 minutes ago</td>, <td>170.238.255.90</td>, <td>31113</td>, <td>MX</td>, <td class=\"hm\">Mexico</td>, <td>elite proxy</td>, <td class=\"hm\">no</td>, <td class=\"hx\">yes</td>, <td class=\"hm\">40 minutes ago</td>, <td>2021-05-26</td>, <td>885</td>, <td>925</td>, <td>2%</td>, <td>250</td>, <td>122</td>, <td>513</td>, <td>6654</td>, <td>2021-05-25</td>, <td>884</td>, <td>949</td>, <td>4%</td>, <td>280</td>, <td>123</td>, <td>481</td>, <td>6588</td>, <td>2021-05-24</td>, <td>589</td>, <td>709</td>, <td>7%</td>, <td>191</td>, <td>112</td>, <td>286</td>, <td>6530</td>, <td>2021-05-23</td>, <td>1016</td>, <td>1047</td>, <td>5%</td>, <td>321</td>, <td>139</td>, <td>556</td>, <td>6641</td>, <td>2021-05-22</td>, <td>872</td>, <td>931</td>, <td>9%</td>, <td>280</td>, <td>132</td>, <td>460</td>, <td>6627</td>, <td class=\"bg-warning\">848</td>, <td class=\"bg-warning\">912</td>, <td class=\"bg-warning\">5%</td>, <td>264</td>, <td>125</td>, <td>459</td>, <td>6608</td>, <td class=\"bg-warning\">391</td>, <td class=\"bg-warning\">420</td>, <td class=\"bg-warning\">5%</td>, <td>121</td>, <td>57</td>, <td>211</td>, <td>3049</td>, <td class=\"bg-warning\">130</td>, <td class=\"bg-warning\">140</td>, <td class=\"bg-warning\">5%</td>, <td>40</td>, <td>19</td>, <td>70</td>, <td>1016</td>, <td class=\"bg-warning\" title=\"6614 IPs in 3336 Subnets\"><img alt=\"All\" src=\"//api.find-ip.net/flags/all.png\"> All</img></td>, <td class=\"bg-warning\" title=\"6614 IPs in 3336 Subnets\">6614</td>, <td class=\"bg-warning\" title=\"6614 IPs in 3336 Subnets\">Subnet <a href=\"#subnet\" onclick=\"showFaqItem(21)\" title=\"About Subnet\"><i class=\"fa fa-question-circle\"></i></a></td>, <td class=\"bg-warning\" title=\"6614 IPs in 3336 Subnets\">3336</td>, <td class=\"bg-warning\" title=\"Asia=30.84%\">Asia</td>, <td class=\"bg-warning\" title=\"Asia=30.84%\">2040</td>, <td class=\"bg-warning\" title=\"South America=7.03%\">S.A.</td>, <td class=\"bg-warning\" title=\"South America=7.03%\">465</td>, <td class=\"bg-warning\" title=\"Europe=16.99%\"><img alt=\"EU\" src=\"//api.find-ip.net/flags/eu.png\"> EU</img></td>, <td class=\"bg-warning\" title=\"Europe=16.99%\">1124</td>, <td class=\"bg-warning\" title=\"United States=40.73%\"><img alt=\"US\" src=\"//api.find-ip.net/flags/us.png\"> US</img></td>, <td class=\"bg-warning\" title=\"United States=40.73%\">2694</td>, <td title=\"China=9.30%\"><img alt=\"CN\" src=\"//api.find-ip.net/flags/cn.png\"> CN</img></td>, <td title=\"China=9.30%\">615</td>, <td title=\"Indonesia=6.37%\"><img alt=\"ID\" src=\"//api.find-ip.net/flags/id.png\"> ID</img></td>, <td title=\"Indonesia=6.37%\">421</td>, <td title=\"Russian Federation=4.96%\"><img alt=\"RU\" src=\"//api.find-ip.net/flags/ru.png\"> RU</img></td>, <td title=\"Russian Federation=4.96%\">328</td>, <td title=\"India=4.10%\"><img alt=\"IN\" src=\"//api.find-ip.net/flags/in.png\"> IN</img></td>, <td title=\"India=4.10%\">271</td>, <td title=\"Brazil=3.34%\"><img alt=\"BR\" src=\"//api.find-ip.net/flags/br.png\"> BR</img></td>, <td title=\"Brazil=3.34%\">221</td>, <td title=\"Thailand=2.10%\"><img alt=\"TH\" src=\"//api.find-ip.net/flags/th.png\"> TH</img></td>, <td title=\"Thailand=2.10%\">139</td>, <td title=\"Canada=1.98%\"><img alt=\"CA\" src=\"//api.find-ip.net/flags/ca.png\"> CA</img></td>, <td title=\"Canada=1.98%\">131</td>, <td title=\"Colombia=1.63%\"><img alt=\"CO\" src=\"//api.find-ip.net/flags/co.png\"/> CO</td>, <td title=\"Colombia=1.63%\">108</td>, <td title=\"Bangladesh=1.45%\"><img alt=\"BD\" src=\"//api.find-ip.net/flags/bd.png\"/> BD</td>, <td title=\"Bangladesh=1.45%\">96</td>, <td title=\"France=1.36%\"><img alt=\"FR\" src=\"//api.find-ip.net/flags/fr.png\"/> FR</td>, <td title=\"France=1.36%\">90</td>, <td title=\"Germany=1.29%\"><img alt=\"DE\" src=\"//api.find-ip.net/flags/de.png\"/> DE</td>, <td title=\"Germany=1.29%\">85</td>, <td title=\"Ukraine=1.25%\"><img alt=\"UA\" src=\"//api.find-ip.net/flags/ua.png\"/> UA</td>, <td title=\"Ukraine=1.25%\">83</td>, <td title=\"Argentina=1.18%\"><img alt=\"AR\" src=\"//api.find-ip.net/flags/ar.png\"/> AR</td>, <td title=\"Argentina=1.18%\">78</td>, <td title=\"Mexico=1.06%\"><img alt=\"MX\" src=\"//api.find-ip.net/flags/mx.png\"/> MX</td>, <td title=\"Mexico=1.06%\">70</td>, <td title=\"Singapore=0.97%\"><img alt=\"SG\" src=\"//api.find-ip.net/flags/sg.png\"/> SG</td>, <td title=\"Singapore=0.97%\">64</td>, <td title=\"Ecuador=0.91%\"><img alt=\"EC\" src=\"//api.find-ip.net/flags/ec.png\"/> EC</td>, <td title=\"Ecuador=0.91%\">60</td>, <td title=\"Spain=0.74%\"><img alt=\"ES\" src=\"//api.find-ip.net/flags/es.png\"/> ES</td>, <td title=\"Spain=0.74%\">49</td>, <td title=\"United Kingdom=0.74%\"><img alt=\"GB\" src=\"//api.find-ip.net/flags/gb.png\"/> GB</td>, <td title=\"United Kingdom=0.74%\">49</td>, <td title=\"Iran, Islamic Republic of=0.74%\"><img alt=\"IR\" src=\"//api.find-ip.net/flags/ir.png\"/> IR</td>, <td title=\"Iran, Islamic Republic of=0.74%\">49</td>, <td title=\"Poland=0.68%\"><img alt=\"PL\" src=\"//api.find-ip.net/flags/pl.png\"/> PL</td>, <td title=\"Poland=0.68%\">45</td>, <td title=\"Pakistan=0.54%\"><img alt=\"PK\" src=\"//api.find-ip.net/flags/pk.png\"/> PK</td>, <td title=\"Pakistan=0.54%\">36</td>, <td title=\"Turkey=0.51%\"><img alt=\"TR\" src=\"//api.find-ip.net/flags/tr.png\"/> TR</td>, <td title=\"Turkey=0.51%\">34</td>, <td title=\"Cambodia=0.51%\"><img alt=\"KH\" src=\"//api.find-ip.net/flags/kh.png\"/> KH</td>, <td title=\"Cambodia=0.51%\">34</td>, <td title=\"Vietnam=0.47%\"><img alt=\"VN\" src=\"//api.find-ip.net/flags/vn.png\"/> VN</td>, <td title=\"Vietnam=0.47%\">31</td>, <td title=\"Serbia=0.42%\"><img alt=\"RS\" src=\"//api.find-ip.net/flags/rs.png\"/> RS</td>, <td title=\"Serbia=0.42%\">28</td>, <td title=\"Hong Kong=0.41%\"><img alt=\"HK\" src=\"//api.find-ip.net/flags/hk.png\"/> HK</td>, <td title=\"Hong Kong=0.41%\">27</td>, <td title=\"Korea, Republic of=0.39%\"><img alt=\"KR\" src=\"//api.find-ip.net/flags/kr.png\"/> KR</td>, <td title=\"Korea, Republic of=0.39%\">26</td>, <td title=\"Chile=0.36%\"><img alt=\"CL\" src=\"//api.find-ip.net/flags/cl.png\"/> CL</td>, <td title=\"Chile=0.36%\">24</td>, <td title=\"South Africa=0.36%\"><img alt=\"ZA\" src=\"//api.find-ip.net/flags/za.png\"/> ZA</td>, <td title=\"South Africa=0.36%\">24</td>, <td title=\"Japan=0.35%\"><img alt=\"JP\" src=\"//api.find-ip.net/flags/jp.png\"/> JP</td>, <td title=\"Japan=0.35%\">23</td>, <td title=\"Nepal=0.33%\"><img alt=\"NP\" src=\"//api.find-ip.net/flags/np.png\"/> NP</td>, <td title=\"Nepal=0.33%\">22</td>, <td title=\"Peru=0.33%\"><img alt=\"PE\" src=\"//api.find-ip.net/flags/pe.png\"/> PE</td>, <td title=\"Peru=0.33%\">22</td>, <td title=\"Bulgaria=0.32%\"><img alt=\"BG\" src=\"//api.find-ip.net/flags/bg.png\"/> BG</td>, <td title=\"Bulgaria=0.32%\">21</td>, <td title=\"Nigeria=0.30%\"><img alt=\"NG\" src=\"//api.find-ip.net/flags/ng.png\"/> NG</td>, <td title=\"Nigeria=0.30%\">20</td>, <td title=\"Venezuela=0.29%\"><img alt=\"VE\" src=\"//api.find-ip.net/flags/ve.png\"/> VE</td>, <td title=\"Venezuela=0.29%\">19</td>, <td title=\"Philippines=0.27%\"><img alt=\"PH\" src=\"//api.find-ip.net/flags/ph.png\"/> PH</td>, <td title=\"Philippines=0.27%\">18</td>, <td title=\"Netherlands=0.27%\"><img alt=\"NL\" src=\"//api.find-ip.net/flags/nl.png\"/> NL</td>, <td title=\"Netherlands=0.27%\">18</td>, <td title=\"Uzbekistan=0.26%\"><img alt=\"UZ\" src=\"//api.find-ip.net/flags/uz.png\"/> UZ</td>, <td title=\"Uzbekistan=0.26%\">17</td>, <td title=\"Italy=0.24%\"><img alt=\"IT\" src=\"//api.find-ip.net/flags/it.png\"/> IT</td>, <td title=\"Italy=0.24%\">16</td>, <td title=\"Hungary=0.21%\"><img alt=\"HU\" src=\"//api.find-ip.net/flags/hu.png\"/> HU</td>, <td title=\"Hungary=0.21%\">14</td>, <td title=\"Honduras=0.21%\"><img alt=\"HN\" src=\"//api.find-ip.net/flags/hn.png\"/> HN</td>, <td title=\"Honduras=0.21%\">14</td>, <td title=\"Others=5.75%\">Others</td>, <td title=\"Others=5.75%\">380</td>]\n"
     ]
    }
   ],
   "source": [
    "import requests\n",
    "from bs4 import BeautifulSoup\n",
    "\n",
    "urls = \"https://free-proxy-list.net/\"\n",
    "res = requests.get(urls)\n",
    "soup = BeautifulSoup(res.text,\"html.parser\")\n",
    "\n",
    "\n",
    "tbody = soup.find_all(\"td\")\n",
    "\n",
    "print(tbody)"
   ]
  },
  {
   "cell_type": "code",
   "execution_count": null,
   "id": "worse-algorithm",
   "metadata": {},
   "outputs": [],
   "source": []
  }
 ],
 "metadata": {
  "kernelspec": {
   "display_name": "Python 3",
   "language": "python",
   "name": "python3"
  },
  "language_info": {
   "codemirror_mode": {
    "name": "ipython",
    "version": 3
   },
   "file_extension": ".py",
   "mimetype": "text/x-python",
   "name": "python",
   "nbconvert_exporter": "python",
   "pygments_lexer": "ipython3",
   "version": "3.8.8"
  }
 },
 "nbformat": 4,
 "nbformat_minor": 5
}
