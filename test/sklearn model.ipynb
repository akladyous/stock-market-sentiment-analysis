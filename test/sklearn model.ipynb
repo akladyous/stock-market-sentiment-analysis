{
 "cells": [
  {
   "cell_type": "code",
   "execution_count": 1,
   "id": "11076204-3800-40a6-ba03-dd751df7d782",
   "metadata": {},
   "outputs": [],
   "source": [
    "%run __init__.py"
   ]
  },
  {
   "cell_type": "code",
   "execution_count": 2,
   "id": "98d5d89f-f039-4f9f-9246-6d6093284a84",
   "metadata": {},
   "outputs": [],
   "source": [
    "import pandas as pd\n",
    "import numpy as np\n",
    "from joblib import dump, load\n",
    "from sklearn.model_selection import train_test_split\n",
    "from sklearn.pipeline import Pipeline\n",
    "from sklearn.feature_extraction.text import TfidfVectorizer, TfidfTransformer\n",
    "from sklearn.feature_extraction.text import CountVectorizer\n",
    "from sklearn.preprocessing import LabelEncoder, OneHotEncoder, LabelBinarizer, MultiLabelBinarizer\n",
    "\n",
    "from sklearn.multiclass import OneVsRestClassifier\n",
    "\n",
    "from sklearn.linear_model import LogisticRegression\n",
    "from sklearn.naive_bayes import MultinomialNB\n",
    "from sklearn.linear_model import SGDClassifier"
   ]
  },
  {
   "cell_type": "code",
   "execution_count": 3,
   "id": "f16cf020-c8b6-4296-b79d-8e66f1568472",
   "metadata": {},
   "outputs": [],
   "source": [
    "apple_news_df = pd.read_csv('./data/apple_news_cleaned.csv.gz')"
   ]
  },
  {
   "cell_type": "code",
   "execution_count": 4,
   "id": "8ece61d1-01c4-43aa-8fd6-39e876c373a7",
   "metadata": {},
   "outputs": [],
   "source": [
    "ohe = OneHotEncoder(sparse=False)\n",
    "y_ohe = ohe.fit_transform(apple_news_df['sentiment'].values.reshape(-1,1))"
   ]
  },
  {
   "cell_type": "code",
   "execution_count": 5,
   "id": "85cc5fb1-20c0-49c9-aad1-80dc22504b5d",
   "metadata": {},
   "outputs": [],
   "source": [
    "# MultiLabelBinarizer(apple_news_df['sentiment'])\n",
    "# mlb = MultiLabelBinarizer()\n",
    "# y_bin = mlb.fit_transform(apple_news_df['sentiment'])"
   ]
  },
  {
   "cell_type": "code",
   "execution_count": 6,
   "id": "cf762a09-6e8b-4586-8099-9de0aa73bc88",
   "metadata": {},
   "outputs": [],
   "source": [
    "def class_weights_ohe(Y_ohe):\n",
    "    #  n_samples / (n_classes * np.bincount(y))\n",
    "    # https://scikit-learn.org/stable/modules/generated/sklearn.utils.class_weight.compute_class_weight.html\n",
    "    bincount = np.array([np.bincount(Y_ohe[:,x].astype(np.int32))[1] for x in range(0, Y_ohe.shape[1])])\n",
    "    weights = np.array(Y_ohe.shape[0] / (Y_ohe.shape[1] * bincount))\n",
    "    class_weights={k:v for k,v in enumerate(weights)}\n",
    "    return weights"
   ]
  },
  {
   "cell_type": "code",
   "execution_count": 7,
   "id": "6266aab3-0d18-4951-9851-28ce4f71ed24",
   "metadata": {},
   "outputs": [
    {
     "data": {
      "text/plain": [
       "{1: 1.482866043613707, 2: 1.0493827160493827, 3: 0.7284970921334558}"
      ]
     },
     "execution_count": 7,
     "metadata": {},
     "output_type": "execute_result"
    }
   ],
   "source": [
    "weights = {k+1:v for k,v in enumerate(class_weights_ohe(y_ohe))}\n",
    "weights"
   ]
  },
  {
   "cell_type": "code",
   "execution_count": 8,
   "id": "f815b219-28ed-4adf-a1e7-3c96290344b6",
   "metadata": {},
   "outputs": [],
   "source": [
    "tfidfVectorizer = TfidfVectorizer(max_features=10_000,\n",
    "                                  norm='l2', \n",
    "                                  strip_accents='ascii',\n",
    "                                  analyzer='word',\n",
    "                                  ngram_range=(1,1))"
   ]
  },
  {
   "cell_type": "code",
   "execution_count": 9,
   "id": "384f50a1-594b-4e51-91f2-6e001fe90096",
   "metadata": {},
   "outputs": [],
   "source": [
    "X_train, X_test, y_train, y_test = train_test_split(apple_news_df['text'],\n",
    "                                                    y_ohe,\n",
    "                                                    test_size=.15,\n",
    "                                                    random_state=1,\n",
    "                                                    stratify=y_ohe\n",
    "                                                   )"
   ]
  },
  {
   "cell_type": "code",
   "execution_count": 10,
   "id": "a8bfb658-57f9-4f12-b069-e23d2f8d9a3c",
   "metadata": {},
   "outputs": [],
   "source": [
    "X_train = tfidfVectorizer.fit_transform(X_train).toarray()"
   ]
  },
  {
   "cell_type": "code",
   "execution_count": 11,
   "id": "b51ce27e-0eb7-4202-8fa4-8632d13b6138",
   "metadata": {},
   "outputs": [],
   "source": [
    "X_test = tfidfVectorizer.fit_transform(X_test).todense()"
   ]
  },
  {
   "cell_type": "code",
   "execution_count": 12,
   "id": "1268e7e7-251d-46a2-b6c2-7763fff26b40",
   "metadata": {},
   "outputs": [
    {
     "data": {
      "text/plain": [
       "((8092, 10000), (8092, 3))"
      ]
     },
     "execution_count": 12,
     "metadata": {},
     "output_type": "execute_result"
    }
   ],
   "source": [
    "X_train.shape, y_train.shape"
   ]
  },
  {
   "cell_type": "code",
   "execution_count": 57,
   "id": "ecfa10a7-7de2-4a05-8be6-6f4f0811b5cb",
   "metadata": {},
   "outputs": [],
   "source": [
    "# from sklearn.utils import class_weight\n",
    "# from sklearn.preprocessing import LabelEncoder\n",
    "# le = LabelEncoder().fit_transform(apple_news_df['sentiment'])\n",
    "# class_weight.compute_class_weight('balanced',np.unique( apple_news_df['sentiment'] ),y_train)"
   ]
  },
  {
   "cell_type": "code",
   "execution_count": 13,
   "id": "992e9b6d-19ee-4466-8ccc-cb8e951b0aad",
   "metadata": {},
   "outputs": [],
   "source": [
    "# sgd = SGDClassifier()loss=\"modified_huber\"\n",
    "# nb = MultinomialNB()\n",
    "LogisticRegression()multi_class=”multinomial”"
   ]
  },
  {
   "cell_type": "code",
   "execution_count": 24,
   "id": "26c5ea60-90c8-40f5-ae03-3de0918ec09b",
   "metadata": {},
   "outputs": [],
   "source": [
    "lr = LogisticRegression(multi_class='multinomial')"
   ]
  },
  {
   "cell_type": "code",
   "execution_count": null,
   "id": "19bfe551-a776-494a-9874-319d4240453e",
   "metadata": {},
   "outputs": [],
   "source": [
    "lr.fit(X_train, y_train)"
   ]
  },
  {
   "cell_type": "code",
   "execution_count": 21,
   "id": "3b5e8902-ef7b-4f05-bf78-6243ac32a14b",
   "metadata": {},
   "outputs": [],
   "source": [
    "clf = OneVsRestClassifier(LogisticRegression(multi_class='multinomial')).fit(X_train, y_train)"
   ]
  },
  {
   "cell_type": "code",
   "execution_count": 18,
   "id": "f88243fe-d7ec-4c2e-b117-31a5f852f566",
   "metadata": {},
   "outputs": [],
   "source": [
    "from sklearn.metrics import accuracy_score"
   ]
  },
  {
   "cell_type": "code",
   "execution_count": null,
   "id": "55119be9-a823-409c-b46b-fb5cea4043f8",
   "metadata": {},
   "outputs": [],
   "source": [
    "y_pred = clf.predict(y_test)"
   ]
  },
  {
   "cell_type": "code",
   "execution_count": 17,
   "id": "10a4857b-5a52-40d4-9133-47985c1ebbab",
   "metadata": {},
   "outputs": [
    {
     "data": {
      "text/plain": [
       "(1428, 3)"
      ]
     },
     "execution_count": 17,
     "metadata": {},
     "output_type": "execute_result"
    }
   ],
   "source": [
    "y_test.shape"
   ]
  },
  {
   "cell_type": "code",
   "execution_count": 32,
   "id": "e9d3707b-996f-4928-9ffa-e0bb41692a7d",
   "metadata": {},
   "outputs": [],
   "source": [
    "clf = OneVsRestClassifier(LogisticRegression())"
   ]
  },
  {
   "cell_type": "code",
   "execution_count": 33,
   "id": "6b494ee4-6195-456e-9043-1b471b24de5a",
   "metadata": {},
   "outputs": [
    {
     "data": {
      "text/plain": [
       "OneVsRestClassifier(estimator=LogisticRegression())"
      ]
     },
     "execution_count": 33,
     "metadata": {},
     "output_type": "execute_result"
    }
   ],
   "source": [
    "clf.fit(X_train, y_train)"
   ]
  },
  {
   "cell_type": "code",
   "execution_count": 34,
   "id": "ff971ba8-c768-47a0-8ef6-ca092e84c093",
   "metadata": {},
   "outputs": [
    {
     "name": "stdout",
     "output_type": "stream",
     "text": [
      "Accuracy: 0.01330532212885154\n"
     ]
    }
   ],
   "source": [
    "print(\"Accuracy: {}\".format(clf.score(X_test, y_test)))"
   ]
  },
  {
   "cell_type": "code",
   "execution_count": null,
   "id": "6c5fbb4a-880c-4c61-a03f-a79d0082a3ce",
   "metadata": {},
   "outputs": [],
   "source": []
  },
  {
   "cell_type": "code",
   "execution_count": null,
   "id": "368f31c4-59f1-4315-ab45-c1a90de614b5",
   "metadata": {},
   "outputs": [],
   "source": []
  },
  {
   "cell_type": "code",
   "execution_count": null,
   "id": "011beb9f-bec9-46f5-aff9-32109aa74320",
   "metadata": {},
   "outputs": [],
   "source": []
  },
  {
   "cell_type": "code",
   "execution_count": null,
   "id": "53321f2a-62bc-40f3-931f-4e7aa77b8d0b",
   "metadata": {},
   "outputs": [],
   "source": []
  },
  {
   "cell_type": "code",
   "execution_count": null,
   "id": "a649852f-c95c-4154-b119-c1606953c916",
   "metadata": {},
   "outputs": [],
   "source": []
  },
  {
   "cell_type": "code",
   "execution_count": null,
   "id": "862958b8-5379-4134-b5e1-1d33161a74f5",
   "metadata": {},
   "outputs": [],
   "source": []
  },
  {
   "cell_type": "code",
   "execution_count": null,
   "id": "e6ccbe7c-286f-4a40-b94f-2d5eb91d2443",
   "metadata": {},
   "outputs": [],
   "source": [
    "pipeline = Pipeline(\n",
    "    [\n",
    "        (\"vectorizer\", CountVectorizer()),\n",
    "        (\"tfidf_trans\", TfidfTransformer())\n",
    "    ]\n",
    "                    )"
   ]
  },
  {
   "cell_type": "code",
   "execution_count": null,
   "id": "54e66b4e-b5d1-4bf0-b5fb-1f0516bc5e93",
   "metadata": {},
   "outputs": [],
   "source": []
  },
  {
   "cell_type": "code",
   "execution_count": null,
   "id": "ce484c96-5da1-41b2-9127-69574a9b5300",
   "metadata": {},
   "outputs": [],
   "source": []
  },
  {
   "cell_type": "code",
   "execution_count": null,
   "id": "9838b9d9-feec-4497-b29b-0d12dc4ba7b0",
   "metadata": {},
   "outputs": [],
   "source": [
    "np."
   ]
  },
  {
   "cell_type": "code",
   "execution_count": null,
   "id": "935405e4-51de-4278-819c-34f11b68324f",
   "metadata": {},
   "outputs": [],
   "source": []
  },
  {
   "cell_type": "code",
   "execution_count": 13,
   "id": "cfde3504-2e50-49b7-9c31-2c2e6d8f66ce",
   "metadata": {},
   "outputs": [],
   "source": []
  },
  {
   "cell_type": "code",
   "execution_count": null,
   "id": "d28f7497-8fdf-484c-8aef-98234bae3712",
   "metadata": {},
   "outputs": [],
   "source": []
  }
 ],
 "metadata": {
  "kernelspec": {
   "display_name": "Python 3",
   "language": "python",
   "name": "python3"
  },
  "language_info": {
   "codemirror_mode": {
    "name": "ipython",
    "version": 3
   },
   "file_extension": ".py",
   "mimetype": "text/x-python",
   "name": "python",
   "nbconvert_exporter": "python",
   "pygments_lexer": "ipython3",
   "version": "3.8.10"
  }
 },
 "nbformat": 4,
 "nbformat_minor": 5
}
