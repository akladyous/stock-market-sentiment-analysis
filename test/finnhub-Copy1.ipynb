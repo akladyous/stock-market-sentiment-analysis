{
 "cells": [
  {
   "cell_type": "code",
   "execution_count": 1,
   "id": "attractive-farming",
   "metadata": {
    "execution": {
     "iopub.execute_input": "2021-05-30T19:54:43.019668Z",
     "iopub.status.busy": "2021-05-30T19:54:43.019238Z",
     "iopub.status.idle": "2021-05-30T19:54:44.447750Z",
     "shell.execute_reply": "2021-05-30T19:54:44.446927Z",
     "shell.execute_reply.started": "2021-05-30T19:54:43.019574Z"
    },
    "tags": []
   },
   "outputs": [
    {
     "name": "stdin",
     "output_type": "stream",
     "text": [
      "server location local\n"
     ]
    },
    {
     "name": "stdout",
     "output_type": "stream",
     "text": [
      "running from: Local\n"
     ]
    }
   ],
   "source": [
    "run __init__.py"
   ]
  },
  {
   "cell_type": "code",
   "execution_count": 2,
   "id": "living-stick",
   "metadata": {
    "execution": {
     "iopub.execute_input": "2021-05-30T19:54:46.512493Z",
     "iopub.status.busy": "2021-05-30T19:54:46.511881Z",
     "iopub.status.idle": "2021-05-30T19:54:47.981153Z",
     "shell.execute_reply": "2021-05-30T19:54:47.980536Z",
     "shell.execute_reply.started": "2021-05-30T19:54:46.512427Z"
    },
    "tags": []
   },
   "outputs": [
    {
     "ename": "AttributeError",
     "evalue": "'list' object has no attribute 'keys'",
     "output_type": "error",
     "traceback": [
      "\u001b[0;31m---------------------------------------------------------------------------\u001b[0m",
      "\u001b[0;31mAttributeError\u001b[0m                            Traceback (most recent call last)",
      "\u001b[0;32m<ipython-input-2-3fc668227151>\u001b[0m in \u001b[0;36m<module>\u001b[0;34m\u001b[0m\n\u001b[1;32m      9\u001b[0m \u001b[0;32mfrom\u001b[0m \u001b[0mdatetime_util\u001b[0m \u001b[0;32mimport\u001b[0m \u001b[0mtimestamp2datetime\u001b[0m\u001b[0;34m\u001b[0m\u001b[0;34m\u001b[0m\u001b[0m\n\u001b[1;32m     10\u001b[0m \u001b[0;32mfrom\u001b[0m \u001b[0mfinnhub_api\u001b[0m \u001b[0;32mimport\u001b[0m \u001b[0mFinnHub_init\u001b[0m\u001b[0;34m,\u001b[0m \u001b[0mFinnhub\u001b[0m\u001b[0;34m\u001b[0m\u001b[0;34m\u001b[0m\u001b[0m\n\u001b[0;32m---> 11\u001b[0;31m \u001b[0;32mfrom\u001b[0m \u001b[0mproject\u001b[0m \u001b[0;32mimport\u001b[0m \u001b[0mpolarity_score\u001b[0m\u001b[0;34m,\u001b[0m \u001b[0mtext_tonkenize\u001b[0m\u001b[0;34m\u001b[0m\u001b[0;34m\u001b[0m\u001b[0m\n\u001b[0m\u001b[1;32m     12\u001b[0m \u001b[0;32mfrom\u001b[0m \u001b[0mscrapy\u001b[0m \u001b[0;32mimport\u001b[0m \u001b[0mScrapy\u001b[0m\u001b[0;34m\u001b[0m\u001b[0;34m\u001b[0m\u001b[0m\n",
      "\u001b[0;32m~/Documents/GitHub/Public/capstone/lib/project.py\u001b[0m in \u001b[0;36m<module>\u001b[0;34m\u001b[0m\n\u001b[1;32m     75\u001b[0m \u001b[0;34m\u001b[0m\u001b[0m\n\u001b[1;32m     76\u001b[0m \u001b[0mp\u001b[0m\u001b[0;34m=\u001b[0m\u001b[0mProject\u001b[0m\u001b[0;34m(\u001b[0m\u001b[0;34m\"2021-05-29\"\u001b[0m\u001b[0;34m,\u001b[0m \u001b[0;34m\"2021-05-29\"\u001b[0m\u001b[0;34m,\u001b[0m \u001b[0;34m\"AAPL\"\u001b[0m\u001b[0;34m)\u001b[0m\u001b[0;34m\u001b[0m\u001b[0;34m\u001b[0m\u001b[0m\n\u001b[0;32m---> 77\u001b[0;31m \u001b[0mnews\u001b[0m \u001b[0;34m=\u001b[0m \u001b[0mp\u001b[0m\u001b[0;34m.\u001b[0m\u001b[0mdata_collection\u001b[0m\u001b[0;34m(\u001b[0m\u001b[0;34m)\u001b[0m\u001b[0;34m\u001b[0m\u001b[0;34m\u001b[0m\u001b[0m\n\u001b[0m\u001b[1;32m     78\u001b[0m \u001b[0;34m\u001b[0m\u001b[0m\n",
      "\u001b[0;32m~/Documents/GitHub/Public/capstone/lib/project.py\u001b[0m in \u001b[0;36mdata_collection\u001b[0;34m(self)\u001b[0m\n\u001b[1;32m     32\u001b[0m \u001b[0;34m\u001b[0m\u001b[0m\n\u001b[1;32m     33\u001b[0m         \u001b[0mfinnhub_inst\u001b[0m \u001b[0;34m=\u001b[0m \u001b[0mFinnhub\u001b[0m\u001b[0;34m(\u001b[0m\u001b[0mself\u001b[0m\u001b[0;34m.\u001b[0m\u001b[0mtoken\u001b[0m\u001b[0;34m[\u001b[0m\u001b[0;34m\"finnhub_key\"\u001b[0m\u001b[0;34m]\u001b[0m\u001b[0;34m,\u001b[0m \u001b[0mself\u001b[0m\u001b[0;34m.\u001b[0m\u001b[0mstart_date\u001b[0m\u001b[0;34m,\u001b[0m \u001b[0mself\u001b[0m\u001b[0;34m.\u001b[0m\u001b[0mend_date\u001b[0m\u001b[0;34m,\u001b[0m \u001b[0mself\u001b[0m\u001b[0;34m.\u001b[0m\u001b[0msymbol\u001b[0m\u001b[0;34m)\u001b[0m\u001b[0;34m\u001b[0m\u001b[0;34m\u001b[0m\u001b[0m\n\u001b[0;32m---> 34\u001b[0;31m         \u001b[0mself\u001b[0m\u001b[0;34m.\u001b[0m\u001b[0mfinnhub_news\u001b[0m \u001b[0;34m=\u001b[0m \u001b[0mfinnhub_inst\u001b[0m\u001b[0;34m.\u001b[0m\u001b[0mcompany_news\u001b[0m\u001b[0;34m(\u001b[0m\u001b[0;34m)\u001b[0m\u001b[0;34m\u001b[0m\u001b[0;34m\u001b[0m\u001b[0m\n\u001b[0m\u001b[1;32m     35\u001b[0m \u001b[0;34m\u001b[0m\u001b[0m\n\u001b[1;32m     36\u001b[0m         \u001b[0mstocknews_inst\u001b[0m \u001b[0;34m=\u001b[0m \u001b[0mStockNewsAPI\u001b[0m\u001b[0;34m(\u001b[0m\u001b[0mself\u001b[0m\u001b[0;34m.\u001b[0m\u001b[0mtoken\u001b[0m\u001b[0;34m[\u001b[0m\u001b[0;34m\"stocknews_key\"\u001b[0m\u001b[0;34m]\u001b[0m\u001b[0;34m,\u001b[0m \u001b[0mself\u001b[0m\u001b[0;34m.\u001b[0m\u001b[0mstart_date\u001b[0m\u001b[0;34m,\u001b[0m \u001b[0mself\u001b[0m\u001b[0;34m.\u001b[0m\u001b[0mend_date\u001b[0m\u001b[0;34m)\u001b[0m\u001b[0;34m\u001b[0m\u001b[0;34m\u001b[0m\u001b[0m\n",
      "\u001b[0;32m~/Documents/GitHub/Public/capstone/lib/finnhub_api.py\u001b[0m in \u001b[0;36mcompany_news\u001b[0;34m(self)\u001b[0m\n\u001b[1;32m     52\u001b[0m         \u001b[0;32mif\u001b[0m \u001b[0mScrapy\u001b[0m\u001b[0;34m.\u001b[0m\u001b[0mcheck_result\u001b[0m\u001b[0;34m(\u001b[0m\u001b[0mhtml_page\u001b[0m\u001b[0;34m)\u001b[0m\u001b[0;34m:\u001b[0m\u001b[0;34m\u001b[0m\u001b[0;34m\u001b[0m\u001b[0m\n\u001b[1;32m     53\u001b[0m             \u001b[0mall_articles\u001b[0m \u001b[0;34m=\u001b[0m \u001b[0mjson\u001b[0m\u001b[0;34m.\u001b[0m\u001b[0mloads\u001b[0m\u001b[0;34m(\u001b[0m\u001b[0mhtml_page\u001b[0m\u001b[0;34m.\u001b[0m\u001b[0mtext\u001b[0m\u001b[0;34m)\u001b[0m\u001b[0;34m\u001b[0m\u001b[0;34m\u001b[0m\u001b[0m\n\u001b[0;32m---> 54\u001b[0;31m             \u001b[0mprint\u001b[0m\u001b[0;34m(\u001b[0m\u001b[0mall_articles\u001b[0m\u001b[0;34m.\u001b[0m\u001b[0mkeys\u001b[0m\u001b[0;34m(\u001b[0m\u001b[0;34m)\u001b[0m\u001b[0;34m)\u001b[0m\u001b[0;34m\u001b[0m\u001b[0;34m\u001b[0m\u001b[0m\n\u001b[0m\u001b[1;32m     55\u001b[0m             \u001b[0mself\u001b[0m\u001b[0;34m.\u001b[0m\u001b[0mnews_list\u001b[0m \u001b[0;34m=\u001b[0m \u001b[0mall_articles\u001b[0m\u001b[0;34m\u001b[0m\u001b[0;34m\u001b[0m\u001b[0m\n\u001b[1;32m     56\u001b[0m         \u001b[0;32mreturn\u001b[0m \u001b[0mself\u001b[0m\u001b[0;34m.\u001b[0m\u001b[0mnews_list\u001b[0m\u001b[0;34m\u001b[0m\u001b[0;34m\u001b[0m\u001b[0m\n",
      "\u001b[0;31mAttributeError\u001b[0m: 'list' object has no attribute 'keys'"
     ]
    }
   ],
   "source": [
    "import numpy as np\n",
    "import pandas as pd\n",
    "import matplotlib.pyplot as plt\n",
    "import pickle\n",
    "import json\n",
    "import os\n",
    "from decouple import config\n",
    "from langdetect import detect\n",
    "from datetime_util import timestamp2datetime\n",
    "from finnhub_api import FinnHub_init, Finnhub\n",
    "from project import polarity_score, text_tonkenize\n",
    "from scrapy import Scrapy"
   ]
  },
  {
   "cell_type": "code",
   "execution_count": 23,
   "id": "unauthorized-colleague",
   "metadata": {
    "execution": {
     "iopub.execute_input": "2021-05-30T03:32:57.274646Z",
     "iopub.status.busy": "2021-05-30T03:32:57.273991Z",
     "iopub.status.idle": "2021-05-30T03:32:57.282866Z",
     "shell.execute_reply": "2021-05-30T03:32:57.281757Z",
     "shell.execute_reply.started": "2021-05-30T03:32:57.274576Z"
    },
    "tags": []
   },
   "outputs": [],
   "source": [
    "with open ('./finnhub/finnhub_key.pkl', 'rb') as fin:\n",
    "    finnhub_key= pickle.load(fin)\n",
    "    fin.close()"
   ]
  },
  {
   "cell_type": "code",
   "execution_count": 36,
   "id": "severe-offset",
   "metadata": {
    "execution": {
     "iopub.execute_input": "2021-05-30T03:38:08.240206Z",
     "iopub.status.busy": "2021-05-30T03:38:08.239858Z",
     "iopub.status.idle": "2021-05-30T03:38:08.246758Z",
     "shell.execute_reply": "2021-05-30T03:38:08.245509Z",
     "shell.execute_reply.started": "2021-05-30T03:38:08.240172Z"
    },
    "tags": []
   },
   "outputs": [],
   "source": [
    "apple = Finnhub(finnhub_key, \"2021-05-07\", \"2021-05-07\", \"AAPL\")"
   ]
  },
  {
   "cell_type": "code",
   "execution_count": 37,
   "id": "familiar-clarity",
   "metadata": {
    "execution": {
     "iopub.execute_input": "2021-05-30T03:38:08.705374Z",
     "iopub.status.busy": "2021-05-30T03:38:08.704748Z",
     "iopub.status.idle": "2021-05-30T03:38:09.033350Z",
     "shell.execute_reply": "2021-05-30T03:38:09.032306Z",
     "shell.execute_reply.started": "2021-05-30T03:38:08.705305Z"
    },
    "tags": []
   },
   "outputs": [],
   "source": [
    "apple_news = apple.company_news()"
   ]
  },
  {
   "cell_type": "code",
   "execution_count": 85,
   "id": "exotic-carpet",
   "metadata": {
    "execution": {
     "iopub.execute_input": "2021-05-30T04:11:56.393314Z",
     "iopub.status.busy": "2021-05-30T04:11:56.392719Z",
     "iopub.status.idle": "2021-05-30T04:11:56.402087Z",
     "shell.execute_reply": "2021-05-30T04:11:56.401125Z",
     "shell.execute_reply.started": "2021-05-30T04:11:56.393248Z"
    },
    "tags": []
   },
   "outputs": [],
   "source": [
    "apple_finnhub_df = pd.DataFrame(apple_news)"
   ]
  },
  {
   "cell_type": "code",
   "execution_count": 68,
   "id": "undefined-wayne",
   "metadata": {
    "execution": {
     "iopub.execute_input": "2021-05-30T04:02:34.777073Z",
     "iopub.status.busy": "2021-05-30T04:02:34.776446Z",
     "iopub.status.idle": "2021-05-30T04:02:34.796680Z",
     "shell.execute_reply": "2021-05-30T04:02:34.795928Z",
     "shell.execute_reply.started": "2021-05-30T04:02:34.777006Z"
    },
    "tags": []
   },
   "outputs": [
    {
     "data": {
      "text/html": [
       "<div>\n",
       "<style scoped>\n",
       "    .dataframe tbody tr th:only-of-type {\n",
       "        vertical-align: middle;\n",
       "    }\n",
       "\n",
       "    .dataframe tbody tr th {\n",
       "        vertical-align: top;\n",
       "    }\n",
       "\n",
       "    .dataframe thead th {\n",
       "        text-align: right;\n",
       "    }\n",
       "</style>\n",
       "<table border=\"1\" class=\"dataframe\">\n",
       "  <thead>\n",
       "    <tr style=\"text-align: right;\">\n",
       "      <th></th>\n",
       "      <th>category</th>\n",
       "      <th>datetime</th>\n",
       "      <th>headline</th>\n",
       "      <th>id</th>\n",
       "      <th>image</th>\n",
       "      <th>related</th>\n",
       "      <th>source</th>\n",
       "      <th>summary</th>\n",
       "      <th>url</th>\n",
       "    </tr>\n",
       "  </thead>\n",
       "  <tbody>\n",
       "    <tr>\n",
       "      <th>0</th>\n",
       "      <td>company</td>\n",
       "      <td>1620430108</td>\n",
       "      <td>Epic v. Apple Will Have Ramifications for Big ...</td>\n",
       "      <td>67685543</td>\n",
       "      <td>https://s.yimg.com/hd/cp-video-transcode/prod/...</td>\n",
       "      <td>AAPL</td>\n",
       "      <td>Yahoo</td>\n",
       "      <td>May.07 -- Brookings Institution Visiting Fello...</td>\n",
       "      <td>https://finnhub.io/api/news?id=a05b585f9aa8113...</td>\n",
       "    </tr>\n",
       "    <tr>\n",
       "      <th>1</th>\n",
       "      <td>company</td>\n",
       "      <td>1620430088</td>\n",
       "      <td>The Epic Battle Over Apple's App Store</td>\n",
       "      <td>67685545</td>\n",
       "      <td>https://s.yimg.com/hd/cp-video-transcode/prod/...</td>\n",
       "      <td>AAPL</td>\n",
       "      <td>Yahoo</td>\n",
       "      <td>May.07 -- Epic Games claims that Apple is abus...</td>\n",
       "      <td>https://finnhub.io/api/news?id=8c81f40d85036c5...</td>\n",
       "    </tr>\n",
       "    <tr>\n",
       "      <th>2</th>\n",
       "      <td>company</td>\n",
       "      <td>1620426540</td>\n",
       "      <td>Apple v. Epic: Time is running out for Epic to...</td>\n",
       "      <td>67685548</td>\n",
       "      <td></td>\n",
       "      <td>AAPL</td>\n",
       "      <td>Yahoo</td>\n",
       "      <td>As Epic Games Inc. methodically made its case ...</td>\n",
       "      <td>https://finnhub.io/api/news?id=994d1806d0596ef...</td>\n",
       "    </tr>\n",
       "  </tbody>\n",
       "</table>\n",
       "</div>"
      ],
      "text/plain": [
       "  category    datetime                                           headline  \\\n",
       "0  company  1620430108  Epic v. Apple Will Have Ramifications for Big ...   \n",
       "1  company  1620430088             The Epic Battle Over Apple's App Store   \n",
       "2  company  1620426540  Apple v. Epic: Time is running out for Epic to...   \n",
       "\n",
       "         id                                              image related source  \\\n",
       "0  67685543  https://s.yimg.com/hd/cp-video-transcode/prod/...    AAPL  Yahoo   \n",
       "1  67685545  https://s.yimg.com/hd/cp-video-transcode/prod/...    AAPL  Yahoo   \n",
       "2  67685548                                                       AAPL  Yahoo   \n",
       "\n",
       "                                             summary  \\\n",
       "0  May.07 -- Brookings Institution Visiting Fello...   \n",
       "1  May.07 -- Epic Games claims that Apple is abus...   \n",
       "2  As Epic Games Inc. methodically made its case ...   \n",
       "\n",
       "                                                 url  \n",
       "0  https://finnhub.io/api/news?id=a05b585f9aa8113...  \n",
       "1  https://finnhub.io/api/news?id=8c81f40d85036c5...  \n",
       "2  https://finnhub.io/api/news?id=994d1806d0596ef...  "
      ]
     },
     "execution_count": 68,
     "metadata": {},
     "output_type": "execute_result"
    }
   ],
   "source": [
    "apple_finnhub_df.head(3)"
   ]
  },
  {
   "cell_type": "code",
   "execution_count": 40,
   "id": "illegal-classroom",
   "metadata": {
    "execution": {
     "iopub.execute_input": "2021-05-30T03:38:12.726137Z",
     "iopub.status.busy": "2021-05-30T03:38:12.725392Z",
     "iopub.status.idle": "2021-05-30T03:38:12.730220Z",
     "shell.execute_reply": "2021-05-30T03:38:12.729019Z",
     "shell.execute_reply.started": "2021-05-30T03:38:12.726060Z"
    },
    "tags": []
   },
   "outputs": [],
   "source": [
    "scrap = Scrapy()"
   ]
  },
  {
   "cell_type": "code",
   "execution_count": 41,
   "id": "wired-booking",
   "metadata": {
    "execution": {
     "iopub.execute_input": "2021-05-30T03:38:13.192122Z",
     "iopub.status.busy": "2021-05-30T03:38:13.191586Z",
     "iopub.status.idle": "2021-05-30T03:47:45.126651Z",
     "shell.execute_reply": "2021-05-30T03:47:45.126325Z",
     "shell.execute_reply.started": "2021-05-30T03:38:13.192073Z"
    },
    "tags": []
   },
   "outputs": [
    {
     "name": "stdout",
     "output_type": "stream",
     "text": [
      "91/91 99% https://finnhub.io/api/news?id=cc27456ee0e323ec46d428c16310dcd5003d757ae0244e71507c0e41c846c62d\r"
     ]
    }
   ],
   "source": [
    "articles = scrap.scrap(apple_finnhub_df.url.to_list())"
   ]
  },
  {
   "cell_type": "code",
   "execution_count": 42,
   "id": "french-economy",
   "metadata": {
    "execution": {
     "iopub.execute_input": "2021-05-30T03:49:01.953779Z",
     "iopub.status.busy": "2021-05-30T03:49:01.953149Z",
     "iopub.status.idle": "2021-05-30T03:49:01.961335Z",
     "shell.execute_reply": "2021-05-30T03:49:01.959457Z",
     "shell.execute_reply.started": "2021-05-30T03:49:01.953712Z"
    },
    "tags": []
   },
   "outputs": [],
   "source": [
    "apple_finnhub_articles_df = pd.Series(articles, name='articles')"
   ]
  },
  {
   "cell_type": "code",
   "execution_count": 43,
   "id": "prerequisite-winter",
   "metadata": {
    "execution": {
     "iopub.execute_input": "2021-05-30T03:49:02.382769Z",
     "iopub.status.busy": "2021-05-30T03:49:02.382378Z",
     "iopub.status.idle": "2021-05-30T03:49:02.402426Z",
     "shell.execute_reply": "2021-05-30T03:49:02.401413Z",
     "shell.execute_reply.started": "2021-05-30T03:49:02.382735Z"
    },
    "tags": []
   },
   "outputs": [
    {
     "data": {
      "text/plain": [
       "0    [May.07 -- Brookings Institution Visiting Fell...\n",
       "1    [(8, https://finnhub.io/api/news?id=01f0222ef7...\n",
       "Name: articles, dtype: object"
      ]
     },
     "execution_count": 43,
     "metadata": {},
     "output_type": "execute_result"
    }
   ],
   "source": [
    "apple_finnhub_articles_df[:5]"
   ]
  },
  {
   "cell_type": "code",
   "execution_count": 23,
   "id": "religious-contribution",
   "metadata": {
    "execution": {
     "iopub.execute_input": "2021-05-23T21:59:14.061014Z",
     "iopub.status.busy": "2021-05-23T21:59:14.060625Z",
     "iopub.status.idle": "2021-05-23T21:59:14.417776Z",
     "shell.execute_reply": "2021-05-23T21:59:14.417347Z",
     "shell.execute_reply.started": "2021-05-23T21:59:14.060975Z"
    },
    "tags": []
   },
   "outputs": [],
   "source": [
    "apple_finnhub_articles_df = text_tonkenize(apple_finnhub_articles_df)"
   ]
  },
  {
   "cell_type": "code",
   "execution_count": 24,
   "id": "smart-oxygen",
   "metadata": {
    "execution": {
     "iopub.execute_input": "2021-05-23T21:59:19.973068Z",
     "iopub.status.busy": "2021-05-23T21:59:19.972704Z",
     "iopub.status.idle": "2021-05-23T21:59:37.389625Z",
     "shell.execute_reply": "2021-05-23T21:59:37.389203Z",
     "shell.execute_reply.started": "2021-05-23T21:59:19.973035Z"
    },
    "tags": []
   },
   "outputs": [],
   "source": [
    "apple_finnhub_scores = polarity_score(apple_finnhub_articles_df)"
   ]
  },
  {
   "cell_type": "code",
   "execution_count": 25,
   "id": "permanent-constraint",
   "metadata": {
    "execution": {
     "iopub.execute_input": "2021-05-23T21:59:38.740971Z",
     "iopub.status.busy": "2021-05-23T21:59:38.740129Z",
     "iopub.status.idle": "2021-05-23T21:59:38.767880Z",
     "shell.execute_reply": "2021-05-23T21:59:38.767252Z",
     "shell.execute_reply.started": "2021-05-23T21:59:38.740896Z"
    },
    "tags": []
   },
   "outputs": [
    {
     "data": {
      "text/html": [
       "<div>\n",
       "<style scoped>\n",
       "    .dataframe tbody tr th:only-of-type {\n",
       "        vertical-align: middle;\n",
       "    }\n",
       "\n",
       "    .dataframe tbody tr th {\n",
       "        vertical-align: top;\n",
       "    }\n",
       "\n",
       "    .dataframe thead th {\n",
       "        text-align: right;\n",
       "    }\n",
       "</style>\n",
       "<table border=\"1\" class=\"dataframe\">\n",
       "  <thead>\n",
       "    <tr style=\"text-align: right;\">\n",
       "      <th></th>\n",
       "      <th>text</th>\n",
       "      <th>negative</th>\n",
       "      <th>neutral</th>\n",
       "      <th>positive</th>\n",
       "      <th>compound</th>\n",
       "      <th>sentiment</th>\n",
       "    </tr>\n",
       "  </thead>\n",
       "  <tbody>\n",
       "    <tr>\n",
       "      <th>0</th>\n",
       "      <td>may brookings institution visiting fellow bill...</td>\n",
       "      <td>0.079</td>\n",
       "      <td>0.819</td>\n",
       "      <td>0.101</td>\n",
       "      <td>0.9985</td>\n",
       "      <td>positive</td>\n",
       "    </tr>\n",
       "    <tr>\n",
       "      <th>1</th>\n",
       "      <td>may epic games claims that apple is abusing it...</td>\n",
       "      <td>0.080</td>\n",
       "      <td>0.819</td>\n",
       "      <td>0.102</td>\n",
       "      <td>0.9985</td>\n",
       "      <td>positive</td>\n",
       "    </tr>\n",
       "    <tr>\n",
       "      <th>2</th>\n",
       "      <td>as epic games inc methodically made its case i...</td>\n",
       "      <td>0.079</td>\n",
       "      <td>0.820</td>\n",
       "      <td>0.101</td>\n",
       "      <td>0.9985</td>\n",
       "      <td>positive</td>\n",
       "    </tr>\n",
       "    <tr>\n",
       "      <th>3</th>\n",
       "      <td>show ad the u s economy fell well short of job...</td>\n",
       "      <td>0.067</td>\n",
       "      <td>0.821</td>\n",
       "      <td>0.112</td>\n",
       "      <td>0.9998</td>\n",
       "      <td>positive</td>\n",
       "    </tr>\n",
       "    <tr>\n",
       "      <th>4</th>\n",
       "      <td>dogecoin soared above cents on wednesday not b...</td>\n",
       "      <td>0.054</td>\n",
       "      <td>0.834</td>\n",
       "      <td>0.111</td>\n",
       "      <td>0.9910</td>\n",
       "      <td>positive</td>\n",
       "    </tr>\n",
       "  </tbody>\n",
       "</table>\n",
       "</div>"
      ],
      "text/plain": [
       "                                                text  negative  neutral  \\\n",
       "0  may brookings institution visiting fellow bill...     0.079    0.819   \n",
       "1  may epic games claims that apple is abusing it...     0.080    0.819   \n",
       "2  as epic games inc methodically made its case i...     0.079    0.820   \n",
       "3  show ad the u s economy fell well short of job...     0.067    0.821   \n",
       "4  dogecoin soared above cents on wednesday not b...     0.054    0.834   \n",
       "\n",
       "   positive  compound sentiment  \n",
       "0     0.101    0.9985  positive  \n",
       "1     0.102    0.9985  positive  \n",
       "2     0.101    0.9985  positive  \n",
       "3     0.112    0.9998  positive  \n",
       "4     0.111    0.9910  positive  "
      ]
     },
     "execution_count": 25,
     "metadata": {},
     "output_type": "execute_result"
    }
   ],
   "source": [
    "apple_finnhub_scores.head()"
   ]
  },
  {
   "cell_type": "markdown",
   "id": "established-bullet",
   "metadata": {},
   "source": [
    "## Data Scrubbing"
   ]
  },
  {
   "cell_type": "code",
   "execution_count": 26,
   "id": "developing-falls",
   "metadata": {
    "execution": {
     "iopub.execute_input": "2021-05-23T21:59:44.781824Z",
     "iopub.status.busy": "2021-05-23T21:59:44.781393Z",
     "iopub.status.idle": "2021-05-23T21:59:44.794545Z",
     "shell.execute_reply": "2021-05-23T21:59:44.793676Z",
     "shell.execute_reply.started": "2021-05-23T21:59:44.781785Z"
    },
    "tags": []
   },
   "outputs": [],
   "source": [
    "# prepare our data concatenating the 3 main dataframe for scrubbing\n",
    "apple_finnhub_df = pd.concat([apple_finnhub_df, apple_finnhub_scores], axis=1, ignore_index=False, sort=False).reindex()"
   ]
  },
  {
   "cell_type": "code",
   "execution_count": 49,
   "id": "animated-secret",
   "metadata": {
    "execution": {
     "iopub.execute_input": "2021-05-30T03:51:14.831802Z",
     "iopub.status.busy": "2021-05-30T03:51:14.831400Z",
     "iopub.status.idle": "2021-05-30T03:51:14.839380Z",
     "shell.execute_reply": "2021-05-30T03:51:14.838119Z",
     "shell.execute_reply.started": "2021-05-30T03:51:14.831763Z"
    },
    "tags": []
   },
   "outputs": [],
   "source": [
    "apple_finnhub_df.rename(columns={'datetime':'date'}, inplace=True)"
   ]
  },
  {
   "cell_type": "code",
   "execution_count": 51,
   "id": "accomplished-kazakhstan",
   "metadata": {
    "execution": {
     "iopub.execute_input": "2021-05-30T03:51:27.677792Z",
     "iopub.status.busy": "2021-05-30T03:51:27.677445Z",
     "iopub.status.idle": "2021-05-30T03:51:27.688210Z",
     "shell.execute_reply": "2021-05-30T03:51:27.686646Z",
     "shell.execute_reply.started": "2021-05-30T03:51:27.677757Z"
    },
    "tags": []
   },
   "outputs": [],
   "source": [
    "# convert unix timestamp to datetime object\n",
    "apple_finnhub_df['date'] = apple_finnhub_df['date'].map(lambda x: timestamp2datetime(x))"
   ]
  },
  {
   "cell_type": "code",
   "execution_count": 56,
   "id": "supported-invitation",
   "metadata": {
    "execution": {
     "iopub.execute_input": "2021-05-30T03:54:25.559289Z",
     "iopub.status.busy": "2021-05-30T03:54:25.558652Z",
     "iopub.status.idle": "2021-05-30T03:54:25.570080Z",
     "shell.execute_reply": "2021-05-30T03:54:25.568876Z",
     "shell.execute_reply.started": "2021-05-30T03:54:25.559221Z"
    }
   },
   "outputs": [],
   "source": [
    "apple_finnhub_df['date'] = pd.to_datetime(apple_finnhub_df['date'], format='%Y-%m-%d %H:%M:%S')"
   ]
  },
  {
   "cell_type": "code",
   "execution_count": 57,
   "id": "sixth-shower",
   "metadata": {
    "execution": {
     "iopub.execute_input": "2021-05-30T03:54:26.763691Z",
     "iopub.status.busy": "2021-05-30T03:54:26.763072Z",
     "iopub.status.idle": "2021-05-30T03:54:26.785447Z",
     "shell.execute_reply": "2021-05-30T03:54:26.784522Z",
     "shell.execute_reply.started": "2021-05-30T03:54:26.763624Z"
    },
    "tags": []
   },
   "outputs": [
    {
     "data": {
      "text/html": [
       "<div>\n",
       "<style scoped>\n",
       "    .dataframe tbody tr th:only-of-type {\n",
       "        vertical-align: middle;\n",
       "    }\n",
       "\n",
       "    .dataframe tbody tr th {\n",
       "        vertical-align: top;\n",
       "    }\n",
       "\n",
       "    .dataframe thead th {\n",
       "        text-align: right;\n",
       "    }\n",
       "</style>\n",
       "<table border=\"1\" class=\"dataframe\">\n",
       "  <thead>\n",
       "    <tr style=\"text-align: right;\">\n",
       "      <th></th>\n",
       "      <th>category</th>\n",
       "      <th>date</th>\n",
       "      <th>headline</th>\n",
       "      <th>id</th>\n",
       "      <th>image</th>\n",
       "      <th>related</th>\n",
       "      <th>source</th>\n",
       "      <th>summary</th>\n",
       "      <th>url</th>\n",
       "    </tr>\n",
       "  </thead>\n",
       "  <tbody>\n",
       "    <tr>\n",
       "      <th>0</th>\n",
       "      <td>company</td>\n",
       "      <td>2021-05-07 19:28:28</td>\n",
       "      <td>Epic v. Apple Will Have Ramifications for Big ...</td>\n",
       "      <td>67685543</td>\n",
       "      <td>https://s.yimg.com/hd/cp-video-transcode/prod/...</td>\n",
       "      <td>AAPL</td>\n",
       "      <td>Yahoo</td>\n",
       "      <td>May.07 -- Brookings Institution Visiting Fello...</td>\n",
       "      <td>https://finnhub.io/api/news?id=a05b585f9aa8113...</td>\n",
       "    </tr>\n",
       "    <tr>\n",
       "      <th>1</th>\n",
       "      <td>company</td>\n",
       "      <td>2021-05-07 19:28:08</td>\n",
       "      <td>The Epic Battle Over Apple's App Store</td>\n",
       "      <td>67685545</td>\n",
       "      <td>https://s.yimg.com/hd/cp-video-transcode/prod/...</td>\n",
       "      <td>AAPL</td>\n",
       "      <td>Yahoo</td>\n",
       "      <td>May.07 -- Epic Games claims that Apple is abus...</td>\n",
       "      <td>https://finnhub.io/api/news?id=8c81f40d85036c5...</td>\n",
       "    </tr>\n",
       "    <tr>\n",
       "      <th>2</th>\n",
       "      <td>company</td>\n",
       "      <td>2021-05-07 18:29:00</td>\n",
       "      <td>Apple v. Epic: Time is running out for Epic to...</td>\n",
       "      <td>67685548</td>\n",
       "      <td></td>\n",
       "      <td>AAPL</td>\n",
       "      <td>Yahoo</td>\n",
       "      <td>As Epic Games Inc. methodically made its case ...</td>\n",
       "      <td>https://finnhub.io/api/news?id=994d1806d0596ef...</td>\n",
       "    </tr>\n",
       "  </tbody>\n",
       "</table>\n",
       "</div>"
      ],
      "text/plain": [
       "  category                date  \\\n",
       "0  company 2021-05-07 19:28:28   \n",
       "1  company 2021-05-07 19:28:08   \n",
       "2  company 2021-05-07 18:29:00   \n",
       "\n",
       "                                            headline        id  \\\n",
       "0  Epic v. Apple Will Have Ramifications for Big ...  67685543   \n",
       "1             The Epic Battle Over Apple's App Store  67685545   \n",
       "2  Apple v. Epic: Time is running out for Epic to...  67685548   \n",
       "\n",
       "                                               image related source  \\\n",
       "0  https://s.yimg.com/hd/cp-video-transcode/prod/...    AAPL  Yahoo   \n",
       "1  https://s.yimg.com/hd/cp-video-transcode/prod/...    AAPL  Yahoo   \n",
       "2                                                       AAPL  Yahoo   \n",
       "\n",
       "                                             summary  \\\n",
       "0  May.07 -- Brookings Institution Visiting Fello...   \n",
       "1  May.07 -- Epic Games claims that Apple is abus...   \n",
       "2  As Epic Games Inc. methodically made its case ...   \n",
       "\n",
       "                                                 url  \n",
       "0  https://finnhub.io/api/news?id=a05b585f9aa8113...  \n",
       "1  https://finnhub.io/api/news?id=8c81f40d85036c5...  \n",
       "2  https://finnhub.io/api/news?id=994d1806d0596ef...  "
      ]
     },
     "execution_count": 57,
     "metadata": {},
     "output_type": "execute_result"
    }
   ],
   "source": [
    "apple_finnhub_df.head(3)"
   ]
  },
  {
   "cell_type": "code",
   "execution_count": 58,
   "id": "innovative-calgary",
   "metadata": {
    "execution": {
     "iopub.execute_input": "2021-05-30T03:54:26.976688Z",
     "iopub.status.busy": "2021-05-30T03:54:26.975924Z",
     "iopub.status.idle": "2021-05-30T03:54:26.998297Z",
     "shell.execute_reply": "2021-05-30T03:54:26.997587Z",
     "shell.execute_reply.started": "2021-05-30T03:54:26.976605Z"
    },
    "tags": []
   },
   "outputs": [
    {
     "name": "stdout",
     "output_type": "stream",
     "text": [
      "<class 'pandas.core.frame.DataFrame'>\n",
      "RangeIndex: 91 entries, 0 to 90\n",
      "Data columns (total 9 columns):\n",
      " #   Column    Non-Null Count  Dtype         \n",
      "---  ------    --------------  -----         \n",
      " 0   category  91 non-null     object        \n",
      " 1   date      91 non-null     datetime64[ns]\n",
      " 2   headline  91 non-null     object        \n",
      " 3   id        91 non-null     int64         \n",
      " 4   image     91 non-null     object        \n",
      " 5   related   91 non-null     object        \n",
      " 6   source    91 non-null     object        \n",
      " 7   summary   91 non-null     object        \n",
      " 8   url       91 non-null     object        \n",
      "dtypes: datetime64[ns](1), int64(1), object(7)\n",
      "memory usage: 6.5+ KB\n"
     ]
    }
   ],
   "source": [
    "apple_finnhub_df.info()"
   ]
  },
  {
   "cell_type": "code",
   "execution_count": 73,
   "id": "collaborative-occurrence",
   "metadata": {
    "execution": {
     "iopub.execute_input": "2021-05-23T22:27:21.502468Z",
     "iopub.status.busy": "2021-05-23T22:27:21.502007Z",
     "iopub.status.idle": "2021-05-23T22:27:21.509712Z",
     "shell.execute_reply": "2021-05-23T22:27:21.508733Z",
     "shell.execute_reply.started": "2021-05-23T22:27:21.502418Z"
    },
    "tags": []
   },
   "outputs": [],
   "source": [
    "# we got just 27 missing scraped articles, those will be droped\n",
    "# drop rows with condition on columns. we're droping only row by index for every Null value on TEXT column.\n",
    "apple_finnhub_df.drop(apple_finnhub_df.loc[(apple_finnhub_df[\"text\"].isna())].index, inplace=True)"
   ]
  },
  {
   "cell_type": "code",
   "execution_count": 35,
   "id": "adjustable-latvia",
   "metadata": {
    "execution": {
     "iopub.execute_input": "2021-05-23T22:06:02.913822Z",
     "iopub.status.busy": "2021-05-23T22:06:02.913170Z",
     "iopub.status.idle": "2021-05-23T22:06:02.987157Z",
     "shell.execute_reply": "2021-05-23T22:06:02.986686Z",
     "shell.execute_reply.started": "2021-05-23T22:06:02.913756Z"
    },
    "tags": []
   },
   "outputs": [],
   "source": [
    "apple_finnhub_df['word_count'] = apple_finnhub_df['text'].apply(lambda x: len(x.split()) if type(x)!=float else x)"
   ]
  },
  {
   "cell_type": "code",
   "execution_count": 76,
   "id": "first-theta",
   "metadata": {
    "execution": {
     "iopub.execute_input": "2021-05-23T22:29:03.020088Z",
     "iopub.status.busy": "2021-05-23T22:29:03.019583Z",
     "iopub.status.idle": "2021-05-23T22:29:03.030719Z",
     "shell.execute_reply": "2021-05-23T22:29:03.029635Z",
     "shell.execute_reply.started": "2021-05-23T22:29:03.020048Z"
    },
    "tags": []
   },
   "outputs": [],
   "source": [
    "# drop only rows with 0 count\n",
    "apple_finnhub_df.drop(apple_finnhub_df[(apple_finnhub_df['word_count']==0)].index, inplace=True)"
   ]
  },
  {
   "cell_type": "code",
   "execution_count": null,
   "id": "weighted-injection",
   "metadata": {},
   "outputs": [],
   "source": []
  },
  {
   "cell_type": "code",
   "execution_count": null,
   "id": "nearby-luxembourg",
   "metadata": {},
   "outputs": [],
   "source": []
  }
 ],
 "metadata": {
  "kernelspec": {
   "display_name": "Python 3",
   "language": "python",
   "name": "python3"
  },
  "language_info": {
   "codemirror_mode": {
    "name": "ipython",
    "version": 3
   },
   "file_extension": ".py",
   "mimetype": "text/x-python",
   "name": "python",
   "nbconvert_exporter": "python",
   "pygments_lexer": "ipython3",
   "version": "3.8.8"
  }
 },
 "nbformat": 4,
 "nbformat_minor": 5
}
