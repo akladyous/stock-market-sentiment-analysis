{
 "cells": [
  {
   "cell_type": "code",
   "execution_count": null,
   "id": "ff5db9f8",
   "metadata": {},
   "outputs": [],
   "source": []
  },
  {
   "cell_type": "code",
   "execution_count": null,
   "id": "b6393fc7",
   "metadata": {},
   "outputs": [],
   "source": [
    "\n",
    "# What version of Python do you have?\n",
    "import sys\n",
    "\n",
    "import tensorflow.keras\n",
    "import pandas as pd\n",
    "import sklearn as sk\n",
    "import tensorflow as tf\n",
    "\n",
    "print(f\"Tensor Flow Version: {tf.__version__}\")\n",
    "print(f\"Keras Version: {tensorflow.keras.__version__}\")\n",
    "print()\n",
    "print(f\"Python {sys.version}\")\n",
    "print(f\"Pandas {pd.__version__}\")\n",
    "print(f\"Scikit-Learn {sk.__version__}\")\n",
    "gpu = len(tf.config.list_physical_devices('GPU'))>0\n",
    "print(\"GPU is\", \"available\" if gpu else \"NOT AVAILABLE\")"
   ]
  },
  {
   "cell_type": "code",
   "execution_count": null,
   "id": "0939505c",
   "metadata": {},
   "outputs": [],
   "source": []
  },
  {
   "cell_type": "code",
   "execution_count": null,
   "id": "e6b576b7",
   "metadata": {},
   "outputs": [],
   "source": []
  },
  {
   "cell_type": "code",
   "execution_count": null,
   "id": "72592354",
   "metadata": {},
   "outputs": [],
   "source": [
    "import keras"
   ]
  },
  {
   "cell_type": "code",
   "execution_count": 1,
   "id": "protecting-oracle",
   "metadata": {
    "tags": []
   },
   "outputs": [],
   "source": [
    "%run __init__.py"
   ]
  },
  {
   "cell_type": "code",
   "execution_count": null,
   "id": "2d69ec87",
   "metadata": {},
   "outputs": [],
   "source": [
    "import tensorflow"
   ]
  },
  {
   "cell_type": "code",
   "execution_count": 1,
   "id": "instant-abuse",
   "metadata": {
    "tags": []
   },
   "outputs": [
    {
     "ename": "ModuleNotFoundError",
     "evalue": "No module named 'plot'",
     "output_type": "error",
     "traceback": [
      "\u001b[0;31m---------------------------------------------------------------------------\u001b[0m",
      "\u001b[0;31mModuleNotFoundError\u001b[0m                       Traceback (most recent call last)",
      "\u001b[0;32m<ipython-input-1-c2c52797eb58>\u001b[0m in \u001b[0;36m<module>\u001b[0;34m\u001b[0m\n\u001b[1;32m      3\u001b[0m \u001b[0;32mfrom\u001b[0m \u001b[0mjoblib\u001b[0m \u001b[0;32mimport\u001b[0m \u001b[0mdump\u001b[0m\u001b[0;34m,\u001b[0m \u001b[0mload\u001b[0m\u001b[0;34m\u001b[0m\u001b[0;34m\u001b[0m\u001b[0m\n\u001b[1;32m      4\u001b[0m \u001b[0;31m# from word2vec import make_model, class_weights_ohe\u001b[0m\u001b[0;34m\u001b[0m\u001b[0;34m\u001b[0m\u001b[0;34m\u001b[0m\u001b[0m\n\u001b[0;32m----> 5\u001b[0;31m \u001b[0;32mfrom\u001b[0m \u001b[0mplot\u001b[0m \u001b[0;32mimport\u001b[0m \u001b[0mPloty\u001b[0m\u001b[0;34m\u001b[0m\u001b[0;34m\u001b[0m\u001b[0m\n\u001b[0m\u001b[1;32m      6\u001b[0m \u001b[0;31m# import keras\u001b[0m\u001b[0;34m\u001b[0m\u001b[0;34m\u001b[0m\u001b[0;34m\u001b[0m\u001b[0m\n\u001b[1;32m      7\u001b[0m \u001b[0;32mfrom\u001b[0m \u001b[0mkeras\u001b[0m\u001b[0;34m.\u001b[0m\u001b[0mutils\u001b[0m \u001b[0;32mimport\u001b[0m \u001b[0mto_categorical\u001b[0m\u001b[0;34m\u001b[0m\u001b[0;34m\u001b[0m\u001b[0m\n",
      "\u001b[0;31mModuleNotFoundError\u001b[0m: No module named 'plot'"
     ]
    }
   ],
   "source": [
    "import pandas as pd\n",
    "import numpy as np\n",
    "from joblib import dump, load\n",
    "# from word2vec import make_model, class_weights_ohe\n",
    "from plot import Ploty\n",
    "# import keras\n",
    "from keras.utils import to_categorical\n",
    "from keras.preprocessing.text import Tokenizer\n",
    "from keras.preprocessing.sequence import pad_sequences\n",
    "from sklearn.preprocessing import LabelEncoder, OneHotEncoder\n",
    "from tensorflow.keras.callbacks import EarlyStopping, ModelCheckpoint, ReduceLROnPlateau\n",
    "from sklearn.model_selection import train_test_split\n",
    "# from gensim.models import Word2Vec"
   ]
  },
  {
   "cell_type": "code",
   "execution_count": 4,
   "id": "dafca6d1-6ca8-41f6-81e5-b3d622c9228b",
   "metadata": {
    "tags": []
   },
   "outputs": [],
   "source": [
    "apple_news_df = pd.read_csv('./data/apple_news_cleaned.csv.gz')"
   ]
  },
  {
   "cell_type": "markdown",
   "id": "instrumental-truck",
   "metadata": {},
   "source": [
    "## MODELING"
   ]
  },
  {
   "cell_type": "code",
   "execution_count": 5,
   "id": "suitable-handbook",
   "metadata": {
    "tags": []
   },
   "outputs": [],
   "source": [
    "sentences = apple_news_df['text'].apply(lambda x: x.split()).to_list()\n",
    "max_lenght = 100"
   ]
  },
  {
   "cell_type": "code",
   "execution_count": 6,
   "id": "happy-indicator",
   "metadata": {
    "tags": []
   },
   "outputs": [],
   "source": [
    "l_encoder = LabelEncoder()\n",
    "y_encoded = l_encoder.fit_transform(apple_news_df['sentiment'])"
   ]
  },
  {
   "cell_type": "code",
   "execution_count": 7,
   "id": "agreed-government",
   "metadata": {
    "tags": []
   },
   "outputs": [],
   "source": [
    "ohe = OneHotEncoder(sparse=False)\n",
    "y_ohe = ohe.fit_transform(apple_news_df['sentiment'].values.reshape(-1,1))"
   ]
  },
  {
   "cell_type": "code",
   "execution_count": 8,
   "id": "graphic-cleaners",
   "metadata": {
    "tags": []
   },
   "outputs": [],
   "source": [
    "tokenizer = Tokenizer(num_words=10000)\n",
    "tokenizer.fit_on_texts(apple_news_df['text'])\n",
    "sequences = tokenizer.texts_to_sequences(apple_news_df['text'])\n",
    "word_index = tokenizer.word_index\n",
    "# total vocabulary size plus 0 for unknown words\n",
    "vocab_size = len(tokenizer.word_index) + 1\n",
    "data = pad_sequences(sequences, max_lenght)\n",
    "labels = to_categorical(y_encoded)"
   ]
  },
  {
   "cell_type": "code",
   "execution_count": 9,
   "id": "recent-hanging",
   "metadata": {
    "tags": []
   },
   "outputs": [
    {
     "name": "stdout",
     "output_type": "stream",
     "text": [
      "Unique Words              36867\n",
      "Shape of data tensor      (9520, 100)\n",
      "Shape of label tensor     (9520, 3)\n"
     ]
    }
   ],
   "source": [
    "print(f\"{'Unique Words':25} {len(tokenizer.index_word)}\")\n",
    "print(f\"{'Shape of data tensor':25} {data.shape}\")\n",
    "print(f\"{'Shape of label tensor':25} {labels.shape}\")"
   ]
  },
  {
   "cell_type": "code",
   "execution_count": 10,
   "id": "thorough-council",
   "metadata": {
    "tags": []
   },
   "outputs": [],
   "source": [
    "word2vec = Word2Vec(sentences,\n",
    "                     vector_size=max_lenght,\n",
    "                     window=5,\n",
    "                     min_count=1,\n",
    "                     workers=4,\n",
    "                    )\n",
    "word2vec.train(sentences, total_examples=word2vec.corpus_count, epochs=5)\n",
    "pretrained_weights = word2vec.wv.vectors\n",
    "vocab_size, emdedding_size = pretrained_weights.shape\n",
    "vectors = np.asarray(word2vec.wv.vectors)"
   ]
  },
  {
   "cell_type": "code",
   "execution_count": 11,
   "id": "accepting-method",
   "metadata": {
    "execution": {
     "iopub.execute_input": "2021-05-29T02:50:12.680455Z",
     "iopub.status.busy": "2021-05-29T02:50:12.679829Z",
     "iopub.status.idle": "2021-05-29T02:50:12.893496Z",
     "shell.execute_reply": "2021-05-29T02:50:12.893137Z",
     "shell.execute_reply.started": "2021-05-29T02:50:12.680386Z"
    }
   },
   "outputs": [],
   "source": [
    "word2vec.save('./word2vec/word2vrc_model')"
   ]
  },
  {
   "cell_type": "code",
   "execution_count": 11,
   "id": "72a48d7b-002d-4e60-a926-78bac1c705ae",
   "metadata": {},
   "outputs": [
    {
     "data": {
      "text/plain": [
       "(36867, 36867)"
      ]
     },
     "execution_count": 11,
     "metadata": {},
     "output_type": "execute_result"
    }
   ],
   "source": [
    "len(word_index), len(word2vec.wv.key_to_index)"
   ]
  },
  {
   "cell_type": "code",
   "execution_count": 12,
   "id": "unique-shaft",
   "metadata": {
    "tags": []
   },
   "outputs": [],
   "source": [
    "embedding_matrix = np.zeros((vocab_size+1, emdedding_size))\n",
    "for word, idx in word_index.items():\n",
    "        embedding_matrix[idx] = word2vec.wv[word]"
   ]
  },
  {
   "cell_type": "code",
   "execution_count": 13,
   "id": "8fa993af-37d4-4672-8b6d-603736a38bd9",
   "metadata": {
    "tags": []
   },
   "outputs": [
    {
     "data": {
      "text/plain": [
       "['./word2vec/embedding_matrix.pkl']"
      ]
     },
     "execution_count": 13,
     "metadata": {},
     "output_type": "execute_result"
    }
   ],
   "source": [
    "dump(embedding_matrix, './word2vec/embedding_matrix.pkl', compress=5)"
   ]
  },
  {
   "cell_type": "code",
   "execution_count": 14,
   "id": "coastal-award",
   "metadata": {
    "tags": []
   },
   "outputs": [
    {
     "name": "stdout",
     "output_type": "stream",
     "text": [
      "Train\n",
      "\tX :  (8092, 100)\n",
      "\tY :  (8092, 3)\n",
      "Test\n",
      "\tX :  (1428, 100)\n",
      "\tY :  (1428, 3)\n",
      "Validation\n",
      "\tX :  (1428, 100)\n",
      "\tY :  (1428, 3)\n"
     ]
    }
   ],
   "source": [
    "X_train, X_test, y_train, y_test = train_test_split(data, labels, test_size=.15, random_state=1, stratify=labels)\n",
    "X_train, X_val, y_train, y_val   = train_test_split(data, labels, test_size=.15, random_state=1, stratify=labels)\n",
    "\n",
    "print(f\"Train\\n\\t{'X :':5}{X_train.shape}\\n\\t{'Y :':5}{y_train.shape}\")\n",
    "print(f\"Test\\n\\t{'X :':5}{X_test.shape}\\n\\t{'Y :':5}{y_test.shape}\")\n",
    "print(f\"Validation\\n\\t{'X :':5}{X_val.shape}\\n\\t{'Y :':5}{y_val.shape}\")"
   ]
  },
  {
   "cell_type": "code",
   "execution_count": 15,
   "id": "inner-buffer",
   "metadata": {
    "tags": []
   },
   "outputs": [],
   "source": [
    "input_dim = embedding_matrix.shape[0]\n",
    "embedding_dim = embedding_matrix.shape[1]\n",
    "max_seq_len = data.shape[1]"
   ]
  },
  {
   "cell_type": "code",
   "execution_count": 88,
   "id": "drawn-citizenship",
   "metadata": {
    "tags": []
   },
   "outputs": [],
   "source": [
    "BIAS = class_weights_ohe(labels)\n",
    "WEIGHTS = {k:v for k,v in enumerate(BIAS)}\n",
    "METRICS = ['accuracy']\n",
    "EPOCHS = 32\n",
    "BATCH_SIZE = 400\n",
    "STEPS_x_EPOCH = X_train.shape[0]//BATCH_SIZE"
   ]
  },
  {
   "cell_type": "code",
   "execution_count": 18,
   "id": "understanding-clearing",
   "metadata": {
    "tags": []
   },
   "outputs": [],
   "source": [
    "eStop_Val_Loss = EarlyStopping(monitor='val_loss', min_delta=0.0001, patience=12,\n",
    "                            verbose=1,mode='min',baseline=0.999,restore_best_weights=False)\n",
    "eStop_Loss     = EarlyStopping(monitor='loss', min_delta=0.001, patience=12,\n",
    "                            verbose=1,mode='min',baseline=0.999,restore_best_weights=False)\n",
    "eStop_Accuracy = EarlyStopping(monitor='accuracy', min_delta=0.001, patience=24,\n",
    "                            verbose=1, mode='max', baseline=0.999, restore_best_weights=False)\n",
    "eStop_Val_accuracy  = EarlyStopping(monitor='val_accuracy', min_delta=0.001, patience=24,\n",
    "                            verbose=1, mode='max', baseline=0.999, restore_best_weights=False)\n",
    "\n",
    "eStop_Reduce_lr = ReduceLROnPlateau(monitor='val_loss', factor=0.1, patience=8, min_lr=0.000001, verbose=1)"
   ]
  },
  {
   "cell_type": "code",
   "execution_count": 167,
   "id": "joint-content",
   "metadata": {
    "tags": []
   },
   "outputs": [],
   "source": [
    "keras.backend.clear_session()"
   ]
  },
  {
   "cell_type": "code",
   "execution_count": 168,
   "id": "3c460f29-c511-443c-86ea-2cf11682bcb7",
   "metadata": {},
   "outputs": [],
   "source": [
    "%run './lib/word2vec.py'"
   ]
  },
  {
   "cell_type": "code",
   "execution_count": 19,
   "id": "9d2e5eec-6615-4b25-9513-50d7a5bf56f5",
   "metadata": {},
   "outputs": [],
   "source": [
    "plot_model = Ploty()"
   ]
  },
  {
   "cell_type": "code",
   "execution_count": 93,
   "id": "8c7e39dc-4db1-4dbf-8abd-8c6120a910d6",
   "metadata": {},
   "outputs": [],
   "source": [
    "keras.backend.clear_session()"
   ]
  },
  {
   "cell_type": "code",
   "execution_count": 94,
   "id": "1065dbfa-0ef8-414e-851c-069cf3f25417",
   "metadata": {},
   "outputs": [],
   "source": [
    "model = make_model(metrics=METRICS,\n",
    "                   input_dim=input_dim,\n",
    "                   embedding_dim=embedding_dim,\n",
    "                   weights=embedding_matrix,\n",
    "                   input_length=max_seq_len,\n",
    "                  )"
   ]
  },
  {
   "cell_type": "code",
   "execution_count": 95,
   "id": "41dde56f-414d-4ca9-bbca-0febc9cac14f",
   "metadata": {},
   "outputs": [
    {
     "name": "stdout",
     "output_type": "stream",
     "text": [
      "Model: \"sequential_1\"\n",
      "_________________________________________________________________\n",
      "Layer (type)                 Output Shape              Param #   \n",
      "=================================================================\n",
      "embedding (Embedding)        (None, 100, 100)          3686800   \n",
      "_________________________________________________________________\n",
      "bidirectional_1 (Bidirection (None, 100, 200)          160800    \n",
      "_________________________________________________________________\n",
      "lstm_2 (LSTM)                (None, 16)                13888     \n",
      "_________________________________________________________________\n",
      "dense16 (Dense)              (None, 16)                272       \n",
      "_________________________________________________________________\n",
      "dropout_1 (Dropout)          (None, 16)                0         \n",
      "_________________________________________________________________\n",
      "output4 (Dense)              (None, 3)                 51        \n",
      "=================================================================\n",
      "Total params: 3,861,811\n",
      "Trainable params: 175,011\n",
      "Non-trainable params: 3,686,800\n",
      "_________________________________________________________________\n"
     ]
    }
   ],
   "source": [
    "model.summary()"
   ]
  },
  {
   "cell_type": "code",
   "execution_count": 98,
   "id": "aea35471-dc1c-4fe5-9812-cbb63fe5c2da",
   "metadata": {},
   "outputs": [],
   "source": [
    "model.layers[-1].bias=BIAS\n",
    "model.layers[0].embeddings_initializer = keras.initializers.glorot_uniform()"
   ]
  },
  {
   "cell_type": "code",
   "execution_count": 99,
   "id": "109d87b9-937f-4304-af7d-bbfdcbd484c3",
   "metadata": {},
   "outputs": [],
   "source": [
    "BATCH_SIZE, EPOCHS = 400, 48"
   ]
  },
  {
   "cell_type": "code",
   "execution_count": 100,
   "id": "9a253353-584e-4bc6-820f-3a8715c83ff2",
   "metadata": {
    "scrolled": true,
    "tags": []
   },
   "outputs": [
    {
     "name": "stdout",
     "output_type": "stream",
     "text": [
      "Train on 8092 samples, validate on 1428 samples\n",
      "Epoch 1/48\n",
      "8092/8092 [==============================] - 48s 6ms/step - loss: 1.0634 - accuracy: 0.4462 - val_loss: 1.0286 - val_accuracy: 0.5056\n",
      "Epoch 2/48\n",
      "8092/8092 [==============================] - 42s 5ms/step - loss: 1.0384 - accuracy: 0.4764 - val_loss: 1.0151 - val_accuracy: 0.5168\n",
      "Epoch 3/48\n",
      "8092/8092 [==============================] - 42s 5ms/step - loss: 1.0248 - accuracy: 0.4848 - val_loss: 1.0111 - val_accuracy: 0.5154\n",
      "Epoch 4/48\n",
      "8092/8092 [==============================] - 41s 5ms/step - loss: 1.0156 - accuracy: 0.4886 - val_loss: 1.0035 - val_accuracy: 0.5245\n",
      "Epoch 5/48\n",
      "8092/8092 [==============================] - 41s 5ms/step - loss: 1.0102 - accuracy: 0.4965 - val_loss: 0.9968 - val_accuracy: 0.5287\n",
      "Epoch 6/48\n",
      "8092/8092 [==============================] - 41s 5ms/step - loss: 0.9965 - accuracy: 0.5061 - val_loss: 0.9931 - val_accuracy: 0.5301\n",
      "Epoch 7/48\n",
      "8092/8092 [==============================] - 40s 5ms/step - loss: 0.9892 - accuracy: 0.5121 - val_loss: 0.9834 - val_accuracy: 0.5392\n",
      "Epoch 8/48\n",
      "8092/8092 [==============================] - 40s 5ms/step - loss: 0.9780 - accuracy: 0.5255 - val_loss: 0.9756 - val_accuracy: 0.5434\n",
      "Epoch 9/48\n",
      "8092/8092 [==============================] - 40s 5ms/step - loss: 0.9745 - accuracy: 0.5282 - val_loss: 0.9710 - val_accuracy: 0.5420\n",
      "Epoch 10/48\n",
      "8092/8092 [==============================] - 41s 5ms/step - loss: 0.9701 - accuracy: 0.5313 - val_loss: 0.9730 - val_accuracy: 0.5441\n",
      "Epoch 11/48\n",
      "8092/8092 [==============================] - 42s 5ms/step - loss: 0.9510 - accuracy: 0.5387 - val_loss: 0.9751 - val_accuracy: 0.5462\n",
      "Epoch 12/48\n",
      "8092/8092 [==============================] - 41s 5ms/step - loss: 0.9386 - accuracy: 0.5461 - val_loss: 0.9618 - val_accuracy: 0.5483\n",
      "Epoch 13/48\n",
      "8092/8092 [==============================] - 44s 5ms/step - loss: 0.9350 - accuracy: 0.5571 - val_loss: 0.9644 - val_accuracy: 0.5560\n",
      "Epoch 14/48\n",
      "8092/8092 [==============================] - 41s 5ms/step - loss: 0.9129 - accuracy: 0.5709 - val_loss: 0.9623 - val_accuracy: 0.5532\n",
      "Epoch 15/48\n",
      "8092/8092 [==============================] - 42s 5ms/step - loss: 0.9054 - accuracy: 0.5739 - val_loss: 0.9407 - val_accuracy: 0.5686\n",
      "Epoch 16/48\n",
      "8092/8092 [==============================] - 41s 5ms/step - loss: 0.9207 - accuracy: 0.5648 - val_loss: 0.9493 - val_accuracy: 0.5595\n",
      "Epoch 17/48\n",
      "8092/8092 [==============================] - 41s 5ms/step - loss: 0.8988 - accuracy: 0.5817 - val_loss: 0.9467 - val_accuracy: 0.5728\n",
      "Epoch 18/48\n",
      "8092/8092 [==============================] - 41s 5ms/step - loss: 0.8739 - accuracy: 0.5958 - val_loss: 0.9582 - val_accuracy: 0.5630\n",
      "Epoch 19/48\n",
      "8092/8092 [==============================] - 40s 5ms/step - loss: 0.8756 - accuracy: 0.5948 - val_loss: 0.9696 - val_accuracy: 0.5567\n",
      "Epoch 20/48\n",
      "8092/8092 [==============================] - 41s 5ms/step - loss: 0.8633 - accuracy: 0.5986 - val_loss: 0.9778 - val_accuracy: 0.5623\n",
      "Epoch 21/48\n",
      "8092/8092 [==============================] - 42s 5ms/step - loss: 0.8444 - accuracy: 0.6133 - val_loss: 0.9716 - val_accuracy: 0.5700\n",
      "Epoch 22/48\n",
      "8092/8092 [==============================] - 41s 5ms/step - loss: 0.8294 - accuracy: 0.6231 - val_loss: 0.9550 - val_accuracy: 0.5679\n",
      "Epoch 23/48\n",
      "8092/8092 [==============================] - 40s 5ms/step - loss: 0.8287 - accuracy: 0.6304 - val_loss: 0.9775 - val_accuracy: 0.5707\n",
      "Epoch 24/48\n",
      "8092/8092 [==============================] - 40s 5ms/step - loss: 0.8196 - accuracy: 0.6361 - val_loss: 0.9465 - val_accuracy: 0.5945\n",
      "Epoch 25/48\n",
      "8092/8092 [==============================] - 40s 5ms/step - loss: 0.7961 - accuracy: 0.6534 - val_loss: 0.9380 - val_accuracy: 0.5973\n",
      "Epoch 26/48\n",
      "8092/8092 [==============================] - 40s 5ms/step - loss: 0.7738 - accuracy: 0.6651 - val_loss: 0.9218 - val_accuracy: 0.5945\n",
      "Epoch 27/48\n",
      "8092/8092 [==============================] - 41s 5ms/step - loss: 0.7521 - accuracy: 0.6773 - val_loss: 0.9303 - val_accuracy: 0.6064\n",
      "Epoch 28/48\n",
      "8092/8092 [==============================] - 41s 5ms/step - loss: 0.7297 - accuracy: 0.7000 - val_loss: 0.9195 - val_accuracy: 0.6127\n",
      "Epoch 29/48\n",
      "8092/8092 [==============================] - 40s 5ms/step - loss: 0.7148 - accuracy: 0.7028 - val_loss: 0.9489 - val_accuracy: 0.6120\n",
      "Epoch 30/48\n",
      "8092/8092 [==============================] - 41s 5ms/step - loss: 0.7048 - accuracy: 0.7069 - val_loss: 0.9361 - val_accuracy: 0.6232\n",
      "Epoch 31/48\n",
      "8092/8092 [==============================] - 41s 5ms/step - loss: 0.6705 - accuracy: 0.7339 - val_loss: 1.0092 - val_accuracy: 0.6099\n",
      "Epoch 32/48\n",
      "8092/8092 [==============================] - 41s 5ms/step - loss: 0.6662 - accuracy: 0.7297 - val_loss: 1.0136 - val_accuracy: 0.6036\n",
      "Epoch 33/48\n",
      "8092/8092 [==============================] - 42s 5ms/step - loss: 0.6441 - accuracy: 0.7432 - val_loss: 0.9848 - val_accuracy: 0.6106\n",
      "Epoch 34/48\n",
      "8092/8092 [==============================] - 40s 5ms/step - loss: 0.6244 - accuracy: 0.7490 - val_loss: 0.9933 - val_accuracy: 0.6099\n",
      "Epoch 35/48\n",
      "8092/8092 [==============================] - 41s 5ms/step - loss: 0.6022 - accuracy: 0.7638 - val_loss: 1.0278 - val_accuracy: 0.6289\n",
      "Epoch 36/48\n",
      "8092/8092 [==============================] - 40s 5ms/step - loss: 0.5959 - accuracy: 0.7685 - val_loss: 1.0294 - val_accuracy: 0.6162\n",
      "Epoch 37/48\n",
      "8092/8092 [==============================] - 40s 5ms/step - loss: 0.5857 - accuracy: 0.7717 - val_loss: 1.0299 - val_accuracy: 0.6155\n",
      "Epoch 38/48\n",
      "8092/8092 [==============================] - 40s 5ms/step - loss: 0.5838 - accuracy: 0.7741 - val_loss: 1.0589 - val_accuracy: 0.6232\n",
      "Epoch 39/48\n",
      "8092/8092 [==============================] - 40s 5ms/step - loss: 0.5806 - accuracy: 0.7682 - val_loss: 1.0684 - val_accuracy: 0.6268\n",
      "Epoch 40/48\n",
      "8092/8092 [==============================] - 41s 5ms/step - loss: 0.5610 - accuracy: 0.7840 - val_loss: 1.0774 - val_accuracy: 0.6345\n",
      "Epoch 41/48\n",
      "8092/8092 [==============================] - 40s 5ms/step - loss: 0.5514 - accuracy: 0.7848 - val_loss: 1.0516 - val_accuracy: 0.6366\n",
      "Epoch 42/48\n",
      "8092/8092 [==============================] - 40s 5ms/step - loss: 0.5267 - accuracy: 0.7998 - val_loss: 1.0686 - val_accuracy: 0.6436\n",
      "Epoch 43/48\n",
      "8092/8092 [==============================] - 40s 5ms/step - loss: 0.4953 - accuracy: 0.8110 - val_loss: 1.1786 - val_accuracy: 0.6317\n",
      "Epoch 44/48\n",
      "8092/8092 [==============================] - 40s 5ms/step - loss: 0.4986 - accuracy: 0.8144 - val_loss: 1.1133 - val_accuracy: 0.6380\n",
      "Epoch 45/48\n",
      "8092/8092 [==============================] - 41s 5ms/step - loss: 0.4982 - accuracy: 0.8125 - val_loss: 1.1627 - val_accuracy: 0.6408\n",
      "Epoch 46/48\n",
      "8092/8092 [==============================] - 40s 5ms/step - loss: 0.4747 - accuracy: 0.8219 - val_loss: 1.1163 - val_accuracy: 0.6338\n",
      "Epoch 47/48\n",
      "8092/8092 [==============================] - 40s 5ms/step - loss: 0.4721 - accuracy: 0.8265 - val_loss: 1.1656 - val_accuracy: 0.6408\n",
      "Epoch 48/48\n",
      "8092/8092 [==============================] - 40s 5ms/step - loss: 0.4698 - accuracy: 0.8230 - val_loss: 1.2304 - val_accuracy: 0.6527\n"
     ]
    }
   ],
   "source": [
    "history = model.fit(X_train,\n",
    "                    y_train,\n",
    "                    batch_size=BATCH_SIZE,\n",
    "                    epochs=EPOCHS,\n",
    "#                     callbacks=[eStop_Val_accuracy, eStop_Val_Loss],\n",
    "                    validation_split=0.1,                    \n",
    "                    validation_data=(X_val, y_val),\n",
    "                    class_weight=None,\n",
    "                    sample_weight=None,\n",
    "#                     steps_per_epoch=STEPS_x_EPOCH,\n",
    "#                     validation_steps=20,\n",
    "#                     validation_freq=1,\n",
    "                    workers=6,\n",
    "                    use_multiprocessing=True\n",
    "                    )"
   ]
  },
  {
   "cell_type": "code",
   "execution_count": 113,
   "id": "21c4b061-cf3a-4962-a365-db4c7ac3d49a",
   "metadata": {},
   "outputs": [],
   "source": [
    "model.save_weights('./word2vec/mc/multiclass_1')"
   ]
  },
  {
   "cell_type": "code",
   "execution_count": 116,
   "id": "9b225daa-b12e-487f-997f-09121dcba5a4",
   "metadata": {
    "scrolled": true,
    "tags": []
   },
   "outputs": [
    {
     "name": "stdout",
     "output_type": "stream",
     "text": [
      "Train on 8092 samples, validate on 1428 samples\n",
      "Epoch 1/48\n",
      "8092/8092 [==============================] - 42s 5ms/step - loss: 0.4554 - accuracy: 0.8238 - val_loss: 1.2946 - val_accuracy: 0.6485\n",
      "Epoch 2/48\n",
      "8092/8092 [==============================] - 41s 5ms/step - loss: 0.4376 - accuracy: 0.8361 - val_loss: 1.2674 - val_accuracy: 0.6471\n",
      "Epoch 3/48\n",
      "8092/8092 [==============================] - 42s 5ms/step - loss: 0.4405 - accuracy: 0.8347 - val_loss: 1.2718 - val_accuracy: 0.6541\n",
      "Epoch 4/48\n",
      "8092/8092 [==============================] - 42s 5ms/step - loss: 0.4195 - accuracy: 0.8403 - val_loss: 1.3384 - val_accuracy: 0.6436\n",
      "Epoch 5/48\n",
      "8092/8092 [==============================] - 40s 5ms/step - loss: 0.4288 - accuracy: 0.8366 - val_loss: 1.3095 - val_accuracy: 0.6478\n",
      "Epoch 6/48\n",
      "8092/8092 [==============================] - 40s 5ms/step - loss: 0.4192 - accuracy: 0.8419 - val_loss: 1.4186 - val_accuracy: 0.6387\n",
      "Epoch 7/48\n",
      "8092/8092 [==============================] - 42s 5ms/step - loss: 0.4253 - accuracy: 0.8405 - val_loss: 1.3146 - val_accuracy: 0.6401\n",
      "Epoch 8/48\n",
      "8092/8092 [==============================] - 41s 5ms/step - loss: 0.4131 - accuracy: 0.8421 - val_loss: 1.3274 - val_accuracy: 0.6506\n",
      "Epoch 9/48\n",
      "8092/8092 [==============================] - 41s 5ms/step - loss: 0.4039 - accuracy: 0.8452 - val_loss: 1.2661 - val_accuracy: 0.6464\n",
      "Epoch 10/48\n"
     ]
    },
    {
     "ename": "KeyboardInterrupt",
     "evalue": "",
     "output_type": "error",
     "traceback": [
      "\u001b[0;31m---------------------------------------------------------------------------\u001b[0m",
      "\u001b[0;31mKeyboardInterrupt\u001b[0m                         Traceback (most recent call last)",
      "\u001b[0;32m<ipython-input-116-79d50fac2c4b>\u001b[0m in \u001b[0;36m<module>\u001b[0;34m\u001b[0m\n\u001b[1;32m      9\u001b[0m                     \u001b[0msample_weight\u001b[0m\u001b[0;34m=\u001b[0m\u001b[0;32mNone\u001b[0m\u001b[0;34m,\u001b[0m\u001b[0;34m\u001b[0m\u001b[0;34m\u001b[0m\u001b[0m\n\u001b[1;32m     10\u001b[0m                     \u001b[0mworkers\u001b[0m\u001b[0;34m=\u001b[0m\u001b[0;36m6\u001b[0m\u001b[0;34m,\u001b[0m\u001b[0;34m\u001b[0m\u001b[0;34m\u001b[0m\u001b[0m\n\u001b[0;32m---> 11\u001b[0;31m                     \u001b[0muse_multiprocessing\u001b[0m\u001b[0;34m=\u001b[0m\u001b[0;32mTrue\u001b[0m\u001b[0;34m\u001b[0m\u001b[0;34m\u001b[0m\u001b[0m\n\u001b[0m\u001b[1;32m     12\u001b[0m                     )\n",
      "\u001b[0;32m~/opt/anaconda3/envs/tf/lib/python3.7/site-packages/keras/engine/training.py\u001b[0m in \u001b[0;36mfit\u001b[0;34m(self, x, y, batch_size, epochs, verbose, callbacks, validation_split, validation_data, shuffle, class_weight, sample_weight, initial_epoch, steps_per_epoch, validation_steps, validation_freq, max_queue_size, workers, use_multiprocessing, **kwargs)\u001b[0m\n\u001b[1;32m   1237\u001b[0m                                         \u001b[0msteps_per_epoch\u001b[0m\u001b[0;34m=\u001b[0m\u001b[0msteps_per_epoch\u001b[0m\u001b[0;34m,\u001b[0m\u001b[0;34m\u001b[0m\u001b[0;34m\u001b[0m\u001b[0m\n\u001b[1;32m   1238\u001b[0m                                         \u001b[0mvalidation_steps\u001b[0m\u001b[0;34m=\u001b[0m\u001b[0mvalidation_steps\u001b[0m\u001b[0;34m,\u001b[0m\u001b[0;34m\u001b[0m\u001b[0;34m\u001b[0m\u001b[0m\n\u001b[0;32m-> 1239\u001b[0;31m                                         validation_freq=validation_freq)\n\u001b[0m\u001b[1;32m   1240\u001b[0m \u001b[0;34m\u001b[0m\u001b[0m\n\u001b[1;32m   1241\u001b[0m     def evaluate(self,\n",
      "\u001b[0;32m~/opt/anaconda3/envs/tf/lib/python3.7/site-packages/keras/engine/training_arrays.py\u001b[0m in \u001b[0;36mfit_loop\u001b[0;34m(model, fit_function, fit_inputs, out_labels, batch_size, epochs, verbose, callbacks, val_function, val_inputs, shuffle, initial_epoch, steps_per_epoch, validation_steps, validation_freq)\u001b[0m\n\u001b[1;32m    194\u001b[0m                     \u001b[0mins_batch\u001b[0m\u001b[0;34m[\u001b[0m\u001b[0mi\u001b[0m\u001b[0;34m]\u001b[0m \u001b[0;34m=\u001b[0m \u001b[0mins_batch\u001b[0m\u001b[0;34m[\u001b[0m\u001b[0mi\u001b[0m\u001b[0;34m]\u001b[0m\u001b[0;34m.\u001b[0m\u001b[0mtoarray\u001b[0m\u001b[0;34m(\u001b[0m\u001b[0;34m)\u001b[0m\u001b[0;34m\u001b[0m\u001b[0;34m\u001b[0m\u001b[0m\n\u001b[1;32m    195\u001b[0m \u001b[0;34m\u001b[0m\u001b[0m\n\u001b[0;32m--> 196\u001b[0;31m                 \u001b[0mouts\u001b[0m \u001b[0;34m=\u001b[0m \u001b[0mfit_function\u001b[0m\u001b[0;34m(\u001b[0m\u001b[0mins_batch\u001b[0m\u001b[0;34m)\u001b[0m\u001b[0;34m\u001b[0m\u001b[0;34m\u001b[0m\u001b[0m\n\u001b[0m\u001b[1;32m    197\u001b[0m                 \u001b[0mouts\u001b[0m \u001b[0;34m=\u001b[0m \u001b[0mto_list\u001b[0m\u001b[0;34m(\u001b[0m\u001b[0mouts\u001b[0m\u001b[0;34m)\u001b[0m\u001b[0;34m\u001b[0m\u001b[0;34m\u001b[0m\u001b[0m\n\u001b[1;32m    198\u001b[0m                 \u001b[0;32mfor\u001b[0m \u001b[0ml\u001b[0m\u001b[0;34m,\u001b[0m \u001b[0mo\u001b[0m \u001b[0;32min\u001b[0m \u001b[0mzip\u001b[0m\u001b[0;34m(\u001b[0m\u001b[0mout_labels\u001b[0m\u001b[0;34m,\u001b[0m \u001b[0mouts\u001b[0m\u001b[0;34m)\u001b[0m\u001b[0;34m:\u001b[0m\u001b[0;34m\u001b[0m\u001b[0;34m\u001b[0m\u001b[0m\n",
      "\u001b[0;32m~/opt/anaconda3/envs/tf/lib/python3.7/site-packages/tensorflow_core/python/keras/backend.py\u001b[0m in \u001b[0;36m__call__\u001b[0;34m(self, inputs)\u001b[0m\n\u001b[1;32m   3738\u001b[0m         \u001b[0mvalue\u001b[0m \u001b[0;34m=\u001b[0m \u001b[0mmath_ops\u001b[0m\u001b[0;34m.\u001b[0m\u001b[0mcast\u001b[0m\u001b[0;34m(\u001b[0m\u001b[0mvalue\u001b[0m\u001b[0;34m,\u001b[0m \u001b[0mtensor\u001b[0m\u001b[0;34m.\u001b[0m\u001b[0mdtype\u001b[0m\u001b[0;34m)\u001b[0m\u001b[0;34m\u001b[0m\u001b[0;34m\u001b[0m\u001b[0m\n\u001b[1;32m   3739\u001b[0m       \u001b[0mconverted_inputs\u001b[0m\u001b[0;34m.\u001b[0m\u001b[0mappend\u001b[0m\u001b[0;34m(\u001b[0m\u001b[0mvalue\u001b[0m\u001b[0;34m)\u001b[0m\u001b[0;34m\u001b[0m\u001b[0;34m\u001b[0m\u001b[0m\n\u001b[0;32m-> 3740\u001b[0;31m     \u001b[0moutputs\u001b[0m \u001b[0;34m=\u001b[0m \u001b[0mself\u001b[0m\u001b[0;34m.\u001b[0m\u001b[0m_graph_fn\u001b[0m\u001b[0;34m(\u001b[0m\u001b[0;34m*\u001b[0m\u001b[0mconverted_inputs\u001b[0m\u001b[0;34m)\u001b[0m\u001b[0;34m\u001b[0m\u001b[0;34m\u001b[0m\u001b[0m\n\u001b[0m\u001b[1;32m   3741\u001b[0m \u001b[0;34m\u001b[0m\u001b[0m\n\u001b[1;32m   3742\u001b[0m     \u001b[0;31m# EagerTensor.numpy() will often make a copy to ensure memory safety.\u001b[0m\u001b[0;34m\u001b[0m\u001b[0;34m\u001b[0m\u001b[0;34m\u001b[0m\u001b[0m\n",
      "\u001b[0;32m~/opt/anaconda3/envs/tf/lib/python3.7/site-packages/tensorflow_core/python/eager/function.py\u001b[0m in \u001b[0;36m__call__\u001b[0;34m(self, *args, **kwargs)\u001b[0m\n\u001b[1;32m   1079\u001b[0m       \u001b[0mTypeError\u001b[0m\u001b[0;34m:\u001b[0m \u001b[0mFor\u001b[0m \u001b[0minvalid\u001b[0m \u001b[0mpositional\u001b[0m\u001b[0;34m/\u001b[0m\u001b[0mkeyword\u001b[0m \u001b[0margument\u001b[0m \u001b[0mcombinations\u001b[0m\u001b[0;34m.\u001b[0m\u001b[0;34m\u001b[0m\u001b[0;34m\u001b[0m\u001b[0m\n\u001b[1;32m   1080\u001b[0m     \"\"\"\n\u001b[0;32m-> 1081\u001b[0;31m     \u001b[0;32mreturn\u001b[0m \u001b[0mself\u001b[0m\u001b[0;34m.\u001b[0m\u001b[0m_call_impl\u001b[0m\u001b[0;34m(\u001b[0m\u001b[0margs\u001b[0m\u001b[0;34m,\u001b[0m \u001b[0mkwargs\u001b[0m\u001b[0;34m)\u001b[0m\u001b[0;34m\u001b[0m\u001b[0;34m\u001b[0m\u001b[0m\n\u001b[0m\u001b[1;32m   1082\u001b[0m \u001b[0;34m\u001b[0m\u001b[0m\n\u001b[1;32m   1083\u001b[0m   \u001b[0;32mdef\u001b[0m \u001b[0m_call_impl\u001b[0m\u001b[0;34m(\u001b[0m\u001b[0mself\u001b[0m\u001b[0;34m,\u001b[0m \u001b[0margs\u001b[0m\u001b[0;34m,\u001b[0m \u001b[0mkwargs\u001b[0m\u001b[0;34m,\u001b[0m \u001b[0mcancellation_manager\u001b[0m\u001b[0;34m=\u001b[0m\u001b[0;32mNone\u001b[0m\u001b[0;34m)\u001b[0m\u001b[0;34m:\u001b[0m\u001b[0;34m\u001b[0m\u001b[0;34m\u001b[0m\u001b[0m\n",
      "\u001b[0;32m~/opt/anaconda3/envs/tf/lib/python3.7/site-packages/tensorflow_core/python/eager/function.py\u001b[0m in \u001b[0;36m_call_impl\u001b[0;34m(self, args, kwargs, cancellation_manager)\u001b[0m\n\u001b[1;32m   1119\u001b[0m       raise TypeError(\"Keyword arguments {} unknown. Expected {}.\".format(\n\u001b[1;32m   1120\u001b[0m           list(kwargs.keys()), list(self._arg_keywords)))\n\u001b[0;32m-> 1121\u001b[0;31m     \u001b[0;32mreturn\u001b[0m \u001b[0mself\u001b[0m\u001b[0;34m.\u001b[0m\u001b[0m_call_flat\u001b[0m\u001b[0;34m(\u001b[0m\u001b[0margs\u001b[0m\u001b[0;34m,\u001b[0m \u001b[0mself\u001b[0m\u001b[0;34m.\u001b[0m\u001b[0mcaptured_inputs\u001b[0m\u001b[0;34m,\u001b[0m \u001b[0mcancellation_manager\u001b[0m\u001b[0;34m)\u001b[0m\u001b[0;34m\u001b[0m\u001b[0;34m\u001b[0m\u001b[0m\n\u001b[0m\u001b[1;32m   1122\u001b[0m \u001b[0;34m\u001b[0m\u001b[0m\n\u001b[1;32m   1123\u001b[0m   \u001b[0;32mdef\u001b[0m \u001b[0m_filtered_call\u001b[0m\u001b[0;34m(\u001b[0m\u001b[0mself\u001b[0m\u001b[0;34m,\u001b[0m \u001b[0margs\u001b[0m\u001b[0;34m,\u001b[0m \u001b[0mkwargs\u001b[0m\u001b[0;34m)\u001b[0m\u001b[0;34m:\u001b[0m\u001b[0;34m\u001b[0m\u001b[0;34m\u001b[0m\u001b[0m\n",
      "\u001b[0;32m~/opt/anaconda3/envs/tf/lib/python3.7/site-packages/tensorflow_core/python/eager/function.py\u001b[0m in \u001b[0;36m_call_flat\u001b[0;34m(self, args, captured_inputs, cancellation_manager)\u001b[0m\n\u001b[1;32m   1222\u001b[0m     \u001b[0;32mif\u001b[0m \u001b[0mexecuting_eagerly\u001b[0m\u001b[0;34m:\u001b[0m\u001b[0;34m\u001b[0m\u001b[0;34m\u001b[0m\u001b[0m\n\u001b[1;32m   1223\u001b[0m       flat_outputs = forward_function.call(\n\u001b[0;32m-> 1224\u001b[0;31m           ctx, args, cancellation_manager=cancellation_manager)\n\u001b[0m\u001b[1;32m   1225\u001b[0m     \u001b[0;32melse\u001b[0m\u001b[0;34m:\u001b[0m\u001b[0;34m\u001b[0m\u001b[0;34m\u001b[0m\u001b[0m\n\u001b[1;32m   1226\u001b[0m       \u001b[0mgradient_name\u001b[0m \u001b[0;34m=\u001b[0m \u001b[0mself\u001b[0m\u001b[0;34m.\u001b[0m\u001b[0m_delayed_rewrite_functions\u001b[0m\u001b[0;34m.\u001b[0m\u001b[0mregister\u001b[0m\u001b[0;34m(\u001b[0m\u001b[0;34m)\u001b[0m\u001b[0;34m\u001b[0m\u001b[0;34m\u001b[0m\u001b[0m\n",
      "\u001b[0;32m~/opt/anaconda3/envs/tf/lib/python3.7/site-packages/tensorflow_core/python/eager/function.py\u001b[0m in \u001b[0;36mcall\u001b[0;34m(self, ctx, args, cancellation_manager)\u001b[0m\n\u001b[1;32m    509\u001b[0m               \u001b[0minputs\u001b[0m\u001b[0;34m=\u001b[0m\u001b[0margs\u001b[0m\u001b[0;34m,\u001b[0m\u001b[0;34m\u001b[0m\u001b[0;34m\u001b[0m\u001b[0m\n\u001b[1;32m    510\u001b[0m               \u001b[0mattrs\u001b[0m\u001b[0;34m=\u001b[0m\u001b[0;34m(\u001b[0m\u001b[0;34m\"executor_type\"\u001b[0m\u001b[0;34m,\u001b[0m \u001b[0mexecutor_type\u001b[0m\u001b[0;34m,\u001b[0m \u001b[0;34m\"config_proto\"\u001b[0m\u001b[0;34m,\u001b[0m \u001b[0mconfig\u001b[0m\u001b[0;34m)\u001b[0m\u001b[0;34m,\u001b[0m\u001b[0;34m\u001b[0m\u001b[0;34m\u001b[0m\u001b[0m\n\u001b[0;32m--> 511\u001b[0;31m               ctx=ctx)\n\u001b[0m\u001b[1;32m    512\u001b[0m         \u001b[0;32melse\u001b[0m\u001b[0;34m:\u001b[0m\u001b[0;34m\u001b[0m\u001b[0;34m\u001b[0m\u001b[0m\n\u001b[1;32m    513\u001b[0m           outputs = execute.execute_with_cancellation(\n",
      "\u001b[0;32m~/opt/anaconda3/envs/tf/lib/python3.7/site-packages/tensorflow_core/python/eager/execute.py\u001b[0m in \u001b[0;36mquick_execute\u001b[0;34m(op_name, num_outputs, inputs, attrs, ctx, name)\u001b[0m\n\u001b[1;32m     59\u001b[0m     tensors = pywrap_tensorflow.TFE_Py_Execute(ctx._handle, device_name,\n\u001b[1;32m     60\u001b[0m                                                \u001b[0mop_name\u001b[0m\u001b[0;34m,\u001b[0m \u001b[0minputs\u001b[0m\u001b[0;34m,\u001b[0m \u001b[0mattrs\u001b[0m\u001b[0;34m,\u001b[0m\u001b[0;34m\u001b[0m\u001b[0;34m\u001b[0m\u001b[0m\n\u001b[0;32m---> 61\u001b[0;31m                                                num_outputs)\n\u001b[0m\u001b[1;32m     62\u001b[0m   \u001b[0;32mexcept\u001b[0m \u001b[0mcore\u001b[0m\u001b[0;34m.\u001b[0m\u001b[0m_NotOkStatusException\u001b[0m \u001b[0;32mas\u001b[0m \u001b[0me\u001b[0m\u001b[0;34m:\u001b[0m\u001b[0;34m\u001b[0m\u001b[0;34m\u001b[0m\u001b[0m\n\u001b[1;32m     63\u001b[0m     \u001b[0;32mif\u001b[0m \u001b[0mname\u001b[0m \u001b[0;32mis\u001b[0m \u001b[0;32mnot\u001b[0m \u001b[0;32mNone\u001b[0m\u001b[0;34m:\u001b[0m\u001b[0;34m\u001b[0m\u001b[0;34m\u001b[0m\u001b[0m\n",
      "\u001b[0;31mKeyboardInterrupt\u001b[0m: "
     ]
    }
   ],
   "source": [
    "history = model.fit(X_train,\n",
    "                    y_train,\n",
    "                    batch_size=BATCH_SIZE,\n",
    "                    epochs=EPOCHS,\n",
    "                    callbacks=[eStop_Reduce_lr],\n",
    "                    validation_split=0.1,                    \n",
    "                    validation_data=(X_val, y_val),\n",
    "                    class_weight=None,\n",
    "                    sample_weight=None,\n",
    "                    workers=6,\n",
    "                    use_multiprocessing=True\n",
    "                    )"
   ]
  },
  {
   "cell_type": "code",
   "execution_count": null,
   "id": "4808f1b8-7e7d-4de0-9c92-9262ba1a732f",
   "metadata": {},
   "outputs": [],
   "source": []
  },
  {
   "cell_type": "code",
   "execution_count": null,
   "id": "047f611c-89e1-438f-8e6b-a15c1533bd1e",
   "metadata": {},
   "outputs": [],
   "source": []
  },
  {
   "cell_type": "code",
   "execution_count": null,
   "id": "14b0d874-4b43-4ea7-a05a-5d20c14be3cf",
   "metadata": {},
   "outputs": [],
   "source": []
  },
  {
   "cell_type": "code",
   "execution_count": null,
   "id": "615ab22a-4e1d-48ea-acc0-65dc51703dd9",
   "metadata": {},
   "outputs": [],
   "source": []
  },
  {
   "cell_type": "code",
   "execution_count": 264,
   "id": "detailed-mirror",
   "metadata": {
    "execution": {
     "iopub.execute_input": "2021-05-29T15:32:56.272241Z",
     "iopub.status.busy": "2021-05-29T15:32:56.271840Z",
     "iopub.status.idle": "2021-05-29T15:33:07.713626Z",
     "shell.execute_reply": "2021-05-29T15:33:07.713186Z",
     "shell.execute_reply.started": "2021-05-29T15:32:56.272200Z"
    },
    "tags": []
   },
   "outputs": [],
   "source": [
    "score = model.evaluate(X_test, y_test, batch_size=1, steps=X_test.shape[0], workers=8, verbose=0)"
   ]
  },
  {
   "cell_type": "code",
   "execution_count": 269,
   "id": "primary-twelve",
   "metadata": {
    "execution": {
     "iopub.execute_input": "2021-05-29T15:35:59.091976Z",
     "iopub.status.busy": "2021-05-29T15:35:59.091438Z",
     "iopub.status.idle": "2021-05-29T15:36:11.585858Z",
     "shell.execute_reply": "2021-05-29T15:36:11.585457Z",
     "shell.execute_reply.started": "2021-05-29T15:35:59.091922Z"
    },
    "tags": []
   },
   "outputs": [],
   "source": [
    "y_pred = model.predict(X_test, batch_size=1,verbose=0)"
   ]
  },
  {
   "cell_type": "code",
   "execution_count": 572,
   "id": "intensive-holiday",
   "metadata": {
    "execution": {
     "iopub.execute_input": "2021-05-29T19:39:02.610832Z",
     "iopub.status.busy": "2021-05-29T19:39:02.610234Z",
     "iopub.status.idle": "2021-05-29T19:39:02.617188Z",
     "shell.execute_reply": "2021-05-29T19:39:02.616238Z",
     "shell.execute_reply.started": "2021-05-29T19:39:02.610766Z"
    }
   },
   "outputs": [
    {
     "name": "stdout",
     "output_type": "stream",
     "text": [
      "Accuracy : 0.928067684173584\n"
     ]
    }
   ],
   "source": [
    "print('Accuracy :', score[1])"
   ]
  },
  {
   "cell_type": "code",
   "execution_count": 571,
   "id": "anticipated-comment",
   "metadata": {
    "execution": {
     "iopub.execute_input": "2021-05-29T19:38:56.175606Z",
     "iopub.status.busy": "2021-05-29T19:38:56.174866Z",
     "iopub.status.idle": "2021-05-29T19:38:56.334410Z",
     "shell.execute_reply": "2021-05-29T19:38:56.334043Z",
     "shell.execute_reply.started": "2021-05-29T19:38:56.175527Z"
    },
    "tags": []
   },
   "outputs": [
    {
     "data": {
      "image/png": "[encoded data removed]",
      "text/plain": [
       "<Figure size 720x360 with 2 Axes>"
      ]
     },
     "metadata": {
      "needs_background": "light"
     },
     "output_type": "display_data"
    }
   ],
   "source": [
    "plot_model.confusion_matrix(y_true=y_test, y_pred=y_pred, target_name=ohe.categories_[0], file_name='./img/cm.jpg')"
   ]
  },
  {
   "cell_type": "code",
   "execution_count": 573,
   "id": "norman-cooking",
   "metadata": {
    "execution": {
     "iopub.execute_input": "2021-05-29T19:39:38.385756Z",
     "iopub.status.busy": "2021-05-29T19:39:38.385398Z",
     "iopub.status.idle": "2021-05-29T19:39:38.559451Z",
     "shell.execute_reply": "2021-05-29T19:39:38.559091Z",
     "shell.execute_reply.started": "2021-05-29T19:39:38.385722Z"
    },
    "tags": []
   },
   "outputs": [
    {
     "data": {
      "image/png": "[encoded data removed]",
      "text/plain": [
       "<Figure size 432x360 with 1 Axes>"
      ]
     },
     "metadata": {
      "needs_background": "light"
     },
     "output_type": "display_data"
    }
   ],
   "source": [
    "plot_model.plot_roc_curve(y_true=y_test, y_pred=y_pred, file_name='./img/roc.jpg')"
   ]
  },
  {
   "cell_type": "code",
   "execution_count": null,
   "id": "oriental-compatibility",
   "metadata": {},
   "outputs": [],
   "source": []
  }
 ],
 "metadata": {
  "kernelspec": {
   "display_name": "Python 3",
   "language": "python",
   "name": "python3"
  },
  "language_info": {
   "codemirror_mode": {
    "name": "ipython",
    "version": 3
   },
   "file_extension": ".py",
   "mimetype": "text/x-python",
   "name": "python",
   "nbconvert_exporter": "python",
   "pygments_lexer": "ipython3",
   "version": "3.9.5"
  }
 },
 "nbformat": 4,
 "nbformat_minor": 5
}
