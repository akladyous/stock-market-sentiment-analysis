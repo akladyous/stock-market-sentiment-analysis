{
 "cells": [
  {
   "cell_type": "code",
   "execution_count": 1,
   "id": "ace2a3e0-9d12-4a7e-99b7-ea6808687c12",
   "metadata": {
    "tags": []
   },
   "outputs": [],
   "source": [
    "run \"__init__.py\""
   ]
  },
  {
   "cell_type": "code",
   "execution_count": 2,
   "id": "d36974a9-a0b3-4957-a98e-d41d74632189",
   "metadata": {
    "tags": []
   },
   "outputs": [
    {
     "name": "stderr",
     "output_type": "stream",
     "text": [
      "[nltk_data] Downloading package vader_lexicon to\n",
      "[nltk_data]     /Users/boula/nltk_data...\n",
      "[nltk_data]   Package vader_lexicon is already up-to-date!\n",
      "[nltk_data] Downloading package stopwords to /Users/boula/nltk_data...\n",
      "[nltk_data]   Package stopwords is already up-to-date!\n",
      "[nltk_data] Downloading package wordnet to /Users/boula/nltk_data...\n",
      "[nltk_data]   Package wordnet is already up-to-date!\n",
      "[nltk_data] Downloading package punkt to /Users/boula/nltk_data...\n",
      "[nltk_data]   Package punkt is already up-to-date!\n"
     ]
    }
   ],
   "source": [
    "import numpy as np\n",
    "import pandas as pd\n",
    "import matplotlib.pyplot as plt\n",
    "from joblib import load, dump\n",
    "import json\n",
    "# from decouple import config\n",
    "from langdetect import detect\n",
    "from datetime_util import timestamp2datetime\n",
    "from finnhub_api import FinnHub_init, Finnhub\n",
    "from nlp import NLP_stat\n",
    "from scrapy import Scrapy"
   ]
  },
  {
   "cell_type": "code",
   "execution_count": 3,
   "id": "2d016ba6-c441-47cb-bf8f-c796fdab1090",
   "metadata": {},
   "outputs": [],
   "source": [
    "finnhub_key=load('./finnhub/finnhub_key.pkl')"
   ]
  },
  {
   "cell_type": "code",
   "execution_count": 4,
   "id": "dcec419f-a110-4ebc-92e1-fcb75d2c4d04",
   "metadata": {
    "tags": []
   },
   "outputs": [],
   "source": [
    "aapl = Finnhub(finnhub_key, \"2021-06-01\", \"2021-06-07\", \"AAPL\")"
   ]
  },
  {
   "cell_type": "code",
   "execution_count": 5,
   "id": "5b74f631-eaf3-4c97-8266-4e1c03fefb4c",
   "metadata": {
    "tags": []
   },
   "outputs": [],
   "source": [
    "news = aapl.company_news()"
   ]
  },
  {
   "cell_type": "code",
   "execution_count": 6,
   "id": "8029edb7-f73c-4fa6-9070-6755c528a979",
   "metadata": {
    "tags": []
   },
   "outputs": [],
   "source": [
    "df_news = pd.DataFrame(news)"
   ]
  },
  {
   "cell_type": "code",
   "execution_count": 35,
   "id": "bb6f2566-e206-46ec-98fd-320f86fe9738",
   "metadata": {
    "tags": []
   },
   "outputs": [
    {
     "data": {
      "text/html": [
       "<div>\n",
       "<style scoped>\n",
       "    .dataframe tbody tr th:only-of-type {\n",
       "        vertical-align: middle;\n",
       "    }\n",
       "\n",
       "    .dataframe tbody tr th {\n",
       "        vertical-align: top;\n",
       "    }\n",
       "\n",
       "    .dataframe thead th {\n",
       "        text-align: right;\n",
       "    }\n",
       "</style>\n",
       "<table border=\"1\" class=\"dataframe\">\n",
       "  <thead>\n",
       "    <tr style=\"text-align: right;\">\n",
       "      <th></th>\n",
       "      <th>category</th>\n",
       "      <th>datetime</th>\n",
       "      <th>headline</th>\n",
       "      <th>id</th>\n",
       "      <th>image</th>\n",
       "      <th>related</th>\n",
       "      <th>source</th>\n",
       "      <th>summary</th>\n",
       "      <th>url</th>\n",
       "    </tr>\n",
       "  </thead>\n",
       "  <tbody>\n",
       "    <tr>\n",
       "      <th>0</th>\n",
       "      <td>company</td>\n",
       "      <td>1623110079</td>\n",
       "      <td>Apple's new 'private relay' feature will not b...</td>\n",
       "      <td>68011194</td>\n",
       "      <td>NaN</td>\n",
       "      <td>AAPL</td>\n",
       "      <td>Reuters</td>\n",
       "      <td>Apple Inc on Monday said a new \"private relay\"...</td>\n",
       "      <td>https://finnhub.io/api/news?id=b5c3de85e4357a4...</td>\n",
       "    </tr>\n",
       "    <tr>\n",
       "      <th>1</th>\n",
       "      <td>company</td>\n",
       "      <td>1623107375</td>\n",
       "      <td>Apple's new privacy feature, designed to mask ...</td>\n",
       "      <td>68032499</td>\n",
       "      <td>https://image.cnbcfm.com/api/v1/image/10658790...</td>\n",
       "      <td>AAPL</td>\n",
       "      <td>CNBC</td>\n",
       "      <td>Apple's new \"Private Relay\" online browsing fe...</td>\n",
       "      <td>https://finnhub.io/api/news?id=38d729b552df4d1...</td>\n",
       "    </tr>\n",
       "    <tr>\n",
       "      <th>2</th>\n",
       "      <td>company</td>\n",
       "      <td>1623099351</td>\n",
       "      <td>Apple adds virtual IDs on iPhone, video plans ...</td>\n",
       "      <td>68011199</td>\n",
       "      <td>https://static.reuters.com/resources/r/?m=02&amp;d...</td>\n",
       "      <td>AAPL</td>\n",
       "      <td>Reuters</td>\n",
       "      <td>Apple Inc, facing accusations from rivals that...</td>\n",
       "      <td>https://finnhub.io/api/news?id=e6293a6b98321c7...</td>\n",
       "    </tr>\n",
       "  </tbody>\n",
       "</table>\n",
       "</div>"
      ],
      "text/plain": [
       "  category    datetime                                           headline  \\\n",
       "0  company  1623110079  Apple's new 'private relay' feature will not b...   \n",
       "1  company  1623107375  Apple's new privacy feature, designed to mask ...   \n",
       "2  company  1623099351  Apple adds virtual IDs on iPhone, video plans ...   \n",
       "\n",
       "         id                                              image related  \\\n",
       "0  68011194                                                NaN    AAPL   \n",
       "1  68032499  https://image.cnbcfm.com/api/v1/image/10658790...    AAPL   \n",
       "2  68011199  https://static.reuters.com/resources/r/?m=02&d...    AAPL   \n",
       "\n",
       "    source                                            summary  \\\n",
       "0  Reuters  Apple Inc on Monday said a new \"private relay\"...   \n",
       "1     CNBC  Apple's new \"Private Relay\" online browsing fe...   \n",
       "2  Reuters  Apple Inc, facing accusations from rivals that...   \n",
       "\n",
       "                                                 url  \n",
       "0  https://finnhub.io/api/news?id=b5c3de85e4357a4...  \n",
       "1  https://finnhub.io/api/news?id=38d729b552df4d1...  \n",
       "2  https://finnhub.io/api/news?id=e6293a6b98321c7...  "
      ]
     },
     "execution_count": 35,
     "metadata": {},
     "output_type": "execute_result"
    }
   ],
   "source": [
    "df_news.head(3)"
   ]
  },
  {
   "cell_type": "code",
   "execution_count": 33,
   "id": "e6a16809-c58c-4003-a03c-d58addedaed1",
   "metadata": {},
   "outputs": [],
   "source": [
    "df_news.to_csv('./data/finnhub_news_01jun21-07jun21.csv', index=False)"
   ]
  },
  {
   "cell_type": "code",
   "execution_count": 76,
   "id": "bf09bc9e-e892-4222-83ca-8da30be2f330",
   "metadata": {},
   "outputs": [],
   "source": [
    "df_news = pd.read_csv('./data/finnhub_news_01jun21-07jun21.csv')"
   ]
  },
  {
   "cell_type": "code",
   "execution_count": 4,
   "id": "93d04fa9-6607-43bd-b6a4-7f64c7e4f036",
   "metadata": {
    "tags": []
   },
   "outputs": [],
   "source": [
    "scrap = Scrapy()"
   ]
  },
  {
   "cell_type": "code",
   "execution_count": 5,
   "id": "e9a13be0-fa6e-4565-8e6f-82155ba77cf4",
   "metadata": {},
   "outputs": [
    {
     "name": "stdout",
     "output_type": "stream",
     "text": [
      "131/133 98% https://www.cnbc.com/2021/06/01/stock-market-today-which-worst-dow-stocks-in-may-could-bounce-in-june.html021-06-01/olitical-concerns-scmpnnectivit-beatC;WMT;MIC;KKR;RIG;SMBMF;MGI;GIII;BBCP;TYL;HURC;HYW-Wall-Street-in-Fives--Must-Read-Lists-at-Midday\r"
     ]
    }
   ],
   "source": [
    "articles = scrap.scrap(df_news['url'].to_list())"
   ]
  },
  {
   "cell_type": "code",
   "execution_count": 37,
   "id": "fb1a05be-d92c-4348-aad6-cf836c25f895",
   "metadata": {},
   "outputs": [
    {
     "name": "stdout",
     "output_type": "stream",
     "text": [
      "Total scraped articles: 133\n"
     ]
    }
   ],
   "source": [
    "print('Total scraped articles:', len(articles))"
   ]
  },
  {
   "cell_type": "code",
   "execution_count": 38,
   "id": "7a4553a4-d9be-4512-8019-d4df12aae529",
   "metadata": {},
   "outputs": [
    {
     "data": {
      "text/plain": [
       "True"
      ]
     },
     "execution_count": 38,
     "metadata": {},
     "output_type": "execute_result"
    }
   ],
   "source": [
    "np.all(df_news.shape[0] == len(articles))"
   ]
  },
  {
   "cell_type": "code",
   "execution_count": 39,
   "id": "b5b5331a-6db7-4ba6-9e56-bb3fe4cb6d84",
   "metadata": {},
   "outputs": [
    {
     "data": {
      "text/plain": [
       "['./data/finnhub_articles_01jun21-07jun21']"
      ]
     },
     "execution_count": 39,
     "metadata": {},
     "output_type": "execute_result"
    }
   ],
   "source": [
    "dump(articles, './data/finnhub_articles_01jun21-07jun21')"
   ]
  },
  {
   "cell_type": "code",
   "execution_count": 77,
   "id": "51e1cca0-e988-4413-8727-87126f809fef",
   "metadata": {},
   "outputs": [],
   "source": [
    "# prepare our data concatenating the 3 main dataframe for scrubbing\n",
    "df_news = pd.concat([df_news, pd.Series(articles, name='articles')],\n",
    "                   axis=1,\n",
    "                   ignore_index=False,\n",
    "                   sort=True)"
   ]
  },
  {
   "cell_type": "code",
   "execution_count": 78,
   "id": "b5f4520f-51c0-4929-babd-15411a646398",
   "metadata": {},
   "outputs": [
    {
     "data": {
      "text/html": [
       "<div>\n",
       "<style scoped>\n",
       "    .dataframe tbody tr th:only-of-type {\n",
       "        vertical-align: middle;\n",
       "    }\n",
       "\n",
       "    .dataframe tbody tr th {\n",
       "        vertical-align: top;\n",
       "    }\n",
       "\n",
       "    .dataframe thead th {\n",
       "        text-align: right;\n",
       "    }\n",
       "</style>\n",
       "<table border=\"1\" class=\"dataframe\">\n",
       "  <thead>\n",
       "    <tr style=\"text-align: right;\">\n",
       "      <th></th>\n",
       "      <th>category</th>\n",
       "      <th>datetime</th>\n",
       "      <th>headline</th>\n",
       "      <th>id</th>\n",
       "      <th>image</th>\n",
       "      <th>related</th>\n",
       "      <th>source</th>\n",
       "      <th>summary</th>\n",
       "      <th>url</th>\n",
       "      <th>articles</th>\n",
       "    </tr>\n",
       "  </thead>\n",
       "  <tbody>\n",
       "    <tr>\n",
       "      <th>0</th>\n",
       "      <td>company</td>\n",
       "      <td>1623110079</td>\n",
       "      <td>Apple's new 'private relay' feature will not b...</td>\n",
       "      <td>68011194</td>\n",
       "      <td>NaN</td>\n",
       "      <td>AAPL</td>\n",
       "      <td>Reuters</td>\n",
       "      <td>Apple Inc on Monday said a new \"private relay\"...</td>\n",
       "      <td>https://finnhub.io/api/news?id=b5c3de85e4357a4...</td>\n",
       "      <td>Discover Thomson Reuters By Stephen Nellis, Pa...</td>\n",
       "    </tr>\n",
       "    <tr>\n",
       "      <th>1</th>\n",
       "      <td>company</td>\n",
       "      <td>1623107375</td>\n",
       "      <td>Apple's new privacy feature, designed to mask ...</td>\n",
       "      <td>68032499</td>\n",
       "      <td>https://image.cnbcfm.com/api/v1/image/10658790...</td>\n",
       "      <td>AAPL</td>\n",
       "      <td>CNBC</td>\n",
       "      <td>Apple's new \"Private Relay\" online browsing fe...</td>\n",
       "      <td>https://finnhub.io/api/news?id=38d729b552df4d1...</td>\n",
       "      <td>In this article GUANGZHOU, China — Apple's ne...</td>\n",
       "    </tr>\n",
       "    <tr>\n",
       "      <th>2</th>\n",
       "      <td>company</td>\n",
       "      <td>1623099351</td>\n",
       "      <td>Apple adds virtual IDs on iPhone, video plans ...</td>\n",
       "      <td>68011199</td>\n",
       "      <td>https://static.reuters.com/resources/r/?m=02&amp;d...</td>\n",
       "      <td>AAPL</td>\n",
       "      <td>Reuters</td>\n",
       "      <td>Apple Inc, facing accusations from rivals that...</td>\n",
       "      <td>https://finnhub.io/api/news?id=e6293a6b98321c7...</td>\n",
       "      <td>Apple CEO Tim Cook greets developers during Ap...</td>\n",
       "    </tr>\n",
       "    <tr>\n",
       "      <th>3</th>\n",
       "      <td>company</td>\n",
       "      <td>1623099351</td>\n",
       "      <td>Factbox: Top takeaways from Apple's Developers...</td>\n",
       "      <td>68011182</td>\n",
       "      <td>https://static.reuters.com/resources/r/?m=02&amp;d...</td>\n",
       "      <td>AAPL</td>\n",
       "      <td>Reuters</td>\n",
       "      <td>Apple Inc on Monday announced a host of new fe...</td>\n",
       "      <td>https://finnhub.io/api/news?id=b0c1f554acc6bb1...</td>\n",
       "      <td>Apple Inc (AAPL.O) on Monday announced a host ...</td>\n",
       "    </tr>\n",
       "    <tr>\n",
       "      <th>4</th>\n",
       "      <td>company</td>\n",
       "      <td>1623091979</td>\n",
       "      <td>Apple is turning privacy into a business advan...</td>\n",
       "      <td>68005525</td>\n",
       "      <td>https://image.cnbcfm.com/api/v1/image/10689338...</td>\n",
       "      <td>AAPL</td>\n",
       "      <td>CNBC</td>\n",
       "      <td>Privacy was mentioned as part of nearly every ...</td>\n",
       "      <td>https://finnhub.io/api/news?id=51f9e806092681a...</td>\n",
       "      <td>In this article Apple unveiled new versions o...</td>\n",
       "    </tr>\n",
       "  </tbody>\n",
       "</table>\n",
       "</div>"
      ],
      "text/plain": [
       "  category    datetime                                           headline  \\\n",
       "0  company  1623110079  Apple's new 'private relay' feature will not b...   \n",
       "1  company  1623107375  Apple's new privacy feature, designed to mask ...   \n",
       "2  company  1623099351  Apple adds virtual IDs on iPhone, video plans ...   \n",
       "3  company  1623099351  Factbox: Top takeaways from Apple's Developers...   \n",
       "4  company  1623091979  Apple is turning privacy into a business advan...   \n",
       "\n",
       "         id                                              image related  \\\n",
       "0  68011194                                                NaN    AAPL   \n",
       "1  68032499  https://image.cnbcfm.com/api/v1/image/10658790...    AAPL   \n",
       "2  68011199  https://static.reuters.com/resources/r/?m=02&d...    AAPL   \n",
       "3  68011182  https://static.reuters.com/resources/r/?m=02&d...    AAPL   \n",
       "4  68005525  https://image.cnbcfm.com/api/v1/image/10689338...    AAPL   \n",
       "\n",
       "    source                                            summary  \\\n",
       "0  Reuters  Apple Inc on Monday said a new \"private relay\"...   \n",
       "1     CNBC  Apple's new \"Private Relay\" online browsing fe...   \n",
       "2  Reuters  Apple Inc, facing accusations from rivals that...   \n",
       "3  Reuters  Apple Inc on Monday announced a host of new fe...   \n",
       "4     CNBC  Privacy was mentioned as part of nearly every ...   \n",
       "\n",
       "                                                 url  \\\n",
       "0  https://finnhub.io/api/news?id=b5c3de85e4357a4...   \n",
       "1  https://finnhub.io/api/news?id=38d729b552df4d1...   \n",
       "2  https://finnhub.io/api/news?id=e6293a6b98321c7...   \n",
       "3  https://finnhub.io/api/news?id=b0c1f554acc6bb1...   \n",
       "4  https://finnhub.io/api/news?id=51f9e806092681a...   \n",
       "\n",
       "                                            articles  \n",
       "0  Discover Thomson Reuters By Stephen Nellis, Pa...  \n",
       "1   In this article GUANGZHOU, China — Apple's ne...  \n",
       "2  Apple CEO Tim Cook greets developers during Ap...  \n",
       "3  Apple Inc (AAPL.O) on Monday announced a host ...  \n",
       "4   In this article Apple unveiled new versions o...  "
      ]
     },
     "execution_count": 78,
     "metadata": {},
     "output_type": "execute_result"
    }
   ],
   "source": [
    "df_news.head()"
   ]
  },
  {
   "cell_type": "code",
   "execution_count": 79,
   "id": "833b7534-1087-4589-a087-1e800961d715",
   "metadata": {},
   "outputs": [
    {
     "name": "stdout",
     "output_type": "stream",
     "text": [
      "<class 'pandas.core.frame.DataFrame'>\n",
      "Int64Index: 133 entries, 0 to 132\n",
      "Data columns (total 10 columns):\n",
      " #   Column    Non-Null Count  Dtype \n",
      "---  ------    --------------  ----- \n",
      " 0   category  133 non-null    object\n",
      " 1   datetime  133 non-null    int64 \n",
      " 2   headline  133 non-null    object\n",
      " 3   id        133 non-null    int64 \n",
      " 4   image     101 non-null    object\n",
      " 5   related   133 non-null    object\n",
      " 6   source    133 non-null    object\n",
      " 7   summary   133 non-null    object\n",
      " 8   url       133 non-null    object\n",
      " 9   articles  80 non-null     object\n",
      "dtypes: int64(2), object(8)\n",
      "memory usage: 11.4+ KB\n"
     ]
    }
   ],
   "source": [
    "df_news.info()"
   ]
  },
  {
   "cell_type": "code",
   "execution_count": 80,
   "id": "81341502-05d1-430a-882e-d714a3907547",
   "metadata": {
    "tags": []
   },
   "outputs": [],
   "source": [
    "df_news.rename(columns={'datetime':'date'}, inplace=True)"
   ]
  },
  {
   "cell_type": "code",
   "execution_count": 81,
   "id": "9a2a2430-e40a-45b5-bda8-c6bbf2bf468e",
   "metadata": {
    "tags": []
   },
   "outputs": [],
   "source": [
    "# convert unix timestamp to datetime object\n",
    "df_news['date'] = df_news['date'].map(lambda x: timestamp2datetime(x))"
   ]
  },
  {
   "cell_type": "code",
   "execution_count": 82,
   "id": "e01e5ef5-5b6f-4cd1-802f-056bb5cf592c",
   "metadata": {
    "tags": []
   },
   "outputs": [],
   "source": [
    "df_news['date'] = pd.to_datetime(df_news['date'], format='%Y-%m-%d %H:%M:%S')"
   ]
  },
  {
   "cell_type": "code",
   "execution_count": 83,
   "id": "df85ee3d-54a2-4a41-ad80-00ba9da3a733",
   "metadata": {
    "tags": []
   },
   "outputs": [],
   "source": [
    "# we got just 53 missing scraped articles, those will be droped\n",
    "# drop rows with condition on columns. we're droping only row by index for every Null value on TEXT column.\n",
    "df_news.drop(df_news.loc[(df_news[\"articles\"].isna())].index, inplace=True)"
   ]
  },
  {
   "cell_type": "code",
   "execution_count": 87,
   "id": "ed4f5a54-d1c3-4d1c-8a72-d9131aa82ab4",
   "metadata": {
    "tags": []
   },
   "outputs": [],
   "source": [
    "df_news['word_count'] = df_news['articles'].apply(lambda x: len(x.split()) if type(x)!=float else x)"
   ]
  },
  {
   "cell_type": "code",
   "execution_count": 89,
   "id": "4ab68e6c-8be4-4d59-8662-ed77886b5fa6",
   "metadata": {
    "tags": []
   },
   "outputs": [],
   "source": [
    "# drop only rows with 0 count\n",
    "df_news.drop(df_news[(df_news['word_count']==0)].index, inplace=True)"
   ]
  },
  {
   "cell_type": "code",
   "execution_count": 91,
   "id": "e800a3d8-beca-4c39-97a5-1c67caf50b23",
   "metadata": {},
   "outputs": [
    {
     "data": {
      "text/html": [
       "<div>\n",
       "<style scoped>\n",
       "    .dataframe tbody tr th:only-of-type {\n",
       "        vertical-align: middle;\n",
       "    }\n",
       "\n",
       "    .dataframe tbody tr th {\n",
       "        vertical-align: top;\n",
       "    }\n",
       "\n",
       "    .dataframe thead th {\n",
       "        text-align: right;\n",
       "    }\n",
       "</style>\n",
       "<table border=\"1\" class=\"dataframe\">\n",
       "  <thead>\n",
       "    <tr style=\"text-align: right;\">\n",
       "      <th></th>\n",
       "      <th>category</th>\n",
       "      <th>date</th>\n",
       "      <th>headline</th>\n",
       "      <th>id</th>\n",
       "      <th>image</th>\n",
       "      <th>related</th>\n",
       "      <th>source</th>\n",
       "      <th>summary</th>\n",
       "      <th>url</th>\n",
       "      <th>articles</th>\n",
       "      <th>word_count</th>\n",
       "    </tr>\n",
       "  </thead>\n",
       "  <tbody>\n",
       "    <tr>\n",
       "      <th>0</th>\n",
       "      <td>company</td>\n",
       "      <td>2021-06-07 19:54:39</td>\n",
       "      <td>Apple's new 'private relay' feature will not b...</td>\n",
       "      <td>68011194</td>\n",
       "      <td>NaN</td>\n",
       "      <td>AAPL</td>\n",
       "      <td>Reuters</td>\n",
       "      <td>Apple Inc on Monday said a new \"private relay\"...</td>\n",
       "      <td>https://finnhub.io/api/news?id=b5c3de85e4357a4...</td>\n",
       "      <td>Discover Thomson Reuters By Stephen Nellis, Pa...</td>\n",
       "      <td>474</td>\n",
       "    </tr>\n",
       "    <tr>\n",
       "      <th>1</th>\n",
       "      <td>company</td>\n",
       "      <td>2021-06-07 19:09:35</td>\n",
       "      <td>Apple's new privacy feature, designed to mask ...</td>\n",
       "      <td>68032499</td>\n",
       "      <td>https://image.cnbcfm.com/api/v1/image/10658790...</td>\n",
       "      <td>AAPL</td>\n",
       "      <td>CNBC</td>\n",
       "      <td>Apple's new \"Private Relay\" online browsing fe...</td>\n",
       "      <td>https://finnhub.io/api/news?id=38d729b552df4d1...</td>\n",
       "      <td>In this article GUANGZHOU, China — Apple's ne...</td>\n",
       "      <td>325</td>\n",
       "    </tr>\n",
       "    <tr>\n",
       "      <th>2</th>\n",
       "      <td>company</td>\n",
       "      <td>2021-06-07 16:55:51</td>\n",
       "      <td>Apple adds virtual IDs on iPhone, video plans ...</td>\n",
       "      <td>68011199</td>\n",
       "      <td>https://static.reuters.com/resources/r/?m=02&amp;d...</td>\n",
       "      <td>AAPL</td>\n",
       "      <td>Reuters</td>\n",
       "      <td>Apple Inc, facing accusations from rivals that...</td>\n",
       "      <td>https://finnhub.io/api/news?id=e6293a6b98321c7...</td>\n",
       "      <td>Apple CEO Tim Cook greets developers during Ap...</td>\n",
       "      <td>840</td>\n",
       "    </tr>\n",
       "    <tr>\n",
       "      <th>3</th>\n",
       "      <td>company</td>\n",
       "      <td>2021-06-07 16:55:51</td>\n",
       "      <td>Factbox: Top takeaways from Apple's Developers...</td>\n",
       "      <td>68011182</td>\n",
       "      <td>https://static.reuters.com/resources/r/?m=02&amp;d...</td>\n",
       "      <td>AAPL</td>\n",
       "      <td>Reuters</td>\n",
       "      <td>Apple Inc on Monday announced a host of new fe...</td>\n",
       "      <td>https://finnhub.io/api/news?id=b0c1f554acc6bb1...</td>\n",
       "      <td>Apple Inc (AAPL.O) on Monday announced a host ...</td>\n",
       "      <td>735</td>\n",
       "    </tr>\n",
       "    <tr>\n",
       "      <th>4</th>\n",
       "      <td>company</td>\n",
       "      <td>2021-06-07 14:52:59</td>\n",
       "      <td>Apple is turning privacy into a business advan...</td>\n",
       "      <td>68005525</td>\n",
       "      <td>https://image.cnbcfm.com/api/v1/image/10689338...</td>\n",
       "      <td>AAPL</td>\n",
       "      <td>CNBC</td>\n",
       "      <td>Privacy was mentioned as part of nearly every ...</td>\n",
       "      <td>https://finnhub.io/api/news?id=51f9e806092681a...</td>\n",
       "      <td>In this article Apple unveiled new versions o...</td>\n",
       "      <td>587</td>\n",
       "    </tr>\n",
       "  </tbody>\n",
       "</table>\n",
       "</div>"
      ],
      "text/plain": [
       "  category                date  \\\n",
       "0  company 2021-06-07 19:54:39   \n",
       "1  company 2021-06-07 19:09:35   \n",
       "2  company 2021-06-07 16:55:51   \n",
       "3  company 2021-06-07 16:55:51   \n",
       "4  company 2021-06-07 14:52:59   \n",
       "\n",
       "                                            headline        id  \\\n",
       "0  Apple's new 'private relay' feature will not b...  68011194   \n",
       "1  Apple's new privacy feature, designed to mask ...  68032499   \n",
       "2  Apple adds virtual IDs on iPhone, video plans ...  68011199   \n",
       "3  Factbox: Top takeaways from Apple's Developers...  68011182   \n",
       "4  Apple is turning privacy into a business advan...  68005525   \n",
       "\n",
       "                                               image related   source  \\\n",
       "0                                                NaN    AAPL  Reuters   \n",
       "1  https://image.cnbcfm.com/api/v1/image/10658790...    AAPL     CNBC   \n",
       "2  https://static.reuters.com/resources/r/?m=02&d...    AAPL  Reuters   \n",
       "3  https://static.reuters.com/resources/r/?m=02&d...    AAPL  Reuters   \n",
       "4  https://image.cnbcfm.com/api/v1/image/10689338...    AAPL     CNBC   \n",
       "\n",
       "                                             summary  \\\n",
       "0  Apple Inc on Monday said a new \"private relay\"...   \n",
       "1  Apple's new \"Private Relay\" online browsing fe...   \n",
       "2  Apple Inc, facing accusations from rivals that...   \n",
       "3  Apple Inc on Monday announced a host of new fe...   \n",
       "4  Privacy was mentioned as part of nearly every ...   \n",
       "\n",
       "                                                 url  \\\n",
       "0  https://finnhub.io/api/news?id=b5c3de85e4357a4...   \n",
       "1  https://finnhub.io/api/news?id=38d729b552df4d1...   \n",
       "2  https://finnhub.io/api/news?id=e6293a6b98321c7...   \n",
       "3  https://finnhub.io/api/news?id=b0c1f554acc6bb1...   \n",
       "4  https://finnhub.io/api/news?id=51f9e806092681a...   \n",
       "\n",
       "                                            articles  word_count  \n",
       "0  Discover Thomson Reuters By Stephen Nellis, Pa...         474  \n",
       "1   In this article GUANGZHOU, China — Apple's ne...         325  \n",
       "2  Apple CEO Tim Cook greets developers during Ap...         840  \n",
       "3  Apple Inc (AAPL.O) on Monday announced a host ...         735  \n",
       "4   In this article Apple unveiled new versions o...         587  "
      ]
     },
     "execution_count": 91,
     "metadata": {},
     "output_type": "execute_result"
    }
   ],
   "source": [
    "df_news.head()"
   ]
  }
 ],
 "metadata": {
  "kernelspec": {
   "display_name": "Python 3",
   "language": "python",
   "name": "python3"
  },
  "language_info": {
   "codemirror_mode": {
    "name": "ipython",
    "version": 3
   },
   "file_extension": ".py",
   "mimetype": "text/x-python",
   "name": "python",
   "nbconvert_exporter": "python",
   "pygments_lexer": "ipython3",
   "version": "3.9.4"
  }
 },
 "nbformat": 4,
 "nbformat_minor": 5
}
