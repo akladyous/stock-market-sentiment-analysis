{
 "cells": [
  {
   "cell_type": "code",
   "execution_count": 18,
   "id": "discrete-emergency",
   "metadata": {
    "execution": {
     "iopub.execute_input": "2021-05-23T21:48:19.881933Z",
     "iopub.status.busy": "2021-05-23T21:48:19.881572Z",
     "iopub.status.idle": "2021-05-23T21:48:19.888003Z",
     "shell.execute_reply": "2021-05-23T21:48:19.887069Z",
     "shell.execute_reply.started": "2021-05-23T21:48:19.881900Z"
    },
    "tags": []
   },
   "outputs": [],
   "source": [
    "import numpy as np\n",
    "import pandas as pd\n",
    "import matplotlib.pyplot as plt\n",
    "import pickle\n",
    "import json\n",
    "import os\n",
    "from decouple import config\n",
    "from langdetect import detect\n",
    "from lib.datetime_util import timestamp2datetime\n",
    "from lib.finnhub_api import FinnHub_init, Finnhub\n",
    "from lib.project import url2text, polarity_score, text_tonkenize"
   ]
  },
  {
   "cell_type": "code",
   "execution_count": 28,
   "id": "another-distance",
   "metadata": {
    "execution": {
     "iopub.execute_input": "2021-05-23T22:00:46.244432Z",
     "iopub.status.busy": "2021-05-23T22:00:46.244088Z",
     "iopub.status.idle": "2021-05-23T22:00:46.248932Z",
     "shell.execute_reply": "2021-05-23T22:00:46.247280Z",
     "shell.execute_reply.started": "2021-05-23T22:00:46.244400Z"
    }
   },
   "outputs": [],
   "source": []
  },
  {
   "cell_type": "code",
   "execution_count": 702,
   "id": "rubber-andrews",
   "metadata": {
    "execution": {
     "iopub.execute_input": "2021-05-22T01:57:58.353086Z",
     "iopub.status.busy": "2021-05-22T01:57:58.352755Z",
     "iopub.status.idle": "2021-05-22T01:57:58.360030Z",
     "shell.execute_reply": "2021-05-22T01:57:58.359260Z",
     "shell.execute_reply.started": "2021-05-22T01:57:58.353054Z"
    },
    "tags": []
   },
   "outputs": [],
   "source": [
    "%run ./lib/project.py"
   ]
  },
  {
   "cell_type": "code",
   "execution_count": 7,
   "id": "emotional-mattress",
   "metadata": {
    "execution": {
     "iopub.execute_input": "2021-05-23T21:41:33.502368Z",
     "iopub.status.busy": "2021-05-23T21:41:33.501689Z",
     "iopub.status.idle": "2021-05-23T21:41:33.511061Z",
     "shell.execute_reply": "2021-05-23T21:41:33.510056Z",
     "shell.execute_reply.started": "2021-05-23T21:41:33.502298Z"
    },
    "tags": []
   },
   "outputs": [],
   "source": [
    "with open ('./finnhub/finnhub_key.pkl', 'rb') as fin:\n",
    "    finnhub_key= pickle.load(fin)\n",
    "    fin.close()"
   ]
  },
  {
   "cell_type": "code",
   "execution_count": 9,
   "id": "quarterly-origin",
   "metadata": {
    "execution": {
     "iopub.execute_input": "2021-05-23T21:45:22.863921Z",
     "iopub.status.busy": "2021-05-23T21:45:22.863444Z",
     "iopub.status.idle": "2021-05-23T21:45:22.870912Z",
     "shell.execute_reply": "2021-05-23T21:45:22.869341Z",
     "shell.execute_reply.started": "2021-05-23T21:45:22.863872Z"
    },
    "tags": []
   },
   "outputs": [],
   "source": [
    "apple = Finnhub(finnhub_key, \"2021-05-03\", \"2021-05-07\", \"AAPL\")"
   ]
  },
  {
   "cell_type": "code",
   "execution_count": 10,
   "id": "collaborative-approval",
   "metadata": {
    "execution": {
     "iopub.execute_input": "2021-05-23T21:45:25.483340Z",
     "iopub.status.busy": "2021-05-23T21:45:25.482872Z",
     "iopub.status.idle": "2021-05-23T21:45:26.356908Z",
     "shell.execute_reply": "2021-05-23T21:45:26.355227Z",
     "shell.execute_reply.started": "2021-05-23T21:45:25.483267Z"
    },
    "tags": []
   },
   "outputs": [],
   "source": [
    "apple_news = apple.company_news()"
   ]
  },
  {
   "cell_type": "code",
   "execution_count": 14,
   "id": "early-adoption",
   "metadata": {
    "execution": {
     "iopub.execute_input": "2021-05-23T21:46:27.852389Z",
     "iopub.status.busy": "2021-05-23T21:46:27.851774Z",
     "iopub.status.idle": "2021-05-23T21:46:27.863323Z",
     "shell.execute_reply": "2021-05-23T21:46:27.862276Z",
     "shell.execute_reply.started": "2021-05-23T21:46:27.852323Z"
    },
    "tags": []
   },
   "outputs": [],
   "source": [
    "apple_finnhub_df = pd.DataFrame(apple_news)"
   ]
  },
  {
   "cell_type": "code",
   "execution_count": 15,
   "id": "available-thriller",
   "metadata": {
    "execution": {
     "iopub.execute_input": "2021-05-23T21:46:28.565767Z",
     "iopub.status.busy": "2021-05-23T21:46:28.565304Z",
     "iopub.status.idle": "2021-05-23T21:46:28.588089Z",
     "shell.execute_reply": "2021-05-23T21:46:28.586591Z",
     "shell.execute_reply.started": "2021-05-23T21:46:28.565719Z"
    },
    "tags": []
   },
   "outputs": [
    {
     "data": {
      "text/html": [
       "<div>\n",
       "<style scoped>\n",
       "    .dataframe tbody tr th:only-of-type {\n",
       "        vertical-align: middle;\n",
       "    }\n",
       "\n",
       "    .dataframe tbody tr th {\n",
       "        vertical-align: top;\n",
       "    }\n",
       "\n",
       "    .dataframe thead th {\n",
       "        text-align: right;\n",
       "    }\n",
       "</style>\n",
       "<table border=\"1\" class=\"dataframe\">\n",
       "  <thead>\n",
       "    <tr style=\"text-align: right;\">\n",
       "      <th></th>\n",
       "      <th>category</th>\n",
       "      <th>datetime</th>\n",
       "      <th>headline</th>\n",
       "      <th>id</th>\n",
       "      <th>image</th>\n",
       "      <th>related</th>\n",
       "      <th>source</th>\n",
       "      <th>summary</th>\n",
       "      <th>url</th>\n",
       "    </tr>\n",
       "  </thead>\n",
       "  <tbody>\n",
       "    <tr>\n",
       "      <th>0</th>\n",
       "      <td>company</td>\n",
       "      <td>1620430108</td>\n",
       "      <td>Epic v. Apple Will Have Ramifications for Big ...</td>\n",
       "      <td>67685543</td>\n",
       "      <td>https://s.yimg.com/hd/cp-video-transcode/prod/...</td>\n",
       "      <td>AAPL</td>\n",
       "      <td>Yahoo</td>\n",
       "      <td>May.07 -- Brookings Institution Visiting Fello...</td>\n",
       "      <td>https://finnhub.io/api/news?id=a05b585f9aa8113...</td>\n",
       "    </tr>\n",
       "    <tr>\n",
       "      <th>1</th>\n",
       "      <td>company</td>\n",
       "      <td>1620430088</td>\n",
       "      <td>The Epic Battle Over Apple's App Store</td>\n",
       "      <td>67685545</td>\n",
       "      <td>https://s.yimg.com/hd/cp-video-transcode/prod/...</td>\n",
       "      <td>AAPL</td>\n",
       "      <td>Yahoo</td>\n",
       "      <td>May.07 -- Epic Games claims that Apple is abus...</td>\n",
       "      <td>https://finnhub.io/api/news?id=8c81f40d85036c5...</td>\n",
       "    </tr>\n",
       "    <tr>\n",
       "      <th>2</th>\n",
       "      <td>company</td>\n",
       "      <td>1620426540</td>\n",
       "      <td>Apple v. Epic: Time is running out for Epic to...</td>\n",
       "      <td>67685548</td>\n",
       "      <td></td>\n",
       "      <td>AAPL</td>\n",
       "      <td>Yahoo</td>\n",
       "      <td>As Epic Games Inc. methodically made its case ...</td>\n",
       "      <td>https://finnhub.io/api/news?id=994d1806d0596ef...</td>\n",
       "    </tr>\n",
       "    <tr>\n",
       "      <th>3</th>\n",
       "      <td>company</td>\n",
       "      <td>1620426370</td>\n",
       "      <td>3 Tech Stocks to Buy Now After Disappointing J...</td>\n",
       "      <td>67678468</td>\n",
       "      <td>https://s.yimg.com/uu/api/res/1.2/PHAQWn.zDysu...</td>\n",
       "      <td>AAPL</td>\n",
       "      <td>Yahoo</td>\n",
       "      <td>Clearly, hiring could rebound in May, but let'...</td>\n",
       "      <td>https://finnhub.io/api/news?id=ff7e5602436ea5b...</td>\n",
       "    </tr>\n",
       "    <tr>\n",
       "      <th>4</th>\n",
       "      <td>company</td>\n",
       "      <td>1620417960</td>\n",
       "      <td>With a $78 Billion Market Cap, Dogecoin Needs ...</td>\n",
       "      <td>67682478</td>\n",
       "      <td>https://images.barrons.com/im-335443/social</td>\n",
       "      <td>AAPL</td>\n",
       "      <td>MarketWatch</td>\n",
       "      <td>The cryptocurrency lacks the mainstream appeal...</td>\n",
       "      <td>https://finnhub.io/api/news?id=eded7686d0fa5c8...</td>\n",
       "    </tr>\n",
       "  </tbody>\n",
       "</table>\n",
       "</div>"
      ],
      "text/plain": [
       "  category    datetime                                           headline  \\\n",
       "0  company  1620430108  Epic v. Apple Will Have Ramifications for Big ...   \n",
       "1  company  1620430088             The Epic Battle Over Apple's App Store   \n",
       "2  company  1620426540  Apple v. Epic: Time is running out for Epic to...   \n",
       "3  company  1620426370  3 Tech Stocks to Buy Now After Disappointing J...   \n",
       "4  company  1620417960  With a $78 Billion Market Cap, Dogecoin Needs ...   \n",
       "\n",
       "         id                                              image related  \\\n",
       "0  67685543  https://s.yimg.com/hd/cp-video-transcode/prod/...    AAPL   \n",
       "1  67685545  https://s.yimg.com/hd/cp-video-transcode/prod/...    AAPL   \n",
       "2  67685548                                                       AAPL   \n",
       "3  67678468  https://s.yimg.com/uu/api/res/1.2/PHAQWn.zDysu...    AAPL   \n",
       "4  67682478        https://images.barrons.com/im-335443/social    AAPL   \n",
       "\n",
       "        source                                            summary  \\\n",
       "0        Yahoo  May.07 -- Brookings Institution Visiting Fello...   \n",
       "1        Yahoo  May.07 -- Epic Games claims that Apple is abus...   \n",
       "2        Yahoo  As Epic Games Inc. methodically made its case ...   \n",
       "3        Yahoo  Clearly, hiring could rebound in May, but let'...   \n",
       "4  MarketWatch  The cryptocurrency lacks the mainstream appeal...   \n",
       "\n",
       "                                                 url  \n",
       "0  https://finnhub.io/api/news?id=a05b585f9aa8113...  \n",
       "1  https://finnhub.io/api/news?id=8c81f40d85036c5...  \n",
       "2  https://finnhub.io/api/news?id=994d1806d0596ef...  \n",
       "3  https://finnhub.io/api/news?id=ff7e5602436ea5b...  \n",
       "4  https://finnhub.io/api/news?id=eded7686d0fa5c8...  "
      ]
     },
     "execution_count": 15,
     "metadata": {},
     "output_type": "execute_result"
    }
   ],
   "source": [
    "apple_finnhub_df.head()"
   ]
  },
  {
   "cell_type": "code",
   "execution_count": 16,
   "id": "interracial-morocco",
   "metadata": {
    "execution": {
     "iopub.execute_input": "2021-05-23T21:47:11.890732Z",
     "iopub.status.busy": "2021-05-23T21:47:11.890369Z",
     "iopub.status.idle": "2021-05-23T21:47:11.914850Z",
     "shell.execute_reply": "2021-05-23T21:47:11.914346Z",
     "shell.execute_reply.started": "2021-05-23T21:47:11.890698Z"
    }
   },
   "outputs": [],
   "source": [
    "apple_finnhub_df.to_csv(\"./data/apple_finnhub_raw_df.csv\")"
   ]
  },
  {
   "cell_type": "code",
   "execution_count": 19,
   "id": "interracial-credit",
   "metadata": {
    "execution": {
     "iopub.execute_input": "2021-05-23T21:48:23.989748Z",
     "iopub.status.busy": "2021-05-23T21:48:23.989385Z",
     "iopub.status.idle": "2021-05-23T21:58:49.371778Z",
     "shell.execute_reply": "2021-05-23T21:58:49.371344Z",
     "shell.execute_reply.started": "2021-05-23T21:48:23.989714Z"
    },
    "tags": []
   },
   "outputs": [
    {
     "name": "stdout",
     "output_type": "stream",
     "text": [
      "500/500 100% https://finnhub.io/api/news?id=7fd339eca187c4c2f3320ebf578fa775f63404ce424818a502a4b559e355e12a\r"
     ]
    }
   ],
   "source": [
    "# please enable Javascript and cookies in your browser\n",
    "articles = url2text(apple_finnhub_df.url.to_list())"
   ]
  },
  {
   "cell_type": "code",
   "execution_count": 20,
   "id": "alternate-width",
   "metadata": {
    "execution": {
     "iopub.execute_input": "2021-05-23T21:59:00.653428Z",
     "iopub.status.busy": "2021-05-23T21:59:00.653104Z",
     "iopub.status.idle": "2021-05-23T21:59:00.675716Z",
     "shell.execute_reply": "2021-05-23T21:59:00.674851Z",
     "shell.execute_reply.started": "2021-05-23T21:59:00.653395Z"
    }
   },
   "outputs": [],
   "source": [
    "with open(\"./data/apple_finnhub_articles.pkl\",\"wb\") as f:\n",
    "    pickle.dump(articles, f)\n",
    "    f.close()"
   ]
  },
  {
   "cell_type": "code",
   "execution_count": 21,
   "id": "banner-manner",
   "metadata": {
    "execution": {
     "iopub.execute_input": "2021-05-23T21:59:03.077072Z",
     "iopub.status.busy": "2021-05-23T21:59:03.076677Z",
     "iopub.status.idle": "2021-05-23T21:59:03.225290Z",
     "shell.execute_reply": "2021-05-23T21:59:03.224903Z",
     "shell.execute_reply.started": "2021-05-23T21:59:03.077032Z"
    },
    "tags": []
   },
   "outputs": [],
   "source": [
    "apple_finnhub_articles_df = pd.Series(articles, name='articles')\n",
    "apple_finnhub_articles_df.to_csv(\"./data/apple_finnhub_articles.csv\")"
   ]
  },
  {
   "cell_type": "code",
   "execution_count": 22,
   "id": "furnished-belief",
   "metadata": {
    "execution": {
     "iopub.execute_input": "2021-05-23T21:59:04.496379Z",
     "iopub.status.busy": "2021-05-23T21:59:04.496013Z",
     "iopub.status.idle": "2021-05-23T21:59:04.506504Z",
     "shell.execute_reply": "2021-05-23T21:59:04.504732Z",
     "shell.execute_reply.started": "2021-05-23T21:59:04.496346Z"
    },
    "tags": []
   },
   "outputs": [
    {
     "data": {
      "text/plain": [
       "0    May.07 -- Brookings Institution Visiting Fello...\n",
       "1    May.07 -- Epic Games claims that Apple is abus...\n",
       "2    As Epic Games Inc. methodically made its case ...\n",
       "3    \\n        Show Ad\\n          The U.S. economy ...\n",
       "4    Dogecoin soared above 69 cents on Wednesday—no...\n",
       "Name: articles, dtype: object"
      ]
     },
     "execution_count": 22,
     "metadata": {},
     "output_type": "execute_result"
    }
   ],
   "source": [
    "apple_finnhub_articles_df[:5]"
   ]
  },
  {
   "cell_type": "code",
   "execution_count": 23,
   "id": "necessary-envelope",
   "metadata": {
    "execution": {
     "iopub.execute_input": "2021-05-23T21:59:14.061014Z",
     "iopub.status.busy": "2021-05-23T21:59:14.060625Z",
     "iopub.status.idle": "2021-05-23T21:59:14.417776Z",
     "shell.execute_reply": "2021-05-23T21:59:14.417347Z",
     "shell.execute_reply.started": "2021-05-23T21:59:14.060975Z"
    },
    "tags": []
   },
   "outputs": [],
   "source": [
    "apple_finnhub_articles_df = text_tonkenize(apple_finnhub_articles_df)"
   ]
  },
  {
   "cell_type": "code",
   "execution_count": 24,
   "id": "demanding-evans",
   "metadata": {
    "execution": {
     "iopub.execute_input": "2021-05-23T21:59:19.973068Z",
     "iopub.status.busy": "2021-05-23T21:59:19.972704Z",
     "iopub.status.idle": "2021-05-23T21:59:37.389625Z",
     "shell.execute_reply": "2021-05-23T21:59:37.389203Z",
     "shell.execute_reply.started": "2021-05-23T21:59:19.973035Z"
    },
    "tags": []
   },
   "outputs": [],
   "source": [
    "apple_finnhub_scores = polarity_score(apple_finnhub_articles_df)"
   ]
  },
  {
   "cell_type": "code",
   "execution_count": 25,
   "id": "reasonable-liver",
   "metadata": {
    "execution": {
     "iopub.execute_input": "2021-05-23T21:59:38.740971Z",
     "iopub.status.busy": "2021-05-23T21:59:38.740129Z",
     "iopub.status.idle": "2021-05-23T21:59:38.767880Z",
     "shell.execute_reply": "2021-05-23T21:59:38.767252Z",
     "shell.execute_reply.started": "2021-05-23T21:59:38.740896Z"
    },
    "tags": []
   },
   "outputs": [
    {
     "data": {
      "text/html": [
       "<div>\n",
       "<style scoped>\n",
       "    .dataframe tbody tr th:only-of-type {\n",
       "        vertical-align: middle;\n",
       "    }\n",
       "\n",
       "    .dataframe tbody tr th {\n",
       "        vertical-align: top;\n",
       "    }\n",
       "\n",
       "    .dataframe thead th {\n",
       "        text-align: right;\n",
       "    }\n",
       "</style>\n",
       "<table border=\"1\" class=\"dataframe\">\n",
       "  <thead>\n",
       "    <tr style=\"text-align: right;\">\n",
       "      <th></th>\n",
       "      <th>text</th>\n",
       "      <th>negative</th>\n",
       "      <th>neutral</th>\n",
       "      <th>positive</th>\n",
       "      <th>compound</th>\n",
       "      <th>sentiment</th>\n",
       "    </tr>\n",
       "  </thead>\n",
       "  <tbody>\n",
       "    <tr>\n",
       "      <th>0</th>\n",
       "      <td>may brookings institution visiting fellow bill...</td>\n",
       "      <td>0.079</td>\n",
       "      <td>0.819</td>\n",
       "      <td>0.101</td>\n",
       "      <td>0.9985</td>\n",
       "      <td>positive</td>\n",
       "    </tr>\n",
       "    <tr>\n",
       "      <th>1</th>\n",
       "      <td>may epic games claims that apple is abusing it...</td>\n",
       "      <td>0.080</td>\n",
       "      <td>0.819</td>\n",
       "      <td>0.102</td>\n",
       "      <td>0.9985</td>\n",
       "      <td>positive</td>\n",
       "    </tr>\n",
       "    <tr>\n",
       "      <th>2</th>\n",
       "      <td>as epic games inc methodically made its case i...</td>\n",
       "      <td>0.079</td>\n",
       "      <td>0.820</td>\n",
       "      <td>0.101</td>\n",
       "      <td>0.9985</td>\n",
       "      <td>positive</td>\n",
       "    </tr>\n",
       "    <tr>\n",
       "      <th>3</th>\n",
       "      <td>show ad the u s economy fell well short of job...</td>\n",
       "      <td>0.067</td>\n",
       "      <td>0.821</td>\n",
       "      <td>0.112</td>\n",
       "      <td>0.9998</td>\n",
       "      <td>positive</td>\n",
       "    </tr>\n",
       "    <tr>\n",
       "      <th>4</th>\n",
       "      <td>dogecoin soared above cents on wednesday not b...</td>\n",
       "      <td>0.054</td>\n",
       "      <td>0.834</td>\n",
       "      <td>0.111</td>\n",
       "      <td>0.9910</td>\n",
       "      <td>positive</td>\n",
       "    </tr>\n",
       "  </tbody>\n",
       "</table>\n",
       "</div>"
      ],
      "text/plain": [
       "                                                text  negative  neutral  \\\n",
       "0  may brookings institution visiting fellow bill...     0.079    0.819   \n",
       "1  may epic games claims that apple is abusing it...     0.080    0.819   \n",
       "2  as epic games inc methodically made its case i...     0.079    0.820   \n",
       "3  show ad the u s economy fell well short of job...     0.067    0.821   \n",
       "4  dogecoin soared above cents on wednesday not b...     0.054    0.834   \n",
       "\n",
       "   positive  compound sentiment  \n",
       "0     0.101    0.9985  positive  \n",
       "1     0.102    0.9985  positive  \n",
       "2     0.101    0.9985  positive  \n",
       "3     0.112    0.9998  positive  \n",
       "4     0.111    0.9910  positive  "
      ]
     },
     "execution_count": 25,
     "metadata": {},
     "output_type": "execute_result"
    }
   ],
   "source": [
    "apple_finnhub_scores.head()"
   ]
  },
  {
   "cell_type": "markdown",
   "id": "indirect-albert",
   "metadata": {},
   "source": [
    "## Data Scrubbing"
   ]
  },
  {
   "cell_type": "code",
   "execution_count": 26,
   "id": "intended-inflation",
   "metadata": {
    "execution": {
     "iopub.execute_input": "2021-05-23T21:59:44.781824Z",
     "iopub.status.busy": "2021-05-23T21:59:44.781393Z",
     "iopub.status.idle": "2021-05-23T21:59:44.794545Z",
     "shell.execute_reply": "2021-05-23T21:59:44.793676Z",
     "shell.execute_reply.started": "2021-05-23T21:59:44.781785Z"
    },
    "tags": []
   },
   "outputs": [],
   "source": [
    "# prepare our data concatenating the 3 main dataframe for scrubbing\n",
    "apple_finnhub_df = pd.concat([apple_finnhub_df, apple_finnhub_scores], axis=1, ignore_index=False, sort=False).reindex()"
   ]
  },
  {
   "cell_type": "code",
   "execution_count": 29,
   "id": "revolutionary-deployment",
   "metadata": {
    "execution": {
     "iopub.execute_input": "2021-05-23T22:00:54.796960Z",
     "iopub.status.busy": "2021-05-23T22:00:54.796326Z",
     "iopub.status.idle": "2021-05-23T22:00:54.810579Z",
     "shell.execute_reply": "2021-05-23T22:00:54.809714Z",
     "shell.execute_reply.started": "2021-05-23T22:00:54.796895Z"
    },
    "tags": []
   },
   "outputs": [],
   "source": [
    "# convert unix timestamp to datetime object\n",
    "apple_finnhub_df['datetime'] = apple_finnhub_df['datetime'].map(lambda x: timestamp2datetime(x))"
   ]
  },
  {
   "cell_type": "code",
   "execution_count": 31,
   "id": "selected-mattress",
   "metadata": {
    "execution": {
     "iopub.execute_input": "2021-05-23T22:01:03.699847Z",
     "iopub.status.busy": "2021-05-23T22:01:03.699189Z",
     "iopub.status.idle": "2021-05-23T22:01:03.726059Z",
     "shell.execute_reply": "2021-05-23T22:01:03.725372Z",
     "shell.execute_reply.started": "2021-05-23T22:01:03.699781Z"
    },
    "tags": []
   },
   "outputs": [
    {
     "data": {
      "text/html": [
       "<div>\n",
       "<style scoped>\n",
       "    .dataframe tbody tr th:only-of-type {\n",
       "        vertical-align: middle;\n",
       "    }\n",
       "\n",
       "    .dataframe tbody tr th {\n",
       "        vertical-align: top;\n",
       "    }\n",
       "\n",
       "    .dataframe thead th {\n",
       "        text-align: right;\n",
       "    }\n",
       "</style>\n",
       "<table border=\"1\" class=\"dataframe\">\n",
       "  <thead>\n",
       "    <tr style=\"text-align: right;\">\n",
       "      <th></th>\n",
       "      <th>category</th>\n",
       "      <th>datetime</th>\n",
       "      <th>headline</th>\n",
       "      <th>id</th>\n",
       "      <th>image</th>\n",
       "      <th>related</th>\n",
       "      <th>source</th>\n",
       "      <th>summary</th>\n",
       "      <th>url</th>\n",
       "      <th>text</th>\n",
       "      <th>negative</th>\n",
       "      <th>neutral</th>\n",
       "      <th>positive</th>\n",
       "      <th>compound</th>\n",
       "      <th>sentiment</th>\n",
       "    </tr>\n",
       "  </thead>\n",
       "  <tbody>\n",
       "    <tr>\n",
       "      <th>0</th>\n",
       "      <td>company</td>\n",
       "      <td>2021-05-07 19:28:28</td>\n",
       "      <td>Epic v. Apple Will Have Ramifications for Big ...</td>\n",
       "      <td>67685543</td>\n",
       "      <td>https://s.yimg.com/hd/cp-video-transcode/prod/...</td>\n",
       "      <td>AAPL</td>\n",
       "      <td>Yahoo</td>\n",
       "      <td>May.07 -- Brookings Institution Visiting Fello...</td>\n",
       "      <td>https://finnhub.io/api/news?id=a05b585f9aa8113...</td>\n",
       "      <td>may brookings institution visiting fellow bill...</td>\n",
       "      <td>0.079</td>\n",
       "      <td>0.819</td>\n",
       "      <td>0.101</td>\n",
       "      <td>0.9985</td>\n",
       "      <td>positive</td>\n",
       "    </tr>\n",
       "    <tr>\n",
       "      <th>1</th>\n",
       "      <td>company</td>\n",
       "      <td>2021-05-07 19:28:08</td>\n",
       "      <td>The Epic Battle Over Apple's App Store</td>\n",
       "      <td>67685545</td>\n",
       "      <td>https://s.yimg.com/hd/cp-video-transcode/prod/...</td>\n",
       "      <td>AAPL</td>\n",
       "      <td>Yahoo</td>\n",
       "      <td>May.07 -- Epic Games claims that Apple is abus...</td>\n",
       "      <td>https://finnhub.io/api/news?id=8c81f40d85036c5...</td>\n",
       "      <td>may epic games claims that apple is abusing it...</td>\n",
       "      <td>0.080</td>\n",
       "      <td>0.819</td>\n",
       "      <td>0.102</td>\n",
       "      <td>0.9985</td>\n",
       "      <td>positive</td>\n",
       "    </tr>\n",
       "    <tr>\n",
       "      <th>2</th>\n",
       "      <td>company</td>\n",
       "      <td>2021-05-07 18:29:00</td>\n",
       "      <td>Apple v. Epic: Time is running out for Epic to...</td>\n",
       "      <td>67685548</td>\n",
       "      <td></td>\n",
       "      <td>AAPL</td>\n",
       "      <td>Yahoo</td>\n",
       "      <td>As Epic Games Inc. methodically made its case ...</td>\n",
       "      <td>https://finnhub.io/api/news?id=994d1806d0596ef...</td>\n",
       "      <td>as epic games inc methodically made its case i...</td>\n",
       "      <td>0.079</td>\n",
       "      <td>0.820</td>\n",
       "      <td>0.101</td>\n",
       "      <td>0.9985</td>\n",
       "      <td>positive</td>\n",
       "    </tr>\n",
       "  </tbody>\n",
       "</table>\n",
       "</div>"
      ],
      "text/plain": [
       "  category             datetime  \\\n",
       "0  company  2021-05-07 19:28:28   \n",
       "1  company  2021-05-07 19:28:08   \n",
       "2  company  2021-05-07 18:29:00   \n",
       "\n",
       "                                            headline        id  \\\n",
       "0  Epic v. Apple Will Have Ramifications for Big ...  67685543   \n",
       "1             The Epic Battle Over Apple's App Store  67685545   \n",
       "2  Apple v. Epic: Time is running out for Epic to...  67685548   \n",
       "\n",
       "                                               image related source  \\\n",
       "0  https://s.yimg.com/hd/cp-video-transcode/prod/...    AAPL  Yahoo   \n",
       "1  https://s.yimg.com/hd/cp-video-transcode/prod/...    AAPL  Yahoo   \n",
       "2                                                       AAPL  Yahoo   \n",
       "\n",
       "                                             summary  \\\n",
       "0  May.07 -- Brookings Institution Visiting Fello...   \n",
       "1  May.07 -- Epic Games claims that Apple is abus...   \n",
       "2  As Epic Games Inc. methodically made its case ...   \n",
       "\n",
       "                                                 url  \\\n",
       "0  https://finnhub.io/api/news?id=a05b585f9aa8113...   \n",
       "1  https://finnhub.io/api/news?id=8c81f40d85036c5...   \n",
       "2  https://finnhub.io/api/news?id=994d1806d0596ef...   \n",
       "\n",
       "                                                text  negative  neutral  \\\n",
       "0  may brookings institution visiting fellow bill...     0.079    0.819   \n",
       "1  may epic games claims that apple is abusing it...     0.080    0.819   \n",
       "2  as epic games inc methodically made its case i...     0.079    0.820   \n",
       "\n",
       "   positive  compound sentiment  \n",
       "0     0.101    0.9985  positive  \n",
       "1     0.102    0.9985  positive  \n",
       "2     0.101    0.9985  positive  "
      ]
     },
     "execution_count": 31,
     "metadata": {},
     "output_type": "execute_result"
    }
   ],
   "source": [
    "apple_finnhub_df.head(3)"
   ]
  },
  {
   "cell_type": "code",
   "execution_count": 37,
   "id": "smooth-grade",
   "metadata": {
    "execution": {
     "iopub.execute_input": "2021-05-23T22:09:06.411087Z",
     "iopub.status.busy": "2021-05-23T22:09:06.410649Z",
     "iopub.status.idle": "2021-05-23T22:09:06.431760Z",
     "shell.execute_reply": "2021-05-23T22:09:06.430507Z",
     "shell.execute_reply.started": "2021-05-23T22:09:06.411049Z"
    },
    "tags": []
   },
   "outputs": [
    {
     "name": "stdout",
     "output_type": "stream",
     "text": [
      "<class 'pandas.core.frame.DataFrame'>\n",
      "RangeIndex: 500 entries, 0 to 499\n",
      "Data columns (total 16 columns):\n",
      " #   Column      Non-Null Count  Dtype  \n",
      "---  ------      --------------  -----  \n",
      " 0   category    500 non-null    object \n",
      " 1   datetime    500 non-null    object \n",
      " 2   headline    500 non-null    object \n",
      " 3   id          500 non-null    int64  \n",
      " 4   image       500 non-null    object \n",
      " 5   related     500 non-null    object \n",
      " 6   source      500 non-null    object \n",
      " 7   summary     500 non-null    object \n",
      " 8   url         500 non-null    object \n",
      " 9   text        474 non-null    object \n",
      " 10  negative    500 non-null    float64\n",
      " 11  neutral     500 non-null    float64\n",
      " 12  positive    500 non-null    float64\n",
      " 13  compound    500 non-null    float64\n",
      " 14  sentiment   474 non-null    object \n",
      " 15  word_count  500 non-null    float64\n",
      "dtypes: float64(5), int64(1), object(10)\n",
      "memory usage: 62.6+ KB\n"
     ]
    }
   ],
   "source": [
    "apple_finnhub_df.info()"
   ]
  },
  {
   "cell_type": "code",
   "execution_count": 73,
   "id": "thousand-lodging",
   "metadata": {
    "execution": {
     "iopub.execute_input": "2021-05-23T22:27:21.502468Z",
     "iopub.status.busy": "2021-05-23T22:27:21.502007Z",
     "iopub.status.idle": "2021-05-23T22:27:21.509712Z",
     "shell.execute_reply": "2021-05-23T22:27:21.508733Z",
     "shell.execute_reply.started": "2021-05-23T22:27:21.502418Z"
    },
    "tags": []
   },
   "outputs": [],
   "source": [
    "# we got just 27 missing scraped articles, those will be droped\n",
    "# drop rows with condition on columns. we're droping only row by index for every Null value on TEXT column.\n",
    "apple_finnhub_df.drop(apple_finnhub_df.loc[(apple_finnhub_df[\"text\"].isna())].index, inplace=True)"
   ]
  },
  {
   "cell_type": "code",
   "execution_count": 35,
   "id": "illegal-plane",
   "metadata": {
    "execution": {
     "iopub.execute_input": "2021-05-23T22:06:02.913822Z",
     "iopub.status.busy": "2021-05-23T22:06:02.913170Z",
     "iopub.status.idle": "2021-05-23T22:06:02.987157Z",
     "shell.execute_reply": "2021-05-23T22:06:02.986686Z",
     "shell.execute_reply.started": "2021-05-23T22:06:02.913756Z"
    },
    "tags": []
   },
   "outputs": [],
   "source": [
    "apple_finnhub_df['word_count'] = apple_finnhub_df['text'].apply(lambda x: len(x.split()) if type(x)!=float else x)"
   ]
  },
  {
   "cell_type": "code",
   "execution_count": 76,
   "id": "ordered-tourism",
   "metadata": {
    "execution": {
     "iopub.execute_input": "2021-05-23T22:29:03.020088Z",
     "iopub.status.busy": "2021-05-23T22:29:03.019583Z",
     "iopub.status.idle": "2021-05-23T22:29:03.030719Z",
     "shell.execute_reply": "2021-05-23T22:29:03.029635Z",
     "shell.execute_reply.started": "2021-05-23T22:29:03.020048Z"
    },
    "tags": []
   },
   "outputs": [],
   "source": [
    "# drop only rows with 0 count\n",
    "apple_finnhub_df.drop(apple_finnhub_df[(apple_finnhub_df['word_count']==0)].index, inplace=True)"
   ]
  },
  {
   "cell_type": "code",
   "execution_count": 81,
   "id": "collect-vehicle",
   "metadata": {
    "execution": {
     "iopub.execute_input": "2021-05-23T22:33:23.670560Z",
     "iopub.status.busy": "2021-05-23T22:33:23.669943Z",
     "iopub.status.idle": "2021-05-23T22:33:23.805703Z",
     "shell.execute_reply": "2021-05-23T22:33:23.805374Z",
     "shell.execute_reply.started": "2021-05-23T22:33:23.670495Z"
    },
    "tags": []
   },
   "outputs": [],
   "source": [
    "apple_finnhub_df.to_csv(\"./data/apple_finnhub_df.csv\")"
   ]
  },
  {
   "cell_type": "markdown",
   "id": "pharmaceutical-implementation",
   "metadata": {},
   "source": [
    "## Stock Market TimeSeries"
   ]
  },
  {
   "cell_type": "code",
   "execution_count": 776,
   "id": "vocal-cigarette",
   "metadata": {
    "execution": {
     "iopub.execute_input": "2021-05-22T02:37:48.161927Z",
     "iopub.status.busy": "2021-05-22T02:37:48.161565Z",
     "iopub.status.idle": "2021-05-22T02:37:53.557006Z",
     "shell.execute_reply": "2021-05-22T02:37:53.555785Z",
     "shell.execute_reply.started": "2021-05-22T02:37:48.161893Z"
    },
    "tags": []
   },
   "outputs": [],
   "source": [
    "apple_hist = apple.stock_candles(\"60\")"
   ]
  },
  {
   "cell_type": "code",
   "execution_count": 21,
   "id": "requested-rebel",
   "metadata": {
    "execution": {
     "iopub.execute_input": "2021-05-21T15:32:30.953740Z",
     "iopub.status.busy": "2021-05-21T15:32:30.953121Z",
     "iopub.status.idle": "2021-05-21T15:32:30.958813Z",
     "shell.execute_reply": "2021-05-21T15:32:30.957869Z",
     "shell.execute_reply.started": "2021-05-21T15:32:30.953674Z"
    }
   },
   "outputs": [],
   "source": [
    "hist_cols = ['close', 'high', 'low', 'open', 'status','timestamp', 'volume']"
   ]
  },
  {
   "cell_type": "code",
   "execution_count": 50,
   "id": "responsible-michigan",
   "metadata": {
    "execution": {
     "iopub.execute_input": "2021-05-21T15:43:16.007205Z",
     "iopub.status.busy": "2021-05-21T15:43:16.006844Z",
     "iopub.status.idle": "2021-05-21T15:43:16.031483Z",
     "shell.execute_reply": "2021-05-21T15:43:16.030216Z",
     "shell.execute_reply.started": "2021-05-21T15:43:16.007172Z"
    },
    "tags": []
   },
   "outputs": [
    {
     "data": {
      "text/html": [
       "<div>\n",
       "<style scoped>\n",
       "    .dataframe tbody tr th:only-of-type {\n",
       "        vertical-align: middle;\n",
       "    }\n",
       "\n",
       "    .dataframe tbody tr th {\n",
       "        vertical-align: top;\n",
       "    }\n",
       "\n",
       "    .dataframe thead th {\n",
       "        text-align: right;\n",
       "    }\n",
       "</style>\n",
       "<table border=\"1\" class=\"dataframe\">\n",
       "  <thead>\n",
       "    <tr style=\"text-align: right;\">\n",
       "      <th></th>\n",
       "      <th>close</th>\n",
       "      <th>high</th>\n",
       "      <th>low</th>\n",
       "      <th>open</th>\n",
       "      <th>status</th>\n",
       "      <th>timestamp</th>\n",
       "      <th>volume</th>\n",
       "    </tr>\n",
       "  </thead>\n",
       "  <tbody>\n",
       "    <tr>\n",
       "      <th>0</th>\n",
       "      <td>131.86</td>\n",
       "      <td>132.300</td>\n",
       "      <td>131.75</td>\n",
       "      <td>131.900</td>\n",
       "      <td>ok</td>\n",
       "      <td>1620028800</td>\n",
       "      <td>65074</td>\n",
       "    </tr>\n",
       "    <tr>\n",
       "      <th>1</th>\n",
       "      <td>131.67</td>\n",
       "      <td>132.130</td>\n",
       "      <td>131.67</td>\n",
       "      <td>131.680</td>\n",
       "      <td>ok</td>\n",
       "      <td>1620036000</td>\n",
       "      <td>33445</td>\n",
       "    </tr>\n",
       "    <tr>\n",
       "      <th>2</th>\n",
       "      <td>132.04</td>\n",
       "      <td>132.230</td>\n",
       "      <td>131.66</td>\n",
       "      <td>131.740</td>\n",
       "      <td>ok</td>\n",
       "      <td>1620039600</td>\n",
       "      <td>237596</td>\n",
       "    </tr>\n",
       "    <tr>\n",
       "      <th>3</th>\n",
       "      <td>132.15</td>\n",
       "      <td>132.190</td>\n",
       "      <td>131.98</td>\n",
       "      <td>132.039</td>\n",
       "      <td>ok</td>\n",
       "      <td>1620043200</td>\n",
       "      <td>471064</td>\n",
       "    </tr>\n",
       "    <tr>\n",
       "      <th>4</th>\n",
       "      <td>133.21</td>\n",
       "      <td>133.355</td>\n",
       "      <td>131.83</td>\n",
       "      <td>132.130</td>\n",
       "      <td>ok</td>\n",
       "      <td>1620046800</td>\n",
       "      <td>11410327</td>\n",
       "    </tr>\n",
       "  </tbody>\n",
       "</table>\n",
       "</div>"
      ],
      "text/plain": [
       "    close     high     low     open status   timestamp    volume\n",
       "0  131.86  132.300  131.75  131.900     ok  1620028800     65074\n",
       "1  131.67  132.130  131.67  131.680     ok  1620036000     33445\n",
       "2  132.04  132.230  131.66  131.740     ok  1620039600    237596\n",
       "3  132.15  132.190  131.98  132.039     ok  1620043200    471064\n",
       "4  133.21  133.355  131.83  132.130     ok  1620046800  11410327"
      ]
     },
     "execution_count": 50,
     "metadata": {},
     "output_type": "execute_result"
    }
   ],
   "source": [
    "apple_hist_df = pd.DataFrame(apple_hist)\n",
    "apple_hist_df.columns = hist_cols\n",
    "apple_hist_df.head()"
   ]
  },
  {
   "cell_type": "code",
   "execution_count": null,
   "id": "obvious-township",
   "metadata": {},
   "outputs": [],
   "source": []
  }
 ],
 "metadata": {
  "kernelspec": {
   "display_name": "Python 3",
   "language": "python",
   "name": "python3"
  },
  "language_info": {
   "codemirror_mode": {
    "name": "ipython",
    "version": 3
   },
   "file_extension": ".py",
   "mimetype": "text/x-python",
   "name": "python",
   "nbconvert_exporter": "python",
   "pygments_lexer": "ipython3",
   "version": "3.8.8"
  }
 },
 "nbformat": 4,
 "nbformat_minor": 5
}
