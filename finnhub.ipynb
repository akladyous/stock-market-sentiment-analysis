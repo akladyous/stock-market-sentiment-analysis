{
 "cells": [
  {
   "cell_type": "code",
   "execution_count": 1,
   "id": "living-stockholm",
   "metadata": {
    "execution": {
     "iopub.execute_input": "2021-05-29T20:16:06.006768Z",
     "iopub.status.busy": "2021-05-29T20:16:06.005946Z",
     "iopub.status.idle": "2021-05-29T20:16:07.816909Z",
     "shell.execute_reply": "2021-05-29T20:16:07.815864Z",
     "shell.execute_reply.started": "2021-05-29T20:16:06.006584Z"
    },
    "tags": []
   },
   "outputs": [],
   "source": [
    "run __init__.py"
   ]
  },
  {
   "cell_type": "code",
   "execution_count": 22,
   "id": "norwegian-voice",
   "metadata": {
    "execution": {
     "iopub.execute_input": "2021-05-30T03:31:59.320538Z",
     "iopub.status.busy": "2021-05-30T03:31:59.320159Z",
     "iopub.status.idle": "2021-05-30T03:31:59.329411Z",
     "shell.execute_reply": "2021-05-30T03:31:59.327742Z",
     "shell.execute_reply.started": "2021-05-30T03:31:59.320504Z"
    },
    "tags": []
   },
   "outputs": [],
   "source": [
    "import numpy as np\n",
    "import pandas as pd\n",
    "import matplotlib.pyplot as plt\n",
    "import pickle\n",
    "import json\n",
    "import os\n",
    "from decouple import config\n",
    "from langdetect import detect\n",
    "from datetime_util import timestamp2datetime\n",
    "from finnhub_api import FinnHub_init, Finnhub\n",
    "from project import polarity_score, text_tonkenize\n",
    "from scrapy import Scrapy"
   ]
  },
  {
   "cell_type": "code",
   "execution_count": 23,
   "id": "regulation-solomon",
   "metadata": {
    "execution": {
     "iopub.execute_input": "2021-05-30T03:32:57.274646Z",
     "iopub.status.busy": "2021-05-30T03:32:57.273991Z",
     "iopub.status.idle": "2021-05-30T03:32:57.282866Z",
     "shell.execute_reply": "2021-05-30T03:32:57.281757Z",
     "shell.execute_reply.started": "2021-05-30T03:32:57.274576Z"
    },
    "tags": []
   },
   "outputs": [],
   "source": [
    "with open ('./finnhub/finnhub_key.pkl', 'rb') as fin:\n",
    "    finnhub_key= pickle.load(fin)\n",
    "    fin.close()"
   ]
  },
  {
   "cell_type": "code",
   "execution_count": 36,
   "id": "banned-utilization",
   "metadata": {
    "execution": {
     "iopub.execute_input": "2021-05-30T03:38:08.240206Z",
     "iopub.status.busy": "2021-05-30T03:38:08.239858Z",
     "iopub.status.idle": "2021-05-30T03:38:08.246758Z",
     "shell.execute_reply": "2021-05-30T03:38:08.245509Z",
     "shell.execute_reply.started": "2021-05-30T03:38:08.240172Z"
    },
    "tags": []
   },
   "outputs": [],
   "source": [
    "apple = Finnhub(finnhub_key, \"2021-05-07\", \"2021-05-07\", \"AAPL\")"
   ]
  },
  {
   "cell_type": "code",
   "execution_count": 37,
   "id": "present-wealth",
   "metadata": {
    "execution": {
     "iopub.execute_input": "2021-05-30T03:38:08.705374Z",
     "iopub.status.busy": "2021-05-30T03:38:08.704748Z",
     "iopub.status.idle": "2021-05-30T03:38:09.033350Z",
     "shell.execute_reply": "2021-05-30T03:38:09.032306Z",
     "shell.execute_reply.started": "2021-05-30T03:38:08.705305Z"
    },
    "tags": []
   },
   "outputs": [],
   "source": [
    "apple_news = apple.company_news()"
   ]
  },
  {
   "cell_type": "code",
   "execution_count": 85,
   "id": "earlier-stomach",
   "metadata": {
    "execution": {
     "iopub.execute_input": "2021-05-30T04:11:56.393314Z",
     "iopub.status.busy": "2021-05-30T04:11:56.392719Z",
     "iopub.status.idle": "2021-05-30T04:11:56.402087Z",
     "shell.execute_reply": "2021-05-30T04:11:56.401125Z",
     "shell.execute_reply.started": "2021-05-30T04:11:56.393248Z"
    },
    "tags": []
   },
   "outputs": [],
   "source": [
    "apple_finnhub_df = pd.DataFrame(apple_news)"
   ]
  },
  {
   "cell_type": "code",
   "execution_count": 68,
   "id": "hybrid-forward",
   "metadata": {
    "execution": {
     "iopub.execute_input": "2021-05-30T04:02:34.777073Z",
     "iopub.status.busy": "2021-05-30T04:02:34.776446Z",
     "iopub.status.idle": "2021-05-30T04:02:34.796680Z",
     "shell.execute_reply": "2021-05-30T04:02:34.795928Z",
     "shell.execute_reply.started": "2021-05-30T04:02:34.777006Z"
    },
    "tags": []
   },
   "outputs": [
    {
     "data": {
      "text/html": [
       "<div>\n",
       "<style scoped>\n",
       "    .dataframe tbody tr th:only-of-type {\n",
       "        vertical-align: middle;\n",
       "    }\n",
       "\n",
       "    .dataframe tbody tr th {\n",
       "        vertical-align: top;\n",
       "    }\n",
       "\n",
       "    .dataframe thead th {\n",
       "        text-align: right;\n",
       "    }\n",
       "</style>\n",
       "<table border=\"1\" class=\"dataframe\">\n",
       "  <thead>\n",
       "    <tr style=\"text-align: right;\">\n",
       "      <th></th>\n",
       "      <th>category</th>\n",
       "      <th>datetime</th>\n",
       "      <th>headline</th>\n",
       "      <th>id</th>\n",
       "      <th>image</th>\n",
       "      <th>related</th>\n",
       "      <th>source</th>\n",
       "      <th>summary</th>\n",
       "      <th>url</th>\n",
       "    </tr>\n",
       "  </thead>\n",
       "  <tbody>\n",
       "    <tr>\n",
       "      <th>0</th>\n",
       "      <td>company</td>\n",
       "      <td>1620430108</td>\n",
       "      <td>Epic v. Apple Will Have Ramifications for Big ...</td>\n",
       "      <td>67685543</td>\n",
       "      <td>https://s.yimg.com/hd/cp-video-transcode/prod/...</td>\n",
       "      <td>AAPL</td>\n",
       "      <td>Yahoo</td>\n",
       "      <td>May.07 -- Brookings Institution Visiting Fello...</td>\n",
       "      <td>https://finnhub.io/api/news?id=a05b585f9aa8113...</td>\n",
       "    </tr>\n",
       "    <tr>\n",
       "      <th>1</th>\n",
       "      <td>company</td>\n",
       "      <td>1620430088</td>\n",
       "      <td>The Epic Battle Over Apple's App Store</td>\n",
       "      <td>67685545</td>\n",
       "      <td>https://s.yimg.com/hd/cp-video-transcode/prod/...</td>\n",
       "      <td>AAPL</td>\n",
       "      <td>Yahoo</td>\n",
       "      <td>May.07 -- Epic Games claims that Apple is abus...</td>\n",
       "      <td>https://finnhub.io/api/news?id=8c81f40d85036c5...</td>\n",
       "    </tr>\n",
       "    <tr>\n",
       "      <th>2</th>\n",
       "      <td>company</td>\n",
       "      <td>1620426540</td>\n",
       "      <td>Apple v. Epic: Time is running out for Epic to...</td>\n",
       "      <td>67685548</td>\n",
       "      <td></td>\n",
       "      <td>AAPL</td>\n",
       "      <td>Yahoo</td>\n",
       "      <td>As Epic Games Inc. methodically made its case ...</td>\n",
       "      <td>https://finnhub.io/api/news?id=994d1806d0596ef...</td>\n",
       "    </tr>\n",
       "  </tbody>\n",
       "</table>\n",
       "</div>"
      ],
      "text/plain": [
       "  category    datetime                                           headline  \\\n",
       "0  company  1620430108  Epic v. Apple Will Have Ramifications for Big ...   \n",
       "1  company  1620430088             The Epic Battle Over Apple's App Store   \n",
       "2  company  1620426540  Apple v. Epic: Time is running out for Epic to...   \n",
       "\n",
       "         id                                              image related source  \\\n",
       "0  67685543  https://s.yimg.com/hd/cp-video-transcode/prod/...    AAPL  Yahoo   \n",
       "1  67685545  https://s.yimg.com/hd/cp-video-transcode/prod/...    AAPL  Yahoo   \n",
       "2  67685548                                                       AAPL  Yahoo   \n",
       "\n",
       "                                             summary  \\\n",
       "0  May.07 -- Brookings Institution Visiting Fello...   \n",
       "1  May.07 -- Epic Games claims that Apple is abus...   \n",
       "2  As Epic Games Inc. methodically made its case ...   \n",
       "\n",
       "                                                 url  \n",
       "0  https://finnhub.io/api/news?id=a05b585f9aa8113...  \n",
       "1  https://finnhub.io/api/news?id=8c81f40d85036c5...  \n",
       "2  https://finnhub.io/api/news?id=994d1806d0596ef...  "
      ]
     },
     "execution_count": 68,
     "metadata": {},
     "output_type": "execute_result"
    }
   ],
   "source": [
    "apple_finnhub_df.head(3)"
   ]
  },
  {
   "cell_type": "code",
   "execution_count": 40,
   "id": "ancient-hormone",
   "metadata": {
    "execution": {
     "iopub.execute_input": "2021-05-30T03:38:12.726137Z",
     "iopub.status.busy": "2021-05-30T03:38:12.725392Z",
     "iopub.status.idle": "2021-05-30T03:38:12.730220Z",
     "shell.execute_reply": "2021-05-30T03:38:12.729019Z",
     "shell.execute_reply.started": "2021-05-30T03:38:12.726060Z"
    },
    "tags": []
   },
   "outputs": [],
   "source": [
    "scrap = Scrapy()"
   ]
  },
  {
   "cell_type": "code",
   "execution_count": 41,
   "id": "indian-train",
   "metadata": {
    "execution": {
     "iopub.execute_input": "2021-05-30T03:38:13.192122Z",
     "iopub.status.busy": "2021-05-30T03:38:13.191586Z",
     "iopub.status.idle": "2021-05-30T03:47:45.126651Z",
     "shell.execute_reply": "2021-05-30T03:47:45.126325Z",
     "shell.execute_reply.started": "2021-05-30T03:38:13.192073Z"
    },
    "tags": []
   },
   "outputs": [
    {
     "name": "stdout",
     "output_type": "stream",
     "text": [
      "91/91 99% https://finnhub.io/api/news?id=cc27456ee0e323ec46d428c16310dcd5003d757ae0244e71507c0e41c846c62d\r"
     ]
    }
   ],
   "source": [
    "articles = scrap.scrap(apple_finnhub_df.url.to_list())"
   ]
  },
  {
   "cell_type": "code",
   "execution_count": 42,
   "id": "quality-ethnic",
   "metadata": {
    "execution": {
     "iopub.execute_input": "2021-05-30T03:49:01.953779Z",
     "iopub.status.busy": "2021-05-30T03:49:01.953149Z",
     "iopub.status.idle": "2021-05-30T03:49:01.961335Z",
     "shell.execute_reply": "2021-05-30T03:49:01.959457Z",
     "shell.execute_reply.started": "2021-05-30T03:49:01.953712Z"
    },
    "tags": []
   },
   "outputs": [],
   "source": [
    "apple_finnhub_articles_df = pd.Series(articles, name='articles')"
   ]
  },
  {
   "cell_type": "code",
   "execution_count": 43,
   "id": "comprehensive-celebrity",
   "metadata": {
    "execution": {
     "iopub.execute_input": "2021-05-30T03:49:02.382769Z",
     "iopub.status.busy": "2021-05-30T03:49:02.382378Z",
     "iopub.status.idle": "2021-05-30T03:49:02.402426Z",
     "shell.execute_reply": "2021-05-30T03:49:02.401413Z",
     "shell.execute_reply.started": "2021-05-30T03:49:02.382735Z"
    },
    "tags": []
   },
   "outputs": [
    {
     "data": {
      "text/plain": [
       "0    [May.07 -- Brookings Institution Visiting Fell...\n",
       "1    [(8, https://finnhub.io/api/news?id=01f0222ef7...\n",
       "Name: articles, dtype: object"
      ]
     },
     "execution_count": 43,
     "metadata": {},
     "output_type": "execute_result"
    }
   ],
   "source": [
    "apple_finnhub_articles_df[:5]"
   ]
  },
  {
   "cell_type": "code",
   "execution_count": 23,
   "id": "inappropriate-probability",
   "metadata": {
    "execution": {
     "iopub.execute_input": "2021-05-23T21:59:14.061014Z",
     "iopub.status.busy": "2021-05-23T21:59:14.060625Z",
     "iopub.status.idle": "2021-05-23T21:59:14.417776Z",
     "shell.execute_reply": "2021-05-23T21:59:14.417347Z",
     "shell.execute_reply.started": "2021-05-23T21:59:14.060975Z"
    },
    "tags": []
   },
   "outputs": [],
   "source": [
    "apple_finnhub_articles_df = text_tonkenize(apple_finnhub_articles_df)"
   ]
  },
  {
   "cell_type": "code",
   "execution_count": 24,
   "id": "nonprofit-concentration",
   "metadata": {
    "execution": {
     "iopub.execute_input": "2021-05-23T21:59:19.973068Z",
     "iopub.status.busy": "2021-05-23T21:59:19.972704Z",
     "iopub.status.idle": "2021-05-23T21:59:37.389625Z",
     "shell.execute_reply": "2021-05-23T21:59:37.389203Z",
     "shell.execute_reply.started": "2021-05-23T21:59:19.973035Z"
    },
    "tags": []
   },
   "outputs": [],
   "source": [
    "apple_finnhub_scores = polarity_score(apple_finnhub_articles_df)"
   ]
  },
  {
   "cell_type": "code",
   "execution_count": 25,
   "id": "empirical-pepper",
   "metadata": {
    "execution": {
     "iopub.execute_input": "2021-05-23T21:59:38.740971Z",
     "iopub.status.busy": "2021-05-23T21:59:38.740129Z",
     "iopub.status.idle": "2021-05-23T21:59:38.767880Z",
     "shell.execute_reply": "2021-05-23T21:59:38.767252Z",
     "shell.execute_reply.started": "2021-05-23T21:59:38.740896Z"
    },
    "tags": []
   },
   "outputs": [
    {
     "data": {
      "text/html": [
       "<div>\n",
       "<style scoped>\n",
       "    .dataframe tbody tr th:only-of-type {\n",
       "        vertical-align: middle;\n",
       "    }\n",
       "\n",
       "    .dataframe tbody tr th {\n",
       "        vertical-align: top;\n",
       "    }\n",
       "\n",
       "    .dataframe thead th {\n",
       "        text-align: right;\n",
       "    }\n",
       "</style>\n",
       "<table border=\"1\" class=\"dataframe\">\n",
       "  <thead>\n",
       "    <tr style=\"text-align: right;\">\n",
       "      <th></th>\n",
       "      <th>text</th>\n",
       "      <th>negative</th>\n",
       "      <th>neutral</th>\n",
       "      <th>positive</th>\n",
       "      <th>compound</th>\n",
       "      <th>sentiment</th>\n",
       "    </tr>\n",
       "  </thead>\n",
       "  <tbody>\n",
       "    <tr>\n",
       "      <th>0</th>\n",
       "      <td>may brookings institution visiting fellow bill...</td>\n",
       "      <td>0.079</td>\n",
       "      <td>0.819</td>\n",
       "      <td>0.101</td>\n",
       "      <td>0.9985</td>\n",
       "      <td>positive</td>\n",
       "    </tr>\n",
       "    <tr>\n",
       "      <th>1</th>\n",
       "      <td>may epic games claims that apple is abusing it...</td>\n",
       "      <td>0.080</td>\n",
       "      <td>0.819</td>\n",
       "      <td>0.102</td>\n",
       "      <td>0.9985</td>\n",
       "      <td>positive</td>\n",
       "    </tr>\n",
       "    <tr>\n",
       "      <th>2</th>\n",
       "      <td>as epic games inc methodically made its case i...</td>\n",
       "      <td>0.079</td>\n",
       "      <td>0.820</td>\n",
       "      <td>0.101</td>\n",
       "      <td>0.9985</td>\n",
       "      <td>positive</td>\n",
       "    </tr>\n",
       "    <tr>\n",
       "      <th>3</th>\n",
       "      <td>show ad the u s economy fell well short of job...</td>\n",
       "      <td>0.067</td>\n",
       "      <td>0.821</td>\n",
       "      <td>0.112</td>\n",
       "      <td>0.9998</td>\n",
       "      <td>positive</td>\n",
       "    </tr>\n",
       "    <tr>\n",
       "      <th>4</th>\n",
       "      <td>dogecoin soared above cents on wednesday not b...</td>\n",
       "      <td>0.054</td>\n",
       "      <td>0.834</td>\n",
       "      <td>0.111</td>\n",
       "      <td>0.9910</td>\n",
       "      <td>positive</td>\n",
       "    </tr>\n",
       "  </tbody>\n",
       "</table>\n",
       "</div>"
      ],
      "text/plain": [
       "                                                text  negative  neutral  \\\n",
       "0  may brookings institution visiting fellow bill...     0.079    0.819   \n",
       "1  may epic games claims that apple is abusing it...     0.080    0.819   \n",
       "2  as epic games inc methodically made its case i...     0.079    0.820   \n",
       "3  show ad the u s economy fell well short of job...     0.067    0.821   \n",
       "4  dogecoin soared above cents on wednesday not b...     0.054    0.834   \n",
       "\n",
       "   positive  compound sentiment  \n",
       "0     0.101    0.9985  positive  \n",
       "1     0.102    0.9985  positive  \n",
       "2     0.101    0.9985  positive  \n",
       "3     0.112    0.9998  positive  \n",
       "4     0.111    0.9910  positive  "
      ]
     },
     "execution_count": 25,
     "metadata": {},
     "output_type": "execute_result"
    }
   ],
   "source": [
    "apple_finnhub_scores.head()"
   ]
  },
  {
   "cell_type": "markdown",
   "id": "rotary-serbia",
   "metadata": {},
   "source": [
    "## Data Scrubbing"
   ]
  },
  {
   "cell_type": "code",
   "execution_count": 26,
   "id": "computational-biotechnology",
   "metadata": {
    "execution": {
     "iopub.execute_input": "2021-05-23T21:59:44.781824Z",
     "iopub.status.busy": "2021-05-23T21:59:44.781393Z",
     "iopub.status.idle": "2021-05-23T21:59:44.794545Z",
     "shell.execute_reply": "2021-05-23T21:59:44.793676Z",
     "shell.execute_reply.started": "2021-05-23T21:59:44.781785Z"
    },
    "tags": []
   },
   "outputs": [],
   "source": [
    "# prepare our data concatenating the 3 main dataframe for scrubbing\n",
    "apple_finnhub_df = pd.concat([apple_finnhub_df, apple_finnhub_scores], axis=1, ignore_index=False, sort=False).reindex()"
   ]
  },
  {
   "cell_type": "code",
   "execution_count": 49,
   "id": "modular-columbia",
   "metadata": {
    "execution": {
     "iopub.execute_input": "2021-05-30T03:51:14.831802Z",
     "iopub.status.busy": "2021-05-30T03:51:14.831400Z",
     "iopub.status.idle": "2021-05-30T03:51:14.839380Z",
     "shell.execute_reply": "2021-05-30T03:51:14.838119Z",
     "shell.execute_reply.started": "2021-05-30T03:51:14.831763Z"
    },
    "tags": []
   },
   "outputs": [],
   "source": [
    "apple_finnhub_df.rename(columns={'datetime':'date'}, inplace=True)"
   ]
  },
  {
   "cell_type": "code",
   "execution_count": 51,
   "id": "nonprofit-partition",
   "metadata": {
    "execution": {
     "iopub.execute_input": "2021-05-30T03:51:27.677792Z",
     "iopub.status.busy": "2021-05-30T03:51:27.677445Z",
     "iopub.status.idle": "2021-05-30T03:51:27.688210Z",
     "shell.execute_reply": "2021-05-30T03:51:27.686646Z",
     "shell.execute_reply.started": "2021-05-30T03:51:27.677757Z"
    },
    "tags": []
   },
   "outputs": [],
   "source": [
    "# convert unix timestamp to datetime object\n",
    "apple_finnhub_df['date'] = apple_finnhub_df['date'].map(lambda x: timestamp2datetime(x))"
   ]
  },
  {
   "cell_type": "code",
   "execution_count": 56,
   "id": "olive-scout",
   "metadata": {
    "execution": {
     "iopub.execute_input": "2021-05-30T03:54:25.559289Z",
     "iopub.status.busy": "2021-05-30T03:54:25.558652Z",
     "iopub.status.idle": "2021-05-30T03:54:25.570080Z",
     "shell.execute_reply": "2021-05-30T03:54:25.568876Z",
     "shell.execute_reply.started": "2021-05-30T03:54:25.559221Z"
    }
   },
   "outputs": [],
   "source": [
    "apple_finnhub_df['date'] = pd.to_datetime(apple_finnhub_df['date'], format='%Y-%m-%d %H:%M:%S')"
   ]
  },
  {
   "cell_type": "code",
   "execution_count": 57,
   "id": "functioning-potato",
   "metadata": {
    "execution": {
     "iopub.execute_input": "2021-05-30T03:54:26.763691Z",
     "iopub.status.busy": "2021-05-30T03:54:26.763072Z",
     "iopub.status.idle": "2021-05-30T03:54:26.785447Z",
     "shell.execute_reply": "2021-05-30T03:54:26.784522Z",
     "shell.execute_reply.started": "2021-05-30T03:54:26.763624Z"
    },
    "tags": []
   },
   "outputs": [
    {
     "data": {
      "text/html": [
       "<div>\n",
       "<style scoped>\n",
       "    .dataframe tbody tr th:only-of-type {\n",
       "        vertical-align: middle;\n",
       "    }\n",
       "\n",
       "    .dataframe tbody tr th {\n",
       "        vertical-align: top;\n",
       "    }\n",
       "\n",
       "    .dataframe thead th {\n",
       "        text-align: right;\n",
       "    }\n",
       "</style>\n",
       "<table border=\"1\" class=\"dataframe\">\n",
       "  <thead>\n",
       "    <tr style=\"text-align: right;\">\n",
       "      <th></th>\n",
       "      <th>category</th>\n",
       "      <th>date</th>\n",
       "      <th>headline</th>\n",
       "      <th>id</th>\n",
       "      <th>image</th>\n",
       "      <th>related</th>\n",
       "      <th>source</th>\n",
       "      <th>summary</th>\n",
       "      <th>url</th>\n",
       "    </tr>\n",
       "  </thead>\n",
       "  <tbody>\n",
       "    <tr>\n",
       "      <th>0</th>\n",
       "      <td>company</td>\n",
       "      <td>2021-05-07 19:28:28</td>\n",
       "      <td>Epic v. Apple Will Have Ramifications for Big ...</td>\n",
       "      <td>67685543</td>\n",
       "      <td>https://s.yimg.com/hd/cp-video-transcode/prod/...</td>\n",
       "      <td>AAPL</td>\n",
       "      <td>Yahoo</td>\n",
       "      <td>May.07 -- Brookings Institution Visiting Fello...</td>\n",
       "      <td>https://finnhub.io/api/news?id=a05b585f9aa8113...</td>\n",
       "    </tr>\n",
       "    <tr>\n",
       "      <th>1</th>\n",
       "      <td>company</td>\n",
       "      <td>2021-05-07 19:28:08</td>\n",
       "      <td>The Epic Battle Over Apple's App Store</td>\n",
       "      <td>67685545</td>\n",
       "      <td>https://s.yimg.com/hd/cp-video-transcode/prod/...</td>\n",
       "      <td>AAPL</td>\n",
       "      <td>Yahoo</td>\n",
       "      <td>May.07 -- Epic Games claims that Apple is abus...</td>\n",
       "      <td>https://finnhub.io/api/news?id=8c81f40d85036c5...</td>\n",
       "    </tr>\n",
       "    <tr>\n",
       "      <th>2</th>\n",
       "      <td>company</td>\n",
       "      <td>2021-05-07 18:29:00</td>\n",
       "      <td>Apple v. Epic: Time is running out for Epic to...</td>\n",
       "      <td>67685548</td>\n",
       "      <td></td>\n",
       "      <td>AAPL</td>\n",
       "      <td>Yahoo</td>\n",
       "      <td>As Epic Games Inc. methodically made its case ...</td>\n",
       "      <td>https://finnhub.io/api/news?id=994d1806d0596ef...</td>\n",
       "    </tr>\n",
       "  </tbody>\n",
       "</table>\n",
       "</div>"
      ],
      "text/plain": [
       "  category                date  \\\n",
       "0  company 2021-05-07 19:28:28   \n",
       "1  company 2021-05-07 19:28:08   \n",
       "2  company 2021-05-07 18:29:00   \n",
       "\n",
       "                                            headline        id  \\\n",
       "0  Epic v. Apple Will Have Ramifications for Big ...  67685543   \n",
       "1             The Epic Battle Over Apple's App Store  67685545   \n",
       "2  Apple v. Epic: Time is running out for Epic to...  67685548   \n",
       "\n",
       "                                               image related source  \\\n",
       "0  https://s.yimg.com/hd/cp-video-transcode/prod/...    AAPL  Yahoo   \n",
       "1  https://s.yimg.com/hd/cp-video-transcode/prod/...    AAPL  Yahoo   \n",
       "2                                                       AAPL  Yahoo   \n",
       "\n",
       "                                             summary  \\\n",
       "0  May.07 -- Brookings Institution Visiting Fello...   \n",
       "1  May.07 -- Epic Games claims that Apple is abus...   \n",
       "2  As Epic Games Inc. methodically made its case ...   \n",
       "\n",
       "                                                 url  \n",
       "0  https://finnhub.io/api/news?id=a05b585f9aa8113...  \n",
       "1  https://finnhub.io/api/news?id=8c81f40d85036c5...  \n",
       "2  https://finnhub.io/api/news?id=994d1806d0596ef...  "
      ]
     },
     "execution_count": 57,
     "metadata": {},
     "output_type": "execute_result"
    }
   ],
   "source": [
    "apple_finnhub_df.head(3)"
   ]
  },
  {
   "cell_type": "code",
   "execution_count": 58,
   "id": "younger-invalid",
   "metadata": {
    "execution": {
     "iopub.execute_input": "2021-05-30T03:54:26.976688Z",
     "iopub.status.busy": "2021-05-30T03:54:26.975924Z",
     "iopub.status.idle": "2021-05-30T03:54:26.998297Z",
     "shell.execute_reply": "2021-05-30T03:54:26.997587Z",
     "shell.execute_reply.started": "2021-05-30T03:54:26.976605Z"
    },
    "tags": []
   },
   "outputs": [
    {
     "name": "stdout",
     "output_type": "stream",
     "text": [
      "<class 'pandas.core.frame.DataFrame'>\n",
      "RangeIndex: 91 entries, 0 to 90\n",
      "Data columns (total 9 columns):\n",
      " #   Column    Non-Null Count  Dtype         \n",
      "---  ------    --------------  -----         \n",
      " 0   category  91 non-null     object        \n",
      " 1   date      91 non-null     datetime64[ns]\n",
      " 2   headline  91 non-null     object        \n",
      " 3   id        91 non-null     int64         \n",
      " 4   image     91 non-null     object        \n",
      " 5   related   91 non-null     object        \n",
      " 6   source    91 non-null     object        \n",
      " 7   summary   91 non-null     object        \n",
      " 8   url       91 non-null     object        \n",
      "dtypes: datetime64[ns](1), int64(1), object(7)\n",
      "memory usage: 6.5+ KB\n"
     ]
    }
   ],
   "source": [
    "apple_finnhub_df.info()"
   ]
  },
  {
   "cell_type": "code",
   "execution_count": 73,
   "id": "certain-connecticut",
   "metadata": {
    "execution": {
     "iopub.execute_input": "2021-05-23T22:27:21.502468Z",
     "iopub.status.busy": "2021-05-23T22:27:21.502007Z",
     "iopub.status.idle": "2021-05-23T22:27:21.509712Z",
     "shell.execute_reply": "2021-05-23T22:27:21.508733Z",
     "shell.execute_reply.started": "2021-05-23T22:27:21.502418Z"
    },
    "tags": []
   },
   "outputs": [],
   "source": [
    "# we got just 27 missing scraped articles, those will be droped\n",
    "# drop rows with condition on columns. we're droping only row by index for every Null value on TEXT column.\n",
    "apple_finnhub_df.drop(apple_finnhub_df.loc[(apple_finnhub_df[\"text\"].isna())].index, inplace=True)"
   ]
  },
  {
   "cell_type": "code",
   "execution_count": 35,
   "id": "wrong-adaptation",
   "metadata": {
    "execution": {
     "iopub.execute_input": "2021-05-23T22:06:02.913822Z",
     "iopub.status.busy": "2021-05-23T22:06:02.913170Z",
     "iopub.status.idle": "2021-05-23T22:06:02.987157Z",
     "shell.execute_reply": "2021-05-23T22:06:02.986686Z",
     "shell.execute_reply.started": "2021-05-23T22:06:02.913756Z"
    },
    "tags": []
   },
   "outputs": [],
   "source": [
    "apple_finnhub_df['word_count'] = apple_finnhub_df['text'].apply(lambda x: len(x.split()) if type(x)!=float else x)"
   ]
  },
  {
   "cell_type": "code",
   "execution_count": 76,
   "id": "configured-employer",
   "metadata": {
    "execution": {
     "iopub.execute_input": "2021-05-23T22:29:03.020088Z",
     "iopub.status.busy": "2021-05-23T22:29:03.019583Z",
     "iopub.status.idle": "2021-05-23T22:29:03.030719Z",
     "shell.execute_reply": "2021-05-23T22:29:03.029635Z",
     "shell.execute_reply.started": "2021-05-23T22:29:03.020048Z"
    },
    "tags": []
   },
   "outputs": [],
   "source": [
    "# drop only rows with 0 count\n",
    "apple_finnhub_df.drop(apple_finnhub_df[(apple_finnhub_df['word_count']==0)].index, inplace=True)"
   ]
  },
  {
   "cell_type": "code",
   "execution_count": null,
   "id": "personalized-patient",
   "metadata": {},
   "outputs": [],
   "source": []
  }
 ],
 "metadata": {
  "kernelspec": {
   "display_name": "Python 3",
   "language": "python",
   "name": "python3"
  },
  "language_info": {
   "codemirror_mode": {
    "name": "ipython",
    "version": 3
   },
   "file_extension": ".py",
   "mimetype": "text/x-python",
   "name": "python",
   "nbconvert_exporter": "python",
   "pygments_lexer": "ipython3",
   "version": "3.8.10"
  }
 },
 "nbformat": 4,
 "nbformat_minor": 5
}
