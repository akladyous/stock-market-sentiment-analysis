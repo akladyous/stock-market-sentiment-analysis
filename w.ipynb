{
 "cells": [
  {
   "cell_type": "code",
   "execution_count": 1,
   "id": "protecting-oracle",
   "metadata": {
    "tags": []
   },
   "outputs": [],
   "source": [
    "%run __init__.py"
   ]
  },
  {
   "cell_type": "code",
   "execution_count": 5,
   "id": "13fa1409-73c5-451a-b5ba-cd14c164494f",
   "metadata": {
    "tags": []
   },
   "outputs": [
    {
     "ename": "ModuleNotFoundError",
     "evalue": "No module named 'keras'",
     "output_type": "error",
     "traceback": [
      "\u001b[0;31m---------------------------------------------------------------------------\u001b[0m",
      "\u001b[0;31mModuleNotFoundError\u001b[0m                       Traceback (most recent call last)",
      "\u001b[0;32m<ipython-input-5-812bfb11e6e7>\u001b[0m in \u001b[0;36m<module>\u001b[0;34m\u001b[0m\n\u001b[0;32m----> 1\u001b[0;31m \u001b[0;32mfrom\u001b[0m \u001b[0mkeras\u001b[0m\u001b[0;34m.\u001b[0m\u001b[0mutils\u001b[0m \u001b[0;32mimport\u001b[0m \u001b[0mto_categorical\u001b[0m\u001b[0;34m\u001b[0m\u001b[0;34m\u001b[0m\u001b[0m\n\u001b[0m",
      "\u001b[0;31mModuleNotFoundError\u001b[0m: No module named 'keras'"
     ]
    }
   ],
   "source": [
    "from keras.utils import to_categorical\n"
   ]
  },
  {
   "cell_type": "code",
   "execution_count": null,
   "id": "instant-abuse",
   "metadata": {
    "execution": {
     "iopub.execute_input": "2021-06-05T20:19:05.924607Z",
     "iopub.status.busy": "2021-06-05T20:19:05.924236Z"
    },
    "tags": []
   },
   "outputs": [],
   "source": [
    "import pandas as pd\n",
    "import numpy as np\n",
    "from joblib import dump, load\n",
    "# from word2vec import make_model, class_weights_ohe\n",
    "\n",
    "from keras.utils import to_categorical\n",
    "from keras.preprocessing.text import Tokenizer\n",
    "from keras.preprocessing.sequence import pad_sequences\n",
    "import keras\n",
    "from sklearn.preprocessing import LabelEncoder, OneHotEncoder\n",
    "from sklearn.model_selection import train_test_split\n",
    "from tensorflow.keras.callbacks import EarlyStopping, ModelCheckpoint, ReduceLROnPlateau"
   ]
  },
  {
   "cell_type": "code",
   "execution_count": 1,
   "id": "084c77f3-c483-4a8f-89fd-52b6fe899c8e",
   "metadata": {
    "execution": {
     "iopub.execute_input": "2021-06-05T20:17:27.934502Z",
     "iopub.status.busy": "2021-06-05T20:17:27.934037Z",
     "iopub.status.idle": "2021-06-05T20:17:28.506071Z",
     "shell.execute_reply": "2021-06-05T20:17:28.505736Z",
     "shell.execute_reply.started": "2021-06-05T20:17:27.934390Z"
    },
    "tags": []
   },
   "outputs": [],
   "source": [
    "from gensim.models import Word2Vec"
   ]
  },
  {
   "cell_type": "code",
   "execution_count": 2,
   "id": "dafca6d1-6ca8-41f6-81e5-b3d622c9228b",
   "metadata": {
    "execution": {
     "iopub.execute_input": "2021-06-05T19:53:36.598934Z",
     "iopub.status.busy": "2021-06-05T19:53:36.598279Z",
     "iopub.status.idle": "2021-06-05T19:53:36.616756Z",
     "shell.execute_reply": "2021-06-05T19:53:36.615262Z",
     "shell.execute_reply.started": "2021-06-05T19:53:36.598866Z"
    },
    "tags": []
   },
   "outputs": [
    {
     "ename": "NameError",
     "evalue": "name 'pd' is not defined",
     "output_type": "error",
     "traceback": [
      "\u001b[0;31m---------------------------------------------------------------------------\u001b[0m",
      "\u001b[0;31mNameError\u001b[0m                                 Traceback (most recent call last)",
      "\u001b[0;32m<ipython-input-2-29a7d832739d>\u001b[0m in \u001b[0;36m<module>\u001b[0;34m\u001b[0m\n\u001b[0;32m----> 1\u001b[0;31m \u001b[0mdf_news\u001b[0m \u001b[0;34m=\u001b[0m \u001b[0mpd\u001b[0m\u001b[0;34m.\u001b[0m\u001b[0mread_csv\u001b[0m\u001b[0;34m(\u001b[0m\u001b[0;34m'./data/apple_news_cleaned.csv.gz'\u001b[0m\u001b[0;34m)\u001b[0m\u001b[0;34m\u001b[0m\u001b[0;34m\u001b[0m\u001b[0m\n\u001b[0m",
      "\u001b[0;31mNameError\u001b[0m: name 'pd' is not defined"
     ]
    }
   ],
   "source": [
    "df_news = pd.read_csv('./data/apple_news_cleaned.csv.gz')"
   ]
  },
  {
   "cell_type": "markdown",
   "id": "instrumental-truck",
   "metadata": {},
   "source": [
    "## MODELING"
   ]
  },
  {
   "cell_type": "code",
   "execution_count": 7,
   "id": "superior-privilege",
   "metadata": {
    "execution": {
     "iopub.execute_input": "2021-05-29T03:23:13.216261Z",
     "iopub.status.busy": "2021-05-29T03:23:13.215889Z",
     "iopub.status.idle": "2021-05-29T03:23:13.230854Z",
     "shell.execute_reply": "2021-05-29T03:23:13.229886Z",
     "shell.execute_reply.started": "2021-05-29T03:23:13.216226Z"
    },
    "tags": []
   },
   "outputs": [],
   "source": []
  },
  {
   "cell_type": "code",
   "execution_count": 8,
   "id": "suitable-handbook",
   "metadata": {
    "execution": {
     "iopub.execute_input": "2021-05-29T03:23:13.773879Z",
     "iopub.status.busy": "2021-05-29T03:23:13.773202Z",
     "iopub.status.idle": "2021-05-29T03:23:14.050012Z",
     "shell.execute_reply": "2021-05-29T03:23:14.049572Z",
     "shell.execute_reply.started": "2021-05-29T03:23:13.773809Z"
    },
    "tags": []
   },
   "outputs": [],
   "source": [
    "sentences = apple_news_df['articles'].apply(lambda x: x.split()).to_list()\n",
    "max_lenght = 100"
   ]
  },
  {
   "cell_type": "code",
   "execution_count": 9,
   "id": "happy-indicator",
   "metadata": {
    "execution": {
     "iopub.execute_input": "2021-05-29T03:23:14.168499Z",
     "iopub.status.busy": "2021-05-29T03:23:14.168194Z",
     "iopub.status.idle": "2021-05-29T03:23:14.175760Z",
     "shell.execute_reply": "2021-05-29T03:23:14.174985Z",
     "shell.execute_reply.started": "2021-05-29T03:23:14.168467Z"
    },
    "tags": []
   },
   "outputs": [],
   "source": [
    "l_encoder = LabelEncoder()\n",
    "y_encoded = l_encoder.fit_transform(apple_news_df['sentiment'])"
   ]
  },
  {
   "cell_type": "code",
   "execution_count": 475,
   "id": "agreed-government",
   "metadata": {
    "execution": {
     "iopub.execute_input": "2021-05-29T18:17:12.557665Z",
     "iopub.status.busy": "2021-05-29T18:17:12.556858Z",
     "iopub.status.idle": "2021-05-29T18:17:12.572372Z",
     "shell.execute_reply": "2021-05-29T18:17:12.571493Z",
     "shell.execute_reply.started": "2021-05-29T18:17:12.557616Z"
    }
   },
   "outputs": [],
   "source": [
    "ohe = OneHotEncoder(sparse=False)\n",
    "y_ohe = ohe.fit_transform(apple_news_df['sentiment'].values.reshape(-1,1))"
   ]
  },
  {
   "cell_type": "code",
   "execution_count": 10,
   "id": "graphic-cleaners",
   "metadata": {
    "execution": {
     "iopub.execute_input": "2021-05-29T03:23:15.773869Z",
     "iopub.status.busy": "2021-05-29T03:23:15.773495Z",
     "iopub.status.idle": "2021-05-29T03:23:18.940531Z",
     "shell.execute_reply": "2021-05-29T03:23:18.940105Z",
     "shell.execute_reply.started": "2021-05-29T03:23:15.773834Z"
    },
    "tags": []
   },
   "outputs": [],
   "source": [
    "tokenizer = Tokenizer(num_words=10000)\n",
    "tokenizer.fit_on_texts(apple_news_df['articles'])\n",
    "sequences = tokenizer.texts_to_sequences(apple_news_df['articles'])\n",
    "word_index = tokenizer.word_index\n",
    "# total vocabulary size plus 0 for unknown words\n",
    "vocab_size = len(tokenizer.word_index) + 1\n",
    "data = pad_sequences(sequences, max_lenght)\n",
    "labels = to_categorical(y_encoded)"
   ]
  },
  {
   "cell_type": "code",
   "execution_count": 11,
   "id": "recent-hanging",
   "metadata": {
    "execution": {
     "iopub.execute_input": "2021-05-29T03:23:18.941431Z",
     "iopub.status.busy": "2021-05-29T03:23:18.941335Z",
     "iopub.status.idle": "2021-05-29T03:23:18.944356Z",
     "shell.execute_reply": "2021-05-29T03:23:18.944077Z",
     "shell.execute_reply.started": "2021-05-29T03:23:18.941419Z"
    },
    "tags": []
   },
   "outputs": [
    {
     "name": "stdout",
     "output_type": "stream",
     "text": [
      "Unique Words              36827\n",
      "Shape of data tensor      (9451, 100)\n",
      "Shape of label tensor     (9451, 2)\n"
     ]
    }
   ],
   "source": [
    "print(f\"{'Unique Words':25} {len(tokenizer.index_word)}\")\n",
    "print(f\"{'Shape of data tensor':25} {data.shape}\")\n",
    "print(f\"{'Shape of label tensor':25} {labels.shape}\")"
   ]
  },
  {
   "cell_type": "code",
   "execution_count": 12,
   "id": "thorough-council",
   "metadata": {
    "execution": {
     "iopub.execute_input": "2021-05-29T03:23:21.421710Z",
     "iopub.status.busy": "2021-05-29T03:23:21.421116Z",
     "iopub.status.idle": "2021-05-29T03:23:43.755493Z",
     "shell.execute_reply": "2021-05-29T03:23:43.755081Z",
     "shell.execute_reply.started": "2021-05-29T03:23:21.421645Z"
    },
    "tags": []
   },
   "outputs": [],
   "source": [
    "word2vec = Word2Vec(sentences,\n",
    "                     size=max_lenght,\n",
    "                     window=5,\n",
    "                     min_count=1,\n",
    "                     workers=4,\n",
    "                    )\n",
    "word2vec.train(sentences, total_examples=word2vec.corpus_count, epochs=5)\n",
    "\n",
    "pretrained_weights = word2vec.wv.vectors\n",
    "vocab_size, emdedding_size = pretrained_weights.shape\n",
    "\n",
    "vectors = np.asarray(word2vec.wv.vectors)"
   ]
  },
  {
   "cell_type": "code",
   "execution_count": 11,
   "id": "accepting-method",
   "metadata": {
    "execution": {
     "iopub.execute_input": "2021-05-29T02:50:12.680455Z",
     "iopub.status.busy": "2021-05-29T02:50:12.679829Z",
     "iopub.status.idle": "2021-05-29T02:50:12.893496Z",
     "shell.execute_reply": "2021-05-29T02:50:12.893137Z",
     "shell.execute_reply.started": "2021-05-29T02:50:12.680386Z"
    }
   },
   "outputs": [],
   "source": [
    "word2vec.save('./word2vec/word2vrc_model')"
   ]
  },
  {
   "cell_type": "code",
   "execution_count": 13,
   "id": "physical-waters",
   "metadata": {
    "execution": {
     "iopub.execute_input": "2021-05-29T03:23:45.262578Z",
     "iopub.status.busy": "2021-05-29T03:23:45.261910Z",
     "iopub.status.idle": "2021-05-29T03:23:45.271900Z",
     "shell.execute_reply": "2021-05-29T03:23:45.270637Z",
     "shell.execute_reply.started": "2021-05-29T03:23:45.262501Z"
    },
    "tags": []
   },
   "outputs": [
    {
     "data": {
      "text/plain": [
       "(36827, 36827)"
      ]
     },
     "execution_count": 13,
     "metadata": {},
     "output_type": "execute_result"
    }
   ],
   "source": [
    "len(word_index), len(word2vec.wv.vocab)"
   ]
  },
  {
   "cell_type": "code",
   "execution_count": 14,
   "id": "unique-shaft",
   "metadata": {
    "execution": {
     "iopub.execute_input": "2021-05-29T03:23:45.989898Z",
     "iopub.status.busy": "2021-05-29T03:23:45.989166Z",
     "iopub.status.idle": "2021-05-29T03:23:46.096464Z",
     "shell.execute_reply": "2021-05-29T03:23:46.096051Z",
     "shell.execute_reply.started": "2021-05-29T03:23:45.989826Z"
    },
    "tags": []
   },
   "outputs": [],
   "source": [
    "embedding_matrix = np.zeros((vocab_size+1, emdedding_size))\n",
    "for word, idx in word_index.items():\n",
    "        embedding_matrix[idx] = word2vec.wv[word]"
   ]
  },
  {
   "cell_type": "markdown",
   "id": "neither-stationery",
   "metadata": {
    "execution": {
     "iopub.execute_input": "2021-05-29T02:56:00.152710Z",
     "iopub.status.busy": "2021-05-29T02:56:00.152336Z",
     "iopub.status.idle": "2021-05-29T02:56:01.111404Z",
     "shell.execute_reply": "2021-05-29T02:56:01.111085Z",
     "shell.execute_reply.started": "2021-05-29T02:56:00.152675Z"
    },
    "tags": []
   },
   "source": [
    "dump(embedding_matrix, './word2vec/embedding_matrix.pkl', compress=5)"
   ]
  },
  {
   "cell_type": "code",
   "execution_count": 15,
   "id": "coastal-award",
   "metadata": {
    "execution": {
     "iopub.execute_input": "2021-05-29T03:23:54.248393Z",
     "iopub.status.busy": "2021-05-29T03:23:54.247784Z",
     "iopub.status.idle": "2021-05-29T03:23:54.354416Z",
     "shell.execute_reply": "2021-05-29T03:23:54.354045Z",
     "shell.execute_reply.started": "2021-05-29T03:23:54.248325Z"
    },
    "tags": []
   },
   "outputs": [
    {
     "name": "stdout",
     "output_type": "stream",
     "text": [
      "Train\n",
      "\tX :  (8033, 100)\n",
      "\tY :  (8033, 2)\n",
      "Test\n",
      "\tX :  (1418, 100)\n",
      "\tY :  (1418, 2)\n",
      "Validation\n",
      "\tX :  (1418, 100)\n",
      "\tY :  (1418, 2)\n"
     ]
    }
   ],
   "source": [
    "X_train, X_test, y_train, y_test = train_test_split(data, labels, test_size=.15, random_state=1, stratify=labels)\n",
    "X_train, X_val, y_train, y_val   = train_test_split(data, labels, test_size=.15, random_state=1, stratify=labels)\n",
    "\n",
    "print(f\"Train\\n\\t{'X :':5}{X_train.shape}\\n\\t{'Y :':5}{y_train.shape}\")\n",
    "print(f\"Test\\n\\t{'X :':5}{X_test.shape}\\n\\t{'Y :':5}{y_test.shape}\")\n",
    "print(f\"Validation\\n\\t{'X :':5}{X_val.shape}\\n\\t{'Y :':5}{y_val.shape}\")"
   ]
  },
  {
   "cell_type": "code",
   "execution_count": 16,
   "id": "inner-buffer",
   "metadata": {
    "execution": {
     "iopub.execute_input": "2021-05-29T03:23:58.712200Z",
     "iopub.status.busy": "2021-05-29T03:23:58.711609Z",
     "iopub.status.idle": "2021-05-29T03:23:58.719436Z",
     "shell.execute_reply": "2021-05-29T03:23:58.718025Z",
     "shell.execute_reply.started": "2021-05-29T03:23:58.712134Z"
    },
    "tags": []
   },
   "outputs": [],
   "source": [
    "input_dim = embedding_matrix.shape[0]\n",
    "embedding_dim = embedding_matrix.shape[1]\n",
    "max_seq_len = data.shape[1]"
   ]
  },
  {
   "cell_type": "code",
   "execution_count": 217,
   "id": "drawn-citizenship",
   "metadata": {
    "execution": {
     "iopub.execute_input": "2021-05-29T05:18:38.269272Z",
     "iopub.status.busy": "2021-05-29T05:18:38.268685Z",
     "iopub.status.idle": "2021-05-29T05:18:38.277994Z",
     "shell.execute_reply": "2021-05-29T05:18:38.276897Z",
     "shell.execute_reply.started": "2021-05-29T05:18:38.269205Z"
    },
    "tags": []
   },
   "outputs": [],
   "source": [
    "BIAS = class_weights_ohe(labels)\n",
    "METRICS = ['accuracy']\n",
    "EPOCHS = 32\n",
    "BATCH_SIZE = 400\n",
    "STEPS_x_EPOCH = X_train.shape[0]//BATCH_SIZE"
   ]
  },
  {
   "cell_type": "code",
   "execution_count": 230,
   "id": "understanding-clearing",
   "metadata": {
    "execution": {
     "iopub.execute_input": "2021-05-29T05:35:47.158360Z",
     "iopub.status.busy": "2021-05-29T05:35:47.158018Z",
     "iopub.status.idle": "2021-05-29T05:35:47.171070Z",
     "shell.execute_reply": "2021-05-29T05:35:47.169808Z",
     "shell.execute_reply.started": "2021-05-29T05:35:47.158326Z"
    },
    "tags": []
   },
   "outputs": [],
   "source": [
    "eStop_Val_Loss = EarlyStopping(monitor='val_loss', min_delta=0.0001, patience=12,\n",
    "                            verbose=1,mode='min',baseline=0.999,restore_best_weights=False)\n",
    "eStop_Loss     = EarlyStopping(monitor='loss', min_delta=0.001, patience=12,\n",
    "                            verbose=1,mode='min',baseline=0.999,restore_best_weights=False)\n",
    "eStop_Accuracy = EarlyStopping(monitor='accuracy', min_delta=0.001, patience=24,\n",
    "                            verbose=1, mode='max', baseline=0.999, restore_best_weights=False)\n",
    "eStop_Val_accuracy  = EarlyStopping(monitor='val_accuracy', min_delta=0.001, patience=24,\n",
    "                            verbose=1, mode='max', baseline=0.999, restore_best_weights=False)\n",
    "\n",
    "eStop_Reduce_lr = ReduceLROnPlateau(monitor='val_loss', factor=0.1, patience=8, min_lr=0.000001, verbose=1)"
   ]
  },
  {
   "cell_type": "code",
   "execution_count": 201,
   "id": "joint-content",
   "metadata": {
    "execution": {
     "iopub.execute_input": "2021-05-29T05:07:15.975673Z",
     "iopub.status.busy": "2021-05-29T05:07:15.975116Z",
     "iopub.status.idle": "2021-05-29T05:07:15.984614Z",
     "shell.execute_reply": "2021-05-29T05:07:15.983690Z",
     "shell.execute_reply.started": "2021-05-29T05:07:15.975607Z"
    },
    "tags": []
   },
   "outputs": [],
   "source": [
    "keras.backend.clear_session()"
   ]
  },
  {
   "cell_type": "code",
   "execution_count": 202,
   "id": "every-tobago",
   "metadata": {
    "execution": {
     "iopub.execute_input": "2021-05-29T05:07:16.239741Z",
     "iopub.status.busy": "2021-05-29T05:07:16.239531Z",
     "iopub.status.idle": "2021-05-29T05:07:17.323873Z",
     "shell.execute_reply": "2021-05-29T05:07:17.323409Z",
     "shell.execute_reply.started": "2021-05-29T05:07:16.239724Z"
    },
    "tags": []
   },
   "outputs": [],
   "source": [
    "model = make_model(metrics=METRICS,\n",
    "                   input_dim=input_dim,\n",
    "                   embedding_dim=embedding_dim,\n",
    "                   weights=embedding_matrix,\n",
    "                   input_length=max_seq_len,\n",
    "                   output_bias=BIAS\n",
    "                  )"
   ]
  },
  {
   "cell_type": "code",
   "execution_count": 203,
   "id": "closed-budget",
   "metadata": {
    "execution": {
     "iopub.execute_input": "2021-05-29T05:07:17.324873Z",
     "iopub.status.busy": "2021-05-29T05:07:17.324763Z",
     "iopub.status.idle": "2021-05-29T05:07:17.327627Z",
     "shell.execute_reply": "2021-05-29T05:07:17.327330Z",
     "shell.execute_reply.started": "2021-05-29T05:07:17.324860Z"
    },
    "tags": []
   },
   "outputs": [
    {
     "name": "stdout",
     "output_type": "stream",
     "text": [
      "Model: \"sequential\"\n",
      "_________________________________________________________________\n",
      "Layer (type)                 Output Shape              Param #   \n",
      "=================================================================\n",
      "embedding (Embedding)        (None, 100, 100)          3682800   \n",
      "_________________________________________________________________\n",
      "bidirectional (Bidirectional (None, 100, 200)          160800    \n",
      "_________________________________________________________________\n",
      "lstm_1 (LSTM)                (None, 16)                13888     \n",
      "_________________________________________________________________\n",
      "dense16 (Dense)              (None, 16)                272       \n",
      "_________________________________________________________________\n",
      "dropout (Dropout)            (None, 16)                0         \n",
      "_________________________________________________________________\n",
      "output4 (Dense)              (None, 2)                 34        \n",
      "=================================================================\n",
      "Total params: 3,857,794\n",
      "Trainable params: 174,994\n",
      "Non-trainable params: 3,682,800\n",
      "_________________________________________________________________\n"
     ]
    }
   ],
   "source": [
    "model.summary()"
   ]
  },
  {
   "cell_type": "code",
   "execution_count": 204,
   "id": "artificial-territory",
   "metadata": {
    "execution": {
     "iopub.execute_input": "2021-05-29T05:07:19.232995Z",
     "iopub.status.busy": "2021-05-29T05:07:19.232498Z",
     "iopub.status.idle": "2021-05-29T05:07:19.240360Z",
     "shell.execute_reply": "2021-05-29T05:07:19.238684Z",
     "shell.execute_reply.started": "2021-05-29T05:07:19.232944Z"
    },
    "tags": []
   },
   "outputs": [],
   "source": [
    "model.layers[0].embeddings_initializer = keras.initializers.GlorotUniform()\n",
    "model.layers[3].activation = tf.keras.activations.swish"
   ]
  },
  {
   "cell_type": "code",
   "execution_count": 198,
   "id": "magnetic-eugene",
   "metadata": {
    "execution": {
     "iopub.execute_input": "2021-05-29T04:59:19.500974Z",
     "iopub.status.busy": "2021-05-29T04:59:19.500181Z",
     "iopub.status.idle": "2021-05-29T05:06:19.024677Z",
     "shell.execute_reply": "2021-05-29T05:06:19.024393Z",
     "shell.execute_reply.started": "2021-05-29T04:59:19.500894Z"
    },
    "scrolled": true,
    "tags": []
   },
   "outputs": [
    {
     "name": "stdout",
     "output_type": "stream",
     "text": [
      "Epoch 1/32\n",
      "20/20 [==============================] - 23s 906ms/step - loss: 2.7740 - accuracy: 0.1187 - val_loss: 0.9841 - val_accuracy: 0.1206\n",
      "Epoch 2/32\n",
      "20/20 [==============================] - 17s 848ms/step - loss: 0.9613 - accuracy: 0.4958 - val_loss: 0.3819 - val_accuracy: 0.8794\n",
      "Epoch 3/32\n",
      "20/20 [==============================] - 17s 859ms/step - loss: 0.6506 - accuracy: 0.7170 - val_loss: 0.3675 - val_accuracy: 0.8794\n",
      "Epoch 4/32\n",
      "20/20 [==============================] - 17s 859ms/step - loss: 0.6192 - accuracy: 0.7569 - val_loss: 0.3707 - val_accuracy: 0.8794\n",
      "Epoch 5/32\n",
      "20/20 [==============================] - 17s 867ms/step - loss: 0.6102 - accuracy: 0.7637 - val_loss: 0.3662 - val_accuracy: 0.8794\n",
      "Epoch 6/32\n",
      "20/20 [==============================] - 17s 877ms/step - loss: 0.5447 - accuracy: 0.7821 - val_loss: 0.3596 - val_accuracy: 0.8794\n",
      "Epoch 7/32\n",
      "20/20 [==============================] - 17s 882ms/step - loss: 0.5343 - accuracy: 0.7923 - val_loss: 0.3470 - val_accuracy: 0.8794\n",
      "Epoch 8/32\n",
      "20/20 [==============================] - 17s 884ms/step - loss: 0.5201 - accuracy: 0.7954 - val_loss: 0.3311 - val_accuracy: 0.8794\n",
      "Epoch 9/32\n",
      "20/20 [==============================] - 18s 898ms/step - loss: 0.4537 - accuracy: 0.8135 - val_loss: 0.3175 - val_accuracy: 0.8918\n",
      "Epoch 10/32\n",
      "20/20 [==============================] - 17s 880ms/step - loss: 0.4662 - accuracy: 0.8167 - val_loss: 0.3065 - val_accuracy: 0.8930\n",
      "Epoch 11/32\n",
      "20/20 [==============================] - 17s 878ms/step - loss: 0.4128 - accuracy: 0.8347 - val_loss: 0.3043 - val_accuracy: 0.8930\n",
      "Epoch 12/32\n",
      "20/20 [==============================] - 17s 882ms/step - loss: 0.4162 - accuracy: 0.8385 - val_loss: 0.2954 - val_accuracy: 0.8943\n",
      "Epoch 13/32\n",
      "20/20 [==============================] - 17s 881ms/step - loss: 0.3986 - accuracy: 0.8474 - val_loss: 0.3084 - val_accuracy: 0.8943\n",
      "Epoch 14/32\n",
      "20/20 [==============================] - 18s 892ms/step - loss: 0.3901 - accuracy: 0.8507 - val_loss: 0.2903 - val_accuracy: 0.8968\n",
      "Epoch 15/32\n",
      "20/20 [==============================] - 17s 887ms/step - loss: 0.3696 - accuracy: 0.8471 - val_loss: 0.2758 - val_accuracy: 0.8943\n",
      "Epoch 16/32\n",
      "20/20 [==============================] - 17s 888ms/step - loss: 0.3504 - accuracy: 0.8551 - val_loss: 0.2569 - val_accuracy: 0.9192\n",
      "Epoch 17/32\n",
      "20/20 [==============================] - 17s 882ms/step - loss: 0.3153 - accuracy: 0.8777 - val_loss: 0.2526 - val_accuracy: 0.9104\n",
      "Epoch 18/32\n",
      "20/20 [==============================] - 17s 881ms/step - loss: 0.3285 - accuracy: 0.8679 - val_loss: 0.2638 - val_accuracy: 0.9129\n",
      "Epoch 19/32\n",
      "20/20 [==============================] - 17s 882ms/step - loss: 0.3013 - accuracy: 0.8847 - val_loss: 0.2460 - val_accuracy: 0.9129\n",
      "Epoch 20/32\n",
      "20/20 [==============================] - 17s 884ms/step - loss: 0.3044 - accuracy: 0.8735 - val_loss: 0.2502 - val_accuracy: 0.9092\n",
      "Epoch 21/32\n",
      "20/20 [==============================] - 17s 891ms/step - loss: 0.2887 - accuracy: 0.8861 - val_loss: 0.2564 - val_accuracy: 0.9192\n",
      "Epoch 22/32\n",
      "20/20 [==============================] - 17s 885ms/step - loss: 0.2601 - accuracy: 0.9017 - val_loss: 0.2679 - val_accuracy: 0.8818\n",
      "Epoch 23/32\n",
      "20/20 [==============================] - 17s 882ms/step - loss: 0.2891 - accuracy: 0.8808 - val_loss: 0.2599 - val_accuracy: 0.9229\n",
      "Epoch 24/32\n",
      "20/20 [==============================] - 17s 881ms/step - loss: 0.2591 - accuracy: 0.8962 - val_loss: 0.2603 - val_accuracy: 0.9229\n",
      "Epoch 00024: early stopping\n"
     ]
    }
   ],
   "source": [
    "history = model.fit(X_train,\n",
    "                    y_train,\n",
    "                    validation_data=(X_val, y_val),\n",
    "                    validation_split=0.1,\n",
    "                    validation_batch_size=1,\n",
    "                    epochs=EPOCHS,\n",
    "                    batch_size=BATCH_SIZE,\n",
    "                    steps_per_epoch=STEPS_x_EPOCH,\n",
    "                    use_multiprocessing = True,\n",
    "                    callbacks=[eStop_Val_accuracy, eStop_Val_Loss],\n",
    "                    workers=6\n",
    "                    )"
   ]
  },
  {
   "cell_type": "code",
   "execution_count": 199,
   "id": "narrow-repeat",
   "metadata": {
    "execution": {
     "iopub.execute_input": "2021-05-29T05:06:22.905439Z",
     "iopub.status.busy": "2021-05-29T05:06:22.905026Z",
     "iopub.status.idle": "2021-05-29T05:06:23.150574Z",
     "shell.execute_reply": "2021-05-29T05:06:23.150222Z",
     "shell.execute_reply.started": "2021-05-29T05:06:22.905402Z"
    },
    "tags": []
   },
   "outputs": [
    {
     "data": {
      "image/png": "[encoded data removed]",
      "text/plain": [
       "<Figure size 1440x360 with 2 Axes>"
      ]
     },
     "metadata": {
      "needs_background": "light"
     },
     "output_type": "display_data"
    }
   ],
   "source": [
    "plot_model.plot_history(history)"
   ]
  },
  {
   "cell_type": "code",
   "execution_count": 211,
   "id": "minus-robertson",
   "metadata": {
    "execution": {
     "iopub.execute_input": "2021-05-29T05:11:28.011123Z",
     "iopub.status.busy": "2021-05-29T05:11:28.010484Z",
     "iopub.status.idle": "2021-05-29T05:11:28.085247Z",
     "shell.execute_reply": "2021-05-29T05:11:28.084849Z",
     "shell.execute_reply.started": "2021-05-29T05:11:28.011054Z"
    },
    "tags": []
   },
   "outputs": [],
   "source": [
    "# model.save_weights('./word2vec/train1')"
   ]
  },
  {
   "cell_type": "code",
   "execution_count": 225,
   "id": "guided-escape",
   "metadata": {
    "execution": {
     "iopub.execute_input": "2021-05-29T05:26:10.840507Z",
     "iopub.status.busy": "2021-05-29T05:26:10.839879Z",
     "iopub.status.idle": "2021-05-29T05:26:12.912180Z",
     "shell.execute_reply": "2021-05-29T05:26:12.911875Z",
     "shell.execute_reply.started": "2021-05-29T05:26:10.840439Z"
    },
    "tags": []
   },
   "outputs": [
    {
     "name": "stdout",
     "output_type": "stream",
     "text": [
      "Model: \"sequential\"\n",
      "_________________________________________________________________\n",
      "Layer (type)                 Output Shape              Param #   \n",
      "=================================================================\n",
      "embedding (Embedding)        (None, 100, 100)          3682800   \n",
      "_________________________________________________________________\n",
      "bidirectional (Bidirectional (None, 100, 200)          160800    \n",
      "_________________________________________________________________\n",
      "lstm_1 (LSTM)                (None, 16)                13888     \n",
      "_________________________________________________________________\n",
      "dense16 (Dense)              (None, 16)                272       \n",
      "_________________________________________________________________\n",
      "dropout (Dropout)            (None, 16)                0         \n",
      "_________________________________________________________________\n",
      "output4 (Dense)              (None, 2)                 34        \n",
      "=================================================================\n",
      "Total params: 3,857,794\n",
      "Trainable params: 174,994\n",
      "Non-trainable params: 3,682,800\n",
      "_________________________________________________________________\n"
     ]
    }
   ],
   "source": [
    "model = make_model(metrics=METRICS,\n",
    "                   input_dim=input_dim,\n",
    "                   embedding_dim=embedding_dim,\n",
    "                   weights=embedding_matrix,\n",
    "                   input_length=max_seq_len,\n",
    "                   output_bias=BIAS\n",
    "                  )\n",
    "model.summary()"
   ]
  },
  {
   "cell_type": "code",
   "execution_count": 226,
   "id": "efficient-oklahoma",
   "metadata": {
    "execution": {
     "iopub.execute_input": "2021-05-29T05:27:19.581358Z",
     "iopub.status.busy": "2021-05-29T05:27:19.580750Z",
     "iopub.status.idle": "2021-05-29T05:27:19.589540Z",
     "shell.execute_reply": "2021-05-29T05:27:19.588055Z",
     "shell.execute_reply.started": "2021-05-29T05:27:19.581290Z"
    }
   },
   "outputs": [],
   "source": [
    "model.layers[0].embeddings_initializer = keras.initializers.zeros()\n",
    "model.layers[3].activation = tf.keras.activations.swish"
   ]
  },
  {
   "cell_type": "code",
   "execution_count": 227,
   "id": "extra-equivalent",
   "metadata": {
    "execution": {
     "iopub.execute_input": "2021-05-29T05:27:20.950175Z",
     "iopub.status.busy": "2021-05-29T05:27:20.949552Z",
     "iopub.status.idle": "2021-05-29T05:34:16.700030Z",
     "shell.execute_reply": "2021-05-29T05:34:16.699714Z",
     "shell.execute_reply.started": "2021-05-29T05:27:20.950108Z"
    },
    "scrolled": true,
    "tags": []
   },
   "outputs": [
    {
     "name": "stdout",
     "output_type": "stream",
     "text": [
      "Epoch 1/32\n",
      "20/20 [==============================] - 22s 899ms/step - loss: 2.5789 - accuracy: 0.1415 - val_loss: 0.7471 - val_accuracy: 0.6580\n",
      "Epoch 2/32\n",
      "20/20 [==============================] - 17s 849ms/step - loss: 0.8351 - accuracy: 0.5657 - val_loss: 0.3451 - val_accuracy: 0.8794\n",
      "Epoch 3/32\n",
      "20/20 [==============================] - 17s 849ms/step - loss: 0.5721 - accuracy: 0.7748 - val_loss: 0.3359 - val_accuracy: 0.8930\n",
      "Epoch 4/32\n",
      "20/20 [==============================] - 17s 856ms/step - loss: 0.4916 - accuracy: 0.8071 - val_loss: 0.3187 - val_accuracy: 0.8955\n",
      "Epoch 5/32\n",
      "20/20 [==============================] - 17s 863ms/step - loss: 0.4629 - accuracy: 0.8184 - val_loss: 0.3133 - val_accuracy: 0.8980\n",
      "Epoch 6/32\n",
      "20/20 [==============================] - 17s 870ms/step - loss: 0.4697 - accuracy: 0.8208 - val_loss: 0.3113 - val_accuracy: 0.8955\n",
      "Epoch 7/32\n",
      "20/20 [==============================] - 17s 871ms/step - loss: 0.4490 - accuracy: 0.8281 - val_loss: 0.3028 - val_accuracy: 0.8955\n",
      "Epoch 8/32\n",
      "20/20 [==============================] - 17s 876ms/step - loss: 0.4024 - accuracy: 0.8439 - val_loss: 0.3023 - val_accuracy: 0.8955\n",
      "Epoch 9/32\n",
      "20/20 [==============================] - 17s 876ms/step - loss: 0.3938 - accuracy: 0.8516 - val_loss: 0.2884 - val_accuracy: 0.8968\n",
      "Epoch 10/32\n",
      "20/20 [==============================] - 18s 913ms/step - loss: 0.3620 - accuracy: 0.8612 - val_loss: 0.2584 - val_accuracy: 0.8856\n",
      "Epoch 11/32\n",
      "20/20 [==============================] - 17s 886ms/step - loss: 0.3203 - accuracy: 0.8667 - val_loss: 0.2688 - val_accuracy: 0.9192\n",
      "Epoch 12/32\n",
      "20/20 [==============================] - 17s 877ms/step - loss: 0.3276 - accuracy: 0.8792 - val_loss: 0.2573 - val_accuracy: 0.9192\n",
      "Epoch 13/32\n",
      "20/20 [==============================] - 17s 880ms/step - loss: 0.3186 - accuracy: 0.8811 - val_loss: 0.2345 - val_accuracy: 0.9192\n",
      "Epoch 14/32\n",
      "20/20 [==============================] - 17s 881ms/step - loss: 0.2873 - accuracy: 0.8863 - val_loss: 0.2402 - val_accuracy: 0.9129\n",
      "Epoch 15/32\n",
      "20/20 [==============================] - 17s 877ms/step - loss: 0.2794 - accuracy: 0.8920 - val_loss: 0.2522 - val_accuracy: 0.9042\n",
      "Epoch 16/32\n",
      "20/20 [==============================] - 17s 875ms/step - loss: 0.3023 - accuracy: 0.8778 - val_loss: 0.2466 - val_accuracy: 0.9142\n",
      "Epoch 17/32\n",
      "20/20 [==============================] - 17s 873ms/step - loss: 0.2562 - accuracy: 0.9040 - val_loss: 0.2518 - val_accuracy: 0.9241\n",
      "Epoch 18/32\n",
      "20/20 [==============================] - 17s 874ms/step - loss: 0.2544 - accuracy: 0.9056 - val_loss: 0.2719 - val_accuracy: 0.9117\n",
      "Epoch 19/32\n",
      "20/20 [==============================] - 17s 871ms/step - loss: 0.2418 - accuracy: 0.9120 - val_loss: 0.2650 - val_accuracy: 0.9167\n",
      "Epoch 20/32\n",
      "20/20 [==============================] - 17s 871ms/step - loss: 0.2363 - accuracy: 0.9088 - val_loss: 0.2481 - val_accuracy: 0.9104\n",
      "Epoch 21/32\n",
      "20/20 [==============================] - 17s 874ms/step - loss: 0.2514 - accuracy: 0.9023 - val_loss: 0.2491 - val_accuracy: 0.9067\n",
      "Epoch 22/32\n",
      "20/20 [==============================] - 17s 875ms/step - loss: 0.2574 - accuracy: 0.8966 - val_loss: 0.2827 - val_accuracy: 0.8806\n",
      "Epoch 23/32\n",
      "20/20 [==============================] - 17s 880ms/step - loss: 0.2524 - accuracy: 0.9015 - val_loss: 0.2558 - val_accuracy: 0.9216\n",
      "Epoch 24/32\n",
      "20/20 [==============================] - 17s 874ms/step - loss: 0.2320 - accuracy: 0.9118 - val_loss: 0.2749 - val_accuracy: 0.9216\n",
      "Epoch 00024: early stopping\n"
     ]
    }
   ],
   "source": [
    "history = model.fit(X_train,\n",
    "                    y_train,\n",
    "                    validation_data=(X_val, y_val),\n",
    "                    validation_split=0.1,\n",
    "                    validation_batch_size=1,\n",
    "                    epochs=EPOCHS,\n",
    "                    batch_size=BATCH_SIZE,\n",
    "                    steps_per_epoch=STEPS_x_EPOCH,\n",
    "                    use_multiprocessing = True,\n",
    "                    callbacks=[eStop_Val_Loss, eStop_Val_accuracy],\n",
    "                    workers=6\n",
    "                    )"
   ]
  },
  {
   "cell_type": "code",
   "execution_count": 228,
   "id": "southwest-riverside",
   "metadata": {
    "execution": {
     "iopub.execute_input": "2021-05-29T05:34:19.029578Z",
     "iopub.status.busy": "2021-05-29T05:34:19.028961Z",
     "iopub.status.idle": "2021-05-29T05:34:19.278557Z",
     "shell.execute_reply": "2021-05-29T05:34:19.278235Z",
     "shell.execute_reply.started": "2021-05-29T05:34:19.029511Z"
    },
    "tags": []
   },
   "outputs": [
    {
     "data": {
      "image/png": "[encoded data removed]",
      "text/plain": [
       "<Figure size 1440x360 with 2 Axes>"
      ]
     },
     "metadata": {
      "needs_background": "light"
     },
     "output_type": "display_data"
    }
   ],
   "source": [
    "plot_model.plot_history(history)"
   ]
  },
  {
   "cell_type": "code",
   "execution_count": 229,
   "id": "yellow-durham",
   "metadata": {
    "execution": {
     "iopub.execute_input": "2021-05-29T05:34:45.256057Z",
     "iopub.status.busy": "2021-05-29T05:34:45.255543Z",
     "iopub.status.idle": "2021-05-29T05:34:45.342845Z",
     "shell.execute_reply": "2021-05-29T05:34:45.342440Z",
     "shell.execute_reply.started": "2021-05-29T05:34:45.256009Z"
    }
   },
   "outputs": [],
   "source": [
    "model.save_weights('./word2vec/train2')"
   ]
  },
  {
   "cell_type": "code",
   "execution_count": 244,
   "id": "structural-bikini",
   "metadata": {
    "execution": {
     "iopub.execute_input": "2021-05-29T05:57:18.967871Z",
     "iopub.status.busy": "2021-05-29T05:57:18.967358Z",
     "iopub.status.idle": "2021-05-29T05:57:20.065852Z",
     "shell.execute_reply": "2021-05-29T05:57:20.065516Z",
     "shell.execute_reply.started": "2021-05-29T05:57:18.967836Z"
    },
    "tags": []
   },
   "outputs": [
    {
     "name": "stdout",
     "output_type": "stream",
     "text": [
      "Model: \"sequential\"\n",
      "_________________________________________________________________\n",
      "Layer (type)                 Output Shape              Param #   \n",
      "=================================================================\n",
      "embedding (Embedding)        (None, 100, 100)          3682800   \n",
      "_________________________________________________________________\n",
      "bidirectional (Bidirectional (None, 100, 200)          160800    \n",
      "_________________________________________________________________\n",
      "lstm_1 (LSTM)                (None, 16)                13888     \n",
      "_________________________________________________________________\n",
      "dense16 (Dense)              (None, 16)                272       \n",
      "_________________________________________________________________\n",
      "dropout (Dropout)            (None, 16)                0         \n",
      "_________________________________________________________________\n",
      "output4 (Dense)              (None, 2)                 34        \n",
      "=================================================================\n",
      "Total params: 3,857,794\n",
      "Trainable params: 174,994\n",
      "Non-trainable params: 3,682,800\n",
      "_________________________________________________________________\n"
     ]
    }
   ],
   "source": [
    "model = make_model(metrics=METRICS,\n",
    "                   input_dim=input_dim,\n",
    "                   embedding_dim=embedding_dim,\n",
    "                   weights=embedding_matrix,\n",
    "                   input_length=max_seq_len,\n",
    "                   output_bias=BIAS\n",
    "                  )\n",
    "model.summary()"
   ]
  },
  {
   "cell_type": "code",
   "execution_count": 245,
   "id": "american-agent",
   "metadata": {
    "execution": {
     "iopub.execute_input": "2021-05-29T05:57:20.566516Z",
     "iopub.status.busy": "2021-05-29T05:57:20.565885Z",
     "iopub.status.idle": "2021-05-29T05:57:20.572841Z",
     "shell.execute_reply": "2021-05-29T05:57:20.571838Z",
     "shell.execute_reply.started": "2021-05-29T05:57:20.566448Z"
    },
    "tags": []
   },
   "outputs": [],
   "source": [
    "model.layers[0].embeddings_initializer = keras.initializers.zeros()\n",
    "model.layers[3].activation = tf.keras.activations.relu"
   ]
  },
  {
   "cell_type": "code",
   "execution_count": 246,
   "id": "disciplinary-corporation",
   "metadata": {
    "execution": {
     "iopub.execute_input": "2021-05-29T05:57:34.472862Z",
     "iopub.status.busy": "2021-05-29T05:57:34.472254Z",
     "iopub.status.idle": "2021-05-29T05:57:34.478973Z",
     "shell.execute_reply": "2021-05-29T05:57:34.477624Z",
     "shell.execute_reply.started": "2021-05-29T05:57:34.472796Z"
    }
   },
   "outputs": [],
   "source": [
    "EPOCHS = 64"
   ]
  },
  {
   "cell_type": "code",
   "execution_count": 247,
   "id": "spatial-marijuana",
   "metadata": {
    "execution": {
     "iopub.execute_input": "2021-05-29T05:57:35.722153Z",
     "iopub.status.busy": "2021-05-29T05:57:35.721530Z",
     "iopub.status.idle": "2021-05-29T06:15:31.370387Z",
     "shell.execute_reply": "2021-05-29T06:15:31.370088Z",
     "shell.execute_reply.started": "2021-05-29T05:57:35.722085Z"
    },
    "scrolled": true,
    "tags": []
   },
   "outputs": [
    {
     "name": "stdout",
     "output_type": "stream",
     "text": [
      "Epoch 1/64\n",
      "19/19 [==============================] - 22s 931ms/step - loss: 2.9623 - accuracy: 0.1180 - val_loss: 1.5058 - val_accuracy: 0.1206\n",
      "Epoch 2/64\n",
      "19/19 [==============================] - 16s 887ms/step - loss: 1.4210 - accuracy: 0.3540 - val_loss: 0.5506 - val_accuracy: 0.7861\n",
      "Epoch 3/64\n",
      "19/19 [==============================] - 16s 874ms/step - loss: 0.9085 - accuracy: 0.6133 - val_loss: 0.4167 - val_accuracy: 0.7848\n",
      "Epoch 4/64\n",
      "19/19 [==============================] - 17s 888ms/step - loss: 0.7452 - accuracy: 0.6981 - val_loss: 0.3691 - val_accuracy: 0.8010\n",
      "Epoch 5/64\n",
      "19/19 [==============================] - 17s 901ms/step - loss: 0.6728 - accuracy: 0.7384 - val_loss: 0.3739 - val_accuracy: 0.8968\n",
      "Epoch 6/64\n",
      "19/19 [==============================] - 17s 914ms/step - loss: 0.6230 - accuracy: 0.7760 - val_loss: 0.3641 - val_accuracy: 0.8955\n",
      "Epoch 7/64\n",
      "19/19 [==============================] - 17s 904ms/step - loss: 0.5938 - accuracy: 0.7883 - val_loss: 0.3392 - val_accuracy: 0.8968\n",
      "Epoch 8/64\n",
      "19/19 [==============================] - 17s 908ms/step - loss: 0.5476 - accuracy: 0.7993 - val_loss: 0.3286 - val_accuracy: 0.8968\n",
      "Epoch 9/64\n",
      "19/19 [==============================] - 17s 917ms/step - loss: 0.4845 - accuracy: 0.8110 - val_loss: 0.3155 - val_accuracy: 0.8980\n",
      "Epoch 10/64\n",
      "19/19 [==============================] - 17s 892ms/step - loss: 0.5011 - accuracy: 0.8024 - val_loss: 0.3078 - val_accuracy: 0.8968\n",
      "Epoch 11/64\n",
      "19/19 [==============================] - 17s 900ms/step - loss: 0.4579 - accuracy: 0.8187 - val_loss: 0.3054 - val_accuracy: 0.9005\n",
      "Epoch 12/64\n",
      "19/19 [==============================] - 17s 905ms/step - loss: 0.4429 - accuracy: 0.8253 - val_loss: 0.3004 - val_accuracy: 0.8968\n",
      "Epoch 13/64\n",
      "19/19 [==============================] - 17s 912ms/step - loss: 0.4427 - accuracy: 0.8240 - val_loss: 0.2958 - val_accuracy: 0.8893\n",
      "Epoch 14/64\n",
      "19/19 [==============================] - 17s 935ms/step - loss: 0.4096 - accuracy: 0.8429 - val_loss: 0.2636 - val_accuracy: 0.9030\n",
      "Epoch 15/64\n",
      "19/19 [==============================] - 17s 905ms/step - loss: 0.3657 - accuracy: 0.8640 - val_loss: 0.2840 - val_accuracy: 0.9303\n",
      "Epoch 16/64\n",
      "19/19 [==============================] - 17s 915ms/step - loss: 0.3650 - accuracy: 0.8659 - val_loss: 0.2598 - val_accuracy: 0.9254\n",
      "Epoch 17/64\n",
      "19/19 [==============================] - 17s 912ms/step - loss: 0.3381 - accuracy: 0.8765 - val_loss: 0.2429 - val_accuracy: 0.9192\n",
      "Epoch 18/64\n",
      "19/19 [==============================] - 17s 906ms/step - loss: 0.3282 - accuracy: 0.8841 - val_loss: 0.2381 - val_accuracy: 0.9254\n",
      "Epoch 19/64\n",
      "19/19 [==============================] - 17s 917ms/step - loss: 0.2965 - accuracy: 0.8897 - val_loss: 0.2325 - val_accuracy: 0.9266\n",
      "Epoch 20/64\n",
      "19/19 [==============================] - 17s 909ms/step - loss: 0.2812 - accuracy: 0.9022 - val_loss: 0.2544 - val_accuracy: 0.9080\n",
      "Epoch 21/64\n",
      "19/19 [==============================] - 17s 925ms/step - loss: 0.3002 - accuracy: 0.8978 - val_loss: 0.2564 - val_accuracy: 0.9229\n",
      "Epoch 22/64\n",
      "19/19 [==============================] - 17s 892ms/step - loss: 0.3139 - accuracy: 0.8973 - val_loss: 0.2830 - val_accuracy: 0.9279\n",
      "Epoch 23/64\n",
      "19/19 [==============================] - 17s 897ms/step - loss: 0.2815 - accuracy: 0.9083 - val_loss: 0.2370 - val_accuracy: 0.9216\n",
      "Epoch 24/64\n",
      "19/19 [==============================] - 17s 887ms/step - loss: 0.2700 - accuracy: 0.8967 - val_loss: 0.2675 - val_accuracy: 0.9067\n",
      "Epoch 25/64\n",
      "19/19 [==============================] - 17s 889ms/step - loss: 0.2787 - accuracy: 0.8987 - val_loss: 0.2527 - val_accuracy: 0.9192\n",
      "Epoch 26/64\n",
      "19/19 [==============================] - 16s 887ms/step - loss: 0.2672 - accuracy: 0.9028 - val_loss: 0.2697 - val_accuracy: 0.9279\n",
      "Epoch 27/64\n",
      "19/19 [==============================] - 17s 894ms/step - loss: 0.2512 - accuracy: 0.9131 - val_loss: 0.2792 - val_accuracy: 0.8943\n",
      "\n",
      "Epoch 00027: ReduceLROnPlateau reducing learning rate to 0.00010000000474974513.\n",
      "Epoch 28/64\n",
      "19/19 [==============================] - 17s 909ms/step - loss: 0.2529 - accuracy: 0.8997 - val_loss: 0.2576 - val_accuracy: 0.9254\n",
      "Epoch 29/64\n",
      "19/19 [==============================] - 17s 908ms/step - loss: 0.2293 - accuracy: 0.9210 - val_loss: 0.2572 - val_accuracy: 0.9241\n",
      "Epoch 30/64\n",
      "19/19 [==============================] - 17s 900ms/step - loss: 0.2296 - accuracy: 0.9145 - val_loss: 0.2576 - val_accuracy: 0.9266\n",
      "Epoch 31/64\n",
      "19/19 [==============================] - 17s 891ms/step - loss: 0.2170 - accuracy: 0.9253 - val_loss: 0.2581 - val_accuracy: 0.9266\n",
      "Epoch 32/64\n",
      "19/19 [==============================] - 17s 902ms/step - loss: 0.2353 - accuracy: 0.9229 - val_loss: 0.2595 - val_accuracy: 0.9279\n",
      "Epoch 33/64\n",
      "19/19 [==============================] - 17s 911ms/step - loss: 0.2253 - accuracy: 0.9270 - val_loss: 0.2594 - val_accuracy: 0.9279\n",
      "Epoch 34/64\n",
      "19/19 [==============================] - 17s 918ms/step - loss: 0.2065 - accuracy: 0.9278 - val_loss: 0.2612 - val_accuracy: 0.9266\n",
      "Epoch 35/64\n",
      "19/19 [==============================] - 17s 930ms/step - loss: 0.2114 - accuracy: 0.9251 - val_loss: 0.2604 - val_accuracy: 0.9254\n",
      "\n",
      "Epoch 00035: ReduceLROnPlateau reducing learning rate to 1.0000000474974514e-05.\n",
      "Epoch 36/64\n",
      "19/19 [==============================] - 17s 909ms/step - loss: 0.2255 - accuracy: 0.9228 - val_loss: 0.2606 - val_accuracy: 0.9266\n",
      "Epoch 37/64\n",
      "19/19 [==============================] - 17s 912ms/step - loss: 0.2237 - accuracy: 0.9251 - val_loss: 0.2607 - val_accuracy: 0.9266\n",
      "Epoch 38/64\n",
      "19/19 [==============================] - 17s 918ms/step - loss: 0.2204 - accuracy: 0.9247 - val_loss: 0.2609 - val_accuracy: 0.9266\n",
      "Epoch 39/64\n",
      "19/19 [==============================] - 17s 901ms/step - loss: 0.2219 - accuracy: 0.9232 - val_loss: 0.2611 - val_accuracy: 0.9254\n",
      "Epoch 40/64\n",
      "19/19 [==============================] - 17s 889ms/step - loss: 0.2171 - accuracy: 0.9291 - val_loss: 0.2612 - val_accuracy: 0.9254\n",
      "Epoch 41/64\n",
      "19/19 [==============================] - 16s 886ms/step - loss: 0.2132 - accuracy: 0.9231 - val_loss: 0.2614 - val_accuracy: 0.9266\n",
      "Epoch 42/64\n",
      "19/19 [==============================] - 17s 887ms/step - loss: 0.2073 - accuracy: 0.9262 - val_loss: 0.2615 - val_accuracy: 0.9266\n",
      "Epoch 43/64\n",
      "19/19 [==============================] - 17s 897ms/step - loss: 0.2022 - accuracy: 0.9301 - val_loss: 0.2617 - val_accuracy: 0.9266\n",
      "\n",
      "Epoch 00043: ReduceLROnPlateau reducing learning rate to 1.0000000656873453e-06.\n",
      "Epoch 44/64\n",
      "19/19 [==============================] - 17s 906ms/step - loss: 0.2145 - accuracy: 0.9282 - val_loss: 0.2617 - val_accuracy: 0.9266\n",
      "Epoch 45/64\n",
      "19/19 [==============================] - 16s 886ms/step - loss: 0.2177 - accuracy: 0.9259 - val_loss: 0.2617 - val_accuracy: 0.9266\n",
      "Epoch 46/64\n",
      "19/19 [==============================] - 17s 894ms/step - loss: 0.2230 - accuracy: 0.9280 - val_loss: 0.2617 - val_accuracy: 0.9266\n",
      "Epoch 47/64\n",
      "19/19 [==============================] - 17s 901ms/step - loss: 0.2040 - accuracy: 0.9318 - val_loss: 0.2617 - val_accuracy: 0.9266\n",
      "Epoch 48/64\n",
      "19/19 [==============================] - 17s 899ms/step - loss: 0.2299 - accuracy: 0.9171 - val_loss: 0.2617 - val_accuracy: 0.9266\n",
      "Epoch 49/64\n",
      "19/19 [==============================] - 17s 897ms/step - loss: 0.2010 - accuracy: 0.9301 - val_loss: 0.2617 - val_accuracy: 0.9266\n",
      "Epoch 50/64\n",
      "19/19 [==============================] - 17s 892ms/step - loss: 0.2144 - accuracy: 0.9241 - val_loss: 0.2618 - val_accuracy: 0.9266\n",
      "Epoch 51/64\n",
      "19/19 [==============================] - 17s 888ms/step - loss: 0.2070 - accuracy: 0.9290 - val_loss: 0.2618 - val_accuracy: 0.9266\n",
      "\n",
      "Epoch 00051: ReduceLROnPlateau reducing learning rate to 1e-06.\n",
      "Epoch 52/64\n",
      "19/19 [==============================] - 16s 885ms/step - loss: 0.2230 - accuracy: 0.9213 - val_loss: 0.2619 - val_accuracy: 0.9279\n",
      "Epoch 53/64\n",
      "19/19 [==============================] - 16s 884ms/step - loss: 0.2130 - accuracy: 0.9277 - val_loss: 0.2619 - val_accuracy: 0.9279\n",
      "Epoch 54/64\n",
      "19/19 [==============================] - 16s 883ms/step - loss: 0.2055 - accuracy: 0.9295 - val_loss: 0.2619 - val_accuracy: 0.9279\n",
      "Epoch 55/64\n",
      "19/19 [==============================] - 16s 885ms/step - loss: 0.1989 - accuracy: 0.9310 - val_loss: 0.2619 - val_accuracy: 0.9279\n",
      "Epoch 56/64\n",
      "19/19 [==============================] - 16s 881ms/step - loss: 0.2241 - accuracy: 0.9224 - val_loss: 0.2619 - val_accuracy: 0.9279\n",
      "Epoch 57/64\n",
      "19/19 [==============================] - 17s 885ms/step - loss: 0.2040 - accuracy: 0.9277 - val_loss: 0.2619 - val_accuracy: 0.9279\n",
      "Epoch 58/64\n",
      "19/19 [==============================] - 16s 883ms/step - loss: 0.2135 - accuracy: 0.9251 - val_loss: 0.2619 - val_accuracy: 0.9279\n",
      "Epoch 59/64\n",
      "19/19 [==============================] - 16s 882ms/step - loss: 0.2303 - accuracy: 0.9255 - val_loss: 0.2620 - val_accuracy: 0.9279\n",
      "Epoch 60/64\n",
      "19/19 [==============================] - 16s 882ms/step - loss: 0.1925 - accuracy: 0.9329 - val_loss: 0.2620 - val_accuracy: 0.9279\n",
      "Epoch 61/64\n",
      "19/19 [==============================] - 16s 883ms/step - loss: 0.1991 - accuracy: 0.9298 - val_loss: 0.2620 - val_accuracy: 0.9279\n",
      "Epoch 62/64\n",
      "19/19 [==============================] - 16s 882ms/step - loss: 0.2135 - accuracy: 0.9269 - val_loss: 0.2620 - val_accuracy: 0.9279\n",
      "Epoch 63/64\n",
      "19/19 [==============================] - 16s 881ms/step - loss: 0.2082 - accuracy: 0.9272 - val_loss: 0.2620 - val_accuracy: 0.9279\n",
      "Epoch 64/64\n",
      "19/19 [==============================] - 17s 891ms/step - loss: 0.2094 - accuracy: 0.9269 - val_loss: 0.2619 - val_accuracy: 0.9279\n"
     ]
    }
   ],
   "source": [
    "history = model.fit(X_train,\n",
    "                    y_train,\n",
    "                    validation_data=(X_val, y_val),\n",
    "                    validation_split=0.1,\n",
    "                    validation_batch_size=1,\n",
    "                    epochs=EPOCHS,\n",
    "                    batch_size=BATCH_SIZE,\n",
    "#                     steps_per_epoch=STEPS_x_EPOCH,\n",
    "                    use_multiprocessing = True,\n",
    "                    callbacks=eStop_Reduce_lr,\n",
    "                    workers=6\n",
    "                    )"
   ]
  },
  {
   "cell_type": "code",
   "execution_count": 570,
   "id": "genuine-appointment",
   "metadata": {
    "execution": {
     "iopub.execute_input": "2021-05-29T19:38:07.418456Z",
     "iopub.status.busy": "2021-05-29T19:38:07.418124Z",
     "iopub.status.idle": "2021-05-29T19:38:07.749295Z",
     "shell.execute_reply": "2021-05-29T19:38:07.748979Z",
     "shell.execute_reply.started": "2021-05-29T19:38:07.418423Z"
    },
    "tags": []
   },
   "outputs": [
    {
     "data": {
      "image/png": "[encoded data removed]",
      "text/plain": [
       "<Figure size 1440x360 with 3 Axes>"
      ]
     },
     "metadata": {
      "needs_background": "light"
     },
     "output_type": "display_data"
    }
   ],
   "source": [
    "plot_model.plot_history(history)"
   ]
  },
  {
   "cell_type": "code",
   "execution_count": 249,
   "id": "sudden-affiliation",
   "metadata": {
    "execution": {
     "iopub.execute_input": "2021-05-29T06:18:14.637751Z",
     "iopub.status.busy": "2021-05-29T06:18:14.637120Z",
     "iopub.status.idle": "2021-05-29T06:18:14.722294Z",
     "shell.execute_reply": "2021-05-29T06:18:14.721849Z",
     "shell.execute_reply.started": "2021-05-29T06:18:14.637683Z"
    }
   },
   "outputs": [],
   "source": [
    "model.save_weights('./word2vec/word2vec')"
   ]
  },
  {
   "cell_type": "code",
   "execution_count": 264,
   "id": "detailed-mirror",
   "metadata": {
    "execution": {
     "iopub.execute_input": "2021-05-29T15:32:56.272241Z",
     "iopub.status.busy": "2021-05-29T15:32:56.271840Z",
     "iopub.status.idle": "2021-05-29T15:33:07.713626Z",
     "shell.execute_reply": "2021-05-29T15:33:07.713186Z",
     "shell.execute_reply.started": "2021-05-29T15:32:56.272200Z"
    },
    "tags": []
   },
   "outputs": [],
   "source": [
    "score = model.evaluate(X_test, y_test, batch_size=1, steps=X_test.shape[0], workers=8, verbose=0)"
   ]
  },
  {
   "cell_type": "code",
   "execution_count": 269,
   "id": "primary-twelve",
   "metadata": {
    "execution": {
     "iopub.execute_input": "2021-05-29T15:35:59.091976Z",
     "iopub.status.busy": "2021-05-29T15:35:59.091438Z",
     "iopub.status.idle": "2021-05-29T15:36:11.585858Z",
     "shell.execute_reply": "2021-05-29T15:36:11.585457Z",
     "shell.execute_reply.started": "2021-05-29T15:35:59.091922Z"
    },
    "tags": []
   },
   "outputs": [],
   "source": [
    "y_pred = model.predict(X_test, batch_size=1,verbose=0)"
   ]
  },
  {
   "cell_type": "code",
   "execution_count": 572,
   "id": "intensive-holiday",
   "metadata": {
    "execution": {
     "iopub.execute_input": "2021-05-29T19:39:02.610832Z",
     "iopub.status.busy": "2021-05-29T19:39:02.610234Z",
     "iopub.status.idle": "2021-05-29T19:39:02.617188Z",
     "shell.execute_reply": "2021-05-29T19:39:02.616238Z",
     "shell.execute_reply.started": "2021-05-29T19:39:02.610766Z"
    }
   },
   "outputs": [
    {
     "name": "stdout",
     "output_type": "stream",
     "text": [
      "Accuracy : 0.928067684173584\n"
     ]
    }
   ],
   "source": [
    "print('Accuracy :', score[1])"
   ]
  },
  {
   "cell_type": "code",
   "execution_count": 571,
   "id": "anticipated-comment",
   "metadata": {
    "execution": {
     "iopub.execute_input": "2021-05-29T19:38:56.175606Z",
     "iopub.status.busy": "2021-05-29T19:38:56.174866Z",
     "iopub.status.idle": "2021-05-29T19:38:56.334410Z",
     "shell.execute_reply": "2021-05-29T19:38:56.334043Z",
     "shell.execute_reply.started": "2021-05-29T19:38:56.175527Z"
    },
    "tags": []
   },
   "outputs": [
    {
     "data": {
      "image/png": "[encoded data removed]",
      "text/plain": [
       "<Figure size 720x360 with 2 Axes>"
      ]
     },
     "metadata": {
      "needs_background": "light"
     },
     "output_type": "display_data"
    }
   ],
   "source": [
    "plot_model.confusion_matrix(y_true=y_test, y_pred=y_pred, target_name=ohe.categories_[0], file_name='./img/cm.jpg')"
   ]
  },
  {
   "cell_type": "code",
   "execution_count": 573,
   "id": "norman-cooking",
   "metadata": {
    "execution": {
     "iopub.execute_input": "2021-05-29T19:39:38.385756Z",
     "iopub.status.busy": "2021-05-29T19:39:38.385398Z",
     "iopub.status.idle": "2021-05-29T19:39:38.559451Z",
     "shell.execute_reply": "2021-05-29T19:39:38.559091Z",
     "shell.execute_reply.started": "2021-05-29T19:39:38.385722Z"
    },
    "tags": []
   },
   "outputs": [
    {
     "data": {
      "image/png": "[encoded data removed]",
      "text/plain": [
       "<Figure size 432x360 with 1 Axes>"
      ]
     },
     "metadata": {
      "needs_background": "light"
     },
     "output_type": "display_data"
    }
   ],
   "source": [
    "plot_model.plot_roc_curve(y_true=y_test, y_pred=y_pred, file_name='./img/roc.jpg')"
   ]
  },
  {
   "cell_type": "code",
   "execution_count": null,
   "id": "oriental-compatibility",
   "metadata": {},
   "outputs": [],
   "source": []
  }
 ],
 "metadata": {
  "kernelspec": {
   "display_name": "myenv",
   "language": "python",
   "name": "myenv"
  },
  "language_info": {
   "codemirror_mode": {
    "name": "ipython",
    "version": 3
   },
   "file_extension": ".py",
   "mimetype": "text/x-python",
   "name": "python",
   "nbconvert_exporter": "python",
   "pygments_lexer": "ipython3",
   "version": "3.9.5"
  }
 },
 "nbformat": 4,
 "nbformat_minor": 5
}
