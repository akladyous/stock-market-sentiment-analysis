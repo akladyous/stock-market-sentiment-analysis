{
 "cells": [
  {
   "cell_type": "code",
   "execution_count": 1,
   "id": "8f66baab-facd-41db-8045-8798f4f51f19",
   "metadata": {},
   "outputs": [],
   "source": [
    "run __init__.py"
   ]
  },
  {
   "cell_type": "code",
   "execution_count": 2,
   "id": "6fd12fd9-374e-413e-90b8-29062242a294",
   "metadata": {},
   "outputs": [
    {
     "data": {
      "text/html": [
       "        <script type=\"text/javascript\">\n",
       "        window.PlotlyConfig = {MathJaxConfig: 'local'};\n",
       "        if (window.MathJax) {MathJax.Hub.Config({SVG: {font: \"STIX-Web\"}});}\n",
       "        if (typeof require !== 'undefined') {\n",
       "        require.undef(\"plotly\");\n",
       "        requirejs.config({\n",
       "            paths: {\n",
       "                'plotly': ['https://cdn.plot.ly/plotly-latest.min']\n",
       "            }\n",
       "        });\n",
       "        require(['plotly'], function(Plotly) {\n",
       "            window._Plotly = Plotly;\n",
       "        });\n",
       "        }\n",
       "        </script>\n",
       "        "
      ]
     },
     "metadata": {},
     "output_type": "display_data"
    },
    {
     "data": {
      "text/html": [
       "        <script type=\"text/javascript\">\n",
       "        window.PlotlyConfig = {MathJaxConfig: 'local'};\n",
       "        if (window.MathJax) {MathJax.Hub.Config({SVG: {font: \"STIX-Web\"}});}\n",
       "        if (typeof require !== 'undefined') {\n",
       "        require.undef(\"plotly\");\n",
       "        requirejs.config({\n",
       "            paths: {\n",
       "                'plotly': ['https://cdn.plot.ly/plotly-latest.min']\n",
       "            }\n",
       "        });\n",
       "        require(['plotly'], function(Plotly) {\n",
       "            window._Plotly = Plotly;\n",
       "        });\n",
       "        }\n",
       "        </script>\n",
       "        "
      ]
     },
     "metadata": {},
     "output_type": "display_data"
    }
   ],
   "source": [
    "import plotly.express as px\n",
    "import pandas as pd\n",
    "\n",
    "import dash\n",
    "import dash_core_components as dcc\n",
    "import dash_html_components as html\n",
    "import pandas as pd\n",
    "# import plotly.graph_objs as go\n",
    "from dash.dependencies import Input, Output\n",
    "from dash.exceptions import PreventUpdate\n",
    "import dash_bootstrap_components as dbc\n",
    "# import plotly.graph_objects as go\n",
    "\n",
    "import plotly.express as px\n",
    "from plotly.offline import download_plotlyjs, init_notebook_mode, plot, iplot\n",
    "init_notebook_mode(connected=True)\n",
    "import plotly.graph_objects as go\n",
    "init_notebook_mode(connected=True)"
   ]
  },
  {
   "cell_type": "code",
   "execution_count": 13,
   "id": "af9f9c1f-9e76-4c09-b100-7e3eebe39f01",
   "metadata": {},
   "outputs": [],
   "source": [
    "from datetime_util import datetime2str, timestamp2datetime\n",
    "from finnhub_api import FinnHub_init, Finnhub\n",
    "from datetime import datetime, timedelta\n",
    "from joblib import load, dump"
   ]
  },
  {
   "cell_type": "code",
   "execution_count": 25,
   "id": "bca7a5d8-b951-4de3-b95a-b18e85902b9a",
   "metadata": {},
   "outputs": [],
   "source": [
    "import plotly.express as px"
   ]
  },
  {
   "cell_type": "code",
   "execution_count": 125,
   "id": "7d5c8afd-1673-4f51-b342-46ed70a36147",
   "metadata": {},
   "outputs": [],
   "source": [
    "def live_update_price(symbol):\n",
    "    finnhub_key = load('./finnhub/finnhub_key.pkl', 'rb')\n",
    "    start_date = datetime2str(datetime.now() - timedelta(minutes=60))\n",
    "    end_date = datetime2str(datetime.now())\n",
    "    symbol = symbol\n",
    "    \n",
    "    print(start_date)\n",
    "    print(end_date)\n",
    "    finhub_inst = Finnhub(finnhub_key, start_date, end_date, symbol)\n",
    "    df = finhub_inst.stock_candles(\"1\")\n",
    "    df['date'] = df['date'].apply(lambda x: timestamp2datetime(x))\n",
    "    df['date'] = pd.to_datetime(df['date'], infer_datetime_format=True)\n",
    "    return df"
   ]
  },
  {
   "cell_type": "code",
   "execution_count": 126,
   "id": "ed8d2651-0dd2-44fd-a0c3-30509fc1e51a",
   "metadata": {},
   "outputs": [
    {
     "name": "stdout",
     "output_type": "stream",
     "text": [
      "2021-06-14 17:21:01\n",
      "2021-06-14 18:21:01\n"
     ]
    }
   ],
   "source": [
    "df2 = live_update_price(\"AAPL\")"
   ]
  },
  {
   "cell_type": "code",
   "execution_count": 22,
   "id": "d7341280-1aca-4a5e-aeee-3c5530ea883f",
   "metadata": {},
   "outputs": [],
   "source": [
    "df1 = live_update_price(\"AAPL\")"
   ]
  },
  {
   "cell_type": "code",
   "execution_count": 127,
   "id": "2969ea34-68c5-4fce-8eeb-36f5f2607f20",
   "metadata": {},
   "outputs": [
    {
     "data": {
      "text/plain": [
       "Timestamp('2021-06-14 18:20:00')"
      ]
     },
     "execution_count": 127,
     "metadata": {},
     "output_type": "execute_result"
    }
   ],
   "source": [
    "df2['date'].max()"
   ]
  },
  {
   "cell_type": "code",
   "execution_count": 104,
   "id": "da947517-dfdd-4b43-8bbd-57c33eb90956",
   "metadata": {},
   "outputs": [
    {
     "data": {
      "text/html": [
       "<div>\n",
       "<style scoped>\n",
       "    .dataframe tbody tr th:only-of-type {\n",
       "        vertical-align: middle;\n",
       "    }\n",
       "\n",
       "    .dataframe tbody tr th {\n",
       "        vertical-align: top;\n",
       "    }\n",
       "\n",
       "    .dataframe thead th {\n",
       "        text-align: right;\n",
       "    }\n",
       "</style>\n",
       "<table border=\"1\" class=\"dataframe\">\n",
       "  <thead>\n",
       "    <tr style=\"text-align: right;\">\n",
       "      <th></th>\n",
       "      <th>close</th>\n",
       "      <th>high</th>\n",
       "      <th>low</th>\n",
       "      <th>open</th>\n",
       "      <th>status</th>\n",
       "      <th>date</th>\n",
       "      <th>volume</th>\n",
       "    </tr>\n",
       "  </thead>\n",
       "  <tbody>\n",
       "  </tbody>\n",
       "</table>\n",
       "</div>"
      ],
      "text/plain": [
       "Empty DataFrame\n",
       "Columns: [close, high, low, open, status, date, volume]\n",
       "Index: []"
      ]
     },
     "execution_count": 104,
     "metadata": {},
     "output_type": "execute_result"
    }
   ],
   "source": [
    "df1.filter(\"open=='130.48'\", axis=0)"
   ]
  },
  {
   "cell_type": "code",
   "execution_count": 128,
   "id": "f9da805d-5372-484d-b850-23cf4bbe57d6",
   "metadata": {},
   "outputs": [
    {
     "data": {
      "text/html": [
       "<div>\n",
       "<style scoped>\n",
       "    .dataframe tbody tr th:only-of-type {\n",
       "        vertical-align: middle;\n",
       "    }\n",
       "\n",
       "    .dataframe tbody tr th {\n",
       "        vertical-align: top;\n",
       "    }\n",
       "\n",
       "    .dataframe thead th {\n",
       "        text-align: right;\n",
       "    }\n",
       "</style>\n",
       "<table border=\"1\" class=\"dataframe\">\n",
       "  <thead>\n",
       "    <tr style=\"text-align: right;\">\n",
       "      <th></th>\n",
       "      <th>close</th>\n",
       "      <th>high</th>\n",
       "      <th>low</th>\n",
       "      <th>open</th>\n",
       "      <th>status</th>\n",
       "      <th>date</th>\n",
       "      <th>volume</th>\n",
       "    </tr>\n",
       "  </thead>\n",
       "  <tbody>\n",
       "    <tr>\n",
       "      <th>45</th>\n",
       "      <td>130.28</td>\n",
       "      <td>130.28</td>\n",
       "      <td>130.28</td>\n",
       "      <td>130.28</td>\n",
       "      <td>ok</td>\n",
       "      <td>2021-06-14 18:15:00</td>\n",
       "      <td>405</td>\n",
       "    </tr>\n",
       "    <tr>\n",
       "      <th>46</th>\n",
       "      <td>130.26</td>\n",
       "      <td>130.27</td>\n",
       "      <td>130.26</td>\n",
       "      <td>130.27</td>\n",
       "      <td>ok</td>\n",
       "      <td>2021-06-14 18:16:00</td>\n",
       "      <td>1018</td>\n",
       "    </tr>\n",
       "    <tr>\n",
       "      <th>47</th>\n",
       "      <td>130.27</td>\n",
       "      <td>130.27</td>\n",
       "      <td>130.27</td>\n",
       "      <td>130.27</td>\n",
       "      <td>ok</td>\n",
       "      <td>2021-06-14 18:18:00</td>\n",
       "      <td>99</td>\n",
       "    </tr>\n",
       "    <tr>\n",
       "      <th>48</th>\n",
       "      <td>130.26</td>\n",
       "      <td>130.26</td>\n",
       "      <td>130.26</td>\n",
       "      <td>130.26</td>\n",
       "      <td>ok</td>\n",
       "      <td>2021-06-14 18:19:00</td>\n",
       "      <td>165</td>\n",
       "    </tr>\n",
       "    <tr>\n",
       "      <th>49</th>\n",
       "      <td>130.27</td>\n",
       "      <td>130.27</td>\n",
       "      <td>130.22</td>\n",
       "      <td>130.25</td>\n",
       "      <td>ok</td>\n",
       "      <td>2021-06-14 18:20:00</td>\n",
       "      <td>2232</td>\n",
       "    </tr>\n",
       "  </tbody>\n",
       "</table>\n",
       "</div>"
      ],
      "text/plain": [
       "     close    high     low    open status                date  volume\n",
       "45  130.28  130.28  130.28  130.28     ok 2021-06-14 18:15:00     405\n",
       "46  130.26  130.27  130.26  130.27     ok 2021-06-14 18:16:00    1018\n",
       "47  130.27  130.27  130.27  130.27     ok 2021-06-14 18:18:00      99\n",
       "48  130.26  130.26  130.26  130.26     ok 2021-06-14 18:19:00     165\n",
       "49  130.27  130.27  130.22  130.25     ok 2021-06-14 18:20:00    2232"
      ]
     },
     "execution_count": 128,
     "metadata": {},
     "output_type": "execute_result"
    }
   ],
   "source": [
    "df2.tail()"
   ]
  },
  {
   "cell_type": "code",
   "execution_count": 124,
   "id": "72d2c70b-54a0-4c0d-8336-5c213bd57f34",
   "metadata": {},
   "outputs": [
    {
     "data": {
      "text/html": [
       "<div>\n",
       "<style scoped>\n",
       "    .dataframe tbody tr th:only-of-type {\n",
       "        vertical-align: middle;\n",
       "    }\n",
       "\n",
       "    .dataframe tbody tr th {\n",
       "        vertical-align: top;\n",
       "    }\n",
       "\n",
       "    .dataframe thead th {\n",
       "        text-align: right;\n",
       "    }\n",
       "</style>\n",
       "<table border=\"1\" class=\"dataframe\">\n",
       "  <thead>\n",
       "    <tr style=\"text-align: right;\">\n",
       "      <th></th>\n",
       "      <th>close</th>\n",
       "      <th>high</th>\n",
       "      <th>low</th>\n",
       "      <th>open</th>\n",
       "      <th>status</th>\n",
       "      <th>date</th>\n",
       "      <th>volume</th>\n",
       "    </tr>\n",
       "  </thead>\n",
       "  <tbody>\n",
       "    <tr>\n",
       "      <th>57</th>\n",
       "      <td>130.39</td>\n",
       "      <td>130.48</td>\n",
       "      <td>130.39</td>\n",
       "      <td>130.48</td>\n",
       "      <td>ok</td>\n",
       "      <td>2021-06-14 16:57:00</td>\n",
       "      <td>319188</td>\n",
       "    </tr>\n",
       "  </tbody>\n",
       "</table>\n",
       "</div>"
      ],
      "text/plain": [
       "     close    high     low    open status                date  volume\n",
       "57  130.39  130.48  130.39  130.48     ok 2021-06-14 16:57:00  319188"
      ]
     },
     "execution_count": 124,
     "metadata": {},
     "output_type": "execute_result"
    }
   ],
   "source": [
    "df1.iloc[-1:]"
   ]
  },
  {
   "cell_type": "code",
   "execution_count": 113,
   "id": "13e4c879-189e-4ab3-831d-c129276d7fa7",
   "metadata": {},
   "outputs": [
    {
     "data": {
      "text/html": [
       "<div>\n",
       "<style scoped>\n",
       "    .dataframe tbody tr th:only-of-type {\n",
       "        vertical-align: middle;\n",
       "    }\n",
       "\n",
       "    .dataframe tbody tr th {\n",
       "        vertical-align: top;\n",
       "    }\n",
       "\n",
       "    .dataframe thead th {\n",
       "        text-align: right;\n",
       "    }\n",
       "</style>\n",
       "<table border=\"1\" class=\"dataframe\">\n",
       "  <thead>\n",
       "    <tr style=\"text-align: right;\">\n",
       "      <th></th>\n",
       "      <th>close</th>\n",
       "      <th>high</th>\n",
       "      <th>low</th>\n",
       "      <th>open</th>\n",
       "      <th>status</th>\n",
       "      <th>date</th>\n",
       "      <th>volume</th>\n",
       "    </tr>\n",
       "  </thead>\n",
       "  <tbody>\n",
       "    <tr>\n",
       "      <th>57</th>\n",
       "      <td>130.39</td>\n",
       "      <td>130.48</td>\n",
       "      <td>130.39</td>\n",
       "      <td>130.48</td>\n",
       "      <td>ok</td>\n",
       "      <td>2021-06-14 16:57:00</td>\n",
       "      <td>319188</td>\n",
       "    </tr>\n",
       "  </tbody>\n",
       "</table>\n",
       "</div>"
      ],
      "text/plain": [
       "     close    high     low    open status                date  volume\n",
       "57  130.39  130.48  130.39  130.48     ok 2021-06-14 16:57:00  319188"
      ]
     },
     "execution_count": 113,
     "metadata": {},
     "output_type": "execute_result"
    }
   ],
   "source": [
    "df1.query(\"date=='2021-06-14 16:57:00'\")"
   ]
  },
  {
   "cell_type": "code",
   "execution_count": 93,
   "id": "a220cd9a-a026-4eaf-bfd6-6cb2e8288a59",
   "metadata": {},
   "outputs": [
    {
     "data": {
      "text/html": [
       "<div>\n",
       "<style scoped>\n",
       "    .dataframe tbody tr th:only-of-type {\n",
       "        vertical-align: middle;\n",
       "    }\n",
       "\n",
       "    .dataframe tbody tr th {\n",
       "        vertical-align: top;\n",
       "    }\n",
       "\n",
       "    .dataframe thead th {\n",
       "        text-align: right;\n",
       "    }\n",
       "</style>\n",
       "<table border=\"1\" class=\"dataframe\">\n",
       "  <thead>\n",
       "    <tr style=\"text-align: right;\">\n",
       "      <th></th>\n",
       "      <th>close</th>\n",
       "      <th>high</th>\n",
       "      <th>low</th>\n",
       "      <th>open</th>\n",
       "      <th>status</th>\n",
       "      <th>date</th>\n",
       "      <th>volume</th>\n",
       "    </tr>\n",
       "  </thead>\n",
       "  <tbody>\n",
       "    <tr>\n",
       "      <th>57</th>\n",
       "      <td>130.39</td>\n",
       "      <td>130.48</td>\n",
       "      <td>130.39</td>\n",
       "      <td>130.48</td>\n",
       "      <td>ok</td>\n",
       "      <td>2021-06-14 16:57:00</td>\n",
       "      <td>319188</td>\n",
       "    </tr>\n",
       "  </tbody>\n",
       "</table>\n",
       "</div>"
      ],
      "text/plain": [
       "     close    high     low    open status                date  volume\n",
       "57  130.39  130.48  130.39  130.48     ok 2021-06-14 16:57:00  319188"
      ]
     },
     "execution_count": 93,
     "metadata": {},
     "output_type": "execute_result"
    }
   ],
   "source": [
    "df1.loc[df1['date']==df1['date'].max()]"
   ]
  },
  {
   "cell_type": "code",
   "execution_count": 84,
   "id": "e83b71ed-6b6d-4151-9c14-799b932e9d35",
   "metadata": {},
   "outputs": [
    {
     "data": {
      "text/html": [
       "<div>\n",
       "<style scoped>\n",
       "    .dataframe tbody tr th:only-of-type {\n",
       "        vertical-align: middle;\n",
       "    }\n",
       "\n",
       "    .dataframe tbody tr th {\n",
       "        vertical-align: top;\n",
       "    }\n",
       "\n",
       "    .dataframe thead th {\n",
       "        text-align: right;\n",
       "    }\n",
       "</style>\n",
       "<table border=\"1\" class=\"dataframe\">\n",
       "  <thead>\n",
       "    <tr style=\"text-align: right;\">\n",
       "      <th></th>\n",
       "      <th>close</th>\n",
       "      <th>high</th>\n",
       "      <th>low</th>\n",
       "      <th>open</th>\n",
       "      <th>status</th>\n",
       "      <th>date</th>\n",
       "      <th>volume</th>\n",
       "    </tr>\n",
       "  </thead>\n",
       "  <tbody>\n",
       "    <tr>\n",
       "      <th>53</th>\n",
       "      <td>130.40</td>\n",
       "      <td>130.4000</td>\n",
       "      <td>130.38</td>\n",
       "      <td>130.4000</td>\n",
       "      <td>ok</td>\n",
       "      <td>2021-06-14 16:53:00</td>\n",
       "      <td>1384</td>\n",
       "    </tr>\n",
       "    <tr>\n",
       "      <th>54</th>\n",
       "      <td>130.38</td>\n",
       "      <td>130.3901</td>\n",
       "      <td>130.38</td>\n",
       "      <td>130.3901</td>\n",
       "      <td>ok</td>\n",
       "      <td>2021-06-14 16:54:00</td>\n",
       "      <td>1371</td>\n",
       "    </tr>\n",
       "    <tr>\n",
       "      <th>55</th>\n",
       "      <td>130.40</td>\n",
       "      <td>130.4100</td>\n",
       "      <td>130.40</td>\n",
       "      <td>130.4100</td>\n",
       "      <td>ok</td>\n",
       "      <td>2021-06-14 16:55:00</td>\n",
       "      <td>563</td>\n",
       "    </tr>\n",
       "    <tr>\n",
       "      <th>56</th>\n",
       "      <td>130.38</td>\n",
       "      <td>130.4100</td>\n",
       "      <td>130.38</td>\n",
       "      <td>130.4100</td>\n",
       "      <td>ok</td>\n",
       "      <td>2021-06-14 16:56:00</td>\n",
       "      <td>1475888</td>\n",
       "    </tr>\n",
       "    <tr>\n",
       "      <th>57</th>\n",
       "      <td>130.39</td>\n",
       "      <td>130.4800</td>\n",
       "      <td>130.39</td>\n",
       "      <td>130.4800</td>\n",
       "      <td>ok</td>\n",
       "      <td>2021-06-14 16:57:00</td>\n",
       "      <td>319188</td>\n",
       "    </tr>\n",
       "  </tbody>\n",
       "</table>\n",
       "</div>"
      ],
      "text/plain": [
       "     close      high     low      open status                date   volume\n",
       "53  130.40  130.4000  130.38  130.4000     ok 2021-06-14 16:53:00     1384\n",
       "54  130.38  130.3901  130.38  130.3901     ok 2021-06-14 16:54:00     1371\n",
       "55  130.40  130.4100  130.40  130.4100     ok 2021-06-14 16:55:00      563\n",
       "56  130.38  130.4100  130.38  130.4100     ok 2021-06-14 16:56:00  1475888\n",
       "57  130.39  130.4800  130.39  130.4800     ok 2021-06-14 16:57:00   319188"
      ]
     },
     "execution_count": 84,
     "metadata": {},
     "output_type": "execute_result"
    }
   ],
   "source": [
    "df1.tail()"
   ]
  },
  {
   "cell_type": "code",
   "execution_count": null,
   "id": "58268f5a-8c76-45fc-9ce4-eec340bfff3c",
   "metadata": {},
   "outputs": [],
   "source": []
  },
  {
   "cell_type": "code",
   "execution_count": null,
   "id": "ab9ef448-5894-4039-afb3-6be24db0ff56",
   "metadata": {},
   "outputs": [],
   "source": []
  },
  {
   "cell_type": "code",
   "execution_count": 68,
   "id": "10690a6c-7bea-4e2e-bb6b-ebefc108dd53",
   "metadata": {},
   "outputs": [],
   "source": [
    "def plot_price():\n",
    "    fig = px.line(df1, x='date',y=['open' ,'close'])\n",
    "    fig.update_layout(\n",
    "                    height=400,\n",
    "                    width=700,\n",
    "                    margin={\"r\":0,\"t\":50,\"l\":0,\"b\":0},\n",
    "                    paper_bgcolor='white',\n",
    "                    title='Apple Price',\n",
    "            xaxis=dict(\n",
    "                    title='Date & Time',\n",
    "                    linecolor='black',\n",
    "                    titlefont_size=10,\n",
    "                    tickfont_size=10,\n",
    "                    showgrid=False\n",
    "                    ),\n",
    "            yaxis=dict(\n",
    "                    title='Stock Price',\n",
    "                    linecolor='black',\n",
    "                    titlefont_size=10,\n",
    "                    tickfont_size=10,\n",
    "                    showgrid=False\n",
    "                    ),\n",
    "            legend=dict(\n",
    "                    title='Prices',\n",
    "                    x=1,\n",
    "                    y=1,\n",
    "                    bgcolor='rgba(255, 255, 255, 0)',\n",
    "                    bordercolor='rgba(255, 255, 255, 0)'\n",
    "                    )\n",
    "                            )\n",
    "    return fig"
   ]
  },
  {
   "cell_type": "code",
   "execution_count": 69,
   "id": "df051bc5-27aa-4452-bc3a-be6f2f20f313",
   "metadata": {},
   "outputs": [
    {
     "data": {
      "application/vnd.plotly.v1+json": {
       "config": {
        "plotlyServerURL": "https://plot.ly"
       },
       "data": [
        {
         "hovertemplate": "variable=open<br>date=%{x}<br>value=%{y}<extra></extra>",
         "legendgroup": "open",
         "line": {
          "color": "#636efa",
          "dash": "solid"
         },
         "mode": "lines",
         "name": "open",
         "orientation": "v",
         "showlegend": true,
         "type": "scatter",
         "x": [
          "2021-06-14T15:59:00",
          "2021-06-14T16:00:00",
          "2021-06-14T16:01:00",
          "2021-06-14T16:02:00",
          "2021-06-14T16:03:00",
          "2021-06-14T16:04:00",
          "2021-06-14T16:05:00",
          "2021-06-14T16:06:00",
          "2021-06-14T16:07:00",
          "2021-06-14T16:08:00",
          "2021-06-14T16:09:00",
          "2021-06-14T16:10:00",
          "2021-06-14T16:11:00",
          "2021-06-14T16:12:00",
          "2021-06-14T16:13:00",
          "2021-06-14T16:14:00",
          "2021-06-14T16:15:00",
          "2021-06-14T16:16:00",
          "2021-06-14T16:17:00",
          "2021-06-14T16:18:00",
          "2021-06-14T16:19:00",
          "2021-06-14T16:20:00",
          "2021-06-14T16:21:00",
          "2021-06-14T16:22:00",
          "2021-06-14T16:23:00",
          "2021-06-14T16:24:00",
          "2021-06-14T16:25:00",
          "2021-06-14T16:26:00",
          "2021-06-14T16:27:00",
          "2021-06-14T16:28:00",
          "2021-06-14T16:29:00",
          "2021-06-14T16:30:00",
          "2021-06-14T16:31:00",
          "2021-06-14T16:32:00",
          "2021-06-14T16:33:00",
          "2021-06-14T16:34:00",
          "2021-06-14T16:35:00",
          "2021-06-14T16:36:00",
          "2021-06-14T16:37:00",
          "2021-06-14T16:38:00",
          "2021-06-14T16:39:00",
          "2021-06-14T16:40:00",
          "2021-06-14T16:41:00",
          "2021-06-14T16:42:00",
          "2021-06-14T16:43:00",
          "2021-06-14T16:44:00",
          "2021-06-14T16:45:00",
          "2021-06-14T16:46:00",
          "2021-06-14T16:47:00",
          "2021-06-14T16:48:00",
          "2021-06-14T16:49:00",
          "2021-06-14T16:50:00",
          "2021-06-14T16:51:00",
          "2021-06-14T16:53:00",
          "2021-06-14T16:54:00",
          "2021-06-14T16:55:00",
          "2021-06-14T16:56:00",
          "2021-06-14T16:57:00"
         ],
         "xaxis": "x",
         "y": [
          130.35,
          130.485,
          130.4,
          130.48,
          130.395,
          130.41,
          130.4,
          130.4,
          130.39,
          130.38,
          130.39,
          130.36,
          130.38,
          130.33,
          130.33,
          130.33,
          130.34,
          130.37,
          130.36,
          130.33,
          130.34,
          130.33,
          130.33,
          130.31,
          130.32,
          130.36,
          130.4,
          130.4,
          130.41,
          130.42,
          130.42,
          130.43,
          130.43,
          130.43,
          130.44,
          130.44,
          130.42,
          130.41,
          130.41,
          130.4199,
          130.42,
          130.42,
          130.4,
          130.4,
          130.35,
          130.4,
          130.4,
          130.38,
          130.4,
          130.38,
          130.38,
          130.4,
          130.38,
          130.4,
          130.3901,
          130.41,
          130.41,
          130.48
         ],
         "yaxis": "y"
        },
        {
         "hovertemplate": "variable=close<br>date=%{x}<br>value=%{y}<extra></extra>",
         "legendgroup": "close",
         "line": {
          "color": "#EF553B",
          "dash": "solid"
         },
         "mode": "lines",
         "name": "close",
         "orientation": "v",
         "showlegend": true,
         "type": "scatter",
         "x": [
          "2021-06-14T15:59:00",
          "2021-06-14T16:00:00",
          "2021-06-14T16:01:00",
          "2021-06-14T16:02:00",
          "2021-06-14T16:03:00",
          "2021-06-14T16:04:00",
          "2021-06-14T16:05:00",
          "2021-06-14T16:06:00",
          "2021-06-14T16:07:00",
          "2021-06-14T16:08:00",
          "2021-06-14T16:09:00",
          "2021-06-14T16:10:00",
          "2021-06-14T16:11:00",
          "2021-06-14T16:12:00",
          "2021-06-14T16:13:00",
          "2021-06-14T16:14:00",
          "2021-06-14T16:15:00",
          "2021-06-14T16:16:00",
          "2021-06-14T16:17:00",
          "2021-06-14T16:18:00",
          "2021-06-14T16:19:00",
          "2021-06-14T16:20:00",
          "2021-06-14T16:21:00",
          "2021-06-14T16:22:00",
          "2021-06-14T16:23:00",
          "2021-06-14T16:24:00",
          "2021-06-14T16:25:00",
          "2021-06-14T16:26:00",
          "2021-06-14T16:27:00",
          "2021-06-14T16:28:00",
          "2021-06-14T16:29:00",
          "2021-06-14T16:30:00",
          "2021-06-14T16:31:00",
          "2021-06-14T16:32:00",
          "2021-06-14T16:33:00",
          "2021-06-14T16:34:00",
          "2021-06-14T16:35:00",
          "2021-06-14T16:36:00",
          "2021-06-14T16:37:00",
          "2021-06-14T16:38:00",
          "2021-06-14T16:39:00",
          "2021-06-14T16:40:00",
          "2021-06-14T16:41:00",
          "2021-06-14T16:42:00",
          "2021-06-14T16:43:00",
          "2021-06-14T16:44:00",
          "2021-06-14T16:45:00",
          "2021-06-14T16:46:00",
          "2021-06-14T16:47:00",
          "2021-06-14T16:48:00",
          "2021-06-14T16:49:00",
          "2021-06-14T16:50:00",
          "2021-06-14T16:51:00",
          "2021-06-14T16:53:00",
          "2021-06-14T16:54:00",
          "2021-06-14T16:55:00",
          "2021-06-14T16:56:00",
          "2021-06-14T16:57:00"
         ],
         "xaxis": "x",
         "y": [
          130.49,
          130.4,
          130.42,
          130.48,
          130.41,
          130.39,
          130.4,
          130.41,
          130.48,
          130.38,
          130.36,
          130.37,
          130.3101,
          130.38,
          130.33,
          130.34,
          130.37,
          130.32,
          130.33,
          130.32,
          130.33,
          130.32,
          130.32,
          130.31,
          130.34,
          130.4,
          130.41,
          130.4,
          130.41,
          130.42,
          130.43,
          130.43,
          130.43,
          130.44,
          130.45,
          130.44,
          130.42,
          130.41,
          130.41,
          130.42,
          130.42,
          130.41,
          130.38,
          130.39,
          130.4,
          130.4,
          130.4099,
          130.4,
          130.38,
          130.38,
          130.38,
          130.3999,
          130.38,
          130.4,
          130.38,
          130.4,
          130.38,
          130.39
         ],
         "yaxis": "y"
        }
       ],
       "layout": {
        "height": 400,
        "legend": {
         "bgcolor": "rgba(255, 255, 255, 0)",
         "bordercolor": "rgba(255, 255, 255, 0)",
         "title": {
          "text": "Prices"
         },
         "tracegroupgap": 0,
         "x": 1,
         "y": 1
        },
        "margin": {
         "b": 0,
         "l": 0,
         "r": 0,
         "t": 50
        },
        "paper_bgcolor": "white",
        "template": {
         "data": {
          "bar": [
           {
            "error_x": {
             "color": "#2a3f5f"
            },
            "error_y": {
             "color": "#2a3f5f"
            },
            "marker": {
             "line": {
              "color": "#E5ECF6",
              "width": 0.5
             }
            },
            "type": "bar"
           }
          ],
          "barpolar": [
           {
            "marker": {
             "line": {
              "color": "#E5ECF6",
              "width": 0.5
             }
            },
            "type": "barpolar"
           }
          ],
          "carpet": [
           {
            "aaxis": {
             "endlinecolor": "#2a3f5f",
             "gridcolor": "white",
             "linecolor": "white",
             "minorgridcolor": "white",
             "startlinecolor": "#2a3f5f"
            },
            "baxis": {
             "endlinecolor": "#2a3f5f",
             "gridcolor": "white",
             "linecolor": "white",
             "minorgridcolor": "white",
             "startlinecolor": "#2a3f5f"
            },
            "type": "carpet"
           }
          ],
          "choropleth": [
           {
            "colorbar": {
             "outlinewidth": 0,
             "ticks": ""
            },
            "type": "choropleth"
           }
          ],
          "contour": [
           {
            "colorbar": {
             "outlinewidth": 0,
             "ticks": ""
            },
            "colorscale": [
             [
              0,
              "#0d0887"
             ],
             [
              0.1111111111111111,
              "#46039f"
             ],
             [
              0.2222222222222222,
              "#7201a8"
             ],
             [
              0.3333333333333333,
              "#9c179e"
             ],
             [
              0.4444444444444444,
              "#bd3786"
             ],
             [
              0.5555555555555556,
              "#d8576b"
             ],
             [
              0.6666666666666666,
              "#ed7953"
             ],
             [
              0.7777777777777778,
              "#fb9f3a"
             ],
             [
              0.8888888888888888,
              "#fdca26"
             ],
             [
              1,
              "#f0f921"
             ]
            ],
            "type": "contour"
           }
          ],
          "contourcarpet": [
           {
            "colorbar": {
             "outlinewidth": 0,
             "ticks": ""
            },
            "type": "contourcarpet"
           }
          ],
          "heatmap": [
           {
            "colorbar": {
             "outlinewidth": 0,
             "ticks": ""
            },
            "colorscale": [
             [
              0,
              "#0d0887"
             ],
             [
              0.1111111111111111,
              "#46039f"
             ],
             [
              0.2222222222222222,
              "#7201a8"
             ],
             [
              0.3333333333333333,
              "#9c179e"
             ],
             [
              0.4444444444444444,
              "#bd3786"
             ],
             [
              0.5555555555555556,
              "#d8576b"
             ],
             [
              0.6666666666666666,
              "#ed7953"
             ],
             [
              0.7777777777777778,
              "#fb9f3a"
             ],
             [
              0.8888888888888888,
              "#fdca26"
             ],
             [
              1,
              "#f0f921"
             ]
            ],
            "type": "heatmap"
           }
          ],
          "heatmapgl": [
           {
            "colorbar": {
             "outlinewidth": 0,
             "ticks": ""
            },
            "colorscale": [
             [
              0,
              "#0d0887"
             ],
             [
              0.1111111111111111,
              "#46039f"
             ],
             [
              0.2222222222222222,
              "#7201a8"
             ],
             [
              0.3333333333333333,
              "#9c179e"
             ],
             [
              0.4444444444444444,
              "#bd3786"
             ],
             [
              0.5555555555555556,
              "#d8576b"
             ],
             [
              0.6666666666666666,
              "#ed7953"
             ],
             [
              0.7777777777777778,
              "#fb9f3a"
             ],
             [
              0.8888888888888888,
              "#fdca26"
             ],
             [
              1,
              "#f0f921"
             ]
            ],
            "type": "heatmapgl"
           }
          ],
          "histogram": [
           {
            "marker": {
             "colorbar": {
              "outlinewidth": 0,
              "ticks": ""
             }
            },
            "type": "histogram"
           }
          ],
          "histogram2d": [
           {
            "colorbar": {
             "outlinewidth": 0,
             "ticks": ""
            },
            "colorscale": [
             [
              0,
              "#0d0887"
             ],
             [
              0.1111111111111111,
              "#46039f"
             ],
             [
              0.2222222222222222,
              "#7201a8"
             ],
             [
              0.3333333333333333,
              "#9c179e"
             ],
             [
              0.4444444444444444,
              "#bd3786"
             ],
             [
              0.5555555555555556,
              "#d8576b"
             ],
             [
              0.6666666666666666,
              "#ed7953"
             ],
             [
              0.7777777777777778,
              "#fb9f3a"
             ],
             [
              0.8888888888888888,
              "#fdca26"
             ],
             [
              1,
              "#f0f921"
             ]
            ],
            "type": "histogram2d"
           }
          ],
          "histogram2dcontour": [
           {
            "colorbar": {
             "outlinewidth": 0,
             "ticks": ""
            },
            "colorscale": [
             [
              0,
              "#0d0887"
             ],
             [
              0.1111111111111111,
              "#46039f"
             ],
             [
              0.2222222222222222,
              "#7201a8"
             ],
             [
              0.3333333333333333,
              "#9c179e"
             ],
             [
              0.4444444444444444,
              "#bd3786"
             ],
             [
              0.5555555555555556,
              "#d8576b"
             ],
             [
              0.6666666666666666,
              "#ed7953"
             ],
             [
              0.7777777777777778,
              "#fb9f3a"
             ],
             [
              0.8888888888888888,
              "#fdca26"
             ],
             [
              1,
              "#f0f921"
             ]
            ],
            "type": "histogram2dcontour"
           }
          ],
          "mesh3d": [
           {
            "colorbar": {
             "outlinewidth": 0,
             "ticks": ""
            },
            "type": "mesh3d"
           }
          ],
          "parcoords": [
           {
            "line": {
             "colorbar": {
              "outlinewidth": 0,
              "ticks": ""
             }
            },
            "type": "parcoords"
           }
          ],
          "pie": [
           {
            "automargin": true,
            "type": "pie"
           }
          ],
          "scatter": [
           {
            "marker": {
             "colorbar": {
              "outlinewidth": 0,
              "ticks": ""
             }
            },
            "type": "scatter"
           }
          ],
          "scatter3d": [
           {
            "line": {
             "colorbar": {
              "outlinewidth": 0,
              "ticks": ""
             }
            },
            "marker": {
             "colorbar": {
              "outlinewidth": 0,
              "ticks": ""
             }
            },
            "type": "scatter3d"
           }
          ],
          "scattercarpet": [
           {
            "marker": {
             "colorbar": {
              "outlinewidth": 0,
              "ticks": ""
             }
            },
            "type": "scattercarpet"
           }
          ],
          "scattergeo": [
           {
            "marker": {
             "colorbar": {
              "outlinewidth": 0,
              "ticks": ""
             }
            },
            "type": "scattergeo"
           }
          ],
          "scattergl": [
           {
            "marker": {
             "colorbar": {
              "outlinewidth": 0,
              "ticks": ""
             }
            },
            "type": "scattergl"
           }
          ],
          "scattermapbox": [
           {
            "marker": {
             "colorbar": {
              "outlinewidth": 0,
              "ticks": ""
             }
            },
            "type": "scattermapbox"
           }
          ],
          "scatterpolar": [
           {
            "marker": {
             "colorbar": {
              "outlinewidth": 0,
              "ticks": ""
             }
            },
            "type": "scatterpolar"
           }
          ],
          "scatterpolargl": [
           {
            "marker": {
             "colorbar": {
              "outlinewidth": 0,
              "ticks": ""
             }
            },
            "type": "scatterpolargl"
           }
          ],
          "scatterternary": [
           {
            "marker": {
             "colorbar": {
              "outlinewidth": 0,
              "ticks": ""
             }
            },
            "type": "scatterternary"
           }
          ],
          "surface": [
           {
            "colorbar": {
             "outlinewidth": 0,
             "ticks": ""
            },
            "colorscale": [
             [
              0,
              "#0d0887"
             ],
             [
              0.1111111111111111,
              "#46039f"
             ],
             [
              0.2222222222222222,
              "#7201a8"
             ],
             [
              0.3333333333333333,
              "#9c179e"
             ],
             [
              0.4444444444444444,
              "#bd3786"
             ],
             [
              0.5555555555555556,
              "#d8576b"
             ],
             [
              0.6666666666666666,
              "#ed7953"
             ],
             [
              0.7777777777777778,
              "#fb9f3a"
             ],
             [
              0.8888888888888888,
              "#fdca26"
             ],
             [
              1,
              "#f0f921"
             ]
            ],
            "type": "surface"
           }
          ],
          "table": [
           {
            "cells": {
             "fill": {
              "color": "#EBF0F8"
             },
             "line": {
              "color": "white"
             }
            },
            "header": {
             "fill": {
              "color": "#C8D4E3"
             },
             "line": {
              "color": "white"
             }
            },
            "type": "table"
           }
          ]
         },
         "layout": {
          "annotationdefaults": {
           "arrowcolor": "#2a3f5f",
           "arrowhead": 0,
           "arrowwidth": 1
          },
          "autotypenumbers": "strict",
          "coloraxis": {
           "colorbar": {
            "outlinewidth": 0,
            "ticks": ""
           }
          },
          "colorscale": {
           "diverging": [
            [
             0,
             "#8e0152"
            ],
            [
             0.1,
             "#c51b7d"
            ],
            [
             0.2,
             "#de77ae"
            ],
            [
             0.3,
             "#f1b6da"
            ],
            [
             0.4,
             "#fde0ef"
            ],
            [
             0.5,
             "#f7f7f7"
            ],
            [
             0.6,
             "#e6f5d0"
            ],
            [
             0.7,
             "#b8e186"
            ],
            [
             0.8,
             "#7fbc41"
            ],
            [
             0.9,
             "#4d9221"
            ],
            [
             1,
             "#276419"
            ]
           ],
           "sequential": [
            [
             0,
             "#0d0887"
            ],
            [
             0.1111111111111111,
             "#46039f"
            ],
            [
             0.2222222222222222,
             "#7201a8"
            ],
            [
             0.3333333333333333,
             "#9c179e"
            ],
            [
             0.4444444444444444,
             "#bd3786"
            ],
            [
             0.5555555555555556,
             "#d8576b"
            ],
            [
             0.6666666666666666,
             "#ed7953"
            ],
            [
             0.7777777777777778,
             "#fb9f3a"
            ],
            [
             0.8888888888888888,
             "#fdca26"
            ],
            [
             1,
             "#f0f921"
            ]
           ],
           "sequentialminus": [
            [
             0,
             "#0d0887"
            ],
            [
             0.1111111111111111,
             "#46039f"
            ],
            [
             0.2222222222222222,
             "#7201a8"
            ],
            [
             0.3333333333333333,
             "#9c179e"
            ],
            [
             0.4444444444444444,
             "#bd3786"
            ],
            [
             0.5555555555555556,
             "#d8576b"
            ],
            [
             0.6666666666666666,
             "#ed7953"
            ],
            [
             0.7777777777777778,
             "#fb9f3a"
            ],
            [
             0.8888888888888888,
             "#fdca26"
            ],
            [
             1,
             "#f0f921"
            ]
           ]
          },
          "colorway": [
           "#636efa",
           "#EF553B",
           "#00cc96",
           "#ab63fa",
           "#FFA15A",
           "#19d3f3",
           "#FF6692",
           "#B6E880",
           "#FF97FF",
           "#FECB52"
          ],
          "font": {
           "color": "#2a3f5f"
          },
          "geo": {
           "bgcolor": "white",
           "lakecolor": "white",
           "landcolor": "#E5ECF6",
           "showlakes": true,
           "showland": true,
           "subunitcolor": "white"
          },
          "hoverlabel": {
           "align": "left"
          },
          "hovermode": "closest",
          "mapbox": {
           "style": "light"
          },
          "paper_bgcolor": "white",
          "plot_bgcolor": "#E5ECF6",
          "polar": {
           "angularaxis": {
            "gridcolor": "white",
            "linecolor": "white",
            "ticks": ""
           },
           "bgcolor": "#E5ECF6",
           "radialaxis": {
            "gridcolor": "white",
            "linecolor": "white",
            "ticks": ""
           }
          },
          "scene": {
           "xaxis": {
            "backgroundcolor": "#E5ECF6",
            "gridcolor": "white",
            "gridwidth": 2,
            "linecolor": "white",
            "showbackground": true,
            "ticks": "",
            "zerolinecolor": "white"
           },
           "yaxis": {
            "backgroundcolor": "#E5ECF6",
            "gridcolor": "white",
            "gridwidth": 2,
            "linecolor": "white",
            "showbackground": true,
            "ticks": "",
            "zerolinecolor": "white"
           },
           "zaxis": {
            "backgroundcolor": "#E5ECF6",
            "gridcolor": "white",
            "gridwidth": 2,
            "linecolor": "white",
            "showbackground": true,
            "ticks": "",
            "zerolinecolor": "white"
           }
          },
          "shapedefaults": {
           "line": {
            "color": "#2a3f5f"
           }
          },
          "ternary": {
           "aaxis": {
            "gridcolor": "white",
            "linecolor": "white",
            "ticks": ""
           },
           "baxis": {
            "gridcolor": "white",
            "linecolor": "white",
            "ticks": ""
           },
           "bgcolor": "#E5ECF6",
           "caxis": {
            "gridcolor": "white",
            "linecolor": "white",
            "ticks": ""
           }
          },
          "title": {
           "x": 0.05
          },
          "xaxis": {
           "automargin": true,
           "gridcolor": "white",
           "linecolor": "white",
           "ticks": "",
           "title": {
            "standoff": 15
           },
           "zerolinecolor": "white",
           "zerolinewidth": 2
          },
          "yaxis": {
           "automargin": true,
           "gridcolor": "white",
           "linecolor": "white",
           "ticks": "",
           "title": {
            "standoff": 15
           },
           "zerolinecolor": "white",
           "zerolinewidth": 2
          }
         }
        },
        "title": {
         "text": "Apple Price"
        },
        "width": 700,
        "xaxis": {
         "anchor": "y",
         "autorange": true,
         "domain": [
          0,
          1
         ],
         "linecolor": "black",
         "range": [
          "2021-06-14 15:59",
          "2021-06-14 16:57"
         ],
         "showgrid": false,
         "tickfont": {
          "size": 10
         },
         "title": {
          "font": {
           "size": 10
          },
          "text": "Date & Time"
         },
         "type": "date"
        },
        "yaxis": {
         "anchor": "x",
         "autorange": true,
         "domain": [
          0,
          1
         ],
         "linecolor": "black",
         "range": [
          130.3,
          130.5
         ],
         "showgrid": false,
         "tickfont": {
          "size": 10
         },
         "title": {
          "font": {
           "size": 10
          },
          "text": "Stock Price"
         },
         "type": "linear"
        }
       }
      },
      "image/png": "[encoded data removed]",
      "text/html": [
       "<div>                            <div id=\"3b067703-a58f-4fb5-898b-4b9a5f86c074\" class=\"plotly-graph-div\" style=\"height:400px; width:700px;\"></div>            <script type=\"text/javascript\">                require([\"plotly\"], function(Plotly) {                    window.PLOTLYENV=window.PLOTLYENV || {};                                    if (document.getElementById(\"3b067703-a58f-4fb5-898b-4b9a5f86c074\")) {                    Plotly.newPlot(                        \"3b067703-a58f-4fb5-898b-4b9a5f86c074\",                        [{\"hovertemplate\": \"variable=open<br>date=%{x}<br>value=%{y}<extra></extra>\", \"legendgroup\": \"open\", \"line\": {\"color\": \"#636efa\", \"dash\": \"solid\"}, \"mode\": \"lines\", \"name\": \"open\", \"orientation\": \"v\", \"showlegend\": true, \"type\": \"scatter\", \"x\": [\"2021-06-14T15:59:00\", \"2021-06-14T16:00:00\", \"2021-06-14T16:01:00\", \"2021-06-14T16:02:00\", \"2021-06-14T16:03:00\", \"2021-06-14T16:04:00\", \"2021-06-14T16:05:00\", \"2021-06-14T16:06:00\", \"2021-06-14T16:07:00\", \"2021-06-14T16:08:00\", \"2021-06-14T16:09:00\", \"2021-06-14T16:10:00\", \"2021-06-14T16:11:00\", \"2021-06-14T16:12:00\", \"2021-06-14T16:13:00\", \"2021-06-14T16:14:00\", \"2021-06-14T16:15:00\", \"2021-06-14T16:16:00\", \"2021-06-14T16:17:00\", \"2021-06-14T16:18:00\", \"2021-06-14T16:19:00\", \"2021-06-14T16:20:00\", \"2021-06-14T16:21:00\", \"2021-06-14T16:22:00\", \"2021-06-14T16:23:00\", \"2021-06-14T16:24:00\", \"2021-06-14T16:25:00\", \"2021-06-14T16:26:00\", \"2021-06-14T16:27:00\", \"2021-06-14T16:28:00\", \"2021-06-14T16:29:00\", \"2021-06-14T16:30:00\", \"2021-06-14T16:31:00\", \"2021-06-14T16:32:00\", \"2021-06-14T16:33:00\", \"2021-06-14T16:34:00\", \"2021-06-14T16:35:00\", \"2021-06-14T16:36:00\", \"2021-06-14T16:37:00\", \"2021-06-14T16:38:00\", \"2021-06-14T16:39:00\", \"2021-06-14T16:40:00\", \"2021-06-14T16:41:00\", \"2021-06-14T16:42:00\", \"2021-06-14T16:43:00\", \"2021-06-14T16:44:00\", \"2021-06-14T16:45:00\", \"2021-06-14T16:46:00\", \"2021-06-14T16:47:00\", \"2021-06-14T16:48:00\", \"2021-06-14T16:49:00\", \"2021-06-14T16:50:00\", \"2021-06-14T16:51:00\", \"2021-06-14T16:53:00\", \"2021-06-14T16:54:00\", \"2021-06-14T16:55:00\", \"2021-06-14T16:56:00\", \"2021-06-14T16:57:00\"], \"xaxis\": \"x\", \"y\": [130.35, 130.485, 130.4, 130.48, 130.395, 130.41, 130.4, 130.4, 130.39, 130.38, 130.39, 130.36, 130.38, 130.33, 130.33, 130.33, 130.34, 130.37, 130.36, 130.33, 130.34, 130.33, 130.33, 130.31, 130.32, 130.36, 130.4, 130.4, 130.41, 130.42, 130.42, 130.43, 130.43, 130.43, 130.44, 130.44, 130.42, 130.41, 130.41, 130.4199, 130.42, 130.42, 130.4, 130.4, 130.35, 130.4, 130.4, 130.38, 130.4, 130.38, 130.38, 130.4, 130.38, 130.4, 130.3901, 130.41, 130.41, 130.48], \"yaxis\": \"y\"}, {\"hovertemplate\": \"variable=close<br>date=%{x}<br>value=%{y}<extra></extra>\", \"legendgroup\": \"close\", \"line\": {\"color\": \"#EF553B\", \"dash\": \"solid\"}, \"mode\": \"lines\", \"name\": \"close\", \"orientation\": \"v\", \"showlegend\": true, \"type\": \"scatter\", \"x\": [\"2021-06-14T15:59:00\", \"2021-06-14T16:00:00\", \"2021-06-14T16:01:00\", \"2021-06-14T16:02:00\", \"2021-06-14T16:03:00\", \"2021-06-14T16:04:00\", \"2021-06-14T16:05:00\", \"2021-06-14T16:06:00\", \"2021-06-14T16:07:00\", \"2021-06-14T16:08:00\", \"2021-06-14T16:09:00\", \"2021-06-14T16:10:00\", \"2021-06-14T16:11:00\", \"2021-06-14T16:12:00\", \"2021-06-14T16:13:00\", \"2021-06-14T16:14:00\", \"2021-06-14T16:15:00\", \"2021-06-14T16:16:00\", \"2021-06-14T16:17:00\", \"2021-06-14T16:18:00\", \"2021-06-14T16:19:00\", \"2021-06-14T16:20:00\", \"2021-06-14T16:21:00\", \"2021-06-14T16:22:00\", \"2021-06-14T16:23:00\", \"2021-06-14T16:24:00\", \"2021-06-14T16:25:00\", \"2021-06-14T16:26:00\", \"2021-06-14T16:27:00\", \"2021-06-14T16:28:00\", \"2021-06-14T16:29:00\", \"2021-06-14T16:30:00\", \"2021-06-14T16:31:00\", \"2021-06-14T16:32:00\", \"2021-06-14T16:33:00\", \"2021-06-14T16:34:00\", \"2021-06-14T16:35:00\", \"2021-06-14T16:36:00\", \"2021-06-14T16:37:00\", \"2021-06-14T16:38:00\", \"2021-06-14T16:39:00\", \"2021-06-14T16:40:00\", \"2021-06-14T16:41:00\", \"2021-06-14T16:42:00\", \"2021-06-14T16:43:00\", \"2021-06-14T16:44:00\", \"2021-06-14T16:45:00\", \"2021-06-14T16:46:00\", \"2021-06-14T16:47:00\", \"2021-06-14T16:48:00\", \"2021-06-14T16:49:00\", \"2021-06-14T16:50:00\", \"2021-06-14T16:51:00\", \"2021-06-14T16:53:00\", \"2021-06-14T16:54:00\", \"2021-06-14T16:55:00\", \"2021-06-14T16:56:00\", \"2021-06-14T16:57:00\"], \"xaxis\": \"x\", \"y\": [130.49, 130.4, 130.42, 130.48, 130.41, 130.39, 130.4, 130.41, 130.48, 130.38, 130.36, 130.37, 130.3101, 130.38, 130.33, 130.34, 130.37, 130.32, 130.33, 130.32, 130.33, 130.32, 130.32, 130.31, 130.34, 130.4, 130.41, 130.4, 130.41, 130.42, 130.43, 130.43, 130.43, 130.44, 130.45, 130.44, 130.42, 130.41, 130.41, 130.42, 130.42, 130.41, 130.38, 130.39, 130.4, 130.4, 130.4099, 130.4, 130.38, 130.38, 130.38, 130.3999, 130.38, 130.4, 130.38, 130.4, 130.38, 130.39], \"yaxis\": \"y\"}],                        {\"height\": 400, \"legend\": {\"bgcolor\": \"rgba(255, 255, 255, 0)\", \"bordercolor\": \"rgba(255, 255, 255, 0)\", \"title\": {\"text\": \"Prices\"}, \"tracegroupgap\": 0, \"x\": 1, \"y\": 1}, \"margin\": {\"b\": 0, \"l\": 0, \"r\": 0, \"t\": 50}, \"paper_bgcolor\": \"white\", \"template\": {\"data\": {\"bar\": [{\"error_x\": {\"color\": \"#2a3f5f\"}, \"error_y\": {\"color\": \"#2a3f5f\"}, \"marker\": {\"line\": {\"color\": \"#E5ECF6\", \"width\": 0.5}}, \"type\": \"bar\"}], \"barpolar\": [{\"marker\": {\"line\": {\"color\": \"#E5ECF6\", \"width\": 0.5}}, \"type\": \"barpolar\"}], \"carpet\": [{\"aaxis\": {\"endlinecolor\": \"#2a3f5f\", \"gridcolor\": \"white\", \"linecolor\": \"white\", \"minorgridcolor\": \"white\", \"startlinecolor\": \"#2a3f5f\"}, \"baxis\": {\"endlinecolor\": \"#2a3f5f\", \"gridcolor\": \"white\", \"linecolor\": \"white\", \"minorgridcolor\": \"white\", \"startlinecolor\": \"#2a3f5f\"}, \"type\": \"carpet\"}], \"choropleth\": [{\"colorbar\": {\"outlinewidth\": 0, \"ticks\": \"\"}, \"type\": \"choropleth\"}], \"contour\": [{\"colorbar\": {\"outlinewidth\": 0, \"ticks\": \"\"}, \"colorscale\": [[0.0, \"#0d0887\"], [0.1111111111111111, \"#46039f\"], [0.2222222222222222, \"#7201a8\"], [0.3333333333333333, \"#9c179e\"], [0.4444444444444444, \"#bd3786\"], [0.5555555555555556, \"#d8576b\"], [0.6666666666666666, \"#ed7953\"], [0.7777777777777778, \"#fb9f3a\"], [0.8888888888888888, \"#fdca26\"], [1.0, \"#f0f921\"]], \"type\": \"contour\"}], \"contourcarpet\": [{\"colorbar\": {\"outlinewidth\": 0, \"ticks\": \"\"}, \"type\": \"contourcarpet\"}], \"heatmap\": [{\"colorbar\": {\"outlinewidth\": 0, \"ticks\": \"\"}, \"colorscale\": [[0.0, \"#0d0887\"], [0.1111111111111111, \"#46039f\"], [0.2222222222222222, \"#7201a8\"], [0.3333333333333333, \"#9c179e\"], [0.4444444444444444, \"#bd3786\"], [0.5555555555555556, \"#d8576b\"], [0.6666666666666666, \"#ed7953\"], [0.7777777777777778, \"#fb9f3a\"], [0.8888888888888888, \"#fdca26\"], [1.0, \"#f0f921\"]], \"type\": \"heatmap\"}], \"heatmapgl\": [{\"colorbar\": {\"outlinewidth\": 0, \"ticks\": \"\"}, \"colorscale\": [[0.0, \"#0d0887\"], [0.1111111111111111, \"#46039f\"], [0.2222222222222222, \"#7201a8\"], [0.3333333333333333, \"#9c179e\"], [0.4444444444444444, \"#bd3786\"], [0.5555555555555556, \"#d8576b\"], [0.6666666666666666, \"#ed7953\"], [0.7777777777777778, \"#fb9f3a\"], [0.8888888888888888, \"#fdca26\"], [1.0, \"#f0f921\"]], \"type\": \"heatmapgl\"}], \"histogram\": [{\"marker\": {\"colorbar\": {\"outlinewidth\": 0, \"ticks\": \"\"}}, \"type\": \"histogram\"}], \"histogram2d\": [{\"colorbar\": {\"outlinewidth\": 0, \"ticks\": \"\"}, \"colorscale\": [[0.0, \"#0d0887\"], [0.1111111111111111, \"#46039f\"], [0.2222222222222222, \"#7201a8\"], [0.3333333333333333, \"#9c179e\"], [0.4444444444444444, \"#bd3786\"], [0.5555555555555556, \"#d8576b\"], [0.6666666666666666, \"#ed7953\"], [0.7777777777777778, \"#fb9f3a\"], [0.8888888888888888, \"#fdca26\"], [1.0, \"#f0f921\"]], \"type\": \"histogram2d\"}], \"histogram2dcontour\": [{\"colorbar\": {\"outlinewidth\": 0, \"ticks\": \"\"}, \"colorscale\": [[0.0, \"#0d0887\"], [0.1111111111111111, \"#46039f\"], [0.2222222222222222, \"#7201a8\"], [0.3333333333333333, \"#9c179e\"], [0.4444444444444444, \"#bd3786\"], [0.5555555555555556, \"#d8576b\"], [0.6666666666666666, \"#ed7953\"], [0.7777777777777778, \"#fb9f3a\"], [0.8888888888888888, \"#fdca26\"], [1.0, \"#f0f921\"]], \"type\": \"histogram2dcontour\"}], \"mesh3d\": [{\"colorbar\": {\"outlinewidth\": 0, \"ticks\": \"\"}, \"type\": \"mesh3d\"}], \"parcoords\": [{\"line\": {\"colorbar\": {\"outlinewidth\": 0, \"ticks\": \"\"}}, \"type\": \"parcoords\"}], \"pie\": [{\"automargin\": true, \"type\": \"pie\"}], \"scatter\": [{\"marker\": {\"colorbar\": {\"outlinewidth\": 0, \"ticks\": \"\"}}, \"type\": \"scatter\"}], \"scatter3d\": [{\"line\": {\"colorbar\": {\"outlinewidth\": 0, \"ticks\": \"\"}}, \"marker\": {\"colorbar\": {\"outlinewidth\": 0, \"ticks\": \"\"}}, \"type\": \"scatter3d\"}], \"scattercarpet\": [{\"marker\": {\"colorbar\": {\"outlinewidth\": 0, \"ticks\": \"\"}}, \"type\": \"scattercarpet\"}], \"scattergeo\": [{\"marker\": {\"colorbar\": {\"outlinewidth\": 0, \"ticks\": \"\"}}, \"type\": \"scattergeo\"}], \"scattergl\": [{\"marker\": {\"colorbar\": {\"outlinewidth\": 0, \"ticks\": \"\"}}, \"type\": \"scattergl\"}], \"scattermapbox\": [{\"marker\": {\"colorbar\": {\"outlinewidth\": 0, \"ticks\": \"\"}}, \"type\": \"scattermapbox\"}], \"scatterpolar\": [{\"marker\": {\"colorbar\": {\"outlinewidth\": 0, \"ticks\": \"\"}}, \"type\": \"scatterpolar\"}], \"scatterpolargl\": [{\"marker\": {\"colorbar\": {\"outlinewidth\": 0, \"ticks\": \"\"}}, \"type\": \"scatterpolargl\"}], \"scatterternary\": [{\"marker\": {\"colorbar\": {\"outlinewidth\": 0, \"ticks\": \"\"}}, \"type\": \"scatterternary\"}], \"surface\": [{\"colorbar\": {\"outlinewidth\": 0, \"ticks\": \"\"}, \"colorscale\": [[0.0, \"#0d0887\"], [0.1111111111111111, \"#46039f\"], [0.2222222222222222, \"#7201a8\"], [0.3333333333333333, \"#9c179e\"], [0.4444444444444444, \"#bd3786\"], [0.5555555555555556, \"#d8576b\"], [0.6666666666666666, \"#ed7953\"], [0.7777777777777778, \"#fb9f3a\"], [0.8888888888888888, \"#fdca26\"], [1.0, \"#f0f921\"]], \"type\": \"surface\"}], \"table\": [{\"cells\": {\"fill\": {\"color\": \"#EBF0F8\"}, \"line\": {\"color\": \"white\"}}, \"header\": {\"fill\": {\"color\": \"#C8D4E3\"}, \"line\": {\"color\": \"white\"}}, \"type\": \"table\"}]}, \"layout\": {\"annotationdefaults\": {\"arrowcolor\": \"#2a3f5f\", \"arrowhead\": 0, \"arrowwidth\": 1}, \"autotypenumbers\": \"strict\", \"coloraxis\": {\"colorbar\": {\"outlinewidth\": 0, \"ticks\": \"\"}}, \"colorscale\": {\"diverging\": [[0, \"#8e0152\"], [0.1, \"#c51b7d\"], [0.2, \"#de77ae\"], [0.3, \"#f1b6da\"], [0.4, \"#fde0ef\"], [0.5, \"#f7f7f7\"], [0.6, \"#e6f5d0\"], [0.7, \"#b8e186\"], [0.8, \"#7fbc41\"], [0.9, \"#4d9221\"], [1, \"#276419\"]], \"sequential\": [[0.0, \"#0d0887\"], [0.1111111111111111, \"#46039f\"], [0.2222222222222222, \"#7201a8\"], [0.3333333333333333, \"#9c179e\"], [0.4444444444444444, \"#bd3786\"], [0.5555555555555556, \"#d8576b\"], [0.6666666666666666, \"#ed7953\"], [0.7777777777777778, \"#fb9f3a\"], [0.8888888888888888, \"#fdca26\"], [1.0, \"#f0f921\"]], \"sequentialminus\": [[0.0, \"#0d0887\"], [0.1111111111111111, \"#46039f\"], [0.2222222222222222, \"#7201a8\"], [0.3333333333333333, \"#9c179e\"], [0.4444444444444444, \"#bd3786\"], [0.5555555555555556, \"#d8576b\"], [0.6666666666666666, \"#ed7953\"], [0.7777777777777778, \"#fb9f3a\"], [0.8888888888888888, \"#fdca26\"], [1.0, \"#f0f921\"]]}, \"colorway\": [\"#636efa\", \"#EF553B\", \"#00cc96\", \"#ab63fa\", \"#FFA15A\", \"#19d3f3\", \"#FF6692\", \"#B6E880\", \"#FF97FF\", \"#FECB52\"], \"font\": {\"color\": \"#2a3f5f\"}, \"geo\": {\"bgcolor\": \"white\", \"lakecolor\": \"white\", \"landcolor\": \"#E5ECF6\", \"showlakes\": true, \"showland\": true, \"subunitcolor\": \"white\"}, \"hoverlabel\": {\"align\": \"left\"}, \"hovermode\": \"closest\", \"mapbox\": {\"style\": \"light\"}, \"paper_bgcolor\": \"white\", \"plot_bgcolor\": \"#E5ECF6\", \"polar\": {\"angularaxis\": {\"gridcolor\": \"white\", \"linecolor\": \"white\", \"ticks\": \"\"}, \"bgcolor\": \"#E5ECF6\", \"radialaxis\": {\"gridcolor\": \"white\", \"linecolor\": \"white\", \"ticks\": \"\"}}, \"scene\": {\"xaxis\": {\"backgroundcolor\": \"#E5ECF6\", \"gridcolor\": \"white\", \"gridwidth\": 2, \"linecolor\": \"white\", \"showbackground\": true, \"ticks\": \"\", \"zerolinecolor\": \"white\"}, \"yaxis\": {\"backgroundcolor\": \"#E5ECF6\", \"gridcolor\": \"white\", \"gridwidth\": 2, \"linecolor\": \"white\", \"showbackground\": true, \"ticks\": \"\", \"zerolinecolor\": \"white\"}, \"zaxis\": {\"backgroundcolor\": \"#E5ECF6\", \"gridcolor\": \"white\", \"gridwidth\": 2, \"linecolor\": \"white\", \"showbackground\": true, \"ticks\": \"\", \"zerolinecolor\": \"white\"}}, \"shapedefaults\": {\"line\": {\"color\": \"#2a3f5f\"}}, \"ternary\": {\"aaxis\": {\"gridcolor\": \"white\", \"linecolor\": \"white\", \"ticks\": \"\"}, \"baxis\": {\"gridcolor\": \"white\", \"linecolor\": \"white\", \"ticks\": \"\"}, \"bgcolor\": \"#E5ECF6\", \"caxis\": {\"gridcolor\": \"white\", \"linecolor\": \"white\", \"ticks\": \"\"}}, \"title\": {\"x\": 0.05}, \"xaxis\": {\"automargin\": true, \"gridcolor\": \"white\", \"linecolor\": \"white\", \"ticks\": \"\", \"title\": {\"standoff\": 15}, \"zerolinecolor\": \"white\", \"zerolinewidth\": 2}, \"yaxis\": {\"automargin\": true, \"gridcolor\": \"white\", \"linecolor\": \"white\", \"ticks\": \"\", \"title\": {\"standoff\": 15}, \"zerolinecolor\": \"white\", \"zerolinewidth\": 2}}}, \"title\": {\"text\": \"Apple Price\"}, \"width\": 700, \"xaxis\": {\"anchor\": \"y\", \"domain\": [0.0, 1.0], \"linecolor\": \"black\", \"showgrid\": false, \"tickfont\": {\"size\": 10}, \"title\": {\"font\": {\"size\": 10}, \"text\": \"Date & Time\"}}, \"yaxis\": {\"anchor\": \"x\", \"domain\": [0.0, 1.0], \"linecolor\": \"black\", \"showgrid\": false, \"tickfont\": {\"size\": 10}, \"title\": {\"font\": {\"size\": 10}, \"text\": \"Stock Price\"}}},                        {\"responsive\": true}                    ).then(function(){\n",
       "                            \n",
       "var gd = document.getElementById('3b067703-a58f-4fb5-898b-4b9a5f86c074');\n",
       "var x = new MutationObserver(function (mutations, observer) {{\n",
       "        var display = window.getComputedStyle(gd).display;\n",
       "        if (!display || display === 'none') {{\n",
       "            console.log([gd, 'removed!']);\n",
       "            Plotly.purge(gd);\n",
       "            observer.disconnect();\n",
       "        }}\n",
       "}});\n",
       "\n",
       "// Listen for the removal of the full notebook cells\n",
       "var notebookContainer = gd.closest('#notebook-container');\n",
       "if (notebookContainer) {{\n",
       "    x.observe(notebookContainer, {childList: true});\n",
       "}}\n",
       "\n",
       "// Listen for the clearing of the current output cell\n",
       "var outputEl = gd.closest('.output');\n",
       "if (outputEl) {{\n",
       "    x.observe(outputEl, {childList: true});\n",
       "}}\n",
       "\n",
       "                        })                };                });            </script>        </div>"
      ]
     },
     "metadata": {},
     "output_type": "display_data"
    }
   ],
   "source": [
    "plot_price()"
   ]
  },
  {
   "cell_type": "code",
   "execution_count": null,
   "id": "31842f31-6376-417f-9b5c-9db0787b5b71",
   "metadata": {},
   "outputs": [],
   "source": []
  },
  {
   "cell_type": "code",
   "execution_count": null,
   "id": "2613a686-e021-4c15-8757-7abb502193e3",
   "metadata": {},
   "outputs": [],
   "source": []
  },
  {
   "cell_type": "code",
   "execution_count": null,
   "id": "a04f02c5-ea48-46f6-b80d-876cefbdb095",
   "metadata": {},
   "outputs": [],
   "source": []
  },
  {
   "cell_type": "code",
   "execution_count": null,
   "id": "3cf495a7-c23f-4dac-87b9-3873d0689537",
   "metadata": {},
   "outputs": [],
   "source": []
  },
  {
   "cell_type": "code",
   "execution_count": null,
   "id": "934643f8-2c46-4f2f-8c35-86db6a4582b4",
   "metadata": {},
   "outputs": [],
   "source": []
  },
  {
   "cell_type": "code",
   "execution_count": 2,
   "id": "1faaf1df-d49e-44e4-a7d1-77abad1801de",
   "metadata": {},
   "outputs": [],
   "source": [
    "app = dash.Dash(__name__, external_stylesheets=[dbc.themes.SANDSTONE])"
   ]
  },
  {
   "cell_type": "code",
   "execution_count": 3,
   "id": "71d602b9-f620-4b21-b1b7-a844c2392655",
   "metadata": {},
   "outputs": [],
   "source": [
    "app.title = \"Stock Market Sentiment Analysis\""
   ]
  },
  {
   "cell_type": "code",
   "execution_count": null,
   "id": "41f17baf-bd2f-421e-8c09-852053214a3a",
   "metadata": {},
   "outputs": [],
   "source": [
    "dbc.NavbarSimple()"
   ]
  },
  {
   "cell_type": "code",
   "execution_count": null,
   "id": "862aeff8-93a2-431c-a0c4-f152eaa64b1d",
   "metadata": {},
   "outputs": [],
   "source": []
  },
  {
   "cell_type": "code",
   "execution_count": 11,
   "id": "9ec7cf91-52ef-4e80-a7e5-91fa23a75e48",
   "metadata": {},
   "outputs": [],
   "source": [
    "dcc.Graph(id='')"
   ]
  },
  {
   "cell_type": "code",
   "execution_count": null,
   "id": "6daaf56e-0240-40d9-a302-eb7307ae1d0e",
   "metadata": {},
   "outputs": [],
   "source": []
  },
  {
   "cell_type": "code",
   "execution_count": 19,
   "id": "bcf879f5-cb50-4dc4-957d-e72f70186596",
   "metadata": {},
   "outputs": [],
   "source": [
    "df=pd.read_csv('./data/stocknews_01jun21-07jun21.csv')"
   ]
  },
  {
   "cell_type": "code",
   "execution_count": 20,
   "id": "5ecd2c26",
   "metadata": {},
   "outputs": [],
   "source": [
    "tick=pd.read_csv('./data/apple_5m.csv')"
   ]
  },
  {
   "cell_type": "code",
   "execution_count": 21,
   "id": "19535cc3-f3c7-46da-bca8-c77bc1567e2e",
   "metadata": {},
   "outputs": [
    {
     "data": {
      "text/html": [
       "<div>\n",
       "<style scoped>\n",
       "    .dataframe tbody tr th:only-of-type {\n",
       "        vertical-align: middle;\n",
       "    }\n",
       "\n",
       "    .dataframe tbody tr th {\n",
       "        vertical-align: top;\n",
       "    }\n",
       "\n",
       "    .dataframe thead th {\n",
       "        text-align: right;\n",
       "    }\n",
       "</style>\n",
       "<table border=\"1\" class=\"dataframe\">\n",
       "  <thead>\n",
       "    <tr style=\"text-align: right;\">\n",
       "      <th></th>\n",
       "      <th>news_url</th>\n",
       "      <th>image_url</th>\n",
       "      <th>title</th>\n",
       "      <th>text</th>\n",
       "      <th>source_name</th>\n",
       "      <th>date</th>\n",
       "      <th>topics</th>\n",
       "      <th>sentiment</th>\n",
       "      <th>type</th>\n",
       "      <th>tickers</th>\n",
       "    </tr>\n",
       "  </thead>\n",
       "  <tbody>\n",
       "    <tr>\n",
       "      <th>0</th>\n",
       "      <td>https://www.cnbc.com/2021/06/07/apple-is-turni...</td>\n",
       "      <td>https://cdn.snapi.dev/images/v1/0/i/106893386-...</td>\n",
       "      <td>Apple is turning privacy into a business advan...</td>\n",
       "      <td>Privacy was mentioned as part of nearly every ...</td>\n",
       "      <td>CNBC</td>\n",
       "      <td>Mon, 07 Jun 2021 18:52:59 -0400</td>\n",
       "      <td>[]</td>\n",
       "      <td>Positive</td>\n",
       "      <td>Article</td>\n",
       "      <td>['AAPL']</td>\n",
       "    </tr>\n",
       "  </tbody>\n",
       "</table>\n",
       "</div>"
      ],
      "text/plain": [
       "                                            news_url  \\\n",
       "0  https://www.cnbc.com/2021/06/07/apple-is-turni...   \n",
       "\n",
       "                                           image_url  \\\n",
       "0  https://cdn.snapi.dev/images/v1/0/i/106893386-...   \n",
       "\n",
       "                                               title  \\\n",
       "0  Apple is turning privacy into a business advan...   \n",
       "\n",
       "                                                text source_name  \\\n",
       "0  Privacy was mentioned as part of nearly every ...        CNBC   \n",
       "\n",
       "                              date topics sentiment     type   tickers  \n",
       "0  Mon, 07 Jun 2021 18:52:59 -0400     []  Positive  Article  ['AAPL']  "
      ]
     },
     "execution_count": 21,
     "metadata": {},
     "output_type": "execute_result"
    }
   ],
   "source": [
    "df.head(1)"
   ]
  },
  {
   "cell_type": "code",
   "execution_count": null,
   "id": "fd282c2d-2a1d-4fe0-aa77-ab3c3820f158",
   "metadata": {},
   "outputs": [],
   "source": [
    "dbc.NavLink()"
   ]
  },
  {
   "cell_type": "code",
   "execution_count": null,
   "id": "4c1f111c-b6d3-4991-97a2-5d12064f77f4",
   "metadata": {},
   "outputs": [],
   "source": []
  },
  {
   "cell_type": "code",
   "execution_count": null,
   "id": "144dd77e-ac9e-4e72-b876-4e5fe1d33421",
   "metadata": {},
   "outputs": [],
   "source": []
  },
  {
   "cell_type": "code",
   "execution_count": null,
   "id": "1b120ecf-0b0c-4629-8439-5e368f5cb571",
   "metadata": {},
   "outputs": [],
   "source": []
  },
  {
   "cell_type": "code",
   "execution_count": null,
   "id": "53a2addf-07c7-481a-a126-fec9d12cc386",
   "metadata": {},
   "outputs": [],
   "source": []
  },
  {
   "cell_type": "code",
   "execution_count": null,
   "id": "62b2a5a4-8d96-4901-af0c-09462ce68013",
   "metadata": {},
   "outputs": [],
   "source": []
  }
 ],
 "metadata": {
  "kernelspec": {
   "display_name": "Python 3",
   "language": "python",
   "name": "python3"
  },
  "language_info": {
   "codemirror_mode": {
    "name": "ipython",
    "version": 3
   },
   "file_extension": ".py",
   "mimetype": "text/x-python",
   "name": "python",
   "nbconvert_exporter": "python",
   "pygments_lexer": "ipython3",
   "version": "3.9.4"
  }
 },
 "nbformat": 4,
 "nbformat_minor": 5
}
