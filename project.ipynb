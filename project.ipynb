{
 "cells": [
  {
   "cell_type": "code",
   "execution_count": 1,
   "id": "increased-socket",
   "metadata": {
    "execution": {
     "iopub.execute_input": "2021-05-29T03:16:58.643671Z",
     "iopub.status.busy": "2021-05-29T03:16:58.642919Z",
     "iopub.status.idle": "2021-05-29T03:17:00.400138Z",
     "shell.execute_reply": "2021-05-29T03:17:00.399287Z",
     "shell.execute_reply.started": "2021-05-29T03:16:58.643491Z"
    },
    "tags": []
   },
   "outputs": [
    {
     "name": "stdin",
     "output_type": "stream",
     "text": [
      "server location local\n"
     ]
    },
    {
     "name": "stdout",
     "output_type": "stream",
     "text": [
      "running from: Local\n"
     ]
    }
   ],
   "source": [
    "%run __init__.py"
   ]
  },
  {
   "cell_type": "code",
   "execution_count": 2,
   "id": "european-forest",
   "metadata": {
    "execution": {
     "iopub.execute_input": "2021-05-29T03:17:01.807615Z",
     "iopub.status.busy": "2021-05-29T03:17:01.806982Z",
     "iopub.status.idle": "2021-05-29T03:17:03.080868Z",
     "shell.execute_reply": "2021-05-29T03:17:03.080123Z",
     "shell.execute_reply.started": "2021-05-29T03:17:01.807548Z"
    },
    "tags": []
   },
   "outputs": [
    {
     "name": "stderr",
     "output_type": "stream",
     "text": [
      "[nltk_data] Downloading package stopwords to /Users/boula/nltk_data...\n",
      "[nltk_data]   Unzipping corpora/stopwords.zip.\n",
      "[nltk_data] Downloading package vader_lexicon to\n",
      "[nltk_data]     /Users/boula/nltk_data...\n",
      "[nltk_data]   Package vader_lexicon is already up-to-date!\n"
     ]
    },
    {
     "data": {
      "text/plain": [
       "True"
      ]
     },
     "execution_count": 2,
     "metadata": {},
     "output_type": "execute_result"
    }
   ],
   "source": [
    "import pandas as pd\n",
    "import matplotlib.pyplot as plt\n",
    "%matplotlib inline\n",
    "colors = plt.rcParams['axes.prop_cycle'].by_key()['color']\n",
    "import seaborn as sns\n",
    "import numpy as np\n",
    "from langdetect import detect\n",
    "from wordcloud import WordCloud\n",
    "from project import NLP_stat, polarity_score, text_tonkenize\n",
    "from nltk.tokenize import RegexpTokenizer\n",
    "from nltk.stem import WordNetLemmatizer\n",
    "import re\n",
    "import nltk\n",
    "from nltk.corpus import stopwords\n",
    "nltk.download('stopwords')\n",
    "nltk.download('vader_lexicon')"
   ]
  },
  {
   "cell_type": "code",
   "execution_count": 874,
   "id": "optional-sarah",
   "metadata": {
    "execution": {
     "iopub.execute_input": "2021-05-28T21:40:21.213104Z",
     "iopub.status.busy": "2021-05-28T21:40:21.212492Z",
     "iopub.status.idle": "2021-05-28T21:40:21.642358Z",
     "shell.execute_reply": "2021-05-28T21:40:21.642003Z",
     "shell.execute_reply.started": "2021-05-28T21:40:21.213038Z"
    },
    "tags": []
   },
   "outputs": [],
   "source": [
    "apple_news_df = pd.read_csv('./data/apple_news_scraped.csv')"
   ]
  },
  {
   "cell_type": "markdown",
   "id": "greenhouse-stage",
   "metadata": {},
   "source": [
    "## DATA SCRUBBING"
   ]
  },
  {
   "cell_type": "code",
   "execution_count": 875,
   "id": "grand-briefing",
   "metadata": {
    "execution": {
     "iopub.execute_input": "2021-05-28T21:40:22.704588Z",
     "iopub.status.busy": "2021-05-28T21:40:22.703965Z",
     "iopub.status.idle": "2021-05-28T21:40:22.736625Z",
     "shell.execute_reply": "2021-05-28T21:40:22.736185Z",
     "shell.execute_reply.started": "2021-05-28T21:40:22.704522Z"
    },
    "tags": []
   },
   "outputs": [
    {
     "name": "stdout",
     "output_type": "stream",
     "text": [
      "<class 'pandas.core.frame.DataFrame'>\n",
      "RangeIndex: 10450 entries, 0 to 10449\n",
      "Data columns (total 13 columns):\n",
      " #   Column        Non-Null Count  Dtype \n",
      "---  ------        --------------  ----- \n",
      " 0   Unnamed: 0    10450 non-null  int64 \n",
      " 1   Unnamed: 0.1  10450 non-null  int64 \n",
      " 2   news_url      10450 non-null  object\n",
      " 3   image_url     10450 non-null  object\n",
      " 4   title         10450 non-null  object\n",
      " 5   text          10450 non-null  object\n",
      " 6   source_name   10450 non-null  object\n",
      " 7   date          10450 non-null  object\n",
      " 8   topics        10450 non-null  object\n",
      " 9   sentiment     10450 non-null  object\n",
      " 10  type          10450 non-null  object\n",
      " 11  tickers       8455 non-null   object\n",
      " 12  articles      9524 non-null   object\n",
      "dtypes: int64(2), object(11)\n",
      "memory usage: 1.0+ MB\n"
     ]
    }
   ],
   "source": [
    "apple_news_df.info()"
   ]
  },
  {
   "cell_type": "code",
   "execution_count": 876,
   "id": "sitting-reggae",
   "metadata": {
    "execution": {
     "iopub.execute_input": "2021-05-28T21:40:23.147481Z",
     "iopub.status.busy": "2021-05-28T21:40:23.146830Z",
     "iopub.status.idle": "2021-05-28T21:40:23.173067Z",
     "shell.execute_reply": "2021-05-28T21:40:23.172253Z",
     "shell.execute_reply.started": "2021-05-28T21:40:23.147414Z"
    },
    "tags": []
   },
   "outputs": [
    {
     "data": {
      "text/html": [
       "<div>\n",
       "<style scoped>\n",
       "    .dataframe tbody tr th:only-of-type {\n",
       "        vertical-align: middle;\n",
       "    }\n",
       "\n",
       "    .dataframe tbody tr th {\n",
       "        vertical-align: top;\n",
       "    }\n",
       "\n",
       "    .dataframe thead th {\n",
       "        text-align: right;\n",
       "    }\n",
       "</style>\n",
       "<table border=\"1\" class=\"dataframe\">\n",
       "  <thead>\n",
       "    <tr style=\"text-align: right;\">\n",
       "      <th></th>\n",
       "      <th>Unnamed: 0</th>\n",
       "      <th>Unnamed: 0.1</th>\n",
       "      <th>news_url</th>\n",
       "      <th>image_url</th>\n",
       "      <th>title</th>\n",
       "      <th>text</th>\n",
       "      <th>source_name</th>\n",
       "      <th>date</th>\n",
       "      <th>topics</th>\n",
       "      <th>sentiment</th>\n",
       "      <th>type</th>\n",
       "      <th>tickers</th>\n",
       "      <th>articles</th>\n",
       "    </tr>\n",
       "  </thead>\n",
       "  <tbody>\n",
       "    <tr>\n",
       "      <th>0</th>\n",
       "      <td>0</td>\n",
       "      <td>0</td>\n",
       "      <td>https://www.cnbc.com/2021/05/25/home-prices-in...</td>\n",
       "      <td>https://cdn.snapi.dev/images/v1/b/m/104669168-...</td>\n",
       "      <td>Home prices in March saw highest growth in ove...</td>\n",
       "      <td>Home prices in March were up 13%, one of the l...</td>\n",
       "      <td>CNBC</td>\n",
       "      <td>Tue, 25 May 2021 09:01:19 -0400</td>\n",
       "      <td>[]</td>\n",
       "      <td>Neutral</td>\n",
       "      <td>Article</td>\n",
       "      <td>NaN</td>\n",
       "      <td>Home prices in March were 13.2% higher in Mar...</td>\n",
       "    </tr>\n",
       "    <tr>\n",
       "      <th>1</th>\n",
       "      <td>1</td>\n",
       "      <td>1</td>\n",
       "      <td>https://www.reuters.com/article/us-usa-economy...</td>\n",
       "      <td>https://cdn.snapi.dev/images/v1/a/s/m02d202105...</td>\n",
       "      <td>U.S. home prices rose more than expected in Ma...</td>\n",
       "      <td>U.S. single-family home prices in 20 key urban...</td>\n",
       "      <td>Reuters</td>\n",
       "      <td>Tue, 25 May 2021 09:09:00 -0400</td>\n",
       "      <td>[]</td>\n",
       "      <td>Neutral</td>\n",
       "      <td>Article</td>\n",
       "      <td>NaN</td>\n",
       "      <td>U.S. single-family home prices in 20 key urban...</td>\n",
       "    </tr>\n",
       "    <tr>\n",
       "      <th>2</th>\n",
       "      <td>2</td>\n",
       "      <td>2</td>\n",
       "      <td>https://www.reuters.com/article/us-usa-economy...</td>\n",
       "      <td>https://cdn.snapi.dev/images/v1/8/c/m02d202105...</td>\n",
       "      <td>U.S. new home sales drop in April; March sales...</td>\n",
       "      <td>Sales of new U.S. single-family homes dropped ...</td>\n",
       "      <td>Reuters</td>\n",
       "      <td>Tue, 25 May 2021 10:33:00 -0400</td>\n",
       "      <td>[]</td>\n",
       "      <td>Negative</td>\n",
       "      <td>Article</td>\n",
       "      <td>NaN</td>\n",
       "      <td>A carpenter works on building new townhomes th...</td>\n",
       "    </tr>\n",
       "  </tbody>\n",
       "</table>\n",
       "</div>"
      ],
      "text/plain": [
       "   Unnamed: 0  Unnamed: 0.1  \\\n",
       "0           0             0   \n",
       "1           1             1   \n",
       "2           2             2   \n",
       "\n",
       "                                            news_url  \\\n",
       "0  https://www.cnbc.com/2021/05/25/home-prices-in...   \n",
       "1  https://www.reuters.com/article/us-usa-economy...   \n",
       "2  https://www.reuters.com/article/us-usa-economy...   \n",
       "\n",
       "                                           image_url  \\\n",
       "0  https://cdn.snapi.dev/images/v1/b/m/104669168-...   \n",
       "1  https://cdn.snapi.dev/images/v1/a/s/m02d202105...   \n",
       "2  https://cdn.snapi.dev/images/v1/8/c/m02d202105...   \n",
       "\n",
       "                                               title  \\\n",
       "0  Home prices in March saw highest growth in ove...   \n",
       "1  U.S. home prices rose more than expected in Ma...   \n",
       "2  U.S. new home sales drop in April; March sales...   \n",
       "\n",
       "                                                text source_name  \\\n",
       "0  Home prices in March were up 13%, one of the l...        CNBC   \n",
       "1  U.S. single-family home prices in 20 key urban...     Reuters   \n",
       "2  Sales of new U.S. single-family homes dropped ...     Reuters   \n",
       "\n",
       "                              date topics sentiment     type tickers  \\\n",
       "0  Tue, 25 May 2021 09:01:19 -0400     []   Neutral  Article     NaN   \n",
       "1  Tue, 25 May 2021 09:09:00 -0400     []   Neutral  Article     NaN   \n",
       "2  Tue, 25 May 2021 10:33:00 -0400     []  Negative  Article     NaN   \n",
       "\n",
       "                                            articles  \n",
       "0   Home prices in March were 13.2% higher in Mar...  \n",
       "1  U.S. single-family home prices in 20 key urban...  \n",
       "2  A carpenter works on building new townhomes th...  "
      ]
     },
     "execution_count": 876,
     "metadata": {},
     "output_type": "execute_result"
    }
   ],
   "source": [
    "apple_news_df.head(3)"
   ]
  },
  {
   "cell_type": "markdown",
   "id": "political-stage",
   "metadata": {},
   "source": [
    "#### Missing Values\n",
    "\n",
    "we start by droping unnecessary columns"
   ]
  },
  {
   "cell_type": "code",
   "execution_count": 877,
   "id": "acknowledged-sterling",
   "metadata": {
    "execution": {
     "iopub.execute_input": "2021-05-28T21:40:24.147096Z",
     "iopub.status.busy": "2021-05-28T21:40:24.146455Z",
     "iopub.status.idle": "2021-05-28T21:40:24.160244Z",
     "shell.execute_reply": "2021-05-28T21:40:24.159126Z",
     "shell.execute_reply.started": "2021-05-28T21:40:24.147029Z"
    },
    "tags": []
   },
   "outputs": [],
   "source": [
    "cols_to_drop = ['Unnamed: 0', 'Unnamed: 0.1', 'news_url', 'image_url', 'text', 'topics', 'type', 'tickers']\n",
    "apple_news_df.drop(labels=cols_to_drop, axis=1, inplace=True)"
   ]
  },
  {
   "cell_type": "code",
   "execution_count": 878,
   "id": "burning-temple",
   "metadata": {
    "execution": {
     "iopub.execute_input": "2021-05-28T21:40:24.573098Z",
     "iopub.status.busy": "2021-05-28T21:40:24.572491Z",
     "iopub.status.idle": "2021-05-28T21:40:24.582700Z",
     "shell.execute_reply": "2021-05-28T21:40:24.581523Z",
     "shell.execute_reply.started": "2021-05-28T21:40:24.573032Z"
    },
    "tags": []
   },
   "outputs": [
    {
     "name": "stdout",
     "output_type": "stream",
     "text": [
      "Total Missing Articles: 926\n"
     ]
    }
   ],
   "source": [
    "miss_articles = apple_news_df['articles'].isna()\n",
    "print(f\"Total Missing Articles: {miss_articles.sum()}\")"
   ]
  },
  {
   "cell_type": "markdown",
   "id": "comparative-sherman",
   "metadata": {
    "tags": []
   },
   "source": [
    "As result of scraping 10,450 websites we got 91.13% of successful scrape articles, but we also end up missing  926 websites. this probably due to websites restriction like cookies and CAPTCHA Blocking,  IP Blocking & Proxy Servers, etc..\n",
    "those 926 row are going to be droped from our dataframe"
   ]
  },
  {
   "cell_type": "code",
   "execution_count": 879,
   "id": "similar-coordinate",
   "metadata": {
    "execution": {
     "iopub.execute_input": "2021-05-28T21:40:26.573528Z",
     "iopub.status.busy": "2021-05-28T21:40:26.573186Z",
     "iopub.status.idle": "2021-05-28T21:40:26.585270Z",
     "shell.execute_reply": "2021-05-28T21:40:26.584160Z",
     "shell.execute_reply.started": "2021-05-28T21:40:26.573495Z"
    },
    "tags": []
   },
   "outputs": [],
   "source": [
    "apple_news_df.drop(apple_news_df.loc[miss_articles].index, inplace=True)"
   ]
  },
  {
   "cell_type": "code",
   "execution_count": 880,
   "id": "alpine-mirror",
   "metadata": {
    "execution": {
     "iopub.execute_input": "2021-05-28T21:40:27.059463Z",
     "iopub.status.busy": "2021-05-28T21:40:27.059014Z",
     "iopub.status.idle": "2021-05-28T21:40:27.066397Z",
     "shell.execute_reply": "2021-05-28T21:40:27.064669Z",
     "shell.execute_reply.started": "2021-05-28T21:40:27.059423Z"
    },
    "tags": []
   },
   "outputs": [],
   "source": [
    "apple_news_df.reset_index(drop=True, inplace=True)"
   ]
  },
  {
   "cell_type": "markdown",
   "id": "alike-major",
   "metadata": {},
   "source": [
    "#### DateTime"
   ]
  },
  {
   "cell_type": "code",
   "execution_count": 881,
   "id": "israeli-wright",
   "metadata": {
    "execution": {
     "iopub.execute_input": "2021-05-28T21:40:29.059901Z",
     "iopub.status.busy": "2021-05-28T21:40:29.059283Z",
     "iopub.status.idle": "2021-05-28T21:40:29.070520Z",
     "shell.execute_reply": "2021-05-28T21:40:29.069361Z",
     "shell.execute_reply.started": "2021-05-28T21:40:29.059835Z"
    },
    "tags": []
   },
   "outputs": [
    {
     "data": {
      "text/plain": [
       "0    Tue, 25 May 2021 09:01:19 -0400\n",
       "1    Tue, 25 May 2021 09:09:00 -0400\n",
       "2    Tue, 25 May 2021 10:33:00 -0400\n",
       "3    Tue, 25 May 2021 07:10:00 -0400\n",
       "4    Tue, 25 May 2021 12:30:41 -0400\n",
       "5    Tue, 25 May 2021 02:07:04 -0400\n",
       "Name: date, dtype: object"
      ]
     },
     "execution_count": 881,
     "metadata": {},
     "output_type": "execute_result"
    }
   ],
   "source": [
    "apple_news_df.loc[:5,'date']"
   ]
  },
  {
   "cell_type": "code",
   "execution_count": 882,
   "id": "raised-graduation",
   "metadata": {
    "execution": {
     "iopub.execute_input": "2021-05-28T21:40:29.842699Z",
     "iopub.status.busy": "2021-05-28T21:40:29.841693Z",
     "iopub.status.idle": "2021-05-28T21:40:29.875821Z",
     "shell.execute_reply": "2021-05-28T21:40:29.875341Z",
     "shell.execute_reply.started": "2021-05-28T21:40:29.842628Z"
    },
    "tags": []
   },
   "outputs": [
    {
     "data": {
      "text/plain": [
       "array([' -0400', ' -0500'], dtype=object)"
      ]
     },
     "execution_count": 882,
     "metadata": {},
     "output_type": "execute_result"
    }
   ],
   "source": [
    "apple_news_df['date'].str.findall(\"\\s-[0-9]{4}$\").apply(lambda x: ''.join(x)).unique()"
   ]
  },
  {
   "cell_type": "code",
   "execution_count": 883,
   "id": "adjustable-rolling",
   "metadata": {
    "execution": {
     "iopub.execute_input": "2021-05-28T21:40:30.164292Z",
     "iopub.status.busy": "2021-05-28T21:40:30.163960Z",
     "iopub.status.idle": "2021-05-28T21:40:30.189519Z",
     "shell.execute_reply": "2021-05-28T21:40:30.188998Z",
     "shell.execute_reply.started": "2021-05-28T21:40:30.164260Z"
    },
    "tags": []
   },
   "outputs": [],
   "source": [
    "# we found dates end with noise strings like '-0400' and '-0500', those are going to be removed using\n",
    "# builin pandas RegEx.\n",
    "apple_news_df['date'] = apple_news_df['date'].str.replace(\"\\s-[0-9]{4}$\", '', regex=True)"
   ]
  },
  {
   "cell_type": "code",
   "execution_count": 884,
   "id": "solved-numbers",
   "metadata": {
    "execution": {
     "iopub.execute_input": "2021-05-28T21:40:33.408042Z",
     "iopub.status.busy": "2021-05-28T21:40:33.407395Z",
     "iopub.status.idle": "2021-05-28T21:40:33.457704Z",
     "shell.execute_reply": "2021-05-28T21:40:33.457106Z",
     "shell.execute_reply.started": "2021-05-28T21:40:33.407971Z"
    },
    "tags": []
   },
   "outputs": [],
   "source": [
    "# convert date from string date format to DateTime object using standard ISO-8601 formated YYYY-MM-DDTHH:MM:SS.\n",
    "apple_news_df['date'] = pd.to_datetime(apple_news_df['date'], format=\"%a, %d %b %Y %H:%M:%S\")"
   ]
  },
  {
   "cell_type": "code",
   "execution_count": 885,
   "id": "unlike-photography",
   "metadata": {
    "execution": {
     "iopub.execute_input": "2021-05-28T21:40:33.835056Z",
     "iopub.status.busy": "2021-05-28T21:40:33.834461Z",
     "iopub.status.idle": "2021-05-28T21:40:33.845272Z",
     "shell.execute_reply": "2021-05-28T21:40:33.844487Z",
     "shell.execute_reply.started": "2021-05-28T21:40:33.834991Z"
    },
    "tags": []
   },
   "outputs": [
    {
     "data": {
      "text/plain": [
       "0   2021-05-25 09:01:19\n",
       "1   2021-05-25 09:09:00\n",
       "2   2021-05-25 10:33:00\n",
       "3   2021-05-25 07:10:00\n",
       "4   2021-05-25 12:30:41\n",
       "5   2021-05-25 02:07:04\n",
       "Name: date, dtype: datetime64[ns]"
      ]
     },
     "execution_count": 885,
     "metadata": {},
     "output_type": "execute_result"
    }
   ],
   "source": [
    "apple_news_df.loc[:5,'date']"
   ]
  },
  {
   "cell_type": "code",
   "execution_count": 886,
   "id": "divided-stanley",
   "metadata": {
    "execution": {
     "iopub.execute_input": "2021-05-28T21:40:37.418572Z",
     "iopub.status.busy": "2021-05-28T21:40:37.417879Z",
     "iopub.status.idle": "2021-05-28T21:40:37.429373Z",
     "shell.execute_reply": "2021-05-28T21:40:37.428032Z",
     "shell.execute_reply.started": "2021-05-28T21:40:37.418501Z"
    },
    "tags": []
   },
   "outputs": [],
   "source": [
    "apple_news_df.rename(columns={'sentiment':'status', 'source_name':'source'}, inplace=True)"
   ]
  },
  {
   "cell_type": "markdown",
   "id": "powerful-approach",
   "metadata": {},
   "source": [
    "Using langdetect in order to indentify articles language, ensure articles are only english"
   ]
  },
  {
   "cell_type": "code",
   "execution_count": 377,
   "id": "young-relative",
   "metadata": {
    "execution": {
     "iopub.execute_input": "2021-05-28T05:21:35.225227Z",
     "iopub.status.busy": "2021-05-28T05:21:35.224862Z",
     "iopub.status.idle": "2021-05-28T05:23:17.656975Z",
     "shell.execute_reply": "2021-05-28T05:23:17.656607Z",
     "shell.execute_reply.started": "2021-05-28T05:21:35.225193Z"
    },
    "tags": []
   },
   "outputs": [],
   "source": [
    "language = apple_news_df['articles'].apply(detect)"
   ]
  },
  {
   "cell_type": "code",
   "execution_count": 378,
   "id": "conceptual-majority",
   "metadata": {
    "execution": {
     "iopub.execute_input": "2021-05-28T05:23:17.657804Z",
     "iopub.status.busy": "2021-05-28T05:23:17.657715Z",
     "iopub.status.idle": "2021-05-28T05:23:17.661446Z",
     "shell.execute_reply": "2021-05-28T05:23:17.661143Z",
     "shell.execute_reply.started": "2021-05-28T05:23:17.657793Z"
    },
    "tags": []
   },
   "outputs": [
    {
     "data": {
      "text/plain": [
       "en    9524\n",
       "Name: articles, dtype: int64"
      ]
     },
     "execution_count": 378,
     "metadata": {},
     "output_type": "execute_result"
    }
   ],
   "source": [
    "language.value_counts()"
   ]
  },
  {
   "cell_type": "code",
   "execution_count": 887,
   "id": "pacific-geography",
   "metadata": {
    "execution": {
     "iopub.execute_input": "2021-05-28T21:40:42.321348Z",
     "iopub.status.busy": "2021-05-28T21:40:42.320759Z",
     "iopub.status.idle": "2021-05-28T21:40:42.339555Z",
     "shell.execute_reply": "2021-05-28T21:40:42.338369Z",
     "shell.execute_reply.started": "2021-05-28T21:40:42.321284Z"
    },
    "tags": []
   },
   "outputs": [
    {
     "data": {
      "text/html": [
       "<div>\n",
       "<style scoped>\n",
       "    .dataframe tbody tr th:only-of-type {\n",
       "        vertical-align: middle;\n",
       "    }\n",
       "\n",
       "    .dataframe tbody tr th {\n",
       "        vertical-align: top;\n",
       "    }\n",
       "\n",
       "    .dataframe thead th {\n",
       "        text-align: right;\n",
       "    }\n",
       "</style>\n",
       "<table border=\"1\" class=\"dataframe\">\n",
       "  <thead>\n",
       "    <tr style=\"text-align: right;\">\n",
       "      <th></th>\n",
       "      <th>title</th>\n",
       "      <th>source</th>\n",
       "      <th>date</th>\n",
       "      <th>status</th>\n",
       "      <th>articles</th>\n",
       "    </tr>\n",
       "  </thead>\n",
       "  <tbody>\n",
       "    <tr>\n",
       "      <th>0</th>\n",
       "      <td>Home prices in March saw highest growth in ove...</td>\n",
       "      <td>CNBC</td>\n",
       "      <td>2021-05-25 09:01:19</td>\n",
       "      <td>Neutral</td>\n",
       "      <td>Home prices in March were 13.2% higher in Mar...</td>\n",
       "    </tr>\n",
       "    <tr>\n",
       "      <th>1</th>\n",
       "      <td>U.S. home prices rose more than expected in Ma...</td>\n",
       "      <td>Reuters</td>\n",
       "      <td>2021-05-25 09:09:00</td>\n",
       "      <td>Neutral</td>\n",
       "      <td>U.S. single-family home prices in 20 key urban...</td>\n",
       "    </tr>\n",
       "    <tr>\n",
       "      <th>2</th>\n",
       "      <td>U.S. new home sales drop in April; March sales...</td>\n",
       "      <td>Reuters</td>\n",
       "      <td>2021-05-25 10:33:00</td>\n",
       "      <td>Negative</td>\n",
       "      <td>A carpenter works on building new townhomes th...</td>\n",
       "    </tr>\n",
       "    <tr>\n",
       "      <th>3</th>\n",
       "      <td>Wall Street bank CEOs to tout COVID relief pus...</td>\n",
       "      <td>Reuters</td>\n",
       "      <td>2021-05-25 07:10:00</td>\n",
       "      <td>Positive</td>\n",
       "      <td>Wall Street bank chiefs will tout the role the...</td>\n",
       "    </tr>\n",
       "    <tr>\n",
       "      <th>4</th>\n",
       "      <td>In 2008, he was CEO of the biggest bank to eve...</td>\n",
       "      <td>CNN Business</td>\n",
       "      <td>2021-05-25 12:30:41</td>\n",
       "      <td>Negative</td>\n",
       "      <td>By Paul R. La Monica, CNN Business  Updated 12...</td>\n",
       "    </tr>\n",
       "  </tbody>\n",
       "</table>\n",
       "</div>"
      ],
      "text/plain": [
       "                                               title        source  \\\n",
       "0  Home prices in March saw highest growth in ove...          CNBC   \n",
       "1  U.S. home prices rose more than expected in Ma...       Reuters   \n",
       "2  U.S. new home sales drop in April; March sales...       Reuters   \n",
       "3  Wall Street bank CEOs to tout COVID relief pus...       Reuters   \n",
       "4  In 2008, he was CEO of the biggest bank to eve...  CNN Business   \n",
       "\n",
       "                 date    status  \\\n",
       "0 2021-05-25 09:01:19   Neutral   \n",
       "1 2021-05-25 09:09:00   Neutral   \n",
       "2 2021-05-25 10:33:00  Negative   \n",
       "3 2021-05-25 07:10:00  Positive   \n",
       "4 2021-05-25 12:30:41  Negative   \n",
       "\n",
       "                                            articles  \n",
       "0   Home prices in March were 13.2% higher in Mar...  \n",
       "1  U.S. single-family home prices in 20 key urban...  \n",
       "2  A carpenter works on building new townhomes th...  \n",
       "3  Wall Street bank chiefs will tout the role the...  \n",
       "4  By Paul R. La Monica, CNN Business  Updated 12...  "
      ]
     },
     "execution_count": 887,
     "metadata": {},
     "output_type": "execute_result"
    }
   ],
   "source": [
    "apple_news_df.head()"
   ]
  },
  {
   "cell_type": "markdown",
   "id": "willing-worker",
   "metadata": {},
   "source": [
    "## PREPROCESSING"
   ]
  },
  {
   "cell_type": "markdown",
   "id": "conventional-wallace",
   "metadata": {},
   "source": [
    "In this section we start by preparing our data for modeling, first by cleaning and tokenizing the articles text applying the function 'text_tokenize' and lastely evaluate the sentiment analysis applying 'polarity_score function."
   ]
  },
  {
   "cell_type": "markdown",
   "id": "checked-farming",
   "metadata": {},
   "source": [
    "Text Tonkenization\n",
    "\n",
    "Remove punctuation, special characters, numbers"
   ]
  },
  {
   "cell_type": "code",
   "execution_count": 888,
   "id": "innovative-quality",
   "metadata": {
    "execution": {
     "iopub.execute_input": "2021-05-28T21:40:45.194436Z",
     "iopub.status.busy": "2021-05-28T21:40:45.193822Z",
     "iopub.status.idle": "2021-05-28T21:40:45.202277Z",
     "shell.execute_reply": "2021-05-28T21:40:45.201232Z",
     "shell.execute_reply.started": "2021-05-28T21:40:45.194370Z"
    },
    "tags": []
   },
   "outputs": [],
   "source": [
    "stop_words=stopwords.words('english')"
   ]
  },
  {
   "cell_type": "code",
   "execution_count": 889,
   "id": "forbidden-legend",
   "metadata": {
    "execution": {
     "iopub.execute_input": "2021-05-28T21:40:45.650592Z",
     "iopub.status.busy": "2021-05-28T21:40:45.649979Z",
     "iopub.status.idle": "2021-05-28T21:40:45.872549Z",
     "shell.execute_reply": "2021-05-28T21:40:45.871907Z",
     "shell.execute_reply.started": "2021-05-28T21:40:45.650526Z"
    },
    "tags": []
   },
   "outputs": [],
   "source": [
    "apple_news_df['articles'] = apple_news_df['articles'].apply(lambda txt: txt.lower())"
   ]
  },
  {
   "cell_type": "code",
   "execution_count": 890,
   "id": "close-niagara",
   "metadata": {
    "execution": {
     "iopub.execute_input": "2021-05-28T21:40:47.115688Z",
     "iopub.status.busy": "2021-05-28T21:40:47.115066Z",
     "iopub.status.idle": "2021-05-28T21:40:57.092193Z",
     "shell.execute_reply": "2021-05-28T21:40:57.091746Z",
     "shell.execute_reply.started": "2021-05-28T21:40:47.115621Z"
    },
    "tags": []
   },
   "outputs": [],
   "source": [
    "apple_news_df['articles'] = apple_news_df['articles']\\\n",
    "                            .apply(lambda txt: ' '.join([word for word in txt.split() if word not in stop_words]))"
   ]
  },
  {
   "cell_type": "code",
   "execution_count": 891,
   "id": "adapted-defendant",
   "metadata": {
    "execution": {
     "iopub.execute_input": "2021-05-28T21:40:57.093028Z",
     "iopub.status.busy": "2021-05-28T21:40:57.092938Z",
     "iopub.status.idle": "2021-05-28T21:40:57.095142Z",
     "shell.execute_reply": "2021-05-28T21:40:57.094721Z",
     "shell.execute_reply.started": "2021-05-28T21:40:57.093016Z"
    },
    "tags": []
   },
   "outputs": [],
   "source": [
    "word_tokenizer = RegexpTokenizer('[a-zA-Z]+')"
   ]
  },
  {
   "cell_type": "code",
   "execution_count": 892,
   "id": "collective-borough",
   "metadata": {
    "execution": {
     "iopub.execute_input": "2021-05-28T21:40:58.349686Z",
     "iopub.status.busy": "2021-05-28T21:40:58.349142Z",
     "iopub.status.idle": "2021-05-28T21:40:59.334380Z",
     "shell.execute_reply": "2021-05-28T21:40:59.334009Z",
     "shell.execute_reply.started": "2021-05-28T21:40:58.349634Z"
    },
    "tags": []
   },
   "outputs": [],
   "source": [
    "apple_news_df['articles'] = apple_news_df['articles']\\\n",
    "                            .apply(lambda txt: word_tokenizer.tokenize(txt))"
   ]
  },
  {
   "cell_type": "code",
   "execution_count": 893,
   "id": "rocky-study",
   "metadata": {
    "execution": {
     "iopub.execute_input": "2021-05-28T21:40:59.840079Z",
     "iopub.status.busy": "2021-05-28T21:40:59.839540Z",
     "iopub.status.idle": "2021-05-28T21:41:00.002581Z",
     "shell.execute_reply": "2021-05-28T21:41:00.002232Z",
     "shell.execute_reply.started": "2021-05-28T21:40:59.840027Z"
    },
    "tags": []
   },
   "outputs": [],
   "source": [
    "apple_news_df['articles'] = apple_news_df['articles'].apply(lambda x: ' '.join(x))"
   ]
  },
  {
   "cell_type": "code",
   "execution_count": 895,
   "id": "angry-apparel",
   "metadata": {
    "execution": {
     "iopub.execute_input": "2021-05-28T21:41:11.427167Z",
     "iopub.status.busy": "2021-05-28T21:41:11.426338Z",
     "iopub.status.idle": "2021-05-28T21:41:11.509635Z",
     "shell.execute_reply": "2021-05-28T21:41:11.509193Z",
     "shell.execute_reply.started": "2021-05-28T21:41:11.427102Z"
    },
    "tags": []
   },
   "outputs": [],
   "source": [
    "lemmatizer = WordNetLemmatizer()\n",
    "apple_news_df['articles'] = apple_news_df['articles'].apply(lambda txt: lemmatizer.lemmatize(txt))"
   ]
  },
  {
   "cell_type": "code",
   "execution_count": 896,
   "id": "indonesian-cardiff",
   "metadata": {
    "execution": {
     "iopub.execute_input": "2021-05-28T21:41:15.392216Z",
     "iopub.status.busy": "2021-05-28T21:41:15.391826Z",
     "iopub.status.idle": "2021-05-28T21:41:16.681443Z",
     "shell.execute_reply": "2021-05-28T21:41:16.681055Z",
     "shell.execute_reply.started": "2021-05-28T21:41:15.392181Z"
    },
    "tags": []
   },
   "outputs": [],
   "source": [
    "single_chars = re.compile(r\"(^\\w{1})(?=\\s)|(?<=\\s)[\\w]{1}(?=\\s)\")\n",
    "apple_news_df['articles'] = apple_news_df['articles'].apply(lambda txt: single_chars.sub('', txt))"
   ]
  },
  {
   "cell_type": "markdown",
   "id": "robust-madonna",
   "metadata": {},
   "source": [
    "VADER - Sentiment Analysis\n",
    "\n",
    "in this section we're going to apply 'VADER' pre-trained model on articles text in order to evaluate the sentiment analysis scores with 0.05 as standard threshold."
   ]
  },
  {
   "cell_type": "code",
   "execution_count": 897,
   "id": "affected-problem",
   "metadata": {
    "execution": {
     "iopub.execute_input": "2021-05-28T21:41:18.994831Z",
     "iopub.status.busy": "2021-05-28T21:41:18.994186Z",
     "iopub.status.idle": "2021-05-28T21:41:22.422878Z",
     "shell.execute_reply": "2021-05-28T21:41:22.422488Z",
     "shell.execute_reply.started": "2021-05-28T21:41:18.994763Z"
    },
    "tags": []
   },
   "outputs": [],
   "source": [
    "apple_news_df['articles'] =  text_tonkenize(apple_news_df['articles'])"
   ]
  },
  {
   "cell_type": "code",
   "execution_count": 898,
   "id": "common-roulette",
   "metadata": {
    "execution": {
     "iopub.execute_input": "2021-05-28T21:41:23.480934Z",
     "iopub.status.busy": "2021-05-28T21:41:23.480598Z",
     "iopub.status.idle": "2021-05-28T21:41:57.515361Z",
     "shell.execute_reply": "2021-05-28T21:41:57.514955Z",
     "shell.execute_reply.started": "2021-05-28T21:41:23.480902Z"
    },
    "tags": []
   },
   "outputs": [],
   "source": [
    "scores = polarity_score(apple_news_df['articles'])"
   ]
  },
  {
   "cell_type": "code",
   "execution_count": 899,
   "id": "aboriginal-challenge",
   "metadata": {
    "execution": {
     "iopub.execute_input": "2021-05-28T21:41:58.778885Z",
     "iopub.status.busy": "2021-05-28T21:41:58.778270Z",
     "iopub.status.idle": "2021-05-28T21:41:58.799588Z",
     "shell.execute_reply": "2021-05-28T21:41:58.798826Z",
     "shell.execute_reply.started": "2021-05-28T21:41:58.778821Z"
    },
    "tags": []
   },
   "outputs": [
    {
     "data": {
      "text/html": [
       "<div>\n",
       "<style scoped>\n",
       "    .dataframe tbody tr th:only-of-type {\n",
       "        vertical-align: middle;\n",
       "    }\n",
       "\n",
       "    .dataframe tbody tr th {\n",
       "        vertical-align: top;\n",
       "    }\n",
       "\n",
       "    .dataframe thead th {\n",
       "        text-align: right;\n",
       "    }\n",
       "</style>\n",
       "<table border=\"1\" class=\"dataframe\">\n",
       "  <thead>\n",
       "    <tr style=\"text-align: right;\">\n",
       "      <th></th>\n",
       "      <th>text</th>\n",
       "      <th>negative</th>\n",
       "      <th>neutral</th>\n",
       "      <th>positive</th>\n",
       "      <th>compound</th>\n",
       "      <th>sentiment</th>\n",
       "    </tr>\n",
       "  </thead>\n",
       "  <tbody>\n",
       "    <tr>\n",
       "      <th>0</th>\n",
       "      <td>home prices march higher march compared march ...</td>\n",
       "      <td>0.077</td>\n",
       "      <td>0.799</td>\n",
       "      <td>0.124</td>\n",
       "      <td>0.9393</td>\n",
       "      <td>positive</td>\n",
       "    </tr>\n",
       "    <tr>\n",
       "      <th>1</th>\n",
       "      <td>single family home prices key urban markets ...</td>\n",
       "      <td>0.064</td>\n",
       "      <td>0.812</td>\n",
       "      <td>0.124</td>\n",
       "      <td>0.9186</td>\n",
       "      <td>positive</td>\n",
       "    </tr>\n",
       "    <tr>\n",
       "      <th>2</th>\n",
       "      <td>carpenter works building new townhomes still c...</td>\n",
       "      <td>0.071</td>\n",
       "      <td>0.841</td>\n",
       "      <td>0.088</td>\n",
       "      <td>0.8176</td>\n",
       "      <td>positive</td>\n",
       "    </tr>\n",
       "    <tr>\n",
       "      <th>3</th>\n",
       "      <td>wall street bank chiefs tout role institutions...</td>\n",
       "      <td>0.102</td>\n",
       "      <td>0.765</td>\n",
       "      <td>0.132</td>\n",
       "      <td>0.9019</td>\n",
       "      <td>positive</td>\n",
       "    </tr>\n",
       "    <tr>\n",
       "      <th>4</th>\n",
       "      <td>paul  la monica cnn business updated pm et tue...</td>\n",
       "      <td>0.073</td>\n",
       "      <td>0.927</td>\n",
       "      <td>0.000</td>\n",
       "      <td>-0.2960</td>\n",
       "      <td>negative</td>\n",
       "    </tr>\n",
       "  </tbody>\n",
       "</table>\n",
       "</div>"
      ],
      "text/plain": [
       "                                                text  negative  neutral  \\\n",
       "0  home prices march higher march compared march ...     0.077    0.799   \n",
       "1    single family home prices key urban markets ...     0.064    0.812   \n",
       "2  carpenter works building new townhomes still c...     0.071    0.841   \n",
       "3  wall street bank chiefs tout role institutions...     0.102    0.765   \n",
       "4  paul  la monica cnn business updated pm et tue...     0.073    0.927   \n",
       "\n",
       "   positive  compound sentiment  \n",
       "0     0.124    0.9393  positive  \n",
       "1     0.124    0.9186  positive  \n",
       "2     0.088    0.8176  positive  \n",
       "3     0.132    0.9019  positive  \n",
       "4     0.000   -0.2960  negative  "
      ]
     },
     "execution_count": 899,
     "metadata": {},
     "output_type": "execute_result"
    }
   ],
   "source": [
    "scores.head()"
   ]
  },
  {
   "cell_type": "code",
   "execution_count": 900,
   "id": "political-ownership",
   "metadata": {
    "execution": {
     "iopub.execute_input": "2021-05-28T21:42:03.202458Z",
     "iopub.status.busy": "2021-05-28T21:42:03.202059Z",
     "iopub.status.idle": "2021-05-28T21:42:03.216845Z",
     "shell.execute_reply": "2021-05-28T21:42:03.216027Z",
     "shell.execute_reply.started": "2021-05-28T21:42:03.202424Z"
    },
    "tags": []
   },
   "outputs": [],
   "source": [
    "apple_news_df = pd.concat([apple_news_df, scores['sentiment']], axis=1, ignore_index=False, sort=False).reindex()"
   ]
  },
  {
   "cell_type": "code",
   "execution_count": 901,
   "id": "suffering-dover",
   "metadata": {
    "execution": {
     "iopub.execute_input": "2021-05-28T21:42:03.752813Z",
     "iopub.status.busy": "2021-05-28T21:42:03.752397Z",
     "iopub.status.idle": "2021-05-28T21:42:03.773526Z",
     "shell.execute_reply": "2021-05-28T21:42:03.772564Z",
     "shell.execute_reply.started": "2021-05-28T21:42:03.752763Z"
    },
    "tags": []
   },
   "outputs": [
    {
     "data": {
      "text/html": [
       "<div>\n",
       "<style scoped>\n",
       "    .dataframe tbody tr th:only-of-type {\n",
       "        vertical-align: middle;\n",
       "    }\n",
       "\n",
       "    .dataframe tbody tr th {\n",
       "        vertical-align: top;\n",
       "    }\n",
       "\n",
       "    .dataframe thead th {\n",
       "        text-align: right;\n",
       "    }\n",
       "</style>\n",
       "<table border=\"1\" class=\"dataframe\">\n",
       "  <thead>\n",
       "    <tr style=\"text-align: right;\">\n",
       "      <th></th>\n",
       "      <th>title</th>\n",
       "      <th>source</th>\n",
       "      <th>date</th>\n",
       "      <th>status</th>\n",
       "      <th>articles</th>\n",
       "      <th>sentiment</th>\n",
       "    </tr>\n",
       "  </thead>\n",
       "  <tbody>\n",
       "    <tr>\n",
       "      <th>0</th>\n",
       "      <td>Home prices in March saw highest growth in ove...</td>\n",
       "      <td>CNBC</td>\n",
       "      <td>2021-05-25 09:01:19</td>\n",
       "      <td>Neutral</td>\n",
       "      <td>home prices march higher march compared march ...</td>\n",
       "      <td>positive</td>\n",
       "    </tr>\n",
       "    <tr>\n",
       "      <th>1</th>\n",
       "      <td>U.S. home prices rose more than expected in Ma...</td>\n",
       "      <td>Reuters</td>\n",
       "      <td>2021-05-25 09:09:00</td>\n",
       "      <td>Neutral</td>\n",
       "      <td>single family home prices key urban markets ...</td>\n",
       "      <td>positive</td>\n",
       "    </tr>\n",
       "    <tr>\n",
       "      <th>2</th>\n",
       "      <td>U.S. new home sales drop in April; March sales...</td>\n",
       "      <td>Reuters</td>\n",
       "      <td>2021-05-25 10:33:00</td>\n",
       "      <td>Negative</td>\n",
       "      <td>carpenter works building new townhomes still c...</td>\n",
       "      <td>positive</td>\n",
       "    </tr>\n",
       "    <tr>\n",
       "      <th>3</th>\n",
       "      <td>Wall Street bank CEOs to tout COVID relief pus...</td>\n",
       "      <td>Reuters</td>\n",
       "      <td>2021-05-25 07:10:00</td>\n",
       "      <td>Positive</td>\n",
       "      <td>wall street bank chiefs tout role institutions...</td>\n",
       "      <td>positive</td>\n",
       "    </tr>\n",
       "    <tr>\n",
       "      <th>4</th>\n",
       "      <td>In 2008, he was CEO of the biggest bank to eve...</td>\n",
       "      <td>CNN Business</td>\n",
       "      <td>2021-05-25 12:30:41</td>\n",
       "      <td>Negative</td>\n",
       "      <td>paul  la monica cnn business updated pm et tue...</td>\n",
       "      <td>negative</td>\n",
       "    </tr>\n",
       "  </tbody>\n",
       "</table>\n",
       "</div>"
      ],
      "text/plain": [
       "                                               title        source  \\\n",
       "0  Home prices in March saw highest growth in ove...          CNBC   \n",
       "1  U.S. home prices rose more than expected in Ma...       Reuters   \n",
       "2  U.S. new home sales drop in April; March sales...       Reuters   \n",
       "3  Wall Street bank CEOs to tout COVID relief pus...       Reuters   \n",
       "4  In 2008, he was CEO of the biggest bank to eve...  CNN Business   \n",
       "\n",
       "                 date    status  \\\n",
       "0 2021-05-25 09:01:19   Neutral   \n",
       "1 2021-05-25 09:09:00   Neutral   \n",
       "2 2021-05-25 10:33:00  Negative   \n",
       "3 2021-05-25 07:10:00  Positive   \n",
       "4 2021-05-25 12:30:41  Negative   \n",
       "\n",
       "                                            articles sentiment  \n",
       "0  home prices march higher march compared march ...  positive  \n",
       "1    single family home prices key urban markets ...  positive  \n",
       "2  carpenter works building new townhomes still c...  positive  \n",
       "3  wall street bank chiefs tout role institutions...  positive  \n",
       "4  paul  la monica cnn business updated pm et tue...  negative  "
      ]
     },
     "execution_count": 901,
     "metadata": {},
     "output_type": "execute_result"
    }
   ],
   "source": [
    "apple_news_df.head()"
   ]
  },
  {
   "cell_type": "code",
   "execution_count": 902,
   "id": "premier-necessity",
   "metadata": {
    "execution": {
     "iopub.execute_input": "2021-05-28T21:42:24.839537Z",
     "iopub.status.busy": "2021-05-28T21:42:24.838885Z",
     "iopub.status.idle": "2021-05-28T21:42:24.851470Z",
     "shell.execute_reply": "2021-05-28T21:42:24.850271Z",
     "shell.execute_reply.started": "2021-05-28T21:42:24.839469Z"
    },
    "tags": []
   },
   "outputs": [
    {
     "data": {
      "text/plain": [
       "positive    8375\n",
       "negative    1076\n",
       "neutral       73\n",
       "Name: sentiment, dtype: int64"
      ]
     },
     "execution_count": 902,
     "metadata": {},
     "output_type": "execute_result"
    }
   ],
   "source": [
    "apple_news_df['sentiment'].value_counts()"
   ]
  },
  {
   "cell_type": "code",
   "execution_count": 903,
   "id": "correct-pharmacy",
   "metadata": {
    "execution": {
     "iopub.execute_input": "2021-05-28T21:42:47.580479Z",
     "iopub.status.busy": "2021-05-28T21:42:47.579796Z",
     "iopub.status.idle": "2021-05-28T21:42:47.595534Z",
     "shell.execute_reply": "2021-05-28T21:42:47.594585Z",
     "shell.execute_reply.started": "2021-05-28T21:42:47.580402Z"
    },
    "tags": []
   },
   "outputs": [],
   "source": [
    "apple_news_df.drop(apple_news_df.loc[(apple_news_df['sentiment'] == 'neutral')].index, inplace=True)"
   ]
  },
  {
   "cell_type": "code",
   "execution_count": 904,
   "id": "bronze-venezuela",
   "metadata": {
    "execution": {
     "iopub.execute_input": "2021-05-28T21:43:34.171721Z",
     "iopub.status.busy": "2021-05-28T21:43:34.171294Z",
     "iopub.status.idle": "2021-05-28T21:43:34.641565Z",
     "shell.execute_reply": "2021-05-28T21:43:34.641176Z",
     "shell.execute_reply.started": "2021-05-28T21:43:34.171685Z"
    }
   },
   "outputs": [],
   "source": [
    "apple_news_df.to_csv('./data/apple_news_modeling.csv')"
   ]
  },
  {
   "cell_type": "code",
   "execution_count": 3,
   "id": "approximate-worship",
   "metadata": {
    "execution": {
     "iopub.execute_input": "2021-05-29T03:17:11.724257Z",
     "iopub.status.busy": "2021-05-29T03:17:11.723908Z",
     "iopub.status.idle": "2021-05-29T03:17:12.016572Z",
     "shell.execute_reply": "2021-05-29T03:17:12.016193Z",
     "shell.execute_reply.started": "2021-05-29T03:17:11.724223Z"
    },
    "tags": []
   },
   "outputs": [],
   "source": [
    "apple_news_df = pd.read_csv('./data/apple_news_modeling.csv')"
   ]
  },
  {
   "cell_type": "markdown",
   "id": "other-florist",
   "metadata": {},
   "source": [
    "## FEATURES ENGINEERING"
   ]
  },
  {
   "cell_type": "code",
   "execution_count": 7,
   "id": "about-billion",
   "metadata": {
    "execution": {
     "iopub.execute_input": "2021-05-29T01:34:29.340780Z",
     "iopub.status.busy": "2021-05-29T01:34:29.340151Z",
     "iopub.status.idle": "2021-05-29T01:34:29.368507Z",
     "shell.execute_reply": "2021-05-29T01:34:29.367280Z",
     "shell.execute_reply.started": "2021-05-29T01:34:29.340714Z"
    },
    "tags": []
   },
   "outputs": [
    {
     "data": {
      "text/html": [
       "<div>\n",
       "<style scoped>\n",
       "    .dataframe tbody tr th:only-of-type {\n",
       "        vertical-align: middle;\n",
       "    }\n",
       "\n",
       "    .dataframe tbody tr th {\n",
       "        vertical-align: top;\n",
       "    }\n",
       "\n",
       "    .dataframe thead th {\n",
       "        text-align: right;\n",
       "    }\n",
       "</style>\n",
       "<table border=\"1\" class=\"dataframe\">\n",
       "  <thead>\n",
       "    <tr style=\"text-align: right;\">\n",
       "      <th></th>\n",
       "      <th>Unnamed: 0</th>\n",
       "      <th>title</th>\n",
       "      <th>source</th>\n",
       "      <th>date</th>\n",
       "      <th>status</th>\n",
       "      <th>articles</th>\n",
       "      <th>sentiment</th>\n",
       "    </tr>\n",
       "  </thead>\n",
       "  <tbody>\n",
       "    <tr>\n",
       "      <th>0</th>\n",
       "      <td>0</td>\n",
       "      <td>Home prices in March saw highest growth in ove...</td>\n",
       "      <td>CNBC</td>\n",
       "      <td>2021-05-25 09:01:19</td>\n",
       "      <td>Neutral</td>\n",
       "      <td>home prices march higher march compared march ...</td>\n",
       "      <td>positive</td>\n",
       "    </tr>\n",
       "    <tr>\n",
       "      <th>1</th>\n",
       "      <td>1</td>\n",
       "      <td>U.S. home prices rose more than expected in Ma...</td>\n",
       "      <td>Reuters</td>\n",
       "      <td>2021-05-25 09:09:00</td>\n",
       "      <td>Neutral</td>\n",
       "      <td>single family home prices key urban markets ...</td>\n",
       "      <td>positive</td>\n",
       "    </tr>\n",
       "    <tr>\n",
       "      <th>2</th>\n",
       "      <td>2</td>\n",
       "      <td>U.S. new home sales drop in April; March sales...</td>\n",
       "      <td>Reuters</td>\n",
       "      <td>2021-05-25 10:33:00</td>\n",
       "      <td>Negative</td>\n",
       "      <td>carpenter works building new townhomes still c...</td>\n",
       "      <td>positive</td>\n",
       "    </tr>\n",
       "  </tbody>\n",
       "</table>\n",
       "</div>"
      ],
      "text/plain": [
       "   Unnamed: 0                                              title   source  \\\n",
       "0           0  Home prices in March saw highest growth in ove...     CNBC   \n",
       "1           1  U.S. home prices rose more than expected in Ma...  Reuters   \n",
       "2           2  U.S. new home sales drop in April; March sales...  Reuters   \n",
       "\n",
       "                  date    status  \\\n",
       "0  2021-05-25 09:01:19   Neutral   \n",
       "1  2021-05-25 09:09:00   Neutral   \n",
       "2  2021-05-25 10:33:00  Negative   \n",
       "\n",
       "                                            articles sentiment  \n",
       "0  home prices march higher march compared march ...  positive  \n",
       "1    single family home prices key urban markets ...  positive  \n",
       "2  carpenter works building new townhomes still c...  positive  "
      ]
     },
     "execution_count": 7,
     "metadata": {},
     "output_type": "execute_result"
    }
   ],
   "source": [
    "apple_news_df.head(3)"
   ]
  },
  {
   "cell_type": "code",
   "execution_count": 4,
   "id": "heated-roman",
   "metadata": {
    "execution": {
     "iopub.execute_input": "2021-05-29T03:17:15.786241Z",
     "iopub.status.busy": "2021-05-29T03:17:15.785608Z",
     "iopub.status.idle": "2021-05-29T03:17:15.792838Z",
     "shell.execute_reply": "2021-05-29T03:17:15.791645Z",
     "shell.execute_reply.started": "2021-05-29T03:17:15.786173Z"
    },
    "tags": []
   },
   "outputs": [],
   "source": [
    "stat = NLP_stat(apple_news_df['articles'])"
   ]
  },
  {
   "cell_type": "code",
   "execution_count": 5,
   "id": "planned-cotton",
   "metadata": {
    "execution": {
     "iopub.execute_input": "2021-05-29T03:17:16.261401Z",
     "iopub.status.busy": "2021-05-29T03:17:16.261057Z",
     "iopub.status.idle": "2021-05-29T03:17:16.453829Z",
     "shell.execute_reply": "2021-05-29T03:17:16.453466Z",
     "shell.execute_reply.started": "2021-05-29T03:17:16.261368Z"
    },
    "tags": []
   },
   "outputs": [],
   "source": [
    "apple_news_df['word_count'] = stat.WordsCount"
   ]
  },
  {
   "cell_type": "markdown",
   "id": "directed-migration",
   "metadata": {},
   "source": [
    "## EXPLORATORY DATA ANALYSIS"
   ]
  },
  {
   "cell_type": "code",
   "execution_count": 355,
   "id": "hundred-geneva",
   "metadata": {
    "execution": {
     "iopub.execute_input": "2021-05-28T04:45:06.311891Z",
     "iopub.status.busy": "2021-05-28T04:45:06.311269Z",
     "iopub.status.idle": "2021-05-28T04:45:06.415319Z",
     "shell.execute_reply": "2021-05-28T04:45:06.414940Z",
     "shell.execute_reply.started": "2021-05-28T04:45:06.311821Z"
    },
    "tags": []
   },
   "outputs": [
    {
     "data": {
      "image/png": "[encoded data removed]",
      "text/plain": [
       "<Figure size 576x360 with 1 Axes>"
      ]
     },
     "metadata": {
      "needs_background": "light"
     },
     "output_type": "display_data"
    }
   ],
   "source": [
    "fig, ax = plt.subplots(figsize=(8,5))\n",
    "data = 'status'\n",
    "s_1 = sns.barplot(x=apple_news_df[data].value_counts().index,\n",
    "                  y=apple_news_df[data].value_counts().values, ax=ax)\n",
    "\n",
    "for index, row in apple_news_df[data].value_counts().iteritems():\n",
    "    s_1.text(x=apple_news_df[data].value_counts().index.get_loc(index), y=row,\n",
    "            s='{0:.2f}%'.format(row/df.shape[0]*100),\n",
    "            color='black', fontsize=14, horizontalalignment='center', va='bottom')\n",
    "ax.set_ylim((0, apple_news_df[data].value_counts().max()+500))\n",
    "ax.set_title(\"Sentiment\", fontsize=15, ha='center', va='bottom')\n",
    "ax.set_xlabel('classes')\n",
    "ax.set_ylabel('counts')\n",
    "# plt.savefig('./img/sentiment_classes.jpg',format=\"jpg\")\n",
    "plt.show()"
   ]
  },
  {
   "cell_type": "code",
   "execution_count": 359,
   "id": "operational-afternoon",
   "metadata": {
    "execution": {
     "iopub.execute_input": "2021-05-28T05:04:46.924317Z",
     "iopub.status.busy": "2021-05-28T05:04:46.923740Z",
     "iopub.status.idle": "2021-05-28T05:04:46.945585Z",
     "shell.execute_reply": "2021-05-28T05:04:46.944873Z",
     "shell.execute_reply.started": "2021-05-28T05:04:46.924251Z"
    },
    "tags": []
   },
   "outputs": [
    {
     "data": {
      "text/html": [
       "<div>\n",
       "<style scoped>\n",
       "    .dataframe tbody tr th:only-of-type {\n",
       "        vertical-align: middle;\n",
       "    }\n",
       "\n",
       "    .dataframe tbody tr th {\n",
       "        vertical-align: top;\n",
       "    }\n",
       "\n",
       "    .dataframe thead th {\n",
       "        text-align: right;\n",
       "    }\n",
       "</style>\n",
       "<table border=\"1\" class=\"dataframe\">\n",
       "  <thead>\n",
       "    <tr style=\"text-align: right;\">\n",
       "      <th></th>\n",
       "      <th>title</th>\n",
       "      <th>source</th>\n",
       "      <th>date</th>\n",
       "      <th>status</th>\n",
       "      <th>articles</th>\n",
       "      <th>word_count</th>\n",
       "      <th>text</th>\n",
       "      <th>negative</th>\n",
       "      <th>neutral</th>\n",
       "      <th>positive</th>\n",
       "      <th>compound</th>\n",
       "      <th>sentiment</th>\n",
       "    </tr>\n",
       "  </thead>\n",
       "  <tbody>\n",
       "    <tr>\n",
       "      <th>0</th>\n",
       "      <td>Home prices in March saw highest growth in ove...</td>\n",
       "      <td>CNBC</td>\n",
       "      <td>2021-05-25 09:01:19</td>\n",
       "      <td>Neutral</td>\n",
       "      <td>home prices march higher march compared march ...</td>\n",
       "      <td>271</td>\n",
       "      <td>home prices march higher march compared march ...</td>\n",
       "      <td>0.077</td>\n",
       "      <td>0.799</td>\n",
       "      <td>0.124</td>\n",
       "      <td>0.9393</td>\n",
       "      <td>positive</td>\n",
       "    </tr>\n",
       "  </tbody>\n",
       "</table>\n",
       "</div>"
      ],
      "text/plain": [
       "                                               title source  \\\n",
       "0  Home prices in March saw highest growth in ove...   CNBC   \n",
       "\n",
       "                 date   status  \\\n",
       "0 2021-05-25 09:01:19  Neutral   \n",
       "\n",
       "                                            articles  word_count  \\\n",
       "0  home prices march higher march compared march ...         271   \n",
       "\n",
       "                                                text  negative  neutral  \\\n",
       "0  home prices march higher march compared march ...     0.077    0.799   \n",
       "\n",
       "   positive  compound sentiment  \n",
       "0     0.124    0.9393  positive  "
      ]
     },
     "execution_count": 359,
     "metadata": {},
     "output_type": "execute_result"
    }
   ],
   "source": [
    "apple_news_df[:1]"
   ]
  },
  {
   "cell_type": "code",
   "execution_count": 362,
   "id": "solid-employment",
   "metadata": {
    "execution": {
     "iopub.execute_input": "2021-05-28T05:06:25.313108Z",
     "iopub.status.busy": "2021-05-28T05:06:25.312475Z",
     "iopub.status.idle": "2021-05-28T05:06:25.331876Z",
     "shell.execute_reply": "2021-05-28T05:06:25.330820Z",
     "shell.execute_reply.started": "2021-05-28T05:06:25.313041Z"
    },
    "tags": []
   },
   "outputs": [
    {
     "data": {
      "text/html": [
       "<div>\n",
       "<style scoped>\n",
       "    .dataframe tbody tr th:only-of-type {\n",
       "        vertical-align: middle;\n",
       "    }\n",
       "\n",
       "    .dataframe tbody tr th {\n",
       "        vertical-align: top;\n",
       "    }\n",
       "\n",
       "    .dataframe thead th {\n",
       "        text-align: right;\n",
       "    }\n",
       "</style>\n",
       "<table border=\"1\" class=\"dataframe\">\n",
       "  <thead>\n",
       "    <tr style=\"text-align: right;\">\n",
       "      <th></th>\n",
       "      <th>word_count</th>\n",
       "    </tr>\n",
       "    <tr>\n",
       "      <th>status</th>\n",
       "      <th></th>\n",
       "    </tr>\n",
       "  </thead>\n",
       "  <tbody>\n",
       "    <tr>\n",
       "      <th>Negative</th>\n",
       "      <td>2142</td>\n",
       "    </tr>\n",
       "    <tr>\n",
       "      <th>Neutral</th>\n",
       "      <td>3024</td>\n",
       "    </tr>\n",
       "    <tr>\n",
       "      <th>Positive</th>\n",
       "      <td>4358</td>\n",
       "    </tr>\n",
       "  </tbody>\n",
       "</table>\n",
       "</div>"
      ],
      "text/plain": [
       "          word_count\n",
       "status              \n",
       "Negative        2142\n",
       "Neutral         3024\n",
       "Positive        4358"
      ]
     },
     "execution_count": 362,
     "metadata": {},
     "output_type": "execute_result"
    }
   ],
   "source": [
    "apple_news_df.groupby('status').agg({'word_count': 'count'})"
   ]
  },
  {
   "cell_type": "markdown",
   "id": "floating-fifteen",
   "metadata": {},
   "source": [
    "## MODELING"
   ]
  },
  {
   "cell_type": "code",
   "execution_count": 7,
   "id": "serial-offer",
   "metadata": {
    "execution": {
     "iopub.execute_input": "2021-05-29T03:23:13.216261Z",
     "iopub.status.busy": "2021-05-29T03:23:13.215889Z",
     "iopub.status.idle": "2021-05-29T03:23:13.230854Z",
     "shell.execute_reply": "2021-05-29T03:23:13.229886Z",
     "shell.execute_reply.started": "2021-05-29T03:23:13.216226Z"
    },
    "tags": []
   },
   "outputs": [],
   "source": [
    "from keras.utils import to_categorical\n",
    "from keras.preprocessing.text import Tokenizer\n",
    "from keras.preprocessing.sequence import pad_sequences\n",
    "import keras\n",
    "from gensim.models import Word2Vec\n",
    "from sklearn.preprocessing import LabelEncoder\n",
    "from sklearn.model_selection import train_test_split\n",
    "from tensorflow.keras.callbacks import EarlyStopping, ModelCheckpoint, ReduceLROnPlateau\n",
    "from joblib import dump, load"
   ]
  },
  {
   "cell_type": "code",
   "execution_count": 8,
   "id": "clinical-product",
   "metadata": {
    "execution": {
     "iopub.execute_input": "2021-05-29T03:23:13.773879Z",
     "iopub.status.busy": "2021-05-29T03:23:13.773202Z",
     "iopub.status.idle": "2021-05-29T03:23:14.050012Z",
     "shell.execute_reply": "2021-05-29T03:23:14.049572Z",
     "shell.execute_reply.started": "2021-05-29T03:23:13.773809Z"
    },
    "tags": []
   },
   "outputs": [],
   "source": [
    "sentences = apple_news_df['articles'].apply(lambda x: x.split()).to_list()\n",
    "max_lenght = 100"
   ]
  },
  {
   "cell_type": "code",
   "execution_count": 9,
   "id": "overall-coordinate",
   "metadata": {
    "execution": {
     "iopub.execute_input": "2021-05-29T03:23:14.168499Z",
     "iopub.status.busy": "2021-05-29T03:23:14.168194Z",
     "iopub.status.idle": "2021-05-29T03:23:14.175760Z",
     "shell.execute_reply": "2021-05-29T03:23:14.174985Z",
     "shell.execute_reply.started": "2021-05-29T03:23:14.168467Z"
    },
    "tags": []
   },
   "outputs": [],
   "source": [
    "l_encoder = LabelEncoder()\n",
    "y_encoded = l_encoder.fit_transform(apple_news_df['sentiment'])"
   ]
  },
  {
   "cell_type": "code",
   "execution_count": 10,
   "id": "miniature-combat",
   "metadata": {
    "execution": {
     "iopub.execute_input": "2021-05-29T03:23:15.773869Z",
     "iopub.status.busy": "2021-05-29T03:23:15.773495Z",
     "iopub.status.idle": "2021-05-29T03:23:18.940531Z",
     "shell.execute_reply": "2021-05-29T03:23:18.940105Z",
     "shell.execute_reply.started": "2021-05-29T03:23:15.773834Z"
    },
    "tags": []
   },
   "outputs": [],
   "source": [
    "tokenizer = Tokenizer(num_words=10000)\n",
    "tokenizer.fit_on_texts(apple_news_df['articles'])\n",
    "sequences = tokenizer.texts_to_sequences(apple_news_df['articles'])\n",
    "word_index = tokenizer.word_index\n",
    "# total vocabulary size plus 0 for unknown words\n",
    "vocab_size = len(tokenizer.word_index) + 1\n",
    "data = pad_sequences(sequences, max_lenght)\n",
    "labels = to_categorical(y_encoded)"
   ]
  },
  {
   "cell_type": "code",
   "execution_count": 11,
   "id": "upset-refund",
   "metadata": {
    "execution": {
     "iopub.execute_input": "2021-05-29T03:23:18.941431Z",
     "iopub.status.busy": "2021-05-29T03:23:18.941335Z",
     "iopub.status.idle": "2021-05-29T03:23:18.944356Z",
     "shell.execute_reply": "2021-05-29T03:23:18.944077Z",
     "shell.execute_reply.started": "2021-05-29T03:23:18.941419Z"
    },
    "tags": []
   },
   "outputs": [
    {
     "name": "stdout",
     "output_type": "stream",
     "text": [
      "Unique Words              36827\n",
      "Shape of data tensor      (9451, 100)\n",
      "Shape of label tensor     (9451, 2)\n"
     ]
    }
   ],
   "source": [
    "print(f\"{'Unique Words':25} {len(tokenizer.index_word)}\")\n",
    "print(f\"{'Shape of data tensor':25} {data.shape}\")\n",
    "print(f\"{'Shape of label tensor':25} {labels.shape}\")"
   ]
  },
  {
   "cell_type": "code",
   "execution_count": 12,
   "id": "tested-typing",
   "metadata": {
    "execution": {
     "iopub.execute_input": "2021-05-29T03:23:21.421710Z",
     "iopub.status.busy": "2021-05-29T03:23:21.421116Z",
     "iopub.status.idle": "2021-05-29T03:23:43.755493Z",
     "shell.execute_reply": "2021-05-29T03:23:43.755081Z",
     "shell.execute_reply.started": "2021-05-29T03:23:21.421645Z"
    },
    "tags": []
   },
   "outputs": [],
   "source": [
    "word2vec = Word2Vec(sentences,\n",
    "                     size=max_lenght,\n",
    "                     window=5,\n",
    "                     min_count=1,\n",
    "                     workers=4,\n",
    "                    )\n",
    "word2vec.train(sentences, total_examples=word2vec.corpus_count, epochs=5)\n",
    "\n",
    "pretrained_weights = word2vec.wv.vectors\n",
    "vocab_size, emdedding_size = pretrained_weights.shape\n",
    "\n",
    "vectors = np.asarray(word2vec.wv.vectors)"
   ]
  },
  {
   "cell_type": "code",
   "execution_count": 11,
   "id": "artificial-pocket",
   "metadata": {
    "execution": {
     "iopub.execute_input": "2021-05-29T02:50:12.680455Z",
     "iopub.status.busy": "2021-05-29T02:50:12.679829Z",
     "iopub.status.idle": "2021-05-29T02:50:12.893496Z",
     "shell.execute_reply": "2021-05-29T02:50:12.893137Z",
     "shell.execute_reply.started": "2021-05-29T02:50:12.680386Z"
    }
   },
   "outputs": [],
   "source": [
    "word2vec.save('./word2vec/word2vrc_model')"
   ]
  },
  {
   "cell_type": "code",
   "execution_count": 13,
   "id": "exempt-puzzle",
   "metadata": {
    "execution": {
     "iopub.execute_input": "2021-05-29T03:23:45.262578Z",
     "iopub.status.busy": "2021-05-29T03:23:45.261910Z",
     "iopub.status.idle": "2021-05-29T03:23:45.271900Z",
     "shell.execute_reply": "2021-05-29T03:23:45.270637Z",
     "shell.execute_reply.started": "2021-05-29T03:23:45.262501Z"
    },
    "tags": []
   },
   "outputs": [
    {
     "data": {
      "text/plain": [
       "(36827, 36827)"
      ]
     },
     "execution_count": 13,
     "metadata": {},
     "output_type": "execute_result"
    }
   ],
   "source": [
    "len(word_index), len(word2vec.wv.vocab)"
   ]
  },
  {
   "cell_type": "code",
   "execution_count": 14,
   "id": "quarterly-antique",
   "metadata": {
    "execution": {
     "iopub.execute_input": "2021-05-29T03:23:45.989898Z",
     "iopub.status.busy": "2021-05-29T03:23:45.989166Z",
     "iopub.status.idle": "2021-05-29T03:23:46.096464Z",
     "shell.execute_reply": "2021-05-29T03:23:46.096051Z",
     "shell.execute_reply.started": "2021-05-29T03:23:45.989826Z"
    },
    "tags": []
   },
   "outputs": [],
   "source": [
    "embedding_matrix = np.zeros((vocab_size+1, emdedding_size))\n",
    "for word, idx in word_index.items():\n",
    "        embedding_matrix[idx] = word2vec.wv[word]"
   ]
  },
  {
   "cell_type": "code",
   "execution_count": 15,
   "id": "palestinian-plant",
   "metadata": {
    "execution": {
     "iopub.execute_input": "2021-05-29T02:56:00.152710Z",
     "iopub.status.busy": "2021-05-29T02:56:00.152336Z",
     "iopub.status.idle": "2021-05-29T02:56:01.111404Z",
     "shell.execute_reply": "2021-05-29T02:56:01.111085Z",
     "shell.execute_reply.started": "2021-05-29T02:56:00.152675Z"
    },
    "tags": []
   },
   "outputs": [
    {
     "data": {
      "text/plain": [
       "['./word2vec/embedding_matrix.pkl']"
      ]
     },
     "execution_count": 15,
     "metadata": {},
     "output_type": "execute_result"
    }
   ],
   "source": [
    "dump(embedding_matrix, './word2vec/embedding_matrix.pkl', compress=5)"
   ]
  },
  {
   "cell_type": "code",
   "execution_count": 15,
   "id": "occupational-disney",
   "metadata": {
    "execution": {
     "iopub.execute_input": "2021-05-29T03:23:54.248393Z",
     "iopub.status.busy": "2021-05-29T03:23:54.247784Z",
     "iopub.status.idle": "2021-05-29T03:23:54.354416Z",
     "shell.execute_reply": "2021-05-29T03:23:54.354045Z",
     "shell.execute_reply.started": "2021-05-29T03:23:54.248325Z"
    },
    "tags": []
   },
   "outputs": [
    {
     "name": "stdout",
     "output_type": "stream",
     "text": [
      "Train\n",
      "\tX :  (8033, 100)\n",
      "\tY :  (8033, 2)\n",
      "Test\n",
      "\tX :  (1418, 100)\n",
      "\tY :  (1418, 2)\n",
      "Validation\n",
      "\tX :  (1418, 100)\n",
      "\tY :  (1418, 2)\n"
     ]
    }
   ],
   "source": [
    "X_train, X_test, y_train, y_test = train_test_split(data, labels, test_size=.15, random_state=1, stratify=labels)\n",
    "X_train, X_val, y_train, y_val   = train_test_split(data, labels, test_size=.15, random_state=1, stratify=labels)\n",
    "\n",
    "print(f\"Train\\n\\t{'X :':5}{X_train.shape}\\n\\t{'Y :':5}{y_train.shape}\")\n",
    "print(f\"Test\\n\\t{'X :':5}{X_test.shape}\\n\\t{'Y :':5}{y_test.shape}\")\n",
    "print(f\"Validation\\n\\t{'X :':5}{X_val.shape}\\n\\t{'Y :':5}{y_val.shape}\")"
   ]
  },
  {
   "cell_type": "code",
   "execution_count": 16,
   "id": "third-cincinnati",
   "metadata": {
    "execution": {
     "iopub.execute_input": "2021-05-29T03:23:58.712200Z",
     "iopub.status.busy": "2021-05-29T03:23:58.711609Z",
     "iopub.status.idle": "2021-05-29T03:23:58.719436Z",
     "shell.execute_reply": "2021-05-29T03:23:58.718025Z",
     "shell.execute_reply.started": "2021-05-29T03:23:58.712134Z"
    },
    "tags": []
   },
   "outputs": [],
   "source": [
    "input_dim = embedding_matrix.shape[0]\n",
    "embedding_dim = embedding_matrix.shape[1]\n",
    "max_seq_len = data.shape[1]"
   ]
  },
  {
   "cell_type": "code",
   "execution_count": 78,
   "id": "smart-insight",
   "metadata": {
    "execution": {
     "iopub.execute_input": "2021-05-29T03:47:31.496219Z",
     "iopub.status.busy": "2021-05-29T03:47:31.495585Z",
     "iopub.status.idle": "2021-05-29T03:47:31.506515Z",
     "shell.execute_reply": "2021-05-29T03:47:31.505673Z",
     "shell.execute_reply.started": "2021-05-29T03:47:31.496148Z"
    },
    "tags": []
   },
   "outputs": [],
   "source": [
    "%run './lib/word2vec.py'"
   ]
  },
  {
   "cell_type": "code",
   "execution_count": 217,
   "id": "painful-collector",
   "metadata": {
    "execution": {
     "iopub.execute_input": "2021-05-29T05:18:38.269272Z",
     "iopub.status.busy": "2021-05-29T05:18:38.268685Z",
     "iopub.status.idle": "2021-05-29T05:18:38.277994Z",
     "shell.execute_reply": "2021-05-29T05:18:38.276897Z",
     "shell.execute_reply.started": "2021-05-29T05:18:38.269205Z"
    },
    "tags": []
   },
   "outputs": [],
   "source": [
    "BIAS = class_weights_ohe(labels)\n",
    "METRICS = ['accuracy']\n",
    "EPOCHS = 32\n",
    "BATCH_SIZE = 400\n",
    "STEPS_x_EPOCH = X_train.shape[0]//BATCH_SIZE"
   ]
  },
  {
   "cell_type": "code",
   "execution_count": 230,
   "id": "communist-jurisdiction",
   "metadata": {
    "execution": {
     "iopub.execute_input": "2021-05-29T05:35:47.158360Z",
     "iopub.status.busy": "2021-05-29T05:35:47.158018Z",
     "iopub.status.idle": "2021-05-29T05:35:47.171070Z",
     "shell.execute_reply": "2021-05-29T05:35:47.169808Z",
     "shell.execute_reply.started": "2021-05-29T05:35:47.158326Z"
    },
    "tags": []
   },
   "outputs": [],
   "source": [
    "eStop_Val_Loss = EarlyStopping(monitor='val_loss', min_delta=0.0001, patience=12,\n",
    "                            verbose=1,mode='min',baseline=0.999,restore_best_weights=False)\n",
    "eStop_Loss     = EarlyStopping(monitor='loss', min_delta=0.001, patience=12,\n",
    "                            verbose=1,mode='min',baseline=0.999,restore_best_weights=False)\n",
    "eStop_Accuracy = EarlyStopping(monitor='accuracy', min_delta=0.001, patience=24,\n",
    "                            verbose=1, mode='max', baseline=0.999, restore_best_weights=False)\n",
    "eStop_Val_accuracy  = EarlyStopping(monitor='val_accuracy', min_delta=0.001, patience=24,\n",
    "                            verbose=1, mode='max', baseline=0.999, restore_best_weights=False)\n",
    "\n",
    "eStop_Reduce_lr = ReduceLROnPlateau(monitor='val_loss', factor=0.1, patience=8, min_lr=0.000001, verbose=1)"
   ]
  },
  {
   "cell_type": "code",
   "execution_count": 201,
   "id": "combined-protest",
   "metadata": {
    "execution": {
     "iopub.execute_input": "2021-05-29T05:07:15.975673Z",
     "iopub.status.busy": "2021-05-29T05:07:15.975116Z",
     "iopub.status.idle": "2021-05-29T05:07:15.984614Z",
     "shell.execute_reply": "2021-05-29T05:07:15.983690Z",
     "shell.execute_reply.started": "2021-05-29T05:07:15.975607Z"
    },
    "tags": []
   },
   "outputs": [],
   "source": [
    "keras.backend.clear_session()"
   ]
  },
  {
   "cell_type": "code",
   "execution_count": 202,
   "id": "painted-montreal",
   "metadata": {
    "execution": {
     "iopub.execute_input": "2021-05-29T05:07:16.239741Z",
     "iopub.status.busy": "2021-05-29T05:07:16.239531Z",
     "iopub.status.idle": "2021-05-29T05:07:17.323873Z",
     "shell.execute_reply": "2021-05-29T05:07:17.323409Z",
     "shell.execute_reply.started": "2021-05-29T05:07:16.239724Z"
    },
    "tags": []
   },
   "outputs": [],
   "source": [
    "model = make_model(metrics=METRICS,\n",
    "                   input_dim=input_dim,\n",
    "                   embedding_dim=embedding_dim,\n",
    "                   weights=embedding_matrix,\n",
    "                   input_length=max_seq_len,\n",
    "                   output_bias=BIAS\n",
    "                  )"
   ]
  },
  {
   "cell_type": "code",
   "execution_count": 203,
   "id": "advance-catalyst",
   "metadata": {
    "execution": {
     "iopub.execute_input": "2021-05-29T05:07:17.324873Z",
     "iopub.status.busy": "2021-05-29T05:07:17.324763Z",
     "iopub.status.idle": "2021-05-29T05:07:17.327627Z",
     "shell.execute_reply": "2021-05-29T05:07:17.327330Z",
     "shell.execute_reply.started": "2021-05-29T05:07:17.324860Z"
    },
    "tags": []
   },
   "outputs": [
    {
     "name": "stdout",
     "output_type": "stream",
     "text": [
      "Model: \"sequential\"\n",
      "_________________________________________________________________\n",
      "Layer (type)                 Output Shape              Param #   \n",
      "=================================================================\n",
      "embedding (Embedding)        (None, 100, 100)          3682800   \n",
      "_________________________________________________________________\n",
      "bidirectional (Bidirectional (None, 100, 200)          160800    \n",
      "_________________________________________________________________\n",
      "lstm_1 (LSTM)                (None, 16)                13888     \n",
      "_________________________________________________________________\n",
      "dense16 (Dense)              (None, 16)                272       \n",
      "_________________________________________________________________\n",
      "dropout (Dropout)            (None, 16)                0         \n",
      "_________________________________________________________________\n",
      "output4 (Dense)              (None, 2)                 34        \n",
      "=================================================================\n",
      "Total params: 3,857,794\n",
      "Trainable params: 174,994\n",
      "Non-trainable params: 3,682,800\n",
      "_________________________________________________________________\n"
     ]
    }
   ],
   "source": [
    "model.summary()"
   ]
  },
  {
   "cell_type": "code",
   "execution_count": 204,
   "id": "institutional-major",
   "metadata": {
    "execution": {
     "iopub.execute_input": "2021-05-29T05:07:19.232995Z",
     "iopub.status.busy": "2021-05-29T05:07:19.232498Z",
     "iopub.status.idle": "2021-05-29T05:07:19.240360Z",
     "shell.execute_reply": "2021-05-29T05:07:19.238684Z",
     "shell.execute_reply.started": "2021-05-29T05:07:19.232944Z"
    },
    "tags": []
   },
   "outputs": [],
   "source": [
    "model.layers[0].embeddings_initializer = keras.initializers.GlorotUniform()\n",
    "model.layers[3].activation = tf.keras.activations.swish"
   ]
  },
  {
   "cell_type": "code",
   "execution_count": 198,
   "id": "adapted-electron",
   "metadata": {
    "execution": {
     "iopub.execute_input": "2021-05-29T04:59:19.500974Z",
     "iopub.status.busy": "2021-05-29T04:59:19.500181Z",
     "iopub.status.idle": "2021-05-29T05:06:19.024677Z",
     "shell.execute_reply": "2021-05-29T05:06:19.024393Z",
     "shell.execute_reply.started": "2021-05-29T04:59:19.500894Z"
    },
    "scrolled": true,
    "tags": []
   },
   "outputs": [
    {
     "name": "stdout",
     "output_type": "stream",
     "text": [
      "Epoch 1/32\n",
      "20/20 [==============================] - 23s 906ms/step - loss: 2.7740 - accuracy: 0.1187 - val_loss: 0.9841 - val_accuracy: 0.1206\n",
      "Epoch 2/32\n",
      "20/20 [==============================] - 17s 848ms/step - loss: 0.9613 - accuracy: 0.4958 - val_loss: 0.3819 - val_accuracy: 0.8794\n",
      "Epoch 3/32\n",
      "20/20 [==============================] - 17s 859ms/step - loss: 0.6506 - accuracy: 0.7170 - val_loss: 0.3675 - val_accuracy: 0.8794\n",
      "Epoch 4/32\n",
      "20/20 [==============================] - 17s 859ms/step - loss: 0.6192 - accuracy: 0.7569 - val_loss: 0.3707 - val_accuracy: 0.8794\n",
      "Epoch 5/32\n",
      "20/20 [==============================] - 17s 867ms/step - loss: 0.6102 - accuracy: 0.7637 - val_loss: 0.3662 - val_accuracy: 0.8794\n",
      "Epoch 6/32\n",
      "20/20 [==============================] - 17s 877ms/step - loss: 0.5447 - accuracy: 0.7821 - val_loss: 0.3596 - val_accuracy: 0.8794\n",
      "Epoch 7/32\n",
      "20/20 [==============================] - 17s 882ms/step - loss: 0.5343 - accuracy: 0.7923 - val_loss: 0.3470 - val_accuracy: 0.8794\n",
      "Epoch 8/32\n",
      "20/20 [==============================] - 17s 884ms/step - loss: 0.5201 - accuracy: 0.7954 - val_loss: 0.3311 - val_accuracy: 0.8794\n",
      "Epoch 9/32\n",
      "20/20 [==============================] - 18s 898ms/step - loss: 0.4537 - accuracy: 0.8135 - val_loss: 0.3175 - val_accuracy: 0.8918\n",
      "Epoch 10/32\n",
      "20/20 [==============================] - 17s 880ms/step - loss: 0.4662 - accuracy: 0.8167 - val_loss: 0.3065 - val_accuracy: 0.8930\n",
      "Epoch 11/32\n",
      "20/20 [==============================] - 17s 878ms/step - loss: 0.4128 - accuracy: 0.8347 - val_loss: 0.3043 - val_accuracy: 0.8930\n",
      "Epoch 12/32\n",
      "20/20 [==============================] - 17s 882ms/step - loss: 0.4162 - accuracy: 0.8385 - val_loss: 0.2954 - val_accuracy: 0.8943\n",
      "Epoch 13/32\n",
      "20/20 [==============================] - 17s 881ms/step - loss: 0.3986 - accuracy: 0.8474 - val_loss: 0.3084 - val_accuracy: 0.8943\n",
      "Epoch 14/32\n",
      "20/20 [==============================] - 18s 892ms/step - loss: 0.3901 - accuracy: 0.8507 - val_loss: 0.2903 - val_accuracy: 0.8968\n",
      "Epoch 15/32\n",
      "20/20 [==============================] - 17s 887ms/step - loss: 0.3696 - accuracy: 0.8471 - val_loss: 0.2758 - val_accuracy: 0.8943\n",
      "Epoch 16/32\n",
      "20/20 [==============================] - 17s 888ms/step - loss: 0.3504 - accuracy: 0.8551 - val_loss: 0.2569 - val_accuracy: 0.9192\n",
      "Epoch 17/32\n",
      "20/20 [==============================] - 17s 882ms/step - loss: 0.3153 - accuracy: 0.8777 - val_loss: 0.2526 - val_accuracy: 0.9104\n",
      "Epoch 18/32\n",
      "20/20 [==============================] - 17s 881ms/step - loss: 0.3285 - accuracy: 0.8679 - val_loss: 0.2638 - val_accuracy: 0.9129\n",
      "Epoch 19/32\n",
      "20/20 [==============================] - 17s 882ms/step - loss: 0.3013 - accuracy: 0.8847 - val_loss: 0.2460 - val_accuracy: 0.9129\n",
      "Epoch 20/32\n",
      "20/20 [==============================] - 17s 884ms/step - loss: 0.3044 - accuracy: 0.8735 - val_loss: 0.2502 - val_accuracy: 0.9092\n",
      "Epoch 21/32\n",
      "20/20 [==============================] - 17s 891ms/step - loss: 0.2887 - accuracy: 0.8861 - val_loss: 0.2564 - val_accuracy: 0.9192\n",
      "Epoch 22/32\n",
      "20/20 [==============================] - 17s 885ms/step - loss: 0.2601 - accuracy: 0.9017 - val_loss: 0.2679 - val_accuracy: 0.8818\n",
      "Epoch 23/32\n",
      "20/20 [==============================] - 17s 882ms/step - loss: 0.2891 - accuracy: 0.8808 - val_loss: 0.2599 - val_accuracy: 0.9229\n",
      "Epoch 24/32\n",
      "20/20 [==============================] - 17s 881ms/step - loss: 0.2591 - accuracy: 0.8962 - val_loss: 0.2603 - val_accuracy: 0.9229\n",
      "Epoch 00024: early stopping\n"
     ]
    }
   ],
   "source": [
    "history = model.fit(X_train,\n",
    "                    y_train,\n",
    "                    validation_data=(X_val, y_val),\n",
    "                    validation_split=0.1,\n",
    "                    validation_batch_size=1,\n",
    "                    epochs=EPOCHS,\n",
    "                    batch_size=BATCH_SIZE,\n",
    "                    steps_per_epoch=STEPS_x_EPOCH,\n",
    "                    use_multiprocessing = True,\n",
    "                    callbacks=[eStop_Val_accuracy, eStop_Val_Loss],\n",
    "                    workers=6\n",
    "                    )"
   ]
  },
  {
   "cell_type": "code",
   "execution_count": 199,
   "id": "incoming-upper",
   "metadata": {
    "execution": {
     "iopub.execute_input": "2021-05-29T05:06:22.905439Z",
     "iopub.status.busy": "2021-05-29T05:06:22.905026Z",
     "iopub.status.idle": "2021-05-29T05:06:23.150574Z",
     "shell.execute_reply": "2021-05-29T05:06:23.150222Z",
     "shell.execute_reply.started": "2021-05-29T05:06:22.905402Z"
    },
    "tags": []
   },
   "outputs": [
    {
     "data": {
      "image/png": "[encoded data removed]",
      "text/plain": [
       "<Figure size 1440x360 with 2 Axes>"
      ]
     },
     "metadata": {
      "needs_background": "light"
     },
     "output_type": "display_data"
    }
   ],
   "source": [
    "Plot_History(history)"
   ]
  },
  {
   "cell_type": "code",
   "execution_count": 211,
   "id": "superior-giving",
   "metadata": {
    "execution": {
     "iopub.execute_input": "2021-05-29T05:11:28.011123Z",
     "iopub.status.busy": "2021-05-29T05:11:28.010484Z",
     "iopub.status.idle": "2021-05-29T05:11:28.085247Z",
     "shell.execute_reply": "2021-05-29T05:11:28.084849Z",
     "shell.execute_reply.started": "2021-05-29T05:11:28.011054Z"
    },
    "tags": []
   },
   "outputs": [],
   "source": [
    "# model.save_weights('./word2vec/train1')"
   ]
  },
  {
   "cell_type": "code",
   "execution_count": 225,
   "id": "increasing-efficiency",
   "metadata": {
    "execution": {
     "iopub.execute_input": "2021-05-29T05:26:10.840507Z",
     "iopub.status.busy": "2021-05-29T05:26:10.839879Z",
     "iopub.status.idle": "2021-05-29T05:26:12.912180Z",
     "shell.execute_reply": "2021-05-29T05:26:12.911875Z",
     "shell.execute_reply.started": "2021-05-29T05:26:10.840439Z"
    },
    "tags": []
   },
   "outputs": [
    {
     "name": "stdout",
     "output_type": "stream",
     "text": [
      "Model: \"sequential\"\n",
      "_________________________________________________________________\n",
      "Layer (type)                 Output Shape              Param #   \n",
      "=================================================================\n",
      "embedding (Embedding)        (None, 100, 100)          3682800   \n",
      "_________________________________________________________________\n",
      "bidirectional (Bidirectional (None, 100, 200)          160800    \n",
      "_________________________________________________________________\n",
      "lstm_1 (LSTM)                (None, 16)                13888     \n",
      "_________________________________________________________________\n",
      "dense16 (Dense)              (None, 16)                272       \n",
      "_________________________________________________________________\n",
      "dropout (Dropout)            (None, 16)                0         \n",
      "_________________________________________________________________\n",
      "output4 (Dense)              (None, 2)                 34        \n",
      "=================================================================\n",
      "Total params: 3,857,794\n",
      "Trainable params: 174,994\n",
      "Non-trainable params: 3,682,800\n",
      "_________________________________________________________________\n"
     ]
    }
   ],
   "source": [
    "model = make_model(metrics=METRICS,\n",
    "                   input_dim=input_dim,\n",
    "                   embedding_dim=embedding_dim,\n",
    "                   weights=embedding_matrix,\n",
    "                   input_length=max_seq_len,\n",
    "                   output_bias=BIAS\n",
    "                  )\n",
    "model.summary()"
   ]
  },
  {
   "cell_type": "code",
   "execution_count": 226,
   "id": "joint-avatar",
   "metadata": {
    "execution": {
     "iopub.execute_input": "2021-05-29T05:27:19.581358Z",
     "iopub.status.busy": "2021-05-29T05:27:19.580750Z",
     "iopub.status.idle": "2021-05-29T05:27:19.589540Z",
     "shell.execute_reply": "2021-05-29T05:27:19.588055Z",
     "shell.execute_reply.started": "2021-05-29T05:27:19.581290Z"
    }
   },
   "outputs": [],
   "source": [
    "model.layers[0].embeddings_initializer = keras.initializers.zeros()\n",
    "model.layers[3].activation = tf.keras.activations.swish"
   ]
  },
  {
   "cell_type": "code",
   "execution_count": 227,
   "id": "limited-final",
   "metadata": {
    "execution": {
     "iopub.execute_input": "2021-05-29T05:27:20.950175Z",
     "iopub.status.busy": "2021-05-29T05:27:20.949552Z",
     "iopub.status.idle": "2021-05-29T05:34:16.700030Z",
     "shell.execute_reply": "2021-05-29T05:34:16.699714Z",
     "shell.execute_reply.started": "2021-05-29T05:27:20.950108Z"
    },
    "scrolled": true,
    "tags": []
   },
   "outputs": [
    {
     "name": "stdout",
     "output_type": "stream",
     "text": [
      "Epoch 1/32\n",
      "20/20 [==============================] - 22s 899ms/step - loss: 2.5789 - accuracy: 0.1415 - val_loss: 0.7471 - val_accuracy: 0.6580\n",
      "Epoch 2/32\n",
      "20/20 [==============================] - 17s 849ms/step - loss: 0.8351 - accuracy: 0.5657 - val_loss: 0.3451 - val_accuracy: 0.8794\n",
      "Epoch 3/32\n",
      "20/20 [==============================] - 17s 849ms/step - loss: 0.5721 - accuracy: 0.7748 - val_loss: 0.3359 - val_accuracy: 0.8930\n",
      "Epoch 4/32\n",
      "20/20 [==============================] - 17s 856ms/step - loss: 0.4916 - accuracy: 0.8071 - val_loss: 0.3187 - val_accuracy: 0.8955\n",
      "Epoch 5/32\n",
      "20/20 [==============================] - 17s 863ms/step - loss: 0.4629 - accuracy: 0.8184 - val_loss: 0.3133 - val_accuracy: 0.8980\n",
      "Epoch 6/32\n",
      "20/20 [==============================] - 17s 870ms/step - loss: 0.4697 - accuracy: 0.8208 - val_loss: 0.3113 - val_accuracy: 0.8955\n",
      "Epoch 7/32\n",
      "20/20 [==============================] - 17s 871ms/step - loss: 0.4490 - accuracy: 0.8281 - val_loss: 0.3028 - val_accuracy: 0.8955\n",
      "Epoch 8/32\n",
      "20/20 [==============================] - 17s 876ms/step - loss: 0.4024 - accuracy: 0.8439 - val_loss: 0.3023 - val_accuracy: 0.8955\n",
      "Epoch 9/32\n",
      "20/20 [==============================] - 17s 876ms/step - loss: 0.3938 - accuracy: 0.8516 - val_loss: 0.2884 - val_accuracy: 0.8968\n",
      "Epoch 10/32\n",
      "20/20 [==============================] - 18s 913ms/step - loss: 0.3620 - accuracy: 0.8612 - val_loss: 0.2584 - val_accuracy: 0.8856\n",
      "Epoch 11/32\n",
      "20/20 [==============================] - 17s 886ms/step - loss: 0.3203 - accuracy: 0.8667 - val_loss: 0.2688 - val_accuracy: 0.9192\n",
      "Epoch 12/32\n",
      "20/20 [==============================] - 17s 877ms/step - loss: 0.3276 - accuracy: 0.8792 - val_loss: 0.2573 - val_accuracy: 0.9192\n",
      "Epoch 13/32\n",
      "20/20 [==============================] - 17s 880ms/step - loss: 0.3186 - accuracy: 0.8811 - val_loss: 0.2345 - val_accuracy: 0.9192\n",
      "Epoch 14/32\n",
      "20/20 [==============================] - 17s 881ms/step - loss: 0.2873 - accuracy: 0.8863 - val_loss: 0.2402 - val_accuracy: 0.9129\n",
      "Epoch 15/32\n",
      "20/20 [==============================] - 17s 877ms/step - loss: 0.2794 - accuracy: 0.8920 - val_loss: 0.2522 - val_accuracy: 0.9042\n",
      "Epoch 16/32\n",
      "20/20 [==============================] - 17s 875ms/step - loss: 0.3023 - accuracy: 0.8778 - val_loss: 0.2466 - val_accuracy: 0.9142\n",
      "Epoch 17/32\n",
      "20/20 [==============================] - 17s 873ms/step - loss: 0.2562 - accuracy: 0.9040 - val_loss: 0.2518 - val_accuracy: 0.9241\n",
      "Epoch 18/32\n",
      "20/20 [==============================] - 17s 874ms/step - loss: 0.2544 - accuracy: 0.9056 - val_loss: 0.2719 - val_accuracy: 0.9117\n",
      "Epoch 19/32\n",
      "20/20 [==============================] - 17s 871ms/step - loss: 0.2418 - accuracy: 0.9120 - val_loss: 0.2650 - val_accuracy: 0.9167\n",
      "Epoch 20/32\n",
      "20/20 [==============================] - 17s 871ms/step - loss: 0.2363 - accuracy: 0.9088 - val_loss: 0.2481 - val_accuracy: 0.9104\n",
      "Epoch 21/32\n",
      "20/20 [==============================] - 17s 874ms/step - loss: 0.2514 - accuracy: 0.9023 - val_loss: 0.2491 - val_accuracy: 0.9067\n",
      "Epoch 22/32\n",
      "20/20 [==============================] - 17s 875ms/step - loss: 0.2574 - accuracy: 0.8966 - val_loss: 0.2827 - val_accuracy: 0.8806\n",
      "Epoch 23/32\n",
      "20/20 [==============================] - 17s 880ms/step - loss: 0.2524 - accuracy: 0.9015 - val_loss: 0.2558 - val_accuracy: 0.9216\n",
      "Epoch 24/32\n",
      "20/20 [==============================] - 17s 874ms/step - loss: 0.2320 - accuracy: 0.9118 - val_loss: 0.2749 - val_accuracy: 0.9216\n",
      "Epoch 00024: early stopping\n"
     ]
    }
   ],
   "source": [
    "history = model.fit(X_train,\n",
    "                    y_train,\n",
    "                    validation_data=(X_val, y_val),\n",
    "                    validation_split=0.1,\n",
    "                    validation_batch_size=1,\n",
    "                    epochs=EPOCHS,\n",
    "                    batch_size=BATCH_SIZE,\n",
    "                    steps_per_epoch=STEPS_x_EPOCH,\n",
    "                    use_multiprocessing = True,\n",
    "                    callbacks=[eStop_Val_Loss, eStop_Val_accuracy],\n",
    "                    workers=6\n",
    "                    )"
   ]
  },
  {
   "cell_type": "code",
   "execution_count": 228,
   "id": "medieval-discrimination",
   "metadata": {
    "execution": {
     "iopub.execute_input": "2021-05-29T05:34:19.029578Z",
     "iopub.status.busy": "2021-05-29T05:34:19.028961Z",
     "iopub.status.idle": "2021-05-29T05:34:19.278557Z",
     "shell.execute_reply": "2021-05-29T05:34:19.278235Z",
     "shell.execute_reply.started": "2021-05-29T05:34:19.029511Z"
    },
    "tags": []
   },
   "outputs": [
    {
     "data": {
      "image/png": "[encoded data removed]",
      "text/plain": [
       "<Figure size 1440x360 with 2 Axes>"
      ]
     },
     "metadata": {
      "needs_background": "light"
     },
     "output_type": "display_data"
    }
   ],
   "source": [
    "Plot_History(history)"
   ]
  },
  {
   "cell_type": "code",
   "execution_count": 229,
   "id": "otherwise-qatar",
   "metadata": {
    "execution": {
     "iopub.execute_input": "2021-05-29T05:34:45.256057Z",
     "iopub.status.busy": "2021-05-29T05:34:45.255543Z",
     "iopub.status.idle": "2021-05-29T05:34:45.342845Z",
     "shell.execute_reply": "2021-05-29T05:34:45.342440Z",
     "shell.execute_reply.started": "2021-05-29T05:34:45.256009Z"
    }
   },
   "outputs": [],
   "source": [
    "# model.save_weights('./word2vec/train2')"
   ]
  },
  {
   "cell_type": "code",
   "execution_count": 244,
   "id": "prepared-arbor",
   "metadata": {
    "execution": {
     "iopub.execute_input": "2021-05-29T05:57:18.967871Z",
     "iopub.status.busy": "2021-05-29T05:57:18.967358Z",
     "iopub.status.idle": "2021-05-29T05:57:20.065852Z",
     "shell.execute_reply": "2021-05-29T05:57:20.065516Z",
     "shell.execute_reply.started": "2021-05-29T05:57:18.967836Z"
    },
    "tags": []
   },
   "outputs": [
    {
     "name": "stdout",
     "output_type": "stream",
     "text": [
      "Model: \"sequential\"\n",
      "_________________________________________________________________\n",
      "Layer (type)                 Output Shape              Param #   \n",
      "=================================================================\n",
      "embedding (Embedding)        (None, 100, 100)          3682800   \n",
      "_________________________________________________________________\n",
      "bidirectional (Bidirectional (None, 100, 200)          160800    \n",
      "_________________________________________________________________\n",
      "lstm_1 (LSTM)                (None, 16)                13888     \n",
      "_________________________________________________________________\n",
      "dense16 (Dense)              (None, 16)                272       \n",
      "_________________________________________________________________\n",
      "dropout (Dropout)            (None, 16)                0         \n",
      "_________________________________________________________________\n",
      "output4 (Dense)              (None, 2)                 34        \n",
      "=================================================================\n",
      "Total params: 3,857,794\n",
      "Trainable params: 174,994\n",
      "Non-trainable params: 3,682,800\n",
      "_________________________________________________________________\n"
     ]
    }
   ],
   "source": [
    "model = make_model(metrics=METRICS,\n",
    "                   input_dim=input_dim,\n",
    "                   embedding_dim=embedding_dim,\n",
    "                   weights=embedding_matrix,\n",
    "                   input_length=max_seq_len,\n",
    "                   output_bias=BIAS\n",
    "                  )\n",
    "model.summary()"
   ]
  },
  {
   "cell_type": "code",
   "execution_count": 245,
   "id": "fewer-snake",
   "metadata": {
    "execution": {
     "iopub.execute_input": "2021-05-29T05:57:20.566516Z",
     "iopub.status.busy": "2021-05-29T05:57:20.565885Z",
     "iopub.status.idle": "2021-05-29T05:57:20.572841Z",
     "shell.execute_reply": "2021-05-29T05:57:20.571838Z",
     "shell.execute_reply.started": "2021-05-29T05:57:20.566448Z"
    },
    "tags": []
   },
   "outputs": [],
   "source": [
    "model.layers[0].embeddings_initializer = keras.initializers.zeros()\n",
    "model.layers[3].activation = tf.keras.activations.relu"
   ]
  },
  {
   "cell_type": "code",
   "execution_count": 246,
   "id": "parallel-incentive",
   "metadata": {
    "execution": {
     "iopub.execute_input": "2021-05-29T05:57:34.472862Z",
     "iopub.status.busy": "2021-05-29T05:57:34.472254Z",
     "iopub.status.idle": "2021-05-29T05:57:34.478973Z",
     "shell.execute_reply": "2021-05-29T05:57:34.477624Z",
     "shell.execute_reply.started": "2021-05-29T05:57:34.472796Z"
    }
   },
   "outputs": [],
   "source": [
    "EPOCHS = 64"
   ]
  },
  {
   "cell_type": "code",
   "execution_count": 247,
   "id": "loving-continuity",
   "metadata": {
    "execution": {
     "iopub.execute_input": "2021-05-29T05:57:35.722153Z",
     "iopub.status.busy": "2021-05-29T05:57:35.721530Z",
     "iopub.status.idle": "2021-05-29T06:15:31.370387Z",
     "shell.execute_reply": "2021-05-29T06:15:31.370088Z",
     "shell.execute_reply.started": "2021-05-29T05:57:35.722085Z"
    },
    "scrolled": true,
    "tags": []
   },
   "outputs": [
    {
     "name": "stdout",
     "output_type": "stream",
     "text": [
      "Epoch 1/64\n",
      "19/19 [==============================] - 22s 931ms/step - loss: 2.9623 - accuracy: 0.1180 - val_loss: 1.5058 - val_accuracy: 0.1206\n",
      "Epoch 2/64\n",
      "19/19 [==============================] - 16s 887ms/step - loss: 1.4210 - accuracy: 0.3540 - val_loss: 0.5506 - val_accuracy: 0.7861\n",
      "Epoch 3/64\n",
      "19/19 [==============================] - 16s 874ms/step - loss: 0.9085 - accuracy: 0.6133 - val_loss: 0.4167 - val_accuracy: 0.7848\n",
      "Epoch 4/64\n",
      "19/19 [==============================] - 17s 888ms/step - loss: 0.7452 - accuracy: 0.6981 - val_loss: 0.3691 - val_accuracy: 0.8010\n",
      "Epoch 5/64\n",
      "19/19 [==============================] - 17s 901ms/step - loss: 0.6728 - accuracy: 0.7384 - val_loss: 0.3739 - val_accuracy: 0.8968\n",
      "Epoch 6/64\n",
      "19/19 [==============================] - 17s 914ms/step - loss: 0.6230 - accuracy: 0.7760 - val_loss: 0.3641 - val_accuracy: 0.8955\n",
      "Epoch 7/64\n",
      "19/19 [==============================] - 17s 904ms/step - loss: 0.5938 - accuracy: 0.7883 - val_loss: 0.3392 - val_accuracy: 0.8968\n",
      "Epoch 8/64\n",
      "19/19 [==============================] - 17s 908ms/step - loss: 0.5476 - accuracy: 0.7993 - val_loss: 0.3286 - val_accuracy: 0.8968\n",
      "Epoch 9/64\n",
      "19/19 [==============================] - 17s 917ms/step - loss: 0.4845 - accuracy: 0.8110 - val_loss: 0.3155 - val_accuracy: 0.8980\n",
      "Epoch 10/64\n",
      "19/19 [==============================] - 17s 892ms/step - loss: 0.5011 - accuracy: 0.8024 - val_loss: 0.3078 - val_accuracy: 0.8968\n",
      "Epoch 11/64\n",
      "19/19 [==============================] - 17s 900ms/step - loss: 0.4579 - accuracy: 0.8187 - val_loss: 0.3054 - val_accuracy: 0.9005\n",
      "Epoch 12/64\n",
      "19/19 [==============================] - 17s 905ms/step - loss: 0.4429 - accuracy: 0.8253 - val_loss: 0.3004 - val_accuracy: 0.8968\n",
      "Epoch 13/64\n",
      "19/19 [==============================] - 17s 912ms/step - loss: 0.4427 - accuracy: 0.8240 - val_loss: 0.2958 - val_accuracy: 0.8893\n",
      "Epoch 14/64\n",
      "19/19 [==============================] - 17s 935ms/step - loss: 0.4096 - accuracy: 0.8429 - val_loss: 0.2636 - val_accuracy: 0.9030\n",
      "Epoch 15/64\n",
      "19/19 [==============================] - 17s 905ms/step - loss: 0.3657 - accuracy: 0.8640 - val_loss: 0.2840 - val_accuracy: 0.9303\n",
      "Epoch 16/64\n",
      "19/19 [==============================] - 17s 915ms/step - loss: 0.3650 - accuracy: 0.8659 - val_loss: 0.2598 - val_accuracy: 0.9254\n",
      "Epoch 17/64\n",
      "19/19 [==============================] - 17s 912ms/step - loss: 0.3381 - accuracy: 0.8765 - val_loss: 0.2429 - val_accuracy: 0.9192\n",
      "Epoch 18/64\n",
      "19/19 [==============================] - 17s 906ms/step - loss: 0.3282 - accuracy: 0.8841 - val_loss: 0.2381 - val_accuracy: 0.9254\n",
      "Epoch 19/64\n",
      "19/19 [==============================] - 17s 917ms/step - loss: 0.2965 - accuracy: 0.8897 - val_loss: 0.2325 - val_accuracy: 0.9266\n",
      "Epoch 20/64\n",
      "19/19 [==============================] - 17s 909ms/step - loss: 0.2812 - accuracy: 0.9022 - val_loss: 0.2544 - val_accuracy: 0.9080\n",
      "Epoch 21/64\n",
      "19/19 [==============================] - 17s 925ms/step - loss: 0.3002 - accuracy: 0.8978 - val_loss: 0.2564 - val_accuracy: 0.9229\n",
      "Epoch 22/64\n",
      "19/19 [==============================] - 17s 892ms/step - loss: 0.3139 - accuracy: 0.8973 - val_loss: 0.2830 - val_accuracy: 0.9279\n",
      "Epoch 23/64\n",
      "19/19 [==============================] - 17s 897ms/step - loss: 0.2815 - accuracy: 0.9083 - val_loss: 0.2370 - val_accuracy: 0.9216\n",
      "Epoch 24/64\n",
      "19/19 [==============================] - 17s 887ms/step - loss: 0.2700 - accuracy: 0.8967 - val_loss: 0.2675 - val_accuracy: 0.9067\n",
      "Epoch 25/64\n",
      "19/19 [==============================] - 17s 889ms/step - loss: 0.2787 - accuracy: 0.8987 - val_loss: 0.2527 - val_accuracy: 0.9192\n",
      "Epoch 26/64\n",
      "19/19 [==============================] - 16s 887ms/step - loss: 0.2672 - accuracy: 0.9028 - val_loss: 0.2697 - val_accuracy: 0.9279\n",
      "Epoch 27/64\n",
      "19/19 [==============================] - 17s 894ms/step - loss: 0.2512 - accuracy: 0.9131 - val_loss: 0.2792 - val_accuracy: 0.8943\n",
      "\n",
      "Epoch 00027: ReduceLROnPlateau reducing learning rate to 0.00010000000474974513.\n",
      "Epoch 28/64\n",
      "19/19 [==============================] - 17s 909ms/step - loss: 0.2529 - accuracy: 0.8997 - val_loss: 0.2576 - val_accuracy: 0.9254\n",
      "Epoch 29/64\n",
      "19/19 [==============================] - 17s 908ms/step - loss: 0.2293 - accuracy: 0.9210 - val_loss: 0.2572 - val_accuracy: 0.9241\n",
      "Epoch 30/64\n",
      "19/19 [==============================] - 17s 900ms/step - loss: 0.2296 - accuracy: 0.9145 - val_loss: 0.2576 - val_accuracy: 0.9266\n",
      "Epoch 31/64\n",
      "19/19 [==============================] - 17s 891ms/step - loss: 0.2170 - accuracy: 0.9253 - val_loss: 0.2581 - val_accuracy: 0.9266\n",
      "Epoch 32/64\n",
      "19/19 [==============================] - 17s 902ms/step - loss: 0.2353 - accuracy: 0.9229 - val_loss: 0.2595 - val_accuracy: 0.9279\n",
      "Epoch 33/64\n",
      "19/19 [==============================] - 17s 911ms/step - loss: 0.2253 - accuracy: 0.9270 - val_loss: 0.2594 - val_accuracy: 0.9279\n",
      "Epoch 34/64\n",
      "19/19 [==============================] - 17s 918ms/step - loss: 0.2065 - accuracy: 0.9278 - val_loss: 0.2612 - val_accuracy: 0.9266\n",
      "Epoch 35/64\n",
      "19/19 [==============================] - 17s 930ms/step - loss: 0.2114 - accuracy: 0.9251 - val_loss: 0.2604 - val_accuracy: 0.9254\n",
      "\n",
      "Epoch 00035: ReduceLROnPlateau reducing learning rate to 1.0000000474974514e-05.\n",
      "Epoch 36/64\n",
      "19/19 [==============================] - 17s 909ms/step - loss: 0.2255 - accuracy: 0.9228 - val_loss: 0.2606 - val_accuracy: 0.9266\n",
      "Epoch 37/64\n",
      "19/19 [==============================] - 17s 912ms/step - loss: 0.2237 - accuracy: 0.9251 - val_loss: 0.2607 - val_accuracy: 0.9266\n",
      "Epoch 38/64\n",
      "19/19 [==============================] - 17s 918ms/step - loss: 0.2204 - accuracy: 0.9247 - val_loss: 0.2609 - val_accuracy: 0.9266\n",
      "Epoch 39/64\n",
      "19/19 [==============================] - 17s 901ms/step - loss: 0.2219 - accuracy: 0.9232 - val_loss: 0.2611 - val_accuracy: 0.9254\n",
      "Epoch 40/64\n",
      "19/19 [==============================] - 17s 889ms/step - loss: 0.2171 - accuracy: 0.9291 - val_loss: 0.2612 - val_accuracy: 0.9254\n",
      "Epoch 41/64\n",
      "19/19 [==============================] - 16s 886ms/step - loss: 0.2132 - accuracy: 0.9231 - val_loss: 0.2614 - val_accuracy: 0.9266\n",
      "Epoch 42/64\n",
      "19/19 [==============================] - 17s 887ms/step - loss: 0.2073 - accuracy: 0.9262 - val_loss: 0.2615 - val_accuracy: 0.9266\n",
      "Epoch 43/64\n",
      "19/19 [==============================] - 17s 897ms/step - loss: 0.2022 - accuracy: 0.9301 - val_loss: 0.2617 - val_accuracy: 0.9266\n",
      "\n",
      "Epoch 00043: ReduceLROnPlateau reducing learning rate to 1.0000000656873453e-06.\n",
      "Epoch 44/64\n",
      "19/19 [==============================] - 17s 906ms/step - loss: 0.2145 - accuracy: 0.9282 - val_loss: 0.2617 - val_accuracy: 0.9266\n",
      "Epoch 45/64\n",
      "19/19 [==============================] - 16s 886ms/step - loss: 0.2177 - accuracy: 0.9259 - val_loss: 0.2617 - val_accuracy: 0.9266\n",
      "Epoch 46/64\n",
      "19/19 [==============================] - 17s 894ms/step - loss: 0.2230 - accuracy: 0.9280 - val_loss: 0.2617 - val_accuracy: 0.9266\n",
      "Epoch 47/64\n",
      "19/19 [==============================] - 17s 901ms/step - loss: 0.2040 - accuracy: 0.9318 - val_loss: 0.2617 - val_accuracy: 0.9266\n",
      "Epoch 48/64\n",
      "19/19 [==============================] - 17s 899ms/step - loss: 0.2299 - accuracy: 0.9171 - val_loss: 0.2617 - val_accuracy: 0.9266\n",
      "Epoch 49/64\n",
      "19/19 [==============================] - 17s 897ms/step - loss: 0.2010 - accuracy: 0.9301 - val_loss: 0.2617 - val_accuracy: 0.9266\n",
      "Epoch 50/64\n",
      "19/19 [==============================] - 17s 892ms/step - loss: 0.2144 - accuracy: 0.9241 - val_loss: 0.2618 - val_accuracy: 0.9266\n",
      "Epoch 51/64\n",
      "19/19 [==============================] - 17s 888ms/step - loss: 0.2070 - accuracy: 0.9290 - val_loss: 0.2618 - val_accuracy: 0.9266\n",
      "\n",
      "Epoch 00051: ReduceLROnPlateau reducing learning rate to 1e-06.\n",
      "Epoch 52/64\n",
      "19/19 [==============================] - 16s 885ms/step - loss: 0.2230 - accuracy: 0.9213 - val_loss: 0.2619 - val_accuracy: 0.9279\n",
      "Epoch 53/64\n",
      "19/19 [==============================] - 16s 884ms/step - loss: 0.2130 - accuracy: 0.9277 - val_loss: 0.2619 - val_accuracy: 0.9279\n",
      "Epoch 54/64\n",
      "19/19 [==============================] - 16s 883ms/step - loss: 0.2055 - accuracy: 0.9295 - val_loss: 0.2619 - val_accuracy: 0.9279\n",
      "Epoch 55/64\n",
      "19/19 [==============================] - 16s 885ms/step - loss: 0.1989 - accuracy: 0.9310 - val_loss: 0.2619 - val_accuracy: 0.9279\n",
      "Epoch 56/64\n",
      "19/19 [==============================] - 16s 881ms/step - loss: 0.2241 - accuracy: 0.9224 - val_loss: 0.2619 - val_accuracy: 0.9279\n",
      "Epoch 57/64\n",
      "19/19 [==============================] - 17s 885ms/step - loss: 0.2040 - accuracy: 0.9277 - val_loss: 0.2619 - val_accuracy: 0.9279\n",
      "Epoch 58/64\n",
      "19/19 [==============================] - 16s 883ms/step - loss: 0.2135 - accuracy: 0.9251 - val_loss: 0.2619 - val_accuracy: 0.9279\n",
      "Epoch 59/64\n",
      "19/19 [==============================] - 16s 882ms/step - loss: 0.2303 - accuracy: 0.9255 - val_loss: 0.2620 - val_accuracy: 0.9279\n",
      "Epoch 60/64\n",
      "19/19 [==============================] - 16s 882ms/step - loss: 0.1925 - accuracy: 0.9329 - val_loss: 0.2620 - val_accuracy: 0.9279\n",
      "Epoch 61/64\n",
      "19/19 [==============================] - 16s 883ms/step - loss: 0.1991 - accuracy: 0.9298 - val_loss: 0.2620 - val_accuracy: 0.9279\n",
      "Epoch 62/64\n",
      "19/19 [==============================] - 16s 882ms/step - loss: 0.2135 - accuracy: 0.9269 - val_loss: 0.2620 - val_accuracy: 0.9279\n",
      "Epoch 63/64\n",
      "19/19 [==============================] - 16s 881ms/step - loss: 0.2082 - accuracy: 0.9272 - val_loss: 0.2620 - val_accuracy: 0.9279\n",
      "Epoch 64/64\n",
      "19/19 [==============================] - 17s 891ms/step - loss: 0.2094 - accuracy: 0.9269 - val_loss: 0.2619 - val_accuracy: 0.9279\n"
     ]
    }
   ],
   "source": [
    "history = model.fit(X_train,\n",
    "                    y_train,\n",
    "                    validation_data=(X_val, y_val),\n",
    "                    validation_split=0.1,\n",
    "                    validation_batch_size=1,\n",
    "                    epochs=EPOCHS,\n",
    "                    batch_size=BATCH_SIZE,\n",
    "#                     steps_per_epoch=STEPS_x_EPOCH,\n",
    "                    use_multiprocessing = True,\n",
    "                    callbacks=eStop_Reduce_lr,\n",
    "                    workers=6\n",
    "                    )"
   ]
  },
  {
   "cell_type": "code",
   "execution_count": 248,
   "id": "electronic-sharing",
   "metadata": {
    "execution": {
     "iopub.execute_input": "2021-05-29T06:17:36.931863Z",
     "iopub.status.busy": "2021-05-29T06:17:36.931235Z",
     "iopub.status.idle": "2021-05-29T06:17:37.261722Z",
     "shell.execute_reply": "2021-05-29T06:17:37.261403Z",
     "shell.execute_reply.started": "2021-05-29T06:17:36.931795Z"
    },
    "tags": []
   },
   "outputs": [
    {
     "data": {
      "image/png": "[encoded data removed]",
      "text/plain": [
       "<Figure size 1440x360 with 3 Axes>"
      ]
     },
     "metadata": {
      "needs_background": "light"
     },
     "output_type": "display_data"
    }
   ],
   "source": [
    "Plot_History(history)"
   ]
  },
  {
   "cell_type": "code",
   "execution_count": 243,
   "id": "incorporate-biography",
   "metadata": {
    "execution": {
     "iopub.execute_input": "2021-05-29T05:57:13.697506Z",
     "iopub.status.busy": "2021-05-29T05:57:13.696861Z",
     "iopub.status.idle": "2021-05-29T05:57:13.707782Z",
     "shell.execute_reply": "2021-05-29T05:57:13.706668Z",
     "shell.execute_reply.started": "2021-05-29T05:57:13.697439Z"
    },
    "tags": []
   },
   "outputs": [],
   "source": [
    "keras.backend.clear_session()"
   ]
  },
  {
   "cell_type": "code",
   "execution_count": 249,
   "id": "undefined-culture",
   "metadata": {
    "execution": {
     "iopub.execute_input": "2021-05-29T06:18:14.637751Z",
     "iopub.status.busy": "2021-05-29T06:18:14.637120Z",
     "iopub.status.idle": "2021-05-29T06:18:14.722294Z",
     "shell.execute_reply": "2021-05-29T06:18:14.721849Z",
     "shell.execute_reply.started": "2021-05-29T06:18:14.637683Z"
    }
   },
   "outputs": [],
   "source": [
    "model.save_weights('./word2vec/word2vec')"
   ]
  },
  {
   "cell_type": "code",
   "execution_count": null,
   "id": "quality-federal",
   "metadata": {},
   "outputs": [],
   "source": []
  },
  {
   "cell_type": "code",
   "execution_count": null,
   "id": "balanced-swedish",
   "metadata": {},
   "outputs": [],
   "source": []
  },
  {
   "cell_type": "code",
   "execution_count": null,
   "id": "antique-invite",
   "metadata": {},
   "outputs": [],
   "source": []
  }
 ],
 "metadata": {
  "kernelspec": {
   "display_name": "Python 3",
   "language": "python",
   "name": "python3"
  },
  "language_info": {
   "codemirror_mode": {
    "name": "ipython",
    "version": 3
   },
   "file_extension": ".py",
   "mimetype": "text/x-python",
   "name": "python",
   "nbconvert_exporter": "python",
   "pygments_lexer": "ipython3",
   "version": "3.8.8"
  }
 },
 "nbformat": 4,
 "nbformat_minor": 5
}
