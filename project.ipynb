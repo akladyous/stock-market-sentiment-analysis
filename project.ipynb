{
 "cells": [
  {
   "cell_type": "code",
   "execution_count": 2,
   "id": "2b941adc-f21d-4ad2-bcac-73b2a6f9f5ee",
   "metadata": {
    "execution": {
     "iopub.execute_input": "2021-06-05T15:53:11.845558Z",
     "iopub.status.busy": "2021-06-05T15:53:11.844961Z",
     "iopub.status.idle": "2021-06-05T15:53:11.853279Z",
     "shell.execute_reply": "2021-06-05T15:53:11.852491Z",
     "shell.execute_reply.started": "2021-06-05T15:53:11.845492Z"
    },
    "tags": []
   },
   "outputs": [],
   "source": [
    "run __init__.py"
   ]
  },
  {
   "cell_type": "code",
   "execution_count": 3,
   "id": "cf81c4b9-df7a-4dc4-a33b-aeeac5673801",
   "metadata": {
    "execution": {
     "iopub.execute_input": "2021-06-05T15:53:12.609671Z",
     "iopub.status.busy": "2021-06-05T15:53:12.609231Z",
     "iopub.status.idle": "2021-06-05T15:53:16.210496Z",
     "shell.execute_reply": "2021-06-05T15:53:16.209967Z",
     "shell.execute_reply.started": "2021-06-05T15:53:12.609608Z"
    },
    "tags": []
   },
   "outputs": [
    {
     "data": {
      "text/html": [
       "        <script type=\"text/javascript\">\n",
       "        window.PlotlyConfig = {MathJaxConfig: 'local'};\n",
       "        if (window.MathJax) {MathJax.Hub.Config({SVG: {font: \"STIX-Web\"}});}\n",
       "        if (typeof require !== 'undefined') {\n",
       "        require.undef(\"plotly\");\n",
       "        requirejs.config({\n",
       "            paths: {\n",
       "                'plotly': ['https://cdn.plot.ly/plotly-latest.min']\n",
       "            }\n",
       "        });\n",
       "        require(['plotly'], function(Plotly) {\n",
       "            window._Plotly = Plotly;\n",
       "        });\n",
       "        }\n",
       "        </script>\n",
       "        "
      ]
     },
     "metadata": {},
     "output_type": "display_data"
    },
    {
     "data": {
      "text/html": [
       "        <script type=\"text/javascript\">\n",
       "        window.PlotlyConfig = {MathJaxConfig: 'local'};\n",
       "        if (window.MathJax) {MathJax.Hub.Config({SVG: {font: \"STIX-Web\"}});}\n",
       "        if (typeof require !== 'undefined') {\n",
       "        require.undef(\"plotly\");\n",
       "        requirejs.config({\n",
       "            paths: {\n",
       "                'plotly': ['https://cdn.plot.ly/plotly-latest.min']\n",
       "            }\n",
       "        });\n",
       "        require(['plotly'], function(Plotly) {\n",
       "            window._Plotly = Plotly;\n",
       "        });\n",
       "        }\n",
       "        </script>\n",
       "        "
      ]
     },
     "metadata": {},
     "output_type": "display_data"
    },
    {
     "name": "stderr",
     "output_type": "stream",
     "text": [
      "[nltk_data] Downloading package stopwords to /Users/boula/nltk_data...\n",
      "[nltk_data]   Unzipping corpora/stopwords.zip.\n",
      "[nltk_data] Downloading package vader_lexicon to\n",
      "[nltk_data]     /Users/boula/nltk_data...\n",
      "[nltk_data]   Package vader_lexicon is already up-to-date!\n"
     ]
    }
   ],
   "source": [
    "import pandas as pd\n",
    "import numpy as np\n",
    "import seaborn as sns\n",
    "import matplotlib.pyplot as plt\n",
    "%matplotlib inline\n",
    "from wordcloud import WordCloud\n",
    "import plotly.express as px\n",
    "from plotly.offline import download_plotlyjs, init_notebook_mode, plot, iplot\n",
    "init_notebook_mode(connected=True)\n",
    "import plotly.graph_objects as go\n",
    "init_notebook_mode(connected=True)\n",
    "from joblib import load, dump\n",
    "import re\n",
    "import nltk\n",
    "from nltk.corpus import stopwords\n",
    "from nltk.probability import FreqDist\n",
    "from nltk.tokenize import sent_tokenize, RegexpTokenizer\n",
    "nltk.download('stopwords')\n",
    "nltk.download('vader_lexicon')\n",
    "from langdetect import detect\n",
    "from finnhub_api import Finnhub\n",
    "from project import Project\n",
    "from nlp import NLP_stat\n",
    "from datetime_util import timestamp2datetime, str2date, str2datetime"
   ]
  },
  {
   "cell_type": "markdown",
   "id": "882a8c0f-fd40-40f5-bad7-0743fe8a28d8",
   "metadata": {},
   "source": [
    "## Data Collecting"
   ]
  },
  {
   "cell_type": "code",
   "execution_count": 3,
   "id": "b66ff136-1883-454d-ae7e-d00d8716f42f",
   "metadata": {
    "execution": {
     "iopub.execute_input": "2021-06-04T17:17:25.955967Z",
     "iopub.status.busy": "2021-06-04T17:17:25.955873Z",
     "iopub.status.idle": "2021-06-04T17:17:26.054422Z",
     "shell.execute_reply": "2021-06-04T17:17:26.053976Z",
     "shell.execute_reply.started": "2021-06-04T17:17:25.955955Z"
    },
    "tags": []
   },
   "outputs": [],
   "source": [
    "# loading news data scrapted by SNA api\n",
    "df_news = pd.read_csv('./data/apple_news_raw.csv.gz')"
   ]
  },
  {
   "cell_type": "code",
   "execution_count": 4,
   "id": "e4bae476-b40f-4b3c-9da6-27c62551c545",
   "metadata": {
    "execution": {
     "iopub.execute_input": "2021-06-04T17:17:26.055133Z",
     "iopub.status.busy": "2021-06-04T17:17:26.055041Z",
     "iopub.status.idle": "2021-06-04T17:17:26.274907Z",
     "shell.execute_reply": "2021-06-04T17:17:26.274526Z",
     "shell.execute_reply.started": "2021-06-04T17:17:26.055121Z"
    },
    "tags": []
   },
   "outputs": [],
   "source": [
    "# loading articles list previously scraped by scrapy.py we include in ./lib\n",
    "articles = load('./data/articles.pkl')"
   ]
  },
  {
   "cell_type": "code",
   "execution_count": 5,
   "id": "459f3e75-d3bd-4c27-9163-50f6970b4034",
   "metadata": {
    "execution": {
     "iopub.execute_input": "2021-06-04T17:17:26.275714Z",
     "iopub.status.busy": "2021-06-04T17:17:26.275614Z",
     "iopub.status.idle": "2021-06-04T17:17:26.278859Z",
     "shell.execute_reply": "2021-06-04T17:17:26.278438Z",
     "shell.execute_reply.started": "2021-06-04T17:17:26.275702Z"
    },
    "tags": []
   },
   "outputs": [],
   "source": [
    "df_news['articles'] = articles"
   ]
  },
  {
   "cell_type": "code",
   "execution_count": 6,
   "id": "12a80370-7fba-4ef4-bf8c-44097ceaa248",
   "metadata": {
    "execution": {
     "iopub.execute_input": "2021-06-04T17:17:26.279551Z",
     "iopub.status.busy": "2021-06-04T17:17:26.279467Z",
     "iopub.status.idle": "2021-06-04T17:17:26.293691Z",
     "shell.execute_reply": "2021-06-04T17:17:26.292954Z",
     "shell.execute_reply.started": "2021-06-04T17:17:26.279540Z"
    },
    "tags": []
   },
   "outputs": [
    {
     "data": {
      "text/html": [
       "<div>\n",
       "<style scoped>\n",
       "    .dataframe tbody tr th:only-of-type {\n",
       "        vertical-align: middle;\n",
       "    }\n",
       "\n",
       "    .dataframe tbody tr th {\n",
       "        vertical-align: top;\n",
       "    }\n",
       "\n",
       "    .dataframe thead th {\n",
       "        text-align: right;\n",
       "    }\n",
       "</style>\n",
       "<table border=\"1\" class=\"dataframe\">\n",
       "  <thead>\n",
       "    <tr style=\"text-align: right;\">\n",
       "      <th></th>\n",
       "      <th>news_url</th>\n",
       "      <th>image_url</th>\n",
       "      <th>title</th>\n",
       "      <th>text</th>\n",
       "      <th>source_name</th>\n",
       "      <th>date</th>\n",
       "      <th>topics</th>\n",
       "      <th>sentiment</th>\n",
       "      <th>type</th>\n",
       "      <th>tickers</th>\n",
       "      <th>articles</th>\n",
       "    </tr>\n",
       "  </thead>\n",
       "  <tbody>\n",
       "    <tr>\n",
       "      <th>0</th>\n",
       "      <td>https://www.cnbc.com/2021/05/25/home-prices-in...</td>\n",
       "      <td>https://cdn.snapi.dev/images/v1/b/m/104669168-...</td>\n",
       "      <td>Home prices in March saw highest growth in ove...</td>\n",
       "      <td>Home prices in March were up 13%, one of the l...</td>\n",
       "      <td>CNBC</td>\n",
       "      <td>Tue, 25 May 2021 09:01:19 -0400</td>\n",
       "      <td>[]</td>\n",
       "      <td>Neutral</td>\n",
       "      <td>Article</td>\n",
       "      <td>NaN</td>\n",
       "      <td>Home prices in March were 13.2% higher in Mar...</td>\n",
       "    </tr>\n",
       "    <tr>\n",
       "      <th>1</th>\n",
       "      <td>https://www.reuters.com/article/us-usa-economy...</td>\n",
       "      <td>https://cdn.snapi.dev/images/v1/a/s/m02d202105...</td>\n",
       "      <td>U.S. home prices rose more than expected in Ma...</td>\n",
       "      <td>U.S. single-family home prices in 20 key urban...</td>\n",
       "      <td>Reuters</td>\n",
       "      <td>Tue, 25 May 2021 09:09:00 -0400</td>\n",
       "      <td>[]</td>\n",
       "      <td>Neutral</td>\n",
       "      <td>Article</td>\n",
       "      <td>NaN</td>\n",
       "      <td>U.S. single-family home prices in 20 key urban...</td>\n",
       "    </tr>\n",
       "    <tr>\n",
       "      <th>2</th>\n",
       "      <td>https://www.reuters.com/article/us-usa-economy...</td>\n",
       "      <td>https://cdn.snapi.dev/images/v1/8/c/m02d202105...</td>\n",
       "      <td>U.S. new home sales drop in April; March sales...</td>\n",
       "      <td>Sales of new U.S. single-family homes dropped ...</td>\n",
       "      <td>Reuters</td>\n",
       "      <td>Tue, 25 May 2021 10:33:00 -0400</td>\n",
       "      <td>[]</td>\n",
       "      <td>Negative</td>\n",
       "      <td>Article</td>\n",
       "      <td>NaN</td>\n",
       "      <td>A carpenter works on building new townhomes th...</td>\n",
       "    </tr>\n",
       "  </tbody>\n",
       "</table>\n",
       "</div>"
      ],
      "text/plain": [
       "                                            news_url  \\\n",
       "0  https://www.cnbc.com/2021/05/25/home-prices-in...   \n",
       "1  https://www.reuters.com/article/us-usa-economy...   \n",
       "2  https://www.reuters.com/article/us-usa-economy...   \n",
       "\n",
       "                                           image_url  \\\n",
       "0  https://cdn.snapi.dev/images/v1/b/m/104669168-...   \n",
       "1  https://cdn.snapi.dev/images/v1/a/s/m02d202105...   \n",
       "2  https://cdn.snapi.dev/images/v1/8/c/m02d202105...   \n",
       "\n",
       "                                               title  \\\n",
       "0  Home prices in March saw highest growth in ove...   \n",
       "1  U.S. home prices rose more than expected in Ma...   \n",
       "2  U.S. new home sales drop in April; March sales...   \n",
       "\n",
       "                                                text source_name  \\\n",
       "0  Home prices in March were up 13%, one of the l...        CNBC   \n",
       "1  U.S. single-family home prices in 20 key urban...     Reuters   \n",
       "2  Sales of new U.S. single-family homes dropped ...     Reuters   \n",
       "\n",
       "                              date topics sentiment     type tickers  \\\n",
       "0  Tue, 25 May 2021 09:01:19 -0400     []   Neutral  Article     NaN   \n",
       "1  Tue, 25 May 2021 09:09:00 -0400     []   Neutral  Article     NaN   \n",
       "2  Tue, 25 May 2021 10:33:00 -0400     []  Negative  Article     NaN   \n",
       "\n",
       "                                            articles  \n",
       "0   Home prices in March were 13.2% higher in Mar...  \n",
       "1  U.S. single-family home prices in 20 key urban...  \n",
       "2  A carpenter works on building new townhomes th...  "
      ]
     },
     "execution_count": 6,
     "metadata": {},
     "output_type": "execute_result"
    }
   ],
   "source": [
    "df_news.head(3)"
   ]
  },
  {
   "cell_type": "markdown",
   "id": "93e7400a-ceae-4012-92b1-0e1a7bf44feb",
   "metadata": {},
   "source": [
    "## Data Scrubbing"
   ]
  },
  {
   "cell_type": "code",
   "execution_count": 7,
   "id": "722f5eac-2612-4c29-956a-629c93bb160e",
   "metadata": {
    "execution": {
     "iopub.execute_input": "2021-06-04T17:17:26.296282Z",
     "iopub.status.busy": "2021-06-04T17:17:26.296106Z",
     "iopub.status.idle": "2021-06-04T17:17:26.302751Z",
     "shell.execute_reply": "2021-06-04T17:17:26.301697Z",
     "shell.execute_reply.started": "2021-06-04T17:17:26.296267Z"
    },
    "tags": []
   },
   "outputs": [],
   "source": [
    "# drop unnecessary columns\n",
    "cols_to_drop = ['news_url', 'image_url', 'title', 'text', 'topics', 'type', 'tickers']\n",
    "df_news.drop(cols_to_drop, axis=1, inplace=True)"
   ]
  },
  {
   "cell_type": "code",
   "execution_count": 8,
   "id": "fa40c9b3-9855-421b-b959-ffa7a8efb6b4",
   "metadata": {
    "execution": {
     "iopub.execute_input": "2021-06-04T17:17:26.305711Z",
     "iopub.status.busy": "2021-06-04T17:17:26.305554Z",
     "iopub.status.idle": "2021-06-04T17:17:26.315313Z",
     "shell.execute_reply": "2021-06-04T17:17:26.314840Z",
     "shell.execute_reply.started": "2021-06-04T17:17:26.305697Z"
    },
    "tags": []
   },
   "outputs": [
    {
     "data": {
      "text/html": [
       "<div>\n",
       "<style scoped>\n",
       "    .dataframe tbody tr th:only-of-type {\n",
       "        vertical-align: middle;\n",
       "    }\n",
       "\n",
       "    .dataframe tbody tr th {\n",
       "        vertical-align: top;\n",
       "    }\n",
       "\n",
       "    .dataframe thead th {\n",
       "        text-align: right;\n",
       "    }\n",
       "</style>\n",
       "<table border=\"1\" class=\"dataframe\">\n",
       "  <thead>\n",
       "    <tr style=\"text-align: right;\">\n",
       "      <th></th>\n",
       "      <th>source_name</th>\n",
       "      <th>date</th>\n",
       "      <th>sentiment</th>\n",
       "      <th>articles</th>\n",
       "    </tr>\n",
       "  </thead>\n",
       "  <tbody>\n",
       "    <tr>\n",
       "      <th>0</th>\n",
       "      <td>CNBC</td>\n",
       "      <td>Tue, 25 May 2021 09:01:19 -0400</td>\n",
       "      <td>Neutral</td>\n",
       "      <td>Home prices in March were 13.2% higher in Mar...</td>\n",
       "    </tr>\n",
       "    <tr>\n",
       "      <th>1</th>\n",
       "      <td>Reuters</td>\n",
       "      <td>Tue, 25 May 2021 09:09:00 -0400</td>\n",
       "      <td>Neutral</td>\n",
       "      <td>U.S. single-family home prices in 20 key urban...</td>\n",
       "    </tr>\n",
       "    <tr>\n",
       "      <th>2</th>\n",
       "      <td>Reuters</td>\n",
       "      <td>Tue, 25 May 2021 10:33:00 -0400</td>\n",
       "      <td>Negative</td>\n",
       "      <td>A carpenter works on building new townhomes th...</td>\n",
       "    </tr>\n",
       "    <tr>\n",
       "      <th>3</th>\n",
       "      <td>Reuters</td>\n",
       "      <td>Tue, 25 May 2021 07:10:00 -0400</td>\n",
       "      <td>Positive</td>\n",
       "      <td>Wall Street bank chiefs will tout the role the...</td>\n",
       "    </tr>\n",
       "    <tr>\n",
       "      <th>4</th>\n",
       "      <td>CNN Business</td>\n",
       "      <td>Tue, 25 May 2021 12:30:41 -0400</td>\n",
       "      <td>Negative</td>\n",
       "      <td>By Paul R. La Monica, CNN Business  Updated 12...</td>\n",
       "    </tr>\n",
       "    <tr>\n",
       "      <th>...</th>\n",
       "      <td>...</td>\n",
       "      <td>...</td>\n",
       "      <td>...</td>\n",
       "      <td>...</td>\n",
       "    </tr>\n",
       "    <tr>\n",
       "      <th>10445</th>\n",
       "      <td>CNET</td>\n",
       "      <td>Mon, 26 Apr 2021 15:14:00 -0400</td>\n",
       "      <td>Negative</td>\n",
       "      <td>Tim Cook and Mark Zuckerberg's relationship st...</td>\n",
       "    </tr>\n",
       "    <tr>\n",
       "      <th>10446</th>\n",
       "      <td>Proactive Investors</td>\n",
       "      <td>Mon, 26 Apr 2021 04:54:18 -0400</td>\n",
       "      <td>Neutral</td>\n",
       "      <td>Pharma &amp; Biotech Coronavirus Cannabis Battery ...</td>\n",
       "    </tr>\n",
       "    <tr>\n",
       "      <th>10447</th>\n",
       "      <td>Zacks Investment Research</td>\n",
       "      <td>Mon, 26 Apr 2021 17:31:17 -0400</td>\n",
       "      <td>Positive</td>\n",
       "      <td>We use cookies to understand how you use our s...</td>\n",
       "    </tr>\n",
       "    <tr>\n",
       "      <th>10448</th>\n",
       "      <td>The Motley Fool</td>\n",
       "      <td>Sun, 25 Apr 2021 12:35:00 -0400</td>\n",
       "      <td>Positive</td>\n",
       "      <td>Returns as of 5/27/2021 Returns as of 5/27/202...</td>\n",
       "    </tr>\n",
       "    <tr>\n",
       "      <th>10449</th>\n",
       "      <td>The Motley Fool</td>\n",
       "      <td>Sun, 25 Apr 2021 10:00:00 -0400</td>\n",
       "      <td>Neutral</td>\n",
       "      <td>Returns as of 5/27/2021 Returns as of 5/27/202...</td>\n",
       "    </tr>\n",
       "  </tbody>\n",
       "</table>\n",
       "<p>10450 rows × 4 columns</p>\n",
       "</div>"
      ],
      "text/plain": [
       "                     source_name                             date sentiment  \\\n",
       "0                           CNBC  Tue, 25 May 2021 09:01:19 -0400   Neutral   \n",
       "1                        Reuters  Tue, 25 May 2021 09:09:00 -0400   Neutral   \n",
       "2                        Reuters  Tue, 25 May 2021 10:33:00 -0400  Negative   \n",
       "3                        Reuters  Tue, 25 May 2021 07:10:00 -0400  Positive   \n",
       "4                   CNN Business  Tue, 25 May 2021 12:30:41 -0400  Negative   \n",
       "...                          ...                              ...       ...   \n",
       "10445                       CNET  Mon, 26 Apr 2021 15:14:00 -0400  Negative   \n",
       "10446        Proactive Investors  Mon, 26 Apr 2021 04:54:18 -0400   Neutral   \n",
       "10447  Zacks Investment Research  Mon, 26 Apr 2021 17:31:17 -0400  Positive   \n",
       "10448            The Motley Fool  Sun, 25 Apr 2021 12:35:00 -0400  Positive   \n",
       "10449            The Motley Fool  Sun, 25 Apr 2021 10:00:00 -0400   Neutral   \n",
       "\n",
       "                                                articles  \n",
       "0       Home prices in March were 13.2% higher in Mar...  \n",
       "1      U.S. single-family home prices in 20 key urban...  \n",
       "2      A carpenter works on building new townhomes th...  \n",
       "3      Wall Street bank chiefs will tout the role the...  \n",
       "4      By Paul R. La Monica, CNN Business  Updated 12...  \n",
       "...                                                  ...  \n",
       "10445  Tim Cook and Mark Zuckerberg's relationship st...  \n",
       "10446  Pharma & Biotech Coronavirus Cannabis Battery ...  \n",
       "10447  We use cookies to understand how you use our s...  \n",
       "10448  Returns as of 5/27/2021 Returns as of 5/27/202...  \n",
       "10449  Returns as of 5/27/2021 Returns as of 5/27/202...  \n",
       "\n",
       "[10450 rows x 4 columns]"
      ]
     },
     "execution_count": 8,
     "metadata": {},
     "output_type": "execute_result"
    }
   ],
   "source": [
    "df_news"
   ]
  },
  {
   "cell_type": "code",
   "execution_count": 9,
   "id": "9154bf45-2f22-4163-920e-cb8ae058177a",
   "metadata": {
    "execution": {
     "iopub.execute_input": "2021-06-04T17:17:26.316060Z",
     "iopub.status.busy": "2021-06-04T17:17:26.315951Z",
     "iopub.status.idle": "2021-06-04T17:17:26.320775Z",
     "shell.execute_reply": "2021-06-04T17:17:26.320395Z",
     "shell.execute_reply.started": "2021-06-04T17:17:26.316047Z"
    },
    "tags": []
   },
   "outputs": [
    {
     "name": "stdout",
     "output_type": "stream",
     "text": [
      "Total Missing Articles: 923\n"
     ]
    }
   ],
   "source": [
    "miss_articles = df_news['articles'].isna()\n",
    "print(f\"Total Missing Articles: {miss_articles.sum()}\")"
   ]
  },
  {
   "cell_type": "markdown",
   "id": "1541e8f9-f9c7-4943-83ff-12affbbde93c",
   "metadata": {
    "tags": []
   },
   "source": [
    "As result of scraping 10,450 websites we got 91.13% of successful scraped articles, but we also end up missing  926 websites. this probably due to websites restriction like cookies and CAPTCHA Blocking,  IP Blocking & Proxy Servers, etc..\n",
    "\n",
    "those 926 row are going to be droped from our dataframe"
   ]
  },
  {
   "cell_type": "code",
   "execution_count": 10,
   "id": "985ad767-773d-4692-a702-65cd743414a7",
   "metadata": {
    "execution": {
     "iopub.execute_input": "2021-06-04T17:17:26.321458Z",
     "iopub.status.busy": "2021-06-04T17:17:26.321366Z",
     "iopub.status.idle": "2021-06-04T17:17:26.328670Z",
     "shell.execute_reply": "2021-06-04T17:17:26.328225Z",
     "shell.execute_reply.started": "2021-06-04T17:17:26.321446Z"
    },
    "tags": []
   },
   "outputs": [],
   "source": [
    "df_news.drop(df_news.loc[miss_articles].index, inplace=True)"
   ]
  },
  {
   "cell_type": "code",
   "execution_count": 11,
   "id": "15c7d7b8-ea77-4ea2-835b-5638df88e977",
   "metadata": {
    "execution": {
     "iopub.execute_input": "2021-06-04T17:17:26.329645Z",
     "iopub.status.busy": "2021-06-04T17:17:26.329326Z",
     "iopub.status.idle": "2021-06-04T17:17:26.332081Z",
     "shell.execute_reply": "2021-06-04T17:17:26.331735Z",
     "shell.execute_reply.started": "2021-06-04T17:17:26.329627Z"
    },
    "tags": []
   },
   "outputs": [],
   "source": [
    "df_news.reset_index(drop=True, inplace=True)"
   ]
  },
  {
   "cell_type": "markdown",
   "id": "35e2ad5f-9ad8-4164-970d-da2e2e9beb89",
   "metadata": {},
   "source": [
    "#### DateTime"
   ]
  },
  {
   "cell_type": "code",
   "execution_count": 12,
   "id": "784e1950-fd52-4d41-b34c-34b555bc84ac",
   "metadata": {
    "execution": {
     "iopub.execute_input": "2021-06-04T17:17:26.332877Z",
     "iopub.status.busy": "2021-06-04T17:17:26.332728Z",
     "iopub.status.idle": "2021-06-04T17:17:26.337060Z",
     "shell.execute_reply": "2021-06-04T17:17:26.336548Z",
     "shell.execute_reply.started": "2021-06-04T17:17:26.332861Z"
    },
    "tags": []
   },
   "outputs": [
    {
     "data": {
      "text/plain": [
       "0    Tue, 25 May 2021 09:01:19 -0400\n",
       "1    Tue, 25 May 2021 09:09:00 -0400\n",
       "2    Tue, 25 May 2021 10:33:00 -0400\n",
       "3    Tue, 25 May 2021 07:10:00 -0400\n",
       "4    Tue, 25 May 2021 12:30:41 -0400\n",
       "5    Tue, 25 May 2021 02:07:04 -0400\n",
       "Name: date, dtype: object"
      ]
     },
     "execution_count": 12,
     "metadata": {},
     "output_type": "execute_result"
    }
   ],
   "source": [
    "df_news.loc[:5,'date']"
   ]
  },
  {
   "cell_type": "code",
   "execution_count": 13,
   "id": "1fd0f9ea-b8c3-44f7-b239-c5b049bf1571",
   "metadata": {
    "execution": {
     "iopub.execute_input": "2021-06-04T17:17:26.338377Z",
     "iopub.status.busy": "2021-06-04T17:17:26.338251Z",
     "iopub.status.idle": "2021-06-04T17:17:26.352233Z",
     "shell.execute_reply": "2021-06-04T17:17:26.351801Z",
     "shell.execute_reply.started": "2021-06-04T17:17:26.338362Z"
    },
    "tags": []
   },
   "outputs": [
    {
     "data": {
      "text/plain": [
       "array([' -0400', ' -0500'], dtype=object)"
      ]
     },
     "execution_count": 13,
     "metadata": {},
     "output_type": "execute_result"
    }
   ],
   "source": [
    "df_news['date'].str.findall(\"\\s-[0-9]{4}$\").apply(lambda x: ''.join(x)).unique()"
   ]
  },
  {
   "cell_type": "code",
   "execution_count": 14,
   "id": "5c1bebeb-6d28-4534-b61e-30b8d1cae224",
   "metadata": {
    "execution": {
     "iopub.execute_input": "2021-06-04T17:17:26.353320Z",
     "iopub.status.busy": "2021-06-04T17:17:26.353194Z",
     "iopub.status.idle": "2021-06-04T17:17:26.365255Z",
     "shell.execute_reply": "2021-06-04T17:17:26.364603Z",
     "shell.execute_reply.started": "2021-06-04T17:17:26.353306Z"
    },
    "tags": []
   },
   "outputs": [],
   "source": [
    "# we found dates end with noise strings like '-0400' and '-0500', those are going to be removed using\n",
    "# builin pandas RegEx.\n",
    "df_news['date'] = df_news['date'].str.replace(\"\\s-[0-9]{4}$\", '', regex=True)"
   ]
  },
  {
   "cell_type": "code",
   "execution_count": 15,
   "id": "28b2e3c2-7b36-4d90-b895-0cc9e165a775",
   "metadata": {
    "execution": {
     "iopub.execute_input": "2021-06-04T17:17:26.366313Z",
     "iopub.status.busy": "2021-06-04T17:17:26.366197Z",
     "iopub.status.idle": "2021-06-04T17:17:26.393375Z",
     "shell.execute_reply": "2021-06-04T17:17:26.392114Z",
     "shell.execute_reply.started": "2021-06-04T17:17:26.366299Z"
    },
    "tags": []
   },
   "outputs": [],
   "source": [
    "# convert date from string date format to DateTime object using standard ISO-8601 formated YYYY-MM-DDTHH:MM:SS.\n",
    "df_news['date'] = pd.to_datetime(df_news['date'], format=\"%a, %d %b %Y %H:%M:%S\")"
   ]
  },
  {
   "cell_type": "code",
   "execution_count": 16,
   "id": "fdb29393-84b2-4c0a-8f59-28019f721331",
   "metadata": {
    "execution": {
     "iopub.execute_input": "2021-06-04T17:17:26.394378Z",
     "iopub.status.busy": "2021-06-04T17:17:26.394109Z",
     "iopub.status.idle": "2021-06-04T17:17:26.401059Z",
     "shell.execute_reply": "2021-06-04T17:17:26.400480Z",
     "shell.execute_reply.started": "2021-06-04T17:17:26.394359Z"
    },
    "tags": []
   },
   "outputs": [
    {
     "data": {
      "text/plain": [
       "0   2021-05-25 09:01:19\n",
       "1   2021-05-25 09:09:00\n",
       "2   2021-05-25 10:33:00\n",
       "3   2021-05-25 07:10:00\n",
       "4   2021-05-25 12:30:41\n",
       "5   2021-05-25 02:07:04\n",
       "Name: date, dtype: datetime64[ns]"
      ]
     },
     "execution_count": 16,
     "metadata": {},
     "output_type": "execute_result"
    }
   ],
   "source": [
    "df_news.loc[:5,'date']"
   ]
  },
  {
   "cell_type": "code",
   "execution_count": 379,
   "id": "444c8292-2330-47ae-96e3-af1465469043",
   "metadata": {
    "execution": {
     "iopub.execute_input": "2021-06-04T21:50:29.015662Z",
     "iopub.status.busy": "2021-06-04T21:50:29.015304Z",
     "iopub.status.idle": "2021-06-04T21:50:29.030319Z",
     "shell.execute_reply": "2021-06-04T21:50:29.029423Z",
     "shell.execute_reply.started": "2021-06-04T21:50:29.015628Z"
    },
    "tags": []
   },
   "outputs": [],
   "source": [
    "df_news['date'] = pd.to_datetime(df_news['date']).dt.normalize()"
   ]
  },
  {
   "cell_type": "code",
   "execution_count": 17,
   "id": "bb9157e6-a870-4f58-92a0-1f06a0fd12bd",
   "metadata": {
    "execution": {
     "iopub.execute_input": "2021-06-04T17:17:26.402085Z",
     "iopub.status.busy": "2021-06-04T17:17:26.401979Z",
     "iopub.status.idle": "2021-06-04T17:17:26.405230Z",
     "shell.execute_reply": "2021-06-04T17:17:26.404824Z",
     "shell.execute_reply.started": "2021-06-04T17:17:26.402072Z"
    },
    "tags": []
   },
   "outputs": [],
   "source": [
    "df_news.rename(columns={'source_name':'source'}, inplace=True)"
   ]
  },
  {
   "cell_type": "markdown",
   "id": "99bf357b-5f6a-4b97-858f-c51c658af9e6",
   "metadata": {},
   "source": [
    "Using langdetect in order to indentify articles language, ensure articles are only english"
   ]
  },
  {
   "cell_type": "code",
   "execution_count": 18,
   "id": "ac5b1e55-cf2d-473a-b378-e6f5d840a840",
   "metadata": {
    "execution": {
     "iopub.execute_input": "2021-06-04T17:17:26.405910Z",
     "iopub.status.busy": "2021-06-04T17:17:26.405808Z",
     "iopub.status.idle": "2021-06-04T17:17:26.409347Z",
     "shell.execute_reply": "2021-06-04T17:17:26.408137Z",
     "shell.execute_reply.started": "2021-06-04T17:17:26.405897Z"
    },
    "tags": []
   },
   "outputs": [],
   "source": [
    "df_news.reset_index(drop=True, inplace=True)"
   ]
  },
  {
   "cell_type": "code",
   "execution_count": 19,
   "id": "7cbd65be-4856-4a56-8b47-3bb40db9860a",
   "metadata": {
    "execution": {
     "iopub.execute_input": "2021-06-04T17:17:26.410834Z",
     "iopub.status.busy": "2021-06-04T17:17:26.410355Z",
     "iopub.status.idle": "2021-06-04T17:17:26.417544Z",
     "shell.execute_reply": "2021-06-04T17:17:26.417143Z",
     "shell.execute_reply.started": "2021-06-04T17:17:26.410740Z"
    },
    "tags": []
   },
   "outputs": [
    {
     "data": {
      "text/html": [
       "<div>\n",
       "<style scoped>\n",
       "    .dataframe tbody tr th:only-of-type {\n",
       "        vertical-align: middle;\n",
       "    }\n",
       "\n",
       "    .dataframe tbody tr th {\n",
       "        vertical-align: top;\n",
       "    }\n",
       "\n",
       "    .dataframe thead th {\n",
       "        text-align: right;\n",
       "    }\n",
       "</style>\n",
       "<table border=\"1\" class=\"dataframe\">\n",
       "  <thead>\n",
       "    <tr style=\"text-align: right;\">\n",
       "      <th></th>\n",
       "      <th>source</th>\n",
       "      <th>date</th>\n",
       "      <th>sentiment</th>\n",
       "      <th>articles</th>\n",
       "    </tr>\n",
       "  </thead>\n",
       "  <tbody>\n",
       "    <tr>\n",
       "      <th>0</th>\n",
       "      <td>CNBC</td>\n",
       "      <td>2021-05-25 09:01:19</td>\n",
       "      <td>Neutral</td>\n",
       "      <td>Home prices in March were 13.2% higher in Mar...</td>\n",
       "    </tr>\n",
       "    <tr>\n",
       "      <th>1</th>\n",
       "      <td>Reuters</td>\n",
       "      <td>2021-05-25 09:09:00</td>\n",
       "      <td>Neutral</td>\n",
       "      <td>U.S. single-family home prices in 20 key urban...</td>\n",
       "    </tr>\n",
       "    <tr>\n",
       "      <th>2</th>\n",
       "      <td>Reuters</td>\n",
       "      <td>2021-05-25 10:33:00</td>\n",
       "      <td>Negative</td>\n",
       "      <td>A carpenter works on building new townhomes th...</td>\n",
       "    </tr>\n",
       "    <tr>\n",
       "      <th>3</th>\n",
       "      <td>Reuters</td>\n",
       "      <td>2021-05-25 07:10:00</td>\n",
       "      <td>Positive</td>\n",
       "      <td>Wall Street bank chiefs will tout the role the...</td>\n",
       "    </tr>\n",
       "    <tr>\n",
       "      <th>4</th>\n",
       "      <td>CNN Business</td>\n",
       "      <td>2021-05-25 12:30:41</td>\n",
       "      <td>Negative</td>\n",
       "      <td>By Paul R. La Monica, CNN Business  Updated 12...</td>\n",
       "    </tr>\n",
       "  </tbody>\n",
       "</table>\n",
       "</div>"
      ],
      "text/plain": [
       "         source                date sentiment  \\\n",
       "0          CNBC 2021-05-25 09:01:19   Neutral   \n",
       "1       Reuters 2021-05-25 09:09:00   Neutral   \n",
       "2       Reuters 2021-05-25 10:33:00  Negative   \n",
       "3       Reuters 2021-05-25 07:10:00  Positive   \n",
       "4  CNN Business 2021-05-25 12:30:41  Negative   \n",
       "\n",
       "                                            articles  \n",
       "0   Home prices in March were 13.2% higher in Mar...  \n",
       "1  U.S. single-family home prices in 20 key urban...  \n",
       "2  A carpenter works on building new townhomes th...  \n",
       "3  Wall Street bank chiefs will tout the role the...  \n",
       "4  By Paul R. La Monica, CNN Business  Updated 12...  "
      ]
     },
     "execution_count": 19,
     "metadata": {},
     "output_type": "execute_result"
    }
   ],
   "source": [
    "df_news.head()"
   ]
  },
  {
   "cell_type": "markdown",
   "id": "e14e7fc0-bb56-4254-9b41-27586cfa4e9c",
   "metadata": {},
   "source": [
    "## PREPROCESSING"
   ]
  },
  {
   "cell_type": "markdown",
   "id": "7b9ae12b-682e-44f1-a167-d8886cce4de0",
   "metadata": {},
   "source": [
    "In this section we start by preparing our data for modeling, first by cleaning and tokenizing the articles text applying the function 'text_tokenize' and lastely evaluate the sentiment analysis applying 'polarity_score function."
   ]
  },
  {
   "cell_type": "markdown",
   "id": "4fae43dc-475d-4d9b-a15c-bcf07c0017b2",
   "metadata": {},
   "source": [
    "Text Tonkenization\n",
    "\n",
    "Remove punctuation, special characters, numbers"
   ]
  },
  {
   "cell_type": "code",
   "execution_count": 20,
   "id": "3bd148e7-0cb3-4ec5-b7a5-1a5fd58ae5b0",
   "metadata": {
    "execution": {
     "iopub.execute_input": "2021-06-04T17:17:26.418833Z",
     "iopub.status.busy": "2021-06-04T17:17:26.418602Z",
     "iopub.status.idle": "2021-06-04T17:17:26.603426Z",
     "shell.execute_reply": "2021-06-04T17:17:26.602982Z",
     "shell.execute_reply.started": "2021-06-04T17:17:26.418814Z"
    },
    "tags": []
   },
   "outputs": [],
   "source": [
    "df_news['articles'] = df_news['articles'].apply(lambda txt: txt.lower())"
   ]
  },
  {
   "cell_type": "code",
   "execution_count": 21,
   "id": "8addf85b-1017-4612-8ee1-46f502328361",
   "metadata": {
    "execution": {
     "iopub.execute_input": "2021-06-04T17:17:26.604118Z",
     "iopub.status.busy": "2021-06-04T17:17:26.604032Z",
     "iopub.status.idle": "2021-06-04T17:17:36.543230Z",
     "shell.execute_reply": "2021-06-04T17:17:36.542841Z",
     "shell.execute_reply.started": "2021-06-04T17:17:26.604107Z"
    },
    "tags": []
   },
   "outputs": [],
   "source": [
    "stop_words=stopwords.words('english')\n",
    "df_news['articles'] = df_news['articles']\\\n",
    "                            .apply(lambda txt: ' '.join([word for word in txt.split() if word not in stop_words]))"
   ]
  },
  {
   "cell_type": "code",
   "execution_count": 22,
   "id": "74050ddd-1914-4e93-86a5-5a60c75092d7",
   "metadata": {
    "execution": {
     "iopub.execute_input": "2021-06-04T17:17:36.543902Z",
     "iopub.status.busy": "2021-06-04T17:17:36.543813Z",
     "iopub.status.idle": "2021-06-04T17:17:43.901539Z",
     "shell.execute_reply": "2021-06-04T17:17:43.901154Z",
     "shell.execute_reply.started": "2021-06-04T17:17:36.543891Z"
    },
    "tags": []
   },
   "outputs": [],
   "source": [
    "df_news['articles'] = df_news['articles'].apply(lambda txt: sent_tokenize(txt))\n",
    "df_news['articles'] = df_news['articles'].apply(lambda x: ' '.join(x))"
   ]
  },
  {
   "cell_type": "code",
   "execution_count": 23,
   "id": "b33c3148-8528-4bab-b33d-d2ae5402293f",
   "metadata": {
    "execution": {
     "iopub.execute_input": "2021-06-04T17:17:43.902301Z",
     "iopub.status.busy": "2021-06-04T17:17:43.902196Z",
     "iopub.status.idle": "2021-06-04T17:17:44.832482Z",
     "shell.execute_reply": "2021-06-04T17:17:44.832088Z",
     "shell.execute_reply.started": "2021-06-04T17:17:43.902288Z"
    },
    "tags": []
   },
   "outputs": [],
   "source": [
    "word_tokenizer = RegexpTokenizer('[a-zA-Z]+')\n",
    "df_news['articles'] = df_news['articles'].apply(lambda txt: word_tokenizer.tokenize(txt))\n",
    "df_news['articles'] = df_news['articles'].apply(lambda txt: ' '.join(txt))"
   ]
  },
  {
   "cell_type": "code",
   "execution_count": 24,
   "id": "acf35a3e-56cb-4603-ae34-5930e44bc34d",
   "metadata": {
    "execution": {
     "iopub.execute_input": "2021-06-04T17:17:44.833141Z",
     "iopub.status.busy": "2021-06-04T17:17:44.833053Z",
     "iopub.status.idle": "2021-06-04T17:17:46.116137Z",
     "shell.execute_reply": "2021-06-04T17:17:46.115802Z",
     "shell.execute_reply.started": "2021-06-04T17:17:44.833129Z"
    },
    "tags": []
   },
   "outputs": [],
   "source": [
    "single_chars = re.compile(r\"(^\\w{1})(?=\\s)|(?<=\\s)[\\w]{1}(?=\\s)\")\n",
    "df_news['articles'] = df_news['articles'].apply(lambda txt: single_chars.sub('', txt))"
   ]
  },
  {
   "cell_type": "code",
   "execution_count": 25,
   "id": "ec43e115-03c2-4c3d-875d-a9e8f0e078e7",
   "metadata": {
    "execution": {
     "iopub.execute_input": "2021-06-04T17:17:46.119761Z",
     "iopub.status.busy": "2021-06-04T17:17:46.119626Z",
     "iopub.status.idle": "2021-06-04T17:17:46.277993Z",
     "shell.execute_reply": "2021-06-04T17:17:46.277644Z",
     "shell.execute_reply.started": "2021-06-04T17:17:46.119747Z"
    },
    "tags": []
   },
   "outputs": [],
   "source": [
    "articles_to_drop = df_news[(df_news['articles'].apply(lambda x: len(x.split()) <= 10))].index\n",
    "df_news.drop(articles_to_drop, inplace=True)"
   ]
  },
  {
   "cell_type": "code",
   "execution_count": 26,
   "id": "e51014e5-6ab4-4c4f-90fb-95e0065b9851",
   "metadata": {
    "execution": {
     "iopub.execute_input": "2021-06-04T17:17:46.279273Z",
     "iopub.status.busy": "2021-06-04T17:17:46.279157Z",
     "iopub.status.idle": "2021-06-04T17:17:46.282508Z",
     "shell.execute_reply": "2021-06-04T17:17:46.281785Z",
     "shell.execute_reply.started": "2021-06-04T17:17:46.279260Z"
    },
    "tags": []
   },
   "outputs": [],
   "source": [
    "df_news.reset_index(drop=True, inplace=True)"
   ]
  },
  {
   "cell_type": "code",
   "execution_count": 99,
   "id": "3e39e8cd-8cb0-49bb-89ce-2b52ce7d5a44",
   "metadata": {
    "execution": {
     "iopub.execute_input": "2021-06-05T16:36:05.314726Z",
     "iopub.status.busy": "2021-06-05T16:36:05.314089Z",
     "iopub.status.idle": "2021-06-05T16:36:06.287386Z",
     "shell.execute_reply": "2021-06-05T16:36:06.286910Z",
     "shell.execute_reply.started": "2021-06-05T16:36:05.314656Z"
    },
    "tags": []
   },
   "outputs": [],
   "source": [
    "# create a Frequency Distribution of postive words\n",
    "positive_fdist_df = prep.get_freq_dist(\n",
    "    prep.get_word_list( df_news[(df_news['sentiment'] == 'Positive')].loc[:,'text'] )\n",
    ") "
   ]
  },
  {
   "cell_type": "code",
   "execution_count": 100,
   "id": "961542c9-1c95-48ec-a567-e8c382e07fce",
   "metadata": {
    "execution": {
     "iopub.execute_input": "2021-06-05T16:36:06.640394Z",
     "iopub.status.busy": "2021-06-05T16:36:06.639672Z",
     "iopub.status.idle": "2021-06-05T16:36:07.071760Z",
     "shell.execute_reply": "2021-06-05T16:36:07.071274Z",
     "shell.execute_reply.started": "2021-06-05T16:36:06.640322Z"
    },
    "tags": []
   },
   "outputs": [],
   "source": [
    "# create a Frequency Distribution of negative words\n",
    "negative_fdist_df = prep.get_freq_dist(\n",
    "    prep.get_word_list( df_news[(df_news['sentiment'] == 'Negative')].loc[:,'text'] )\n",
    ") "
   ]
  },
  {
   "cell_type": "code",
   "execution_count": 101,
   "id": "2bae3517-3e0a-48d9-8d56-621f1ae57d42",
   "metadata": {
    "execution": {
     "iopub.execute_input": "2021-06-05T16:36:07.326041Z",
     "iopub.status.busy": "2021-06-05T16:36:07.325559Z",
     "iopub.status.idle": "2021-06-05T16:36:07.968566Z",
     "shell.execute_reply": "2021-06-05T16:36:07.968097Z",
     "shell.execute_reply.started": "2021-06-05T16:36:07.326003Z"
    },
    "tags": []
   },
   "outputs": [],
   "source": [
    "# create a Frequency Distribution of neutral words\n",
    "neutral_fdist_df = prep.get_freq_dist(\n",
    "    prep.get_word_list( df_news[(df_news['sentiment'] == 'Neutral')].loc[:,'text'] )\n",
    ") "
   ]
  },
  {
   "cell_type": "code",
   "execution_count": 102,
   "id": "9fd1aee5-2a40-426a-8efe-329823da95c8",
   "metadata": {
    "execution": {
     "iopub.execute_input": "2021-06-05T16:36:08.854647Z",
     "iopub.status.busy": "2021-06-05T16:36:08.853978Z",
     "iopub.status.idle": "2021-06-05T16:36:10.882052Z",
     "shell.execute_reply": "2021-06-05T16:36:10.881688Z",
     "shell.execute_reply.started": "2021-06-05T16:36:08.854577Z"
    },
    "tags": []
   },
   "outputs": [],
   "source": [
    "# create a Frequency Distribution of all words\n",
    "fdist_df = prep.get_freq_dist(prep.get_word_list(df_news['text']))"
   ]
  },
  {
   "cell_type": "markdown",
   "id": "20ae25f4-e5e4-4df2-810c-1c02f3477224",
   "metadata": {},
   "source": [
    "## Features Engineering"
   ]
  },
  {
   "cell_type": "code",
   "execution_count": 97,
   "id": "6fe53258-ac8d-4993-82f6-c08012690df7",
   "metadata": {
    "execution": {
     "iopub.execute_input": "2021-06-05T16:34:01.405633Z",
     "iopub.status.busy": "2021-06-05T16:34:01.405285Z",
     "iopub.status.idle": "2021-06-05T16:34:01.410597Z",
     "shell.execute_reply": "2021-06-05T16:34:01.408866Z",
     "shell.execute_reply.started": "2021-06-05T16:34:01.405597Z"
    },
    "tags": []
   },
   "outputs": [],
   "source": [
    "prep = NLP_stat()"
   ]
  },
  {
   "cell_type": "code",
   "execution_count": 31,
   "id": "fa9061f2-ba15-4784-90f6-d14d795fa44a",
   "metadata": {
    "execution": {
     "iopub.execute_input": "2021-06-04T17:20:03.219252Z",
     "iopub.status.busy": "2021-06-04T17:20:03.218794Z",
     "iopub.status.idle": "2021-06-04T17:20:36.916783Z",
     "shell.execute_reply": "2021-06-04T17:20:36.916405Z",
     "shell.execute_reply.started": "2021-06-04T17:20:03.219210Z"
    },
    "tags": []
   },
   "outputs": [],
   "source": [
    "df_score = prep.polarity_score(df_news['articles'])"
   ]
  },
  {
   "cell_type": "code",
   "execution_count": 32,
   "id": "31af5c23-a43f-41fe-9471-d284a13cc852",
   "metadata": {
    "execution": {
     "iopub.execute_input": "2021-06-04T17:20:44.624486Z",
     "iopub.status.busy": "2021-06-04T17:20:44.624022Z",
     "iopub.status.idle": "2021-06-04T17:20:44.640218Z",
     "shell.execute_reply": "2021-06-04T17:20:44.639270Z",
     "shell.execute_reply.started": "2021-06-04T17:20:44.624418Z"
    },
    "tags": []
   },
   "outputs": [],
   "source": [
    "df_news = pd.concat([df_news.drop('articles', axis=1), df_score], axis=1, ignore_index=False, sort=False)"
   ]
  },
  {
   "cell_type": "code",
   "execution_count": 33,
   "id": "995b0923-3897-42ca-8ba8-4274bfc031e9",
   "metadata": {
    "execution": {
     "iopub.execute_input": "2021-06-04T17:20:46.649495Z",
     "iopub.status.busy": "2021-06-04T17:20:46.648965Z",
     "iopub.status.idle": "2021-06-04T17:20:46.665290Z",
     "shell.execute_reply": "2021-06-04T17:20:46.664291Z",
     "shell.execute_reply.started": "2021-06-04T17:20:46.649428Z"
    },
    "tags": []
   },
   "outputs": [
    {
     "data": {
      "text/plain": [
       "Positive    4356\n",
       "Neutral     3024\n",
       "Negative    2140\n",
       "Name: sentiment, dtype: int64"
      ]
     },
     "execution_count": 33,
     "metadata": {},
     "output_type": "execute_result"
    }
   ],
   "source": [
    "df_news['sentiment'].value_counts()"
   ]
  },
  {
   "cell_type": "code",
   "execution_count": 34,
   "id": "aac16cee-78e9-4d2f-8fc8-e81ca356540e",
   "metadata": {
    "execution": {
     "iopub.execute_input": "2021-06-04T17:20:51.001978Z",
     "iopub.status.busy": "2021-06-04T17:20:51.001602Z",
     "iopub.status.idle": "2021-06-04T17:20:51.007497Z",
     "shell.execute_reply": "2021-06-04T17:20:51.005608Z",
     "shell.execute_reply.started": "2021-06-04T17:20:51.001942Z"
    },
    "tags": []
   },
   "outputs": [],
   "source": [
    "df_news.reset_index(drop=True, inplace=True)"
   ]
  },
  {
   "cell_type": "code",
   "execution_count": 35,
   "id": "2da71d05-4cca-4f42-8556-dcca0af1819a",
   "metadata": {
    "execution": {
     "iopub.execute_input": "2021-06-04T17:20:53.370696Z",
     "iopub.status.busy": "2021-06-04T17:20:53.370059Z",
     "iopub.status.idle": "2021-06-04T17:20:53.566566Z",
     "shell.execute_reply": "2021-06-04T17:20:53.566195Z",
     "shell.execute_reply.started": "2021-06-04T17:20:53.370630Z"
    },
    "tags": []
   },
   "outputs": [],
   "source": [
    "df_news['word_count'] = prep.WordsCount(df_news['text'])"
   ]
  },
  {
   "cell_type": "markdown",
   "id": "693aba8a-6347-4f4d-8f4f-8bac1bee8a96",
   "metadata": {},
   "source": [
    "## Exploratory Data Analysis"
   ]
  },
  {
   "cell_type": "code",
   "execution_count": 4,
   "id": "ecb12476-77b7-4977-a126-2586073dcb56",
   "metadata": {
    "execution": {
     "iopub.execute_input": "2021-06-05T15:53:24.454204Z",
     "iopub.status.busy": "2021-06-05T15:53:24.453842Z",
     "iopub.status.idle": "2021-06-05T15:53:24.832156Z",
     "shell.execute_reply": "2021-06-05T15:53:24.831834Z",
     "shell.execute_reply.started": "2021-06-05T15:53:24.454169Z"
    },
    "tags": []
   },
   "outputs": [],
   "source": [
    "df_news = pd.read_csv('./data/apple_news_cleaned.csv.gz')"
   ]
  },
  {
   "cell_type": "code",
   "execution_count": 5,
   "id": "08368da6-0c53-44b6-8e30-94e5b3f426ea",
   "metadata": {
    "execution": {
     "iopub.execute_input": "2021-06-05T15:53:24.903449Z",
     "iopub.status.busy": "2021-06-05T15:53:24.903244Z",
     "iopub.status.idle": "2021-06-05T15:53:24.919959Z",
     "shell.execute_reply": "2021-06-05T15:53:24.919499Z",
     "shell.execute_reply.started": "2021-06-05T15:53:24.903428Z"
    },
    "tags": []
   },
   "outputs": [
    {
     "data": {
      "text/html": [
       "<div>\n",
       "<style scoped>\n",
       "    .dataframe tbody tr th:only-of-type {\n",
       "        vertical-align: middle;\n",
       "    }\n",
       "\n",
       "    .dataframe tbody tr th {\n",
       "        vertical-align: top;\n",
       "    }\n",
       "\n",
       "    .dataframe thead th {\n",
       "        text-align: right;\n",
       "    }\n",
       "</style>\n",
       "<table border=\"1\" class=\"dataframe\">\n",
       "  <thead>\n",
       "    <tr style=\"text-align: right;\">\n",
       "      <th></th>\n",
       "      <th>source</th>\n",
       "      <th>date</th>\n",
       "      <th>sentiment</th>\n",
       "      <th>text</th>\n",
       "      <th>neg</th>\n",
       "      <th>neu</th>\n",
       "      <th>pos</th>\n",
       "      <th>comp</th>\n",
       "      <th>sent</th>\n",
       "      <th>word_count</th>\n",
       "    </tr>\n",
       "  </thead>\n",
       "  <tbody>\n",
       "    <tr>\n",
       "      <th>0</th>\n",
       "      <td>CNBC</td>\n",
       "      <td>2021-05-25 09:01:19</td>\n",
       "      <td>Neutral</td>\n",
       "      <td>home prices march higher march compared march ...</td>\n",
       "      <td>0.077</td>\n",
       "      <td>0.799</td>\n",
       "      <td>0.124</td>\n",
       "      <td>0.9393</td>\n",
       "      <td>positive</td>\n",
       "      <td>271</td>\n",
       "    </tr>\n",
       "    <tr>\n",
       "      <th>1</th>\n",
       "      <td>Reuters</td>\n",
       "      <td>2021-05-25 09:09:00</td>\n",
       "      <td>Neutral</td>\n",
       "      <td>single family home prices key urban markets ...</td>\n",
       "      <td>0.064</td>\n",
       "      <td>0.812</td>\n",
       "      <td>0.124</td>\n",
       "      <td>0.9186</td>\n",
       "      <td>positive</td>\n",
       "      <td>241</td>\n",
       "    </tr>\n",
       "    <tr>\n",
       "      <th>2</th>\n",
       "      <td>Reuters</td>\n",
       "      <td>2021-05-25 10:33:00</td>\n",
       "      <td>Negative</td>\n",
       "      <td>carpenter works building new townhomes still c...</td>\n",
       "      <td>0.071</td>\n",
       "      <td>0.841</td>\n",
       "      <td>0.088</td>\n",
       "      <td>0.8176</td>\n",
       "      <td>positive</td>\n",
       "      <td>396</td>\n",
       "    </tr>\n",
       "    <tr>\n",
       "      <th>3</th>\n",
       "      <td>Reuters</td>\n",
       "      <td>2021-05-25 07:10:00</td>\n",
       "      <td>Positive</td>\n",
       "      <td>wall street bank chiefs tout role institutions...</td>\n",
       "      <td>0.102</td>\n",
       "      <td>0.765</td>\n",
       "      <td>0.132</td>\n",
       "      <td>0.9019</td>\n",
       "      <td>positive</td>\n",
       "      <td>547</td>\n",
       "    </tr>\n",
       "    <tr>\n",
       "      <th>4</th>\n",
       "      <td>CNN Business</td>\n",
       "      <td>2021-05-25 12:30:41</td>\n",
       "      <td>Negative</td>\n",
       "      <td>paul  la monica cnn business updated pm et tue...</td>\n",
       "      <td>0.073</td>\n",
       "      <td>0.927</td>\n",
       "      <td>0.000</td>\n",
       "      <td>-0.2960</td>\n",
       "      <td>negative</td>\n",
       "      <td>29</td>\n",
       "    </tr>\n",
       "  </tbody>\n",
       "</table>\n",
       "</div>"
      ],
      "text/plain": [
       "         source                 date sentiment  \\\n",
       "0          CNBC  2021-05-25 09:01:19   Neutral   \n",
       "1       Reuters  2021-05-25 09:09:00   Neutral   \n",
       "2       Reuters  2021-05-25 10:33:00  Negative   \n",
       "3       Reuters  2021-05-25 07:10:00  Positive   \n",
       "4  CNN Business  2021-05-25 12:30:41  Negative   \n",
       "\n",
       "                                                text    neg    neu    pos  \\\n",
       "0  home prices march higher march compared march ...  0.077  0.799  0.124   \n",
       "1    single family home prices key urban markets ...  0.064  0.812  0.124   \n",
       "2  carpenter works building new townhomes still c...  0.071  0.841  0.088   \n",
       "3  wall street bank chiefs tout role institutions...  0.102  0.765  0.132   \n",
       "4  paul  la monica cnn business updated pm et tue...  0.073  0.927  0.000   \n",
       "\n",
       "     comp      sent  word_count  \n",
       "0  0.9393  positive         271  \n",
       "1  0.9186  positive         241  \n",
       "2  0.8176  positive         396  \n",
       "3  0.9019  positive         547  \n",
       "4 -0.2960  negative          29  "
      ]
     },
     "execution_count": 5,
     "metadata": {},
     "output_type": "execute_result"
    }
   ],
   "source": [
    "df_news.head()"
   ]
  },
  {
   "cell_type": "code",
   "execution_count": 6,
   "id": "ee7ee3ad-2561-4795-9617-6d322bb95345",
   "metadata": {
    "execution": {
     "iopub.execute_input": "2021-06-05T15:53:26.602252Z",
     "iopub.status.busy": "2021-06-05T15:53:26.601529Z",
     "iopub.status.idle": "2021-06-05T15:53:26.613415Z",
     "shell.execute_reply": "2021-06-05T15:53:26.612048Z",
     "shell.execute_reply.started": "2021-06-05T15:53:26.602180Z"
    },
    "tags": []
   },
   "outputs": [],
   "source": [
    "sentiment = df_news['sentiment'].value_counts()"
   ]
  },
  {
   "cell_type": "code",
   "execution_count": 7,
   "id": "150d15ef-e80d-435c-915f-0fc186c3839d",
   "metadata": {
    "execution": {
     "iopub.execute_input": "2021-06-05T15:53:27.116811Z",
     "iopub.status.busy": "2021-06-05T15:53:27.116113Z",
     "iopub.status.idle": "2021-06-05T15:53:27.488501Z",
     "shell.execute_reply": "2021-06-05T15:53:27.488194Z",
     "shell.execute_reply.started": "2021-06-05T15:53:27.116741Z"
    },
    "tags": []
   },
   "outputs": [
    {
     "data": {
      "application/vnd.plotly.v1+json": {
       "config": {
        "plotlyServerURL": "https://plot.ly"
       },
       "data": [
        {
         "alignmentgroup": "True",
         "hovertemplate": "index=%{x}<br>sentiment=%{marker.color}<extra></extra>",
         "legendgroup": "",
         "marker": {
          "color": [
           4356,
           3024,
           2140
          ],
          "coloraxis": "coloraxis"
         },
         "name": "",
         "offsetgroup": "",
         "orientation": "v",
         "showlegend": false,
         "textposition": "auto",
         "type": "bar",
         "x": [
          "Positive",
          "Neutral",
          "Negative"
         ],
         "xaxis": "x",
         "y": [
          4356,
          3024,
          2140
         ],
         "yaxis": "y"
        }
       ],
       "layout": {
        "barmode": "relative",
        "coloraxis": {
         "colorbar": {
          "title": {
           "text": "sentiment"
          }
         },
         "colorscale": [
          [
           0,
           "#0d0887"
          ],
          [
           0.1111111111111111,
           "#46039f"
          ],
          [
           0.2222222222222222,
           "#7201a8"
          ],
          [
           0.3333333333333333,
           "#9c179e"
          ],
          [
           0.4444444444444444,
           "#bd3786"
          ],
          [
           0.5555555555555556,
           "#d8576b"
          ],
          [
           0.6666666666666666,
           "#ed7953"
          ],
          [
           0.7777777777777778,
           "#fb9f3a"
          ],
          [
           0.8888888888888888,
           "#fdca26"
          ],
          [
           1,
           "#f0f921"
          ]
         ]
        },
        "height": 400,
        "legend": {
         "bgcolor": "rgba(255, 255, 255, 0)",
         "bordercolor": "rgba(255, 255, 255, 0)",
         "tracegroupgap": 0,
         "x": 0,
         "y": 0
        },
        "margin": {
         "b": 0,
         "l": 0,
         "r": 0,
         "t": 50
        },
        "paper_bgcolor": "white",
        "template": {
         "data": {
          "bar": [
           {
            "error_x": {
             "color": "#2a3f5f"
            },
            "error_y": {
             "color": "#2a3f5f"
            },
            "marker": {
             "line": {
              "color": "#E5ECF6",
              "width": 0.5
             }
            },
            "type": "bar"
           }
          ],
          "barpolar": [
           {
            "marker": {
             "line": {
              "color": "#E5ECF6",
              "width": 0.5
             }
            },
            "type": "barpolar"
           }
          ],
          "carpet": [
           {
            "aaxis": {
             "endlinecolor": "#2a3f5f",
             "gridcolor": "white",
             "linecolor": "white",
             "minorgridcolor": "white",
             "startlinecolor": "#2a3f5f"
            },
            "baxis": {
             "endlinecolor": "#2a3f5f",
             "gridcolor": "white",
             "linecolor": "white",
             "minorgridcolor": "white",
             "startlinecolor": "#2a3f5f"
            },
            "type": "carpet"
           }
          ],
          "choropleth": [
           {
            "colorbar": {
             "outlinewidth": 0,
             "ticks": ""
            },
            "type": "choropleth"
           }
          ],
          "contour": [
           {
            "colorbar": {
             "outlinewidth": 0,
             "ticks": ""
            },
            "colorscale": [
             [
              0,
              "#0d0887"
             ],
             [
              0.1111111111111111,
              "#46039f"
             ],
             [
              0.2222222222222222,
              "#7201a8"
             ],
             [
              0.3333333333333333,
              "#9c179e"
             ],
             [
              0.4444444444444444,
              "#bd3786"
             ],
             [
              0.5555555555555556,
              "#d8576b"
             ],
             [
              0.6666666666666666,
              "#ed7953"
             ],
             [
              0.7777777777777778,
              "#fb9f3a"
             ],
             [
              0.8888888888888888,
              "#fdca26"
             ],
             [
              1,
              "#f0f921"
             ]
            ],
            "type": "contour"
           }
          ],
          "contourcarpet": [
           {
            "colorbar": {
             "outlinewidth": 0,
             "ticks": ""
            },
            "type": "contourcarpet"
           }
          ],
          "heatmap": [
           {
            "colorbar": {
             "outlinewidth": 0,
             "ticks": ""
            },
            "colorscale": [
             [
              0,
              "#0d0887"
             ],
             [
              0.1111111111111111,
              "#46039f"
             ],
             [
              0.2222222222222222,
              "#7201a8"
             ],
             [
              0.3333333333333333,
              "#9c179e"
             ],
             [
              0.4444444444444444,
              "#bd3786"
             ],
             [
              0.5555555555555556,
              "#d8576b"
             ],
             [
              0.6666666666666666,
              "#ed7953"
             ],
             [
              0.7777777777777778,
              "#fb9f3a"
             ],
             [
              0.8888888888888888,
              "#fdca26"
             ],
             [
              1,
              "#f0f921"
             ]
            ],
            "type": "heatmap"
           }
          ],
          "heatmapgl": [
           {
            "colorbar": {
             "outlinewidth": 0,
             "ticks": ""
            },
            "colorscale": [
             [
              0,
              "#0d0887"
             ],
             [
              0.1111111111111111,
              "#46039f"
             ],
             [
              0.2222222222222222,
              "#7201a8"
             ],
             [
              0.3333333333333333,
              "#9c179e"
             ],
             [
              0.4444444444444444,
              "#bd3786"
             ],
             [
              0.5555555555555556,
              "#d8576b"
             ],
             [
              0.6666666666666666,
              "#ed7953"
             ],
             [
              0.7777777777777778,
              "#fb9f3a"
             ],
             [
              0.8888888888888888,
              "#fdca26"
             ],
             [
              1,
              "#f0f921"
             ]
            ],
            "type": "heatmapgl"
           }
          ],
          "histogram": [
           {
            "marker": {
             "colorbar": {
              "outlinewidth": 0,
              "ticks": ""
             }
            },
            "type": "histogram"
           }
          ],
          "histogram2d": [
           {
            "colorbar": {
             "outlinewidth": 0,
             "ticks": ""
            },
            "colorscale": [
             [
              0,
              "#0d0887"
             ],
             [
              0.1111111111111111,
              "#46039f"
             ],
             [
              0.2222222222222222,
              "#7201a8"
             ],
             [
              0.3333333333333333,
              "#9c179e"
             ],
             [
              0.4444444444444444,
              "#bd3786"
             ],
             [
              0.5555555555555556,
              "#d8576b"
             ],
             [
              0.6666666666666666,
              "#ed7953"
             ],
             [
              0.7777777777777778,
              "#fb9f3a"
             ],
             [
              0.8888888888888888,
              "#fdca26"
             ],
             [
              1,
              "#f0f921"
             ]
            ],
            "type": "histogram2d"
           }
          ],
          "histogram2dcontour": [
           {
            "colorbar": {
             "outlinewidth": 0,
             "ticks": ""
            },
            "colorscale": [
             [
              0,
              "#0d0887"
             ],
             [
              0.1111111111111111,
              "#46039f"
             ],
             [
              0.2222222222222222,
              "#7201a8"
             ],
             [
              0.3333333333333333,
              "#9c179e"
             ],
             [
              0.4444444444444444,
              "#bd3786"
             ],
             [
              0.5555555555555556,
              "#d8576b"
             ],
             [
              0.6666666666666666,
              "#ed7953"
             ],
             [
              0.7777777777777778,
              "#fb9f3a"
             ],
             [
              0.8888888888888888,
              "#fdca26"
             ],
             [
              1,
              "#f0f921"
             ]
            ],
            "type": "histogram2dcontour"
           }
          ],
          "mesh3d": [
           {
            "colorbar": {
             "outlinewidth": 0,
             "ticks": ""
            },
            "type": "mesh3d"
           }
          ],
          "parcoords": [
           {
            "line": {
             "colorbar": {
              "outlinewidth": 0,
              "ticks": ""
             }
            },
            "type": "parcoords"
           }
          ],
          "pie": [
           {
            "automargin": true,
            "type": "pie"
           }
          ],
          "scatter": [
           {
            "marker": {
             "colorbar": {
              "outlinewidth": 0,
              "ticks": ""
             }
            },
            "type": "scatter"
           }
          ],
          "scatter3d": [
           {
            "line": {
             "colorbar": {
              "outlinewidth": 0,
              "ticks": ""
             }
            },
            "marker": {
             "colorbar": {
              "outlinewidth": 0,
              "ticks": ""
             }
            },
            "type": "scatter3d"
           }
          ],
          "scattercarpet": [
           {
            "marker": {
             "colorbar": {
              "outlinewidth": 0,
              "ticks": ""
             }
            },
            "type": "scattercarpet"
           }
          ],
          "scattergeo": [
           {
            "marker": {
             "colorbar": {
              "outlinewidth": 0,
              "ticks": ""
             }
            },
            "type": "scattergeo"
           }
          ],
          "scattergl": [
           {
            "marker": {
             "colorbar": {
              "outlinewidth": 0,
              "ticks": ""
             }
            },
            "type": "scattergl"
           }
          ],
          "scattermapbox": [
           {
            "marker": {
             "colorbar": {
              "outlinewidth": 0,
              "ticks": ""
             }
            },
            "type": "scattermapbox"
           }
          ],
          "scatterpolar": [
           {
            "marker": {
             "colorbar": {
              "outlinewidth": 0,
              "ticks": ""
             }
            },
            "type": "scatterpolar"
           }
          ],
          "scatterpolargl": [
           {
            "marker": {
             "colorbar": {
              "outlinewidth": 0,
              "ticks": ""
             }
            },
            "type": "scatterpolargl"
           }
          ],
          "scatterternary": [
           {
            "marker": {
             "colorbar": {
              "outlinewidth": 0,
              "ticks": ""
             }
            },
            "type": "scatterternary"
           }
          ],
          "surface": [
           {
            "colorbar": {
             "outlinewidth": 0,
             "ticks": ""
            },
            "colorscale": [
             [
              0,
              "#0d0887"
             ],
             [
              0.1111111111111111,
              "#46039f"
             ],
             [
              0.2222222222222222,
              "#7201a8"
             ],
             [
              0.3333333333333333,
              "#9c179e"
             ],
             [
              0.4444444444444444,
              "#bd3786"
             ],
             [
              0.5555555555555556,
              "#d8576b"
             ],
             [
              0.6666666666666666,
              "#ed7953"
             ],
             [
              0.7777777777777778,
              "#fb9f3a"
             ],
             [
              0.8888888888888888,
              "#fdca26"
             ],
             [
              1,
              "#f0f921"
             ]
            ],
            "type": "surface"
           }
          ],
          "table": [
           {
            "cells": {
             "fill": {
              "color": "#EBF0F8"
             },
             "line": {
              "color": "white"
             }
            },
            "header": {
             "fill": {
              "color": "#C8D4E3"
             },
             "line": {
              "color": "white"
             }
            },
            "type": "table"
           }
          ]
         },
         "layout": {
          "annotationdefaults": {
           "arrowcolor": "#2a3f5f",
           "arrowhead": 0,
           "arrowwidth": 1
          },
          "autotypenumbers": "strict",
          "coloraxis": {
           "colorbar": {
            "outlinewidth": 0,
            "ticks": ""
           }
          },
          "colorscale": {
           "diverging": [
            [
             0,
             "#8e0152"
            ],
            [
             0.1,
             "#c51b7d"
            ],
            [
             0.2,
             "#de77ae"
            ],
            [
             0.3,
             "#f1b6da"
            ],
            [
             0.4,
             "#fde0ef"
            ],
            [
             0.5,
             "#f7f7f7"
            ],
            [
             0.6,
             "#e6f5d0"
            ],
            [
             0.7,
             "#b8e186"
            ],
            [
             0.8,
             "#7fbc41"
            ],
            [
             0.9,
             "#4d9221"
            ],
            [
             1,
             "#276419"
            ]
           ],
           "sequential": [
            [
             0,
             "#0d0887"
            ],
            [
             0.1111111111111111,
             "#46039f"
            ],
            [
             0.2222222222222222,
             "#7201a8"
            ],
            [
             0.3333333333333333,
             "#9c179e"
            ],
            [
             0.4444444444444444,
             "#bd3786"
            ],
            [
             0.5555555555555556,
             "#d8576b"
            ],
            [
             0.6666666666666666,
             "#ed7953"
            ],
            [
             0.7777777777777778,
             "#fb9f3a"
            ],
            [
             0.8888888888888888,
             "#fdca26"
            ],
            [
             1,
             "#f0f921"
            ]
           ],
           "sequentialminus": [
            [
             0,
             "#0d0887"
            ],
            [
             0.1111111111111111,
             "#46039f"
            ],
            [
             0.2222222222222222,
             "#7201a8"
            ],
            [
             0.3333333333333333,
             "#9c179e"
            ],
            [
             0.4444444444444444,
             "#bd3786"
            ],
            [
             0.5555555555555556,
             "#d8576b"
            ],
            [
             0.6666666666666666,
             "#ed7953"
            ],
            [
             0.7777777777777778,
             "#fb9f3a"
            ],
            [
             0.8888888888888888,
             "#fdca26"
            ],
            [
             1,
             "#f0f921"
            ]
           ]
          },
          "colorway": [
           "#636efa",
           "#EF553B",
           "#00cc96",
           "#ab63fa",
           "#FFA15A",
           "#19d3f3",
           "#FF6692",
           "#B6E880",
           "#FF97FF",
           "#FECB52"
          ],
          "font": {
           "color": "#2a3f5f"
          },
          "geo": {
           "bgcolor": "white",
           "lakecolor": "white",
           "landcolor": "#E5ECF6",
           "showlakes": true,
           "showland": true,
           "subunitcolor": "white"
          },
          "hoverlabel": {
           "align": "left"
          },
          "hovermode": "closest",
          "mapbox": {
           "style": "light"
          },
          "paper_bgcolor": "white",
          "plot_bgcolor": "#E5ECF6",
          "polar": {
           "angularaxis": {
            "gridcolor": "white",
            "linecolor": "white",
            "ticks": ""
           },
           "bgcolor": "#E5ECF6",
           "radialaxis": {
            "gridcolor": "white",
            "linecolor": "white",
            "ticks": ""
           }
          },
          "scene": {
           "xaxis": {
            "backgroundcolor": "#E5ECF6",
            "gridcolor": "white",
            "gridwidth": 2,
            "linecolor": "white",
            "showbackground": true,
            "ticks": "",
            "zerolinecolor": "white"
           },
           "yaxis": {
            "backgroundcolor": "#E5ECF6",
            "gridcolor": "white",
            "gridwidth": 2,
            "linecolor": "white",
            "showbackground": true,
            "ticks": "",
            "zerolinecolor": "white"
           },
           "zaxis": {
            "backgroundcolor": "#E5ECF6",
            "gridcolor": "white",
            "gridwidth": 2,
            "linecolor": "white",
            "showbackground": true,
            "ticks": "",
            "zerolinecolor": "white"
           }
          },
          "shapedefaults": {
           "line": {
            "color": "#2a3f5f"
           }
          },
          "ternary": {
           "aaxis": {
            "gridcolor": "white",
            "linecolor": "white",
            "ticks": ""
           },
           "baxis": {
            "gridcolor": "white",
            "linecolor": "white",
            "ticks": ""
           },
           "bgcolor": "#E5ECF6",
           "caxis": {
            "gridcolor": "white",
            "linecolor": "white",
            "ticks": ""
           }
          },
          "title": {
           "x": 0.05
          },
          "xaxis": {
           "automargin": true,
           "gridcolor": "white",
           "linecolor": "white",
           "ticks": "",
           "title": {
            "standoff": 15
           },
           "zerolinecolor": "white",
           "zerolinewidth": 2
          },
          "yaxis": {
           "automargin": true,
           "gridcolor": "white",
           "linecolor": "white",
           "ticks": "",
           "title": {
            "standoff": 15
           },
           "zerolinecolor": "white",
           "zerolinewidth": 2
          }
         }
        },
        "title": {
         "text": "Sentiment Distribution"
        },
        "width": 700,
        "xaxis": {
         "anchor": "y",
         "autorange": true,
         "domain": [
          0,
          1
         ],
         "range": [
          -0.5,
          2.5
         ],
         "showgrid": false,
         "tickfont": {
          "size": 15
         },
         "title": {
          "font": {
           "size": 15
          },
          "text": "Sentiment"
         },
         "type": "category",
         "zeroline": false
        },
        "yaxis": {
         "anchor": "x",
         "autorange": true,
         "domain": [
          0,
          1
         ],
         "range": [
          0,
          4585.263157894737
         ],
         "showgrid": false,
         "tickfont": {
          "size": 15
         },
         "title": {
          "font": {
           "size": 15
          },
          "text": "Sentiment Counts"
         },
         "type": "linear",
         "zeroline": false
        }
       }
      },
      "image/png": "[encoded data removed]",
      "text/html": [
       "<div>                            <div id=\"cc9778f5-8ced-43dd-8029-6eb64c6d52a2\" class=\"plotly-graph-div\" style=\"height:400px; width:700px;\"></div>            <script type=\"text/javascript\">                require([\"plotly\"], function(Plotly) {                    window.PLOTLYENV=window.PLOTLYENV || {};                                    if (document.getElementById(\"cc9778f5-8ced-43dd-8029-6eb64c6d52a2\")) {                    Plotly.newPlot(                        \"cc9778f5-8ced-43dd-8029-6eb64c6d52a2\",                        [{\"alignmentgroup\": \"True\", \"hovertemplate\": \"index=%{x}<br>sentiment=%{marker.color}<extra></extra>\", \"legendgroup\": \"\", \"marker\": {\"color\": [4356, 3024, 2140], \"coloraxis\": \"coloraxis\"}, \"name\": \"\", \"offsetgroup\": \"\", \"orientation\": \"v\", \"showlegend\": false, \"textposition\": \"auto\", \"type\": \"bar\", \"x\": [\"Positive\", \"Neutral\", \"Negative\"], \"xaxis\": \"x\", \"y\": [4356, 3024, 2140], \"yaxis\": \"y\"}],                        {\"barmode\": \"relative\", \"coloraxis\": {\"colorbar\": {\"title\": {\"text\": \"sentiment\"}}, \"colorscale\": [[0.0, \"#0d0887\"], [0.1111111111111111, \"#46039f\"], [0.2222222222222222, \"#7201a8\"], [0.3333333333333333, \"#9c179e\"], [0.4444444444444444, \"#bd3786\"], [0.5555555555555556, \"#d8576b\"], [0.6666666666666666, \"#ed7953\"], [0.7777777777777778, \"#fb9f3a\"], [0.8888888888888888, \"#fdca26\"], [1.0, \"#f0f921\"]]}, \"height\": 400, \"legend\": {\"bgcolor\": \"rgba(255, 255, 255, 0)\", \"bordercolor\": \"rgba(255, 255, 255, 0)\", \"tracegroupgap\": 0, \"x\": 0, \"y\": 0}, \"margin\": {\"b\": 0, \"l\": 0, \"r\": 0, \"t\": 50}, \"paper_bgcolor\": \"white\", \"template\": {\"data\": {\"bar\": [{\"error_x\": {\"color\": \"#2a3f5f\"}, \"error_y\": {\"color\": \"#2a3f5f\"}, \"marker\": {\"line\": {\"color\": \"#E5ECF6\", \"width\": 0.5}}, \"type\": \"bar\"}], \"barpolar\": [{\"marker\": {\"line\": {\"color\": \"#E5ECF6\", \"width\": 0.5}}, \"type\": \"barpolar\"}], \"carpet\": [{\"aaxis\": {\"endlinecolor\": \"#2a3f5f\", \"gridcolor\": \"white\", \"linecolor\": \"white\", \"minorgridcolor\": \"white\", \"startlinecolor\": \"#2a3f5f\"}, \"baxis\": {\"endlinecolor\": \"#2a3f5f\", \"gridcolor\": \"white\", \"linecolor\": \"white\", \"minorgridcolor\": \"white\", \"startlinecolor\": \"#2a3f5f\"}, \"type\": \"carpet\"}], \"choropleth\": [{\"colorbar\": {\"outlinewidth\": 0, \"ticks\": \"\"}, \"type\": \"choropleth\"}], \"contour\": [{\"colorbar\": {\"outlinewidth\": 0, \"ticks\": \"\"}, \"colorscale\": [[0.0, \"#0d0887\"], [0.1111111111111111, \"#46039f\"], [0.2222222222222222, \"#7201a8\"], [0.3333333333333333, \"#9c179e\"], [0.4444444444444444, \"#bd3786\"], [0.5555555555555556, \"#d8576b\"], [0.6666666666666666, \"#ed7953\"], [0.7777777777777778, \"#fb9f3a\"], [0.8888888888888888, \"#fdca26\"], [1.0, \"#f0f921\"]], \"type\": \"contour\"}], \"contourcarpet\": [{\"colorbar\": {\"outlinewidth\": 0, \"ticks\": \"\"}, \"type\": \"contourcarpet\"}], \"heatmap\": [{\"colorbar\": {\"outlinewidth\": 0, \"ticks\": \"\"}, \"colorscale\": [[0.0, \"#0d0887\"], [0.1111111111111111, \"#46039f\"], [0.2222222222222222, \"#7201a8\"], [0.3333333333333333, \"#9c179e\"], [0.4444444444444444, \"#bd3786\"], [0.5555555555555556, \"#d8576b\"], [0.6666666666666666, \"#ed7953\"], [0.7777777777777778, \"#fb9f3a\"], [0.8888888888888888, \"#fdca26\"], [1.0, \"#f0f921\"]], \"type\": \"heatmap\"}], \"heatmapgl\": [{\"colorbar\": {\"outlinewidth\": 0, \"ticks\": \"\"}, \"colorscale\": [[0.0, \"#0d0887\"], [0.1111111111111111, \"#46039f\"], [0.2222222222222222, \"#7201a8\"], [0.3333333333333333, \"#9c179e\"], [0.4444444444444444, \"#bd3786\"], [0.5555555555555556, \"#d8576b\"], [0.6666666666666666, \"#ed7953\"], [0.7777777777777778, \"#fb9f3a\"], [0.8888888888888888, \"#fdca26\"], [1.0, \"#f0f921\"]], \"type\": \"heatmapgl\"}], \"histogram\": [{\"marker\": {\"colorbar\": {\"outlinewidth\": 0, \"ticks\": \"\"}}, \"type\": \"histogram\"}], \"histogram2d\": [{\"colorbar\": {\"outlinewidth\": 0, \"ticks\": \"\"}, \"colorscale\": [[0.0, \"#0d0887\"], [0.1111111111111111, \"#46039f\"], [0.2222222222222222, \"#7201a8\"], [0.3333333333333333, \"#9c179e\"], [0.4444444444444444, \"#bd3786\"], [0.5555555555555556, \"#d8576b\"], [0.6666666666666666, \"#ed7953\"], [0.7777777777777778, \"#fb9f3a\"], [0.8888888888888888, \"#fdca26\"], [1.0, \"#f0f921\"]], \"type\": \"histogram2d\"}], \"histogram2dcontour\": [{\"colorbar\": {\"outlinewidth\": 0, \"ticks\": \"\"}, \"colorscale\": [[0.0, \"#0d0887\"], [0.1111111111111111, \"#46039f\"], [0.2222222222222222, \"#7201a8\"], [0.3333333333333333, \"#9c179e\"], [0.4444444444444444, \"#bd3786\"], [0.5555555555555556, \"#d8576b\"], [0.6666666666666666, \"#ed7953\"], [0.7777777777777778, \"#fb9f3a\"], [0.8888888888888888, \"#fdca26\"], [1.0, \"#f0f921\"]], \"type\": \"histogram2dcontour\"}], \"mesh3d\": [{\"colorbar\": {\"outlinewidth\": 0, \"ticks\": \"\"}, \"type\": \"mesh3d\"}], \"parcoords\": [{\"line\": {\"colorbar\": {\"outlinewidth\": 0, \"ticks\": \"\"}}, \"type\": \"parcoords\"}], \"pie\": [{\"automargin\": true, \"type\": \"pie\"}], \"scatter\": [{\"marker\": {\"colorbar\": {\"outlinewidth\": 0, \"ticks\": \"\"}}, \"type\": \"scatter\"}], \"scatter3d\": [{\"line\": {\"colorbar\": {\"outlinewidth\": 0, \"ticks\": \"\"}}, \"marker\": {\"colorbar\": {\"outlinewidth\": 0, \"ticks\": \"\"}}, \"type\": \"scatter3d\"}], \"scattercarpet\": [{\"marker\": {\"colorbar\": {\"outlinewidth\": 0, \"ticks\": \"\"}}, \"type\": \"scattercarpet\"}], \"scattergeo\": [{\"marker\": {\"colorbar\": {\"outlinewidth\": 0, \"ticks\": \"\"}}, \"type\": \"scattergeo\"}], \"scattergl\": [{\"marker\": {\"colorbar\": {\"outlinewidth\": 0, \"ticks\": \"\"}}, \"type\": \"scattergl\"}], \"scattermapbox\": [{\"marker\": {\"colorbar\": {\"outlinewidth\": 0, \"ticks\": \"\"}}, \"type\": \"scattermapbox\"}], \"scatterpolar\": [{\"marker\": {\"colorbar\": {\"outlinewidth\": 0, \"ticks\": \"\"}}, \"type\": \"scatterpolar\"}], \"scatterpolargl\": [{\"marker\": {\"colorbar\": {\"outlinewidth\": 0, \"ticks\": \"\"}}, \"type\": \"scatterpolargl\"}], \"scatterternary\": [{\"marker\": {\"colorbar\": {\"outlinewidth\": 0, \"ticks\": \"\"}}, \"type\": \"scatterternary\"}], \"surface\": [{\"colorbar\": {\"outlinewidth\": 0, \"ticks\": \"\"}, \"colorscale\": [[0.0, \"#0d0887\"], [0.1111111111111111, \"#46039f\"], [0.2222222222222222, \"#7201a8\"], [0.3333333333333333, \"#9c179e\"], [0.4444444444444444, \"#bd3786\"], [0.5555555555555556, \"#d8576b\"], [0.6666666666666666, \"#ed7953\"], [0.7777777777777778, \"#fb9f3a\"], [0.8888888888888888, \"#fdca26\"], [1.0, \"#f0f921\"]], \"type\": \"surface\"}], \"table\": [{\"cells\": {\"fill\": {\"color\": \"#EBF0F8\"}, \"line\": {\"color\": \"white\"}}, \"header\": {\"fill\": {\"color\": \"#C8D4E3\"}, \"line\": {\"color\": \"white\"}}, \"type\": \"table\"}]}, \"layout\": {\"annotationdefaults\": {\"arrowcolor\": \"#2a3f5f\", \"arrowhead\": 0, \"arrowwidth\": 1}, \"autotypenumbers\": \"strict\", \"coloraxis\": {\"colorbar\": {\"outlinewidth\": 0, \"ticks\": \"\"}}, \"colorscale\": {\"diverging\": [[0, \"#8e0152\"], [0.1, \"#c51b7d\"], [0.2, \"#de77ae\"], [0.3, \"#f1b6da\"], [0.4, \"#fde0ef\"], [0.5, \"#f7f7f7\"], [0.6, \"#e6f5d0\"], [0.7, \"#b8e186\"], [0.8, \"#7fbc41\"], [0.9, \"#4d9221\"], [1, \"#276419\"]], \"sequential\": [[0.0, \"#0d0887\"], [0.1111111111111111, \"#46039f\"], [0.2222222222222222, \"#7201a8\"], [0.3333333333333333, \"#9c179e\"], [0.4444444444444444, \"#bd3786\"], [0.5555555555555556, \"#d8576b\"], [0.6666666666666666, \"#ed7953\"], [0.7777777777777778, \"#fb9f3a\"], [0.8888888888888888, \"#fdca26\"], [1.0, \"#f0f921\"]], \"sequentialminus\": [[0.0, \"#0d0887\"], [0.1111111111111111, \"#46039f\"], [0.2222222222222222, \"#7201a8\"], [0.3333333333333333, \"#9c179e\"], [0.4444444444444444, \"#bd3786\"], [0.5555555555555556, \"#d8576b\"], [0.6666666666666666, \"#ed7953\"], [0.7777777777777778, \"#fb9f3a\"], [0.8888888888888888, \"#fdca26\"], [1.0, \"#f0f921\"]]}, \"colorway\": [\"#636efa\", \"#EF553B\", \"#00cc96\", \"#ab63fa\", \"#FFA15A\", \"#19d3f3\", \"#FF6692\", \"#B6E880\", \"#FF97FF\", \"#FECB52\"], \"font\": {\"color\": \"#2a3f5f\"}, \"geo\": {\"bgcolor\": \"white\", \"lakecolor\": \"white\", \"landcolor\": \"#E5ECF6\", \"showlakes\": true, \"showland\": true, \"subunitcolor\": \"white\"}, \"hoverlabel\": {\"align\": \"left\"}, \"hovermode\": \"closest\", \"mapbox\": {\"style\": \"light\"}, \"paper_bgcolor\": \"white\", \"plot_bgcolor\": \"#E5ECF6\", \"polar\": {\"angularaxis\": {\"gridcolor\": \"white\", \"linecolor\": \"white\", \"ticks\": \"\"}, \"bgcolor\": \"#E5ECF6\", \"radialaxis\": {\"gridcolor\": \"white\", \"linecolor\": \"white\", \"ticks\": \"\"}}, \"scene\": {\"xaxis\": {\"backgroundcolor\": \"#E5ECF6\", \"gridcolor\": \"white\", \"gridwidth\": 2, \"linecolor\": \"white\", \"showbackground\": true, \"ticks\": \"\", \"zerolinecolor\": \"white\"}, \"yaxis\": {\"backgroundcolor\": \"#E5ECF6\", \"gridcolor\": \"white\", \"gridwidth\": 2, \"linecolor\": \"white\", \"showbackground\": true, \"ticks\": \"\", \"zerolinecolor\": \"white\"}, \"zaxis\": {\"backgroundcolor\": \"#E5ECF6\", \"gridcolor\": \"white\", \"gridwidth\": 2, \"linecolor\": \"white\", \"showbackground\": true, \"ticks\": \"\", \"zerolinecolor\": \"white\"}}, \"shapedefaults\": {\"line\": {\"color\": \"#2a3f5f\"}}, \"ternary\": {\"aaxis\": {\"gridcolor\": \"white\", \"linecolor\": \"white\", \"ticks\": \"\"}, \"baxis\": {\"gridcolor\": \"white\", \"linecolor\": \"white\", \"ticks\": \"\"}, \"bgcolor\": \"#E5ECF6\", \"caxis\": {\"gridcolor\": \"white\", \"linecolor\": \"white\", \"ticks\": \"\"}}, \"title\": {\"x\": 0.05}, \"xaxis\": {\"automargin\": true, \"gridcolor\": \"white\", \"linecolor\": \"white\", \"ticks\": \"\", \"title\": {\"standoff\": 15}, \"zerolinecolor\": \"white\", \"zerolinewidth\": 2}, \"yaxis\": {\"automargin\": true, \"gridcolor\": \"white\", \"linecolor\": \"white\", \"ticks\": \"\", \"title\": {\"standoff\": 15}, \"zerolinecolor\": \"white\", \"zerolinewidth\": 2}}}, \"title\": {\"text\": \"Sentiment Distribution\"}, \"width\": 700, \"xaxis\": {\"anchor\": \"y\", \"domain\": [0.0, 1.0], \"showgrid\": false, \"tickfont\": {\"size\": 15}, \"title\": {\"font\": {\"size\": 15}, \"text\": \"Sentiment\"}, \"zeroline\": false}, \"yaxis\": {\"anchor\": \"x\", \"domain\": [0.0, 1.0], \"showgrid\": false, \"tickfont\": {\"size\": 15}, \"title\": {\"font\": {\"size\": 15}, \"text\": \"Sentiment Counts\"}, \"zeroline\": false}},                        {\"responsive\": true}                    ).then(function(){\n",
       "                            \n",
       "var gd = document.getElementById('cc9778f5-8ced-43dd-8029-6eb64c6d52a2');\n",
       "var x = new MutationObserver(function (mutations, observer) {{\n",
       "        var display = window.getComputedStyle(gd).display;\n",
       "        if (!display || display === 'none') {{\n",
       "            console.log([gd, 'removed!']);\n",
       "            Plotly.purge(gd);\n",
       "            observer.disconnect();\n",
       "        }}\n",
       "}});\n",
       "\n",
       "// Listen for the removal of the full notebook cells\n",
       "var notebookContainer = gd.closest('#notebook-container');\n",
       "if (notebookContainer) {{\n",
       "    x.observe(notebookContainer, {childList: true});\n",
       "}}\n",
       "\n",
       "// Listen for the clearing of the current output cell\n",
       "var outputEl = gd.closest('.output');\n",
       "if (outputEl) {{\n",
       "    x.observe(outputEl, {childList: true});\n",
       "}}\n",
       "\n",
       "                        })                };                });            </script>        </div>"
      ]
     },
     "metadata": {},
     "output_type": "display_data"
    }
   ],
   "source": [
    "fig1 = px.bar(sentiment,\n",
    "              x=sentiment.index,\n",
    "              y='sentiment',\n",
    "              color='sentiment'\n",
    "             )\n",
    "fig1.update_layout(\n",
    "            height=400,\n",
    "            width=700,\n",
    "            margin={\"r\":0,\"t\":50,\"l\":0,\"b\":0},\n",
    "            paper_bgcolor='white',\n",
    "            title='Sentiment Distribution',\n",
    "            xaxis_zeroline=False, \n",
    "            yaxis_zeroline=False,\n",
    "    xaxis=dict(\n",
    "            title='Sentiment',\n",
    "            linecolor=None,\n",
    "            titlefont_size=15,\n",
    "            tickfont_size=15,\n",
    "            showgrid=False\n",
    "            ),\n",
    "    yaxis=dict(\n",
    "            title='Sentiment Counts',\n",
    "            linecolor=None,\n",
    "            titlefont_size=15,\n",
    "            tickfont_size=15,\n",
    "            showgrid=False\n",
    "            ),\n",
    "    legend=dict(\n",
    "            x=0,\n",
    "            y=0,\n",
    "            bgcolor='rgba(255, 255, 255, 0)',\n",
    "            bordercolor='rgba(255, 255, 255, 0)'\n",
    "            )\n",
    "                    )\n",
    "fig1.show()"
   ]
  },
  {
   "cell_type": "code",
   "execution_count": 8,
   "id": "b9ed0e8f-0740-43ab-8f86-6093c70bde7d",
   "metadata": {
    "execution": {
     "iopub.execute_input": "2021-06-05T15:53:28.718025Z",
     "iopub.status.busy": "2021-06-05T15:53:28.717571Z",
     "iopub.status.idle": "2021-06-05T15:53:28.729185Z",
     "shell.execute_reply": "2021-06-05T15:53:28.728215Z",
     "shell.execute_reply.started": "2021-06-05T15:53:28.717958Z"
    },
    "tags": []
   },
   "outputs": [],
   "source": [
    "source_top10 = df_news['source'].value_counts(sort=True).nlargest(10)"
   ]
  },
  {
   "cell_type": "code",
   "execution_count": 9,
   "id": "1bd8ab34-6a09-4421-8789-52f3d7a61e14",
   "metadata": {
    "execution": {
     "iopub.execute_input": "2021-06-05T15:53:28.940566Z",
     "iopub.status.busy": "2021-06-05T15:53:28.939956Z",
     "iopub.status.idle": "2021-06-05T15:53:29.062751Z",
     "shell.execute_reply": "2021-06-05T15:53:29.062406Z",
     "shell.execute_reply.started": "2021-06-05T15:53:28.940499Z"
    },
    "tags": []
   },
   "outputs": [
    {
     "data": {
      "application/vnd.plotly.v1+json": {
       "config": {
        "plotlyServerURL": "https://plot.ly"
       },
       "data": [
        {
         "domain": {
          "x": [
           0,
           1
          ],
          "y": [
           0,
           1
          ]
         },
         "hoverinfo": "label+percent",
         "hovertemplate": "index=%{label}<br>source=%{value}<extra></extra>",
         "labels": [
          "CNBC",
          "The Motley Fool",
          "Reuters",
          "InvestorPlace",
          "Zacks Investment Research",
          "Benzinga",
          "Market Watch",
          "CNET",
          "24/7 Wall Street",
          "CNN Business"
         ],
         "legendgroup": "",
         "name": "",
         "showlegend": true,
         "textfont": {
          "size": 12
         },
         "textinfo": "percent+label",
         "textposition": "inside",
         "type": "pie",
         "values": [
          1657,
          1447,
          1228,
          657,
          563,
          548,
          460,
          391,
          324,
          312
         ]
        }
       ],
       "layout": {
        "height": 600,
        "legend": {
         "tracegroupgap": 0
        },
        "piecolorway": [
         "rgb(103,0,31)",
         "rgb(178,24,43)",
         "rgb(214,96,77)",
         "rgb(244,165,130)",
         "rgb(253,219,199)",
         "rgb(247,247,247)",
         "rgb(209,229,240)",
         "rgb(146,197,222)",
         "rgb(67,147,195)",
         "rgb(33,102,172)",
         "rgb(5,48,97)"
        ],
        "template": {
         "data": {
          "bar": [
           {
            "error_x": {
             "color": "#2a3f5f"
            },
            "error_y": {
             "color": "#2a3f5f"
            },
            "marker": {
             "line": {
              "color": "#E5ECF6",
              "width": 0.5
             }
            },
            "type": "bar"
           }
          ],
          "barpolar": [
           {
            "marker": {
             "line": {
              "color": "#E5ECF6",
              "width": 0.5
             }
            },
            "type": "barpolar"
           }
          ],
          "carpet": [
           {
            "aaxis": {
             "endlinecolor": "#2a3f5f",
             "gridcolor": "white",
             "linecolor": "white",
             "minorgridcolor": "white",
             "startlinecolor": "#2a3f5f"
            },
            "baxis": {
             "endlinecolor": "#2a3f5f",
             "gridcolor": "white",
             "linecolor": "white",
             "minorgridcolor": "white",
             "startlinecolor": "#2a3f5f"
            },
            "type": "carpet"
           }
          ],
          "choropleth": [
           {
            "colorbar": {
             "outlinewidth": 0,
             "ticks": ""
            },
            "type": "choropleth"
           }
          ],
          "contour": [
           {
            "colorbar": {
             "outlinewidth": 0,
             "ticks": ""
            },
            "colorscale": [
             [
              0,
              "#0d0887"
             ],
             [
              0.1111111111111111,
              "#46039f"
             ],
             [
              0.2222222222222222,
              "#7201a8"
             ],
             [
              0.3333333333333333,
              "#9c179e"
             ],
             [
              0.4444444444444444,
              "#bd3786"
             ],
             [
              0.5555555555555556,
              "#d8576b"
             ],
             [
              0.6666666666666666,
              "#ed7953"
             ],
             [
              0.7777777777777778,
              "#fb9f3a"
             ],
             [
              0.8888888888888888,
              "#fdca26"
             ],
             [
              1,
              "#f0f921"
             ]
            ],
            "type": "contour"
           }
          ],
          "contourcarpet": [
           {
            "colorbar": {
             "outlinewidth": 0,
             "ticks": ""
            },
            "type": "contourcarpet"
           }
          ],
          "heatmap": [
           {
            "colorbar": {
             "outlinewidth": 0,
             "ticks": ""
            },
            "colorscale": [
             [
              0,
              "#0d0887"
             ],
             [
              0.1111111111111111,
              "#46039f"
             ],
             [
              0.2222222222222222,
              "#7201a8"
             ],
             [
              0.3333333333333333,
              "#9c179e"
             ],
             [
              0.4444444444444444,
              "#bd3786"
             ],
             [
              0.5555555555555556,
              "#d8576b"
             ],
             [
              0.6666666666666666,
              "#ed7953"
             ],
             [
              0.7777777777777778,
              "#fb9f3a"
             ],
             [
              0.8888888888888888,
              "#fdca26"
             ],
             [
              1,
              "#f0f921"
             ]
            ],
            "type": "heatmap"
           }
          ],
          "heatmapgl": [
           {
            "colorbar": {
             "outlinewidth": 0,
             "ticks": ""
            },
            "colorscale": [
             [
              0,
              "#0d0887"
             ],
             [
              0.1111111111111111,
              "#46039f"
             ],
             [
              0.2222222222222222,
              "#7201a8"
             ],
             [
              0.3333333333333333,
              "#9c179e"
             ],
             [
              0.4444444444444444,
              "#bd3786"
             ],
             [
              0.5555555555555556,
              "#d8576b"
             ],
             [
              0.6666666666666666,
              "#ed7953"
             ],
             [
              0.7777777777777778,
              "#fb9f3a"
             ],
             [
              0.8888888888888888,
              "#fdca26"
             ],
             [
              1,
              "#f0f921"
             ]
            ],
            "type": "heatmapgl"
           }
          ],
          "histogram": [
           {
            "marker": {
             "colorbar": {
              "outlinewidth": 0,
              "ticks": ""
             }
            },
            "type": "histogram"
           }
          ],
          "histogram2d": [
           {
            "colorbar": {
             "outlinewidth": 0,
             "ticks": ""
            },
            "colorscale": [
             [
              0,
              "#0d0887"
             ],
             [
              0.1111111111111111,
              "#46039f"
             ],
             [
              0.2222222222222222,
              "#7201a8"
             ],
             [
              0.3333333333333333,
              "#9c179e"
             ],
             [
              0.4444444444444444,
              "#bd3786"
             ],
             [
              0.5555555555555556,
              "#d8576b"
             ],
             [
              0.6666666666666666,
              "#ed7953"
             ],
             [
              0.7777777777777778,
              "#fb9f3a"
             ],
             [
              0.8888888888888888,
              "#fdca26"
             ],
             [
              1,
              "#f0f921"
             ]
            ],
            "type": "histogram2d"
           }
          ],
          "histogram2dcontour": [
           {
            "colorbar": {
             "outlinewidth": 0,
             "ticks": ""
            },
            "colorscale": [
             [
              0,
              "#0d0887"
             ],
             [
              0.1111111111111111,
              "#46039f"
             ],
             [
              0.2222222222222222,
              "#7201a8"
             ],
             [
              0.3333333333333333,
              "#9c179e"
             ],
             [
              0.4444444444444444,
              "#bd3786"
             ],
             [
              0.5555555555555556,
              "#d8576b"
             ],
             [
              0.6666666666666666,
              "#ed7953"
             ],
             [
              0.7777777777777778,
              "#fb9f3a"
             ],
             [
              0.8888888888888888,
              "#fdca26"
             ],
             [
              1,
              "#f0f921"
             ]
            ],
            "type": "histogram2dcontour"
           }
          ],
          "mesh3d": [
           {
            "colorbar": {
             "outlinewidth": 0,
             "ticks": ""
            },
            "type": "mesh3d"
           }
          ],
          "parcoords": [
           {
            "line": {
             "colorbar": {
              "outlinewidth": 0,
              "ticks": ""
             }
            },
            "type": "parcoords"
           }
          ],
          "pie": [
           {
            "automargin": true,
            "type": "pie"
           }
          ],
          "scatter": [
           {
            "marker": {
             "colorbar": {
              "outlinewidth": 0,
              "ticks": ""
             }
            },
            "type": "scatter"
           }
          ],
          "scatter3d": [
           {
            "line": {
             "colorbar": {
              "outlinewidth": 0,
              "ticks": ""
             }
            },
            "marker": {
             "colorbar": {
              "outlinewidth": 0,
              "ticks": ""
             }
            },
            "type": "scatter3d"
           }
          ],
          "scattercarpet": [
           {
            "marker": {
             "colorbar": {
              "outlinewidth": 0,
              "ticks": ""
             }
            },
            "type": "scattercarpet"
           }
          ],
          "scattergeo": [
           {
            "marker": {
             "colorbar": {
              "outlinewidth": 0,
              "ticks": ""
             }
            },
            "type": "scattergeo"
           }
          ],
          "scattergl": [
           {
            "marker": {
             "colorbar": {
              "outlinewidth": 0,
              "ticks": ""
             }
            },
            "type": "scattergl"
           }
          ],
          "scattermapbox": [
           {
            "marker": {
             "colorbar": {
              "outlinewidth": 0,
              "ticks": ""
             }
            },
            "type": "scattermapbox"
           }
          ],
          "scatterpolar": [
           {
            "marker": {
             "colorbar": {
              "outlinewidth": 0,
              "ticks": ""
             }
            },
            "type": "scatterpolar"
           }
          ],
          "scatterpolargl": [
           {
            "marker": {
             "colorbar": {
              "outlinewidth": 0,
              "ticks": ""
             }
            },
            "type": "scatterpolargl"
           }
          ],
          "scatterternary": [
           {
            "marker": {
             "colorbar": {
              "outlinewidth": 0,
              "ticks": ""
             }
            },
            "type": "scatterternary"
           }
          ],
          "surface": [
           {
            "colorbar": {
             "outlinewidth": 0,
             "ticks": ""
            },
            "colorscale": [
             [
              0,
              "#0d0887"
             ],
             [
              0.1111111111111111,
              "#46039f"
             ],
             [
              0.2222222222222222,
              "#7201a8"
             ],
             [
              0.3333333333333333,
              "#9c179e"
             ],
             [
              0.4444444444444444,
              "#bd3786"
             ],
             [
              0.5555555555555556,
              "#d8576b"
             ],
             [
              0.6666666666666666,
              "#ed7953"
             ],
             [
              0.7777777777777778,
              "#fb9f3a"
             ],
             [
              0.8888888888888888,
              "#fdca26"
             ],
             [
              1,
              "#f0f921"
             ]
            ],
            "type": "surface"
           }
          ],
          "table": [
           {
            "cells": {
             "fill": {
              "color": "#EBF0F8"
             },
             "line": {
              "color": "white"
             }
            },
            "header": {
             "fill": {
              "color": "#C8D4E3"
             },
             "line": {
              "color": "white"
             }
            },
            "type": "table"
           }
          ]
         },
         "layout": {
          "annotationdefaults": {
           "arrowcolor": "#2a3f5f",
           "arrowhead": 0,
           "arrowwidth": 1
          },
          "autotypenumbers": "strict",
          "coloraxis": {
           "colorbar": {
            "outlinewidth": 0,
            "ticks": ""
           }
          },
          "colorscale": {
           "diverging": [
            [
             0,
             "#8e0152"
            ],
            [
             0.1,
             "#c51b7d"
            ],
            [
             0.2,
             "#de77ae"
            ],
            [
             0.3,
             "#f1b6da"
            ],
            [
             0.4,
             "#fde0ef"
            ],
            [
             0.5,
             "#f7f7f7"
            ],
            [
             0.6,
             "#e6f5d0"
            ],
            [
             0.7,
             "#b8e186"
            ],
            [
             0.8,
             "#7fbc41"
            ],
            [
             0.9,
             "#4d9221"
            ],
            [
             1,
             "#276419"
            ]
           ],
           "sequential": [
            [
             0,
             "#0d0887"
            ],
            [
             0.1111111111111111,
             "#46039f"
            ],
            [
             0.2222222222222222,
             "#7201a8"
            ],
            [
             0.3333333333333333,
             "#9c179e"
            ],
            [
             0.4444444444444444,
             "#bd3786"
            ],
            [
             0.5555555555555556,
             "#d8576b"
            ],
            [
             0.6666666666666666,
             "#ed7953"
            ],
            [
             0.7777777777777778,
             "#fb9f3a"
            ],
            [
             0.8888888888888888,
             "#fdca26"
            ],
            [
             1,
             "#f0f921"
            ]
           ],
           "sequentialminus": [
            [
             0,
             "#0d0887"
            ],
            [
             0.1111111111111111,
             "#46039f"
            ],
            [
             0.2222222222222222,
             "#7201a8"
            ],
            [
             0.3333333333333333,
             "#9c179e"
            ],
            [
             0.4444444444444444,
             "#bd3786"
            ],
            [
             0.5555555555555556,
             "#d8576b"
            ],
            [
             0.6666666666666666,
             "#ed7953"
            ],
            [
             0.7777777777777778,
             "#fb9f3a"
            ],
            [
             0.8888888888888888,
             "#fdca26"
            ],
            [
             1,
             "#f0f921"
            ]
           ]
          },
          "colorway": [
           "#636efa",
           "#EF553B",
           "#00cc96",
           "#ab63fa",
           "#FFA15A",
           "#19d3f3",
           "#FF6692",
           "#B6E880",
           "#FF97FF",
           "#FECB52"
          ],
          "font": {
           "color": "#2a3f5f"
          },
          "geo": {
           "bgcolor": "white",
           "lakecolor": "white",
           "landcolor": "#E5ECF6",
           "showlakes": true,
           "showland": true,
           "subunitcolor": "white"
          },
          "hoverlabel": {
           "align": "left"
          },
          "hovermode": "closest",
          "mapbox": {
           "style": "light"
          },
          "paper_bgcolor": "white",
          "plot_bgcolor": "#E5ECF6",
          "polar": {
           "angularaxis": {
            "gridcolor": "white",
            "linecolor": "white",
            "ticks": ""
           },
           "bgcolor": "#E5ECF6",
           "radialaxis": {
            "gridcolor": "white",
            "linecolor": "white",
            "ticks": ""
           }
          },
          "scene": {
           "xaxis": {
            "backgroundcolor": "#E5ECF6",
            "gridcolor": "white",
            "gridwidth": 2,
            "linecolor": "white",
            "showbackground": true,
            "ticks": "",
            "zerolinecolor": "white"
           },
           "yaxis": {
            "backgroundcolor": "#E5ECF6",
            "gridcolor": "white",
            "gridwidth": 2,
            "linecolor": "white",
            "showbackground": true,
            "ticks": "",
            "zerolinecolor": "white"
           },
           "zaxis": {
            "backgroundcolor": "#E5ECF6",
            "gridcolor": "white",
            "gridwidth": 2,
            "linecolor": "white",
            "showbackground": true,
            "ticks": "",
            "zerolinecolor": "white"
           }
          },
          "shapedefaults": {
           "line": {
            "color": "#2a3f5f"
           }
          },
          "ternary": {
           "aaxis": {
            "gridcolor": "white",
            "linecolor": "white",
            "ticks": ""
           },
           "baxis": {
            "gridcolor": "white",
            "linecolor": "white",
            "ticks": ""
           },
           "bgcolor": "#E5ECF6",
           "caxis": {
            "gridcolor": "white",
            "linecolor": "white",
            "ticks": ""
           }
          },
          "title": {
           "x": 0.05
          },
          "xaxis": {
           "automargin": true,
           "gridcolor": "white",
           "linecolor": "white",
           "ticks": "",
           "title": {
            "standoff": 15
           },
           "zerolinecolor": "white",
           "zerolinewidth": 2
          },
          "yaxis": {
           "automargin": true,
           "gridcolor": "white",
           "linecolor": "white",
           "ticks": "",
           "title": {
            "standoff": 15
           },
           "zerolinecolor": "white",
           "zerolinewidth": 2
          }
         }
        },
        "title": {
         "text": "Top 10 news source"
        },
        "width": 800
       }
      },
      "image/png": "[encoded data removed]",
      "text/html": [
       "<div>                            <div id=\"e04cebb5-f17f-418b-b7cf-f6e708c35c14\" class=\"plotly-graph-div\" style=\"height:600px; width:800px;\"></div>            <script type=\"text/javascript\">                require([\"plotly\"], function(Plotly) {                    window.PLOTLYENV=window.PLOTLYENV || {};                                    if (document.getElementById(\"e04cebb5-f17f-418b-b7cf-f6e708c35c14\")) {                    Plotly.newPlot(                        \"e04cebb5-f17f-418b-b7cf-f6e708c35c14\",                        [{\"domain\": {\"x\": [0.0, 1.0], \"y\": [0.0, 1.0]}, \"hoverinfo\": \"label+percent\", \"hovertemplate\": \"index=%{label}<br>source=%{value}<extra></extra>\", \"labels\": [\"CNBC\", \"The Motley Fool\", \"Reuters\", \"InvestorPlace\", \"Zacks Investment Research\", \"Benzinga\", \"Market Watch\", \"CNET\", \"24/7 Wall Street\", \"CNN Business\"], \"legendgroup\": \"\", \"name\": \"\", \"showlegend\": true, \"textfont\": {\"size\": 12}, \"textinfo\": \"percent+label\", \"textposition\": \"inside\", \"type\": \"pie\", \"values\": [1657, 1447, 1228, 657, 563, 548, 460, 391, 324, 312]}],                        {\"height\": 600, \"legend\": {\"tracegroupgap\": 0}, \"piecolorway\": [\"rgb(103,0,31)\", \"rgb(178,24,43)\", \"rgb(214,96,77)\", \"rgb(244,165,130)\", \"rgb(253,219,199)\", \"rgb(247,247,247)\", \"rgb(209,229,240)\", \"rgb(146,197,222)\", \"rgb(67,147,195)\", \"rgb(33,102,172)\", \"rgb(5,48,97)\"], \"template\": {\"data\": {\"bar\": [{\"error_x\": {\"color\": \"#2a3f5f\"}, \"error_y\": {\"color\": \"#2a3f5f\"}, \"marker\": {\"line\": {\"color\": \"#E5ECF6\", \"width\": 0.5}}, \"type\": \"bar\"}], \"barpolar\": [{\"marker\": {\"line\": {\"color\": \"#E5ECF6\", \"width\": 0.5}}, \"type\": \"barpolar\"}], \"carpet\": [{\"aaxis\": {\"endlinecolor\": \"#2a3f5f\", \"gridcolor\": \"white\", \"linecolor\": \"white\", \"minorgridcolor\": \"white\", \"startlinecolor\": \"#2a3f5f\"}, \"baxis\": {\"endlinecolor\": \"#2a3f5f\", \"gridcolor\": \"white\", \"linecolor\": \"white\", \"minorgridcolor\": \"white\", \"startlinecolor\": \"#2a3f5f\"}, \"type\": \"carpet\"}], \"choropleth\": [{\"colorbar\": {\"outlinewidth\": 0, \"ticks\": \"\"}, \"type\": \"choropleth\"}], \"contour\": [{\"colorbar\": {\"outlinewidth\": 0, \"ticks\": \"\"}, \"colorscale\": [[0.0, \"#0d0887\"], [0.1111111111111111, \"#46039f\"], [0.2222222222222222, \"#7201a8\"], [0.3333333333333333, \"#9c179e\"], [0.4444444444444444, \"#bd3786\"], [0.5555555555555556, \"#d8576b\"], [0.6666666666666666, \"#ed7953\"], [0.7777777777777778, \"#fb9f3a\"], [0.8888888888888888, \"#fdca26\"], [1.0, \"#f0f921\"]], \"type\": \"contour\"}], \"contourcarpet\": [{\"colorbar\": {\"outlinewidth\": 0, \"ticks\": \"\"}, \"type\": \"contourcarpet\"}], \"heatmap\": [{\"colorbar\": {\"outlinewidth\": 0, \"ticks\": \"\"}, \"colorscale\": [[0.0, \"#0d0887\"], [0.1111111111111111, \"#46039f\"], [0.2222222222222222, \"#7201a8\"], [0.3333333333333333, \"#9c179e\"], [0.4444444444444444, \"#bd3786\"], [0.5555555555555556, \"#d8576b\"], [0.6666666666666666, \"#ed7953\"], [0.7777777777777778, \"#fb9f3a\"], [0.8888888888888888, \"#fdca26\"], [1.0, \"#f0f921\"]], \"type\": \"heatmap\"}], \"heatmapgl\": [{\"colorbar\": {\"outlinewidth\": 0, \"ticks\": \"\"}, \"colorscale\": [[0.0, \"#0d0887\"], [0.1111111111111111, \"#46039f\"], [0.2222222222222222, \"#7201a8\"], [0.3333333333333333, \"#9c179e\"], [0.4444444444444444, \"#bd3786\"], [0.5555555555555556, \"#d8576b\"], [0.6666666666666666, \"#ed7953\"], [0.7777777777777778, \"#fb9f3a\"], [0.8888888888888888, \"#fdca26\"], [1.0, \"#f0f921\"]], \"type\": \"heatmapgl\"}], \"histogram\": [{\"marker\": {\"colorbar\": {\"outlinewidth\": 0, \"ticks\": \"\"}}, \"type\": \"histogram\"}], \"histogram2d\": [{\"colorbar\": {\"outlinewidth\": 0, \"ticks\": \"\"}, \"colorscale\": [[0.0, \"#0d0887\"], [0.1111111111111111, \"#46039f\"], [0.2222222222222222, \"#7201a8\"], [0.3333333333333333, \"#9c179e\"], [0.4444444444444444, \"#bd3786\"], [0.5555555555555556, \"#d8576b\"], [0.6666666666666666, \"#ed7953\"], [0.7777777777777778, \"#fb9f3a\"], [0.8888888888888888, \"#fdca26\"], [1.0, \"#f0f921\"]], \"type\": \"histogram2d\"}], \"histogram2dcontour\": [{\"colorbar\": {\"outlinewidth\": 0, \"ticks\": \"\"}, \"colorscale\": [[0.0, \"#0d0887\"], [0.1111111111111111, \"#46039f\"], [0.2222222222222222, \"#7201a8\"], [0.3333333333333333, \"#9c179e\"], [0.4444444444444444, \"#bd3786\"], [0.5555555555555556, \"#d8576b\"], [0.6666666666666666, \"#ed7953\"], [0.7777777777777778, \"#fb9f3a\"], [0.8888888888888888, \"#fdca26\"], [1.0, \"#f0f921\"]], \"type\": \"histogram2dcontour\"}], \"mesh3d\": [{\"colorbar\": {\"outlinewidth\": 0, \"ticks\": \"\"}, \"type\": \"mesh3d\"}], \"parcoords\": [{\"line\": {\"colorbar\": {\"outlinewidth\": 0, \"ticks\": \"\"}}, \"type\": \"parcoords\"}], \"pie\": [{\"automargin\": true, \"type\": \"pie\"}], \"scatter\": [{\"marker\": {\"colorbar\": {\"outlinewidth\": 0, \"ticks\": \"\"}}, \"type\": \"scatter\"}], \"scatter3d\": [{\"line\": {\"colorbar\": {\"outlinewidth\": 0, \"ticks\": \"\"}}, \"marker\": {\"colorbar\": {\"outlinewidth\": 0, \"ticks\": \"\"}}, \"type\": \"scatter3d\"}], \"scattercarpet\": [{\"marker\": {\"colorbar\": {\"outlinewidth\": 0, \"ticks\": \"\"}}, \"type\": \"scattercarpet\"}], \"scattergeo\": [{\"marker\": {\"colorbar\": {\"outlinewidth\": 0, \"ticks\": \"\"}}, \"type\": \"scattergeo\"}], \"scattergl\": [{\"marker\": {\"colorbar\": {\"outlinewidth\": 0, \"ticks\": \"\"}}, \"type\": \"scattergl\"}], \"scattermapbox\": [{\"marker\": {\"colorbar\": {\"outlinewidth\": 0, \"ticks\": \"\"}}, \"type\": \"scattermapbox\"}], \"scatterpolar\": [{\"marker\": {\"colorbar\": {\"outlinewidth\": 0, \"ticks\": \"\"}}, \"type\": \"scatterpolar\"}], \"scatterpolargl\": [{\"marker\": {\"colorbar\": {\"outlinewidth\": 0, \"ticks\": \"\"}}, \"type\": \"scatterpolargl\"}], \"scatterternary\": [{\"marker\": {\"colorbar\": {\"outlinewidth\": 0, \"ticks\": \"\"}}, \"type\": \"scatterternary\"}], \"surface\": [{\"colorbar\": {\"outlinewidth\": 0, \"ticks\": \"\"}, \"colorscale\": [[0.0, \"#0d0887\"], [0.1111111111111111, \"#46039f\"], [0.2222222222222222, \"#7201a8\"], [0.3333333333333333, \"#9c179e\"], [0.4444444444444444, \"#bd3786\"], [0.5555555555555556, \"#d8576b\"], [0.6666666666666666, \"#ed7953\"], [0.7777777777777778, \"#fb9f3a\"], [0.8888888888888888, \"#fdca26\"], [1.0, \"#f0f921\"]], \"type\": \"surface\"}], \"table\": [{\"cells\": {\"fill\": {\"color\": \"#EBF0F8\"}, \"line\": {\"color\": \"white\"}}, \"header\": {\"fill\": {\"color\": \"#C8D4E3\"}, \"line\": {\"color\": \"white\"}}, \"type\": \"table\"}]}, \"layout\": {\"annotationdefaults\": {\"arrowcolor\": \"#2a3f5f\", \"arrowhead\": 0, \"arrowwidth\": 1}, \"autotypenumbers\": \"strict\", \"coloraxis\": {\"colorbar\": {\"outlinewidth\": 0, \"ticks\": \"\"}}, \"colorscale\": {\"diverging\": [[0, \"#8e0152\"], [0.1, \"#c51b7d\"], [0.2, \"#de77ae\"], [0.3, \"#f1b6da\"], [0.4, \"#fde0ef\"], [0.5, \"#f7f7f7\"], [0.6, \"#e6f5d0\"], [0.7, \"#b8e186\"], [0.8, \"#7fbc41\"], [0.9, \"#4d9221\"], [1, \"#276419\"]], \"sequential\": [[0.0, \"#0d0887\"], [0.1111111111111111, \"#46039f\"], [0.2222222222222222, \"#7201a8\"], [0.3333333333333333, \"#9c179e\"], [0.4444444444444444, \"#bd3786\"], [0.5555555555555556, \"#d8576b\"], [0.6666666666666666, \"#ed7953\"], [0.7777777777777778, \"#fb9f3a\"], [0.8888888888888888, \"#fdca26\"], [1.0, \"#f0f921\"]], \"sequentialminus\": [[0.0, \"#0d0887\"], [0.1111111111111111, \"#46039f\"], [0.2222222222222222, \"#7201a8\"], [0.3333333333333333, \"#9c179e\"], [0.4444444444444444, \"#bd3786\"], [0.5555555555555556, \"#d8576b\"], [0.6666666666666666, \"#ed7953\"], [0.7777777777777778, \"#fb9f3a\"], [0.8888888888888888, \"#fdca26\"], [1.0, \"#f0f921\"]]}, \"colorway\": [\"#636efa\", \"#EF553B\", \"#00cc96\", \"#ab63fa\", \"#FFA15A\", \"#19d3f3\", \"#FF6692\", \"#B6E880\", \"#FF97FF\", \"#FECB52\"], \"font\": {\"color\": \"#2a3f5f\"}, \"geo\": {\"bgcolor\": \"white\", \"lakecolor\": \"white\", \"landcolor\": \"#E5ECF6\", \"showlakes\": true, \"showland\": true, \"subunitcolor\": \"white\"}, \"hoverlabel\": {\"align\": \"left\"}, \"hovermode\": \"closest\", \"mapbox\": {\"style\": \"light\"}, \"paper_bgcolor\": \"white\", \"plot_bgcolor\": \"#E5ECF6\", \"polar\": {\"angularaxis\": {\"gridcolor\": \"white\", \"linecolor\": \"white\", \"ticks\": \"\"}, \"bgcolor\": \"#E5ECF6\", \"radialaxis\": {\"gridcolor\": \"white\", \"linecolor\": \"white\", \"ticks\": \"\"}}, \"scene\": {\"xaxis\": {\"backgroundcolor\": \"#E5ECF6\", \"gridcolor\": \"white\", \"gridwidth\": 2, \"linecolor\": \"white\", \"showbackground\": true, \"ticks\": \"\", \"zerolinecolor\": \"white\"}, \"yaxis\": {\"backgroundcolor\": \"#E5ECF6\", \"gridcolor\": \"white\", \"gridwidth\": 2, \"linecolor\": \"white\", \"showbackground\": true, \"ticks\": \"\", \"zerolinecolor\": \"white\"}, \"zaxis\": {\"backgroundcolor\": \"#E5ECF6\", \"gridcolor\": \"white\", \"gridwidth\": 2, \"linecolor\": \"white\", \"showbackground\": true, \"ticks\": \"\", \"zerolinecolor\": \"white\"}}, \"shapedefaults\": {\"line\": {\"color\": \"#2a3f5f\"}}, \"ternary\": {\"aaxis\": {\"gridcolor\": \"white\", \"linecolor\": \"white\", \"ticks\": \"\"}, \"baxis\": {\"gridcolor\": \"white\", \"linecolor\": \"white\", \"ticks\": \"\"}, \"bgcolor\": \"#E5ECF6\", \"caxis\": {\"gridcolor\": \"white\", \"linecolor\": \"white\", \"ticks\": \"\"}}, \"title\": {\"x\": 0.05}, \"xaxis\": {\"automargin\": true, \"gridcolor\": \"white\", \"linecolor\": \"white\", \"ticks\": \"\", \"title\": {\"standoff\": 15}, \"zerolinecolor\": \"white\", \"zerolinewidth\": 2}, \"yaxis\": {\"automargin\": true, \"gridcolor\": \"white\", \"linecolor\": \"white\", \"ticks\": \"\", \"title\": {\"standoff\": 15}, \"zerolinecolor\": \"white\", \"zerolinewidth\": 2}}}, \"title\": {\"text\": \"Top 10 news source\"}, \"width\": 800},                        {\"responsive\": true}                    ).then(function(){\n",
       "                            \n",
       "var gd = document.getElementById('e04cebb5-f17f-418b-b7cf-f6e708c35c14');\n",
       "var x = new MutationObserver(function (mutations, observer) {{\n",
       "        var display = window.getComputedStyle(gd).display;\n",
       "        if (!display || display === 'none') {{\n",
       "            console.log([gd, 'removed!']);\n",
       "            Plotly.purge(gd);\n",
       "            observer.disconnect();\n",
       "        }}\n",
       "}});\n",
       "\n",
       "// Listen for the removal of the full notebook cells\n",
       "var notebookContainer = gd.closest('#notebook-container');\n",
       "if (notebookContainer) {{\n",
       "    x.observe(notebookContainer, {childList: true});\n",
       "}}\n",
       "\n",
       "// Listen for the clearing of the current output cell\n",
       "var outputEl = gd.closest('.output');\n",
       "if (outputEl) {{\n",
       "    x.observe(outputEl, {childList: true});\n",
       "}}\n",
       "\n",
       "                        })                };                });            </script>        </div>"
      ]
     },
     "metadata": {},
     "output_type": "display_data"
    }
   ],
   "source": [
    "fig2 = px.pie(source_top10,\n",
    "              values='source',\n",
    "              names=source_top10.index,\n",
    "              title='Top 10 news source',\n",
    "              color_discrete_sequence=px.colors.sequential.RdBu,\n",
    "              width=800,\n",
    "              height=600,\n",
    "              labels=source_top10.index\n",
    "             )\n",
    "\n",
    "fig2.update_traces(hoverinfo='label+percent',\n",
    "                   textfont_size=12,\n",
    "                   textposition='inside',\n",
    "                   textinfo='percent+label'\n",
    "                  )\n",
    "fig2.show()"
   ]
  },
  {
   "cell_type": "code",
   "execution_count": 10,
   "id": "8deeea53-5c59-408d-b750-857151742023",
   "metadata": {
    "execution": {
     "iopub.execute_input": "2021-06-05T15:53:30.604803Z",
     "iopub.status.busy": "2021-06-05T15:53:30.604444Z",
     "iopub.status.idle": "2021-06-05T15:53:30.626254Z",
     "shell.execute_reply": "2021-06-05T15:53:30.625258Z",
     "shell.execute_reply.started": "2021-06-05T15:53:30.604767Z"
    },
    "tags": []
   },
   "outputs": [],
   "source": [
    "sent_vs_source_df = (\n",
    "    df_news.groupby(['sentiment','source'])\n",
    "    .size().reset_index()\n",
    "    .rename(columns={0:'count'})\n",
    "    .query(\"count > 50\")\n",
    "                    )"
   ]
  },
  {
   "cell_type": "code",
   "execution_count": 11,
   "id": "b2f0cc09-0f3f-4449-a230-5ddf6f14ef84",
   "metadata": {
    "execution": {
     "iopub.execute_input": "2021-06-05T15:53:30.858201Z",
     "iopub.status.busy": "2021-06-05T15:53:30.857834Z",
     "iopub.status.idle": "2021-06-05T15:53:30.929694Z",
     "shell.execute_reply": "2021-06-05T15:53:30.929309Z",
     "shell.execute_reply.started": "2021-06-05T15:53:30.858165Z"
    },
    "tags": []
   },
   "outputs": [
    {
     "data": {
      "application/vnd.plotly.v1+json": {
       "config": {
        "plotlyServerURL": "https://plot.ly"
       },
       "data": [
        {
         "alignmentgroup": "True",
         "hovertemplate": "sentiment=Negative<br>source=%{x}<br>count=%{text}<extra></extra>",
         "legendgroup": "Negative",
         "marker": {
          "color": "#636efa"
         },
         "name": "Negative",
         "offsetgroup": "Negative",
         "orientation": "v",
         "showlegend": true,
         "text": [
          76,
          111,
          424,
          88,
          135,
          77,
          55,
          85,
          54,
          148,
          290,
          208,
          66
         ],
         "textposition": "inside",
         "texttemplate": "%{text:.3s}",
         "type": "bar",
         "x": [
          "24/7 Wall Street",
          "Benzinga",
          "CNBC",
          "CNET",
          "CNN Business",
          "Forbes",
          "GuruFocus",
          "InvestorPlace",
          "Investors Business Daily",
          "Market Watch",
          "Reuters",
          "The Motley Fool",
          "Zacks Investment Research"
         ],
         "xaxis": "x",
         "y": [
          76,
          111,
          424,
          88,
          135,
          77,
          55,
          85,
          54,
          148,
          290,
          208,
          66
         ],
         "yaxis": "y"
        },
        {
         "alignmentgroup": "True",
         "hovertemplate": "sentiment=Neutral<br>source=%{x}<br>count=%{text}<extra></extra>",
         "legendgroup": "Neutral",
         "marker": {
          "color": "#EF553B"
         },
         "name": "Neutral",
         "offsetgroup": "Neutral",
         "orientation": "v",
         "showlegend": true,
         "text": [
          102,
          184,
          424,
          184,
          81,
          103,
          195,
          53,
          114,
          71,
          599,
          455,
          148
         ],
         "textposition": "inside",
         "texttemplate": "%{text:.3s}",
         "type": "bar",
         "x": [
          "24/7 Wall Street",
          "Benzinga",
          "CNBC",
          "CNET",
          "CNN Business",
          "Forbes",
          "InvestorPlace",
          "Investors Business Daily",
          "Market Watch",
          "New York Post",
          "Reuters",
          "The Motley Fool",
          "Zacks Investment Research"
         ],
         "xaxis": "x",
         "y": [
          102,
          184,
          424,
          184,
          81,
          103,
          195,
          53,
          114,
          71,
          599,
          455,
          148
         ],
         "yaxis": "y"
        },
        {
         "alignmentgroup": "True",
         "hovertemplate": "sentiment=Positive<br>source=%{x}<br>count=%{text}<extra></extra>",
         "legendgroup": "Positive",
         "marker": {
          "color": "#00cc96"
         },
         "name": "Positive",
         "offsetgroup": "Positive",
         "orientation": "v",
         "showlegend": true,
         "text": [
          146,
          253,
          809,
          119,
          96,
          127,
          67,
          73,
          58,
          377,
          140,
          198,
          64,
          339,
          784,
          349
         ],
         "textposition": "inside",
         "texttemplate": "%{text:.3s}",
         "type": "bar",
         "x": [
          "24/7 Wall Street",
          "Benzinga",
          "CNBC",
          "CNET",
          "CNN Business",
          "Forbes",
          "Fox Business",
          "GuruFocus",
          "Investopedia",
          "InvestorPlace",
          "Investors Business Daily",
          "Market Watch",
          "New York Post",
          "Reuters",
          "The Motley Fool",
          "Zacks Investment Research"
         ],
         "xaxis": "x",
         "y": [
          146,
          253,
          809,
          119,
          96,
          127,
          67,
          73,
          58,
          377,
          140,
          198,
          64,
          339,
          784,
          349
         ],
         "yaxis": "y"
        }
       ],
       "layout": {
        "barmode": "relative",
        "height": 500,
        "legend": {
         "bgcolor": "rgba(255, 255, 255, 0)",
         "bordercolor": "rgba(255, 255, 255, 0)",
         "title": {
          "text": "sentiment"
         },
         "tracegroupgap": 0,
         "x": 0.89,
         "xanchor": "left",
         "y": 0.99,
         "yanchor": "top"
        },
        "margin": {
         "b": 50,
         "l": 50,
         "r": 50,
         "t": 50
        },
        "template": {
         "data": {
          "bar": [
           {
            "error_x": {
             "color": "#2a3f5f"
            },
            "error_y": {
             "color": "#2a3f5f"
            },
            "marker": {
             "line": {
              "color": "#E5ECF6",
              "width": 0.5
             }
            },
            "type": "bar"
           }
          ],
          "barpolar": [
           {
            "marker": {
             "line": {
              "color": "#E5ECF6",
              "width": 0.5
             }
            },
            "type": "barpolar"
           }
          ],
          "carpet": [
           {
            "aaxis": {
             "endlinecolor": "#2a3f5f",
             "gridcolor": "white",
             "linecolor": "white",
             "minorgridcolor": "white",
             "startlinecolor": "#2a3f5f"
            },
            "baxis": {
             "endlinecolor": "#2a3f5f",
             "gridcolor": "white",
             "linecolor": "white",
             "minorgridcolor": "white",
             "startlinecolor": "#2a3f5f"
            },
            "type": "carpet"
           }
          ],
          "choropleth": [
           {
            "colorbar": {
             "outlinewidth": 0,
             "ticks": ""
            },
            "type": "choropleth"
           }
          ],
          "contour": [
           {
            "colorbar": {
             "outlinewidth": 0,
             "ticks": ""
            },
            "colorscale": [
             [
              0,
              "#0d0887"
             ],
             [
              0.1111111111111111,
              "#46039f"
             ],
             [
              0.2222222222222222,
              "#7201a8"
             ],
             [
              0.3333333333333333,
              "#9c179e"
             ],
             [
              0.4444444444444444,
              "#bd3786"
             ],
             [
              0.5555555555555556,
              "#d8576b"
             ],
             [
              0.6666666666666666,
              "#ed7953"
             ],
             [
              0.7777777777777778,
              "#fb9f3a"
             ],
             [
              0.8888888888888888,
              "#fdca26"
             ],
             [
              1,
              "#f0f921"
             ]
            ],
            "type": "contour"
           }
          ],
          "contourcarpet": [
           {
            "colorbar": {
             "outlinewidth": 0,
             "ticks": ""
            },
            "type": "contourcarpet"
           }
          ],
          "heatmap": [
           {
            "colorbar": {
             "outlinewidth": 0,
             "ticks": ""
            },
            "colorscale": [
             [
              0,
              "#0d0887"
             ],
             [
              0.1111111111111111,
              "#46039f"
             ],
             [
              0.2222222222222222,
              "#7201a8"
             ],
             [
              0.3333333333333333,
              "#9c179e"
             ],
             [
              0.4444444444444444,
              "#bd3786"
             ],
             [
              0.5555555555555556,
              "#d8576b"
             ],
             [
              0.6666666666666666,
              "#ed7953"
             ],
             [
              0.7777777777777778,
              "#fb9f3a"
             ],
             [
              0.8888888888888888,
              "#fdca26"
             ],
             [
              1,
              "#f0f921"
             ]
            ],
            "type": "heatmap"
           }
          ],
          "heatmapgl": [
           {
            "colorbar": {
             "outlinewidth": 0,
             "ticks": ""
            },
            "colorscale": [
             [
              0,
              "#0d0887"
             ],
             [
              0.1111111111111111,
              "#46039f"
             ],
             [
              0.2222222222222222,
              "#7201a8"
             ],
             [
              0.3333333333333333,
              "#9c179e"
             ],
             [
              0.4444444444444444,
              "#bd3786"
             ],
             [
              0.5555555555555556,
              "#d8576b"
             ],
             [
              0.6666666666666666,
              "#ed7953"
             ],
             [
              0.7777777777777778,
              "#fb9f3a"
             ],
             [
              0.8888888888888888,
              "#fdca26"
             ],
             [
              1,
              "#f0f921"
             ]
            ],
            "type": "heatmapgl"
           }
          ],
          "histogram": [
           {
            "marker": {
             "colorbar": {
              "outlinewidth": 0,
              "ticks": ""
             }
            },
            "type": "histogram"
           }
          ],
          "histogram2d": [
           {
            "colorbar": {
             "outlinewidth": 0,
             "ticks": ""
            },
            "colorscale": [
             [
              0,
              "#0d0887"
             ],
             [
              0.1111111111111111,
              "#46039f"
             ],
             [
              0.2222222222222222,
              "#7201a8"
             ],
             [
              0.3333333333333333,
              "#9c179e"
             ],
             [
              0.4444444444444444,
              "#bd3786"
             ],
             [
              0.5555555555555556,
              "#d8576b"
             ],
             [
              0.6666666666666666,
              "#ed7953"
             ],
             [
              0.7777777777777778,
              "#fb9f3a"
             ],
             [
              0.8888888888888888,
              "#fdca26"
             ],
             [
              1,
              "#f0f921"
             ]
            ],
            "type": "histogram2d"
           }
          ],
          "histogram2dcontour": [
           {
            "colorbar": {
             "outlinewidth": 0,
             "ticks": ""
            },
            "colorscale": [
             [
              0,
              "#0d0887"
             ],
             [
              0.1111111111111111,
              "#46039f"
             ],
             [
              0.2222222222222222,
              "#7201a8"
             ],
             [
              0.3333333333333333,
              "#9c179e"
             ],
             [
              0.4444444444444444,
              "#bd3786"
             ],
             [
              0.5555555555555556,
              "#d8576b"
             ],
             [
              0.6666666666666666,
              "#ed7953"
             ],
             [
              0.7777777777777778,
              "#fb9f3a"
             ],
             [
              0.8888888888888888,
              "#fdca26"
             ],
             [
              1,
              "#f0f921"
             ]
            ],
            "type": "histogram2dcontour"
           }
          ],
          "mesh3d": [
           {
            "colorbar": {
             "outlinewidth": 0,
             "ticks": ""
            },
            "type": "mesh3d"
           }
          ],
          "parcoords": [
           {
            "line": {
             "colorbar": {
              "outlinewidth": 0,
              "ticks": ""
             }
            },
            "type": "parcoords"
           }
          ],
          "pie": [
           {
            "automargin": true,
            "type": "pie"
           }
          ],
          "scatter": [
           {
            "marker": {
             "colorbar": {
              "outlinewidth": 0,
              "ticks": ""
             }
            },
            "type": "scatter"
           }
          ],
          "scatter3d": [
           {
            "line": {
             "colorbar": {
              "outlinewidth": 0,
              "ticks": ""
             }
            },
            "marker": {
             "colorbar": {
              "outlinewidth": 0,
              "ticks": ""
             }
            },
            "type": "scatter3d"
           }
          ],
          "scattercarpet": [
           {
            "marker": {
             "colorbar": {
              "outlinewidth": 0,
              "ticks": ""
             }
            },
            "type": "scattercarpet"
           }
          ],
          "scattergeo": [
           {
            "marker": {
             "colorbar": {
              "outlinewidth": 0,
              "ticks": ""
             }
            },
            "type": "scattergeo"
           }
          ],
          "scattergl": [
           {
            "marker": {
             "colorbar": {
              "outlinewidth": 0,
              "ticks": ""
             }
            },
            "type": "scattergl"
           }
          ],
          "scattermapbox": [
           {
            "marker": {
             "colorbar": {
              "outlinewidth": 0,
              "ticks": ""
             }
            },
            "type": "scattermapbox"
           }
          ],
          "scatterpolar": [
           {
            "marker": {
             "colorbar": {
              "outlinewidth": 0,
              "ticks": ""
             }
            },
            "type": "scatterpolar"
           }
          ],
          "scatterpolargl": [
           {
            "marker": {
             "colorbar": {
              "outlinewidth": 0,
              "ticks": ""
             }
            },
            "type": "scatterpolargl"
           }
          ],
          "scatterternary": [
           {
            "marker": {
             "colorbar": {
              "outlinewidth": 0,
              "ticks": ""
             }
            },
            "type": "scatterternary"
           }
          ],
          "surface": [
           {
            "colorbar": {
             "outlinewidth": 0,
             "ticks": ""
            },
            "colorscale": [
             [
              0,
              "#0d0887"
             ],
             [
              0.1111111111111111,
              "#46039f"
             ],
             [
              0.2222222222222222,
              "#7201a8"
             ],
             [
              0.3333333333333333,
              "#9c179e"
             ],
             [
              0.4444444444444444,
              "#bd3786"
             ],
             [
              0.5555555555555556,
              "#d8576b"
             ],
             [
              0.6666666666666666,
              "#ed7953"
             ],
             [
              0.7777777777777778,
              "#fb9f3a"
             ],
             [
              0.8888888888888888,
              "#fdca26"
             ],
             [
              1,
              "#f0f921"
             ]
            ],
            "type": "surface"
           }
          ],
          "table": [
           {
            "cells": {
             "fill": {
              "color": "#EBF0F8"
             },
             "line": {
              "color": "white"
             }
            },
            "header": {
             "fill": {
              "color": "#C8D4E3"
             },
             "line": {
              "color": "white"
             }
            },
            "type": "table"
           }
          ]
         },
         "layout": {
          "annotationdefaults": {
           "arrowcolor": "#2a3f5f",
           "arrowhead": 0,
           "arrowwidth": 1
          },
          "autotypenumbers": "strict",
          "coloraxis": {
           "colorbar": {
            "outlinewidth": 0,
            "ticks": ""
           }
          },
          "colorscale": {
           "diverging": [
            [
             0,
             "#8e0152"
            ],
            [
             0.1,
             "#c51b7d"
            ],
            [
             0.2,
             "#de77ae"
            ],
            [
             0.3,
             "#f1b6da"
            ],
            [
             0.4,
             "#fde0ef"
            ],
            [
             0.5,
             "#f7f7f7"
            ],
            [
             0.6,
             "#e6f5d0"
            ],
            [
             0.7,
             "#b8e186"
            ],
            [
             0.8,
             "#7fbc41"
            ],
            [
             0.9,
             "#4d9221"
            ],
            [
             1,
             "#276419"
            ]
           ],
           "sequential": [
            [
             0,
             "#0d0887"
            ],
            [
             0.1111111111111111,
             "#46039f"
            ],
            [
             0.2222222222222222,
             "#7201a8"
            ],
            [
             0.3333333333333333,
             "#9c179e"
            ],
            [
             0.4444444444444444,
             "#bd3786"
            ],
            [
             0.5555555555555556,
             "#d8576b"
            ],
            [
             0.6666666666666666,
             "#ed7953"
            ],
            [
             0.7777777777777778,
             "#fb9f3a"
            ],
            [
             0.8888888888888888,
             "#fdca26"
            ],
            [
             1,
             "#f0f921"
            ]
           ],
           "sequentialminus": [
            [
             0,
             "#0d0887"
            ],
            [
             0.1111111111111111,
             "#46039f"
            ],
            [
             0.2222222222222222,
             "#7201a8"
            ],
            [
             0.3333333333333333,
             "#9c179e"
            ],
            [
             0.4444444444444444,
             "#bd3786"
            ],
            [
             0.5555555555555556,
             "#d8576b"
            ],
            [
             0.6666666666666666,
             "#ed7953"
            ],
            [
             0.7777777777777778,
             "#fb9f3a"
            ],
            [
             0.8888888888888888,
             "#fdca26"
            ],
            [
             1,
             "#f0f921"
            ]
           ]
          },
          "colorway": [
           "#636efa",
           "#EF553B",
           "#00cc96",
           "#ab63fa",
           "#FFA15A",
           "#19d3f3",
           "#FF6692",
           "#B6E880",
           "#FF97FF",
           "#FECB52"
          ],
          "font": {
           "color": "#2a3f5f"
          },
          "geo": {
           "bgcolor": "white",
           "lakecolor": "white",
           "landcolor": "#E5ECF6",
           "showlakes": true,
           "showland": true,
           "subunitcolor": "white"
          },
          "hoverlabel": {
           "align": "left"
          },
          "hovermode": "closest",
          "mapbox": {
           "style": "light"
          },
          "paper_bgcolor": "white",
          "plot_bgcolor": "#E5ECF6",
          "polar": {
           "angularaxis": {
            "gridcolor": "white",
            "linecolor": "white",
            "ticks": ""
           },
           "bgcolor": "#E5ECF6",
           "radialaxis": {
            "gridcolor": "white",
            "linecolor": "white",
            "ticks": ""
           }
          },
          "scene": {
           "xaxis": {
            "backgroundcolor": "#E5ECF6",
            "gridcolor": "white",
            "gridwidth": 2,
            "linecolor": "white",
            "showbackground": true,
            "ticks": "",
            "zerolinecolor": "white"
           },
           "yaxis": {
            "backgroundcolor": "#E5ECF6",
            "gridcolor": "white",
            "gridwidth": 2,
            "linecolor": "white",
            "showbackground": true,
            "ticks": "",
            "zerolinecolor": "white"
           },
           "zaxis": {
            "backgroundcolor": "#E5ECF6",
            "gridcolor": "white",
            "gridwidth": 2,
            "linecolor": "white",
            "showbackground": true,
            "ticks": "",
            "zerolinecolor": "white"
           }
          },
          "shapedefaults": {
           "line": {
            "color": "#2a3f5f"
           }
          },
          "ternary": {
           "aaxis": {
            "gridcolor": "white",
            "linecolor": "white",
            "ticks": ""
           },
           "baxis": {
            "gridcolor": "white",
            "linecolor": "white",
            "ticks": ""
           },
           "bgcolor": "#E5ECF6",
           "caxis": {
            "gridcolor": "white",
            "linecolor": "white",
            "ticks": ""
           }
          },
          "title": {
           "x": 0.05
          },
          "xaxis": {
           "automargin": true,
           "gridcolor": "white",
           "linecolor": "white",
           "ticks": "",
           "title": {
            "standoff": 15
           },
           "zerolinecolor": "white",
           "zerolinewidth": 2
          },
          "yaxis": {
           "automargin": true,
           "gridcolor": "white",
           "linecolor": "white",
           "ticks": "",
           "title": {
            "standoff": 15
           },
           "zerolinecolor": "white",
           "zerolinewidth": 2
          }
         }
        },
        "title": {
         "text": "News Sources vs Sentiment"
        },
        "uniformtext": {
         "minsize": 6
        },
        "width": 1000,
        "xaxis": {
         "anchor": "y",
         "autorange": true,
         "domain": [
          0,
          1
         ],
         "range": [
          -0.5,
          15.5
         ],
         "showgrid": false,
         "tickangle": -45,
         "tickfont": {
          "size": 10
         },
         "title": {
          "font": {
           "size": 15
          },
          "text": "Finance News Source"
         },
         "type": "category"
        },
        "yaxis": {
         "anchor": "x",
         "autorange": true,
         "domain": [
          0,
          1
         ],
         "range": [
          0,
          1744.2105263157894
         ],
         "showgrid": false,
         "tickfont": {
          "size": 10
         },
         "title": {
          "font": {
           "size": 15
          },
          "text": "Sentiment Analysis Counts"
         },
         "type": "linear"
        }
       }
      },
      "image/png": "[encoded data removed]",
      "text/html": [
       "<div>                            <div id=\"2a2a0a0c-b3b8-4f3a-9ee8-40374dbbe4e4\" class=\"plotly-graph-div\" style=\"height:500px; width:1000px;\"></div>            <script type=\"text/javascript\">                require([\"plotly\"], function(Plotly) {                    window.PLOTLYENV=window.PLOTLYENV || {};                                    if (document.getElementById(\"2a2a0a0c-b3b8-4f3a-9ee8-40374dbbe4e4\")) {                    Plotly.newPlot(                        \"2a2a0a0c-b3b8-4f3a-9ee8-40374dbbe4e4\",                        [{\"alignmentgroup\": \"True\", \"hovertemplate\": \"sentiment=Negative<br>source=%{x}<br>count=%{text}<extra></extra>\", \"legendgroup\": \"Negative\", \"marker\": {\"color\": \"#636efa\"}, \"name\": \"Negative\", \"offsetgroup\": \"Negative\", \"orientation\": \"v\", \"showlegend\": true, \"text\": [76.0, 111.0, 424.0, 88.0, 135.0, 77.0, 55.0, 85.0, 54.0, 148.0, 290.0, 208.0, 66.0], \"textposition\": \"inside\", \"texttemplate\": \"%{text:.3s}\", \"type\": \"bar\", \"x\": [\"24/7 Wall Street\", \"Benzinga\", \"CNBC\", \"CNET\", \"CNN Business\", \"Forbes\", \"GuruFocus\", \"InvestorPlace\", \"Investors Business Daily\", \"Market Watch\", \"Reuters\", \"The Motley Fool\", \"Zacks Investment Research\"], \"xaxis\": \"x\", \"y\": [76, 111, 424, 88, 135, 77, 55, 85, 54, 148, 290, 208, 66], \"yaxis\": \"y\"}, {\"alignmentgroup\": \"True\", \"hovertemplate\": \"sentiment=Neutral<br>source=%{x}<br>count=%{text}<extra></extra>\", \"legendgroup\": \"Neutral\", \"marker\": {\"color\": \"#EF553B\"}, \"name\": \"Neutral\", \"offsetgroup\": \"Neutral\", \"orientation\": \"v\", \"showlegend\": true, \"text\": [102.0, 184.0, 424.0, 184.0, 81.0, 103.0, 195.0, 53.0, 114.0, 71.0, 599.0, 455.0, 148.0], \"textposition\": \"inside\", \"texttemplate\": \"%{text:.3s}\", \"type\": \"bar\", \"x\": [\"24/7 Wall Street\", \"Benzinga\", \"CNBC\", \"CNET\", \"CNN Business\", \"Forbes\", \"InvestorPlace\", \"Investors Business Daily\", \"Market Watch\", \"New York Post\", \"Reuters\", \"The Motley Fool\", \"Zacks Investment Research\"], \"xaxis\": \"x\", \"y\": [102, 184, 424, 184, 81, 103, 195, 53, 114, 71, 599, 455, 148], \"yaxis\": \"y\"}, {\"alignmentgroup\": \"True\", \"hovertemplate\": \"sentiment=Positive<br>source=%{x}<br>count=%{text}<extra></extra>\", \"legendgroup\": \"Positive\", \"marker\": {\"color\": \"#00cc96\"}, \"name\": \"Positive\", \"offsetgroup\": \"Positive\", \"orientation\": \"v\", \"showlegend\": true, \"text\": [146.0, 253.0, 809.0, 119.0, 96.0, 127.0, 67.0, 73.0, 58.0, 377.0, 140.0, 198.0, 64.0, 339.0, 784.0, 349.0], \"textposition\": \"inside\", \"texttemplate\": \"%{text:.3s}\", \"type\": \"bar\", \"x\": [\"24/7 Wall Street\", \"Benzinga\", \"CNBC\", \"CNET\", \"CNN Business\", \"Forbes\", \"Fox Business\", \"GuruFocus\", \"Investopedia\", \"InvestorPlace\", \"Investors Business Daily\", \"Market Watch\", \"New York Post\", \"Reuters\", \"The Motley Fool\", \"Zacks Investment Research\"], \"xaxis\": \"x\", \"y\": [146, 253, 809, 119, 96, 127, 67, 73, 58, 377, 140, 198, 64, 339, 784, 349], \"yaxis\": \"y\"}],                        {\"barmode\": \"relative\", \"height\": 500, \"legend\": {\"bgcolor\": \"rgba(255, 255, 255, 0)\", \"bordercolor\": \"rgba(255, 255, 255, 0)\", \"title\": {\"text\": \"sentiment\"}, \"tracegroupgap\": 0, \"x\": 0.89, \"xanchor\": \"left\", \"y\": 0.99, \"yanchor\": \"top\"}, \"margin\": {\"b\": 50, \"l\": 50, \"r\": 50, \"t\": 50}, \"template\": {\"data\": {\"bar\": [{\"error_x\": {\"color\": \"#2a3f5f\"}, \"error_y\": {\"color\": \"#2a3f5f\"}, \"marker\": {\"line\": {\"color\": \"#E5ECF6\", \"width\": 0.5}}, \"type\": \"bar\"}], \"barpolar\": [{\"marker\": {\"line\": {\"color\": \"#E5ECF6\", \"width\": 0.5}}, \"type\": \"barpolar\"}], \"carpet\": [{\"aaxis\": {\"endlinecolor\": \"#2a3f5f\", \"gridcolor\": \"white\", \"linecolor\": \"white\", \"minorgridcolor\": \"white\", \"startlinecolor\": \"#2a3f5f\"}, \"baxis\": {\"endlinecolor\": \"#2a3f5f\", \"gridcolor\": \"white\", \"linecolor\": \"white\", \"minorgridcolor\": \"white\", \"startlinecolor\": \"#2a3f5f\"}, \"type\": \"carpet\"}], \"choropleth\": [{\"colorbar\": {\"outlinewidth\": 0, \"ticks\": \"\"}, \"type\": \"choropleth\"}], \"contour\": [{\"colorbar\": {\"outlinewidth\": 0, \"ticks\": \"\"}, \"colorscale\": [[0.0, \"#0d0887\"], [0.1111111111111111, \"#46039f\"], [0.2222222222222222, \"#7201a8\"], [0.3333333333333333, \"#9c179e\"], [0.4444444444444444, \"#bd3786\"], [0.5555555555555556, \"#d8576b\"], [0.6666666666666666, \"#ed7953\"], [0.7777777777777778, \"#fb9f3a\"], [0.8888888888888888, \"#fdca26\"], [1.0, \"#f0f921\"]], \"type\": \"contour\"}], \"contourcarpet\": [{\"colorbar\": {\"outlinewidth\": 0, \"ticks\": \"\"}, \"type\": \"contourcarpet\"}], \"heatmap\": [{\"colorbar\": {\"outlinewidth\": 0, \"ticks\": \"\"}, \"colorscale\": [[0.0, \"#0d0887\"], [0.1111111111111111, \"#46039f\"], [0.2222222222222222, \"#7201a8\"], [0.3333333333333333, \"#9c179e\"], [0.4444444444444444, \"#bd3786\"], [0.5555555555555556, \"#d8576b\"], [0.6666666666666666, \"#ed7953\"], [0.7777777777777778, \"#fb9f3a\"], [0.8888888888888888, \"#fdca26\"], [1.0, \"#f0f921\"]], \"type\": \"heatmap\"}], \"heatmapgl\": [{\"colorbar\": {\"outlinewidth\": 0, \"ticks\": \"\"}, \"colorscale\": [[0.0, \"#0d0887\"], [0.1111111111111111, \"#46039f\"], [0.2222222222222222, \"#7201a8\"], [0.3333333333333333, \"#9c179e\"], [0.4444444444444444, \"#bd3786\"], [0.5555555555555556, \"#d8576b\"], [0.6666666666666666, \"#ed7953\"], [0.7777777777777778, \"#fb9f3a\"], [0.8888888888888888, \"#fdca26\"], [1.0, \"#f0f921\"]], \"type\": \"heatmapgl\"}], \"histogram\": [{\"marker\": {\"colorbar\": {\"outlinewidth\": 0, \"ticks\": \"\"}}, \"type\": \"histogram\"}], \"histogram2d\": [{\"colorbar\": {\"outlinewidth\": 0, \"ticks\": \"\"}, \"colorscale\": [[0.0, \"#0d0887\"], [0.1111111111111111, \"#46039f\"], [0.2222222222222222, \"#7201a8\"], [0.3333333333333333, \"#9c179e\"], [0.4444444444444444, \"#bd3786\"], [0.5555555555555556, \"#d8576b\"], [0.6666666666666666, \"#ed7953\"], [0.7777777777777778, \"#fb9f3a\"], [0.8888888888888888, \"#fdca26\"], [1.0, \"#f0f921\"]], \"type\": \"histogram2d\"}], \"histogram2dcontour\": [{\"colorbar\": {\"outlinewidth\": 0, \"ticks\": \"\"}, \"colorscale\": [[0.0, \"#0d0887\"], [0.1111111111111111, \"#46039f\"], [0.2222222222222222, \"#7201a8\"], [0.3333333333333333, \"#9c179e\"], [0.4444444444444444, \"#bd3786\"], [0.5555555555555556, \"#d8576b\"], [0.6666666666666666, \"#ed7953\"], [0.7777777777777778, \"#fb9f3a\"], [0.8888888888888888, \"#fdca26\"], [1.0, \"#f0f921\"]], \"type\": \"histogram2dcontour\"}], \"mesh3d\": [{\"colorbar\": {\"outlinewidth\": 0, \"ticks\": \"\"}, \"type\": \"mesh3d\"}], \"parcoords\": [{\"line\": {\"colorbar\": {\"outlinewidth\": 0, \"ticks\": \"\"}}, \"type\": \"parcoords\"}], \"pie\": [{\"automargin\": true, \"type\": \"pie\"}], \"scatter\": [{\"marker\": {\"colorbar\": {\"outlinewidth\": 0, \"ticks\": \"\"}}, \"type\": \"scatter\"}], \"scatter3d\": [{\"line\": {\"colorbar\": {\"outlinewidth\": 0, \"ticks\": \"\"}}, \"marker\": {\"colorbar\": {\"outlinewidth\": 0, \"ticks\": \"\"}}, \"type\": \"scatter3d\"}], \"scattercarpet\": [{\"marker\": {\"colorbar\": {\"outlinewidth\": 0, \"ticks\": \"\"}}, \"type\": \"scattercarpet\"}], \"scattergeo\": [{\"marker\": {\"colorbar\": {\"outlinewidth\": 0, \"ticks\": \"\"}}, \"type\": \"scattergeo\"}], \"scattergl\": [{\"marker\": {\"colorbar\": {\"outlinewidth\": 0, \"ticks\": \"\"}}, \"type\": \"scattergl\"}], \"scattermapbox\": [{\"marker\": {\"colorbar\": {\"outlinewidth\": 0, \"ticks\": \"\"}}, \"type\": \"scattermapbox\"}], \"scatterpolar\": [{\"marker\": {\"colorbar\": {\"outlinewidth\": 0, \"ticks\": \"\"}}, \"type\": \"scatterpolar\"}], \"scatterpolargl\": [{\"marker\": {\"colorbar\": {\"outlinewidth\": 0, \"ticks\": \"\"}}, \"type\": \"scatterpolargl\"}], \"scatterternary\": [{\"marker\": {\"colorbar\": {\"outlinewidth\": 0, \"ticks\": \"\"}}, \"type\": \"scatterternary\"}], \"surface\": [{\"colorbar\": {\"outlinewidth\": 0, \"ticks\": \"\"}, \"colorscale\": [[0.0, \"#0d0887\"], [0.1111111111111111, \"#46039f\"], [0.2222222222222222, \"#7201a8\"], [0.3333333333333333, \"#9c179e\"], [0.4444444444444444, \"#bd3786\"], [0.5555555555555556, \"#d8576b\"], [0.6666666666666666, \"#ed7953\"], [0.7777777777777778, \"#fb9f3a\"], [0.8888888888888888, \"#fdca26\"], [1.0, \"#f0f921\"]], \"type\": \"surface\"}], \"table\": [{\"cells\": {\"fill\": {\"color\": \"#EBF0F8\"}, \"line\": {\"color\": \"white\"}}, \"header\": {\"fill\": {\"color\": \"#C8D4E3\"}, \"line\": {\"color\": \"white\"}}, \"type\": \"table\"}]}, \"layout\": {\"annotationdefaults\": {\"arrowcolor\": \"#2a3f5f\", \"arrowhead\": 0, \"arrowwidth\": 1}, \"autotypenumbers\": \"strict\", \"coloraxis\": {\"colorbar\": {\"outlinewidth\": 0, \"ticks\": \"\"}}, \"colorscale\": {\"diverging\": [[0, \"#8e0152\"], [0.1, \"#c51b7d\"], [0.2, \"#de77ae\"], [0.3, \"#f1b6da\"], [0.4, \"#fde0ef\"], [0.5, \"#f7f7f7\"], [0.6, \"#e6f5d0\"], [0.7, \"#b8e186\"], [0.8, \"#7fbc41\"], [0.9, \"#4d9221\"], [1, \"#276419\"]], \"sequential\": [[0.0, \"#0d0887\"], [0.1111111111111111, \"#46039f\"], [0.2222222222222222, \"#7201a8\"], [0.3333333333333333, \"#9c179e\"], [0.4444444444444444, \"#bd3786\"], [0.5555555555555556, \"#d8576b\"], [0.6666666666666666, \"#ed7953\"], [0.7777777777777778, \"#fb9f3a\"], [0.8888888888888888, \"#fdca26\"], [1.0, \"#f0f921\"]], \"sequentialminus\": [[0.0, \"#0d0887\"], [0.1111111111111111, \"#46039f\"], [0.2222222222222222, \"#7201a8\"], [0.3333333333333333, \"#9c179e\"], [0.4444444444444444, \"#bd3786\"], [0.5555555555555556, \"#d8576b\"], [0.6666666666666666, \"#ed7953\"], [0.7777777777777778, \"#fb9f3a\"], [0.8888888888888888, \"#fdca26\"], [1.0, \"#f0f921\"]]}, \"colorway\": [\"#636efa\", \"#EF553B\", \"#00cc96\", \"#ab63fa\", \"#FFA15A\", \"#19d3f3\", \"#FF6692\", \"#B6E880\", \"#FF97FF\", \"#FECB52\"], \"font\": {\"color\": \"#2a3f5f\"}, \"geo\": {\"bgcolor\": \"white\", \"lakecolor\": \"white\", \"landcolor\": \"#E5ECF6\", \"showlakes\": true, \"showland\": true, \"subunitcolor\": \"white\"}, \"hoverlabel\": {\"align\": \"left\"}, \"hovermode\": \"closest\", \"mapbox\": {\"style\": \"light\"}, \"paper_bgcolor\": \"white\", \"plot_bgcolor\": \"#E5ECF6\", \"polar\": {\"angularaxis\": {\"gridcolor\": \"white\", \"linecolor\": \"white\", \"ticks\": \"\"}, \"bgcolor\": \"#E5ECF6\", \"radialaxis\": {\"gridcolor\": \"white\", \"linecolor\": \"white\", \"ticks\": \"\"}}, \"scene\": {\"xaxis\": {\"backgroundcolor\": \"#E5ECF6\", \"gridcolor\": \"white\", \"gridwidth\": 2, \"linecolor\": \"white\", \"showbackground\": true, \"ticks\": \"\", \"zerolinecolor\": \"white\"}, \"yaxis\": {\"backgroundcolor\": \"#E5ECF6\", \"gridcolor\": \"white\", \"gridwidth\": 2, \"linecolor\": \"white\", \"showbackground\": true, \"ticks\": \"\", \"zerolinecolor\": \"white\"}, \"zaxis\": {\"backgroundcolor\": \"#E5ECF6\", \"gridcolor\": \"white\", \"gridwidth\": 2, \"linecolor\": \"white\", \"showbackground\": true, \"ticks\": \"\", \"zerolinecolor\": \"white\"}}, \"shapedefaults\": {\"line\": {\"color\": \"#2a3f5f\"}}, \"ternary\": {\"aaxis\": {\"gridcolor\": \"white\", \"linecolor\": \"white\", \"ticks\": \"\"}, \"baxis\": {\"gridcolor\": \"white\", \"linecolor\": \"white\", \"ticks\": \"\"}, \"bgcolor\": \"#E5ECF6\", \"caxis\": {\"gridcolor\": \"white\", \"linecolor\": \"white\", \"ticks\": \"\"}}, \"title\": {\"x\": 0.05}, \"xaxis\": {\"automargin\": true, \"gridcolor\": \"white\", \"linecolor\": \"white\", \"ticks\": \"\", \"title\": {\"standoff\": 15}, \"zerolinecolor\": \"white\", \"zerolinewidth\": 2}, \"yaxis\": {\"automargin\": true, \"gridcolor\": \"white\", \"linecolor\": \"white\", \"ticks\": \"\", \"title\": {\"standoff\": 15}, \"zerolinecolor\": \"white\", \"zerolinewidth\": 2}}}, \"title\": {\"text\": \"News Sources vs Sentiment\"}, \"uniformtext\": {\"minsize\": 6}, \"width\": 1000, \"xaxis\": {\"anchor\": \"y\", \"domain\": [0.0, 1.0], \"showgrid\": false, \"tickangle\": -45, \"tickfont\": {\"size\": 10}, \"title\": {\"font\": {\"size\": 15}, \"text\": \"Finance News Source\"}}, \"yaxis\": {\"anchor\": \"x\", \"domain\": [0.0, 1.0], \"showgrid\": false, \"tickfont\": {\"size\": 10}, \"title\": {\"font\": {\"size\": 15}, \"text\": \"Sentiment Analysis Counts\"}}},                        {\"responsive\": true}                    ).then(function(){\n",
       "                            \n",
       "var gd = document.getElementById('2a2a0a0c-b3b8-4f3a-9ee8-40374dbbe4e4');\n",
       "var x = new MutationObserver(function (mutations, observer) {{\n",
       "        var display = window.getComputedStyle(gd).display;\n",
       "        if (!display || display === 'none') {{\n",
       "            console.log([gd, 'removed!']);\n",
       "            Plotly.purge(gd);\n",
       "            observer.disconnect();\n",
       "        }}\n",
       "}});\n",
       "\n",
       "// Listen for the removal of the full notebook cells\n",
       "var notebookContainer = gd.closest('#notebook-container');\n",
       "if (notebookContainer) {{\n",
       "    x.observe(notebookContainer, {childList: true});\n",
       "}}\n",
       "\n",
       "// Listen for the clearing of the current output cell\n",
       "var outputEl = gd.closest('.output');\n",
       "if (outputEl) {{\n",
       "    x.observe(outputEl, {childList: true});\n",
       "}}\n",
       "\n",
       "                        })                };                });            </script>        </div>"
      ]
     },
     "metadata": {},
     "output_type": "display_data"
    }
   ],
   "source": [
    "fig3 = px.bar(\n",
    "    sent_vs_source_df,\n",
    "    x='source',\n",
    "    y='count',\n",
    "    text='count',\n",
    "    color='sentiment',\n",
    "    title='News Sources vs Sentiment'\n",
    ")\n",
    "fig3.update_layout(\n",
    "    width=1000,\n",
    "    height=500,\n",
    "    margin={\"r\":50,\"t\":50,\"l\":50,\"b\":50},\n",
    "    uniformtext_minsize=6,\n",
    "\n",
    "xaxis=dict(\n",
    "    title='Finance News Source',\n",
    "    linecolor=None,\n",
    "    titlefont_size=15,\n",
    "    tickfont_size=10,\n",
    "    showgrid=False,\n",
    "    tickangle=-45\n",
    "    ),\n",
    "yaxis=dict(\n",
    "    title='Sentiment Analysis Counts',\n",
    "    linecolor=None,\n",
    "    titlefont_size=15,\n",
    "    tickfont_size=10,\n",
    "    showgrid=False\n",
    "    ),    \n",
    "legend=dict(\n",
    "    yanchor=\"top\",\n",
    "    xanchor=\"left\",\n",
    "    x=0.89,\n",
    "    y=0.99,\n",
    "    bgcolor='rgba(255, 255, 255, 0)',\n",
    "    bordercolor='rgba(255, 255, 255, 0)'\n",
    "            )    \n",
    "                )\n",
    "fig3.update_traces(texttemplate='%{text:.3s}', textposition='inside')\n",
    "fig3.show()"
   ]
  },
  {
   "cell_type": "code",
   "execution_count": 257,
   "id": "9ae1f753-1964-4988-918a-aeaef877c25a",
   "metadata": {
    "execution": {
     "iopub.execute_input": "2021-06-05T17:42:09.699630Z",
     "iopub.status.busy": "2021-06-05T17:42:09.699051Z",
     "iopub.status.idle": "2021-06-05T17:42:09.723826Z",
     "shell.execute_reply": "2021-06-05T17:42:09.723346Z",
     "shell.execute_reply.started": "2021-06-05T17:42:09.699563Z"
    },
    "tags": []
   },
   "outputs": [],
   "source": [
    "word_freq_dist = pd.concat(\n",
    "    [\n",
    "    (neutral_fdist_df\n",
    "     .query(\"frequency > 1000\")\n",
    "     .assign(sentiment='neutral')\n",
    "     .sample(15, replace=True)),\n",
    "    (negative_fdist_df\n",
    "     .query(\"frequency > 1000\")\n",
    "     .assign(sentiment='negative')\n",
    "     .sample(15, replace=True)),        \n",
    "    (positive_fdist_df\n",
    "     .query(\"frequency > 1000\")\n",
    "     .assign(sentiment='positive')\n",
    "     .sample(15, replace=True))\n",
    "    ],\n",
    "    ignore_index=True, axis=0\n",
    "            )"
   ]
  },
  {
   "cell_type": "code",
   "execution_count": 259,
   "id": "ec911b06-ca9f-4044-a06c-eb974d3aa9d0",
   "metadata": {
    "execution": {
     "iopub.execute_input": "2021-06-05T17:43:56.270639Z",
     "iopub.status.busy": "2021-06-05T17:43:56.270301Z",
     "iopub.status.idle": "2021-06-05T17:43:56.341447Z",
     "shell.execute_reply": "2021-06-05T17:43:56.340304Z",
     "shell.execute_reply.started": "2021-06-05T17:43:56.270605Z"
    },
    "tags": []
   },
   "outputs": [
    {
     "data": {
      "application/vnd.plotly.v1+json": {
       "config": {
        "plotlyServerURL": "https://plot.ly"
       },
       "data": [
        {
         "alignmentgroup": "True",
         "hovertemplate": "sentiment=neutral<br>frequency=%{text}<br>word=%{y}<extra></extra>",
         "legendgroup": "neutral",
         "marker": {
          "color": "#636efa"
         },
         "name": "neutral",
         "offsetgroup": "neutral",
         "orientation": "h",
         "showlegend": true,
         "text": [
          1597,
          2224,
          1831,
          2144,
          1258,
          1155,
          1258,
          6483,
          1902,
          3096,
          1769,
          2198,
          3096,
          1389,
          1258
         ],
         "textposition": "inside",
         "texttemplate": "%{text:.3s}",
         "type": "bar",
         "x": [
          1597,
          2224,
          1831,
          2144,
          1258,
          1155,
          1258,
          6483,
          1902,
          3096,
          1769,
          2198,
          3096,
          1389,
          1258
         ],
         "xaxis": "x",
         "y": [
          "tv",
          "information",
          "delivered",
          "week",
          "tax",
          "recent",
          "tax",
          "stock",
          "service",
          "may",
          "still",
          "use",
          "may",
          "cook",
          "tax"
         ],
         "yaxis": "y"
        },
        {
         "alignmentgroup": "True",
         "hovertemplate": "sentiment=negative<br>frequency=%{text}<br>word=%{y}<extra></extra>",
         "legendgroup": "negative",
         "marker": {
          "color": "#EF553B"
         },
         "name": "negative",
         "offsetgroup": "negative",
         "orientation": "h",
         "showlegend": true,
         "text": [
          2646,
          1207,
          3206,
          2084,
          1384,
          4547,
          2419,
          1526,
          1042,
          1539,
          1490,
          4503,
          1899,
          1154,
          1336
         ],
         "textposition": "inside",
         "texttemplate": "%{text:.3s}",
         "type": "bar",
         "x": [
          2646,
          1207,
          3206,
          2084,
          1384,
          4547,
          2419,
          1526,
          1042,
          1539,
          1490,
          4503,
          1899,
          1154,
          1336
         ],
         "xaxis": "x",
         "y": [
          "business",
          "people",
          "iphone",
          "would",
          "supply",
          "year",
          "time",
          "home",
          "it",
          "years",
          "high",
          "new",
          "may",
          "coronavirus",
          "share"
         ],
         "yaxis": "y"
        },
        {
         "alignmentgroup": "True",
         "hovertemplate": "sentiment=positive<br>frequency=%{text}<br>word=%{y}<extra></extra>",
         "legendgroup": "positive",
         "marker": {
          "color": "#00cc96"
         },
         "name": "positive",
         "offsetgroup": "positive",
         "orientation": "h",
         "showlegend": true,
         "text": [
          2730,
          1939,
          1202,
          1579,
          1030,
          1446,
          1062,
          3990,
          1345,
          1846,
          1146,
          2814,
          2684,
          1365,
          2688
         ],
         "textposition": "inside",
         "texttemplate": "%{text:.3s}",
         "type": "bar",
         "x": [
          2730,
          1939,
          1202,
          1579,
          1030,
          1446,
          1062,
          3990,
          1345,
          1846,
          1146,
          2814,
          2684,
          1365,
          2688
         ],
         "xaxis": "x",
         "y": [
          "back",
          "april",
          "strategy",
          "launched",
          "hold",
          "monday",
          "power",
          "like",
          "benzinga",
          "think",
          "believe",
          "higher",
          "world",
          "days",
          "today"
         ],
         "yaxis": "y"
        }
       ],
       "layout": {
        "barmode": "relative",
        "height": 800,
        "legend": {
         "bgcolor": "rgba(255, 255, 255, 0)",
         "bordercolor": "rgba(255, 255, 255, 0)",
         "title": {
          "text": "sentiment"
         },
         "tracegroupgap": 0,
         "x": 1,
         "xanchor": "right",
         "y": 1,
         "yanchor": "top"
        },
        "margin": {
         "b": 50,
         "l": 50,
         "r": 50,
         "t": 50
        },
        "template": {
         "data": {
          "bar": [
           {
            "error_x": {
             "color": "#2a3f5f"
            },
            "error_y": {
             "color": "#2a3f5f"
            },
            "marker": {
             "line": {
              "color": "#E5ECF6",
              "width": 0.5
             }
            },
            "type": "bar"
           }
          ],
          "barpolar": [
           {
            "marker": {
             "line": {
              "color": "#E5ECF6",
              "width": 0.5
             }
            },
            "type": "barpolar"
           }
          ],
          "carpet": [
           {
            "aaxis": {
             "endlinecolor": "#2a3f5f",
             "gridcolor": "white",
             "linecolor": "white",
             "minorgridcolor": "white",
             "startlinecolor": "#2a3f5f"
            },
            "baxis": {
             "endlinecolor": "#2a3f5f",
             "gridcolor": "white",
             "linecolor": "white",
             "minorgridcolor": "white",
             "startlinecolor": "#2a3f5f"
            },
            "type": "carpet"
           }
          ],
          "choropleth": [
           {
            "colorbar": {
             "outlinewidth": 0,
             "ticks": ""
            },
            "type": "choropleth"
           }
          ],
          "contour": [
           {
            "colorbar": {
             "outlinewidth": 0,
             "ticks": ""
            },
            "colorscale": [
             [
              0,
              "#0d0887"
             ],
             [
              0.1111111111111111,
              "#46039f"
             ],
             [
              0.2222222222222222,
              "#7201a8"
             ],
             [
              0.3333333333333333,
              "#9c179e"
             ],
             [
              0.4444444444444444,
              "#bd3786"
             ],
             [
              0.5555555555555556,
              "#d8576b"
             ],
             [
              0.6666666666666666,
              "#ed7953"
             ],
             [
              0.7777777777777778,
              "#fb9f3a"
             ],
             [
              0.8888888888888888,
              "#fdca26"
             ],
             [
              1,
              "#f0f921"
             ]
            ],
            "type": "contour"
           }
          ],
          "contourcarpet": [
           {
            "colorbar": {
             "outlinewidth": 0,
             "ticks": ""
            },
            "type": "contourcarpet"
           }
          ],
          "heatmap": [
           {
            "colorbar": {
             "outlinewidth": 0,
             "ticks": ""
            },
            "colorscale": [
             [
              0,
              "#0d0887"
             ],
             [
              0.1111111111111111,
              "#46039f"
             ],
             [
              0.2222222222222222,
              "#7201a8"
             ],
             [
              0.3333333333333333,
              "#9c179e"
             ],
             [
              0.4444444444444444,
              "#bd3786"
             ],
             [
              0.5555555555555556,
              "#d8576b"
             ],
             [
              0.6666666666666666,
              "#ed7953"
             ],
             [
              0.7777777777777778,
              "#fb9f3a"
             ],
             [
              0.8888888888888888,
              "#fdca26"
             ],
             [
              1,
              "#f0f921"
             ]
            ],
            "type": "heatmap"
           }
          ],
          "heatmapgl": [
           {
            "colorbar": {
             "outlinewidth": 0,
             "ticks": ""
            },
            "colorscale": [
             [
              0,
              "#0d0887"
             ],
             [
              0.1111111111111111,
              "#46039f"
             ],
             [
              0.2222222222222222,
              "#7201a8"
             ],
             [
              0.3333333333333333,
              "#9c179e"
             ],
             [
              0.4444444444444444,
              "#bd3786"
             ],
             [
              0.5555555555555556,
              "#d8576b"
             ],
             [
              0.6666666666666666,
              "#ed7953"
             ],
             [
              0.7777777777777778,
              "#fb9f3a"
             ],
             [
              0.8888888888888888,
              "#fdca26"
             ],
             [
              1,
              "#f0f921"
             ]
            ],
            "type": "heatmapgl"
           }
          ],
          "histogram": [
           {
            "marker": {
             "colorbar": {
              "outlinewidth": 0,
              "ticks": ""
             }
            },
            "type": "histogram"
           }
          ],
          "histogram2d": [
           {
            "colorbar": {
             "outlinewidth": 0,
             "ticks": ""
            },
            "colorscale": [
             [
              0,
              "#0d0887"
             ],
             [
              0.1111111111111111,
              "#46039f"
             ],
             [
              0.2222222222222222,
              "#7201a8"
             ],
             [
              0.3333333333333333,
              "#9c179e"
             ],
             [
              0.4444444444444444,
              "#bd3786"
             ],
             [
              0.5555555555555556,
              "#d8576b"
             ],
             [
              0.6666666666666666,
              "#ed7953"
             ],
             [
              0.7777777777777778,
              "#fb9f3a"
             ],
             [
              0.8888888888888888,
              "#fdca26"
             ],
             [
              1,
              "#f0f921"
             ]
            ],
            "type": "histogram2d"
           }
          ],
          "histogram2dcontour": [
           {
            "colorbar": {
             "outlinewidth": 0,
             "ticks": ""
            },
            "colorscale": [
             [
              0,
              "#0d0887"
             ],
             [
              0.1111111111111111,
              "#46039f"
             ],
             [
              0.2222222222222222,
              "#7201a8"
             ],
             [
              0.3333333333333333,
              "#9c179e"
             ],
             [
              0.4444444444444444,
              "#bd3786"
             ],
             [
              0.5555555555555556,
              "#d8576b"
             ],
             [
              0.6666666666666666,
              "#ed7953"
             ],
             [
              0.7777777777777778,
              "#fb9f3a"
             ],
             [
              0.8888888888888888,
              "#fdca26"
             ],
             [
              1,
              "#f0f921"
             ]
            ],
            "type": "histogram2dcontour"
           }
          ],
          "mesh3d": [
           {
            "colorbar": {
             "outlinewidth": 0,
             "ticks": ""
            },
            "type": "mesh3d"
           }
          ],
          "parcoords": [
           {
            "line": {
             "colorbar": {
              "outlinewidth": 0,
              "ticks": ""
             }
            },
            "type": "parcoords"
           }
          ],
          "pie": [
           {
            "automargin": true,
            "type": "pie"
           }
          ],
          "scatter": [
           {
            "marker": {
             "colorbar": {
              "outlinewidth": 0,
              "ticks": ""
             }
            },
            "type": "scatter"
           }
          ],
          "scatter3d": [
           {
            "line": {
             "colorbar": {
              "outlinewidth": 0,
              "ticks": ""
             }
            },
            "marker": {
             "colorbar": {
              "outlinewidth": 0,
              "ticks": ""
             }
            },
            "type": "scatter3d"
           }
          ],
          "scattercarpet": [
           {
            "marker": {
             "colorbar": {
              "outlinewidth": 0,
              "ticks": ""
             }
            },
            "type": "scattercarpet"
           }
          ],
          "scattergeo": [
           {
            "marker": {
             "colorbar": {
              "outlinewidth": 0,
              "ticks": ""
             }
            },
            "type": "scattergeo"
           }
          ],
          "scattergl": [
           {
            "marker": {
             "colorbar": {
              "outlinewidth": 0,
              "ticks": ""
             }
            },
            "type": "scattergl"
           }
          ],
          "scattermapbox": [
           {
            "marker": {
             "colorbar": {
              "outlinewidth": 0,
              "ticks": ""
             }
            },
            "type": "scattermapbox"
           }
          ],
          "scatterpolar": [
           {
            "marker": {
             "colorbar": {
              "outlinewidth": 0,
              "ticks": ""
             }
            },
            "type": "scatterpolar"
           }
          ],
          "scatterpolargl": [
           {
            "marker": {
             "colorbar": {
              "outlinewidth": 0,
              "ticks": ""
             }
            },
            "type": "scatterpolargl"
           }
          ],
          "scatterternary": [
           {
            "marker": {
             "colorbar": {
              "outlinewidth": 0,
              "ticks": ""
             }
            },
            "type": "scatterternary"
           }
          ],
          "surface": [
           {
            "colorbar": {
             "outlinewidth": 0,
             "ticks": ""
            },
            "colorscale": [
             [
              0,
              "#0d0887"
             ],
             [
              0.1111111111111111,
              "#46039f"
             ],
             [
              0.2222222222222222,
              "#7201a8"
             ],
             [
              0.3333333333333333,
              "#9c179e"
             ],
             [
              0.4444444444444444,
              "#bd3786"
             ],
             [
              0.5555555555555556,
              "#d8576b"
             ],
             [
              0.6666666666666666,
              "#ed7953"
             ],
             [
              0.7777777777777778,
              "#fb9f3a"
             ],
             [
              0.8888888888888888,
              "#fdca26"
             ],
             [
              1,
              "#f0f921"
             ]
            ],
            "type": "surface"
           }
          ],
          "table": [
           {
            "cells": {
             "fill": {
              "color": "#EBF0F8"
             },
             "line": {
              "color": "white"
             }
            },
            "header": {
             "fill": {
              "color": "#C8D4E3"
             },
             "line": {
              "color": "white"
             }
            },
            "type": "table"
           }
          ]
         },
         "layout": {
          "annotationdefaults": {
           "arrowcolor": "#2a3f5f",
           "arrowhead": 0,
           "arrowwidth": 1
          },
          "autotypenumbers": "strict",
          "coloraxis": {
           "colorbar": {
            "outlinewidth": 0,
            "ticks": ""
           }
          },
          "colorscale": {
           "diverging": [
            [
             0,
             "#8e0152"
            ],
            [
             0.1,
             "#c51b7d"
            ],
            [
             0.2,
             "#de77ae"
            ],
            [
             0.3,
             "#f1b6da"
            ],
            [
             0.4,
             "#fde0ef"
            ],
            [
             0.5,
             "#f7f7f7"
            ],
            [
             0.6,
             "#e6f5d0"
            ],
            [
             0.7,
             "#b8e186"
            ],
            [
             0.8,
             "#7fbc41"
            ],
            [
             0.9,
             "#4d9221"
            ],
            [
             1,
             "#276419"
            ]
           ],
           "sequential": [
            [
             0,
             "#0d0887"
            ],
            [
             0.1111111111111111,
             "#46039f"
            ],
            [
             0.2222222222222222,
             "#7201a8"
            ],
            [
             0.3333333333333333,
             "#9c179e"
            ],
            [
             0.4444444444444444,
             "#bd3786"
            ],
            [
             0.5555555555555556,
             "#d8576b"
            ],
            [
             0.6666666666666666,
             "#ed7953"
            ],
            [
             0.7777777777777778,
             "#fb9f3a"
            ],
            [
             0.8888888888888888,
             "#fdca26"
            ],
            [
             1,
             "#f0f921"
            ]
           ],
           "sequentialminus": [
            [
             0,
             "#0d0887"
            ],
            [
             0.1111111111111111,
             "#46039f"
            ],
            [
             0.2222222222222222,
             "#7201a8"
            ],
            [
             0.3333333333333333,
             "#9c179e"
            ],
            [
             0.4444444444444444,
             "#bd3786"
            ],
            [
             0.5555555555555556,
             "#d8576b"
            ],
            [
             0.6666666666666666,
             "#ed7953"
            ],
            [
             0.7777777777777778,
             "#fb9f3a"
            ],
            [
             0.8888888888888888,
             "#fdca26"
            ],
            [
             1,
             "#f0f921"
            ]
           ]
          },
          "colorway": [
           "#636efa",
           "#EF553B",
           "#00cc96",
           "#ab63fa",
           "#FFA15A",
           "#19d3f3",
           "#FF6692",
           "#B6E880",
           "#FF97FF",
           "#FECB52"
          ],
          "font": {
           "color": "#2a3f5f"
          },
          "geo": {
           "bgcolor": "white",
           "lakecolor": "white",
           "landcolor": "#E5ECF6",
           "showlakes": true,
           "showland": true,
           "subunitcolor": "white"
          },
          "hoverlabel": {
           "align": "left"
          },
          "hovermode": "closest",
          "mapbox": {
           "style": "light"
          },
          "paper_bgcolor": "white",
          "plot_bgcolor": "#E5ECF6",
          "polar": {
           "angularaxis": {
            "gridcolor": "white",
            "linecolor": "white",
            "ticks": ""
           },
           "bgcolor": "#E5ECF6",
           "radialaxis": {
            "gridcolor": "white",
            "linecolor": "white",
            "ticks": ""
           }
          },
          "scene": {
           "xaxis": {
            "backgroundcolor": "#E5ECF6",
            "gridcolor": "white",
            "gridwidth": 2,
            "linecolor": "white",
            "showbackground": true,
            "ticks": "",
            "zerolinecolor": "white"
           },
           "yaxis": {
            "backgroundcolor": "#E5ECF6",
            "gridcolor": "white",
            "gridwidth": 2,
            "linecolor": "white",
            "showbackground": true,
            "ticks": "",
            "zerolinecolor": "white"
           },
           "zaxis": {
            "backgroundcolor": "#E5ECF6",
            "gridcolor": "white",
            "gridwidth": 2,
            "linecolor": "white",
            "showbackground": true,
            "ticks": "",
            "zerolinecolor": "white"
           }
          },
          "shapedefaults": {
           "line": {
            "color": "#2a3f5f"
           }
          },
          "ternary": {
           "aaxis": {
            "gridcolor": "white",
            "linecolor": "white",
            "ticks": ""
           },
           "baxis": {
            "gridcolor": "white",
            "linecolor": "white",
            "ticks": ""
           },
           "bgcolor": "#E5ECF6",
           "caxis": {
            "gridcolor": "white",
            "linecolor": "white",
            "ticks": ""
           }
          },
          "title": {
           "x": 0.05
          },
          "xaxis": {
           "automargin": true,
           "gridcolor": "white",
           "linecolor": "white",
           "ticks": "",
           "title": {
            "standoff": 15
           },
           "zerolinecolor": "white",
           "zerolinewidth": 2
          },
          "yaxis": {
           "automargin": true,
           "gridcolor": "white",
           "linecolor": "white",
           "ticks": "",
           "title": {
            "standoff": 15
           },
           "zerolinecolor": "white",
           "zerolinewidth": 2
          }
         }
        },
        "title": {
         "text": "Words Frequency Distribution"
        },
        "uniformtext": {
         "minsize": 6
        },
        "width": 900,
        "xaxis": {
         "anchor": "y",
         "autorange": true,
         "domain": [
          0,
          1
         ],
         "range": [
          0,
          8516.842105263158
         ],
         "showgrid": false,
         "tickangle": -45,
         "tickfont": {
          "size": 10
         },
         "title": {
          "font": {
           "size": 15
          },
          "text": "Frequency Distribution"
         },
         "type": "linear"
        },
        "yaxis": {
         "anchor": "x",
         "autorange": true,
         "domain": [
          0,
          1
         ],
         "range": [
          -0.5,
          40.5
         ],
         "showgrid": false,
         "tickfont": {
          "size": 10
         },
         "title": {
          "font": {
           "size": 15
          },
          "text": "Words Sample"
         },
         "type": "category"
        }
       }
      },
      "image/png": "[encoded data removed]",
      "text/html": [
       "<div>                            <div id=\"7cca17a8-4f19-4fca-a09c-a4578232fee2\" class=\"plotly-graph-div\" style=\"height:800px; width:900px;\"></div>            <script type=\"text/javascript\">                require([\"plotly\"], function(Plotly) {                    window.PLOTLYENV=window.PLOTLYENV || {};                                    if (document.getElementById(\"7cca17a8-4f19-4fca-a09c-a4578232fee2\")) {                    Plotly.newPlot(                        \"7cca17a8-4f19-4fca-a09c-a4578232fee2\",                        [{\"alignmentgroup\": \"True\", \"hovertemplate\": \"sentiment=neutral<br>frequency=%{text}<br>word=%{y}<extra></extra>\", \"legendgroup\": \"neutral\", \"marker\": {\"color\": \"#636efa\"}, \"name\": \"neutral\", \"offsetgroup\": \"neutral\", \"orientation\": \"h\", \"showlegend\": true, \"text\": [1597.0, 2224.0, 1831.0, 2144.0, 1258.0, 1155.0, 1258.0, 6483.0, 1902.0, 3096.0, 1769.0, 2198.0, 3096.0, 1389.0, 1258.0], \"textposition\": \"inside\", \"texttemplate\": \"%{text:.3s}\", \"type\": \"bar\", \"x\": [1597, 2224, 1831, 2144, 1258, 1155, 1258, 6483, 1902, 3096, 1769, 2198, 3096, 1389, 1258], \"xaxis\": \"x\", \"y\": [\"tv\", \"information\", \"delivered\", \"week\", \"tax\", \"recent\", \"tax\", \"stock\", \"service\", \"may\", \"still\", \"use\", \"may\", \"cook\", \"tax\"], \"yaxis\": \"y\"}, {\"alignmentgroup\": \"True\", \"hovertemplate\": \"sentiment=negative<br>frequency=%{text}<br>word=%{y}<extra></extra>\", \"legendgroup\": \"negative\", \"marker\": {\"color\": \"#EF553B\"}, \"name\": \"negative\", \"offsetgroup\": \"negative\", \"orientation\": \"h\", \"showlegend\": true, \"text\": [2646.0, 1207.0, 3206.0, 2084.0, 1384.0, 4547.0, 2419.0, 1526.0, 1042.0, 1539.0, 1490.0, 4503.0, 1899.0, 1154.0, 1336.0], \"textposition\": \"inside\", \"texttemplate\": \"%{text:.3s}\", \"type\": \"bar\", \"x\": [2646, 1207, 3206, 2084, 1384, 4547, 2419, 1526, 1042, 1539, 1490, 4503, 1899, 1154, 1336], \"xaxis\": \"x\", \"y\": [\"business\", \"people\", \"iphone\", \"would\", \"supply\", \"year\", \"time\", \"home\", \"it\", \"years\", \"high\", \"new\", \"may\", \"coronavirus\", \"share\"], \"yaxis\": \"y\"}, {\"alignmentgroup\": \"True\", \"hovertemplate\": \"sentiment=positive<br>frequency=%{text}<br>word=%{y}<extra></extra>\", \"legendgroup\": \"positive\", \"marker\": {\"color\": \"#00cc96\"}, \"name\": \"positive\", \"offsetgroup\": \"positive\", \"orientation\": \"h\", \"showlegend\": true, \"text\": [2730.0, 1939.0, 1202.0, 1579.0, 1030.0, 1446.0, 1062.0, 3990.0, 1345.0, 1846.0, 1146.0, 2814.0, 2684.0, 1365.0, 2688.0], \"textposition\": \"inside\", \"texttemplate\": \"%{text:.3s}\", \"type\": \"bar\", \"x\": [2730, 1939, 1202, 1579, 1030, 1446, 1062, 3990, 1345, 1846, 1146, 2814, 2684, 1365, 2688], \"xaxis\": \"x\", \"y\": [\"back\", \"april\", \"strategy\", \"launched\", \"hold\", \"monday\", \"power\", \"like\", \"benzinga\", \"think\", \"believe\", \"higher\", \"world\", \"days\", \"today\"], \"yaxis\": \"y\"}],                        {\"barmode\": \"relative\", \"height\": 800, \"legend\": {\"bgcolor\": \"rgba(255, 255, 255, 0)\", \"bordercolor\": \"rgba(255, 255, 255, 0)\", \"title\": {\"text\": \"sentiment\"}, \"tracegroupgap\": 0, \"x\": 1, \"xanchor\": \"right\", \"y\": 1, \"yanchor\": \"top\"}, \"margin\": {\"b\": 50, \"l\": 50, \"r\": 50, \"t\": 50}, \"template\": {\"data\": {\"bar\": [{\"error_x\": {\"color\": \"#2a3f5f\"}, \"error_y\": {\"color\": \"#2a3f5f\"}, \"marker\": {\"line\": {\"color\": \"#E5ECF6\", \"width\": 0.5}}, \"type\": \"bar\"}], \"barpolar\": [{\"marker\": {\"line\": {\"color\": \"#E5ECF6\", \"width\": 0.5}}, \"type\": \"barpolar\"}], \"carpet\": [{\"aaxis\": {\"endlinecolor\": \"#2a3f5f\", \"gridcolor\": \"white\", \"linecolor\": \"white\", \"minorgridcolor\": \"white\", \"startlinecolor\": \"#2a3f5f\"}, \"baxis\": {\"endlinecolor\": \"#2a3f5f\", \"gridcolor\": \"white\", \"linecolor\": \"white\", \"minorgridcolor\": \"white\", \"startlinecolor\": \"#2a3f5f\"}, \"type\": \"carpet\"}], \"choropleth\": [{\"colorbar\": {\"outlinewidth\": 0, \"ticks\": \"\"}, \"type\": \"choropleth\"}], \"contour\": [{\"colorbar\": {\"outlinewidth\": 0, \"ticks\": \"\"}, \"colorscale\": [[0.0, \"#0d0887\"], [0.1111111111111111, \"#46039f\"], [0.2222222222222222, \"#7201a8\"], [0.3333333333333333, \"#9c179e\"], [0.4444444444444444, \"#bd3786\"], [0.5555555555555556, \"#d8576b\"], [0.6666666666666666, \"#ed7953\"], [0.7777777777777778, \"#fb9f3a\"], [0.8888888888888888, \"#fdca26\"], [1.0, \"#f0f921\"]], \"type\": \"contour\"}], \"contourcarpet\": [{\"colorbar\": {\"outlinewidth\": 0, \"ticks\": \"\"}, \"type\": \"contourcarpet\"}], \"heatmap\": [{\"colorbar\": {\"outlinewidth\": 0, \"ticks\": \"\"}, \"colorscale\": [[0.0, \"#0d0887\"], [0.1111111111111111, \"#46039f\"], [0.2222222222222222, \"#7201a8\"], [0.3333333333333333, \"#9c179e\"], [0.4444444444444444, \"#bd3786\"], [0.5555555555555556, \"#d8576b\"], [0.6666666666666666, \"#ed7953\"], [0.7777777777777778, \"#fb9f3a\"], [0.8888888888888888, \"#fdca26\"], [1.0, \"#f0f921\"]], \"type\": \"heatmap\"}], \"heatmapgl\": [{\"colorbar\": {\"outlinewidth\": 0, \"ticks\": \"\"}, \"colorscale\": [[0.0, \"#0d0887\"], [0.1111111111111111, \"#46039f\"], [0.2222222222222222, \"#7201a8\"], [0.3333333333333333, \"#9c179e\"], [0.4444444444444444, \"#bd3786\"], [0.5555555555555556, \"#d8576b\"], [0.6666666666666666, \"#ed7953\"], [0.7777777777777778, \"#fb9f3a\"], [0.8888888888888888, \"#fdca26\"], [1.0, \"#f0f921\"]], \"type\": \"heatmapgl\"}], \"histogram\": [{\"marker\": {\"colorbar\": {\"outlinewidth\": 0, \"ticks\": \"\"}}, \"type\": \"histogram\"}], \"histogram2d\": [{\"colorbar\": {\"outlinewidth\": 0, \"ticks\": \"\"}, \"colorscale\": [[0.0, \"#0d0887\"], [0.1111111111111111, \"#46039f\"], [0.2222222222222222, \"#7201a8\"], [0.3333333333333333, \"#9c179e\"], [0.4444444444444444, \"#bd3786\"], [0.5555555555555556, \"#d8576b\"], [0.6666666666666666, \"#ed7953\"], [0.7777777777777778, \"#fb9f3a\"], [0.8888888888888888, \"#fdca26\"], [1.0, \"#f0f921\"]], \"type\": \"histogram2d\"}], \"histogram2dcontour\": [{\"colorbar\": {\"outlinewidth\": 0, \"ticks\": \"\"}, \"colorscale\": [[0.0, \"#0d0887\"], [0.1111111111111111, \"#46039f\"], [0.2222222222222222, \"#7201a8\"], [0.3333333333333333, \"#9c179e\"], [0.4444444444444444, \"#bd3786\"], [0.5555555555555556, \"#d8576b\"], [0.6666666666666666, \"#ed7953\"], [0.7777777777777778, \"#fb9f3a\"], [0.8888888888888888, \"#fdca26\"], [1.0, \"#f0f921\"]], \"type\": \"histogram2dcontour\"}], \"mesh3d\": [{\"colorbar\": {\"outlinewidth\": 0, \"ticks\": \"\"}, \"type\": \"mesh3d\"}], \"parcoords\": [{\"line\": {\"colorbar\": {\"outlinewidth\": 0, \"ticks\": \"\"}}, \"type\": \"parcoords\"}], \"pie\": [{\"automargin\": true, \"type\": \"pie\"}], \"scatter\": [{\"marker\": {\"colorbar\": {\"outlinewidth\": 0, \"ticks\": \"\"}}, \"type\": \"scatter\"}], \"scatter3d\": [{\"line\": {\"colorbar\": {\"outlinewidth\": 0, \"ticks\": \"\"}}, \"marker\": {\"colorbar\": {\"outlinewidth\": 0, \"ticks\": \"\"}}, \"type\": \"scatter3d\"}], \"scattercarpet\": [{\"marker\": {\"colorbar\": {\"outlinewidth\": 0, \"ticks\": \"\"}}, \"type\": \"scattercarpet\"}], \"scattergeo\": [{\"marker\": {\"colorbar\": {\"outlinewidth\": 0, \"ticks\": \"\"}}, \"type\": \"scattergeo\"}], \"scattergl\": [{\"marker\": {\"colorbar\": {\"outlinewidth\": 0, \"ticks\": \"\"}}, \"type\": \"scattergl\"}], \"scattermapbox\": [{\"marker\": {\"colorbar\": {\"outlinewidth\": 0, \"ticks\": \"\"}}, \"type\": \"scattermapbox\"}], \"scatterpolar\": [{\"marker\": {\"colorbar\": {\"outlinewidth\": 0, \"ticks\": \"\"}}, \"type\": \"scatterpolar\"}], \"scatterpolargl\": [{\"marker\": {\"colorbar\": {\"outlinewidth\": 0, \"ticks\": \"\"}}, \"type\": \"scatterpolargl\"}], \"scatterternary\": [{\"marker\": {\"colorbar\": {\"outlinewidth\": 0, \"ticks\": \"\"}}, \"type\": \"scatterternary\"}], \"surface\": [{\"colorbar\": {\"outlinewidth\": 0, \"ticks\": \"\"}, \"colorscale\": [[0.0, \"#0d0887\"], [0.1111111111111111, \"#46039f\"], [0.2222222222222222, \"#7201a8\"], [0.3333333333333333, \"#9c179e\"], [0.4444444444444444, \"#bd3786\"], [0.5555555555555556, \"#d8576b\"], [0.6666666666666666, \"#ed7953\"], [0.7777777777777778, \"#fb9f3a\"], [0.8888888888888888, \"#fdca26\"], [1.0, \"#f0f921\"]], \"type\": \"surface\"}], \"table\": [{\"cells\": {\"fill\": {\"color\": \"#EBF0F8\"}, \"line\": {\"color\": \"white\"}}, \"header\": {\"fill\": {\"color\": \"#C8D4E3\"}, \"line\": {\"color\": \"white\"}}, \"type\": \"table\"}]}, \"layout\": {\"annotationdefaults\": {\"arrowcolor\": \"#2a3f5f\", \"arrowhead\": 0, \"arrowwidth\": 1}, \"autotypenumbers\": \"strict\", \"coloraxis\": {\"colorbar\": {\"outlinewidth\": 0, \"ticks\": \"\"}}, \"colorscale\": {\"diverging\": [[0, \"#8e0152\"], [0.1, \"#c51b7d\"], [0.2, \"#de77ae\"], [0.3, \"#f1b6da\"], [0.4, \"#fde0ef\"], [0.5, \"#f7f7f7\"], [0.6, \"#e6f5d0\"], [0.7, \"#b8e186\"], [0.8, \"#7fbc41\"], [0.9, \"#4d9221\"], [1, \"#276419\"]], \"sequential\": [[0.0, \"#0d0887\"], [0.1111111111111111, \"#46039f\"], [0.2222222222222222, \"#7201a8\"], [0.3333333333333333, \"#9c179e\"], [0.4444444444444444, \"#bd3786\"], [0.5555555555555556, \"#d8576b\"], [0.6666666666666666, \"#ed7953\"], [0.7777777777777778, \"#fb9f3a\"], [0.8888888888888888, \"#fdca26\"], [1.0, \"#f0f921\"]], \"sequentialminus\": [[0.0, \"#0d0887\"], [0.1111111111111111, \"#46039f\"], [0.2222222222222222, \"#7201a8\"], [0.3333333333333333, \"#9c179e\"], [0.4444444444444444, \"#bd3786\"], [0.5555555555555556, \"#d8576b\"], [0.6666666666666666, \"#ed7953\"], [0.7777777777777778, \"#fb9f3a\"], [0.8888888888888888, \"#fdca26\"], [1.0, \"#f0f921\"]]}, \"colorway\": [\"#636efa\", \"#EF553B\", \"#00cc96\", \"#ab63fa\", \"#FFA15A\", \"#19d3f3\", \"#FF6692\", \"#B6E880\", \"#FF97FF\", \"#FECB52\"], \"font\": {\"color\": \"#2a3f5f\"}, \"geo\": {\"bgcolor\": \"white\", \"lakecolor\": \"white\", \"landcolor\": \"#E5ECF6\", \"showlakes\": true, \"showland\": true, \"subunitcolor\": \"white\"}, \"hoverlabel\": {\"align\": \"left\"}, \"hovermode\": \"closest\", \"mapbox\": {\"style\": \"light\"}, \"paper_bgcolor\": \"white\", \"plot_bgcolor\": \"#E5ECF6\", \"polar\": {\"angularaxis\": {\"gridcolor\": \"white\", \"linecolor\": \"white\", \"ticks\": \"\"}, \"bgcolor\": \"#E5ECF6\", \"radialaxis\": {\"gridcolor\": \"white\", \"linecolor\": \"white\", \"ticks\": \"\"}}, \"scene\": {\"xaxis\": {\"backgroundcolor\": \"#E5ECF6\", \"gridcolor\": \"white\", \"gridwidth\": 2, \"linecolor\": \"white\", \"showbackground\": true, \"ticks\": \"\", \"zerolinecolor\": \"white\"}, \"yaxis\": {\"backgroundcolor\": \"#E5ECF6\", \"gridcolor\": \"white\", \"gridwidth\": 2, \"linecolor\": \"white\", \"showbackground\": true, \"ticks\": \"\", \"zerolinecolor\": \"white\"}, \"zaxis\": {\"backgroundcolor\": \"#E5ECF6\", \"gridcolor\": \"white\", \"gridwidth\": 2, \"linecolor\": \"white\", \"showbackground\": true, \"ticks\": \"\", \"zerolinecolor\": \"white\"}}, \"shapedefaults\": {\"line\": {\"color\": \"#2a3f5f\"}}, \"ternary\": {\"aaxis\": {\"gridcolor\": \"white\", \"linecolor\": \"white\", \"ticks\": \"\"}, \"baxis\": {\"gridcolor\": \"white\", \"linecolor\": \"white\", \"ticks\": \"\"}, \"bgcolor\": \"#E5ECF6\", \"caxis\": {\"gridcolor\": \"white\", \"linecolor\": \"white\", \"ticks\": \"\"}}, \"title\": {\"x\": 0.05}, \"xaxis\": {\"automargin\": true, \"gridcolor\": \"white\", \"linecolor\": \"white\", \"ticks\": \"\", \"title\": {\"standoff\": 15}, \"zerolinecolor\": \"white\", \"zerolinewidth\": 2}, \"yaxis\": {\"automargin\": true, \"gridcolor\": \"white\", \"linecolor\": \"white\", \"ticks\": \"\", \"title\": {\"standoff\": 15}, \"zerolinecolor\": \"white\", \"zerolinewidth\": 2}}}, \"title\": {\"text\": \"Words Frequency Distribution\"}, \"uniformtext\": {\"minsize\": 6}, \"width\": 900, \"xaxis\": {\"anchor\": \"y\", \"domain\": [0.0, 1.0], \"showgrid\": false, \"tickangle\": -45, \"tickfont\": {\"size\": 10}, \"title\": {\"font\": {\"size\": 15}, \"text\": \"Frequency Distribution\"}}, \"yaxis\": {\"anchor\": \"x\", \"domain\": [0.0, 1.0], \"showgrid\": false, \"tickfont\": {\"size\": 10}, \"title\": {\"font\": {\"size\": 15}, \"text\": \"Words Sample\"}}},                        {\"responsive\": true}                    ).then(function(){\n",
       "                            \n",
       "var gd = document.getElementById('7cca17a8-4f19-4fca-a09c-a4578232fee2');\n",
       "var x = new MutationObserver(function (mutations, observer) {{\n",
       "        var display = window.getComputedStyle(gd).display;\n",
       "        if (!display || display === 'none') {{\n",
       "            console.log([gd, 'removed!']);\n",
       "            Plotly.purge(gd);\n",
       "            observer.disconnect();\n",
       "        }}\n",
       "}});\n",
       "\n",
       "// Listen for the removal of the full notebook cells\n",
       "var notebookContainer = gd.closest('#notebook-container');\n",
       "if (notebookContainer) {{\n",
       "    x.observe(notebookContainer, {childList: true});\n",
       "}}\n",
       "\n",
       "// Listen for the clearing of the current output cell\n",
       "var outputEl = gd.closest('.output');\n",
       "if (outputEl) {{\n",
       "    x.observe(outputEl, {childList: true});\n",
       "}}\n",
       "\n",
       "                        })                };                });            </script>        </div>"
      ]
     },
     "metadata": {},
     "output_type": "display_data"
    }
   ],
   "source": [
    "fig3 = px.bar(\n",
    "    word_freq_dist,\n",
    "    x='frequency',\n",
    "    y='word',\n",
    "    text='frequency',\n",
    "    color='sentiment',\n",
    "    title='Words Frequency Distribution'\n",
    ")\n",
    "fig3.update_layout(\n",
    "    width=900,\n",
    "    height=800,\n",
    "    margin={\"r\":50,\"t\":50,\"l\":50,\"b\":50},\n",
    "    uniformtext_minsize=6,\n",
    "\n",
    "xaxis=dict(\n",
    "    title='Frequency Distribution',\n",
    "    linecolor=None,\n",
    "    titlefont_size=15,\n",
    "    tickfont_size=10,\n",
    "    showgrid=False,\n",
    "    tickangle=-45\n",
    "    ),\n",
    "yaxis=dict(\n",
    "    title='Words Sample',\n",
    "    linecolor=None,\n",
    "    titlefont_size=15,\n",
    "    tickfont_size=10,\n",
    "    showgrid=False\n",
    "    ),    \n",
    "legend=dict(\n",
    "    yanchor=\"top\",\n",
    "    xanchor=\"right\",\n",
    "    x=1,\n",
    "    y=1,\n",
    "    bgcolor='rgba(255, 255, 255, 0)',\n",
    "    bordercolor='rgba(255, 255, 255, 0)'\n",
    "            )    \n",
    "                )\n",
    "fig3.update_traces(texttemplate='%{text:.3s}', textposition='inside')\n",
    "fig3.show()"
   ]
  },
  {
   "cell_type": "code",
   "execution_count": 332,
   "id": "1e312591-a0a0-40a3-b953-9668694c8d1d",
   "metadata": {
    "execution": {
     "iopub.execute_input": "2021-06-05T19:40:23.881748Z",
     "iopub.status.busy": "2021-06-05T19:40:23.881087Z",
     "iopub.status.idle": "2021-06-05T19:40:25.025475Z",
     "shell.execute_reply": "2021-06-05T19:40:25.025117Z",
     "shell.execute_reply.started": "2021-06-05T19:40:23.881670Z"
    },
    "tags": []
   },
   "outputs": [
    {
     "data": {
      "image/png": "[encoded data removed]",
      "text/plain": [
       "<Figure size 1440x720 with 1 Axes>"
      ]
     },
     "metadata": {
      "needs_background": "light"
     },
     "output_type": "display_data"
    }
   ],
   "source": [
    "mask = load('./data/aapl_mask_1024x834.pkl')\n",
    "fig = plt.subplots(figsize=(20,10))\n",
    "wc = WordCloud(\n",
    "    mask=mask,\n",
    "    ranks_only=True,\n",
    "    background_color=\"white\",\n",
    "    collocations=True,\n",
    "    max_words=200,\n",
    "    max_font_size=100,\n",
    "    random_state=42,\n",
    "    width=1200,\n",
    "    height=800\n",
    "    )\n",
    "wc.generate(' '.join(fdist_df.word.to_list()))\n",
    "plt.imshow(wc, interpolation=\"bilinear\")\n",
    "plt.axis('off')\n",
    "plt.show()"
   ]
  },
  {
   "cell_type": "code",
   "execution_count": null,
   "id": "4d51cbb6-068b-4ef4-b796-1dbbfbc12f61",
   "metadata": {},
   "outputs": [],
   "source": []
  },
  {
   "cell_type": "code",
   "execution_count": null,
   "id": "3b815aa4-cb36-4416-b923-faedf3449154",
   "metadata": {
    "execution": {
     "iopub.status.busy": "2021-06-04T17:18:20.285486Z",
     "iopub.status.idle": "2021-06-04T17:18:20.285722Z",
     "shell.execute_reply": "2021-06-04T17:18:20.285638Z"
    },
    "tags": []
   },
   "outputs": [],
   "source": [
    "# new_df = Project(\"2021-05-15\", \"2021-05-31\", \"AAPL\", True, newsapi=True, finnhub=True, stocknews=True).run()"
   ]
  },
  {
   "cell_type": "code",
   "execution_count": null,
   "id": "0adfd55d-dc83-4ea9-b5f0-bc1b8f7e51e3",
   "metadata": {},
   "outputs": [],
   "source": []
  }
 ],
 "metadata": {
  "kernelspec": {
   "display_name": "Python 3",
   "language": "python",
   "name": "python3"
  },
  "language_info": {
   "codemirror_mode": {
    "name": "ipython",
    "version": 3
   },
   "file_extension": ".py",
   "mimetype": "text/x-python",
   "name": "python",
   "nbconvert_exporter": "python",
   "pygments_lexer": "ipython3",
   "version": "3.8.10"
  }
 },
 "nbformat": 4,
 "nbformat_minor": 5
}
