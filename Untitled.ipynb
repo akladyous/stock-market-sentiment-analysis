{
 "cells": [
  {
   "cell_type": "code",
   "execution_count": 1,
   "id": "2b941adc-f21d-4ad2-bcac-73b2a6f9f5ee",
   "metadata": {
    "execution": {
     "iopub.execute_input": "2021-06-03T22:15:56.403089Z",
     "iopub.status.busy": "2021-06-03T22:15:56.402301Z",
     "iopub.status.idle": "2021-06-03T22:15:58.442381Z",
     "shell.execute_reply": "2021-06-03T22:15:58.441595Z",
     "shell.execute_reply.started": "2021-06-03T22:15:56.402895Z"
    },
    "tags": []
   },
   "outputs": [
    {
     "name": "stdin",
     "output_type": "stream",
     "text": [
      "server location local\n"
     ]
    },
    {
     "name": "stdout",
     "output_type": "stream",
     "text": [
      "running from: Local\n"
     ]
    }
   ],
   "source": [
    "run __init__.py"
   ]
  },
  {
   "cell_type": "code",
   "execution_count": 2,
   "id": "cf81c4b9-df7a-4dc4-a33b-aeeac5673801",
   "metadata": {
    "execution": {
     "iopub.execute_input": "2021-06-03T22:15:59.928074Z",
     "iopub.status.busy": "2021-06-03T22:15:59.927715Z",
     "iopub.status.idle": "2021-06-03T22:16:02.411266Z",
     "shell.execute_reply": "2021-06-03T22:16:02.410936Z",
     "shell.execute_reply.started": "2021-06-03T22:15:59.928040Z"
    },
    "tags": []
   },
   "outputs": [],
   "source": [
    "# from keras.utils import get_file\n",
    "import pandas as pd\n",
    "import numpy as np\n",
    "from joblib import load, dump\n",
    "from finnhub_api import Finnhub\n",
    "from datetime_util import timestamp2datetime, str2date, str2datetime\n",
    "from project import Project\n",
    "import seaborn as sns\n",
    "import matplotlib.pyplot as plt"
   ]
  },
  {
   "cell_type": "code",
   "execution_count": null,
   "id": "168e64d9-00de-47db-9bf5-92929e3f00fc",
   "metadata": {},
   "outputs": [],
   "source": []
  },
  {
   "cell_type": "code",
   "execution_count": null,
   "id": "988c8c71-d2e7-493a-b19f-001c28e47166",
   "metadata": {},
   "outputs": [],
   "source": []
  },
  {
   "cell_type": "code",
   "execution_count": null,
   "id": "4bc2978f-9c73-46d9-9f67-b59194e0bc94",
   "metadata": {},
   "outputs": [],
   "source": []
  },
  {
   "cell_type": "code",
   "execution_count": null,
   "id": "31ad11a9-1083-4c4a-8378-667e515b1fc7",
   "metadata": {},
   "outputs": [],
   "source": []
  },
  {
   "cell_type": "code",
   "execution_count": null,
   "id": "3b815aa4-cb36-4416-b923-faedf3449154",
   "metadata": {
    "tags": []
   },
   "outputs": [],
   "source": [
    "new_df = Project(\"2021-05-15\", \"2021-05-31\", \"AAPL\", True, newsapi=True, finnhub=True, stocknews=True).run()"
   ]
  },
  {
   "cell_type": "code",
   "execution_count": 7,
   "id": "fed0772a-7d4b-4899-a087-87fff842bb76",
   "metadata": {
    "execution": {
     "iopub.execute_input": "2021-05-31T21:27:24.263382Z",
     "iopub.status.busy": "2021-05-31T21:27:24.262894Z",
     "iopub.status.idle": "2021-05-31T21:27:24.288575Z",
     "shell.execute_reply": "2021-05-31T21:27:24.287905Z",
     "shell.execute_reply.started": "2021-05-31T21:27:24.263333Z"
    },
    "tags": []
   },
   "outputs": [
    {
     "data": {
      "text/html": [
       "<div>\n",
       "<style scoped>\n",
       "    .dataframe tbody tr th:only-of-type {\n",
       "        vertical-align: middle;\n",
       "    }\n",
       "\n",
       "    .dataframe tbody tr th {\n",
       "        vertical-align: top;\n",
       "    }\n",
       "\n",
       "    .dataframe thead th {\n",
       "        text-align: right;\n",
       "    }\n",
       "</style>\n",
       "<table border=\"1\" class=\"dataframe\">\n",
       "  <thead>\n",
       "    <tr style=\"text-align: right;\">\n",
       "      <th></th>\n",
       "      <th>date</th>\n",
       "      <th>source</th>\n",
       "      <th>articles</th>\n",
       "      <th>negative</th>\n",
       "      <th>neutral</th>\n",
       "      <th>positive</th>\n",
       "      <th>compound</th>\n",
       "      <th>sentiment</th>\n",
       "      <th>negative</th>\n",
       "      <th>positive</th>\n",
       "    </tr>\n",
       "  </thead>\n",
       "  <tbody>\n",
       "    <tr>\n",
       "      <th>0</th>\n",
       "      <td>2021-05-30 05:51:00</td>\n",
       "      <td>The Motley Fool</td>\n",
       "      <td>returns returns founded brothers tom david gar...</td>\n",
       "      <td>0.050</td>\n",
       "      <td>0.818</td>\n",
       "      <td>0.132</td>\n",
       "      <td>0.9957</td>\n",
       "      <td>positive</td>\n",
       "      <td>0.017165</td>\n",
       "      <td>0.982835</td>\n",
       "    </tr>\n",
       "    <tr>\n",
       "      <th>1</th>\n",
       "      <td>2021-05-29 12:02:19</td>\n",
       "      <td>CNBC</td>\n",
       "      <td>early  automotive manufacturers suppliers exci...</td>\n",
       "      <td>0.017</td>\n",
       "      <td>0.818</td>\n",
       "      <td>0.165</td>\n",
       "      <td>0.9991</td>\n",
       "      <td>positive</td>\n",
       "      <td>0.000510</td>\n",
       "      <td>0.999490</td>\n",
       "    </tr>\n",
       "    <tr>\n",
       "      <th>2</th>\n",
       "      <td>2021-05-31 09:30:48</td>\n",
       "      <td>Fox Business</td>\n",
       "      <td>quotes delayed least minutes real time quotes ...</td>\n",
       "      <td>0.057</td>\n",
       "      <td>0.869</td>\n",
       "      <td>0.074</td>\n",
       "      <td>0.7184</td>\n",
       "      <td>positive</td>\n",
       "      <td>0.002255</td>\n",
       "      <td>0.997745</td>\n",
       "    </tr>\n",
       "    <tr>\n",
       "      <th>3</th>\n",
       "      <td>2021-05-31 10:36:00</td>\n",
       "      <td>Reuters</td>\n",
       "      <td>general view working session  finance minister...</td>\n",
       "      <td>0.055</td>\n",
       "      <td>0.750</td>\n",
       "      <td>0.195</td>\n",
       "      <td>0.9966</td>\n",
       "      <td>positive</td>\n",
       "      <td>0.000631</td>\n",
       "      <td>0.999369</td>\n",
       "    </tr>\n",
       "    <tr>\n",
       "      <th>4</th>\n",
       "      <td>2021-05-31 08:30:00</td>\n",
       "      <td>Forbes</td>\n",
       "      <td>trader signals offer standard poors stock inde...</td>\n",
       "      <td>0.049</td>\n",
       "      <td>0.783</td>\n",
       "      <td>0.168</td>\n",
       "      <td>0.9961</td>\n",
       "      <td>positive</td>\n",
       "      <td>0.002214</td>\n",
       "      <td>0.997785</td>\n",
       "    </tr>\n",
       "  </tbody>\n",
       "</table>\n",
       "</div>"
      ],
      "text/plain": [
       "                 date           source  \\\n",
       "0 2021-05-30 05:51:00  The Motley Fool   \n",
       "1 2021-05-29 12:02:19             CNBC   \n",
       "2 2021-05-31 09:30:48     Fox Business   \n",
       "3 2021-05-31 10:36:00          Reuters   \n",
       "4 2021-05-31 08:30:00           Forbes   \n",
       "\n",
       "                                            articles  negative  neutral  \\\n",
       "0  returns returns founded brothers tom david gar...     0.050    0.818   \n",
       "1  early  automotive manufacturers suppliers exci...     0.017    0.818   \n",
       "2  quotes delayed least minutes real time quotes ...     0.057    0.869   \n",
       "3  general view working session  finance minister...     0.055    0.750   \n",
       "4  trader signals offer standard poors stock inde...     0.049    0.783   \n",
       "\n",
       "   positive  compound sentiment  negative  positive  \n",
       "0     0.132    0.9957  positive  0.017165  0.982835  \n",
       "1     0.165    0.9991  positive  0.000510  0.999490  \n",
       "2     0.074    0.7184  positive  0.002255  0.997745  \n",
       "3     0.195    0.9966  positive  0.000631  0.999369  \n",
       "4     0.168    0.9961  positive  0.002214  0.997785  "
      ]
     },
     "execution_count": 7,
     "metadata": {},
     "output_type": "execute_result"
    }
   ],
   "source": [
    "p.head()"
   ]
  },
  {
   "cell_type": "code",
   "execution_count": 647,
   "id": "8d2cbe6f-28da-479d-bb95-f235bcae378a",
   "metadata": {
    "execution": {
     "iopub.execute_input": "2021-06-01T22:11:08.457581Z",
     "iopub.status.busy": "2021-06-01T22:11:08.457243Z",
     "iopub.status.idle": "2021-06-01T22:11:08.475047Z",
     "shell.execute_reply": "2021-06-01T22:11:08.474140Z",
     "shell.execute_reply.started": "2021-06-01T22:11:08.457547Z"
    },
    "tags": []
   },
   "outputs": [],
   "source": [
    "p.to_csv('./data/test.csv', index=0)"
   ]
  },
  {
   "cell_type": "code",
   "execution_count": 648,
   "id": "8af13677-45b6-48be-a3b0-449fed21b0b2",
   "metadata": {
    "execution": {
     "iopub.execute_input": "2021-06-01T22:11:22.159433Z",
     "iopub.status.busy": "2021-06-01T22:11:22.158825Z",
     "iopub.status.idle": "2021-06-01T22:11:22.174949Z",
     "shell.execute_reply": "2021-06-01T22:11:22.173806Z",
     "shell.execute_reply.started": "2021-06-01T22:11:22.159367Z"
    }
   },
   "outputs": [],
   "source": [
    "xx=pd.read_csv('./data/test.csv')"
   ]
  },
  {
   "cell_type": "code",
   "execution_count": 234,
   "id": "deec24be-2fdb-4457-bbf2-4220c1926b29",
   "metadata": {
    "execution": {
     "iopub.execute_input": "2021-06-01T17:30:18.779412Z",
     "iopub.status.busy": "2021-06-01T17:30:18.778672Z",
     "iopub.status.idle": "2021-06-01T17:30:18.787031Z",
     "shell.execute_reply": "2021-06-01T17:30:18.785621Z",
     "shell.execute_reply.started": "2021-06-01T17:30:18.779337Z"
    },
    "tags": []
   },
   "outputs": [],
   "source": [
    "df = p.copy()"
   ]
  },
  {
   "cell_type": "code",
   "execution_count": 238,
   "id": "8060c024-ad32-4fc2-96c0-5f13501237fe",
   "metadata": {
    "execution": {
     "iopub.execute_input": "2021-06-01T17:32:03.726148Z",
     "iopub.status.busy": "2021-06-01T17:32:03.725521Z",
     "iopub.status.idle": "2021-06-01T17:32:03.736435Z",
     "shell.execute_reply": "2021-06-01T17:32:03.735499Z",
     "shell.execute_reply.started": "2021-06-01T17:32:03.726081Z"
    },
    "tags": []
   },
   "outputs": [],
   "source": [
    "df.set_index('date', inplace=True)"
   ]
  },
  {
   "cell_type": "code",
   "execution_count": 244,
   "id": "c13ba17c-a5bb-4e76-8728-3d9a75022e3a",
   "metadata": {
    "execution": {
     "iopub.execute_input": "2021-06-01T17:32:52.597376Z",
     "iopub.status.busy": "2021-06-01T17:32:52.596601Z",
     "iopub.status.idle": "2021-06-01T17:32:52.621931Z",
     "shell.execute_reply": "2021-06-01T17:32:52.621237Z",
     "shell.execute_reply.started": "2021-06-01T17:32:52.597301Z"
    },
    "tags": []
   },
   "outputs": [
    {
     "data": {
      "text/html": [
       "<div>\n",
       "<style scoped>\n",
       "    .dataframe tbody tr th:only-of-type {\n",
       "        vertical-align: middle;\n",
       "    }\n",
       "\n",
       "    .dataframe tbody tr th {\n",
       "        vertical-align: top;\n",
       "    }\n",
       "\n",
       "    .dataframe thead th {\n",
       "        text-align: right;\n",
       "    }\n",
       "</style>\n",
       "<table border=\"1\" class=\"dataframe\">\n",
       "  <thead>\n",
       "    <tr style=\"text-align: right;\">\n",
       "      <th></th>\n",
       "      <th>source</th>\n",
       "      <th>articles</th>\n",
       "      <th>negative</th>\n",
       "      <th>neutral</th>\n",
       "      <th>positive</th>\n",
       "      <th>compound</th>\n",
       "      <th>sentiment</th>\n",
       "      <th>negative</th>\n",
       "      <th>positive</th>\n",
       "    </tr>\n",
       "    <tr>\n",
       "      <th>date</th>\n",
       "      <th></th>\n",
       "      <th></th>\n",
       "      <th></th>\n",
       "      <th></th>\n",
       "      <th></th>\n",
       "      <th></th>\n",
       "      <th></th>\n",
       "      <th></th>\n",
       "      <th></th>\n",
       "    </tr>\n",
       "  </thead>\n",
       "  <tbody>\n",
       "    <tr>\n",
       "      <th>2021-05-30 05:51:00</th>\n",
       "      <td>The Motley Fool</td>\n",
       "      <td>returns returns founded brothers tom david gar...</td>\n",
       "      <td>0.050</td>\n",
       "      <td>0.818</td>\n",
       "      <td>0.132</td>\n",
       "      <td>0.9957</td>\n",
       "      <td>positive</td>\n",
       "      <td>0.017165</td>\n",
       "      <td>0.982835</td>\n",
       "    </tr>\n",
       "    <tr>\n",
       "      <th>2021-05-30 05:58:59</th>\n",
       "      <td>Fox Business</td>\n",
       "      <td>quotes delayed least minutes real time quotes ...</td>\n",
       "      <td>0.020</td>\n",
       "      <td>0.877</td>\n",
       "      <td>0.104</td>\n",
       "      <td>0.9705</td>\n",
       "      <td>positive</td>\n",
       "      <td>0.005062</td>\n",
       "      <td>0.994938</td>\n",
       "    </tr>\n",
       "    <tr>\n",
       "      <th>2021-05-30 06:30:00</th>\n",
       "      <td>Kiplinger</td>\n",
       "      <td>getty images memorial day traditional start su...</td>\n",
       "      <td>0.013</td>\n",
       "      <td>0.876</td>\n",
       "      <td>0.112</td>\n",
       "      <td>0.9423</td>\n",
       "      <td>positive</td>\n",
       "      <td>0.000715</td>\n",
       "      <td>0.999285</td>\n",
       "    </tr>\n",
       "    <tr>\n",
       "      <th>2021-05-30 07:50:19</th>\n",
       "      <td>GuruFocus</td>\n",
       "      <td>dow jones industrial average closed friday gai...</td>\n",
       "      <td>0.053</td>\n",
       "      <td>0.622</td>\n",
       "      <td>0.325</td>\n",
       "      <td>0.9953</td>\n",
       "      <td>positive</td>\n",
       "      <td>0.002167</td>\n",
       "      <td>0.997833</td>\n",
       "    </tr>\n",
       "    <tr>\n",
       "      <th>2021-05-30 05:15:00</th>\n",
       "      <td>The Motley Fool</td>\n",
       "      <td>returns returns founded brothers tom david gar...</td>\n",
       "      <td>0.031</td>\n",
       "      <td>0.752</td>\n",
       "      <td>0.217</td>\n",
       "      <td>0.9972</td>\n",
       "      <td>positive</td>\n",
       "      <td>0.014240</td>\n",
       "      <td>0.985760</td>\n",
       "    </tr>\n",
       "    <tr>\n",
       "      <th>2021-05-30 18:37:00</th>\n",
       "      <td>Barrons</td>\n",
       "      <td>copy personal non commercial use only order pr...</td>\n",
       "      <td>0.063</td>\n",
       "      <td>0.812</td>\n",
       "      <td>0.125</td>\n",
       "      <td>0.9818</td>\n",
       "      <td>positive</td>\n",
       "      <td>0.002809</td>\n",
       "      <td>0.997191</td>\n",
       "    </tr>\n",
       "  </tbody>\n",
       "</table>\n",
       "</div>"
      ],
      "text/plain": [
       "                              source  \\\n",
       "date                                   \n",
       "2021-05-30 05:51:00  The Motley Fool   \n",
       "2021-05-30 05:58:59     Fox Business   \n",
       "2021-05-30 06:30:00        Kiplinger   \n",
       "2021-05-30 07:50:19        GuruFocus   \n",
       "2021-05-30 05:15:00  The Motley Fool   \n",
       "2021-05-30 18:37:00          Barrons   \n",
       "\n",
       "                                                              articles  \\\n",
       "date                                                                     \n",
       "2021-05-30 05:51:00  returns returns founded brothers tom david gar...   \n",
       "2021-05-30 05:58:59  quotes delayed least minutes real time quotes ...   \n",
       "2021-05-30 06:30:00  getty images memorial day traditional start su...   \n",
       "2021-05-30 07:50:19  dow jones industrial average closed friday gai...   \n",
       "2021-05-30 05:15:00  returns returns founded brothers tom david gar...   \n",
       "2021-05-30 18:37:00  copy personal non commercial use only order pr...   \n",
       "\n",
       "                     negative  neutral  positive  compound sentiment  \\\n",
       "date                                                                   \n",
       "2021-05-30 05:51:00     0.050    0.818     0.132    0.9957  positive   \n",
       "2021-05-30 05:58:59     0.020    0.877     0.104    0.9705  positive   \n",
       "2021-05-30 06:30:00     0.013    0.876     0.112    0.9423  positive   \n",
       "2021-05-30 07:50:19     0.053    0.622     0.325    0.9953  positive   \n",
       "2021-05-30 05:15:00     0.031    0.752     0.217    0.9972  positive   \n",
       "2021-05-30 18:37:00     0.063    0.812     0.125    0.9818  positive   \n",
       "\n",
       "                     negative  positive  \n",
       "date                                     \n",
       "2021-05-30 05:51:00  0.017165  0.982835  \n",
       "2021-05-30 05:58:59  0.005062  0.994938  \n",
       "2021-05-30 06:30:00  0.000715  0.999285  \n",
       "2021-05-30 07:50:19  0.002167  0.997833  \n",
       "2021-05-30 05:15:00  0.014240  0.985760  \n",
       "2021-05-30 18:37:00  0.002809  0.997191  "
      ]
     },
     "execution_count": 244,
     "metadata": {},
     "output_type": "execute_result"
    }
   ],
   "source": [
    "df.loc['2021-05-30']"
   ]
  },
  {
   "cell_type": "code",
   "execution_count": null,
   "id": "0adfd55d-dc83-4ea9-b5f0-bc1b8f7e51e3",
   "metadata": {},
   "outputs": [],
   "source": []
  }
 ],
 "metadata": {
  "kernelspec": {
   "display_name": "Python 3",
   "language": "python",
   "name": "python3"
  },
  "language_info": {
   "codemirror_mode": {
    "name": "ipython",
    "version": 3
   },
   "file_extension": ".py",
   "mimetype": "text/x-python",
   "name": "python",
   "nbconvert_exporter": "python",
   "pygments_lexer": "ipython3",
   "version": "3.8.10"
  }
 },
 "nbformat": 4,
 "nbformat_minor": 5
}
