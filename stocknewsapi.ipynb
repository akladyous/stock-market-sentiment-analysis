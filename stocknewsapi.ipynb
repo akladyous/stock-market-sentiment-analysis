{
 "cells": [
  {
   "cell_type": "code",
   "execution_count": 2,
   "id": "previous-protocol",
   "metadata": {
    "execution": {
     "iopub.execute_input": "2021-05-28T04:15:50.487719Z",
     "iopub.status.busy": "2021-05-28T04:15:50.487089Z",
     "iopub.status.idle": "2021-05-28T04:15:52.592958Z",
     "shell.execute_reply": "2021-05-28T04:15:52.592143Z",
     "shell.execute_reply.started": "2021-05-28T04:15:50.487651Z"
    },
    "tags": []
   },
   "outputs": [
    {
     "name": "stdin",
     "output_type": "stream",
     "text": [
      "server location local\n"
     ]
    },
    {
     "name": "stdout",
     "output_type": "stream",
     "text": [
      "running from: Local\n"
     ]
    }
   ],
   "source": [
    "import __init__"
   ]
  },
  {
   "cell_type": "code",
   "execution_count": 3,
   "id": "continent-transcript",
   "metadata": {
    "execution": {
     "iopub.execute_input": "2021-05-28T04:15:55.106318Z",
     "iopub.status.busy": "2021-05-28T04:15:55.105680Z",
     "iopub.status.idle": "2021-05-28T04:15:55.250718Z",
     "shell.execute_reply": "2021-05-28T04:15:55.250337Z",
     "shell.execute_reply.started": "2021-05-28T04:15:55.106246Z"
    },
    "tags": []
   },
   "outputs": [],
   "source": [
    "import json\n",
    "from joblib import dump, load\n",
    "import pandas as pd\n",
    "import main\n",
    "from stocknews_api import StockNewsAPI\n",
    "from scrapy import Scrapy"
   ]
  },
  {
   "cell_type": "code",
   "execution_count": 2,
   "id": "underlying-worcester",
   "metadata": {
    "execution": {
     "iopub.execute_input": "2021-05-26T15:19:30.228476Z",
     "iopub.status.busy": "2021-05-26T15:19:30.227964Z",
     "iopub.status.idle": "2021-05-26T15:19:30.235179Z",
     "shell.execute_reply": "2021-05-26T15:19:30.234069Z",
     "shell.execute_reply.started": "2021-05-26T15:19:30.228425Z"
    },
    "tags": []
   },
   "outputs": [],
   "source": [
    "token = load(\"./stocknewsapi/stocknewsapi_key.pkl\")"
   ]
  },
  {
   "cell_type": "code",
   "execution_count": 3,
   "id": "interstate-joseph",
   "metadata": {
    "execution": {
     "iopub.execute_input": "2021-05-26T06:00:20.564054Z",
     "iopub.status.busy": "2021-05-26T06:00:20.563572Z",
     "iopub.status.idle": "2021-05-26T06:00:20.569685Z",
     "shell.execute_reply": "2021-05-26T06:00:20.568615Z",
     "shell.execute_reply.started": "2021-05-26T06:00:20.564008Z"
    },
    "tags": []
   },
   "outputs": [],
   "source": [
    "start_date = \"2019-01-01\"\n",
    "end_date = \"2019-12-31\"\n",
    "tickers = \"AAPL\"\n",
    "file_name = './data/stock_news_api_' + start_date + '_' + end_date + '.pkl'"
   ]
  },
  {
   "cell_type": "code",
   "execution_count": 4,
   "id": "boolean-facility",
   "metadata": {
    "execution": {
     "iopub.execute_input": "2021-05-26T06:00:21.029296Z",
     "iopub.status.busy": "2021-05-26T06:00:21.028759Z",
     "iopub.status.idle": "2021-05-26T06:00:21.037495Z",
     "shell.execute_reply": "2021-05-26T06:00:21.036351Z",
     "shell.execute_reply.started": "2021-05-26T06:00:21.029245Z"
    },
    "tags": []
   },
   "outputs": [],
   "source": [
    "stocknewsapi = StockNewsAPI(token, start_date, end_date)"
   ]
  },
  {
   "cell_type": "code",
   "execution_count": 5,
   "id": "requested-species",
   "metadata": {
    "execution": {
     "iopub.execute_input": "2021-05-26T06:00:21.687731Z",
     "iopub.status.busy": "2021-05-26T06:00:21.687380Z",
     "iopub.status.idle": "2021-05-26T06:01:11.363701Z",
     "shell.execute_reply": "2021-05-26T06:01:11.362218Z",
     "shell.execute_reply.started": "2021-05-26T06:00:21.687698Z"
    }
   },
   "outputs": [
    {
     "name": "stdout",
     "output_type": "stream",
     "text": [
      "[ 100% ] https://stocknewsapi.com/api/v1?tickers=AAPL&type=article&token=timo8bdrdfcpfwweljogcb66iodw7egybu0y6qsw&fallback=true&country=USA&items=50&sortby=rank&pages=1&date=12232019-12272019"
     ]
    }
   ],
   "source": [
    "stocknewsapi_news = stocknewsapi.get_news(tickers, items=50, pages=1)"
   ]
  },
  {
   "cell_type": "code",
   "execution_count": 6,
   "id": "supposed-worship",
   "metadata": {
    "execution": {
     "iopub.execute_input": "2021-05-26T06:01:13.353211Z",
     "iopub.status.busy": "2021-05-26T06:01:13.352851Z",
     "iopub.status.idle": "2021-05-26T06:01:13.620050Z",
     "shell.execute_reply": "2021-05-26T06:01:13.619744Z",
     "shell.execute_reply.started": "2021-05-26T06:01:13.353177Z"
    }
   },
   "outputs": [
    {
     "data": {
      "text/plain": [
       "['./data/stock_news_api_2019-01-01_2019-12-31.pkl']"
      ]
     },
     "execution_count": 6,
     "metadata": {},
     "output_type": "execute_result"
    }
   ],
   "source": [
    "dump(stocknewsapi_news, file_name, compress=3)"
   ]
  },
  {
   "cell_type": "code",
   "execution_count": 12,
   "id": "ruled-proposition",
   "metadata": {
    "execution": {
     "iopub.execute_input": "2021-05-26T05:54:50.583015Z",
     "iopub.status.busy": "2021-05-26T05:54:50.582659Z",
     "iopub.status.idle": "2021-05-26T05:54:50.590159Z",
     "shell.execute_reply": "2021-05-26T05:54:50.588549Z",
     "shell.execute_reply.started": "2021-05-26T05:54:50.582982Z"
    },
    "tags": []
   },
   "outputs": [],
   "source": [
    "start_date = \"2020-01-01\"\n",
    "end_date = \"2020-12-31\"\n",
    "tickers = \"AAPL\"\n",
    "file_name = './data/stock_news_api_' + start_date + '_' + end_date + '.pkl'"
   ]
  },
  {
   "cell_type": "code",
   "execution_count": 13,
   "id": "opposite-block",
   "metadata": {
    "execution": {
     "iopub.execute_input": "2021-05-26T05:54:50.906297Z",
     "iopub.status.busy": "2021-05-26T05:54:50.905694Z",
     "iopub.status.idle": "2021-05-26T05:54:50.912719Z",
     "shell.execute_reply": "2021-05-26T05:54:50.911628Z",
     "shell.execute_reply.started": "2021-05-26T05:54:50.906233Z"
    }
   },
   "outputs": [],
   "source": [
    "stocknewsapi = StockNewsAPI(token, start_date, end_date)"
   ]
  },
  {
   "cell_type": "code",
   "execution_count": 14,
   "id": "rental-olive",
   "metadata": {
    "execution": {
     "iopub.execute_input": "2021-05-26T05:54:51.875227Z",
     "iopub.status.busy": "2021-05-26T05:54:51.874863Z",
     "iopub.status.idle": "2021-05-26T05:55:42.306833Z",
     "shell.execute_reply": "2021-05-26T05:55:42.305285Z",
     "shell.execute_reply.started": "2021-05-26T05:54:51.875195Z"
    }
   },
   "outputs": [
    {
     "name": "stdout",
     "output_type": "stream",
     "text": [
      "[ 100% ] https://stocknewsapi.com/api/v1?tickers=AAPL&type=article&token=timo8bdrdfcpfwweljogcb66iodw7egybu0y6qsw&fallback=true&country=USA&items=50&sortby=rank&pages=1&date=12222020-12262020"
     ]
    }
   ],
   "source": [
    "stocknewsapi_news = stocknewsapi.get_news(tickers, items=50, pages=1)"
   ]
  },
  {
   "cell_type": "code",
   "execution_count": 15,
   "id": "early-alert",
   "metadata": {
    "execution": {
     "iopub.execute_input": "2021-05-26T05:55:48.002660Z",
     "iopub.status.busy": "2021-05-26T05:55:48.002314Z",
     "iopub.status.idle": "2021-05-26T05:55:48.307246Z",
     "shell.execute_reply": "2021-05-26T05:55:48.306931Z",
     "shell.execute_reply.started": "2021-05-26T05:55:48.002626Z"
    }
   },
   "outputs": [
    {
     "data": {
      "text/plain": [
       "['./data/stock_news_api_2020-01-01_2020-12-31.pkl']"
      ]
     },
     "execution_count": 15,
     "metadata": {},
     "output_type": "execute_result"
    }
   ],
   "source": [
    "dump(stocknewsapi_news, file_name, compress=3)"
   ]
  },
  {
   "cell_type": "code",
   "execution_count": 3,
   "id": "several-booking",
   "metadata": {
    "execution": {
     "iopub.execute_input": "2021-05-26T05:52:38.161084Z",
     "iopub.status.busy": "2021-05-26T05:52:38.160059Z",
     "iopub.status.idle": "2021-05-26T05:52:38.167903Z",
     "shell.execute_reply": "2021-05-26T05:52:38.166499Z",
     "shell.execute_reply.started": "2021-05-26T05:52:38.160966Z"
    },
    "tags": []
   },
   "outputs": [],
   "source": [
    "start_date = \"2021-01-01\"\n",
    "end_date = \"2021-04-30\"\n",
    "tickers = \"AAPL\"\n",
    "file_name = './data/stock_news_api_' + start_date + '_' + end_date + '.pkl'"
   ]
  },
  {
   "cell_type": "code",
   "execution_count": 4,
   "id": "photographic-transsexual",
   "metadata": {
    "execution": {
     "iopub.execute_input": "2021-05-26T05:52:40.888781Z",
     "iopub.status.busy": "2021-05-26T05:52:40.888388Z",
     "iopub.status.idle": "2021-05-26T05:52:40.896084Z",
     "shell.execute_reply": "2021-05-26T05:52:40.894059Z",
     "shell.execute_reply.started": "2021-05-26T05:52:40.888746Z"
    },
    "tags": []
   },
   "outputs": [],
   "source": [
    "stocknewsapi = StockNewsAPI(token, start_date, end_date)"
   ]
  },
  {
   "cell_type": "code",
   "execution_count": 5,
   "id": "supreme-holder",
   "metadata": {
    "execution": {
     "iopub.execute_input": "2021-05-26T05:52:43.005542Z",
     "iopub.status.busy": "2021-05-26T05:52:43.005183Z",
     "iopub.status.idle": "2021-05-26T05:52:59.410540Z",
     "shell.execute_reply": "2021-05-26T05:52:59.409002Z",
     "shell.execute_reply.started": "2021-05-26T05:52:43.005508Z"
    },
    "tags": []
   },
   "outputs": [
    {
     "name": "stdout",
     "output_type": "stream",
     "text": [
      "[ 100% ] https://stocknewsapi.com/api/v1?tickers=AAPL&type=article&token=timo8bdrdfcpfwweljogcb66iodw7egybu0y6qsw&fallback=true&country=USA&items=50&sortby=rank&pages=1&date=04232021-04272021"
     ]
    }
   ],
   "source": [
    "stocknewsapi_news = stocknewsapi.get_news(tickers, items=50, pages=1)"
   ]
  },
  {
   "cell_type": "code",
   "execution_count": 8,
   "id": "prostate-sociology",
   "metadata": {
    "execution": {
     "iopub.execute_input": "2021-05-26T05:53:16.763417Z",
     "iopub.status.busy": "2021-05-26T05:53:16.762728Z",
     "iopub.status.idle": "2021-05-26T05:53:16.891676Z",
     "shell.execute_reply": "2021-05-26T05:53:16.891332Z",
     "shell.execute_reply.started": "2021-05-26T05:53:16.763350Z"
    }
   },
   "outputs": [
    {
     "data": {
      "text/plain": [
       "['./data/stock_news_api_2021-01-01_2021-04-30.pkl']"
      ]
     },
     "execution_count": 8,
     "metadata": {},
     "output_type": "execute_result"
    }
   ],
   "source": [
    "dump(stocknewsapi_news, file_name, compress=3)"
   ]
  },
  {
   "cell_type": "code",
   "execution_count": 3,
   "id": "olive-freeware",
   "metadata": {
    "execution": {
     "iopub.execute_input": "2021-05-26T15:19:39.689652Z",
     "iopub.status.busy": "2021-05-26T15:19:39.689269Z",
     "iopub.status.idle": "2021-05-26T15:19:40.048924Z",
     "shell.execute_reply": "2021-05-26T15:19:40.048534Z",
     "shell.execute_reply.started": "2021-05-26T15:19:39.689618Z"
    },
    "tags": []
   },
   "outputs": [],
   "source": [
    "apple_news = list()\n",
    "apple_news_2019 = load('./data/stock_news_api_2019-01-01_2019-12-31.pkl')\n",
    "apple_news_2020 = load('./data/stock_news_api_2020-01-01_2020-12-31.pkl')\n",
    "apple_news_2021 = load('./data/stock_news_api_2021-01-01_2021-04-30.pkl')"
   ]
  },
  {
   "cell_type": "code",
   "execution_count": 4,
   "id": "agreed-cleaners",
   "metadata": {
    "execution": {
     "iopub.execute_input": "2021-05-26T15:19:42.042096Z",
     "iopub.status.busy": "2021-05-26T15:19:42.041711Z",
     "iopub.status.idle": "2021-05-26T15:19:42.046603Z",
     "shell.execute_reply": "2021-05-26T15:19:42.045671Z",
     "shell.execute_reply.started": "2021-05-26T15:19:42.042059Z"
    },
    "tags": []
   },
   "outputs": [],
   "source": [
    "apple_news.extend(apple_news_2019)\n",
    "apple_news.extend(apple_news_2020)\n",
    "apple_news.extend(apple_news_2021)"
   ]
  },
  {
   "cell_type": "code",
   "execution_count": 8,
   "id": "impossible-american",
   "metadata": {
    "execution": {
     "iopub.execute_input": "2021-05-26T15:20:37.770042Z",
     "iopub.status.busy": "2021-05-26T15:20:37.769690Z",
     "iopub.status.idle": "2021-05-26T15:20:37.811060Z",
     "shell.execute_reply": "2021-05-26T15:20:37.810438Z",
     "shell.execute_reply.started": "2021-05-26T15:20:37.770009Z"
    },
    "tags": []
   },
   "outputs": [
    {
     "data": {
      "text/html": [
       "<div>\n",
       "<style scoped>\n",
       "    .dataframe tbody tr th:only-of-type {\n",
       "        vertical-align: middle;\n",
       "    }\n",
       "\n",
       "    .dataframe tbody tr th {\n",
       "        vertical-align: top;\n",
       "    }\n",
       "\n",
       "    .dataframe thead th {\n",
       "        text-align: right;\n",
       "    }\n",
       "</style>\n",
       "<table border=\"1\" class=\"dataframe\">\n",
       "  <thead>\n",
       "    <tr style=\"text-align: right;\">\n",
       "      <th></th>\n",
       "      <th>news_url</th>\n",
       "      <th>image_url</th>\n",
       "      <th>title</th>\n",
       "      <th>text</th>\n",
       "      <th>source_name</th>\n",
       "      <th>date</th>\n",
       "      <th>topics</th>\n",
       "      <th>sentiment</th>\n",
       "      <th>type</th>\n",
       "      <th>tickers</th>\n",
       "    </tr>\n",
       "  </thead>\n",
       "  <tbody>\n",
       "    <tr>\n",
       "      <th>0</th>\n",
       "      <td>https://www.cnbc.com/2021/05/25/home-prices-in...</td>\n",
       "      <td>https://cdn.snapi.dev/images/v1/b/m/104669168-...</td>\n",
       "      <td>Home prices in March saw highest growth in ove...</td>\n",
       "      <td>Home prices in March were up 13%, one of the l...</td>\n",
       "      <td>CNBC</td>\n",
       "      <td>Tue, 25 May 2021 09:01:19 -0400</td>\n",
       "      <td>[]</td>\n",
       "      <td>Neutral</td>\n",
       "      <td>Article</td>\n",
       "      <td>NaN</td>\n",
       "    </tr>\n",
       "    <tr>\n",
       "      <th>1</th>\n",
       "      <td>https://www.reuters.com/article/us-usa-economy...</td>\n",
       "      <td>https://cdn.snapi.dev/images/v1/a/s/m02d202105...</td>\n",
       "      <td>U.S. home prices rose more than expected in Ma...</td>\n",
       "      <td>U.S. single-family home prices in 20 key urban...</td>\n",
       "      <td>Reuters</td>\n",
       "      <td>Tue, 25 May 2021 09:09:00 -0400</td>\n",
       "      <td>[]</td>\n",
       "      <td>Neutral</td>\n",
       "      <td>Article</td>\n",
       "      <td>NaN</td>\n",
       "    </tr>\n",
       "    <tr>\n",
       "      <th>2</th>\n",
       "      <td>https://www.reuters.com/article/us-usa-economy...</td>\n",
       "      <td>https://cdn.snapi.dev/images/v1/8/c/m02d202105...</td>\n",
       "      <td>U.S. new home sales drop in April; March sales...</td>\n",
       "      <td>Sales of new U.S. single-family homes dropped ...</td>\n",
       "      <td>Reuters</td>\n",
       "      <td>Tue, 25 May 2021 10:33:00 -0400</td>\n",
       "      <td>[]</td>\n",
       "      <td>Negative</td>\n",
       "      <td>Article</td>\n",
       "      <td>NaN</td>\n",
       "    </tr>\n",
       "  </tbody>\n",
       "</table>\n",
       "</div>"
      ],
      "text/plain": [
       "                                            news_url  \\\n",
       "0  https://www.cnbc.com/2021/05/25/home-prices-in...   \n",
       "1  https://www.reuters.com/article/us-usa-economy...   \n",
       "2  https://www.reuters.com/article/us-usa-economy...   \n",
       "\n",
       "                                           image_url  \\\n",
       "0  https://cdn.snapi.dev/images/v1/b/m/104669168-...   \n",
       "1  https://cdn.snapi.dev/images/v1/a/s/m02d202105...   \n",
       "2  https://cdn.snapi.dev/images/v1/8/c/m02d202105...   \n",
       "\n",
       "                                               title  \\\n",
       "0  Home prices in March saw highest growth in ove...   \n",
       "1  U.S. home prices rose more than expected in Ma...   \n",
       "2  U.S. new home sales drop in April; March sales...   \n",
       "\n",
       "                                                text source_name  \\\n",
       "0  Home prices in March were up 13%, one of the l...        CNBC   \n",
       "1  U.S. single-family home prices in 20 key urban...     Reuters   \n",
       "2  Sales of new U.S. single-family homes dropped ...     Reuters   \n",
       "\n",
       "                              date topics sentiment     type tickers  \n",
       "0  Tue, 25 May 2021 09:01:19 -0400     []   Neutral  Article     NaN  \n",
       "1  Tue, 25 May 2021 09:09:00 -0400     []   Neutral  Article     NaN  \n",
       "2  Tue, 25 May 2021 10:33:00 -0400     []  Negative  Article     NaN  "
      ]
     },
     "execution_count": 8,
     "metadata": {},
     "output_type": "execute_result"
    }
   ],
   "source": [
    "apple_news_df = pd.DataFrame(apple_news)"
   ]
  },
  {
   "cell_type": "code",
   "execution_count": 13,
   "id": "prospective-patrick",
   "metadata": {
    "execution": {
     "iopub.execute_input": "2021-05-26T17:05:58.090585Z",
     "iopub.status.busy": "2021-05-26T17:05:58.090060Z",
     "iopub.status.idle": "2021-05-26T17:05:58.224887Z",
     "shell.execute_reply": "2021-05-26T17:05:58.224501Z",
     "shell.execute_reply.started": "2021-05-26T17:05:58.090544Z"
    },
    "tags": []
   },
   "outputs": [],
   "source": [
    "apple_news_df.to_csv('./data/apple_news.csv')"
   ]
  },
  {
   "cell_type": "code",
   "execution_count": 3,
   "id": "signal-johnston",
   "metadata": {
    "execution": {
     "iopub.execute_input": "2021-05-27T05:38:41.101510Z",
     "iopub.status.busy": "2021-05-27T05:38:41.100853Z",
     "iopub.status.idle": "2021-05-27T05:38:41.205639Z",
     "shell.execute_reply": "2021-05-27T05:38:41.205258Z",
     "shell.execute_reply.started": "2021-05-27T05:38:41.101444Z"
    },
    "tags": []
   },
   "outputs": [],
   "source": [
    "apple_news_df = pd.read_csv('./data/apple_news.csv')"
   ]
  },
  {
   "cell_type": "code",
   "execution_count": 4,
   "id": "convinced-edward",
   "metadata": {
    "execution": {
     "iopub.execute_input": "2021-05-27T05:38:44.657510Z",
     "iopub.status.busy": "2021-05-27T05:38:44.656864Z",
     "iopub.status.idle": "2021-05-27T08:09:05.935628Z",
     "shell.execute_reply": "2021-05-27T08:09:05.935164Z",
     "shell.execute_reply.started": "2021-05-27T05:38:44.657443Z"
    },
    "tags": []
   },
   "outputs": [
    {
     "name": "stdout",
     "output_type": "stream",
     "text": [
      "10450/10450 100% https://www.fool.com/investing/2021/04/25/apple-takes-aim-at-spotifys-podcast-ambitions/k/ck-before-earningsface-off-947591.html?SNAPIe-macs/inesses-idUSKBN2CD1MD-947746.html?SNAPI-giant-940648.html?SNAPItch%2Fpf%20(MarketWatch.com%20-%20Personal%20Finance%20News)\r"
     ]
    }
   ],
   "source": [
    "articles, missing_articles = Scrapy.scrap(apple_news_df.news_url)"
   ]
  },
  {
   "cell_type": "code",
   "execution_count": 10,
   "id": "manual-encounter",
   "metadata": {
    "execution": {
     "iopub.execute_input": "2021-05-27T14:10:21.892920Z",
     "iopub.status.busy": "2021-05-27T14:10:21.892251Z",
     "iopub.status.idle": "2021-05-27T14:10:22.823618Z",
     "shell.execute_reply": "2021-05-27T14:10:22.823300Z",
     "shell.execute_reply.started": "2021-05-27T14:10:21.892853Z"
    },
    "tags": []
   },
   "outputs": [
    {
     "data": {
      "text/plain": [
       "['./data/articles.pkl']"
      ]
     },
     "execution_count": 10,
     "metadata": {},
     "output_type": "execute_result"
    }
   ],
   "source": [
    "dump(articles, './data/articles.pkl', compress=5)"
   ]
  },
  {
   "cell_type": "code",
   "execution_count": 6,
   "id": "central-bangladesh",
   "metadata": {
    "execution": {
     "iopub.execute_input": "2021-05-28T04:17:57.393354Z",
     "iopub.status.busy": "2021-05-28T04:17:57.392712Z",
     "iopub.status.idle": "2021-05-28T04:17:57.843801Z",
     "shell.execute_reply": "2021-05-28T04:17:57.843485Z",
     "shell.execute_reply.started": "2021-05-28T04:17:57.393289Z"
    }
   },
   "outputs": [],
   "source": [
    "apple_news_df['articles'] = articles"
   ]
  },
  {
   "cell_type": "code",
   "execution_count": 7,
   "id": "manual-disclaimer",
   "metadata": {
    "execution": {
     "iopub.execute_input": "2021-05-28T04:18:10.051831Z",
     "iopub.status.busy": "2021-05-28T04:18:10.051214Z",
     "iopub.status.idle": "2021-05-28T04:18:10.511736Z",
     "shell.execute_reply": "2021-05-28T04:18:10.511326Z",
     "shell.execute_reply.started": "2021-05-28T04:18:10.051767Z"
    }
   },
   "outputs": [],
   "source": [
    "apple_news_df.to_csv('./data/apple_news_scraped.csv')"
   ]
  },
  {
   "cell_type": "code",
   "execution_count": 4,
   "id": "ahead-fifteen",
   "metadata": {
    "execution": {
     "iopub.execute_input": "2021-05-28T04:16:06.771118Z",
     "iopub.status.busy": "2021-05-28T04:16:06.770633Z",
     "iopub.status.idle": "2021-05-28T04:16:07.242280Z",
     "shell.execute_reply": "2021-05-28T04:16:07.241887Z",
     "shell.execute_reply.started": "2021-05-28T04:16:06.771073Z"
    },
    "tags": []
   },
   "outputs": [],
   "source": [
    "apple_news_df = pd.read_csv('./data/apple_news_scraped.csv')"
   ]
  },
  {
   "cell_type": "code",
   "execution_count": 5,
   "id": "anonymous-lincoln",
   "metadata": {
    "execution": {
     "iopub.execute_input": "2021-05-28T04:16:13.300042Z",
     "iopub.status.busy": "2021-05-28T04:16:13.299688Z",
     "iopub.status.idle": "2021-05-28T04:16:13.334299Z",
     "shell.execute_reply": "2021-05-28T04:16:13.333134Z",
     "shell.execute_reply.started": "2021-05-28T04:16:13.300009Z"
    }
   },
   "outputs": [
    {
     "data": {
      "text/html": [
       "<div>\n",
       "<style scoped>\n",
       "    .dataframe tbody tr th:only-of-type {\n",
       "        vertical-align: middle;\n",
       "    }\n",
       "\n",
       "    .dataframe tbody tr th {\n",
       "        vertical-align: top;\n",
       "    }\n",
       "\n",
       "    .dataframe thead th {\n",
       "        text-align: right;\n",
       "    }\n",
       "</style>\n",
       "<table border=\"1\" class=\"dataframe\">\n",
       "  <thead>\n",
       "    <tr style=\"text-align: right;\">\n",
       "      <th></th>\n",
       "      <th>Unnamed: 0</th>\n",
       "      <th>Unnamed: 0.1</th>\n",
       "      <th>news_url</th>\n",
       "      <th>image_url</th>\n",
       "      <th>title</th>\n",
       "      <th>text</th>\n",
       "      <th>source_name</th>\n",
       "      <th>date</th>\n",
       "      <th>topics</th>\n",
       "      <th>sentiment</th>\n",
       "      <th>type</th>\n",
       "      <th>tickers</th>\n",
       "      <th>articles</th>\n",
       "    </tr>\n",
       "  </thead>\n",
       "  <tbody>\n",
       "    <tr>\n",
       "      <th>0</th>\n",
       "      <td>0</td>\n",
       "      <td>0</td>\n",
       "      <td>https://www.cnbc.com/2021/05/25/home-prices-in...</td>\n",
       "      <td>https://cdn.snapi.dev/images/v1/b/m/104669168-...</td>\n",
       "      <td>Home prices in March saw highest growth in ove...</td>\n",
       "      <td>Home prices in March were up 13%, one of the l...</td>\n",
       "      <td>CNBC</td>\n",
       "      <td>Tue, 25 May 2021 09:01:19 -0400</td>\n",
       "      <td>[]</td>\n",
       "      <td>Neutral</td>\n",
       "      <td>Article</td>\n",
       "      <td>NaN</td>\n",
       "      <td>Home prices in March were 13.2% higher in Mar...</td>\n",
       "    </tr>\n",
       "    <tr>\n",
       "      <th>1</th>\n",
       "      <td>1</td>\n",
       "      <td>1</td>\n",
       "      <td>https://www.reuters.com/article/us-usa-economy...</td>\n",
       "      <td>https://cdn.snapi.dev/images/v1/a/s/m02d202105...</td>\n",
       "      <td>U.S. home prices rose more than expected in Ma...</td>\n",
       "      <td>U.S. single-family home prices in 20 key urban...</td>\n",
       "      <td>Reuters</td>\n",
       "      <td>Tue, 25 May 2021 09:09:00 -0400</td>\n",
       "      <td>[]</td>\n",
       "      <td>Neutral</td>\n",
       "      <td>Article</td>\n",
       "      <td>NaN</td>\n",
       "      <td>U.S. single-family home prices in 20 key urban...</td>\n",
       "    </tr>\n",
       "    <tr>\n",
       "      <th>2</th>\n",
       "      <td>2</td>\n",
       "      <td>2</td>\n",
       "      <td>https://www.reuters.com/article/us-usa-economy...</td>\n",
       "      <td>https://cdn.snapi.dev/images/v1/8/c/m02d202105...</td>\n",
       "      <td>U.S. new home sales drop in April; March sales...</td>\n",
       "      <td>Sales of new U.S. single-family homes dropped ...</td>\n",
       "      <td>Reuters</td>\n",
       "      <td>Tue, 25 May 2021 10:33:00 -0400</td>\n",
       "      <td>[]</td>\n",
       "      <td>Negative</td>\n",
       "      <td>Article</td>\n",
       "      <td>NaN</td>\n",
       "      <td>A carpenter works on building new townhomes th...</td>\n",
       "    </tr>\n",
       "  </tbody>\n",
       "</table>\n",
       "</div>"
      ],
      "text/plain": [
       "   Unnamed: 0  Unnamed: 0.1  \\\n",
       "0           0             0   \n",
       "1           1             1   \n",
       "2           2             2   \n",
       "\n",
       "                                            news_url  \\\n",
       "0  https://www.cnbc.com/2021/05/25/home-prices-in...   \n",
       "1  https://www.reuters.com/article/us-usa-economy...   \n",
       "2  https://www.reuters.com/article/us-usa-economy...   \n",
       "\n",
       "                                           image_url  \\\n",
       "0  https://cdn.snapi.dev/images/v1/b/m/104669168-...   \n",
       "1  https://cdn.snapi.dev/images/v1/a/s/m02d202105...   \n",
       "2  https://cdn.snapi.dev/images/v1/8/c/m02d202105...   \n",
       "\n",
       "                                               title  \\\n",
       "0  Home prices in March saw highest growth in ove...   \n",
       "1  U.S. home prices rose more than expected in Ma...   \n",
       "2  U.S. new home sales drop in April; March sales...   \n",
       "\n",
       "                                                text source_name  \\\n",
       "0  Home prices in March were up 13%, one of the l...        CNBC   \n",
       "1  U.S. single-family home prices in 20 key urban...     Reuters   \n",
       "2  Sales of new U.S. single-family homes dropped ...     Reuters   \n",
       "\n",
       "                              date topics sentiment     type tickers  \\\n",
       "0  Tue, 25 May 2021 09:01:19 -0400     []   Neutral  Article     NaN   \n",
       "1  Tue, 25 May 2021 09:09:00 -0400     []   Neutral  Article     NaN   \n",
       "2  Tue, 25 May 2021 10:33:00 -0400     []  Negative  Article     NaN   \n",
       "\n",
       "                                            articles  \n",
       "0   Home prices in March were 13.2% higher in Mar...  \n",
       "1  U.S. single-family home prices in 20 key urban...  \n",
       "2  A carpenter works on building new townhomes th...  "
      ]
     },
     "execution_count": 5,
     "metadata": {},
     "output_type": "execute_result"
    }
   ],
   "source": [
    "apple_news_df.head(3)"
   ]
  }
 ],
 "metadata": {
  "kernelspec": {
   "display_name": "Python 3",
   "language": "python",
   "name": "python3"
  },
  "language_info": {
   "codemirror_mode": {
    "name": "ipython",
    "version": 3
   },
   "file_extension": ".py",
   "mimetype": "text/x-python",
   "name": "python",
   "nbconvert_exporter": "python",
   "pygments_lexer": "ipython3",
   "version": "3.8.8"
  }
 },
 "nbformat": 4,
 "nbformat_minor": 5
}
