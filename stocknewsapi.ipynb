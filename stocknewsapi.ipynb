{
 "cells": [
  {
   "cell_type": "code",
   "execution_count": 1,
   "id": "urban-florist",
   "metadata": {
    "execution": {
     "iopub.execute_input": "2021-05-27T05:38:21.978267Z",
     "iopub.status.busy": "2021-05-27T05:38:21.977608Z",
     "iopub.status.idle": "2021-05-27T05:38:23.540964Z",
     "shell.execute_reply": "2021-05-27T05:38:23.540168Z",
     "shell.execute_reply.started": "2021-05-27T05:38:21.978133Z"
    },
    "tags": []
   },
   "outputs": [
    {
     "name": "stdin",
     "output_type": "stream",
     "text": [
      "server location local\n"
     ]
    },
    {
     "name": "stdout",
     "output_type": "stream",
     "text": [
      "running from Local\n"
     ]
    }
   ],
   "source": [
    "import __init__"
   ]
  },
  {
   "cell_type": "code",
   "execution_count": 2,
   "id": "speaking-satellite",
   "metadata": {
    "execution": {
     "iopub.execute_input": "2021-05-27T05:38:25.834663Z",
     "iopub.status.busy": "2021-05-27T05:38:25.834277Z",
     "iopub.status.idle": "2021-05-27T05:38:26.240500Z",
     "shell.execute_reply": "2021-05-27T05:38:26.240153Z",
     "shell.execute_reply.started": "2021-05-27T05:38:25.834628Z"
    },
    "tags": []
   },
   "outputs": [],
   "source": [
    "import json\n",
    "from joblib import dump, load\n",
    "import pandas as pd\n",
    "import main\n",
    "from stocknewsapi import StockNewsAPI\n",
    "from scrapy import Scrapy"
   ]
  },
  {
   "cell_type": "code",
   "execution_count": 2,
   "id": "plain-pickup",
   "metadata": {
    "execution": {
     "iopub.execute_input": "2021-05-26T15:19:30.228476Z",
     "iopub.status.busy": "2021-05-26T15:19:30.227964Z",
     "iopub.status.idle": "2021-05-26T15:19:30.235179Z",
     "shell.execute_reply": "2021-05-26T15:19:30.234069Z",
     "shell.execute_reply.started": "2021-05-26T15:19:30.228425Z"
    },
    "tags": []
   },
   "outputs": [],
   "source": [
    "token = load(\"./stocknewsapi/stocknewsapi_key.pkl\")"
   ]
  },
  {
   "cell_type": "code",
   "execution_count": 3,
   "id": "transsexual-dairy",
   "metadata": {
    "execution": {
     "iopub.execute_input": "2021-05-26T06:00:20.564054Z",
     "iopub.status.busy": "2021-05-26T06:00:20.563572Z",
     "iopub.status.idle": "2021-05-26T06:00:20.569685Z",
     "shell.execute_reply": "2021-05-26T06:00:20.568615Z",
     "shell.execute_reply.started": "2021-05-26T06:00:20.564008Z"
    },
    "tags": []
   },
   "outputs": [],
   "source": [
    "start_date = \"2019-01-01\"\n",
    "end_date = \"2019-12-31\"\n",
    "tickers = \"AAPL\"\n",
    "file_name = './data/stock_news_api_' + start_date + '_' + end_date + '.pkl'"
   ]
  },
  {
   "cell_type": "code",
   "execution_count": 4,
   "id": "silent-request",
   "metadata": {
    "execution": {
     "iopub.execute_input": "2021-05-26T06:00:21.029296Z",
     "iopub.status.busy": "2021-05-26T06:00:21.028759Z",
     "iopub.status.idle": "2021-05-26T06:00:21.037495Z",
     "shell.execute_reply": "2021-05-26T06:00:21.036351Z",
     "shell.execute_reply.started": "2021-05-26T06:00:21.029245Z"
    },
    "tags": []
   },
   "outputs": [],
   "source": [
    "stocknewsapi = StockNewsAPI(token, start_date, end_date)"
   ]
  },
  {
   "cell_type": "code",
   "execution_count": 5,
   "id": "sustainable-equipment",
   "metadata": {
    "execution": {
     "iopub.execute_input": "2021-05-26T06:00:21.687731Z",
     "iopub.status.busy": "2021-05-26T06:00:21.687380Z",
     "iopub.status.idle": "2021-05-26T06:01:11.363701Z",
     "shell.execute_reply": "2021-05-26T06:01:11.362218Z",
     "shell.execute_reply.started": "2021-05-26T06:00:21.687698Z"
    }
   },
   "outputs": [
    {
     "name": "stdout",
     "output_type": "stream",
     "text": [
      "[ 100% ] https://stocknewsapi.com/api/v1?tickers=AAPL&type=article&token=timo8bdrdfcpfwweljogcb66iodw7egybu0y6qsw&fallback=true&country=USA&items=50&sortby=rank&pages=1&date=12232019-12272019"
     ]
    }
   ],
   "source": [
    "stocknewsapi_news = stocknewsapi.get_news(tickers, items=50, pages=1)"
   ]
  },
  {
   "cell_type": "code",
   "execution_count": 6,
   "id": "burning-parker",
   "metadata": {
    "execution": {
     "iopub.execute_input": "2021-05-26T06:01:13.353211Z",
     "iopub.status.busy": "2021-05-26T06:01:13.352851Z",
     "iopub.status.idle": "2021-05-26T06:01:13.620050Z",
     "shell.execute_reply": "2021-05-26T06:01:13.619744Z",
     "shell.execute_reply.started": "2021-05-26T06:01:13.353177Z"
    }
   },
   "outputs": [
    {
     "data": {
      "text/plain": [
       "['./data/stock_news_api_2019-01-01_2019-12-31.pkl']"
      ]
     },
     "execution_count": 6,
     "metadata": {},
     "output_type": "execute_result"
    }
   ],
   "source": [
    "dump(stocknewsapi_news, file_name, compress=3)"
   ]
  },
  {
   "cell_type": "code",
   "execution_count": 12,
   "id": "pretty-valve",
   "metadata": {
    "execution": {
     "iopub.execute_input": "2021-05-26T05:54:50.583015Z",
     "iopub.status.busy": "2021-05-26T05:54:50.582659Z",
     "iopub.status.idle": "2021-05-26T05:54:50.590159Z",
     "shell.execute_reply": "2021-05-26T05:54:50.588549Z",
     "shell.execute_reply.started": "2021-05-26T05:54:50.582982Z"
    },
    "tags": []
   },
   "outputs": [],
   "source": [
    "start_date = \"2020-01-01\"\n",
    "end_date = \"2020-12-31\"\n",
    "tickers = \"AAPL\"\n",
    "file_name = './data/stock_news_api_' + start_date + '_' + end_date + '.pkl'"
   ]
  },
  {
   "cell_type": "code",
   "execution_count": 13,
   "id": "offensive-colombia",
   "metadata": {
    "execution": {
     "iopub.execute_input": "2021-05-26T05:54:50.906297Z",
     "iopub.status.busy": "2021-05-26T05:54:50.905694Z",
     "iopub.status.idle": "2021-05-26T05:54:50.912719Z",
     "shell.execute_reply": "2021-05-26T05:54:50.911628Z",
     "shell.execute_reply.started": "2021-05-26T05:54:50.906233Z"
    }
   },
   "outputs": [],
   "source": [
    "stocknewsapi = StockNewsAPI(token, start_date, end_date)"
   ]
  },
  {
   "cell_type": "code",
   "execution_count": 14,
   "id": "brief-pride",
   "metadata": {
    "execution": {
     "iopub.execute_input": "2021-05-26T05:54:51.875227Z",
     "iopub.status.busy": "2021-05-26T05:54:51.874863Z",
     "iopub.status.idle": "2021-05-26T05:55:42.306833Z",
     "shell.execute_reply": "2021-05-26T05:55:42.305285Z",
     "shell.execute_reply.started": "2021-05-26T05:54:51.875195Z"
    }
   },
   "outputs": [
    {
     "name": "stdout",
     "output_type": "stream",
     "text": [
      "[ 100% ] https://stocknewsapi.com/api/v1?tickers=AAPL&type=article&token=timo8bdrdfcpfwweljogcb66iodw7egybu0y6qsw&fallback=true&country=USA&items=50&sortby=rank&pages=1&date=12222020-12262020"
     ]
    }
   ],
   "source": [
    "stocknewsapi_news = stocknewsapi.get_news(tickers, items=50, pages=1)"
   ]
  },
  {
   "cell_type": "code",
   "execution_count": 15,
   "id": "christian-thomas",
   "metadata": {
    "execution": {
     "iopub.execute_input": "2021-05-26T05:55:48.002660Z",
     "iopub.status.busy": "2021-05-26T05:55:48.002314Z",
     "iopub.status.idle": "2021-05-26T05:55:48.307246Z",
     "shell.execute_reply": "2021-05-26T05:55:48.306931Z",
     "shell.execute_reply.started": "2021-05-26T05:55:48.002626Z"
    }
   },
   "outputs": [
    {
     "data": {
      "text/plain": [
       "['./data/stock_news_api_2020-01-01_2020-12-31.pkl']"
      ]
     },
     "execution_count": 15,
     "metadata": {},
     "output_type": "execute_result"
    }
   ],
   "source": [
    "dump(stocknewsapi_news, file_name, compress=3)"
   ]
  },
  {
   "cell_type": "code",
   "execution_count": 3,
   "id": "confirmed-labor",
   "metadata": {
    "execution": {
     "iopub.execute_input": "2021-05-26T05:52:38.161084Z",
     "iopub.status.busy": "2021-05-26T05:52:38.160059Z",
     "iopub.status.idle": "2021-05-26T05:52:38.167903Z",
     "shell.execute_reply": "2021-05-26T05:52:38.166499Z",
     "shell.execute_reply.started": "2021-05-26T05:52:38.160966Z"
    },
    "tags": []
   },
   "outputs": [],
   "source": [
    "start_date = \"2021-01-01\"\n",
    "end_date = \"2021-04-30\"\n",
    "tickers = \"AAPL\"\n",
    "file_name = './data/stock_news_api_' + start_date + '_' + end_date + '.pkl'"
   ]
  },
  {
   "cell_type": "code",
   "execution_count": 4,
   "id": "hearing-glasgow",
   "metadata": {
    "execution": {
     "iopub.execute_input": "2021-05-26T05:52:40.888781Z",
     "iopub.status.busy": "2021-05-26T05:52:40.888388Z",
     "iopub.status.idle": "2021-05-26T05:52:40.896084Z",
     "shell.execute_reply": "2021-05-26T05:52:40.894059Z",
     "shell.execute_reply.started": "2021-05-26T05:52:40.888746Z"
    },
    "tags": []
   },
   "outputs": [],
   "source": [
    "stocknewsapi = StockNewsAPI(token, start_date, end_date)"
   ]
  },
  {
   "cell_type": "code",
   "execution_count": 5,
   "id": "aging-plane",
   "metadata": {
    "execution": {
     "iopub.execute_input": "2021-05-26T05:52:43.005542Z",
     "iopub.status.busy": "2021-05-26T05:52:43.005183Z",
     "iopub.status.idle": "2021-05-26T05:52:59.410540Z",
     "shell.execute_reply": "2021-05-26T05:52:59.409002Z",
     "shell.execute_reply.started": "2021-05-26T05:52:43.005508Z"
    },
    "tags": []
   },
   "outputs": [
    {
     "name": "stdout",
     "output_type": "stream",
     "text": [
      "[ 100% ] https://stocknewsapi.com/api/v1?tickers=AAPL&type=article&token=timo8bdrdfcpfwweljogcb66iodw7egybu0y6qsw&fallback=true&country=USA&items=50&sortby=rank&pages=1&date=04232021-04272021"
     ]
    }
   ],
   "source": [
    "stocknewsapi_news = stocknewsapi.get_news(tickers, items=50, pages=1)"
   ]
  },
  {
   "cell_type": "code",
   "execution_count": 8,
   "id": "competent-enough",
   "metadata": {
    "execution": {
     "iopub.execute_input": "2021-05-26T05:53:16.763417Z",
     "iopub.status.busy": "2021-05-26T05:53:16.762728Z",
     "iopub.status.idle": "2021-05-26T05:53:16.891676Z",
     "shell.execute_reply": "2021-05-26T05:53:16.891332Z",
     "shell.execute_reply.started": "2021-05-26T05:53:16.763350Z"
    }
   },
   "outputs": [
    {
     "data": {
      "text/plain": [
       "['./data/stock_news_api_2021-01-01_2021-04-30.pkl']"
      ]
     },
     "execution_count": 8,
     "metadata": {},
     "output_type": "execute_result"
    }
   ],
   "source": [
    "dump(stocknewsapi_news, file_name, compress=3)"
   ]
  },
  {
   "cell_type": "code",
   "execution_count": 3,
   "id": "german-powder",
   "metadata": {
    "execution": {
     "iopub.execute_input": "2021-05-26T15:19:39.689652Z",
     "iopub.status.busy": "2021-05-26T15:19:39.689269Z",
     "iopub.status.idle": "2021-05-26T15:19:40.048924Z",
     "shell.execute_reply": "2021-05-26T15:19:40.048534Z",
     "shell.execute_reply.started": "2021-05-26T15:19:39.689618Z"
    },
    "tags": []
   },
   "outputs": [],
   "source": [
    "apple_news = list()\n",
    "apple_news_2019 = load('./data/stock_news_api_2019-01-01_2019-12-31.pkl')\n",
    "apple_news_2020 = load('./data/stock_news_api_2020-01-01_2020-12-31.pkl')\n",
    "apple_news_2021 = load('./data/stock_news_api_2021-01-01_2021-04-30.pkl')"
   ]
  },
  {
   "cell_type": "code",
   "execution_count": 4,
   "id": "corresponding-underground",
   "metadata": {
    "execution": {
     "iopub.execute_input": "2021-05-26T15:19:42.042096Z",
     "iopub.status.busy": "2021-05-26T15:19:42.041711Z",
     "iopub.status.idle": "2021-05-26T15:19:42.046603Z",
     "shell.execute_reply": "2021-05-26T15:19:42.045671Z",
     "shell.execute_reply.started": "2021-05-26T15:19:42.042059Z"
    },
    "tags": []
   },
   "outputs": [],
   "source": [
    "apple_news.extend(apple_news_2019)\n",
    "apple_news.extend(apple_news_2020)\n",
    "apple_news.extend(apple_news_2021)"
   ]
  },
  {
   "cell_type": "code",
   "execution_count": 8,
   "id": "organized-married",
   "metadata": {
    "execution": {
     "iopub.execute_input": "2021-05-26T15:20:37.770042Z",
     "iopub.status.busy": "2021-05-26T15:20:37.769690Z",
     "iopub.status.idle": "2021-05-26T15:20:37.811060Z",
     "shell.execute_reply": "2021-05-26T15:20:37.810438Z",
     "shell.execute_reply.started": "2021-05-26T15:20:37.770009Z"
    },
    "tags": []
   },
   "outputs": [
    {
     "data": {
      "text/html": [
       "<div>\n",
       "<style scoped>\n",
       "    .dataframe tbody tr th:only-of-type {\n",
       "        vertical-align: middle;\n",
       "    }\n",
       "\n",
       "    .dataframe tbody tr th {\n",
       "        vertical-align: top;\n",
       "    }\n",
       "\n",
       "    .dataframe thead th {\n",
       "        text-align: right;\n",
       "    }\n",
       "</style>\n",
       "<table border=\"1\" class=\"dataframe\">\n",
       "  <thead>\n",
       "    <tr style=\"text-align: right;\">\n",
       "      <th></th>\n",
       "      <th>news_url</th>\n",
       "      <th>image_url</th>\n",
       "      <th>title</th>\n",
       "      <th>text</th>\n",
       "      <th>source_name</th>\n",
       "      <th>date</th>\n",
       "      <th>topics</th>\n",
       "      <th>sentiment</th>\n",
       "      <th>type</th>\n",
       "      <th>tickers</th>\n",
       "    </tr>\n",
       "  </thead>\n",
       "  <tbody>\n",
       "    <tr>\n",
       "      <th>0</th>\n",
       "      <td>https://www.cnbc.com/2021/05/25/home-prices-in...</td>\n",
       "      <td>https://cdn.snapi.dev/images/v1/b/m/104669168-...</td>\n",
       "      <td>Home prices in March saw highest growth in ove...</td>\n",
       "      <td>Home prices in March were up 13%, one of the l...</td>\n",
       "      <td>CNBC</td>\n",
       "      <td>Tue, 25 May 2021 09:01:19 -0400</td>\n",
       "      <td>[]</td>\n",
       "      <td>Neutral</td>\n",
       "      <td>Article</td>\n",
       "      <td>NaN</td>\n",
       "    </tr>\n",
       "    <tr>\n",
       "      <th>1</th>\n",
       "      <td>https://www.reuters.com/article/us-usa-economy...</td>\n",
       "      <td>https://cdn.snapi.dev/images/v1/a/s/m02d202105...</td>\n",
       "      <td>U.S. home prices rose more than expected in Ma...</td>\n",
       "      <td>U.S. single-family home prices in 20 key urban...</td>\n",
       "      <td>Reuters</td>\n",
       "      <td>Tue, 25 May 2021 09:09:00 -0400</td>\n",
       "      <td>[]</td>\n",
       "      <td>Neutral</td>\n",
       "      <td>Article</td>\n",
       "      <td>NaN</td>\n",
       "    </tr>\n",
       "    <tr>\n",
       "      <th>2</th>\n",
       "      <td>https://www.reuters.com/article/us-usa-economy...</td>\n",
       "      <td>https://cdn.snapi.dev/images/v1/8/c/m02d202105...</td>\n",
       "      <td>U.S. new home sales drop in April; March sales...</td>\n",
       "      <td>Sales of new U.S. single-family homes dropped ...</td>\n",
       "      <td>Reuters</td>\n",
       "      <td>Tue, 25 May 2021 10:33:00 -0400</td>\n",
       "      <td>[]</td>\n",
       "      <td>Negative</td>\n",
       "      <td>Article</td>\n",
       "      <td>NaN</td>\n",
       "    </tr>\n",
       "  </tbody>\n",
       "</table>\n",
       "</div>"
      ],
      "text/plain": [
       "                                            news_url  \\\n",
       "0  https://www.cnbc.com/2021/05/25/home-prices-in...   \n",
       "1  https://www.reuters.com/article/us-usa-economy...   \n",
       "2  https://www.reuters.com/article/us-usa-economy...   \n",
       "\n",
       "                                           image_url  \\\n",
       "0  https://cdn.snapi.dev/images/v1/b/m/104669168-...   \n",
       "1  https://cdn.snapi.dev/images/v1/a/s/m02d202105...   \n",
       "2  https://cdn.snapi.dev/images/v1/8/c/m02d202105...   \n",
       "\n",
       "                                               title  \\\n",
       "0  Home prices in March saw highest growth in ove...   \n",
       "1  U.S. home prices rose more than expected in Ma...   \n",
       "2  U.S. new home sales drop in April; March sales...   \n",
       "\n",
       "                                                text source_name  \\\n",
       "0  Home prices in March were up 13%, one of the l...        CNBC   \n",
       "1  U.S. single-family home prices in 20 key urban...     Reuters   \n",
       "2  Sales of new U.S. single-family homes dropped ...     Reuters   \n",
       "\n",
       "                              date topics sentiment     type tickers  \n",
       "0  Tue, 25 May 2021 09:01:19 -0400     []   Neutral  Article     NaN  \n",
       "1  Tue, 25 May 2021 09:09:00 -0400     []   Neutral  Article     NaN  \n",
       "2  Tue, 25 May 2021 10:33:00 -0400     []  Negative  Article     NaN  "
      ]
     },
     "execution_count": 8,
     "metadata": {},
     "output_type": "execute_result"
    }
   ],
   "source": [
    "apple_news_df = pd.DataFrame(apple_news)"
   ]
  },
  {
   "cell_type": "code",
   "execution_count": 13,
   "id": "molecular-carbon",
   "metadata": {
    "execution": {
     "iopub.execute_input": "2021-05-26T17:05:58.090585Z",
     "iopub.status.busy": "2021-05-26T17:05:58.090060Z",
     "iopub.status.idle": "2021-05-26T17:05:58.224887Z",
     "shell.execute_reply": "2021-05-26T17:05:58.224501Z",
     "shell.execute_reply.started": "2021-05-26T17:05:58.090544Z"
    },
    "tags": []
   },
   "outputs": [],
   "source": [
    "apple_news_df.to_csv('./data/apple_news.csv')"
   ]
  },
  {
   "cell_type": "code",
   "execution_count": 3,
   "id": "expressed-personal",
   "metadata": {
    "execution": {
     "iopub.execute_input": "2021-05-27T05:38:41.101510Z",
     "iopub.status.busy": "2021-05-27T05:38:41.100853Z",
     "iopub.status.idle": "2021-05-27T05:38:41.205639Z",
     "shell.execute_reply": "2021-05-27T05:38:41.205258Z",
     "shell.execute_reply.started": "2021-05-27T05:38:41.101444Z"
    },
    "tags": []
   },
   "outputs": [],
   "source": [
    "apple_news_df = pd.read_csv('./data/apple_news.csv')"
   ]
  },
  {
   "cell_type": "code",
   "execution_count": 4,
   "id": "impressive-flood",
   "metadata": {
    "execution": {
     "iopub.execute_input": "2021-05-27T05:38:44.657510Z",
     "iopub.status.busy": "2021-05-27T05:38:44.656864Z",
     "iopub.status.idle": "2021-05-27T08:09:05.935628Z",
     "shell.execute_reply": "2021-05-27T08:09:05.935164Z",
     "shell.execute_reply.started": "2021-05-27T05:38:44.657443Z"
    },
    "tags": []
   },
   "outputs": [
    {
     "name": "stdout",
     "output_type": "stream",
     "text": [
      "10450/10450 100% https://www.fool.com/investing/2021/04/25/apple-takes-aim-at-spotifys-podcast-ambitions/k/ck-before-earningsface-off-947591.html?SNAPIe-macs/inesses-idUSKBN2CD1MD-947746.html?SNAPI-giant-940648.html?SNAPItch%2Fpf%20(MarketWatch.com%20-%20Personal%20Finance%20News)\r"
     ]
    }
   ],
   "source": [
    "articles, missing_articles = Scrapy.scrap(apple_news_df.news_url)"
   ]
  },
  {
   "cell_type": "code",
   "execution_count": 5,
   "id": "patient-communication",
   "metadata": {
    "execution": {
     "iopub.execute_input": "2021-05-27T13:17:29.173430Z",
     "iopub.status.busy": "2021-05-27T13:17:29.172732Z",
     "iopub.status.idle": "2021-05-27T13:17:29.191127Z",
     "shell.execute_reply": "2021-05-27T13:17:29.190361Z",
     "shell.execute_reply.started": "2021-05-27T13:17:29.173356Z"
    }
   },
   "outputs": [
    {
     "data": {
      "text/plain": [
       "9531"
      ]
     },
     "execution_count": 5,
     "metadata": {},
     "output_type": "execute_result"
    }
   ],
   "source": [
    "len(articles)"
   ]
  },
  {
   "cell_type": "code",
   "execution_count": 10,
   "id": "empirical-marriage",
   "metadata": {
    "execution": {
     "iopub.execute_input": "2021-05-27T14:10:21.892920Z",
     "iopub.status.busy": "2021-05-27T14:10:21.892251Z",
     "iopub.status.idle": "2021-05-27T14:10:22.823618Z",
     "shell.execute_reply": "2021-05-27T14:10:22.823300Z",
     "shell.execute_reply.started": "2021-05-27T14:10:21.892853Z"
    },
    "tags": []
   },
   "outputs": [
    {
     "data": {
      "text/plain": [
       "['./data/articles.pkl']"
      ]
     },
     "execution_count": 10,
     "metadata": {},
     "output_type": "execute_result"
    }
   ],
   "source": [
    "dump(articles, './data/articles.pkl', compress=5)"
   ]
  },
  {
   "cell_type": "code",
   "execution_count": null,
   "id": "representative-defense",
   "metadata": {
    "tags": []
   },
   "outputs": [],
   "source": []
  },
  {
   "cell_type": "code",
   "execution_count": null,
   "id": "buried-touch",
   "metadata": {},
   "outputs": [],
   "source": []
  },
  {
   "cell_type": "code",
   "execution_count": 8,
   "id": "qualified-witness",
   "metadata": {
    "execution": {
     "iopub.execute_input": "2021-05-27T05:30:54.710558Z",
     "iopub.status.busy": "2021-05-27T05:30:54.710213Z",
     "iopub.status.idle": "2021-05-27T05:30:54.714685Z",
     "shell.execute_reply": "2021-05-27T05:30:54.713223Z",
     "shell.execute_reply.started": "2021-05-27T05:30:54.710525Z"
    },
    "tags": []
   },
   "outputs": [],
   "source": [
    "import requests"
   ]
  },
  {
   "cell_type": "code",
   "execution_count": 9,
   "id": "communist-wheel",
   "metadata": {
    "execution": {
     "iopub.execute_input": "2021-05-27T05:30:55.000145Z",
     "iopub.status.busy": "2021-05-27T05:30:54.999556Z",
     "iopub.status.idle": "2021-05-27T05:30:55.006988Z",
     "shell.execute_reply": "2021-05-27T05:30:55.005525Z",
     "shell.execute_reply.started": "2021-05-27T05:30:55.000064Z"
    },
    "tags": []
   },
   "outputs": [],
   "source": [
    "headers = {\n",
    "    'User-Agent' : 'Mozilla/5.0',\n",
    "    'Connection' : 'keep-alive',\n",
    "    'Accept-Encoding': 'gzip, compress, deflate, br'\n",
    "}"
   ]
  },
  {
   "cell_type": "code",
   "execution_count": 10,
   "id": "wound-headline",
   "metadata": {
    "execution": {
     "iopub.execute_input": "2021-05-27T05:30:57.430997Z",
     "iopub.status.busy": "2021-05-27T05:30:57.430247Z",
     "iopub.status.idle": "2021-05-27T05:30:57.438133Z",
     "shell.execute_reply": "2021-05-27T05:30:57.436713Z",
     "shell.execute_reply.started": "2021-05-27T05:30:57.430908Z"
    },
    "tags": []
   },
   "outputs": [],
   "source": [
    "session = requests.session()"
   ]
  },
  {
   "cell_type": "code",
   "execution_count": 15,
   "id": "therapeutic-immigration",
   "metadata": {
    "execution": {
     "iopub.execute_input": "2021-05-27T05:34:18.194946Z",
     "iopub.status.busy": "2021-05-27T05:34:18.194187Z",
     "iopub.status.idle": "2021-05-27T05:34:18.200641Z",
     "shell.execute_reply": "2021-05-27T05:34:18.199345Z",
     "shell.execute_reply.started": "2021-05-27T05:34:18.194874Z"
    }
   },
   "outputs": [],
   "source": [
    "url='https://feeds.benzinga.com/~r/benzinga/~3/sYx-y5nzogA/cowen-initiates-apple-at-outperform-says-services-eps-cowen-says.html1-5-1030461204KCN2D624BN2D618Fhtml?SNAPI'"
   ]
  },
  {
   "cell_type": "code",
   "execution_count": 19,
   "id": "applied-management",
   "metadata": {
    "execution": {
     "iopub.execute_input": "2021-05-27T05:35:35.745849Z",
     "iopub.status.busy": "2021-05-27T05:35:35.745492Z",
     "iopub.status.idle": "2021-05-27T05:35:35.750233Z",
     "shell.execute_reply": "2021-05-27T05:35:35.748996Z",
     "shell.execute_reply.started": "2021-05-27T05:35:35.745816Z"
    },
    "tags": []
   },
   "outputs": [],
   "source": [
    "header = {\n",
    "        'User-Agent' : 'Mozilla/5.0 (Macintosh; Intel Mac OS X 10_15_7) AppleWebKit/537.36 (KHTML, like Gecko) Chrome/90.0.4430.212 Safari/537.36',\n",
    "        'Connection' : 'keep-alive',\n",
    "        'Accept-Encoding': 'gzip, compress, deflate, br'\n",
    "        }"
   ]
  },
  {
   "cell_type": "code",
   "execution_count": 114,
   "id": "designing-share",
   "metadata": {
    "execution": {
     "iopub.execute_input": "2021-05-27T04:23:48.295356Z",
     "iopub.status.busy": "2021-05-27T04:23:48.295017Z",
     "iopub.status.idle": "2021-05-27T04:23:48.604164Z",
     "shell.execute_reply": "2021-05-27T04:23:48.603340Z",
     "shell.execute_reply.started": "2021-05-27T04:23:48.295324Z"
    },
    "tags": []
   },
   "outputs": [
    {
     "data": {
      "text/plain": [
       "<Response [200]>"
      ]
     },
     "execution_count": 114,
     "metadata": {},
     "output_type": "execute_result"
    }
   ],
   "source": [
    "requests.request('GET', 'http://www.google.com', headers=headers, params={})"
   ]
  },
  {
   "cell_type": "code",
   "execution_count": 23,
   "id": "controlling-punishment",
   "metadata": {
    "execution": {
     "iopub.execute_input": "2021-05-27T05:37:12.971384Z",
     "iopub.status.busy": "2021-05-27T05:37:12.971033Z",
     "iopub.status.idle": "2021-05-27T05:37:12.975145Z",
     "shell.execute_reply": "2021-05-27T05:37:12.974096Z",
     "shell.execute_reply.started": "2021-05-27T05:37:12.971352Z"
    }
   },
   "outputs": [],
   "source": [
    "a = None"
   ]
  },
  {
   "cell_type": "code",
   "execution_count": 24,
   "id": "authorized-nylon",
   "metadata": {
    "execution": {
     "iopub.execute_input": "2021-05-27T05:37:24.723018Z",
     "iopub.status.busy": "2021-05-27T05:37:24.722669Z",
     "iopub.status.idle": "2021-05-27T05:37:24.731013Z",
     "shell.execute_reply": "2021-05-27T05:37:24.729254Z",
     "shell.execute_reply.started": "2021-05-27T05:37:24.722985Z"
    }
   },
   "outputs": [
    {
     "name": "stdout",
     "output_type": "stream",
     "text": [
      "ko\n"
     ]
    }
   ],
   "source": [
    "if a:\n",
    "    print('ok')\n",
    "else:\n",
    "    print('ko')"
   ]
  },
  {
   "cell_type": "code",
   "execution_count": 22,
   "id": "plain-consultation",
   "metadata": {
    "execution": {
     "iopub.execute_input": "2021-05-27T05:36:48.670283Z",
     "iopub.status.busy": "2021-05-27T05:36:48.669645Z",
     "iopub.status.idle": "2021-05-27T05:36:48.765448Z",
     "shell.execute_reply": "2021-05-27T05:36:48.764243Z",
     "shell.execute_reply.started": "2021-05-27T05:36:48.670218Z"
    },
    "tags": []
   },
   "outputs": [
    {
     "name": "stdout",
     "output_type": "stream",
     "text": [
      "ko\n"
     ]
    }
   ],
   "source": [
    "ex = True\n",
    "result = None\n",
    "s = requests.session()\n",
    "try:\n",
    "    result = s.get(url)\n",
    "except Exception:\n",
    "    print('ko')\n",
    "finally:\n",
    "    if re\n",
    "#     if result and result.status_code == 200:\n",
    "#         print('ok')"
   ]
  },
  {
   "cell_type": "code",
   "execution_count": 101,
   "id": "closed-regular",
   "metadata": {
    "execution": {
     "iopub.execute_input": "2021-05-27T04:08:38.352934Z",
     "iopub.status.busy": "2021-05-27T04:08:38.352331Z",
     "iopub.status.idle": "2021-05-27T04:08:38.360513Z",
     "shell.execute_reply": "2021-05-27T04:08:38.359555Z",
     "shell.execute_reply.started": "2021-05-27T04:08:38.352868Z"
    }
   },
   "outputs": [
    {
     "data": {
      "text/plain": [
       "<Response [200]>"
      ]
     },
     "execution_count": 101,
     "metadata": {},
     "output_type": "execute_result"
    }
   ],
   "source": [
    "result"
   ]
  },
  {
   "cell_type": "code",
   "execution_count": null,
   "id": "appreciated-hamilton",
   "metadata": {
    "tags": []
   },
   "outputs": [],
   "source": []
  },
  {
   "cell_type": "code",
   "execution_count": null,
   "id": "immediate-restaurant",
   "metadata": {},
   "outputs": [],
   "source": []
  },
  {
   "cell_type": "code",
   "execution_count": null,
   "id": "published-gates",
   "metadata": {
    "tags": []
   },
   "outputs": [],
   "source": [
    "all_articles_df = pd.DataFrame(stocknewsapi_news)\n",
    "all_articles_df.head()"
   ]
  },
  {
   "cell_type": "code",
   "execution_count": null,
   "id": "heard-congress",
   "metadata": {
    "tags": []
   },
   "outputs": [],
   "source": [
    "from datetime import datetime\n",
    "all_articles_df['date'] = all_articles_df['date'].apply(lambda x: datetime.strptime(x.replace(\"-0400\",''), \"%a, %d %b %Y %H:%M:%S \"))"
   ]
  },
  {
   "cell_type": "code",
   "execution_count": null,
   "id": "refined-keyboard",
   "metadata": {
    "tags": []
   },
   "outputs": [],
   "source": [
    "all_articles_df['date'].min()"
   ]
  },
  {
   "cell_type": "code",
   "execution_count": null,
   "id": "invalid-opera",
   "metadata": {},
   "outputs": [],
   "source": [
    "all_articles_df['date'].max()"
   ]
  },
  {
   "cell_type": "code",
   "execution_count": null,
   "id": "sweet-treaty",
   "metadata": {
    "tags": []
   },
   "outputs": [],
   "source": [
    "all_articles_df.duplicated(subset='news_url')"
   ]
  },
  {
   "cell_type": "code",
   "execution_count": null,
   "id": "arctic-concentration",
   "metadata": {
    "tags": []
   },
   "outputs": [],
   "source": [
    "'04012021-04052021'"
   ]
  },
  {
   "cell_type": "code",
   "execution_count": null,
   "id": "genetic-nightmare",
   "metadata": {
    "tags": []
   },
   "outputs": [],
   "source": [
    "url = \"https://stocknewsapi.com/api/v1?\"\n",
    "params = {\"tickers\": \"AAPL\",\n",
    "        \"items\": 50,\n",
    "        \"type\": \"article\",\n",
    "        \"token\": token,\n",
    "        \"date\": \"05012020-05082020\",\n",
    "        \"page\": 2,\n",
    "        \"fallback\": \"true\",\n",
    "        \"country\": \"USA\",\n",
    "        \"exchange\": \"NASDAQ\",\n",
    "        \"sortby\": \"rank\",\n",
    "        }"
   ]
  },
  {
   "cell_type": "code",
   "execution_count": null,
   "id": "standing-equilibrium",
   "metadata": {
    "tags": []
   },
   "outputs": [],
   "source": []
  },
  {
   "cell_type": "code",
   "execution_count": null,
   "id": "focal-python",
   "metadata": {
    "tags": []
   },
   "outputs": [],
   "source": [
    "i.content"
   ]
  },
  {
   "cell_type": "code",
   "execution_count": null,
   "id": "suited-depth",
   "metadata": {},
   "outputs": [],
   "source": [
    "s = requests.session()"
   ]
  },
  {
   "cell_type": "code",
   "execution_count": null,
   "id": "confident-taxation",
   "metadata": {},
   "outputs": [],
   "source": [
    "s.clo"
   ]
  },
  {
   "cell_type": "code",
   "execution_count": null,
   "id": "apparent-wrapping",
   "metadata": {
    "tags": []
   },
   "outputs": [],
   "source": [
    "with requests.session() as s:\n",
    "    s.headers['User-Agent'] = \"Mozilla/5.0 (Macintosh; Intel Mac OS X 10_15_7) AppleWebKit/537.36 (KHTML, like Gecko) Chrome/90.0.4430.212 Safari/537.36\"\n",
    "    s.stream = True\n",
    "    s.adapters\n",
    "    s.close()"
   ]
  },
  {
   "cell_type": "code",
   "execution_count": null,
   "id": "brown-insulin",
   "metadata": {
    "tags": []
   },
   "outputs": [],
   "source": [
    "session = requests.session()\n",
    "session.stream = True\n",
    "session.headers['User-Agent'] = \"Mozilla/5.0 (Macintosh; Intel Mac OS X 10_15_7) AppleWebKit/537.36 (KHTML, like Gecko) Chrome/90.0.4430.212 Safari/537.36\"\n",
    "html_page = session.get(url, params=params, timeout=15)\n"
   ]
  },
  {
   "cell_type": "code",
   "execution_count": null,
   "id": "premier-biotechnology",
   "metadata": {},
   "outputs": [],
   "source": [
    "session.close()\n",
    "html_json = json.loads(html_page.text)"
   ]
  },
  {
   "cell_type": "code",
   "execution_count": null,
   "id": "generous-parcel",
   "metadata": {
    "tags": []
   },
   "outputs": [],
   "source": [
    "html_page.ok"
   ]
  },
  {
   "cell_type": "code",
   "execution_count": null,
   "id": "romantic-bookmark",
   "metadata": {
    "tags": []
   },
   "outputs": [],
   "source": []
  },
  {
   "cell_type": "code",
   "execution_count": null,
   "id": "certified-superintendent",
   "metadata": {},
   "outputs": [],
   "source": []
  },
  {
   "cell_type": "code",
   "execution_count": null,
   "id": "underlying-sailing",
   "metadata": {},
   "outputs": [],
   "source": []
  },
  {
   "cell_type": "code",
   "execution_count": null,
   "id": "classified-brooks",
   "metadata": {
    "tags": []
   },
   "outputs": [],
   "source": [
    "len(html_json['data'])"
   ]
  },
  {
   "cell_type": "code",
   "execution_count": null,
   "id": "democratic-recall",
   "metadata": {},
   "outputs": [],
   "source": []
  }
 ],
 "metadata": {
  "kernelspec": {
   "display_name": "Python 3",
   "language": "python",
   "name": "python3"
  },
  "language_info": {
   "codemirror_mode": {
    "name": "ipython",
    "version": 3
   },
   "file_extension": ".py",
   "mimetype": "text/x-python",
   "name": "python",
   "nbconvert_exporter": "python",
   "pygments_lexer": "ipython3",
   "version": "3.8.8"
  }
 },
 "nbformat": 4,
 "nbformat_minor": 5
}
