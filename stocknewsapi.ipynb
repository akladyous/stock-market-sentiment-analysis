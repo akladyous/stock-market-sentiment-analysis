{
 "cells": [
  {
   "cell_type": "code",
   "execution_count": 2,
   "id": "previous-protocol",
   "metadata": {
    "tags": []
   },
   "outputs": [],
   "source": [
    "import __init__"
   ]
  },
  {
   "cell_type": "code",
   "execution_count": 33,
   "id": "continent-transcript",
   "metadata": {
    "tags": []
   },
   "outputs": [],
   "source": [
    "import numpy as np\n",
    "import re\n",
    "from joblib import dump, load\n",
    "import pandas as pd\n",
    "from stocknews_api import StockNewsAPI\n",
    "from scrapy import Scrapy"
   ]
  },
  {
   "cell_type": "code",
   "execution_count": 5,
   "id": "underlying-worcester",
   "metadata": {
    "tags": []
   },
   "outputs": [],
   "source": [
    "token = load(\"./stocknewsapi/stocknewsapi_key.pkl\")"
   ]
  },
  {
   "cell_type": "code",
   "execution_count": 6,
   "id": "interstate-joseph",
   "metadata": {
    "tags": []
   },
   "outputs": [],
   "source": [
    "start_date = \"2021-06-01\"\n",
    "end_date = \"2021-06-07\"\n",
    "tickers = \"AAPL\""
   ]
  },
  {
   "cell_type": "code",
   "execution_count": 10,
   "id": "boolean-facility",
   "metadata": {
    "tags": []
   },
   "outputs": [],
   "source": [
    "stocknewsapi = StockNewsAPI(token, start_date, end_date)"
   ]
  },
  {
   "cell_type": "code",
   "execution_count": 13,
   "id": "requested-species",
   "metadata": {
    "tags": []
   },
   "outputs": [],
   "source": [
    "news = stocknewsapi.get_news(tickers, items=50, pages=1)"
   ]
  },
  {
   "cell_type": "code",
   "execution_count": 15,
   "id": "ffc6f18e-0d89-4de6-ba49-01f5adb2b093",
   "metadata": {},
   "outputs": [],
   "source": [
    "df_news = pd.DataFrame(news)"
   ]
  },
  {
   "cell_type": "code",
   "execution_count": 16,
   "id": "7397057f-1382-45d2-bcd6-2e0fc365cf6c",
   "metadata": {},
   "outputs": [
    {
     "data": {
      "text/html": [
       "<div>\n",
       "<style scoped>\n",
       "    .dataframe tbody tr th:only-of-type {\n",
       "        vertical-align: middle;\n",
       "    }\n",
       "\n",
       "    .dataframe tbody tr th {\n",
       "        vertical-align: top;\n",
       "    }\n",
       "\n",
       "    .dataframe thead th {\n",
       "        text-align: right;\n",
       "    }\n",
       "</style>\n",
       "<table border=\"1\" class=\"dataframe\">\n",
       "  <thead>\n",
       "    <tr style=\"text-align: right;\">\n",
       "      <th></th>\n",
       "      <th>news_url</th>\n",
       "      <th>image_url</th>\n",
       "      <th>title</th>\n",
       "      <th>text</th>\n",
       "      <th>source_name</th>\n",
       "      <th>date</th>\n",
       "      <th>topics</th>\n",
       "      <th>sentiment</th>\n",
       "      <th>type</th>\n",
       "      <th>tickers</th>\n",
       "    </tr>\n",
       "  </thead>\n",
       "  <tbody>\n",
       "    <tr>\n",
       "      <th>0</th>\n",
       "      <td>https://www.cnbc.com/2021/06/07/apple-is-turni...</td>\n",
       "      <td>https://cdn.snapi.dev/images/v1/0/i/106893386-...</td>\n",
       "      <td>Apple is turning privacy into a business advan...</td>\n",
       "      <td>Privacy was mentioned as part of nearly every ...</td>\n",
       "      <td>CNBC</td>\n",
       "      <td>Mon, 07 Jun 2021 18:52:59 -0400</td>\n",
       "      <td>[]</td>\n",
       "      <td>Positive</td>\n",
       "      <td>Article</td>\n",
       "      <td>[AAPL]</td>\n",
       "    </tr>\n",
       "    <tr>\n",
       "      <th>1</th>\n",
       "      <td>https://www.reuters.com/technology/top-takeawa...</td>\n",
       "      <td>https://cdn.snapi.dev/images/v1/h/w/m02d202106...</td>\n",
       "      <td>Factbox: Top takeaways from Apple's Developers...</td>\n",
       "      <td>Apple Inc on Monday announced a host of new fe...</td>\n",
       "      <td>Reuters</td>\n",
       "      <td>Mon, 07 Jun 2021 16:55:00 -0400</td>\n",
       "      <td>[]</td>\n",
       "      <td>Positive</td>\n",
       "      <td>Article</td>\n",
       "      <td>[AAPL]</td>\n",
       "    </tr>\n",
       "    <tr>\n",
       "      <th>2</th>\n",
       "      <td>https://www.cnn.com/2021/06/07/tech/wwdc-apple...</td>\n",
       "      <td>https://cdn.snapi.dev/images/v1/i/p/2106070841...</td>\n",
       "      <td>Apple's WWDC 2021 event is about to kick off</td>\n",
       "      <td>Apple is about to reveal its latest set of cha...</td>\n",
       "      <td>CNN Business</td>\n",
       "      <td>Mon, 07 Jun 2021 12:35:37 -0400</td>\n",
       "      <td>[product]</td>\n",
       "      <td>Positive</td>\n",
       "      <td>Article</td>\n",
       "      <td>[AAPL]</td>\n",
       "    </tr>\n",
       "  </tbody>\n",
       "</table>\n",
       "</div>"
      ],
      "text/plain": [
       "                                            news_url  \\\n",
       "0  https://www.cnbc.com/2021/06/07/apple-is-turni...   \n",
       "1  https://www.reuters.com/technology/top-takeawa...   \n",
       "2  https://www.cnn.com/2021/06/07/tech/wwdc-apple...   \n",
       "\n",
       "                                           image_url  \\\n",
       "0  https://cdn.snapi.dev/images/v1/0/i/106893386-...   \n",
       "1  https://cdn.snapi.dev/images/v1/h/w/m02d202106...   \n",
       "2  https://cdn.snapi.dev/images/v1/i/p/2106070841...   \n",
       "\n",
       "                                               title  \\\n",
       "0  Apple is turning privacy into a business advan...   \n",
       "1  Factbox: Top takeaways from Apple's Developers...   \n",
       "2       Apple's WWDC 2021 event is about to kick off   \n",
       "\n",
       "                                                text   source_name  \\\n",
       "0  Privacy was mentioned as part of nearly every ...          CNBC   \n",
       "1  Apple Inc on Monday announced a host of new fe...       Reuters   \n",
       "2  Apple is about to reveal its latest set of cha...  CNN Business   \n",
       "\n",
       "                              date     topics sentiment     type tickers  \n",
       "0  Mon, 07 Jun 2021 18:52:59 -0400         []  Positive  Article  [AAPL]  \n",
       "1  Mon, 07 Jun 2021 16:55:00 -0400         []  Positive  Article  [AAPL]  \n",
       "2  Mon, 07 Jun 2021 12:35:37 -0400  [product]  Positive  Article  [AAPL]  "
      ]
     },
     "execution_count": 16,
     "metadata": {},
     "output_type": "execute_result"
    }
   ],
   "source": [
    "df_news.head(3)"
   ]
  },
  {
   "cell_type": "code",
   "execution_count": 17,
   "id": "prospective-patrick",
   "metadata": {
    "tags": []
   },
   "outputs": [],
   "source": [
    "df_news.to_csv('./data/stocknews_01jun21-07jun21.csv', index=False)"
   ]
  },
  {
   "cell_type": "code",
   "execution_count": 19,
   "id": "342a4cee-1456-4c2c-ab3d-9283b67ffc87",
   "metadata": {},
   "outputs": [],
   "source": [
    "scrap = Scrapy()"
   ]
  },
  {
   "cell_type": "code",
   "execution_count": 20,
   "id": "signal-johnston",
   "metadata": {
    "tags": []
   },
   "outputs": [
    {
     "name": "stdout",
     "output_type": "stream",
     "text": [
      "50/50 98% https://www.fool.com/investing/2021/06/03/will-2021-be-a-year-of-record-high-stock-buybacks/septemberml-jones-higher-fridaypro-951430.html?SNAPI-951551.html?SNAPI\r"
     ]
    }
   ],
   "source": [
    "articles = scrap.scrap(df_news['news_url'].to_list())"
   ]
  },
  {
   "cell_type": "code",
   "execution_count": 21,
   "id": "8f8ae239-c89c-45c5-8a80-1c35b46e27f7",
   "metadata": {},
   "outputs": [
    {
     "name": "stdout",
     "output_type": "stream",
     "text": [
      "Total scraped articles: 50\n"
     ]
    }
   ],
   "source": [
    "print('Total scraped articles:', len(articles))"
   ]
  },
  {
   "cell_type": "code",
   "execution_count": 25,
   "id": "60c2658e-9caa-4677-919e-3498e4961593",
   "metadata": {},
   "outputs": [
    {
     "data": {
      "text/plain": [
       "True"
      ]
     },
     "execution_count": 25,
     "metadata": {},
     "output_type": "execute_result"
    }
   ],
   "source": [
    "np.all(df_news.shape[0] == len(articles))"
   ]
  },
  {
   "cell_type": "code",
   "execution_count": 26,
   "id": "7d6ca36c-b3d9-4925-aada-070757d082e4",
   "metadata": {},
   "outputs": [
    {
     "data": {
      "text/plain": [
       "['./data/stocknewsapi_articles_01jun21-07jun21']"
      ]
     },
     "execution_count": 26,
     "metadata": {},
     "output_type": "execute_result"
    }
   ],
   "source": [
    "dump(articles, './data/stocknewsapi_articles_01jun21-07jun21')"
   ]
  },
  {
   "cell_type": "code",
   "execution_count": 30,
   "id": "91125c32-5c25-4855-9b74-4c428a401f95",
   "metadata": {},
   "outputs": [],
   "source": [
    "# prepare our data concatenating the 3 main dataframe for scrubbing\n",
    "df_news = pd.concat([df_news, pd.Series(articles, name='articles')],\n",
    "                   axis=1,\n",
    "                   ignore_index=False,\n",
    "                   sort=True)"
   ]
  },
  {
   "cell_type": "code",
   "execution_count": 31,
   "id": "82c7f0ef-41c4-41f4-8a1b-6f0e903a37b2",
   "metadata": {},
   "outputs": [
    {
     "data": {
      "text/html": [
       "<div>\n",
       "<style scoped>\n",
       "    .dataframe tbody tr th:only-of-type {\n",
       "        vertical-align: middle;\n",
       "    }\n",
       "\n",
       "    .dataframe tbody tr th {\n",
       "        vertical-align: top;\n",
       "    }\n",
       "\n",
       "    .dataframe thead th {\n",
       "        text-align: right;\n",
       "    }\n",
       "</style>\n",
       "<table border=\"1\" class=\"dataframe\">\n",
       "  <thead>\n",
       "    <tr style=\"text-align: right;\">\n",
       "      <th></th>\n",
       "      <th>news_url</th>\n",
       "      <th>image_url</th>\n",
       "      <th>title</th>\n",
       "      <th>text</th>\n",
       "      <th>source_name</th>\n",
       "      <th>date</th>\n",
       "      <th>topics</th>\n",
       "      <th>sentiment</th>\n",
       "      <th>type</th>\n",
       "      <th>tickers</th>\n",
       "      <th>articles</th>\n",
       "    </tr>\n",
       "  </thead>\n",
       "  <tbody>\n",
       "    <tr>\n",
       "      <th>0</th>\n",
       "      <td>https://www.cnbc.com/2021/06/07/apple-is-turni...</td>\n",
       "      <td>https://cdn.snapi.dev/images/v1/0/i/106893386-...</td>\n",
       "      <td>Apple is turning privacy into a business advan...</td>\n",
       "      <td>Privacy was mentioned as part of nearly every ...</td>\n",
       "      <td>CNBC</td>\n",
       "      <td>Mon, 07 Jun 2021 18:52:59 -0400</td>\n",
       "      <td>[]</td>\n",
       "      <td>Positive</td>\n",
       "      <td>Article</td>\n",
       "      <td>[AAPL]</td>\n",
       "      <td>In this article Apple unveiled new versions o...</td>\n",
       "    </tr>\n",
       "    <tr>\n",
       "      <th>1</th>\n",
       "      <td>https://www.reuters.com/technology/top-takeawa...</td>\n",
       "      <td>https://cdn.snapi.dev/images/v1/h/w/m02d202106...</td>\n",
       "      <td>Factbox: Top takeaways from Apple's Developers...</td>\n",
       "      <td>Apple Inc on Monday announced a host of new fe...</td>\n",
       "      <td>Reuters</td>\n",
       "      <td>Mon, 07 Jun 2021 16:55:00 -0400</td>\n",
       "      <td>[]</td>\n",
       "      <td>Positive</td>\n",
       "      <td>Article</td>\n",
       "      <td>[AAPL]</td>\n",
       "      <td>Apple Inc (AAPL.O) on Monday announced a host ...</td>\n",
       "    </tr>\n",
       "    <tr>\n",
       "      <th>2</th>\n",
       "      <td>https://www.cnn.com/2021/06/07/tech/wwdc-apple...</td>\n",
       "      <td>https://cdn.snapi.dev/images/v1/i/p/2106070841...</td>\n",
       "      <td>Apple's WWDC 2021 event is about to kick off</td>\n",
       "      <td>Apple is about to reveal its latest set of cha...</td>\n",
       "      <td>CNN Business</td>\n",
       "      <td>Mon, 07 Jun 2021 12:35:37 -0400</td>\n",
       "      <td>[product]</td>\n",
       "      <td>Positive</td>\n",
       "      <td>Article</td>\n",
       "      <td>[AAPL]</td>\n",
       "      <td>By Clare Duffy, CNN Business  Updated 4:18 PM ...</td>\n",
       "    </tr>\n",
       "    <tr>\n",
       "      <th>3</th>\n",
       "      <td>https://techcrunch.com/2021/06/07/apple-releas...</td>\n",
       "      <td>https://cdn.snapi.dev/images/v1/0/p/0ppldd-858...</td>\n",
       "      <td>Apple releases torrent of updates, and Wall St...</td>\n",
       "      <td>Today's WWDC keynote from Apple covered a huge...</td>\n",
       "      <td>TechCrunch</td>\n",
       "      <td>Mon, 07 Jun 2021 15:55:00 -0400</td>\n",
       "      <td>[]</td>\n",
       "      <td>Neutral</td>\n",
       "      <td>Article</td>\n",
       "      <td>[AAPL]</td>\n",
       "      <td>NaN</td>\n",
       "    </tr>\n",
       "    <tr>\n",
       "      <th>4</th>\n",
       "      <td>https://www.benzinga.com/news/21/06/21457495/a...</td>\n",
       "      <td>https://cdn.snapi.dev/images/v1/c/o/computer-e...</td>\n",
       "      <td>Apple's Introduces FaceTime Calls with Multipl...</td>\n",
       "      <td>Apple Inc (NASDAQ: AAPL) introduced updates to...</td>\n",
       "      <td>Benzinga</td>\n",
       "      <td>Mon, 07 Jun 2021 14:02:01 -0400</td>\n",
       "      <td>[product]</td>\n",
       "      <td>Positive</td>\n",
       "      <td>Article</td>\n",
       "      <td>[AAPL]</td>\n",
       "      <td>© 2021 Benzinga.com. Benzinga does not provide...</td>\n",
       "    </tr>\n",
       "  </tbody>\n",
       "</table>\n",
       "</div>"
      ],
      "text/plain": [
       "                                            news_url  \\\n",
       "0  https://www.cnbc.com/2021/06/07/apple-is-turni...   \n",
       "1  https://www.reuters.com/technology/top-takeawa...   \n",
       "2  https://www.cnn.com/2021/06/07/tech/wwdc-apple...   \n",
       "3  https://techcrunch.com/2021/06/07/apple-releas...   \n",
       "4  https://www.benzinga.com/news/21/06/21457495/a...   \n",
       "\n",
       "                                           image_url  \\\n",
       "0  https://cdn.snapi.dev/images/v1/0/i/106893386-...   \n",
       "1  https://cdn.snapi.dev/images/v1/h/w/m02d202106...   \n",
       "2  https://cdn.snapi.dev/images/v1/i/p/2106070841...   \n",
       "3  https://cdn.snapi.dev/images/v1/0/p/0ppldd-858...   \n",
       "4  https://cdn.snapi.dev/images/v1/c/o/computer-e...   \n",
       "\n",
       "                                               title  \\\n",
       "0  Apple is turning privacy into a business advan...   \n",
       "1  Factbox: Top takeaways from Apple's Developers...   \n",
       "2       Apple's WWDC 2021 event is about to kick off   \n",
       "3  Apple releases torrent of updates, and Wall St...   \n",
       "4  Apple's Introduces FaceTime Calls with Multipl...   \n",
       "\n",
       "                                                text   source_name  \\\n",
       "0  Privacy was mentioned as part of nearly every ...          CNBC   \n",
       "1  Apple Inc on Monday announced a host of new fe...       Reuters   \n",
       "2  Apple is about to reveal its latest set of cha...  CNN Business   \n",
       "3  Today's WWDC keynote from Apple covered a huge...    TechCrunch   \n",
       "4  Apple Inc (NASDAQ: AAPL) introduced updates to...      Benzinga   \n",
       "\n",
       "                              date     topics sentiment     type tickers  \\\n",
       "0  Mon, 07 Jun 2021 18:52:59 -0400         []  Positive  Article  [AAPL]   \n",
       "1  Mon, 07 Jun 2021 16:55:00 -0400         []  Positive  Article  [AAPL]   \n",
       "2  Mon, 07 Jun 2021 12:35:37 -0400  [product]  Positive  Article  [AAPL]   \n",
       "3  Mon, 07 Jun 2021 15:55:00 -0400         []   Neutral  Article  [AAPL]   \n",
       "4  Mon, 07 Jun 2021 14:02:01 -0400  [product]  Positive  Article  [AAPL]   \n",
       "\n",
       "                                            articles  \n",
       "0   In this article Apple unveiled new versions o...  \n",
       "1  Apple Inc (AAPL.O) on Monday announced a host ...  \n",
       "2  By Clare Duffy, CNN Business  Updated 4:18 PM ...  \n",
       "3                                                NaN  \n",
       "4  © 2021 Benzinga.com. Benzinga does not provide...  "
      ]
     },
     "execution_count": 31,
     "metadata": {},
     "output_type": "execute_result"
    }
   ],
   "source": [
    "df_news.head()"
   ]
  },
  {
   "cell_type": "code",
   "execution_count": 32,
   "id": "5ea29782-e0fb-4aed-9352-7b9fe5abb98e",
   "metadata": {},
   "outputs": [
    {
     "name": "stdout",
     "output_type": "stream",
     "text": [
      "<class 'pandas.core.frame.DataFrame'>\n",
      "Int64Index: 50 entries, 0 to 49\n",
      "Data columns (total 11 columns):\n",
      " #   Column       Non-Null Count  Dtype \n",
      "---  ------       --------------  ----- \n",
      " 0   news_url     50 non-null     object\n",
      " 1   image_url    50 non-null     object\n",
      " 2   title        50 non-null     object\n",
      " 3   text         50 non-null     object\n",
      " 4   source_name  50 non-null     object\n",
      " 5   date         50 non-null     object\n",
      " 6   topics       50 non-null     object\n",
      " 7   sentiment    50 non-null     object\n",
      " 8   type         50 non-null     object\n",
      " 9   tickers      50 non-null     object\n",
      " 10  articles     44 non-null     object\n",
      "dtypes: object(11)\n",
      "memory usage: 4.7+ KB\n"
     ]
    }
   ],
   "source": [
    "df_news.info()"
   ]
  },
  {
   "cell_type": "code",
   "execution_count": 40,
   "id": "4743f18a-13d7-4dcb-bbd4-c3b276607cb7",
   "metadata": {},
   "outputs": [],
   "source": [
    "df_news.rename(columns={'source_name':'source'}, inplace=True)"
   ]
  },
  {
   "cell_type": "code",
   "execution_count": 34,
   "id": "2991f192-ee12-483d-81c5-a8cd247ccb18",
   "metadata": {},
   "outputs": [
    {
     "data": {
      "text/plain": [
       "array([' -0400'], dtype=object)"
      ]
     },
     "execution_count": 34,
     "metadata": {},
     "output_type": "execute_result"
    }
   ],
   "source": [
    "df_news['date'].str.findall(\"\\s-[0-9]{4}$\").apply(lambda x: ''.join(x)).unique()"
   ]
  },
  {
   "cell_type": "code",
   "execution_count": 35,
   "id": "c66ee017-d6c3-47d6-8a8b-d5e2c79d797b",
   "metadata": {},
   "outputs": [],
   "source": [
    "df_news['date'] = df_news['date'].str.replace(\"\\s-[0-9]{4}$\", '', regex=True)"
   ]
  },
  {
   "cell_type": "code",
   "execution_count": 37,
   "id": "b0a93c6b-5182-4e5d-a8f8-c430c03ed3e1",
   "metadata": {},
   "outputs": [],
   "source": [
    "df_news['date'] = pd.to_datetime(df_news['date'], format=\"%a, %d %b %Y %H:%M:%S\")"
   ]
  },
  {
   "cell_type": "code",
   "execution_count": 38,
   "id": "3f20c632-795b-482a-85c5-a5aed7e3c420",
   "metadata": {},
   "outputs": [
    {
     "data": {
      "text/plain": [
       "0   2021-06-07 18:52:59\n",
       "1   2021-06-07 16:55:00\n",
       "2   2021-06-07 12:35:37\n",
       "3   2021-06-07 15:55:00\n",
       "4   2021-06-07 14:02:01\n",
       "5   2021-06-07 13:20:23\n",
       "Name: date, dtype: datetime64[ns]"
      ]
     },
     "execution_count": 38,
     "metadata": {},
     "output_type": "execute_result"
    }
   ],
   "source": [
    "df_news.loc[:5,'date']"
   ]
  },
  {
   "cell_type": "code",
   "execution_count": 42,
   "id": "central-bangladesh",
   "metadata": {
    "tags": []
   },
   "outputs": [
    {
     "data": {
      "text/html": [
       "<div>\n",
       "<style scoped>\n",
       "    .dataframe tbody tr th:only-of-type {\n",
       "        vertical-align: middle;\n",
       "    }\n",
       "\n",
       "    .dataframe tbody tr th {\n",
       "        vertical-align: top;\n",
       "    }\n",
       "\n",
       "    .dataframe thead th {\n",
       "        text-align: right;\n",
       "    }\n",
       "</style>\n",
       "<table border=\"1\" class=\"dataframe\">\n",
       "  <thead>\n",
       "    <tr style=\"text-align: right;\">\n",
       "      <th></th>\n",
       "      <th>news_url</th>\n",
       "      <th>image_url</th>\n",
       "      <th>title</th>\n",
       "      <th>text</th>\n",
       "      <th>source</th>\n",
       "      <th>date</th>\n",
       "      <th>topics</th>\n",
       "      <th>sentiment</th>\n",
       "      <th>type</th>\n",
       "      <th>tickers</th>\n",
       "      <th>articles</th>\n",
       "    </tr>\n",
       "  </thead>\n",
       "  <tbody>\n",
       "    <tr>\n",
       "      <th>0</th>\n",
       "      <td>https://www.cnbc.com/2021/06/07/apple-is-turni...</td>\n",
       "      <td>https://cdn.snapi.dev/images/v1/0/i/106893386-...</td>\n",
       "      <td>Apple is turning privacy into a business advan...</td>\n",
       "      <td>Privacy was mentioned as part of nearly every ...</td>\n",
       "      <td>CNBC</td>\n",
       "      <td>2021-06-07 18:52:59</td>\n",
       "      <td>[]</td>\n",
       "      <td>Positive</td>\n",
       "      <td>Article</td>\n",
       "      <td>[AAPL]</td>\n",
       "      <td>In this article Apple unveiled new versions o...</td>\n",
       "    </tr>\n",
       "    <tr>\n",
       "      <th>1</th>\n",
       "      <td>https://www.reuters.com/technology/top-takeawa...</td>\n",
       "      <td>https://cdn.snapi.dev/images/v1/h/w/m02d202106...</td>\n",
       "      <td>Factbox: Top takeaways from Apple's Developers...</td>\n",
       "      <td>Apple Inc on Monday announced a host of new fe...</td>\n",
       "      <td>Reuters</td>\n",
       "      <td>2021-06-07 16:55:00</td>\n",
       "      <td>[]</td>\n",
       "      <td>Positive</td>\n",
       "      <td>Article</td>\n",
       "      <td>[AAPL]</td>\n",
       "      <td>Apple Inc (AAPL.O) on Monday announced a host ...</td>\n",
       "    </tr>\n",
       "    <tr>\n",
       "      <th>2</th>\n",
       "      <td>https://www.cnn.com/2021/06/07/tech/wwdc-apple...</td>\n",
       "      <td>https://cdn.snapi.dev/images/v1/i/p/2106070841...</td>\n",
       "      <td>Apple's WWDC 2021 event is about to kick off</td>\n",
       "      <td>Apple is about to reveal its latest set of cha...</td>\n",
       "      <td>CNN Business</td>\n",
       "      <td>2021-06-07 12:35:37</td>\n",
       "      <td>[product]</td>\n",
       "      <td>Positive</td>\n",
       "      <td>Article</td>\n",
       "      <td>[AAPL]</td>\n",
       "      <td>By Clare Duffy, CNN Business  Updated 4:18 PM ...</td>\n",
       "    </tr>\n",
       "    <tr>\n",
       "      <th>3</th>\n",
       "      <td>https://techcrunch.com/2021/06/07/apple-releas...</td>\n",
       "      <td>https://cdn.snapi.dev/images/v1/0/p/0ppldd-858...</td>\n",
       "      <td>Apple releases torrent of updates, and Wall St...</td>\n",
       "      <td>Today's WWDC keynote from Apple covered a huge...</td>\n",
       "      <td>TechCrunch</td>\n",
       "      <td>2021-06-07 15:55:00</td>\n",
       "      <td>[]</td>\n",
       "      <td>Neutral</td>\n",
       "      <td>Article</td>\n",
       "      <td>[AAPL]</td>\n",
       "      <td>NaN</td>\n",
       "    </tr>\n",
       "    <tr>\n",
       "      <th>4</th>\n",
       "      <td>https://www.benzinga.com/news/21/06/21457495/a...</td>\n",
       "      <td>https://cdn.snapi.dev/images/v1/c/o/computer-e...</td>\n",
       "      <td>Apple's Introduces FaceTime Calls with Multipl...</td>\n",
       "      <td>Apple Inc (NASDAQ: AAPL) introduced updates to...</td>\n",
       "      <td>Benzinga</td>\n",
       "      <td>2021-06-07 14:02:01</td>\n",
       "      <td>[product]</td>\n",
       "      <td>Positive</td>\n",
       "      <td>Article</td>\n",
       "      <td>[AAPL]</td>\n",
       "      <td>© 2021 Benzinga.com. Benzinga does not provide...</td>\n",
       "    </tr>\n",
       "  </tbody>\n",
       "</table>\n",
       "</div>"
      ],
      "text/plain": [
       "                                            news_url  \\\n",
       "0  https://www.cnbc.com/2021/06/07/apple-is-turni...   \n",
       "1  https://www.reuters.com/technology/top-takeawa...   \n",
       "2  https://www.cnn.com/2021/06/07/tech/wwdc-apple...   \n",
       "3  https://techcrunch.com/2021/06/07/apple-releas...   \n",
       "4  https://www.benzinga.com/news/21/06/21457495/a...   \n",
       "\n",
       "                                           image_url  \\\n",
       "0  https://cdn.snapi.dev/images/v1/0/i/106893386-...   \n",
       "1  https://cdn.snapi.dev/images/v1/h/w/m02d202106...   \n",
       "2  https://cdn.snapi.dev/images/v1/i/p/2106070841...   \n",
       "3  https://cdn.snapi.dev/images/v1/0/p/0ppldd-858...   \n",
       "4  https://cdn.snapi.dev/images/v1/c/o/computer-e...   \n",
       "\n",
       "                                               title  \\\n",
       "0  Apple is turning privacy into a business advan...   \n",
       "1  Factbox: Top takeaways from Apple's Developers...   \n",
       "2       Apple's WWDC 2021 event is about to kick off   \n",
       "3  Apple releases torrent of updates, and Wall St...   \n",
       "4  Apple's Introduces FaceTime Calls with Multipl...   \n",
       "\n",
       "                                                text        source  \\\n",
       "0  Privacy was mentioned as part of nearly every ...          CNBC   \n",
       "1  Apple Inc on Monday announced a host of new fe...       Reuters   \n",
       "2  Apple is about to reveal its latest set of cha...  CNN Business   \n",
       "3  Today's WWDC keynote from Apple covered a huge...    TechCrunch   \n",
       "4  Apple Inc (NASDAQ: AAPL) introduced updates to...      Benzinga   \n",
       "\n",
       "                 date     topics sentiment     type tickers  \\\n",
       "0 2021-06-07 18:52:59         []  Positive  Article  [AAPL]   \n",
       "1 2021-06-07 16:55:00         []  Positive  Article  [AAPL]   \n",
       "2 2021-06-07 12:35:37  [product]  Positive  Article  [AAPL]   \n",
       "3 2021-06-07 15:55:00         []   Neutral  Article  [AAPL]   \n",
       "4 2021-06-07 14:02:01  [product]  Positive  Article  [AAPL]   \n",
       "\n",
       "                                            articles  \n",
       "0   In this article Apple unveiled new versions o...  \n",
       "1  Apple Inc (AAPL.O) on Monday announced a host ...  \n",
       "2  By Clare Duffy, CNN Business  Updated 4:18 PM ...  \n",
       "3                                                NaN  \n",
       "4  © 2021 Benzinga.com. Benzinga does not provide...  "
      ]
     },
     "execution_count": 42,
     "metadata": {},
     "output_type": "execute_result"
    }
   ],
   "source": [
    "df_news.head()"
   ]
  }
 ],
 "metadata": {
  "kernelspec": {
   "display_name": "Python 3",
   "language": "python",
   "name": "python3"
  },
  "language_info": {
   "codemirror_mode": {
    "name": "ipython",
    "version": 3
   },
   "file_extension": ".py",
   "mimetype": "text/x-python",
   "name": "python",
   "nbconvert_exporter": "python",
   "pygments_lexer": "ipython3",
   "version": "3.9.5"
  }
 },
 "nbformat": 4,
 "nbformat_minor": 5
}
