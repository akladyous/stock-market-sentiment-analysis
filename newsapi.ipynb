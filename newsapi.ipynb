{
 "cells": [
  {
   "cell_type": "code",
   "execution_count": 1,
   "id": "polar-median",
   "metadata": {
    "tags": []
   },
   "outputs": [],
   "source": [
    "%run __init__.py"
   ]
  },
  {
   "cell_type": "code",
   "execution_count": 28,
   "id": "changing-orlando",
   "metadata": {
    "execution": {
     "iopub.execute_input": "2021-05-30T03:06:59.782146Z",
     "iopub.status.busy": "2021-05-30T03:06:59.781476Z",
     "iopub.status.idle": "2021-05-30T03:06:59.790858Z",
     "shell.execute_reply": "2021-05-30T03:06:59.789471Z",
     "shell.execute_reply.started": "2021-05-30T03:06:59.782044Z"
    },
    "tags": []
   },
   "outputs": [],
   "source": [
    "import numpy as np\n",
    "import pandas as pd\n",
    "import matplotlib.pyplot as plt\n",
    "import pickle\n",
    "import news_api\n",
    "from nlp import polarity_score, text_tonkenize\n",
    "from scrapy import Scrapy\n",
    "from news_api import News_api"
   ]
  },
  {
   "cell_type": "code",
   "execution_count": 29,
   "id": "organizational-phoenix",
   "metadata": {
    "execution": {
     "iopub.execute_input": "2021-05-30T03:07:21.127416Z",
     "iopub.status.busy": "2021-05-30T03:07:21.127052Z",
     "iopub.status.idle": "2021-05-30T03:07:21.132421Z",
     "shell.execute_reply": "2021-05-30T03:07:21.131173Z",
     "shell.execute_reply.started": "2021-05-30T03:07:21.127380Z"
    },
    "tags": []
   },
   "outputs": [],
   "source": [
    "with open (\"./newsapi/newsapi_key1.pkl\", 'rb') as nak:\n",
    "    newsapi_key = pickle.load(nak)\n",
    "    nak.close()"
   ]
  },
  {
   "cell_type": "code",
   "execution_count": 30,
   "id": "monetary-necessity",
   "metadata": {
    "execution": {
     "iopub.execute_input": "2021-05-30T03:07:24.621670Z",
     "iopub.status.busy": "2021-05-30T03:07:24.621166Z",
     "iopub.status.idle": "2021-05-30T03:07:24.628335Z",
     "shell.execute_reply": "2021-05-30T03:07:24.627088Z",
     "shell.execute_reply.started": "2021-05-30T03:07:24.621618Z"
    },
    "tags": []
   },
   "outputs": [],
   "source": [
    "apple_obj = News_api(newsapi_key, \"2021-05-17\",\"2021-05-21\")"
   ]
  },
  {
   "cell_type": "code",
   "execution_count": 31,
   "id": "french-mount",
   "metadata": {
    "execution": {
     "iopub.execute_input": "2021-05-30T03:07:29.197309Z",
     "iopub.status.busy": "2021-05-30T03:07:29.196905Z",
     "iopub.status.idle": "2021-05-30T03:07:29.203516Z",
     "shell.execute_reply": "2021-05-30T03:07:29.201989Z",
     "shell.execute_reply.started": "2021-05-30T03:07:29.197271Z"
    },
    "tags": []
   },
   "outputs": [],
   "source": [
    "sources = ['abc-news', 'business-insider', 'financial-post', 'google-news', 'reuters',\n",
    "           'nbc-news', 'techcrunch', 'wired', 'the-wall-street-journal']"
   ]
  },
  {
   "cell_type": "code",
   "execution_count": 32,
   "id": "victorian-diabetes",
   "metadata": {
    "execution": {
     "iopub.execute_input": "2021-05-30T03:07:31.450478Z",
     "iopub.status.busy": "2021-05-30T03:07:31.449801Z",
     "iopub.status.idle": "2021-05-30T03:07:34.984952Z",
     "shell.execute_reply": "2021-05-30T03:07:34.983392Z",
     "shell.execute_reply.started": "2021-05-30T03:07:31.450404Z"
    },
    "tags": []
   },
   "outputs": [],
   "source": [
    "apple_news = apple_obj.get_news([\"apple\"], sources=sources)"
   ]
  },
  {
   "cell_type": "code",
   "execution_count": 75,
   "id": "domestic-wings",
   "metadata": {
    "execution": {
     "iopub.execute_input": "2021-05-30T04:14:31.892905Z",
     "iopub.status.busy": "2021-05-30T04:14:31.892283Z",
     "iopub.status.idle": "2021-05-30T04:14:31.915316Z",
     "shell.execute_reply": "2021-05-30T04:14:31.914648Z",
     "shell.execute_reply.started": "2021-05-30T04:14:31.892834Z"
    },
    "tags": []
   },
   "outputs": [
    {
     "data": {
      "text/html": [
       "<div>\n",
       "<style scoped>\n",
       "    .dataframe tbody tr th:only-of-type {\n",
       "        vertical-align: middle;\n",
       "    }\n",
       "\n",
       "    .dataframe tbody tr th {\n",
       "        vertical-align: top;\n",
       "    }\n",
       "\n",
       "    .dataframe thead th {\n",
       "        text-align: right;\n",
       "    }\n",
       "</style>\n",
       "<table border=\"1\" class=\"dataframe\">\n",
       "  <thead>\n",
       "    <tr style=\"text-align: right;\">\n",
       "      <th></th>\n",
       "      <th>source</th>\n",
       "      <th>author</th>\n",
       "      <th>title</th>\n",
       "      <th>description</th>\n",
       "      <th>url</th>\n",
       "      <th>urlToImage</th>\n",
       "      <th>publishedAt</th>\n",
       "      <th>content</th>\n",
       "    </tr>\n",
       "  </thead>\n",
       "  <tbody>\n",
       "    <tr>\n",
       "      <th>0</th>\n",
       "      <td>{'id': 'abc-news', 'name': 'ABC News'}</td>\n",
       "      <td>The Associated Press</td>\n",
       "      <td>How major US stock indexes fared Friday</td>\n",
       "      <td>Stocks ended a wobbly day with mixed results o...</td>\n",
       "      <td>https://abcnews.go.com/Business/wireStory/majo...</td>\n",
       "      <td>null</td>\n",
       "      <td>2021-05-21T20:18:28Z</td>\n",
       "      <td>Stocks ended a wobbly day with mixed results o...</td>\n",
       "    </tr>\n",
       "    <tr>\n",
       "      <th>1</th>\n",
       "      <td>{'id': 'abc-news', 'name': 'ABC News'}</td>\n",
       "      <td>The Associated Press</td>\n",
       "      <td>Lady Gaga says rape at 19 led to a 'total psyc...</td>\n",
       "      <td>Lady Gaga says she got pregnant at 19 after be...</td>\n",
       "      <td>https://abcnews.go.com/Entertainment/wireStory...</td>\n",
       "      <td>https://s.abcnews.com/images/Lifestyle/WireAP_...</td>\n",
       "      <td>2021-05-21T14:26:30Z</td>\n",
       "      <td>Lady Gaga says she got pregnant at 19 after be...</td>\n",
       "    </tr>\n",
       "    <tr>\n",
       "      <th>2</th>\n",
       "      <td>{'id': 'abc-news', 'name': 'ABC News'}</td>\n",
       "      <td>ELAINE KURTENBACH AP Business Writer</td>\n",
       "      <td>Asian stocks mixed after Wall St rebound break...</td>\n",
       "      <td>Asian shares are mixed after a rebound on Wall...</td>\n",
       "      <td>https://abcnews.go.com/Business/wireStory/asia...</td>\n",
       "      <td>https://s.abcnews.com/images/Business/WireAP_6...</td>\n",
       "      <td>2021-05-21T06:48:47Z</td>\n",
       "      <td>BANGKOK -- Asian shares were mixed Friday afte...</td>\n",
       "    </tr>\n",
       "  </tbody>\n",
       "</table>\n",
       "</div>"
      ],
      "text/plain": [
       "                                   source  \\\n",
       "0  {'id': 'abc-news', 'name': 'ABC News'}   \n",
       "1  {'id': 'abc-news', 'name': 'ABC News'}   \n",
       "2  {'id': 'abc-news', 'name': 'ABC News'}   \n",
       "\n",
       "                                 author  \\\n",
       "0                  The Associated Press   \n",
       "1                  The Associated Press   \n",
       "2  ELAINE KURTENBACH AP Business Writer   \n",
       "\n",
       "                                               title  \\\n",
       "0            How major US stock indexes fared Friday   \n",
       "1  Lady Gaga says rape at 19 led to a 'total psyc...   \n",
       "2  Asian stocks mixed after Wall St rebound break...   \n",
       "\n",
       "                                         description  \\\n",
       "0  Stocks ended a wobbly day with mixed results o...   \n",
       "1  Lady Gaga says she got pregnant at 19 after be...   \n",
       "2  Asian shares are mixed after a rebound on Wall...   \n",
       "\n",
       "                                                 url  \\\n",
       "0  https://abcnews.go.com/Business/wireStory/majo...   \n",
       "1  https://abcnews.go.com/Entertainment/wireStory...   \n",
       "2  https://abcnews.go.com/Business/wireStory/asia...   \n",
       "\n",
       "                                          urlToImage           publishedAt  \\\n",
       "0                                               null  2021-05-21T20:18:28Z   \n",
       "1  https://s.abcnews.com/images/Lifestyle/WireAP_...  2021-05-21T14:26:30Z   \n",
       "2  https://s.abcnews.com/images/Business/WireAP_6...  2021-05-21T06:48:47Z   \n",
       "\n",
       "                                             content  \n",
       "0  Stocks ended a wobbly day with mixed results o...  \n",
       "1  Lady Gaga says she got pregnant at 19 after be...  \n",
       "2  BANGKOK -- Asian shares were mixed Friday afte...  "
      ]
     },
     "execution_count": 75,
     "metadata": {},
     "output_type": "execute_result"
    }
   ],
   "source": [
    "apple_newsapi_df = pd.DataFrame(apple_news['apple'])\n",
    "apple_newsapi_df.head(3)"
   ]
  },
  {
   "cell_type": "code",
   "execution_count": 40,
   "id": "large-billion",
   "metadata": {
    "execution": {
     "iopub.execute_input": "2021-05-30T03:10:22.149989Z",
     "iopub.status.busy": "2021-05-30T03:10:22.149608Z",
     "iopub.status.idle": "2021-05-30T03:10:22.155657Z",
     "shell.execute_reply": "2021-05-30T03:10:22.154923Z",
     "shell.execute_reply.started": "2021-05-30T03:10:22.149951Z"
    },
    "tags": []
   },
   "outputs": [
    {
     "data": {
      "text/plain": [
       "'https://abcnews.go.com/Business/wireStory/major-us-stock-indexes-fared-friday-77835436'"
      ]
     },
     "execution_count": 40,
     "metadata": {},
     "output_type": "execute_result"
    }
   ],
   "source": [
    "apple_newsapi_df['url'][0]"
   ]
  },
  {
   "cell_type": "code",
   "execution_count": 174,
   "id": "british-quantity",
   "metadata": {
    "execution": {
     "iopub.execute_input": "2021-05-23T19:53:35.989923Z",
     "iopub.status.busy": "2021-05-23T19:53:35.989322Z",
     "iopub.status.idle": "2021-05-23T19:53:36.006461Z",
     "shell.execute_reply": "2021-05-23T19:53:36.005624Z",
     "shell.execute_reply.started": "2021-05-23T19:53:35.989859Z"
    },
    "tags": []
   },
   "outputs": [],
   "source": [
    "apple_newsapi_df.to_csv(\"./data/apple_newsapi_raw.csv\")"
   ]
  },
  {
   "cell_type": "code",
   "execution_count": 56,
   "id": "brown-nashville",
   "metadata": {
    "execution": {
     "iopub.execute_input": "2021-05-30T03:14:41.231006Z",
     "iopub.status.busy": "2021-05-30T03:14:41.230374Z",
     "iopub.status.idle": "2021-05-30T03:15:50.864183Z",
     "shell.execute_reply": "2021-05-30T03:15:50.863783Z",
     "shell.execute_reply.started": "2021-05-30T03:14:41.230935Z"
    },
    "tags": []
   },
   "outputs": [
    {
     "name": "stdout",
     "output_type": "stream",
     "text": [
      "110/110 99% https://www.wsj.com/articles/apple-set-to-call-tim-cook-soon-to-witness-stand-to-fight-monopoly-claims-116212456042802e//ItYmU5OGFjOGJjOTQ5s-for-the-walt-disney-world-50th-anniversary/\r"
     ]
    }
   ],
   "source": [
    "articles = Scrapy.scrap(apple_newsapi_df.url.values.tolist())"
   ]
  },
  {
   "cell_type": "code",
   "execution_count": 57,
   "id": "painful-profession",
   "metadata": {
    "execution": {
     "iopub.execute_input": "2021-05-30T03:18:21.812810Z",
     "iopub.status.busy": "2021-05-30T03:18:21.812308Z",
     "iopub.status.idle": "2021-05-30T03:18:21.833339Z",
     "shell.execute_reply": "2021-05-30T03:18:21.832559Z",
     "shell.execute_reply.started": "2021-05-30T03:18:21.812756Z"
    },
    "tags": []
   },
   "outputs": [
    {
     "data": {
      "text/plain": [
       "0    [Stocks ended a wobbly day with mixed results ...\n",
       "1    [(76, https://techcrunch.com/2021/05/21/daily-...\n",
       "Name: articles, dtype: object"
      ]
     },
     "execution_count": 57,
     "metadata": {},
     "output_type": "execute_result"
    }
   ],
   "source": [
    "apple_newsapi_articles_df = pd.Series(articles, name='articles')\n",
    "apple_newsapi_articles_df[:5]"
   ]
  },
  {
   "cell_type": "code",
   "execution_count": 192,
   "id": "distributed-noise",
   "metadata": {
    "execution": {
     "iopub.execute_input": "2021-05-23T20:18:19.071929Z",
     "iopub.status.busy": "2021-05-23T20:18:19.071333Z",
     "iopub.status.idle": "2021-05-23T20:18:19.121765Z",
     "shell.execute_reply": "2021-05-23T20:18:19.121246Z",
     "shell.execute_reply.started": "2021-05-23T20:18:19.071866Z"
    }
   },
   "outputs": [],
   "source": [
    "apple_newsapi_articles_df = text_tonkenize(apple_newsapi_articles_df)"
   ]
  },
  {
   "cell_type": "code",
   "execution_count": 195,
   "id": "concrete-semester",
   "metadata": {
    "execution": {
     "iopub.execute_input": "2021-05-23T20:19:59.773644Z",
     "iopub.status.busy": "2021-05-23T20:19:59.772983Z",
     "iopub.status.idle": "2021-05-23T20:20:00.347144Z",
     "shell.execute_reply": "2021-05-23T20:20:00.346782Z",
     "shell.execute_reply.started": "2021-05-23T20:19:59.773566Z"
    },
    "tags": []
   },
   "outputs": [],
   "source": [
    "apple_newsapi_scores_df = polarity_score(apple_newsapi_articles_df)"
   ]
  },
  {
   "cell_type": "code",
   "execution_count": 202,
   "id": "automotive-publicity",
   "metadata": {
    "execution": {
     "iopub.execute_input": "2021-05-23T20:22:22.309880Z",
     "iopub.status.busy": "2021-05-23T20:22:22.309228Z",
     "iopub.status.idle": "2021-05-23T20:22:22.329646Z",
     "shell.execute_reply": "2021-05-23T20:22:22.328938Z",
     "shell.execute_reply.started": "2021-05-23T20:22:22.309807Z"
    },
    "tags": []
   },
   "outputs": [
    {
     "data": {
      "text/html": [
       "<div>\n",
       "<style scoped>\n",
       "    .dataframe tbody tr th:only-of-type {\n",
       "        vertical-align: middle;\n",
       "    }\n",
       "\n",
       "    .dataframe tbody tr th {\n",
       "        vertical-align: top;\n",
       "    }\n",
       "\n",
       "    .dataframe thead th {\n",
       "        text-align: right;\n",
       "    }\n",
       "</style>\n",
       "<table border=\"1\" class=\"dataframe\">\n",
       "  <thead>\n",
       "    <tr style=\"text-align: right;\">\n",
       "      <th></th>\n",
       "      <th>text</th>\n",
       "      <th>negative</th>\n",
       "      <th>neutral</th>\n",
       "      <th>positive</th>\n",
       "      <th>compound</th>\n",
       "      <th>sentiment</th>\n",
       "    </tr>\n",
       "  </thead>\n",
       "  <tbody>\n",
       "    <tr>\n",
       "      <th>0</th>\n",
       "      <td>stocks ended a wobbly day with mixed results o...</td>\n",
       "      <td>0.060</td>\n",
       "      <td>0.889</td>\n",
       "      <td>0.052</td>\n",
       "      <td>-0.1280</td>\n",
       "      <td>negative</td>\n",
       "    </tr>\n",
       "    <tr>\n",
       "      <th>1</th>\n",
       "      <td>lady gaga says she got pregnant at after being...</td>\n",
       "      <td>0.142</td>\n",
       "      <td>0.838</td>\n",
       "      <td>0.020</td>\n",
       "      <td>-0.9834</td>\n",
       "      <td>negative</td>\n",
       "    </tr>\n",
       "    <tr>\n",
       "      <th>2</th>\n",
       "      <td>stocks ended a wobbly day with mixed results o...</td>\n",
       "      <td>0.050</td>\n",
       "      <td>0.845</td>\n",
       "      <td>0.105</td>\n",
       "      <td>0.9750</td>\n",
       "      <td>positive</td>\n",
       "    </tr>\n",
       "    <tr>\n",
       "      <th>3</th>\n",
       "      <td>apple ceo tim cook will take the witness stand...</td>\n",
       "      <td>0.049</td>\n",
       "      <td>0.841</td>\n",
       "      <td>0.110</td>\n",
       "      <td>0.9941</td>\n",
       "      <td>positive</td>\n",
       "    </tr>\n",
       "    <tr>\n",
       "      <th>4</th>\n",
       "      <td>apple ceo tim cook will take the witness stand...</td>\n",
       "      <td>0.049</td>\n",
       "      <td>0.841</td>\n",
       "      <td>0.110</td>\n",
       "      <td>0.9941</td>\n",
       "      <td>positive</td>\n",
       "    </tr>\n",
       "  </tbody>\n",
       "</table>\n",
       "</div>"
      ],
      "text/plain": [
       "                                                text  negative  neutral  \\\n",
       "0  stocks ended a wobbly day with mixed results o...     0.060    0.889   \n",
       "1  lady gaga says she got pregnant at after being...     0.142    0.838   \n",
       "2  stocks ended a wobbly day with mixed results o...     0.050    0.845   \n",
       "3  apple ceo tim cook will take the witness stand...     0.049    0.841   \n",
       "4  apple ceo tim cook will take the witness stand...     0.049    0.841   \n",
       "\n",
       "   positive  compound sentiment  \n",
       "0     0.052   -0.1280  negative  \n",
       "1     0.020   -0.9834  negative  \n",
       "2     0.105    0.9750  positive  \n",
       "3     0.110    0.9941  positive  \n",
       "4     0.110    0.9941  positive  "
      ]
     },
     "execution_count": 202,
     "metadata": {},
     "output_type": "execute_result"
    }
   ],
   "source": [
    "apple_newsapi_scores_df.head()"
   ]
  },
  {
   "cell_type": "markdown",
   "id": "metropolitan-camel",
   "metadata": {},
   "source": [
    "## Data Scrubbing"
   ]
  },
  {
   "cell_type": "code",
   "execution_count": 234,
   "id": "historical-pavilion",
   "metadata": {
    "execution": {
     "iopub.execute_input": "2021-05-23T20:44:01.183295Z",
     "iopub.status.busy": "2021-05-23T20:44:01.182808Z",
     "iopub.status.idle": "2021-05-23T20:44:01.193513Z",
     "shell.execute_reply": "2021-05-23T20:44:01.191836Z",
     "shell.execute_reply.started": "2021-05-23T20:44:01.183246Z"
    },
    "tags": []
   },
   "outputs": [],
   "source": [
    "apple_newsapi_df = pd.concat([apple_newsapi_df, apple_newsapi_scores_df],\n",
    "                                      axis=1, ignore_index=False, sort=False).reindex()"
   ]
  },
  {
   "cell_type": "code",
   "execution_count": 252,
   "id": "horizontal-postage",
   "metadata": {
    "execution": {
     "iopub.execute_input": "2021-05-23T20:51:46.585976Z",
     "iopub.status.busy": "2021-05-23T20:51:46.585402Z",
     "iopub.status.idle": "2021-05-23T20:51:46.591949Z",
     "shell.execute_reply": "2021-05-23T20:51:46.590468Z",
     "shell.execute_reply.started": "2021-05-23T20:51:46.585914Z"
    },
    "tags": []
   },
   "outputs": [],
   "source": [
    "apple_newsapi_df.rename(columns={\"publishedAt\":\"datetime\"}, inplace=True)"
   ]
  },
  {
   "cell_type": "code",
   "execution_count": 260,
   "id": "mobile-transsexual",
   "metadata": {
    "execution": {
     "iopub.execute_input": "2021-05-23T20:59:15.379642Z",
     "iopub.status.busy": "2021-05-23T20:59:15.379025Z",
     "iopub.status.idle": "2021-05-23T20:59:15.388547Z",
     "shell.execute_reply": "2021-05-23T20:59:15.387369Z",
     "shell.execute_reply.started": "2021-05-23T20:59:15.379578Z"
    }
   },
   "outputs": [],
   "source": [
    "apple_newsapi_df['datetime'] = pd.to_datetime(apple_newsapi_df['datetime'], infer_datetime_format=True)"
   ]
  },
  {
   "cell_type": "code",
   "execution_count": 264,
   "id": "short-device",
   "metadata": {
    "execution": {
     "iopub.execute_input": "2021-05-23T21:00:41.777634Z",
     "iopub.status.busy": "2021-05-23T21:00:41.777272Z",
     "iopub.status.idle": "2021-05-23T21:00:41.784675Z",
     "shell.execute_reply": "2021-05-23T21:00:41.783251Z",
     "shell.execute_reply.started": "2021-05-23T21:00:41.777601Z"
    },
    "tags": []
   },
   "outputs": [],
   "source": [
    "apple_newsapi_df['source'] = apple_newsapi_df['source'].apply(lambda s: s['name'] if s['name']!=None else s['id'] if s['id']!=None else s)"
   ]
  },
  {
   "cell_type": "code",
   "execution_count": 771,
   "id": "another-scenario",
   "metadata": {
    "execution": {
     "iopub.execute_input": "2021-05-22T02:24:30.251452Z",
     "iopub.status.busy": "2021-05-22T02:24:30.251106Z",
     "iopub.status.idle": "2021-05-22T02:24:30.259630Z",
     "shell.execute_reply": "2021-05-22T02:24:30.258742Z",
     "shell.execute_reply.started": "2021-05-22T02:24:30.251421Z"
    },
    "tags": []
   },
   "outputs": [],
   "source": [
    "# we got just 27 missing scraped articles, those will be droped\n",
    "apple_newsapi_df.dropna(inplace=True)"
   ]
  },
  {
   "cell_type": "code",
   "execution_count": 267,
   "id": "otherwise-worker",
   "metadata": {
    "execution": {
     "iopub.execute_input": "2021-05-23T21:05:59.822530Z",
     "iopub.status.busy": "2021-05-23T21:05:59.821909Z",
     "iopub.status.idle": "2021-05-23T21:05:59.841006Z",
     "shell.execute_reply": "2021-05-23T21:05:59.840136Z",
     "shell.execute_reply.started": "2021-05-23T21:05:59.822464Z"
    },
    "tags": []
   },
   "outputs": [],
   "source": [
    "apple_newsapi_df['word_count'] = apple_newsapi_df['text'].apply(lambda x: len(x.split()))"
   ]
  },
  {
   "cell_type": "code",
   "execution_count": 270,
   "id": "intelligent-trust",
   "metadata": {
    "execution": {
     "iopub.execute_input": "2021-05-23T21:10:13.028887Z",
     "iopub.status.busy": "2021-05-23T21:10:13.028265Z",
     "iopub.status.idle": "2021-05-23T21:10:13.039961Z",
     "shell.execute_reply": "2021-05-23T21:10:13.038574Z",
     "shell.execute_reply.started": "2021-05-23T21:10:13.028809Z"
    },
    "tags": []
   },
   "outputs": [],
   "source": [
    "apple_newsapi_df.drop(apple_newsapi_df[(apple_newsapi_df['word_count']==0)].index, inplace=True)"
   ]
  },
  {
   "cell_type": "code",
   "execution_count": 274,
   "id": "familiar-value",
   "metadata": {
    "execution": {
     "iopub.execute_input": "2021-05-23T22:37:03.486018Z",
     "iopub.status.busy": "2021-05-23T22:37:03.485250Z",
     "iopub.status.idle": "2021-05-23T22:37:03.514908Z",
     "shell.execute_reply": "2021-05-23T22:37:03.513330Z",
     "shell.execute_reply.started": "2021-05-23T22:37:03.485958Z"
    },
    "tags": []
   },
   "outputs": [],
   "source": [
    "apple_newsapi_df.to_csv(\"./data/apple_newsapi_df.csv\")"
   ]
  },
  {
   "cell_type": "code",
   "execution_count": 277,
   "id": "nuclear-antarctica",
   "metadata": {
    "execution": {
     "iopub.execute_input": "2021-05-23T22:38:21.268749Z",
     "iopub.status.busy": "2021-05-23T22:38:21.268165Z",
     "iopub.status.idle": "2021-05-23T22:38:21.294019Z",
     "shell.execute_reply": "2021-05-23T22:38:21.293132Z",
     "shell.execute_reply.started": "2021-05-23T22:38:21.268686Z"
    },
    "tags": []
   },
   "outputs": [
    {
     "data": {
      "text/html": [
       "<div>\n",
       "<style scoped>\n",
       "    .dataframe tbody tr th:only-of-type {\n",
       "        vertical-align: middle;\n",
       "    }\n",
       "\n",
       "    .dataframe tbody tr th {\n",
       "        vertical-align: top;\n",
       "    }\n",
       "\n",
       "    .dataframe thead th {\n",
       "        text-align: right;\n",
       "    }\n",
       "</style>\n",
       "<table border=\"1\" class=\"dataframe\">\n",
       "  <thead>\n",
       "    <tr style=\"text-align: right;\">\n",
       "      <th></th>\n",
       "      <th>source</th>\n",
       "      <th>author</th>\n",
       "      <th>title</th>\n",
       "      <th>description</th>\n",
       "      <th>url</th>\n",
       "      <th>urlToImage</th>\n",
       "      <th>datetime</th>\n",
       "      <th>content</th>\n",
       "      <th>text</th>\n",
       "      <th>negative</th>\n",
       "      <th>neutral</th>\n",
       "      <th>positive</th>\n",
       "      <th>compound</th>\n",
       "      <th>sentiment</th>\n",
       "      <th>word_count</th>\n",
       "    </tr>\n",
       "  </thead>\n",
       "  <tbody>\n",
       "    <tr>\n",
       "      <th>0</th>\n",
       "      <td>ABC News</td>\n",
       "      <td>The Associated Press</td>\n",
       "      <td>How major US stock indexes fared Friday</td>\n",
       "      <td>Stocks ended a wobbly day with mixed results o...</td>\n",
       "      <td>https://abcnews.go.com/Business/wireStory/majo...</td>\n",
       "      <td>null</td>\n",
       "      <td>2021-05-21 20:18:28</td>\n",
       "      <td>Stocks ended a wobbly day with mixed results o...</td>\n",
       "      <td>stocks ended a wobbly day with mixed results o...</td>\n",
       "      <td>0.060</td>\n",
       "      <td>0.889</td>\n",
       "      <td>0.052</td>\n",
       "      <td>-0.1280</td>\n",
       "      <td>negative</td>\n",
       "      <td>195</td>\n",
       "    </tr>\n",
       "    <tr>\n",
       "      <th>1</th>\n",
       "      <td>ABC News</td>\n",
       "      <td>The Associated Press</td>\n",
       "      <td>Lady Gaga says rape at 19 led to a 'total psyc...</td>\n",
       "      <td>Lady Gaga says she got pregnant at 19 after be...</td>\n",
       "      <td>https://abcnews.go.com/Entertainment/wireStory...</td>\n",
       "      <td>https://s.abcnews.com/images/Lifestyle/WireAP_...</td>\n",
       "      <td>2021-05-21 14:26:30</td>\n",
       "      <td>Lady Gaga says she got pregnant at 19 after be...</td>\n",
       "      <td>lady gaga says she got pregnant at after being...</td>\n",
       "      <td>0.142</td>\n",
       "      <td>0.838</td>\n",
       "      <td>0.020</td>\n",
       "      <td>-0.9834</td>\n",
       "      <td>negative</td>\n",
       "      <td>221</td>\n",
       "    </tr>\n",
       "    <tr>\n",
       "      <th>2</th>\n",
       "      <td>ABC News</td>\n",
       "      <td>ELAINE KURTENBACH AP Business Writer</td>\n",
       "      <td>Asian stocks mixed after Wall St rebound break...</td>\n",
       "      <td>Asian shares are mixed after a rebound on Wall...</td>\n",
       "      <td>https://abcnews.go.com/Business/wireStory/asia...</td>\n",
       "      <td>https://s.abcnews.com/images/Business/WireAP_6...</td>\n",
       "      <td>2021-05-21 06:48:47</td>\n",
       "      <td>BANGKOK -- Asian shares were mixed Friday afte...</td>\n",
       "      <td>stocks ended a wobbly day with mixed results o...</td>\n",
       "      <td>0.050</td>\n",
       "      <td>0.845</td>\n",
       "      <td>0.105</td>\n",
       "      <td>0.9750</td>\n",
       "      <td>positive</td>\n",
       "      <td>539</td>\n",
       "    </tr>\n",
       "  </tbody>\n",
       "</table>\n",
       "</div>"
      ],
      "text/plain": [
       "     source                                author  \\\n",
       "0  ABC News                  The Associated Press   \n",
       "1  ABC News                  The Associated Press   \n",
       "2  ABC News  ELAINE KURTENBACH AP Business Writer   \n",
       "\n",
       "                                               title  \\\n",
       "0            How major US stock indexes fared Friday   \n",
       "1  Lady Gaga says rape at 19 led to a 'total psyc...   \n",
       "2  Asian stocks mixed after Wall St rebound break...   \n",
       "\n",
       "                                         description  \\\n",
       "0  Stocks ended a wobbly day with mixed results o...   \n",
       "1  Lady Gaga says she got pregnant at 19 after be...   \n",
       "2  Asian shares are mixed after a rebound on Wall...   \n",
       "\n",
       "                                                 url  \\\n",
       "0  https://abcnews.go.com/Business/wireStory/majo...   \n",
       "1  https://abcnews.go.com/Entertainment/wireStory...   \n",
       "2  https://abcnews.go.com/Business/wireStory/asia...   \n",
       "\n",
       "                                          urlToImage            datetime  \\\n",
       "0                                               null 2021-05-21 20:18:28   \n",
       "1  https://s.abcnews.com/images/Lifestyle/WireAP_... 2021-05-21 14:26:30   \n",
       "2  https://s.abcnews.com/images/Business/WireAP_6... 2021-05-21 06:48:47   \n",
       "\n",
       "                                             content  \\\n",
       "0  Stocks ended a wobbly day with mixed results o...   \n",
       "1  Lady Gaga says she got pregnant at 19 after be...   \n",
       "2  BANGKOK -- Asian shares were mixed Friday afte...   \n",
       "\n",
       "                                                text  negative  neutral  \\\n",
       "0  stocks ended a wobbly day with mixed results o...     0.060    0.889   \n",
       "1  lady gaga says she got pregnant at after being...     0.142    0.838   \n",
       "2  stocks ended a wobbly day with mixed results o...     0.050    0.845   \n",
       "\n",
       "   positive  compound sentiment  word_count  \n",
       "0     0.052   -0.1280  negative         195  \n",
       "1     0.020   -0.9834  negative         221  \n",
       "2     0.105    0.9750  positive         539  "
      ]
     },
     "execution_count": 277,
     "metadata": {},
     "output_type": "execute_result"
    }
   ],
   "source": [
    "apple_newsapi_df.head(3)"
   ]
  },
  {
   "cell_type": "code",
   "execution_count": null,
   "id": "liable-quest",
   "metadata": {
    "tags": []
   },
   "outputs": [],
   "source": [
    "apple_newsapi_df.set_index(keys='datetime', inplace=True)"
   ]
  },
  {
   "cell_type": "code",
   "execution_count": null,
   "id": "protected-probe",
   "metadata": {
    "tags": []
   },
   "outputs": [],
   "source": [
    "apple_newsapi_df['day'] = apple_newsapi_df.index.date"
   ]
  }
 ],
 "metadata": {
  "kernelspec": {
   "display_name": "Python 3",
   "language": "python",
   "name": "python3"
  },
  "language_info": {
   "codemirror_mode": {
    "name": "ipython",
    "version": 3
   },
   "file_extension": ".py",
   "mimetype": "text/x-python",
   "name": "python",
   "nbconvert_exporter": "python",
   "pygments_lexer": "ipython3",
   "version": "3.8.10"
  }
 },
 "nbformat": 4,
 "nbformat_minor": 5
}
