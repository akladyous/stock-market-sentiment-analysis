{
 "cells": [
  {
   "cell_type": "code",
   "execution_count": 176,
   "id": "final-stationery",
   "metadata": {
    "execution": {
     "iopub.execute_input": "2021-05-23T19:58:04.772992Z",
     "iopub.status.busy": "2021-05-23T19:58:04.772557Z",
     "iopub.status.idle": "2021-05-23T19:58:04.779991Z",
     "shell.execute_reply": "2021-05-23T19:58:04.777997Z",
     "shell.execute_reply.started": "2021-05-23T19:58:04.772956Z"
    },
    "tags": []
   },
   "outputs": [],
   "source": [
    "import numpy as np\n",
    "import pandas as pd\n",
    "import matplotlib.pyplot as plt\n",
    "import pickle\n",
    "import lib.news_api\n",
    "from lib.project import url2text, polarity_score, text_tonkenize"
   ]
  },
  {
   "cell_type": "code",
   "execution_count": 168,
   "id": "polish-identity",
   "metadata": {
    "execution": {
     "iopub.execute_input": "2021-05-23T19:52:37.692768Z",
     "iopub.status.busy": "2021-05-23T19:52:37.692405Z",
     "iopub.status.idle": "2021-05-23T19:52:37.698723Z",
     "shell.execute_reply": "2021-05-23T19:52:37.697465Z",
     "shell.execute_reply.started": "2021-05-23T19:52:37.692735Z"
    },
    "tags": []
   },
   "outputs": [],
   "source": [
    "with open (\"./newsapi/newsapi_key1.pkl\", 'rb') as nak:\n",
    "    newsapi_key = pickle.load(nak)\n",
    "    nak.close()"
   ]
  },
  {
   "cell_type": "code",
   "execution_count": 10,
   "id": "functional-sense",
   "metadata": {
    "execution": {
     "iopub.execute_input": "2021-05-23T05:57:13.124908Z",
     "iopub.status.busy": "2021-05-23T05:57:13.124568Z",
     "iopub.status.idle": "2021-05-23T05:57:13.133262Z",
     "shell.execute_reply": "2021-05-23T05:57:13.132042Z",
     "shell.execute_reply.started": "2021-05-23T05:57:13.124876Z"
    },
    "tags": []
   },
   "outputs": [],
   "source": [
    "%run \"./lib/news_api.py\""
   ]
  },
  {
   "cell_type": "code",
   "execution_count": 169,
   "id": "accomplished-collectible",
   "metadata": {
    "execution": {
     "iopub.execute_input": "2021-05-23T19:53:07.757226Z",
     "iopub.status.busy": "2021-05-23T19:53:07.756577Z",
     "iopub.status.idle": "2021-05-23T19:53:07.764877Z",
     "shell.execute_reply": "2021-05-23T19:53:07.763334Z",
     "shell.execute_reply.started": "2021-05-23T19:53:07.757159Z"
    },
    "tags": []
   },
   "outputs": [],
   "source": [
    "apple_obj = News_api(newsapi_key, \"2021-05-17\",\"2021-05-21\")"
   ]
  },
  {
   "cell_type": "code",
   "execution_count": 170,
   "id": "recovered-graphics",
   "metadata": {
    "execution": {
     "iopub.execute_input": "2021-05-23T19:53:09.125021Z",
     "iopub.status.busy": "2021-05-23T19:53:09.124653Z",
     "iopub.status.idle": "2021-05-23T19:53:09.129900Z",
     "shell.execute_reply": "2021-05-23T19:53:09.128175Z",
     "shell.execute_reply.started": "2021-05-23T19:53:09.124988Z"
    },
    "tags": []
   },
   "outputs": [],
   "source": [
    "sources = ['abc-news', 'business-insider', 'financial-post', 'google-news', 'reuters',\n",
    "           'nbc-news', 'techcrunch', 'wired', 'the-wall-street-journal']"
   ]
  },
  {
   "cell_type": "code",
   "execution_count": 171,
   "id": "finite-recorder",
   "metadata": {
    "execution": {
     "iopub.execute_input": "2021-05-23T19:53:13.929926Z",
     "iopub.status.busy": "2021-05-23T19:53:13.929399Z",
     "iopub.status.idle": "2021-05-23T19:53:17.685461Z",
     "shell.execute_reply": "2021-05-23T19:53:17.683936Z",
     "shell.execute_reply.started": "2021-05-23T19:53:13.929862Z"
    },
    "tags": []
   },
   "outputs": [],
   "source": [
    "apple_news = apple_obj.get_news([\"apple\"], sources=sources)"
   ]
  },
  {
   "cell_type": "code",
   "execution_count": 200,
   "id": "beautiful-contributor",
   "metadata": {
    "execution": {
     "iopub.execute_input": "2021-05-23T20:22:03.226924Z",
     "iopub.status.busy": "2021-05-23T20:22:03.226561Z",
     "iopub.status.idle": "2021-05-23T20:22:03.252710Z",
     "shell.execute_reply": "2021-05-23T20:22:03.251811Z",
     "shell.execute_reply.started": "2021-05-23T20:22:03.226891Z"
    },
    "tags": []
   },
   "outputs": [
    {
     "data": {
      "text/html": [
       "<div>\n",
       "<style scoped>\n",
       "    .dataframe tbody tr th:only-of-type {\n",
       "        vertical-align: middle;\n",
       "    }\n",
       "\n",
       "    .dataframe tbody tr th {\n",
       "        vertical-align: top;\n",
       "    }\n",
       "\n",
       "    .dataframe thead th {\n",
       "        text-align: right;\n",
       "    }\n",
       "</style>\n",
       "<table border=\"1\" class=\"dataframe\">\n",
       "  <thead>\n",
       "    <tr style=\"text-align: right;\">\n",
       "      <th></th>\n",
       "      <th>source</th>\n",
       "      <th>author</th>\n",
       "      <th>title</th>\n",
       "      <th>description</th>\n",
       "      <th>url</th>\n",
       "      <th>urlToImage</th>\n",
       "      <th>publishedAt</th>\n",
       "      <th>content</th>\n",
       "    </tr>\n",
       "  </thead>\n",
       "  <tbody>\n",
       "    <tr>\n",
       "      <th>0</th>\n",
       "      <td>{'id': 'abc-news', 'name': 'ABC News'}</td>\n",
       "      <td>The Associated Press</td>\n",
       "      <td>How major US stock indexes fared Friday</td>\n",
       "      <td>Stocks ended a wobbly day with mixed results o...</td>\n",
       "      <td>https://abcnews.go.com/Business/wireStory/majo...</td>\n",
       "      <td>null</td>\n",
       "      <td>2021-05-21T20:18:28Z</td>\n",
       "      <td>Stocks ended a wobbly day with mixed results o...</td>\n",
       "    </tr>\n",
       "    <tr>\n",
       "      <th>1</th>\n",
       "      <td>{'id': 'abc-news', 'name': 'ABC News'}</td>\n",
       "      <td>The Associated Press</td>\n",
       "      <td>Lady Gaga says rape at 19 led to a 'total psyc...</td>\n",
       "      <td>Lady Gaga says she got pregnant at 19 after be...</td>\n",
       "      <td>https://abcnews.go.com/Entertainment/wireStory...</td>\n",
       "      <td>https://s.abcnews.com/images/Lifestyle/WireAP_...</td>\n",
       "      <td>2021-05-21T14:26:30Z</td>\n",
       "      <td>Lady Gaga says she got pregnant at 19 after be...</td>\n",
       "    </tr>\n",
       "    <tr>\n",
       "      <th>2</th>\n",
       "      <td>{'id': 'abc-news', 'name': 'ABC News'}</td>\n",
       "      <td>ELAINE KURTENBACH AP Business Writer</td>\n",
       "      <td>Asian stocks mixed after Wall St rebound break...</td>\n",
       "      <td>Asian shares are mixed after a rebound on Wall...</td>\n",
       "      <td>https://abcnews.go.com/Business/wireStory/asia...</td>\n",
       "      <td>https://s.abcnews.com/images/Business/WireAP_6...</td>\n",
       "      <td>2021-05-21T06:48:47Z</td>\n",
       "      <td>BANGKOK -- Asian shares were mixed Friday afte...</td>\n",
       "    </tr>\n",
       "  </tbody>\n",
       "</table>\n",
       "</div>"
      ],
      "text/plain": [
       "                                   source  \\\n",
       "0  {'id': 'abc-news', 'name': 'ABC News'}   \n",
       "1  {'id': 'abc-news', 'name': 'ABC News'}   \n",
       "2  {'id': 'abc-news', 'name': 'ABC News'}   \n",
       "\n",
       "                                 author  \\\n",
       "0                  The Associated Press   \n",
       "1                  The Associated Press   \n",
       "2  ELAINE KURTENBACH AP Business Writer   \n",
       "\n",
       "                                               title  \\\n",
       "0            How major US stock indexes fared Friday   \n",
       "1  Lady Gaga says rape at 19 led to a 'total psyc...   \n",
       "2  Asian stocks mixed after Wall St rebound break...   \n",
       "\n",
       "                                         description  \\\n",
       "0  Stocks ended a wobbly day with mixed results o...   \n",
       "1  Lady Gaga says she got pregnant at 19 after be...   \n",
       "2  Asian shares are mixed after a rebound on Wall...   \n",
       "\n",
       "                                                 url  \\\n",
       "0  https://abcnews.go.com/Business/wireStory/majo...   \n",
       "1  https://abcnews.go.com/Entertainment/wireStory...   \n",
       "2  https://abcnews.go.com/Business/wireStory/asia...   \n",
       "\n",
       "                                          urlToImage           publishedAt  \\\n",
       "0                                               null  2021-05-21T20:18:28Z   \n",
       "1  https://s.abcnews.com/images/Lifestyle/WireAP_...  2021-05-21T14:26:30Z   \n",
       "2  https://s.abcnews.com/images/Business/WireAP_6...  2021-05-21T06:48:47Z   \n",
       "\n",
       "                                             content  \n",
       "0  Stocks ended a wobbly day with mixed results o...  \n",
       "1  Lady Gaga says she got pregnant at 19 after be...  \n",
       "2  BANGKOK -- Asian shares were mixed Friday afte...  "
      ]
     },
     "execution_count": 200,
     "metadata": {},
     "output_type": "execute_result"
    }
   ],
   "source": [
    "apple_newsapi_df = pd.DataFrame(apple_news['apple'])\n",
    "apple_newsapi_df.head(3)"
   ]
  },
  {
   "cell_type": "code",
   "execution_count": 174,
   "id": "public-private",
   "metadata": {
    "execution": {
     "iopub.execute_input": "2021-05-23T19:53:35.989923Z",
     "iopub.status.busy": "2021-05-23T19:53:35.989322Z",
     "iopub.status.idle": "2021-05-23T19:53:36.006461Z",
     "shell.execute_reply": "2021-05-23T19:53:36.005624Z",
     "shell.execute_reply.started": "2021-05-23T19:53:35.989859Z"
    },
    "tags": []
   },
   "outputs": [],
   "source": [
    "apple_newsapi_df.to_csv(\"./data/apple_newsapi_raw.csv\")"
   ]
  },
  {
   "cell_type": "code",
   "execution_count": null,
   "id": "quiet-series",
   "metadata": {},
   "outputs": [],
   "source": [
    "url"
   ]
  },
  {
   "cell_type": "code",
   "execution_count": 177,
   "id": "apart-diving",
   "metadata": {
    "execution": {
     "iopub.execute_input": "2021-05-23T19:58:38.195754Z",
     "iopub.status.busy": "2021-05-23T19:58:38.195328Z",
     "iopub.status.idle": "2021-05-23T19:59:38.935241Z",
     "shell.execute_reply": "2021-05-23T19:59:38.934824Z",
     "shell.execute_reply.started": "2021-05-23T19:58:38.195720Z"
    }
   },
   "outputs": [
    {
     "name": "stdout",
     "output_type": "stream",
     "text": [
      "110/110 99% https://www.wsj.com/articles/apple-set-to-call-tim-cook-soon-to-witness-stand-to-fight-monopoly-claims-116212456042802e//ItYmU5OGFjOGJjOTQ5s-for-the-walt-disney-world-50th-anniversary/\r"
     ]
    }
   ],
   "source": [
    "articles = url2text(apple_newsapi_df.url.values.tolist())"
   ]
  },
  {
   "cell_type": "code",
   "execution_count": 183,
   "id": "endangered-schedule",
   "metadata": {
    "execution": {
     "iopub.execute_input": "2021-05-23T20:03:53.082931Z",
     "iopub.status.busy": "2021-05-23T20:03:53.082557Z",
     "iopub.status.idle": "2021-05-23T20:03:53.090060Z",
     "shell.execute_reply": "2021-05-23T20:03:53.089115Z",
     "shell.execute_reply.started": "2021-05-23T20:03:53.082897Z"
    },
    "tags": []
   },
   "outputs": [],
   "source": [
    "with open(\"./data/apple_newsapi_articles.pkl\",\"wb\") as f:\n",
    "    pickle.dump(articles, f)\n",
    "    f.close()"
   ]
  },
  {
   "cell_type": "code",
   "execution_count": 187,
   "id": "aerial-jefferson",
   "metadata": {
    "execution": {
     "iopub.execute_input": "2021-05-23T20:06:46.115616Z",
     "iopub.status.busy": "2021-05-23T20:06:46.114796Z",
     "iopub.status.idle": "2021-05-23T20:06:46.144763Z",
     "shell.execute_reply": "2021-05-23T20:06:46.143934Z",
     "shell.execute_reply.started": "2021-05-23T20:06:46.115553Z"
    },
    "tags": []
   },
   "outputs": [
    {
     "data": {
      "text/plain": [
       "0    Stocks ended a wobbly day with mixed results o...\n",
       "1    Lady Gaga says she got pregnant at 19 after be...\n",
       "2    Stocks ended a wobbly day with mixed results o...\n",
       "3    Apple CEO Tim Cook will take the witness stand...\n",
       "4    Apple CEO Tim Cook will take the witness stand...\n",
       "Name: articles, dtype: object"
      ]
     },
     "execution_count": 187,
     "metadata": {},
     "output_type": "execute_result"
    }
   ],
   "source": [
    "apple_newsapi_articles_df = pd.Series(articles, name='articles')\n",
    "apple_newsapi_articles_df.to_csv(\"./data/apple_newsapi_articles.csv\")\n",
    "apple_newsapi_articles_df[:5]"
   ]
  },
  {
   "cell_type": "code",
   "execution_count": 192,
   "id": "formal-marketplace",
   "metadata": {
    "execution": {
     "iopub.execute_input": "2021-05-23T20:18:19.071929Z",
     "iopub.status.busy": "2021-05-23T20:18:19.071333Z",
     "iopub.status.idle": "2021-05-23T20:18:19.121765Z",
     "shell.execute_reply": "2021-05-23T20:18:19.121246Z",
     "shell.execute_reply.started": "2021-05-23T20:18:19.071866Z"
    }
   },
   "outputs": [],
   "source": [
    "apple_newsapi_articles_df = text_tonkenize(apple_newsapi_articles_df)"
   ]
  },
  {
   "cell_type": "code",
   "execution_count": 195,
   "id": "statistical-optimization",
   "metadata": {
    "execution": {
     "iopub.execute_input": "2021-05-23T20:19:59.773644Z",
     "iopub.status.busy": "2021-05-23T20:19:59.772983Z",
     "iopub.status.idle": "2021-05-23T20:20:00.347144Z",
     "shell.execute_reply": "2021-05-23T20:20:00.346782Z",
     "shell.execute_reply.started": "2021-05-23T20:19:59.773566Z"
    },
    "tags": []
   },
   "outputs": [],
   "source": [
    "apple_newsapi_scores_df = polarity_score(apple_newsapi_articles_df)"
   ]
  },
  {
   "cell_type": "code",
   "execution_count": 202,
   "id": "regional-enhancement",
   "metadata": {
    "execution": {
     "iopub.execute_input": "2021-05-23T20:22:22.309880Z",
     "iopub.status.busy": "2021-05-23T20:22:22.309228Z",
     "iopub.status.idle": "2021-05-23T20:22:22.329646Z",
     "shell.execute_reply": "2021-05-23T20:22:22.328938Z",
     "shell.execute_reply.started": "2021-05-23T20:22:22.309807Z"
    },
    "tags": []
   },
   "outputs": [
    {
     "data": {
      "text/html": [
       "<div>\n",
       "<style scoped>\n",
       "    .dataframe tbody tr th:only-of-type {\n",
       "        vertical-align: middle;\n",
       "    }\n",
       "\n",
       "    .dataframe tbody tr th {\n",
       "        vertical-align: top;\n",
       "    }\n",
       "\n",
       "    .dataframe thead th {\n",
       "        text-align: right;\n",
       "    }\n",
       "</style>\n",
       "<table border=\"1\" class=\"dataframe\">\n",
       "  <thead>\n",
       "    <tr style=\"text-align: right;\">\n",
       "      <th></th>\n",
       "      <th>text</th>\n",
       "      <th>negative</th>\n",
       "      <th>neutral</th>\n",
       "      <th>positive</th>\n",
       "      <th>compound</th>\n",
       "      <th>sentiment</th>\n",
       "    </tr>\n",
       "  </thead>\n",
       "  <tbody>\n",
       "    <tr>\n",
       "      <th>0</th>\n",
       "      <td>stocks ended a wobbly day with mixed results o...</td>\n",
       "      <td>0.060</td>\n",
       "      <td>0.889</td>\n",
       "      <td>0.052</td>\n",
       "      <td>-0.1280</td>\n",
       "      <td>negative</td>\n",
       "    </tr>\n",
       "    <tr>\n",
       "      <th>1</th>\n",
       "      <td>lady gaga says she got pregnant at after being...</td>\n",
       "      <td>0.142</td>\n",
       "      <td>0.838</td>\n",
       "      <td>0.020</td>\n",
       "      <td>-0.9834</td>\n",
       "      <td>negative</td>\n",
       "    </tr>\n",
       "    <tr>\n",
       "      <th>2</th>\n",
       "      <td>stocks ended a wobbly day with mixed results o...</td>\n",
       "      <td>0.050</td>\n",
       "      <td>0.845</td>\n",
       "      <td>0.105</td>\n",
       "      <td>0.9750</td>\n",
       "      <td>positive</td>\n",
       "    </tr>\n",
       "    <tr>\n",
       "      <th>3</th>\n",
       "      <td>apple ceo tim cook will take the witness stand...</td>\n",
       "      <td>0.049</td>\n",
       "      <td>0.841</td>\n",
       "      <td>0.110</td>\n",
       "      <td>0.9941</td>\n",
       "      <td>positive</td>\n",
       "    </tr>\n",
       "    <tr>\n",
       "      <th>4</th>\n",
       "      <td>apple ceo tim cook will take the witness stand...</td>\n",
       "      <td>0.049</td>\n",
       "      <td>0.841</td>\n",
       "      <td>0.110</td>\n",
       "      <td>0.9941</td>\n",
       "      <td>positive</td>\n",
       "    </tr>\n",
       "  </tbody>\n",
       "</table>\n",
       "</div>"
      ],
      "text/plain": [
       "                                                text  negative  neutral  \\\n",
       "0  stocks ended a wobbly day with mixed results o...     0.060    0.889   \n",
       "1  lady gaga says she got pregnant at after being...     0.142    0.838   \n",
       "2  stocks ended a wobbly day with mixed results o...     0.050    0.845   \n",
       "3  apple ceo tim cook will take the witness stand...     0.049    0.841   \n",
       "4  apple ceo tim cook will take the witness stand...     0.049    0.841   \n",
       "\n",
       "   positive  compound sentiment  \n",
       "0     0.052   -0.1280  negative  \n",
       "1     0.020   -0.9834  negative  \n",
       "2     0.105    0.9750  positive  \n",
       "3     0.110    0.9941  positive  \n",
       "4     0.110    0.9941  positive  "
      ]
     },
     "execution_count": 202,
     "metadata": {},
     "output_type": "execute_result"
    }
   ],
   "source": [
    "apple_newsapi_scores_df.head()"
   ]
  },
  {
   "cell_type": "markdown",
   "id": "uniform-portrait",
   "metadata": {},
   "source": [
    "## Data Scrubbing"
   ]
  },
  {
   "cell_type": "code",
   "execution_count": 234,
   "id": "charming-atlas",
   "metadata": {
    "execution": {
     "iopub.execute_input": "2021-05-23T20:44:01.183295Z",
     "iopub.status.busy": "2021-05-23T20:44:01.182808Z",
     "iopub.status.idle": "2021-05-23T20:44:01.193513Z",
     "shell.execute_reply": "2021-05-23T20:44:01.191836Z",
     "shell.execute_reply.started": "2021-05-23T20:44:01.183246Z"
    },
    "tags": []
   },
   "outputs": [],
   "source": [
    "apple_newsapi_df = pd.concat([apple_newsapi_df, apple_newsapi_scores_df],\n",
    "                                      axis=1, ignore_index=False, sort=False).reindex()"
   ]
  },
  {
   "cell_type": "code",
   "execution_count": 252,
   "id": "careful-director",
   "metadata": {
    "execution": {
     "iopub.execute_input": "2021-05-23T20:51:46.585976Z",
     "iopub.status.busy": "2021-05-23T20:51:46.585402Z",
     "iopub.status.idle": "2021-05-23T20:51:46.591949Z",
     "shell.execute_reply": "2021-05-23T20:51:46.590468Z",
     "shell.execute_reply.started": "2021-05-23T20:51:46.585914Z"
    },
    "tags": []
   },
   "outputs": [],
   "source": [
    "apple_newsapi_df.rename(columns={\"publishedAt\":\"datetime\"}, inplace=True)"
   ]
  },
  {
   "cell_type": "code",
   "execution_count": 260,
   "id": "unable-eligibility",
   "metadata": {
    "execution": {
     "iopub.execute_input": "2021-05-23T20:59:15.379642Z",
     "iopub.status.busy": "2021-05-23T20:59:15.379025Z",
     "iopub.status.idle": "2021-05-23T20:59:15.388547Z",
     "shell.execute_reply": "2021-05-23T20:59:15.387369Z",
     "shell.execute_reply.started": "2021-05-23T20:59:15.379578Z"
    }
   },
   "outputs": [],
   "source": [
    "apple_newsapi_df['datetime'] = pd.to_datetime(apple_newsapi_df['datetime'], infer_datetime_format=True)"
   ]
  },
  {
   "cell_type": "code",
   "execution_count": 264,
   "id": "confused-danish",
   "metadata": {
    "execution": {
     "iopub.execute_input": "2021-05-23T21:00:41.777634Z",
     "iopub.status.busy": "2021-05-23T21:00:41.777272Z",
     "iopub.status.idle": "2021-05-23T21:00:41.784675Z",
     "shell.execute_reply": "2021-05-23T21:00:41.783251Z",
     "shell.execute_reply.started": "2021-05-23T21:00:41.777601Z"
    },
    "tags": []
   },
   "outputs": [],
   "source": [
    "apple_newsapi_df['source'] = apple_newsapi_df['source'].apply(lambda s: s['name'] if s['name']!=None else s['id'] if s['id']!=None else s)"
   ]
  },
  {
   "cell_type": "code",
   "execution_count": 771,
   "id": "public-portable",
   "metadata": {
    "execution": {
     "iopub.execute_input": "2021-05-22T02:24:30.251452Z",
     "iopub.status.busy": "2021-05-22T02:24:30.251106Z",
     "iopub.status.idle": "2021-05-22T02:24:30.259630Z",
     "shell.execute_reply": "2021-05-22T02:24:30.258742Z",
     "shell.execute_reply.started": "2021-05-22T02:24:30.251421Z"
    },
    "tags": []
   },
   "outputs": [],
   "source": [
    "# we got just 27 missing scraped articles, those will be droped\n",
    "apple_newsapi_df.dropna(inplace=True)"
   ]
  },
  {
   "cell_type": "code",
   "execution_count": 267,
   "id": "located-activity",
   "metadata": {
    "execution": {
     "iopub.execute_input": "2021-05-23T21:05:59.822530Z",
     "iopub.status.busy": "2021-05-23T21:05:59.821909Z",
     "iopub.status.idle": "2021-05-23T21:05:59.841006Z",
     "shell.execute_reply": "2021-05-23T21:05:59.840136Z",
     "shell.execute_reply.started": "2021-05-23T21:05:59.822464Z"
    },
    "tags": []
   },
   "outputs": [],
   "source": [
    "apple_newsapi_df['word_count'] = apple_newsapi_df['text'].apply(lambda x: len(x.split()))"
   ]
  },
  {
   "cell_type": "code",
   "execution_count": 270,
   "id": "compliant-walnut",
   "metadata": {
    "execution": {
     "iopub.execute_input": "2021-05-23T21:10:13.028887Z",
     "iopub.status.busy": "2021-05-23T21:10:13.028265Z",
     "iopub.status.idle": "2021-05-23T21:10:13.039961Z",
     "shell.execute_reply": "2021-05-23T21:10:13.038574Z",
     "shell.execute_reply.started": "2021-05-23T21:10:13.028809Z"
    },
    "tags": []
   },
   "outputs": [],
   "source": [
    "apple_newsapi_df.drop(apple_newsapi_df[(apple_newsapi_df['word_count']==0)].index, inplace=True)"
   ]
  },
  {
   "cell_type": "code",
   "execution_count": 274,
   "id": "breathing-fiber",
   "metadata": {
    "execution": {
     "iopub.execute_input": "2021-05-23T22:37:03.486018Z",
     "iopub.status.busy": "2021-05-23T22:37:03.485250Z",
     "iopub.status.idle": "2021-05-23T22:37:03.514908Z",
     "shell.execute_reply": "2021-05-23T22:37:03.513330Z",
     "shell.execute_reply.started": "2021-05-23T22:37:03.485958Z"
    },
    "tags": []
   },
   "outputs": [],
   "source": [
    "apple_newsapi_df.to_csv(\"./data/apple_newsapi_df.csv\")"
   ]
  },
  {
   "cell_type": "code",
   "execution_count": 277,
   "id": "alleged-expression",
   "metadata": {
    "execution": {
     "iopub.execute_input": "2021-05-23T22:38:21.268749Z",
     "iopub.status.busy": "2021-05-23T22:38:21.268165Z",
     "iopub.status.idle": "2021-05-23T22:38:21.294019Z",
     "shell.execute_reply": "2021-05-23T22:38:21.293132Z",
     "shell.execute_reply.started": "2021-05-23T22:38:21.268686Z"
    },
    "tags": []
   },
   "outputs": [
    {
     "data": {
      "text/html": [
       "<div>\n",
       "<style scoped>\n",
       "    .dataframe tbody tr th:only-of-type {\n",
       "        vertical-align: middle;\n",
       "    }\n",
       "\n",
       "    .dataframe tbody tr th {\n",
       "        vertical-align: top;\n",
       "    }\n",
       "\n",
       "    .dataframe thead th {\n",
       "        text-align: right;\n",
       "    }\n",
       "</style>\n",
       "<table border=\"1\" class=\"dataframe\">\n",
       "  <thead>\n",
       "    <tr style=\"text-align: right;\">\n",
       "      <th></th>\n",
       "      <th>source</th>\n",
       "      <th>author</th>\n",
       "      <th>title</th>\n",
       "      <th>description</th>\n",
       "      <th>url</th>\n",
       "      <th>urlToImage</th>\n",
       "      <th>datetime</th>\n",
       "      <th>content</th>\n",
       "      <th>text</th>\n",
       "      <th>negative</th>\n",
       "      <th>neutral</th>\n",
       "      <th>positive</th>\n",
       "      <th>compound</th>\n",
       "      <th>sentiment</th>\n",
       "      <th>word_count</th>\n",
       "    </tr>\n",
       "  </thead>\n",
       "  <tbody>\n",
       "    <tr>\n",
       "      <th>0</th>\n",
       "      <td>ABC News</td>\n",
       "      <td>The Associated Press</td>\n",
       "      <td>How major US stock indexes fared Friday</td>\n",
       "      <td>Stocks ended a wobbly day with mixed results o...</td>\n",
       "      <td>https://abcnews.go.com/Business/wireStory/majo...</td>\n",
       "      <td>null</td>\n",
       "      <td>2021-05-21 20:18:28</td>\n",
       "      <td>Stocks ended a wobbly day with mixed results o...</td>\n",
       "      <td>stocks ended a wobbly day with mixed results o...</td>\n",
       "      <td>0.060</td>\n",
       "      <td>0.889</td>\n",
       "      <td>0.052</td>\n",
       "      <td>-0.1280</td>\n",
       "      <td>negative</td>\n",
       "      <td>195</td>\n",
       "    </tr>\n",
       "    <tr>\n",
       "      <th>1</th>\n",
       "      <td>ABC News</td>\n",
       "      <td>The Associated Press</td>\n",
       "      <td>Lady Gaga says rape at 19 led to a 'total psyc...</td>\n",
       "      <td>Lady Gaga says she got pregnant at 19 after be...</td>\n",
       "      <td>https://abcnews.go.com/Entertainment/wireStory...</td>\n",
       "      <td>https://s.abcnews.com/images/Lifestyle/WireAP_...</td>\n",
       "      <td>2021-05-21 14:26:30</td>\n",
       "      <td>Lady Gaga says she got pregnant at 19 after be...</td>\n",
       "      <td>lady gaga says she got pregnant at after being...</td>\n",
       "      <td>0.142</td>\n",
       "      <td>0.838</td>\n",
       "      <td>0.020</td>\n",
       "      <td>-0.9834</td>\n",
       "      <td>negative</td>\n",
       "      <td>221</td>\n",
       "    </tr>\n",
       "    <tr>\n",
       "      <th>2</th>\n",
       "      <td>ABC News</td>\n",
       "      <td>ELAINE KURTENBACH AP Business Writer</td>\n",
       "      <td>Asian stocks mixed after Wall St rebound break...</td>\n",
       "      <td>Asian shares are mixed after a rebound on Wall...</td>\n",
       "      <td>https://abcnews.go.com/Business/wireStory/asia...</td>\n",
       "      <td>https://s.abcnews.com/images/Business/WireAP_6...</td>\n",
       "      <td>2021-05-21 06:48:47</td>\n",
       "      <td>BANGKOK -- Asian shares were mixed Friday afte...</td>\n",
       "      <td>stocks ended a wobbly day with mixed results o...</td>\n",
       "      <td>0.050</td>\n",
       "      <td>0.845</td>\n",
       "      <td>0.105</td>\n",
       "      <td>0.9750</td>\n",
       "      <td>positive</td>\n",
       "      <td>539</td>\n",
       "    </tr>\n",
       "  </tbody>\n",
       "</table>\n",
       "</div>"
      ],
      "text/plain": [
       "     source                                author  \\\n",
       "0  ABC News                  The Associated Press   \n",
       "1  ABC News                  The Associated Press   \n",
       "2  ABC News  ELAINE KURTENBACH AP Business Writer   \n",
       "\n",
       "                                               title  \\\n",
       "0            How major US stock indexes fared Friday   \n",
       "1  Lady Gaga says rape at 19 led to a 'total psyc...   \n",
       "2  Asian stocks mixed after Wall St rebound break...   \n",
       "\n",
       "                                         description  \\\n",
       "0  Stocks ended a wobbly day with mixed results o...   \n",
       "1  Lady Gaga says she got pregnant at 19 after be...   \n",
       "2  Asian shares are mixed after a rebound on Wall...   \n",
       "\n",
       "                                                 url  \\\n",
       "0  https://abcnews.go.com/Business/wireStory/majo...   \n",
       "1  https://abcnews.go.com/Entertainment/wireStory...   \n",
       "2  https://abcnews.go.com/Business/wireStory/asia...   \n",
       "\n",
       "                                          urlToImage            datetime  \\\n",
       "0                                               null 2021-05-21 20:18:28   \n",
       "1  https://s.abcnews.com/images/Lifestyle/WireAP_... 2021-05-21 14:26:30   \n",
       "2  https://s.abcnews.com/images/Business/WireAP_6... 2021-05-21 06:48:47   \n",
       "\n",
       "                                             content  \\\n",
       "0  Stocks ended a wobbly day with mixed results o...   \n",
       "1  Lady Gaga says she got pregnant at 19 after be...   \n",
       "2  BANGKOK -- Asian shares were mixed Friday afte...   \n",
       "\n",
       "                                                text  negative  neutral  \\\n",
       "0  stocks ended a wobbly day with mixed results o...     0.060    0.889   \n",
       "1  lady gaga says she got pregnant at after being...     0.142    0.838   \n",
       "2  stocks ended a wobbly day with mixed results o...     0.050    0.845   \n",
       "\n",
       "   positive  compound sentiment  word_count  \n",
       "0     0.052   -0.1280  negative         195  \n",
       "1     0.020   -0.9834  negative         221  \n",
       "2     0.105    0.9750  positive         539  "
      ]
     },
     "execution_count": 277,
     "metadata": {},
     "output_type": "execute_result"
    }
   ],
   "source": [
    "apple_newsapi_df.head(3)"
   ]
  },
  {
   "cell_type": "code",
   "execution_count": null,
   "id": "blind-dimension",
   "metadata": {
    "tags": []
   },
   "outputs": [],
   "source": [
    "apple_newsapi_df.set_index(keys='datetime', inplace=True)"
   ]
  },
  {
   "cell_type": "code",
   "execution_count": null,
   "id": "wireless-charity",
   "metadata": {
    "tags": []
   },
   "outputs": [],
   "source": [
    "apple_newsapi_df['day'] = apple_newsapi_df.index.date"
   ]
  },
  {
   "cell_type": "code",
   "execution_count": null,
   "id": "funny-sheriff",
   "metadata": {},
   "outputs": [],
   "source": []
  }
 ],
 "metadata": {
  "kernelspec": {
   "display_name": "Python 3",
   "language": "python",
   "name": "python3"
  },
  "language_info": {
   "codemirror_mode": {
    "name": "ipython",
    "version": 3
   },
   "file_extension": ".py",
   "mimetype": "text/x-python",
   "name": "python",
   "nbconvert_exporter": "python",
   "pygments_lexer": "ipython3",
   "version": "3.8.8"
  }
 },
 "nbformat": 4,
 "nbformat_minor": 5
}
