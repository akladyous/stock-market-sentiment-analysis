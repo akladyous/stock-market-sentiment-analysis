{
 "cells": [
  {
   "cell_type": "code",
   "execution_count": 1,
   "id": "polar-median",
   "metadata": {
    "tags": []
   },
   "outputs": [],
   "source": [
    "%run __init__.py"
   ]
  },
  {
   "cell_type": "code",
   "execution_count": 2,
   "id": "changing-orlando",
   "metadata": {
    "tags": []
   },
   "outputs": [],
   "source": [
    "import numpy as np\n",
    "import pandas as pd\n",
    "import matplotlib.pyplot as plt\n",
    "from joblib import load, dump\n",
    "import news_api\n",
    "from scrapy import Scrapy\n",
    "from news_api import News_api"
   ]
  },
  {
   "cell_type": "code",
   "execution_count": 3,
   "id": "bf874750-be05-4338-b304-0671c350670e",
   "metadata": {},
   "outputs": [],
   "source": [
    "newsapi_key = load(\"./newsapi/newsapi_key1.pkl\")"
   ]
  },
  {
   "cell_type": "code",
   "execution_count": 7,
   "id": "monetary-necessity",
   "metadata": {
    "tags": []
   },
   "outputs": [],
   "source": [
    "apple_obj = News_api(newsapi_key, \"2021-06-01\",\"2021-06-07\")"
   ]
  },
  {
   "cell_type": "code",
   "execution_count": 8,
   "id": "french-mount",
   "metadata": {
    "tags": []
   },
   "outputs": [],
   "source": [
    "sources = ['abc-news', 'business-insider', 'financial-post', 'google-news', 'reuters',\n",
    "           'nbc-news', 'techcrunch', 'wired', 'the-wall-street-journal']"
   ]
  },
  {
   "cell_type": "code",
   "execution_count": 9,
   "id": "victorian-diabetes",
   "metadata": {
    "tags": []
   },
   "outputs": [],
   "source": [
    "apple_news = apple_obj.get_news([\"apple\"])"
   ]
  },
  {
   "cell_type": "code",
   "execution_count": 24,
   "id": "4c1a26d9-3dfa-42fd-a63a-dd25d4f8bd0e",
   "metadata": {},
   "outputs": [],
   "source": [
    "df_news = pd.DataFrame(apple_news)"
   ]
  },
  {
   "cell_type": "code",
   "execution_count": 25,
   "id": "9b09ec10-ac5d-4dd8-a99c-983d32bf3da6",
   "metadata": {},
   "outputs": [
    {
     "data": {
      "text/html": [
       "<div>\n",
       "<style scoped>\n",
       "    .dataframe tbody tr th:only-of-type {\n",
       "        vertical-align: middle;\n",
       "    }\n",
       "\n",
       "    .dataframe tbody tr th {\n",
       "        vertical-align: top;\n",
       "    }\n",
       "\n",
       "    .dataframe thead th {\n",
       "        text-align: right;\n",
       "    }\n",
       "</style>\n",
       "<table border=\"1\" class=\"dataframe\">\n",
       "  <thead>\n",
       "    <tr style=\"text-align: right;\">\n",
       "      <th></th>\n",
       "      <th>source</th>\n",
       "      <th>author</th>\n",
       "      <th>title</th>\n",
       "      <th>description</th>\n",
       "      <th>url</th>\n",
       "      <th>urlToImage</th>\n",
       "      <th>publishedAt</th>\n",
       "      <th>content</th>\n",
       "    </tr>\n",
       "  </thead>\n",
       "  <tbody>\n",
       "    <tr>\n",
       "      <th>0</th>\n",
       "      <td>{'id': None, 'name': 'Daemonology.net'}</td>\n",
       "      <td>None</td>\n",
       "      <td>Daily Hacker News for 2021-06-07</td>\n",
       "      <td>The 10 highest-rated articles on\\nHacker News\\...</td>\n",
       "      <td>https://www.daemonology.net/hn-daily/2021-06-0...</td>\n",
       "      <td>None</td>\n",
       "      <td>2021-06-08T00:00:00Z</td>\n",
       "      <td>The 10 highest-rated articles on\\r\\nHacker New...</td>\n",
       "    </tr>\n",
       "    <tr>\n",
       "      <th>1</th>\n",
       "      <td>{'id': None, 'name': 'Healthcare IT News'}</td>\n",
       "      <td>Rosy Matheson</td>\n",
       "      <td>Is gamification the way forward for precision ...</td>\n",
       "      <td>The #HIMSS21Europe Conference has been hearing...</td>\n",
       "      <td>https://www.healthcareitnews.com/news/emea/gam...</td>\n",
       "      <td>https://www.healthcareitnews.com/sites/hitn/fi...</td>\n",
       "      <td>2021-06-08T00:00:00Z</td>\n",
       "      <td>Singapore claims to have achieved a level of p...</td>\n",
       "    </tr>\n",
       "    <tr>\n",
       "      <th>2</th>\n",
       "      <td>{'id': None, 'name': 'MobiHealthNews'}</td>\n",
       "      <td>mallory.hackett@himss.org (Mallory Hackett)</td>\n",
       "      <td>New app called Voiceitt helps folks with non-s...</td>\n",
       "      <td>Voiceitt can be used conversationally or to co...</td>\n",
       "      <td>https://www.mobihealthnews.com/news/new-app-ca...</td>\n",
       "      <td>https://www.mobihealthnews.com/sites/default/f...</td>\n",
       "      <td>2021-06-08T00:00:00Z</td>\n",
       "      <td>Speech recognition company Voiceitt is making ...</td>\n",
       "    </tr>\n",
       "  </tbody>\n",
       "</table>\n",
       "</div>"
      ],
      "text/plain": [
       "                                       source  \\\n",
       "0     {'id': None, 'name': 'Daemonology.net'}   \n",
       "1  {'id': None, 'name': 'Healthcare IT News'}   \n",
       "2      {'id': None, 'name': 'MobiHealthNews'}   \n",
       "\n",
       "                                        author  \\\n",
       "0                                         None   \n",
       "1                                Rosy Matheson   \n",
       "2  mallory.hackett@himss.org (Mallory Hackett)   \n",
       "\n",
       "                                               title  \\\n",
       "0                   Daily Hacker News for 2021-06-07   \n",
       "1  Is gamification the way forward for precision ...   \n",
       "2  New app called Voiceitt helps folks with non-s...   \n",
       "\n",
       "                                         description  \\\n",
       "0  The 10 highest-rated articles on\\nHacker News\\...   \n",
       "1  The #HIMSS21Europe Conference has been hearing...   \n",
       "2  Voiceitt can be used conversationally or to co...   \n",
       "\n",
       "                                                 url  \\\n",
       "0  https://www.daemonology.net/hn-daily/2021-06-0...   \n",
       "1  https://www.healthcareitnews.com/news/emea/gam...   \n",
       "2  https://www.mobihealthnews.com/news/new-app-ca...   \n",
       "\n",
       "                                          urlToImage           publishedAt  \\\n",
       "0                                               None  2021-06-08T00:00:00Z   \n",
       "1  https://www.healthcareitnews.com/sites/hitn/fi...  2021-06-08T00:00:00Z   \n",
       "2  https://www.mobihealthnews.com/sites/default/f...  2021-06-08T00:00:00Z   \n",
       "\n",
       "                                             content  \n",
       "0  The 10 highest-rated articles on\\r\\nHacker New...  \n",
       "1  Singapore claims to have achieved a level of p...  \n",
       "2  Speech recognition company Voiceitt is making ...  "
      ]
     },
     "execution_count": 25,
     "metadata": {},
     "output_type": "execute_result"
    }
   ],
   "source": [
    "df_news.head(3)"
   ]
  },
  {
   "cell_type": "code",
   "execution_count": 27,
   "id": "470e703b-fa80-4d88-aa36-1cc70d4e8668",
   "metadata": {},
   "outputs": [],
   "source": [
    "df_news.to_csv('./data/newsapi_01jun21-07jun21.csv', index=False)"
   ]
  },
  {
   "cell_type": "code",
   "execution_count": 28,
   "id": "brown-nashville",
   "metadata": {
    "tags": []
   },
   "outputs": [
    {
     "name": "stdout",
     "output_type": "stream",
     "text": [
      "20/20 95% https://www.theverge.com/2021/6/7/22523332/apple-app-store-guidelines-change-wwdc-2021-fraud-scam-creators-marijuana-law-roblox\r"
     ]
    }
   ],
   "source": [
    "articles = Scrapy.scrap(df_news.url.values.tolist())"
   ]
  },
  {
   "cell_type": "code",
   "execution_count": 31,
   "id": "676128d1-4f6c-4716-bb0d-a457bad19374",
   "metadata": {},
   "outputs": [
    {
     "name": "stdout",
     "output_type": "stream",
     "text": [
      "Total scraped articles: 20\n"
     ]
    }
   ],
   "source": [
    "print('Total scraped articles:', len(articles))"
   ]
  },
  {
   "cell_type": "code",
   "execution_count": 32,
   "id": "d3c6a368-268e-4f14-8493-0d50bcf86225",
   "metadata": {},
   "outputs": [
    {
     "data": {
      "text/plain": [
       "True"
      ]
     },
     "execution_count": 32,
     "metadata": {},
     "output_type": "execute_result"
    }
   ],
   "source": [
    "np.all(df_news.shape[0] == len(articles))"
   ]
  },
  {
   "cell_type": "code",
   "execution_count": 33,
   "id": "79cf3f84-1a60-4784-bf3e-f4bb1be280f0",
   "metadata": {},
   "outputs": [
    {
     "data": {
      "text/plain": [
       "['./data/newsapi_articles_01jun21-07jun21']"
      ]
     },
     "execution_count": 33,
     "metadata": {},
     "output_type": "execute_result"
    }
   ],
   "source": [
    "dump(articles, './data/newsapi_articles_01jun21-07jun21')"
   ]
  },
  {
   "cell_type": "code",
   "execution_count": 38,
   "id": "0e6c0e88-82c2-4848-8fb5-cab61c85d991",
   "metadata": {},
   "outputs": [],
   "source": [
    "# prepare our data concatenating the 3 main dataframe for scrubbing\n",
    "df_news = pd.concat([df_news, pd.Series(articles, name='articles')],\n",
    "                   axis=1,\n",
    "                   ignore_index=False,\n",
    "                   sort=True)"
   ]
  },
  {
   "cell_type": "code",
   "execution_count": 40,
   "id": "d4e818e5-692d-4eff-98a5-04eb11bb5d43",
   "metadata": {},
   "outputs": [
    {
     "data": {
      "text/html": [
       "<div>\n",
       "<style scoped>\n",
       "    .dataframe tbody tr th:only-of-type {\n",
       "        vertical-align: middle;\n",
       "    }\n",
       "\n",
       "    .dataframe tbody tr th {\n",
       "        vertical-align: top;\n",
       "    }\n",
       "\n",
       "    .dataframe thead th {\n",
       "        text-align: right;\n",
       "    }\n",
       "</style>\n",
       "<table border=\"1\" class=\"dataframe\">\n",
       "  <thead>\n",
       "    <tr style=\"text-align: right;\">\n",
       "      <th></th>\n",
       "      <th>source</th>\n",
       "      <th>author</th>\n",
       "      <th>title</th>\n",
       "      <th>description</th>\n",
       "      <th>url</th>\n",
       "      <th>urlToImage</th>\n",
       "      <th>publishedAt</th>\n",
       "      <th>content</th>\n",
       "      <th>articles</th>\n",
       "    </tr>\n",
       "  </thead>\n",
       "  <tbody>\n",
       "    <tr>\n",
       "      <th>0</th>\n",
       "      <td>{'id': None, 'name': 'Daemonology.net'}</td>\n",
       "      <td>None</td>\n",
       "      <td>Daily Hacker News for 2021-06-07</td>\n",
       "      <td>The 10 highest-rated articles on\\nHacker News\\...</td>\n",
       "      <td>https://www.daemonology.net/hn-daily/2021-06-0...</td>\n",
       "      <td>None</td>\n",
       "      <td>2021-06-08T00:00:00Z</td>\n",
       "      <td>The 10 highest-rated articles on\\r\\nHacker New...</td>\n",
       "      <td>The 10 highest-rated articles on\\nHacker News\\...</td>\n",
       "    </tr>\n",
       "    <tr>\n",
       "      <th>1</th>\n",
       "      <td>{'id': None, 'name': 'Healthcare IT News'}</td>\n",
       "      <td>Rosy Matheson</td>\n",
       "      <td>Is gamification the way forward for precision ...</td>\n",
       "      <td>The #HIMSS21Europe Conference has been hearing...</td>\n",
       "      <td>https://www.healthcareitnews.com/news/emea/gam...</td>\n",
       "      <td>https://www.healthcareitnews.com/sites/hitn/fi...</td>\n",
       "      <td>2021-06-08T00:00:00Z</td>\n",
       "      <td>Singapore claims to have achieved a level of p...</td>\n",
       "      <td>[top left-right] Dr Charles Alessi, CCO, HIMSS...</td>\n",
       "    </tr>\n",
       "    <tr>\n",
       "      <th>2</th>\n",
       "      <td>{'id': None, 'name': 'MobiHealthNews'}</td>\n",
       "      <td>mallory.hackett@himss.org (Mallory Hackett)</td>\n",
       "      <td>New app called Voiceitt helps folks with non-s...</td>\n",
       "      <td>Voiceitt can be used conversationally or to co...</td>\n",
       "      <td>https://www.mobihealthnews.com/news/new-app-ca...</td>\n",
       "      <td>https://www.mobihealthnews.com/sites/default/f...</td>\n",
       "      <td>2021-06-08T00:00:00Z</td>\n",
       "      <td>Speech recognition company Voiceitt is making ...</td>\n",
       "      <td>Photo courtesy of Voiceitt Speech recognition ...</td>\n",
       "    </tr>\n",
       "  </tbody>\n",
       "</table>\n",
       "</div>"
      ],
      "text/plain": [
       "                                       source  \\\n",
       "0     {'id': None, 'name': 'Daemonology.net'}   \n",
       "1  {'id': None, 'name': 'Healthcare IT News'}   \n",
       "2      {'id': None, 'name': 'MobiHealthNews'}   \n",
       "\n",
       "                                        author  \\\n",
       "0                                         None   \n",
       "1                                Rosy Matheson   \n",
       "2  mallory.hackett@himss.org (Mallory Hackett)   \n",
       "\n",
       "                                               title  \\\n",
       "0                   Daily Hacker News for 2021-06-07   \n",
       "1  Is gamification the way forward for precision ...   \n",
       "2  New app called Voiceitt helps folks with non-s...   \n",
       "\n",
       "                                         description  \\\n",
       "0  The 10 highest-rated articles on\\nHacker News\\...   \n",
       "1  The #HIMSS21Europe Conference has been hearing...   \n",
       "2  Voiceitt can be used conversationally or to co...   \n",
       "\n",
       "                                                 url  \\\n",
       "0  https://www.daemonology.net/hn-daily/2021-06-0...   \n",
       "1  https://www.healthcareitnews.com/news/emea/gam...   \n",
       "2  https://www.mobihealthnews.com/news/new-app-ca...   \n",
       "\n",
       "                                          urlToImage           publishedAt  \\\n",
       "0                                               None  2021-06-08T00:00:00Z   \n",
       "1  https://www.healthcareitnews.com/sites/hitn/fi...  2021-06-08T00:00:00Z   \n",
       "2  https://www.mobihealthnews.com/sites/default/f...  2021-06-08T00:00:00Z   \n",
       "\n",
       "                                             content  \\\n",
       "0  The 10 highest-rated articles on\\r\\nHacker New...   \n",
       "1  Singapore claims to have achieved a level of p...   \n",
       "2  Speech recognition company Voiceitt is making ...   \n",
       "\n",
       "                                            articles  \n",
       "0  The 10 highest-rated articles on\\nHacker News\\...  \n",
       "1  [top left-right] Dr Charles Alessi, CCO, HIMSS...  \n",
       "2  Photo courtesy of Voiceitt Speech recognition ...  "
      ]
     },
     "execution_count": 40,
     "metadata": {},
     "output_type": "execute_result"
    }
   ],
   "source": [
    "df_news.head(3)"
   ]
  },
  {
   "cell_type": "code",
   "execution_count": 41,
   "id": "c64e0f8a-b822-43a7-90a6-43dbd80e9532",
   "metadata": {},
   "outputs": [
    {
     "name": "stdout",
     "output_type": "stream",
     "text": [
      "<class 'pandas.core.frame.DataFrame'>\n",
      "Int64Index: 20 entries, 0 to 19\n",
      "Data columns (total 9 columns):\n",
      " #   Column       Non-Null Count  Dtype \n",
      "---  ------       --------------  ----- \n",
      " 0   source       20 non-null     object\n",
      " 1   author       19 non-null     object\n",
      " 2   title        20 non-null     object\n",
      " 3   description  20 non-null     object\n",
      " 4   url          20 non-null     object\n",
      " 5   urlToImage   18 non-null     object\n",
      " 6   publishedAt  20 non-null     object\n",
      " 7   content      20 non-null     object\n",
      " 8   articles     20 non-null     object\n",
      "dtypes: object(9)\n",
      "memory usage: 1.6+ KB\n"
     ]
    }
   ],
   "source": [
    "df_news.info()"
   ]
  },
  {
   "cell_type": "code",
   "execution_count": 252,
   "id": "horizontal-postage",
   "metadata": {
    "execution": {
     "iopub.execute_input": "2021-05-23T20:51:46.585976Z",
     "iopub.status.busy": "2021-05-23T20:51:46.585402Z",
     "iopub.status.idle": "2021-05-23T20:51:46.591949Z",
     "shell.execute_reply": "2021-05-23T20:51:46.590468Z",
     "shell.execute_reply.started": "2021-05-23T20:51:46.585914Z"
    },
    "tags": []
   },
   "outputs": [],
   "source": [
    "df_news.rename(columns={'publishedAt':'date'}, inplace=True)"
   ]
  },
  {
   "cell_type": "code",
   "execution_count": 43,
   "id": "mobile-transsexual",
   "metadata": {
    "tags": []
   },
   "outputs": [],
   "source": [
    "df_news['date'] = pd.to_datetime(df_news['date'], infer_datetime_format=True)"
   ]
  },
  {
   "cell_type": "code",
   "execution_count": 44,
   "id": "short-device",
   "metadata": {
    "tags": []
   },
   "outputs": [],
   "source": [
    "df_news['source'] = df_news['source'].apply(lambda s: s['name'] if s['name']!=None else s['id'] if s['id']!=None else s)"
   ]
  },
  {
   "cell_type": "code",
   "execution_count": 47,
   "id": "otherwise-worker",
   "metadata": {
    "tags": []
   },
   "outputs": [],
   "source": [
    "df_news['word_count'] = df_news['articles'].apply(lambda x: len(x.split()))"
   ]
  },
  {
   "cell_type": "code",
   "execution_count": 48,
   "id": "nuclear-antarctica",
   "metadata": {
    "tags": []
   },
   "outputs": [
    {
     "data": {
      "text/html": [
       "<div>\n",
       "<style scoped>\n",
       "    .dataframe tbody tr th:only-of-type {\n",
       "        vertical-align: middle;\n",
       "    }\n",
       "\n",
       "    .dataframe tbody tr th {\n",
       "        vertical-align: top;\n",
       "    }\n",
       "\n",
       "    .dataframe thead th {\n",
       "        text-align: right;\n",
       "    }\n",
       "</style>\n",
       "<table border=\"1\" class=\"dataframe\">\n",
       "  <thead>\n",
       "    <tr style=\"text-align: right;\">\n",
       "      <th></th>\n",
       "      <th>source</th>\n",
       "      <th>author</th>\n",
       "      <th>title</th>\n",
       "      <th>description</th>\n",
       "      <th>url</th>\n",
       "      <th>urlToImage</th>\n",
       "      <th>date</th>\n",
       "      <th>content</th>\n",
       "      <th>articles</th>\n",
       "      <th>word_count</th>\n",
       "    </tr>\n",
       "  </thead>\n",
       "  <tbody>\n",
       "    <tr>\n",
       "      <th>0</th>\n",
       "      <td>Daemonology.net</td>\n",
       "      <td>None</td>\n",
       "      <td>Daily Hacker News for 2021-06-07</td>\n",
       "      <td>The 10 highest-rated articles on\\nHacker News\\...</td>\n",
       "      <td>https://www.daemonology.net/hn-daily/2021-06-0...</td>\n",
       "      <td>None</td>\n",
       "      <td>2021-06-08</td>\n",
       "      <td>The 10 highest-rated articles on\\r\\nHacker New...</td>\n",
       "      <td>The 10 highest-rated articles on\\nHacker News\\...</td>\n",
       "      <td>30</td>\n",
       "    </tr>\n",
       "    <tr>\n",
       "      <th>1</th>\n",
       "      <td>Healthcare IT News</td>\n",
       "      <td>Rosy Matheson</td>\n",
       "      <td>Is gamification the way forward for precision ...</td>\n",
       "      <td>The #HIMSS21Europe Conference has been hearing...</td>\n",
       "      <td>https://www.healthcareitnews.com/news/emea/gam...</td>\n",
       "      <td>https://www.healthcareitnews.com/sites/hitn/fi...</td>\n",
       "      <td>2021-06-08</td>\n",
       "      <td>Singapore claims to have achieved a level of p...</td>\n",
       "      <td>[top left-right] Dr Charles Alessi, CCO, HIMSS...</td>\n",
       "      <td>624</td>\n",
       "    </tr>\n",
       "    <tr>\n",
       "      <th>2</th>\n",
       "      <td>MobiHealthNews</td>\n",
       "      <td>mallory.hackett@himss.org (Mallory Hackett)</td>\n",
       "      <td>New app called Voiceitt helps folks with non-s...</td>\n",
       "      <td>Voiceitt can be used conversationally or to co...</td>\n",
       "      <td>https://www.mobihealthnews.com/news/new-app-ca...</td>\n",
       "      <td>https://www.mobihealthnews.com/sites/default/f...</td>\n",
       "      <td>2021-06-08</td>\n",
       "      <td>Speech recognition company Voiceitt is making ...</td>\n",
       "      <td>Photo courtesy of Voiceitt Speech recognition ...</td>\n",
       "      <td>510</td>\n",
       "    </tr>\n",
       "  </tbody>\n",
       "</table>\n",
       "</div>"
      ],
      "text/plain": [
       "               source                                       author  \\\n",
       "0     Daemonology.net                                         None   \n",
       "1  Healthcare IT News                                Rosy Matheson   \n",
       "2      MobiHealthNews  mallory.hackett@himss.org (Mallory Hackett)   \n",
       "\n",
       "                                               title  \\\n",
       "0                   Daily Hacker News for 2021-06-07   \n",
       "1  Is gamification the way forward for precision ...   \n",
       "2  New app called Voiceitt helps folks with non-s...   \n",
       "\n",
       "                                         description  \\\n",
       "0  The 10 highest-rated articles on\\nHacker News\\...   \n",
       "1  The #HIMSS21Europe Conference has been hearing...   \n",
       "2  Voiceitt can be used conversationally or to co...   \n",
       "\n",
       "                                                 url  \\\n",
       "0  https://www.daemonology.net/hn-daily/2021-06-0...   \n",
       "1  https://www.healthcareitnews.com/news/emea/gam...   \n",
       "2  https://www.mobihealthnews.com/news/new-app-ca...   \n",
       "\n",
       "                                          urlToImage       date  \\\n",
       "0                                               None 2021-06-08   \n",
       "1  https://www.healthcareitnews.com/sites/hitn/fi... 2021-06-08   \n",
       "2  https://www.mobihealthnews.com/sites/default/f... 2021-06-08   \n",
       "\n",
       "                                             content  \\\n",
       "0  The 10 highest-rated articles on\\r\\nHacker New...   \n",
       "1  Singapore claims to have achieved a level of p...   \n",
       "2  Speech recognition company Voiceitt is making ...   \n",
       "\n",
       "                                            articles  word_count  \n",
       "0  The 10 highest-rated articles on\\nHacker News\\...          30  \n",
       "1  [top left-right] Dr Charles Alessi, CCO, HIMSS...         624  \n",
       "2  Photo courtesy of Voiceitt Speech recognition ...         510  "
      ]
     },
     "execution_count": 48,
     "metadata": {},
     "output_type": "execute_result"
    }
   ],
   "source": [
    "df_news.head(3)"
   ]
  }
 ],
 "metadata": {
  "kernelspec": {
   "display_name": "Python 3",
   "language": "python",
   "name": "python3"
  },
  "language_info": {
   "codemirror_mode": {
    "name": "ipython",
    "version": 3
   },
   "file_extension": ".py",
   "mimetype": "text/x-python",
   "name": "python",
   "nbconvert_exporter": "python",
   "pygments_lexer": "ipython3",
   "version": "3.9.4"
  }
 },
 "nbformat": 4,
 "nbformat_minor": 5
}
