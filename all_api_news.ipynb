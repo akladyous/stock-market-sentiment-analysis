{
 "cells": [
  {
   "cell_type": "code",
   "execution_count": 43,
   "id": "4d42a331-a3af-42c7-a2e8-332dd853b123",
   "metadata": {},
   "outputs": [],
   "source": [
    "run __init__.py"
   ]
  },
  {
   "cell_type": "code",
   "execution_count": 2,
   "id": "bec93494-9230-48e2-bd93-ea2e0f505aa1",
   "metadata": {},
   "outputs": [],
   "source": [
    "import pandas as pd\n",
    "from project import Project"
   ]
  },
  {
   "cell_type": "code",
   "execution_count": 3,
   "id": "351e5692-008f-4af4-a850-851a5c37b199",
   "metadata": {},
   "outputs": [
    {
     "name": "stdout",
     "output_type": "stream",
     "text": [
      "419/419 100% https://www.gurufocus.com/news/1450105/5-tech-stocks-boosting-earningsig-tech-with-new-bills-sources-2021-06-09/-on-apple-stock/ortly-reutersprofit-beatC;WMT;MIC;KKR;RIG;SMBMF;MGI;GIII;BBCP;TYL;HURC;HYW-Wall-Street-in-Fives--Must-Read-Lists-at-Midday\r"
     ]
    }
   ],
   "source": [
    "news_df = Project(\"2021-06-07\", \"2021-06-14\", \"AAPL\", True, newsapi=True, finnhub=True, stocknews=True).run()"
   ]
  },
  {
   "cell_type": "code",
   "execution_count": 4,
   "id": "a593566c-902e-414c-ba0a-9cd72acb4ecb",
   "metadata": {},
   "outputs": [
    {
     "data": {
      "text/html": [
       "<div>\n",
       "<style scoped>\n",
       "    .dataframe tbody tr th:only-of-type {\n",
       "        vertical-align: middle;\n",
       "    }\n",
       "\n",
       "    .dataframe tbody tr th {\n",
       "        vertical-align: top;\n",
       "    }\n",
       "\n",
       "    .dataframe thead th {\n",
       "        text-align: right;\n",
       "    }\n",
       "</style>\n",
       "<table border=\"1\" class=\"dataframe\">\n",
       "  <thead>\n",
       "    <tr style=\"text-align: right;\">\n",
       "      <th></th>\n",
       "      <th>date</th>\n",
       "      <th>source</th>\n",
       "      <th>url</th>\n",
       "      <th>articles</th>\n",
       "      <th>sent</th>\n",
       "    </tr>\n",
       "  </thead>\n",
       "  <tbody>\n",
       "    <tr>\n",
       "      <th>0</th>\n",
       "      <td>2021-06-14 13:35:56</td>\n",
       "      <td>Forbes</td>\n",
       "      <td>https://www.forbes.com/sites/jjkinahan/2021/06...</td>\n",
       "      <td>getty images key takeaways fed week here analy...</td>\n",
       "      <td>positive</td>\n",
       "    </tr>\n",
       "    <tr>\n",
       "      <th>1</th>\n",
       "      <td>2021-06-14 13:00:00</td>\n",
       "      <td>MarketBeat</td>\n",
       "      <td>https://www.marketbeat.com/originals/lululemon...</td>\n",
       "      <td>sign marketbeat access gain access marketbeat ...</td>\n",
       "      <td>positive</td>\n",
       "    </tr>\n",
       "    <tr>\n",
       "      <th>2</th>\n",
       "      <td>2021-06-14 12:40:17</td>\n",
       "      <td>Applech2.com</td>\n",
       "      <td>https://applech2.com/archives/20210614-how-to-...</td>\n",
       "      <td>aapl ch mac parallels desktop parallels macos ...</td>\n",
       "      <td>neutral</td>\n",
       "    </tr>\n",
       "    <tr>\n",
       "      <th>3</th>\n",
       "      <td>2021-06-14 12:12:36</td>\n",
       "      <td>24/7 Wall St.</td>\n",
       "      <td>https://247wallst.com/technology-3/2021/06/14/...</td>\n",
       "      <td>last friday   house representatives members in...</td>\n",
       "      <td>positive</td>\n",
       "    </tr>\n",
       "    <tr>\n",
       "      <th>4</th>\n",
       "      <td>2021-06-14 09:08:44</td>\n",
       "      <td>Barron's</td>\n",
       "      <td>https://www.barrons.com/articles/ev-av-stocks-...</td>\n",
       "      <td>copy personal non commercial use only order pr...</td>\n",
       "      <td>positive</td>\n",
       "    </tr>\n",
       "    <tr>\n",
       "      <th>...</th>\n",
       "      <td>...</td>\n",
       "      <td>...</td>\n",
       "      <td>...</td>\n",
       "      <td>...</td>\n",
       "      <td>...</td>\n",
       "    </tr>\n",
       "    <tr>\n",
       "      <th>351</th>\n",
       "      <td>2021-06-09 08:35:00</td>\n",
       "      <td>The Motley Fool</td>\n",
       "      <td>https://www.fool.com/investing/2021/06/09/3-mu...</td>\n",
       "      <td>returns returns founded brothers tom david gar...</td>\n",
       "      <td>positive</td>\n",
       "    </tr>\n",
       "    <tr>\n",
       "      <th>352</th>\n",
       "      <td>2021-06-09 10:23:08</td>\n",
       "      <td>InvestorPlace</td>\n",
       "      <td>https://investorplace.com/2021/06/apple-stock-...</td>\n",
       "      <td>copyright investorplace media llc rights reser...</td>\n",
       "      <td>positive</td>\n",
       "    </tr>\n",
       "    <tr>\n",
       "      <th>353</th>\n",
       "      <td>2021-06-09 12:44:30</td>\n",
       "      <td>InvestorPlace</td>\n",
       "      <td>https://investorplace.com/2021/06/aapl-stock-w...</td>\n",
       "      <td>copyright investorplace media llc rights reser...</td>\n",
       "      <td>positive</td>\n",
       "    </tr>\n",
       "    <tr>\n",
       "      <th>354</th>\n",
       "      <td>2021-06-09 17:24:00</td>\n",
       "      <td>Reuters</td>\n",
       "      <td>https://www.reuters.com/article/us-tech-antitr...</td>\n",
       "      <td>logos amazon apple facebook google combination...</td>\n",
       "      <td>positive</td>\n",
       "    </tr>\n",
       "    <tr>\n",
       "      <th>355</th>\n",
       "      <td>2021-06-09 11:36:04</td>\n",
       "      <td>GuruFocus</td>\n",
       "      <td>https://www.gurufocus.com/news/1450105/5-tech-...</td>\n",
       "      <td>following tech companies grown earnings per sh...</td>\n",
       "      <td>positive</td>\n",
       "    </tr>\n",
       "  </tbody>\n",
       "</table>\n",
       "<p>356 rows × 5 columns</p>\n",
       "</div>"
      ],
      "text/plain": [
       "                   date           source  \\\n",
       "0   2021-06-14 13:35:56           Forbes   \n",
       "1   2021-06-14 13:00:00       MarketBeat   \n",
       "2   2021-06-14 12:40:17     Applech2.com   \n",
       "3   2021-06-14 12:12:36    24/7 Wall St.   \n",
       "4   2021-06-14 09:08:44         Barron's   \n",
       "..                  ...              ...   \n",
       "351 2021-06-09 08:35:00  The Motley Fool   \n",
       "352 2021-06-09 10:23:08    InvestorPlace   \n",
       "353 2021-06-09 12:44:30    InvestorPlace   \n",
       "354 2021-06-09 17:24:00          Reuters   \n",
       "355 2021-06-09 11:36:04        GuruFocus   \n",
       "\n",
       "                                                   url  \\\n",
       "0    https://www.forbes.com/sites/jjkinahan/2021/06...   \n",
       "1    https://www.marketbeat.com/originals/lululemon...   \n",
       "2    https://applech2.com/archives/20210614-how-to-...   \n",
       "3    https://247wallst.com/technology-3/2021/06/14/...   \n",
       "4    https://www.barrons.com/articles/ev-av-stocks-...   \n",
       "..                                                 ...   \n",
       "351  https://www.fool.com/investing/2021/06/09/3-mu...   \n",
       "352  https://investorplace.com/2021/06/apple-stock-...   \n",
       "353  https://investorplace.com/2021/06/aapl-stock-w...   \n",
       "354  https://www.reuters.com/article/us-tech-antitr...   \n",
       "355  https://www.gurufocus.com/news/1450105/5-tech-...   \n",
       "\n",
       "                                              articles      sent  \n",
       "0    getty images key takeaways fed week here analy...  positive  \n",
       "1    sign marketbeat access gain access marketbeat ...  positive  \n",
       "2    aapl ch mac parallels desktop parallels macos ...   neutral  \n",
       "3    last friday   house representatives members in...  positive  \n",
       "4    copy personal non commercial use only order pr...  positive  \n",
       "..                                                 ...       ...  \n",
       "351  returns returns founded brothers tom david gar...  positive  \n",
       "352  copyright investorplace media llc rights reser...  positive  \n",
       "353  copyright investorplace media llc rights reser...  positive  \n",
       "354  logos amazon apple facebook google combination...  positive  \n",
       "355  following tech companies grown earnings per sh...  positive  \n",
       "\n",
       "[356 rows x 5 columns]"
      ]
     },
     "execution_count": 4,
     "metadata": {},
     "output_type": "execute_result"
    }
   ],
   "source": [
    "news_df"
   ]
  },
  {
   "cell_type": "code",
   "execution_count": 6,
   "id": "bd05d7ea-e33d-41b2-a47c-cd9d60f6d4a1",
   "metadata": {},
   "outputs": [],
   "source": [
    "news_df.to_csv('./data/news_all_api_07jun21-14jun21.csv', index=False)"
   ]
  },
  {
   "cell_type": "code",
   "execution_count": 38,
   "id": "462f46ef-4c2c-4190-87c8-0347fa93ab7f",
   "metadata": {},
   "outputs": [],
   "source": [
    "news_df = pd.read_csv('./data/news_all_api_07jun21-14jun21.csv')"
   ]
  },
  {
   "cell_type": "code",
   "execution_count": 10,
   "id": "63b7d7ee-e826-49f4-bcaf-1dba2a9d5687",
   "metadata": {},
   "outputs": [],
   "source": [
    "# news_df.drop('articles', axis=1, inplace=True)"
   ]
  },
  {
   "cell_type": "code",
   "execution_count": 41,
   "id": "be26c3d4-78f9-4b16-aef4-40e3e66762a4",
   "metadata": {},
   "outputs": [],
   "source": [
    "news_df.rename(columns={'sent':'sentiment'}, inplace=True)"
   ]
  },
  {
   "cell_type": "code",
   "execution_count": 42,
   "id": "b10fdcd5-ebb7-4cd6-9c6a-25e2159694b1",
   "metadata": {},
   "outputs": [
    {
     "data": {
      "text/html": [
       "<div>\n",
       "<style scoped>\n",
       "    .dataframe tbody tr th:only-of-type {\n",
       "        vertical-align: middle;\n",
       "    }\n",
       "\n",
       "    .dataframe tbody tr th {\n",
       "        vertical-align: top;\n",
       "    }\n",
       "\n",
       "    .dataframe thead th {\n",
       "        text-align: right;\n",
       "    }\n",
       "</style>\n",
       "<table border=\"1\" class=\"dataframe\">\n",
       "  <thead>\n",
       "    <tr style=\"text-align: right;\">\n",
       "      <th></th>\n",
       "      <th>date</th>\n",
       "      <th>source</th>\n",
       "      <th>url</th>\n",
       "      <th>articles</th>\n",
       "      <th>sentiment</th>\n",
       "    </tr>\n",
       "  </thead>\n",
       "  <tbody>\n",
       "    <tr>\n",
       "      <th>0</th>\n",
       "      <td>2021-06-14 13:35:56</td>\n",
       "      <td>Forbes</td>\n",
       "      <td>https://www.forbes.com/sites/jjkinahan/2021/06...</td>\n",
       "      <td>getty images key takeaways fed week here analy...</td>\n",
       "      <td>positive</td>\n",
       "    </tr>\n",
       "    <tr>\n",
       "      <th>1</th>\n",
       "      <td>2021-06-14 13:00:00</td>\n",
       "      <td>MarketBeat</td>\n",
       "      <td>https://www.marketbeat.com/originals/lululemon...</td>\n",
       "      <td>sign marketbeat access gain access marketbeat ...</td>\n",
       "      <td>positive</td>\n",
       "    </tr>\n",
       "    <tr>\n",
       "      <th>2</th>\n",
       "      <td>2021-06-14 12:40:17</td>\n",
       "      <td>Applech2.com</td>\n",
       "      <td>https://applech2.com/archives/20210614-how-to-...</td>\n",
       "      <td>aapl ch mac parallels desktop parallels macos ...</td>\n",
       "      <td>neutral</td>\n",
       "    </tr>\n",
       "    <tr>\n",
       "      <th>3</th>\n",
       "      <td>2021-06-14 12:12:36</td>\n",
       "      <td>24/7 Wall St.</td>\n",
       "      <td>https://247wallst.com/technology-3/2021/06/14/...</td>\n",
       "      <td>last friday   house representatives members in...</td>\n",
       "      <td>positive</td>\n",
       "    </tr>\n",
       "    <tr>\n",
       "      <th>4</th>\n",
       "      <td>2021-06-14 09:08:44</td>\n",
       "      <td>Barron's</td>\n",
       "      <td>https://www.barrons.com/articles/ev-av-stocks-...</td>\n",
       "      <td>copy personal non commercial use only order pr...</td>\n",
       "      <td>positive</td>\n",
       "    </tr>\n",
       "    <tr>\n",
       "      <th>...</th>\n",
       "      <td>...</td>\n",
       "      <td>...</td>\n",
       "      <td>...</td>\n",
       "      <td>...</td>\n",
       "      <td>...</td>\n",
       "    </tr>\n",
       "    <tr>\n",
       "      <th>351</th>\n",
       "      <td>2021-06-09 08:35:00</td>\n",
       "      <td>The Motley Fool</td>\n",
       "      <td>https://www.fool.com/investing/2021/06/09/3-mu...</td>\n",
       "      <td>returns returns founded brothers tom david gar...</td>\n",
       "      <td>positive</td>\n",
       "    </tr>\n",
       "    <tr>\n",
       "      <th>352</th>\n",
       "      <td>2021-06-09 10:23:08</td>\n",
       "      <td>InvestorPlace</td>\n",
       "      <td>https://investorplace.com/2021/06/apple-stock-...</td>\n",
       "      <td>copyright investorplace media llc rights reser...</td>\n",
       "      <td>positive</td>\n",
       "    </tr>\n",
       "    <tr>\n",
       "      <th>353</th>\n",
       "      <td>2021-06-09 12:44:30</td>\n",
       "      <td>InvestorPlace</td>\n",
       "      <td>https://investorplace.com/2021/06/aapl-stock-w...</td>\n",
       "      <td>copyright investorplace media llc rights reser...</td>\n",
       "      <td>positive</td>\n",
       "    </tr>\n",
       "    <tr>\n",
       "      <th>354</th>\n",
       "      <td>2021-06-09 17:24:00</td>\n",
       "      <td>Reuters</td>\n",
       "      <td>https://www.reuters.com/article/us-tech-antitr...</td>\n",
       "      <td>logos amazon apple facebook google combination...</td>\n",
       "      <td>positive</td>\n",
       "    </tr>\n",
       "    <tr>\n",
       "      <th>355</th>\n",
       "      <td>2021-06-09 11:36:04</td>\n",
       "      <td>GuruFocus</td>\n",
       "      <td>https://www.gurufocus.com/news/1450105/5-tech-...</td>\n",
       "      <td>following tech companies grown earnings per sh...</td>\n",
       "      <td>positive</td>\n",
       "    </tr>\n",
       "  </tbody>\n",
       "</table>\n",
       "<p>356 rows × 5 columns</p>\n",
       "</div>"
      ],
      "text/plain": [
       "                    date           source  \\\n",
       "0    2021-06-14 13:35:56           Forbes   \n",
       "1    2021-06-14 13:00:00       MarketBeat   \n",
       "2    2021-06-14 12:40:17     Applech2.com   \n",
       "3    2021-06-14 12:12:36    24/7 Wall St.   \n",
       "4    2021-06-14 09:08:44         Barron's   \n",
       "..                   ...              ...   \n",
       "351  2021-06-09 08:35:00  The Motley Fool   \n",
       "352  2021-06-09 10:23:08    InvestorPlace   \n",
       "353  2021-06-09 12:44:30    InvestorPlace   \n",
       "354  2021-06-09 17:24:00          Reuters   \n",
       "355  2021-06-09 11:36:04        GuruFocus   \n",
       "\n",
       "                                                   url  \\\n",
       "0    https://www.forbes.com/sites/jjkinahan/2021/06...   \n",
       "1    https://www.marketbeat.com/originals/lululemon...   \n",
       "2    https://applech2.com/archives/20210614-how-to-...   \n",
       "3    https://247wallst.com/technology-3/2021/06/14/...   \n",
       "4    https://www.barrons.com/articles/ev-av-stocks-...   \n",
       "..                                                 ...   \n",
       "351  https://www.fool.com/investing/2021/06/09/3-mu...   \n",
       "352  https://investorplace.com/2021/06/apple-stock-...   \n",
       "353  https://investorplace.com/2021/06/aapl-stock-w...   \n",
       "354  https://www.reuters.com/article/us-tech-antitr...   \n",
       "355  https://www.gurufocus.com/news/1450105/5-tech-...   \n",
       "\n",
       "                                              articles sentiment  \n",
       "0    getty images key takeaways fed week here analy...  positive  \n",
       "1    sign marketbeat access gain access marketbeat ...  positive  \n",
       "2    aapl ch mac parallels desktop parallels macos ...   neutral  \n",
       "3    last friday   house representatives members in...  positive  \n",
       "4    copy personal non commercial use only order pr...  positive  \n",
       "..                                                 ...       ...  \n",
       "351  returns returns founded brothers tom david gar...  positive  \n",
       "352  copyright investorplace media llc rights reser...  positive  \n",
       "353  copyright investorplace media llc rights reser...  positive  \n",
       "354  logos amazon apple facebook google combination...  positive  \n",
       "355  following tech companies grown earnings per sh...  positive  \n",
       "\n",
       "[356 rows x 5 columns]"
      ]
     },
     "execution_count": 42,
     "metadata": {},
     "output_type": "execute_result"
    }
   ],
   "source": [
    "news_df"
   ]
  },
  {
   "cell_type": "code",
   "execution_count": null,
   "id": "b3e54d61-0e70-40dd-93ef-1672db0131cd",
   "metadata": {},
   "outputs": [],
   "source": []
  },
  {
   "cell_type": "code",
   "execution_count": null,
   "id": "d283dcb5-4a63-4540-ae59-775c9f2017af",
   "metadata": {},
   "outputs": [],
   "source": [
    "news_df = Project(\"2021-06-07\", \"2021-06-14\", \"AAPL\", True, newsapi=True, finnhub=True, stocknews=True)"
   ]
  },
  {
   "cell_type": "code",
   "execution_count": 17,
   "id": "989e35cc-67bd-4972-b30e-77b9cbf39a5f",
   "metadata": {},
   "outputs": [],
   "source": [
    "from datetime import datetime"
   ]
  },
  {
   "cell_type": "code",
   "execution_count": 12,
   "id": "a843c622-a232-4a3d-a618-bee64107be9d",
   "metadata": {},
   "outputs": [
    {
     "data": {
      "text/plain": [
       "datetime.datetime(2021, 6, 14, 11, 12, 4, 883676)"
      ]
     },
     "execution_count": 12,
     "metadata": {},
     "output_type": "execute_result"
    }
   ],
   "source": [
    "datetime.now()"
   ]
  },
  {
   "cell_type": "code",
   "execution_count": 37,
   "id": "e3f65b79-8021-4f8b-8dd6-391002a306ad",
   "metadata": {},
   "outputs": [
    {
     "data": {
      "text/plain": [
       "1"
      ]
     },
     "execution_count": 37,
     "metadata": {},
     "output_type": "execute_result"
    }
   ],
   "source": [
    "datetime.today().isoweekday()"
   ]
  },
  {
   "cell_type": "code",
   "execution_count": null,
   "id": "c2c9017b-eff0-458d-b810-57791458dd97",
   "metadata": {},
   "outputs": [],
   "source": []
  }
 ],
 "metadata": {
  "kernelspec": {
   "display_name": "Python 3",
   "language": "python",
   "name": "python3"
  },
  "language_info": {
   "codemirror_mode": {
    "name": "ipython",
    "version": 3
   },
   "file_extension": ".py",
   "mimetype": "text/x-python",
   "name": "python",
   "nbconvert_exporter": "python",
   "pygments_lexer": "ipython3",
   "version": "3.9.4"
  }
 },
 "nbformat": 4,
 "nbformat_minor": 5
}
