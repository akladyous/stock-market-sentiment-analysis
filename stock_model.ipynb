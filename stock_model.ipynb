{
 "cells": [
  {
   "cell_type": "code",
   "execution_count": 1,
   "id": "neither-adams",
   "metadata": {
    "execution": {
     "iopub.execute_input": "2021-06-01T22:18:21.532004Z",
     "iopub.status.busy": "2021-06-01T22:18:21.531172Z",
     "iopub.status.idle": "2021-06-01T22:18:23.740953Z",
     "shell.execute_reply": "2021-06-01T22:18:23.740221Z",
     "shell.execute_reply.started": "2021-06-01T22:18:21.531791Z"
    },
    "tags": []
   },
   "outputs": [
    {
     "name": "stdin",
     "output_type": "stream",
     "text": [
      "server location local\n"
     ]
    },
    {
     "name": "stdout",
     "output_type": "stream",
     "text": [
      "running from: Local\n"
     ]
    }
   ],
   "source": [
    "run __init__.py"
   ]
  },
  {
   "cell_type": "code",
   "execution_count": 2,
   "id": "female-weekly",
   "metadata": {
    "execution": {
     "iopub.execute_input": "2021-06-01T22:18:27.951597Z",
     "iopub.status.busy": "2021-06-01T22:18:27.951220Z",
     "iopub.status.idle": "2021-06-01T22:18:30.524118Z",
     "shell.execute_reply": "2021-06-01T22:18:30.523720Z",
     "shell.execute_reply.started": "2021-06-01T22:18:27.951562Z"
    },
    "tags": []
   },
   "outputs": [],
   "source": [
    "# from keras.utils import get_file\n",
    "import pandas as pd\n",
    "import numpy as np\n",
    "from joblib import load, dump\n",
    "from finnhub_api import Finnhub\n",
    "from datetime_util import timestamp2datetime\n",
    "from project import Project"
   ]
  },
  {
   "cell_type": "code",
   "execution_count": 3,
   "id": "arctic-acting",
   "metadata": {
    "execution": {
     "iopub.execute_input": "2021-06-01T22:18:32.291952Z",
     "iopub.status.busy": "2021-06-01T22:18:32.291428Z",
     "iopub.status.idle": "2021-06-01T22:18:32.569888Z",
     "shell.execute_reply": "2021-06-01T22:18:32.569489Z",
     "shell.execute_reply.started": "2021-06-01T22:18:32.291912Z"
    },
    "tags": []
   },
   "outputs": [],
   "source": [
    "import seaborn as sns\n",
    "import matplotlib.pyplot as plt"
   ]
  },
  {
   "cell_type": "code",
   "execution_count": 13,
   "id": "selected-bottle",
   "metadata": {
    "execution": {
     "iopub.execute_input": "2021-05-31T16:46:50.979323Z",
     "iopub.status.busy": "2021-05-31T16:46:50.978739Z",
     "iopub.status.idle": "2021-05-31T16:46:50.987890Z",
     "shell.execute_reply": "2021-05-31T16:46:50.987167Z",
     "shell.execute_reply.started": "2021-05-31T16:46:50.979259Z"
    },
    "tags": []
   },
   "outputs": [],
   "source": [
    "%run './lib/project.py'"
   ]
  },
  {
   "cell_type": "code",
   "execution_count": 4,
   "id": "weird-provision",
   "metadata": {
    "execution": {
     "iopub.execute_input": "2021-05-31T21:11:29.932784Z",
     "iopub.status.busy": "2021-05-31T21:11:29.932385Z",
     "iopub.status.idle": "2021-05-31T21:12:50.587936Z",
     "shell.execute_reply": "2021-05-31T21:12:50.587556Z",
     "shell.execute_reply.started": "2021-05-31T21:11:29.932750Z"
    },
    "tags": []
   },
   "outputs": [
    {
     "name": "stdout",
     "output_type": "stream",
     "text": [
      "50/50 98% https://www.cnn.com/2021/05/28/economy/inflation-surge-april/index.htmllevel-since-1992/-april-idUSKCN2D91EF-in-may-11622219655ong-11622294240\r"
     ]
    }
   ],
   "source": [
    "p = Project(\"2021-05-29\", \"2021-05-30\", \"AAPL\", True, newsapi=False, finnhub=False, stocknews=True).run()"
   ]
  },
  {
   "cell_type": "code",
   "execution_count": 7,
   "id": "bright-thickness",
   "metadata": {
    "execution": {
     "iopub.execute_input": "2021-05-31T21:27:24.263382Z",
     "iopub.status.busy": "2021-05-31T21:27:24.262894Z",
     "iopub.status.idle": "2021-05-31T21:27:24.288575Z",
     "shell.execute_reply": "2021-05-31T21:27:24.287905Z",
     "shell.execute_reply.started": "2021-05-31T21:27:24.263333Z"
    },
    "tags": []
   },
   "outputs": [
    {
     "data": {
      "text/html": [
       "<div>\n",
       "<style scoped>\n",
       "    .dataframe tbody tr th:only-of-type {\n",
       "        vertical-align: middle;\n",
       "    }\n",
       "\n",
       "    .dataframe tbody tr th {\n",
       "        vertical-align: top;\n",
       "    }\n",
       "\n",
       "    .dataframe thead th {\n",
       "        text-align: right;\n",
       "    }\n",
       "</style>\n",
       "<table border=\"1\" class=\"dataframe\">\n",
       "  <thead>\n",
       "    <tr style=\"text-align: right;\">\n",
       "      <th></th>\n",
       "      <th>date</th>\n",
       "      <th>source</th>\n",
       "      <th>articles</th>\n",
       "      <th>negative</th>\n",
       "      <th>neutral</th>\n",
       "      <th>positive</th>\n",
       "      <th>compound</th>\n",
       "      <th>sentiment</th>\n",
       "      <th>negative</th>\n",
       "      <th>positive</th>\n",
       "    </tr>\n",
       "  </thead>\n",
       "  <tbody>\n",
       "    <tr>\n",
       "      <th>0</th>\n",
       "      <td>2021-05-30 05:51:00</td>\n",
       "      <td>The Motley Fool</td>\n",
       "      <td>returns returns founded brothers tom david gar...</td>\n",
       "      <td>0.050</td>\n",
       "      <td>0.818</td>\n",
       "      <td>0.132</td>\n",
       "      <td>0.9957</td>\n",
       "      <td>positive</td>\n",
       "      <td>0.017165</td>\n",
       "      <td>0.982835</td>\n",
       "    </tr>\n",
       "    <tr>\n",
       "      <th>1</th>\n",
       "      <td>2021-05-29 12:02:19</td>\n",
       "      <td>CNBC</td>\n",
       "      <td>early  automotive manufacturers suppliers exci...</td>\n",
       "      <td>0.017</td>\n",
       "      <td>0.818</td>\n",
       "      <td>0.165</td>\n",
       "      <td>0.9991</td>\n",
       "      <td>positive</td>\n",
       "      <td>0.000510</td>\n",
       "      <td>0.999490</td>\n",
       "    </tr>\n",
       "    <tr>\n",
       "      <th>2</th>\n",
       "      <td>2021-05-31 09:30:48</td>\n",
       "      <td>Fox Business</td>\n",
       "      <td>quotes delayed least minutes real time quotes ...</td>\n",
       "      <td>0.057</td>\n",
       "      <td>0.869</td>\n",
       "      <td>0.074</td>\n",
       "      <td>0.7184</td>\n",
       "      <td>positive</td>\n",
       "      <td>0.002255</td>\n",
       "      <td>0.997745</td>\n",
       "    </tr>\n",
       "    <tr>\n",
       "      <th>3</th>\n",
       "      <td>2021-05-31 10:36:00</td>\n",
       "      <td>Reuters</td>\n",
       "      <td>general view working session  finance minister...</td>\n",
       "      <td>0.055</td>\n",
       "      <td>0.750</td>\n",
       "      <td>0.195</td>\n",
       "      <td>0.9966</td>\n",
       "      <td>positive</td>\n",
       "      <td>0.000631</td>\n",
       "      <td>0.999369</td>\n",
       "    </tr>\n",
       "    <tr>\n",
       "      <th>4</th>\n",
       "      <td>2021-05-31 08:30:00</td>\n",
       "      <td>Forbes</td>\n",
       "      <td>trader signals offer standard poors stock inde...</td>\n",
       "      <td>0.049</td>\n",
       "      <td>0.783</td>\n",
       "      <td>0.168</td>\n",
       "      <td>0.9961</td>\n",
       "      <td>positive</td>\n",
       "      <td>0.002214</td>\n",
       "      <td>0.997785</td>\n",
       "    </tr>\n",
       "  </tbody>\n",
       "</table>\n",
       "</div>"
      ],
      "text/plain": [
       "                 date           source  \\\n",
       "0 2021-05-30 05:51:00  The Motley Fool   \n",
       "1 2021-05-29 12:02:19             CNBC   \n",
       "2 2021-05-31 09:30:48     Fox Business   \n",
       "3 2021-05-31 10:36:00          Reuters   \n",
       "4 2021-05-31 08:30:00           Forbes   \n",
       "\n",
       "                                            articles  negative  neutral  \\\n",
       "0  returns returns founded brothers tom david gar...     0.050    0.818   \n",
       "1  early  automotive manufacturers suppliers exci...     0.017    0.818   \n",
       "2  quotes delayed least minutes real time quotes ...     0.057    0.869   \n",
       "3  general view working session  finance minister...     0.055    0.750   \n",
       "4  trader signals offer standard poors stock inde...     0.049    0.783   \n",
       "\n",
       "   positive  compound sentiment  negative  positive  \n",
       "0     0.132    0.9957  positive  0.017165  0.982835  \n",
       "1     0.165    0.9991  positive  0.000510  0.999490  \n",
       "2     0.074    0.7184  positive  0.002255  0.997745  \n",
       "3     0.195    0.9966  positive  0.000631  0.999369  \n",
       "4     0.168    0.9961  positive  0.002214  0.997785  "
      ]
     },
     "execution_count": 7,
     "metadata": {},
     "output_type": "execute_result"
    }
   ],
   "source": [
    "p.head()"
   ]
  },
  {
   "cell_type": "code",
   "execution_count": 647,
   "id": "collective-vegetation",
   "metadata": {
    "execution": {
     "iopub.execute_input": "2021-06-01T22:11:08.457581Z",
     "iopub.status.busy": "2021-06-01T22:11:08.457243Z",
     "iopub.status.idle": "2021-06-01T22:11:08.475047Z",
     "shell.execute_reply": "2021-06-01T22:11:08.474140Z",
     "shell.execute_reply.started": "2021-06-01T22:11:08.457547Z"
    },
    "tags": []
   },
   "outputs": [],
   "source": [
    "p.to_csv('./data/test.csv', index=0)"
   ]
  },
  {
   "cell_type": "code",
   "execution_count": 648,
   "id": "ignored-charity",
   "metadata": {
    "execution": {
     "iopub.execute_input": "2021-06-01T22:11:22.159433Z",
     "iopub.status.busy": "2021-06-01T22:11:22.158825Z",
     "iopub.status.idle": "2021-06-01T22:11:22.174949Z",
     "shell.execute_reply": "2021-06-01T22:11:22.173806Z",
     "shell.execute_reply.started": "2021-06-01T22:11:22.159367Z"
    }
   },
   "outputs": [],
   "source": [
    "xx=pd.read_csv('./data/test.csv')"
   ]
  },
  {
   "cell_type": "code",
   "execution_count": 234,
   "id": "round-volume",
   "metadata": {
    "execution": {
     "iopub.execute_input": "2021-06-01T17:30:18.779412Z",
     "iopub.status.busy": "2021-06-01T17:30:18.778672Z",
     "iopub.status.idle": "2021-06-01T17:30:18.787031Z",
     "shell.execute_reply": "2021-06-01T17:30:18.785621Z",
     "shell.execute_reply.started": "2021-06-01T17:30:18.779337Z"
    },
    "tags": []
   },
   "outputs": [],
   "source": [
    "df = p.copy()"
   ]
  },
  {
   "cell_type": "code",
   "execution_count": 238,
   "id": "polyphonic-campbell",
   "metadata": {
    "execution": {
     "iopub.execute_input": "2021-06-01T17:32:03.726148Z",
     "iopub.status.busy": "2021-06-01T17:32:03.725521Z",
     "iopub.status.idle": "2021-06-01T17:32:03.736435Z",
     "shell.execute_reply": "2021-06-01T17:32:03.735499Z",
     "shell.execute_reply.started": "2021-06-01T17:32:03.726081Z"
    },
    "tags": []
   },
   "outputs": [],
   "source": [
    "df.set_index('date', inplace=True)"
   ]
  },
  {
   "cell_type": "code",
   "execution_count": 244,
   "id": "amended-teach",
   "metadata": {
    "execution": {
     "iopub.execute_input": "2021-06-01T17:32:52.597376Z",
     "iopub.status.busy": "2021-06-01T17:32:52.596601Z",
     "iopub.status.idle": "2021-06-01T17:32:52.621931Z",
     "shell.execute_reply": "2021-06-01T17:32:52.621237Z",
     "shell.execute_reply.started": "2021-06-01T17:32:52.597301Z"
    },
    "tags": []
   },
   "outputs": [
    {
     "data": {
      "text/html": [
       "<div>\n",
       "<style scoped>\n",
       "    .dataframe tbody tr th:only-of-type {\n",
       "        vertical-align: middle;\n",
       "    }\n",
       "\n",
       "    .dataframe tbody tr th {\n",
       "        vertical-align: top;\n",
       "    }\n",
       "\n",
       "    .dataframe thead th {\n",
       "        text-align: right;\n",
       "    }\n",
       "</style>\n",
       "<table border=\"1\" class=\"dataframe\">\n",
       "  <thead>\n",
       "    <tr style=\"text-align: right;\">\n",
       "      <th></th>\n",
       "      <th>source</th>\n",
       "      <th>articles</th>\n",
       "      <th>negative</th>\n",
       "      <th>neutral</th>\n",
       "      <th>positive</th>\n",
       "      <th>compound</th>\n",
       "      <th>sentiment</th>\n",
       "      <th>negative</th>\n",
       "      <th>positive</th>\n",
       "    </tr>\n",
       "    <tr>\n",
       "      <th>date</th>\n",
       "      <th></th>\n",
       "      <th></th>\n",
       "      <th></th>\n",
       "      <th></th>\n",
       "      <th></th>\n",
       "      <th></th>\n",
       "      <th></th>\n",
       "      <th></th>\n",
       "      <th></th>\n",
       "    </tr>\n",
       "  </thead>\n",
       "  <tbody>\n",
       "    <tr>\n",
       "      <th>2021-05-30 05:51:00</th>\n",
       "      <td>The Motley Fool</td>\n",
       "      <td>returns returns founded brothers tom david gar...</td>\n",
       "      <td>0.050</td>\n",
       "      <td>0.818</td>\n",
       "      <td>0.132</td>\n",
       "      <td>0.9957</td>\n",
       "      <td>positive</td>\n",
       "      <td>0.017165</td>\n",
       "      <td>0.982835</td>\n",
       "    </tr>\n",
       "    <tr>\n",
       "      <th>2021-05-30 05:58:59</th>\n",
       "      <td>Fox Business</td>\n",
       "      <td>quotes delayed least minutes real time quotes ...</td>\n",
       "      <td>0.020</td>\n",
       "      <td>0.877</td>\n",
       "      <td>0.104</td>\n",
       "      <td>0.9705</td>\n",
       "      <td>positive</td>\n",
       "      <td>0.005062</td>\n",
       "      <td>0.994938</td>\n",
       "    </tr>\n",
       "    <tr>\n",
       "      <th>2021-05-30 06:30:00</th>\n",
       "      <td>Kiplinger</td>\n",
       "      <td>getty images memorial day traditional start su...</td>\n",
       "      <td>0.013</td>\n",
       "      <td>0.876</td>\n",
       "      <td>0.112</td>\n",
       "      <td>0.9423</td>\n",
       "      <td>positive</td>\n",
       "      <td>0.000715</td>\n",
       "      <td>0.999285</td>\n",
       "    </tr>\n",
       "    <tr>\n",
       "      <th>2021-05-30 07:50:19</th>\n",
       "      <td>GuruFocus</td>\n",
       "      <td>dow jones industrial average closed friday gai...</td>\n",
       "      <td>0.053</td>\n",
       "      <td>0.622</td>\n",
       "      <td>0.325</td>\n",
       "      <td>0.9953</td>\n",
       "      <td>positive</td>\n",
       "      <td>0.002167</td>\n",
       "      <td>0.997833</td>\n",
       "    </tr>\n",
       "    <tr>\n",
       "      <th>2021-05-30 05:15:00</th>\n",
       "      <td>The Motley Fool</td>\n",
       "      <td>returns returns founded brothers tom david gar...</td>\n",
       "      <td>0.031</td>\n",
       "      <td>0.752</td>\n",
       "      <td>0.217</td>\n",
       "      <td>0.9972</td>\n",
       "      <td>positive</td>\n",
       "      <td>0.014240</td>\n",
       "      <td>0.985760</td>\n",
       "    </tr>\n",
       "    <tr>\n",
       "      <th>2021-05-30 18:37:00</th>\n",
       "      <td>Barrons</td>\n",
       "      <td>copy personal non commercial use only order pr...</td>\n",
       "      <td>0.063</td>\n",
       "      <td>0.812</td>\n",
       "      <td>0.125</td>\n",
       "      <td>0.9818</td>\n",
       "      <td>positive</td>\n",
       "      <td>0.002809</td>\n",
       "      <td>0.997191</td>\n",
       "    </tr>\n",
       "  </tbody>\n",
       "</table>\n",
       "</div>"
      ],
      "text/plain": [
       "                              source  \\\n",
       "date                                   \n",
       "2021-05-30 05:51:00  The Motley Fool   \n",
       "2021-05-30 05:58:59     Fox Business   \n",
       "2021-05-30 06:30:00        Kiplinger   \n",
       "2021-05-30 07:50:19        GuruFocus   \n",
       "2021-05-30 05:15:00  The Motley Fool   \n",
       "2021-05-30 18:37:00          Barrons   \n",
       "\n",
       "                                                              articles  \\\n",
       "date                                                                     \n",
       "2021-05-30 05:51:00  returns returns founded brothers tom david gar...   \n",
       "2021-05-30 05:58:59  quotes delayed least minutes real time quotes ...   \n",
       "2021-05-30 06:30:00  getty images memorial day traditional start su...   \n",
       "2021-05-30 07:50:19  dow jones industrial average closed friday gai...   \n",
       "2021-05-30 05:15:00  returns returns founded brothers tom david gar...   \n",
       "2021-05-30 18:37:00  copy personal non commercial use only order pr...   \n",
       "\n",
       "                     negative  neutral  positive  compound sentiment  \\\n",
       "date                                                                   \n",
       "2021-05-30 05:51:00     0.050    0.818     0.132    0.9957  positive   \n",
       "2021-05-30 05:58:59     0.020    0.877     0.104    0.9705  positive   \n",
       "2021-05-30 06:30:00     0.013    0.876     0.112    0.9423  positive   \n",
       "2021-05-30 07:50:19     0.053    0.622     0.325    0.9953  positive   \n",
       "2021-05-30 05:15:00     0.031    0.752     0.217    0.9972  positive   \n",
       "2021-05-30 18:37:00     0.063    0.812     0.125    0.9818  positive   \n",
       "\n",
       "                     negative  positive  \n",
       "date                                     \n",
       "2021-05-30 05:51:00  0.017165  0.982835  \n",
       "2021-05-30 05:58:59  0.005062  0.994938  \n",
       "2021-05-30 06:30:00  0.000715  0.999285  \n",
       "2021-05-30 07:50:19  0.002167  0.997833  \n",
       "2021-05-30 05:15:00  0.014240  0.985760  \n",
       "2021-05-30 18:37:00  0.002809  0.997191  "
      ]
     },
     "execution_count": 244,
     "metadata": {},
     "output_type": "execute_result"
    }
   ],
   "source": [
    "df.loc['2021-05-30']"
   ]
  },
  {
   "cell_type": "code",
   "execution_count": null,
   "id": "excited-flower",
   "metadata": {},
   "outputs": [],
   "source": [
    "df.int"
   ]
  },
  {
   "cell_type": "markdown",
   "id": "special-commander",
   "metadata": {},
   "source": [
    "## Stock Market TimeSeries"
   ]
  },
  {
   "cell_type": "code",
   "execution_count": 4,
   "id": "rapid-mortality",
   "metadata": {
    "execution": {
     "iopub.execute_input": "2021-06-01T22:18:57.385817Z",
     "iopub.status.busy": "2021-06-01T22:18:57.385355Z",
     "iopub.status.idle": "2021-06-01T22:18:57.392217Z",
     "shell.execute_reply": "2021-06-01T22:18:57.390908Z",
     "shell.execute_reply.started": "2021-06-01T22:18:57.385769Z"
    },
    "tags": []
   },
   "outputs": [],
   "source": [
    "finnhub_key = load('./finnhub/finnhub_key.pkl', 'rb')"
   ]
  },
  {
   "cell_type": "code",
   "execution_count": 5,
   "id": "amazing-swimming",
   "metadata": {
    "execution": {
     "iopub.execute_input": "2021-06-01T22:18:59.603751Z",
     "iopub.status.busy": "2021-06-01T22:18:59.603027Z",
     "iopub.status.idle": "2021-06-01T22:18:59.607732Z",
     "shell.execute_reply": "2021-06-01T22:18:59.606764Z",
     "shell.execute_reply.started": "2021-06-01T22:18:59.603703Z"
    },
    "tags": []
   },
   "outputs": [],
   "source": [
    "from datetime import datetime"
   ]
  },
  {
   "cell_type": "code",
   "execution_count": 6,
   "id": "musical-virtue",
   "metadata": {
    "execution": {
     "iopub.execute_input": "2021-06-01T22:19:02.077564Z",
     "iopub.status.busy": "2021-06-01T22:19:02.077195Z",
     "iopub.status.idle": "2021-06-01T22:19:02.757485Z",
     "shell.execute_reply": "2021-06-01T22:19:02.756881Z",
     "shell.execute_reply.started": "2021-06-01T22:19:02.077531Z"
    },
    "tags": []
   },
   "outputs": [],
   "source": [
    "fin_5m = Finnhub(finnhub_key, \"2021-05-01\", \"2021-05-31\", \"AAPL\")\n",
    "aapl_5m = fin_5m.stock_candles(\"5\")\n",
    "\n",
    "hist_cols = ['close', 'high', 'low', 'open', 'status','date', 'volume']\n",
    "aapl_5m_df = pd.DataFrame(aapl_5m)\n",
    "aapl_5m_df.columns = hist_cols\n",
    "aapl_5m_df['date'] = aapl_5m_df['date'].apply(lambda x: timestamp2datetime(x))\n",
    "aapl_5m_df['date'] = pd.to_datetime(aapl_5m_df['date'], format='%Y-%m-%d %H:%M:%S')#.dt.normalize()\n",
    "aapl_5m_df.set_index('date', inplace=True)"
   ]
  },
  {
   "cell_type": "code",
   "execution_count": 46,
   "id": "played-expense",
   "metadata": {
    "execution": {
     "iopub.execute_input": "2021-06-01T22:41:24.991223Z",
     "iopub.status.busy": "2021-06-01T22:41:24.990855Z",
     "iopub.status.idle": "2021-06-01T22:41:25.035280Z",
     "shell.execute_reply": "2021-06-01T22:41:25.033172Z",
     "shell.execute_reply.started": "2021-06-01T22:41:24.991189Z"
    }
   },
   "outputs": [],
   "source": [
    "aapl_5m_df.to_csv('./data/spple_5m.csv')"
   ]
  },
  {
   "cell_type": "code",
   "execution_count": 7,
   "id": "honest-flavor",
   "metadata": {
    "execution": {
     "iopub.execute_input": "2021-06-01T22:19:04.517834Z",
     "iopub.status.busy": "2021-06-01T22:19:04.517180Z",
     "iopub.status.idle": "2021-06-01T22:19:04.531351Z",
     "shell.execute_reply": "2021-06-01T22:19:04.530194Z",
     "shell.execute_reply.started": "2021-06-01T22:19:04.517767Z"
    },
    "tags": []
   },
   "outputs": [
    {
     "data": {
      "text/plain": [
       "(Timestamp('2021-05-03 04:00:00'), Timestamp('2021-05-28 19:55:00'))"
      ]
     },
     "execution_count": 7,
     "metadata": {},
     "output_type": "execute_result"
    }
   ],
   "source": [
    "aapl_5m_df.index.min(), aapl_5m_df.index.max()"
   ]
  },
  {
   "cell_type": "code",
   "execution_count": 8,
   "id": "governing-setting",
   "metadata": {
    "execution": {
     "iopub.execute_input": "2021-06-01T22:19:10.429777Z",
     "iopub.status.busy": "2021-06-01T22:19:10.429112Z",
     "iopub.status.idle": "2021-06-01T22:19:10.440058Z",
     "shell.execute_reply": "2021-06-01T22:19:10.438799Z",
     "shell.execute_reply.started": "2021-06-01T22:19:10.429708Z"
    },
    "tags": []
   },
   "outputs": [
    {
     "data": {
      "text/plain": [
       "Timestamp('2021-05-28 00:00:00')"
      ]
     },
     "execution_count": 8,
     "metadata": {},
     "output_type": "execute_result"
    }
   ],
   "source": [
    "date = pd.to_datetime(\"2021-05-28\").normalize()\n",
    "date"
   ]
  },
  {
   "cell_type": "code",
   "execution_count": 27,
   "id": "appreciated-pound",
   "metadata": {
    "execution": {
     "iopub.execute_input": "2021-06-01T22:24:28.783597Z",
     "iopub.status.busy": "2021-06-01T22:24:28.782985Z",
     "iopub.status.idle": "2021-06-01T22:24:28.807153Z",
     "shell.execute_reply": "2021-06-01T22:24:28.806526Z",
     "shell.execute_reply.started": "2021-06-01T22:24:28.783533Z"
    },
    "tags": []
   },
   "outputs": [
    {
     "data": {
      "text/html": [
       "<div>\n",
       "<style scoped>\n",
       "    .dataframe tbody tr th:only-of-type {\n",
       "        vertical-align: middle;\n",
       "    }\n",
       "\n",
       "    .dataframe tbody tr th {\n",
       "        vertical-align: top;\n",
       "    }\n",
       "\n",
       "    .dataframe thead th {\n",
       "        text-align: right;\n",
       "    }\n",
       "</style>\n",
       "<table border=\"1\" class=\"dataframe\">\n",
       "  <thead>\n",
       "    <tr style=\"text-align: right;\">\n",
       "      <th></th>\n",
       "      <th>close</th>\n",
       "    </tr>\n",
       "    <tr>\n",
       "      <th>date</th>\n",
       "      <th></th>\n",
       "    </tr>\n",
       "  </thead>\n",
       "  <tbody>\n",
       "    <tr>\n",
       "      <th>2021-05-28 04:00:00</th>\n",
       "      <td>126.00</td>\n",
       "    </tr>\n",
       "    <tr>\n",
       "      <th>2021-05-28 04:05:00</th>\n",
       "      <td>126.15</td>\n",
       "    </tr>\n",
       "    <tr>\n",
       "      <th>2021-05-28 04:25:00</th>\n",
       "      <td>126.15</td>\n",
       "    </tr>\n",
       "    <tr>\n",
       "      <th>2021-05-28 04:50:00</th>\n",
       "      <td>126.18</td>\n",
       "    </tr>\n",
       "    <tr>\n",
       "      <th>2021-05-28 05:20:00</th>\n",
       "      <td>126.22</td>\n",
       "    </tr>\n",
       "    <tr>\n",
       "      <th>...</th>\n",
       "      <td>...</td>\n",
       "    </tr>\n",
       "    <tr>\n",
       "      <th>2021-05-28 19:30:00</th>\n",
       "      <td>124.67</td>\n",
       "    </tr>\n",
       "    <tr>\n",
       "      <th>2021-05-28 19:35:00</th>\n",
       "      <td>124.66</td>\n",
       "    </tr>\n",
       "    <tr>\n",
       "      <th>2021-05-28 19:40:00</th>\n",
       "      <td>124.65</td>\n",
       "    </tr>\n",
       "    <tr>\n",
       "      <th>2021-05-28 19:50:00</th>\n",
       "      <td>124.64</td>\n",
       "    </tr>\n",
       "    <tr>\n",
       "      <th>2021-05-28 19:55:00</th>\n",
       "      <td>124.63</td>\n",
       "    </tr>\n",
       "  </tbody>\n",
       "</table>\n",
       "<p>155 rows × 1 columns</p>\n",
       "</div>"
      ],
      "text/plain": [
       "                      close\n",
       "date                       \n",
       "2021-05-28 04:00:00  126.00\n",
       "2021-05-28 04:05:00  126.15\n",
       "2021-05-28 04:25:00  126.15\n",
       "2021-05-28 04:50:00  126.18\n",
       "2021-05-28 05:20:00  126.22\n",
       "...                     ...\n",
       "2021-05-28 19:30:00  124.67\n",
       "2021-05-28 19:35:00  124.66\n",
       "2021-05-28 19:40:00  124.65\n",
       "2021-05-28 19:50:00  124.64\n",
       "2021-05-28 19:55:00  124.63\n",
       "\n",
       "[155 rows x 1 columns]"
      ]
     },
     "execution_count": 27,
     "metadata": {},
     "output_type": "execute_result"
    }
   ],
   "source": [
    "aapl_5m_df.loc[aapl_5m_df.index.date == date,['close']]"
   ]
  },
  {
   "cell_type": "code",
   "execution_count": 28,
   "id": "horizontal-coaching",
   "metadata": {
    "execution": {
     "iopub.execute_input": "2021-06-01T22:24:54.933710Z",
     "iopub.status.busy": "2021-06-01T22:24:54.932997Z",
     "iopub.status.idle": "2021-06-01T22:24:54.948407Z",
     "shell.execute_reply": "2021-06-01T22:24:54.947507Z",
     "shell.execute_reply.started": "2021-06-01T22:24:54.933644Z"
    },
    "tags": []
   },
   "outputs": [],
   "source": [
    "d1 = aapl_5m_df.loc[aapl_5m_df.index.date == date,['close']].resample(\"5T\").asfreq()"
   ]
  },
  {
   "cell_type": "code",
   "execution_count": 36,
   "id": "chemical-theology",
   "metadata": {
    "execution": {
     "iopub.execute_input": "2021-06-01T22:26:52.841506Z",
     "iopub.status.busy": "2021-06-01T22:26:52.840882Z",
     "iopub.status.idle": "2021-06-01T22:26:52.862828Z",
     "shell.execute_reply": "2021-06-01T22:26:52.861637Z",
     "shell.execute_reply.started": "2021-06-01T22:26:52.841440Z"
    },
    "tags": []
   },
   "outputs": [
    {
     "data": {
      "text/html": [
       "<div>\n",
       "<style scoped>\n",
       "    .dataframe tbody tr th:only-of-type {\n",
       "        vertical-align: middle;\n",
       "    }\n",
       "\n",
       "    .dataframe tbody tr th {\n",
       "        vertical-align: top;\n",
       "    }\n",
       "\n",
       "    .dataframe thead th {\n",
       "        text-align: right;\n",
       "    }\n",
       "</style>\n",
       "<table border=\"1\" class=\"dataframe\">\n",
       "  <thead>\n",
       "    <tr style=\"text-align: right;\">\n",
       "      <th></th>\n",
       "      <th>close</th>\n",
       "    </tr>\n",
       "    <tr>\n",
       "      <th>date</th>\n",
       "      <th></th>\n",
       "    </tr>\n",
       "  </thead>\n",
       "  <tbody>\n",
       "    <tr>\n",
       "      <th>2021-05-28 04:00:00</th>\n",
       "      <td>126.00</td>\n",
       "    </tr>\n",
       "    <tr>\n",
       "      <th>2021-05-28 04:05:00</th>\n",
       "      <td>126.15</td>\n",
       "    </tr>\n",
       "    <tr>\n",
       "      <th>2021-05-28 04:10:00</th>\n",
       "      <td>nan</td>\n",
       "    </tr>\n",
       "    <tr>\n",
       "      <th>2021-05-28 04:15:00</th>\n",
       "      <td>nan</td>\n",
       "    </tr>\n",
       "    <tr>\n",
       "      <th>2021-05-28 04:20:00</th>\n",
       "      <td>nan</td>\n",
       "    </tr>\n",
       "    <tr>\n",
       "      <th>...</th>\n",
       "      <td>...</td>\n",
       "    </tr>\n",
       "    <tr>\n",
       "      <th>2021-05-28 19:35:00</th>\n",
       "      <td>124.66</td>\n",
       "    </tr>\n",
       "    <tr>\n",
       "      <th>2021-05-28 19:40:00</th>\n",
       "      <td>124.65</td>\n",
       "    </tr>\n",
       "    <tr>\n",
       "      <th>2021-05-28 19:45:00</th>\n",
       "      <td>nan</td>\n",
       "    </tr>\n",
       "    <tr>\n",
       "      <th>2021-05-28 19:50:00</th>\n",
       "      <td>124.64</td>\n",
       "    </tr>\n",
       "    <tr>\n",
       "      <th>2021-05-28 19:55:00</th>\n",
       "      <td>124.63</td>\n",
       "    </tr>\n",
       "  </tbody>\n",
       "</table>\n",
       "<p>192 rows × 1 columns</p>\n",
       "</div>"
      ],
      "text/plain": [
       "                      close\n",
       "date                       \n",
       "2021-05-28 04:00:00  126.00\n",
       "2021-05-28 04:05:00  126.15\n",
       "2021-05-28 04:10:00     nan\n",
       "2021-05-28 04:15:00     nan\n",
       "2021-05-28 04:20:00     nan\n",
       "...                     ...\n",
       "2021-05-28 19:35:00  124.66\n",
       "2021-05-28 19:40:00  124.65\n",
       "2021-05-28 19:45:00     nan\n",
       "2021-05-28 19:50:00  124.64\n",
       "2021-05-28 19:55:00  124.63\n",
       "\n",
       "[192 rows x 1 columns]"
      ]
     },
     "execution_count": 36,
     "metadata": {},
     "output_type": "execute_result"
    }
   ],
   "source": [
    "d1.dropna(axis=1)"
   ]
  },
  {
   "cell_type": "code",
   "execution_count": 37,
   "id": "proof-destiny",
   "metadata": {
    "execution": {
     "iopub.execute_input": "2021-06-01T22:27:57.533082Z",
     "iopub.status.busy": "2021-06-01T22:27:57.532706Z",
     "iopub.status.idle": "2021-06-01T22:27:57.540113Z",
     "shell.execute_reply": "2021-06-01T22:27:57.538868Z",
     "shell.execute_reply.started": "2021-06-01T22:27:57.533047Z"
    },
    "tags": []
   },
   "outputs": [],
   "source": [
    "ser = pd.Series([1., 2., np.nan])"
   ]
  },
  {
   "cell_type": "code",
   "execution_count": 40,
   "id": "electrical-ireland",
   "metadata": {
    "execution": {
     "iopub.execute_input": "2021-06-01T22:32:19.212311Z",
     "iopub.status.busy": "2021-06-01T22:32:19.211950Z",
     "iopub.status.idle": "2021-06-01T22:32:19.220091Z",
     "shell.execute_reply": "2021-06-01T22:32:19.219207Z",
     "shell.execute_reply.started": "2021-06-01T22:32:19.212277Z"
    },
    "tags": []
   },
   "outputs": [
    {
     "data": {
      "text/plain": [
       "0    False\n",
       "1    False\n",
       "2    False\n",
       "dtype: bool"
      ]
     },
     "execution_count": 40,
     "metadata": {},
     "output_type": "execute_result"
    }
   ],
   "source": [
    "ser.isnull()"
   ]
  },
  {
   "cell_type": "code",
   "execution_count": 44,
   "id": "handmade-relationship",
   "metadata": {
    "execution": {
     "iopub.execute_input": "2021-06-01T22:34:09.314950Z",
     "iopub.status.busy": "2021-06-01T22:34:09.314592Z",
     "iopub.status.idle": "2021-06-01T22:34:09.324072Z",
     "shell.execute_reply": "2021-06-01T22:34:09.322916Z",
     "shell.execute_reply.started": "2021-06-01T22:34:09.314916Z"
    },
    "tags": []
   },
   "outputs": [
    {
     "data": {
      "text/plain": [
       "0    1.0\n",
       "1    2.0\n",
       "2    nan\n",
       "dtype: float64"
      ]
     },
     "execution_count": 44,
     "metadata": {},
     "output_type": "execute_result"
    }
   ],
   "source": [
    "ser.fillna(method='ffill')"
   ]
  },
  {
   "cell_type": "code",
   "execution_count": 45,
   "id": "applicable-penny",
   "metadata": {
    "execution": {
     "iopub.execute_input": "2021-06-01T22:36:28.717414Z",
     "iopub.status.busy": "2021-06-01T22:36:28.716808Z",
     "iopub.status.idle": "2021-06-01T22:36:28.727506Z",
     "shell.execute_reply": "2021-06-01T22:36:28.726517Z",
     "shell.execute_reply.started": "2021-06-01T22:36:28.717348Z"
    }
   },
   "outputs": [
    {
     "data": {
      "text/plain": [
       "0    False\n",
       "1    False\n",
       "2    False\n",
       "dtype: bool"
      ]
     },
     "execution_count": 45,
     "metadata": {},
     "output_type": "execute_result"
    }
   ],
   "source": [
    "pd.isna(ser)"
   ]
  },
  {
   "cell_type": "code",
   "execution_count": null,
   "id": "nervous-overhead",
   "metadata": {},
   "outputs": [],
   "source": []
  },
  {
   "cell_type": "code",
   "execution_count": null,
   "id": "single-radar",
   "metadata": {},
   "outputs": [],
   "source": []
  },
  {
   "cell_type": "code",
   "execution_count": 645,
   "id": "blocked-hamilton",
   "metadata": {
    "execution": {
     "iopub.execute_input": "2021-06-01T22:09:27.587006Z",
     "iopub.status.busy": "2021-06-01T22:09:27.586650Z",
     "iopub.status.idle": "2021-06-01T22:09:27.592759Z",
     "shell.execute_reply": "2021-06-01T22:09:27.591282Z",
     "shell.execute_reply.started": "2021-06-01T22:09:27.586972Z"
    }
   },
   "outputs": [],
   "source": []
  },
  {
   "cell_type": "code",
   "execution_count": 577,
   "id": "sexual-credits",
   "metadata": {
    "execution": {
     "iopub.execute_input": "2021-06-01T21:45:10.066293Z",
     "iopub.status.busy": "2021-06-01T21:45:10.065929Z",
     "iopub.status.idle": "2021-06-01T21:45:10.075058Z",
     "shell.execute_reply": "2021-06-01T21:45:10.073464Z",
     "shell.execute_reply.started": "2021-06-01T21:45:10.066259Z"
    },
    "tags": []
   },
   "outputs": [],
   "source": [
    "def plot_ts(df, features, date, window):\n",
    "    \n",
    "    date = pd.to_datetime(date)#.normalize()\n",
    "    df_origin    = df.loc[df.index.date == date,[features]]\n",
    "    df_roll_mean = df_origin.rolling(window).mean()\n",
    "    \n",
    "    return df_roll_mean"
   ]
  },
  {
   "cell_type": "code",
   "execution_count": 578,
   "id": "desperate-touch",
   "metadata": {
    "execution": {
     "iopub.execute_input": "2021-06-01T21:45:10.490176Z",
     "iopub.status.busy": "2021-06-01T21:45:10.489551Z",
     "iopub.status.idle": "2021-06-01T21:45:10.513313Z",
     "shell.execute_reply": "2021-06-01T21:45:10.512787Z",
     "shell.execute_reply.started": "2021-06-01T21:45:10.490110Z"
    },
    "tags": []
   },
   "outputs": [
    {
     "data": {
      "text/html": [
       "<div>\n",
       "<style scoped>\n",
       "    .dataframe tbody tr th:only-of-type {\n",
       "        vertical-align: middle;\n",
       "    }\n",
       "\n",
       "    .dataframe tbody tr th {\n",
       "        vertical-align: top;\n",
       "    }\n",
       "\n",
       "    .dataframe thead th {\n",
       "        text-align: right;\n",
       "    }\n",
       "</style>\n",
       "<table border=\"1\" class=\"dataframe\">\n",
       "  <thead>\n",
       "    <tr style=\"text-align: right;\">\n",
       "      <th></th>\n",
       "      <th>close</th>\n",
       "    </tr>\n",
       "    <tr>\n",
       "      <th>date</th>\n",
       "      <th></th>\n",
       "    </tr>\n",
       "  </thead>\n",
       "  <tbody>\n",
       "    <tr>\n",
       "      <th>2021-05-28 04:00:00</th>\n",
       "      <td>nan</td>\n",
       "    </tr>\n",
       "    <tr>\n",
       "      <th>2021-05-28 04:05:00</th>\n",
       "      <td>nan</td>\n",
       "    </tr>\n",
       "    <tr>\n",
       "      <th>2021-05-28 04:25:00</th>\n",
       "      <td>nan</td>\n",
       "    </tr>\n",
       "    <tr>\n",
       "      <th>2021-05-28 04:50:00</th>\n",
       "      <td>nan</td>\n",
       "    </tr>\n",
       "    <tr>\n",
       "      <th>2021-05-28 05:20:00</th>\n",
       "      <td>nan</td>\n",
       "    </tr>\n",
       "    <tr>\n",
       "      <th>...</th>\n",
       "      <td>...</td>\n",
       "    </tr>\n",
       "    <tr>\n",
       "      <th>2021-05-28 19:30:00</th>\n",
       "      <td>124.655714</td>\n",
       "    </tr>\n",
       "    <tr>\n",
       "      <th>2021-05-28 19:35:00</th>\n",
       "      <td>124.650000</td>\n",
       "    </tr>\n",
       "    <tr>\n",
       "      <th>2021-05-28 19:40:00</th>\n",
       "      <td>124.650000</td>\n",
       "    </tr>\n",
       "    <tr>\n",
       "      <th>2021-05-28 19:50:00</th>\n",
       "      <td>124.647143</td>\n",
       "    </tr>\n",
       "    <tr>\n",
       "      <th>2021-05-28 19:55:00</th>\n",
       "      <td>124.647143</td>\n",
       "    </tr>\n",
       "  </tbody>\n",
       "</table>\n",
       "<p>155 rows × 1 columns</p>\n",
       "</div>"
      ],
      "text/plain": [
       "                          close\n",
       "date                           \n",
       "2021-05-28 04:00:00         nan\n",
       "2021-05-28 04:05:00         nan\n",
       "2021-05-28 04:25:00         nan\n",
       "2021-05-28 04:50:00         nan\n",
       "2021-05-28 05:20:00         nan\n",
       "...                         ...\n",
       "2021-05-28 19:30:00  124.655714\n",
       "2021-05-28 19:35:00  124.650000\n",
       "2021-05-28 19:40:00  124.650000\n",
       "2021-05-28 19:50:00  124.647143\n",
       "2021-05-28 19:55:00  124.647143\n",
       "\n",
       "[155 rows x 1 columns]"
      ]
     },
     "execution_count": 578,
     "metadata": {},
     "output_type": "execute_result"
    }
   ],
   "source": [
    "plot_ts(aapl_5m_df, 'close', \"2021-05-28\", 7)"
   ]
  },
  {
   "cell_type": "code",
   "execution_count": null,
   "id": "theoretical-miniature",
   "metadata": {},
   "outputs": [],
   "source": []
  },
  {
   "cell_type": "code",
   "execution_count": null,
   "id": "bulgarian-symbol",
   "metadata": {},
   "outputs": [],
   "source": [
    "rm = apple_hist_df['close'].rolling(30).mean()\n",
    "rs = apple_hist_df['close'].rolling(30).std()\n",
    "\n",
    "#plot close price\n",
    "fig, ax = plt.subplots(figsize=(12,5))\n",
    "# plt.figure(figsize=(10,6))\n",
    "plt.grid(False)\n",
    "plt.xlabel('Dates')\n",
    "plt.ylabel('Close Prices')\n",
    "ax.set_title(\"Apple Closing Price\")\n",
    "plt.xticks(rotation=45)\n",
    "plt.plot(apple_hist_df['close'], color='b')\n",
    "plt.plot(rm, color='r')\n",
    "plt.plot(rs, color='g')\n",
    "plt.show()"
   ]
  }
 ],
 "metadata": {
  "kernelspec": {
   "display_name": "Python 3",
   "language": "python",
   "name": "python3"
  },
  "language_info": {
   "codemirror_mode": {
    "name": "ipython",
    "version": 3
   },
   "file_extension": ".py",
   "mimetype": "text/x-python",
   "name": "python",
   "nbconvert_exporter": "python",
   "pygments_lexer": "ipython3",
   "version": "3.8.8"
  }
 },
 "nbformat": 4,
 "nbformat_minor": 5
}
